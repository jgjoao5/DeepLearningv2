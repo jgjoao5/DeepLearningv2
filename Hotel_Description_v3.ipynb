{
  "cells": [
    {
      "cell_type": "markdown",
      "source": [
        "# 0. Pacotes"
      ],
      "metadata": {
        "id": "itFuoemW_9SQ"
      },
      "id": "itFuoemW_9SQ"
    },
    {
      "cell_type": "code",
      "source": [
        "from tensorflow.keras.preprocessing.sequence import pad_sequences\n",
        "from keras.layers import Embedding, LSTM, Dense, Dropout\n",
        "from keras.preprocessing.text import Tokenizer\n",
        "from keras.callbacks import EarlyStopping\n",
        "from keras.models import Sequential\n",
        "import keras.utils as ku \n",
        "import pandas as pd\n",
        "import numpy as np\n",
        "import string, os \n",
        "import warnings\n",
        "!pip install langdetect\n",
        "import langdetect\n",
        "!pip install transformers\n",
        "!pip install pytorch\n",
        "warnings.filterwarnings(\"ignore\")\n",
        "warnings.simplefilter(action='ignore', category=FutureWarning)\n",
        "import tensorflow as tf\n",
        "!pip install tabulate\n",
        "from tabulate import tabulate\n",
        "!pip install wordcloud\n",
        "from google.colab import drive\n",
        "drive.mount('/content/gdrive')"
      ],
      "metadata": {
        "id": "pFVQHq_c_2y8",
        "colab": {
          "base_uri": "https://localhost:8080/"
        },
        "outputId": "e647c165-928f-443f-8065-5325f135965d"
      },
      "id": "pFVQHq_c_2y8",
      "execution_count": 1,
      "outputs": [
        {
          "output_type": "stream",
          "name": "stdout",
          "text": [
            "Looking in indexes: https://pypi.org/simple, https://us-python.pkg.dev/colab-wheels/public/simple/\n",
            "Collecting langdetect\n",
            "  Downloading langdetect-1.0.9.tar.gz (981 kB)\n",
            "\u001b[2K     \u001b[90m━━━━━━━━━━━━━━━━━━━━━━━━━━━━━━━━━━━━━━\u001b[0m \u001b[32m981.5/981.5 kB\u001b[0m \u001b[31m28.7 MB/s\u001b[0m eta \u001b[36m0:00:00\u001b[0m\n",
            "\u001b[?25h  Preparing metadata (setup.py) ... \u001b[?25l\u001b[?25hdone\n",
            "Requirement already satisfied: six in /usr/local/lib/python3.10/dist-packages (from langdetect) (1.16.0)\n",
            "Building wheels for collected packages: langdetect\n",
            "  Building wheel for langdetect (setup.py) ... \u001b[?25l\u001b[?25hdone\n",
            "  Created wheel for langdetect: filename=langdetect-1.0.9-py3-none-any.whl size=993224 sha256=5b096a62d9dff6b70df5d9249fc4733971baa7ebb4b1710ed85eaf65dae25f3b\n",
            "  Stored in directory: /root/.cache/pip/wheels/95/03/7d/59ea870c70ce4e5a370638b5462a7711ab78fba2f655d05106\n",
            "Successfully built langdetect\n",
            "Installing collected packages: langdetect\n",
            "Successfully installed langdetect-1.0.9\n",
            "Looking in indexes: https://pypi.org/simple, https://us-python.pkg.dev/colab-wheels/public/simple/\n",
            "Collecting transformers\n",
            "  Downloading transformers-4.29.2-py3-none-any.whl (7.1 MB)\n",
            "\u001b[2K     \u001b[90m━━━━━━━━━━━━━━━━━━━━━━━━━━━━━━━━━━━━━━━━\u001b[0m \u001b[32m7.1/7.1 MB\u001b[0m \u001b[31m43.9 MB/s\u001b[0m eta \u001b[36m0:00:00\u001b[0m\n",
            "\u001b[?25hRequirement already satisfied: filelock in /usr/local/lib/python3.10/dist-packages (from transformers) (3.12.0)\n",
            "Collecting huggingface-hub<1.0,>=0.14.1 (from transformers)\n",
            "  Downloading huggingface_hub-0.14.1-py3-none-any.whl (224 kB)\n",
            "\u001b[2K     \u001b[90m━━━━━━━━━━━━━━━━━━━━━━━━━━━━━━━━━━━━━━\u001b[0m \u001b[32m224.5/224.5 kB\u001b[0m \u001b[31m28.9 MB/s\u001b[0m eta \u001b[36m0:00:00\u001b[0m\n",
            "\u001b[?25hRequirement already satisfied: numpy>=1.17 in /usr/local/lib/python3.10/dist-packages (from transformers) (1.22.4)\n",
            "Requirement already satisfied: packaging>=20.0 in /usr/local/lib/python3.10/dist-packages (from transformers) (23.1)\n",
            "Requirement already satisfied: pyyaml>=5.1 in /usr/local/lib/python3.10/dist-packages (from transformers) (6.0)\n",
            "Requirement already satisfied: regex!=2019.12.17 in /usr/local/lib/python3.10/dist-packages (from transformers) (2022.10.31)\n",
            "Requirement already satisfied: requests in /usr/local/lib/python3.10/dist-packages (from transformers) (2.27.1)\n",
            "Collecting tokenizers!=0.11.3,<0.14,>=0.11.1 (from transformers)\n",
            "  Downloading tokenizers-0.13.3-cp310-cp310-manylinux_2_17_x86_64.manylinux2014_x86_64.whl (7.8 MB)\n",
            "\u001b[2K     \u001b[90m━━━━━━━━━━━━━━━━━━━━━━━━━━━━━━━━━━━━━━━━\u001b[0m \u001b[32m7.8/7.8 MB\u001b[0m \u001b[31m41.0 MB/s\u001b[0m eta \u001b[36m0:00:00\u001b[0m\n",
            "\u001b[?25hRequirement already satisfied: tqdm>=4.27 in /usr/local/lib/python3.10/dist-packages (from transformers) (4.65.0)\n",
            "Requirement already satisfied: fsspec in /usr/local/lib/python3.10/dist-packages (from huggingface-hub<1.0,>=0.14.1->transformers) (2023.4.0)\n",
            "Requirement already satisfied: typing-extensions>=3.7.4.3 in /usr/local/lib/python3.10/dist-packages (from huggingface-hub<1.0,>=0.14.1->transformers) (4.5.0)\n",
            "Requirement already satisfied: urllib3<1.27,>=1.21.1 in /usr/local/lib/python3.10/dist-packages (from requests->transformers) (1.26.15)\n",
            "Requirement already satisfied: certifi>=2017.4.17 in /usr/local/lib/python3.10/dist-packages (from requests->transformers) (2022.12.7)\n",
            "Requirement already satisfied: charset-normalizer~=2.0.0 in /usr/local/lib/python3.10/dist-packages (from requests->transformers) (2.0.12)\n",
            "Requirement already satisfied: idna<4,>=2.5 in /usr/local/lib/python3.10/dist-packages (from requests->transformers) (3.4)\n",
            "Installing collected packages: tokenizers, huggingface-hub, transformers\n",
            "Successfully installed huggingface-hub-0.14.1 tokenizers-0.13.3 transformers-4.29.2\n",
            "Looking in indexes: https://pypi.org/simple, https://us-python.pkg.dev/colab-wheels/public/simple/\n",
            "Collecting pytorch\n",
            "  Downloading pytorch-1.0.2.tar.gz (689 bytes)\n",
            "  Preparing metadata (setup.py) ... \u001b[?25l\u001b[?25hdone\n",
            "Building wheels for collected packages: pytorch\n",
            "  \u001b[1;31merror\u001b[0m: \u001b[1msubprocess-exited-with-error\u001b[0m\n",
            "  \n",
            "  \u001b[31m×\u001b[0m \u001b[32mpython setup.py bdist_wheel\u001b[0m did not run successfully.\n",
            "  \u001b[31m│\u001b[0m exit code: \u001b[1;36m1\u001b[0m\n",
            "  \u001b[31m╰─>\u001b[0m See above for output.\n",
            "  \n",
            "  \u001b[1;35mnote\u001b[0m: This error originates from a subprocess, and is likely not a problem with pip.\n",
            "  Building wheel for pytorch (setup.py) ... \u001b[?25lerror\n",
            "\u001b[31m  ERROR: Failed building wheel for pytorch\u001b[0m\u001b[31m\n",
            "\u001b[0m\u001b[?25h  Running setup.py clean for pytorch\n",
            "Failed to build pytorch\n",
            "\u001b[31mERROR: Could not build wheels for pytorch, which is required to install pyproject.toml-based projects\u001b[0m\u001b[31m\n",
            "\u001b[0mLooking in indexes: https://pypi.org/simple, https://us-python.pkg.dev/colab-wheels/public/simple/\n",
            "Requirement already satisfied: tabulate in /usr/local/lib/python3.10/dist-packages (0.8.10)\n",
            "Looking in indexes: https://pypi.org/simple, https://us-python.pkg.dev/colab-wheels/public/simple/\n",
            "Requirement already satisfied: wordcloud in /usr/local/lib/python3.10/dist-packages (1.8.2.2)\n",
            "Requirement already satisfied: numpy>=1.6.1 in /usr/local/lib/python3.10/dist-packages (from wordcloud) (1.22.4)\n",
            "Requirement already satisfied: pillow in /usr/local/lib/python3.10/dist-packages (from wordcloud) (8.4.0)\n",
            "Requirement already satisfied: matplotlib in /usr/local/lib/python3.10/dist-packages (from wordcloud) (3.7.1)\n",
            "Requirement already satisfied: contourpy>=1.0.1 in /usr/local/lib/python3.10/dist-packages (from matplotlib->wordcloud) (1.0.7)\n",
            "Requirement already satisfied: cycler>=0.10 in /usr/local/lib/python3.10/dist-packages (from matplotlib->wordcloud) (0.11.0)\n",
            "Requirement already satisfied: fonttools>=4.22.0 in /usr/local/lib/python3.10/dist-packages (from matplotlib->wordcloud) (4.39.3)\n",
            "Requirement already satisfied: kiwisolver>=1.0.1 in /usr/local/lib/python3.10/dist-packages (from matplotlib->wordcloud) (1.4.4)\n",
            "Requirement already satisfied: packaging>=20.0 in /usr/local/lib/python3.10/dist-packages (from matplotlib->wordcloud) (23.1)\n",
            "Requirement already satisfied: pyparsing>=2.3.1 in /usr/local/lib/python3.10/dist-packages (from matplotlib->wordcloud) (3.0.9)\n",
            "Requirement already satisfied: python-dateutil>=2.7 in /usr/local/lib/python3.10/dist-packages (from matplotlib->wordcloud) (2.8.2)\n",
            "Requirement already satisfied: six>=1.5 in /usr/local/lib/python3.10/dist-packages (from python-dateutil>=2.7->matplotlib->wordcloud) (1.16.0)\n",
            "Mounted at /content/gdrive\n"
          ]
        }
      ]
    },
    {
      "cell_type": "markdown",
      "id": "2a4a9fa5-0056-4dfc-9b8a-ce756e330596",
      "metadata": {
        "tags": [],
        "id": "2a4a9fa5-0056-4dfc-9b8a-ce756e330596"
      },
      "source": [
        "# 1. Aplicando o modelo LSTM proposto no Artigo\n",
        "\n",
        "Artigo de Referência:\n",
        "\n",
        "https://towardsdatascience.com/automatically-generate-hotel-descriptions-with-lstm-afa37002d4fc"
      ]
    },
    {
      "cell_type": "code",
      "execution_count": null,
      "id": "5fed5624-270c-4488-bdea-2b1fd31067a5",
      "metadata": {
        "id": "5fed5624-270c-4488-bdea-2b1fd31067a5"
      },
      "outputs": [],
      "source": [
        "#Carreando a base\n",
        "hotel_df= pd.read_json('/content/gdrive/My Drive/Colab Notebooks/inventory_hotel_BR_pt.json')\n"
      ]
    },
    {
      "cell_type": "code",
      "execution_count": null,
      "id": "d59839ee-8b5c-45ad-bd89-7f4f9cc0b140",
      "metadata": {
        "colab": {
          "base_uri": "https://localhost:8080/",
          "height": 423
        },
        "id": "d59839ee-8b5c-45ad-bd89-7f4f9cc0b140",
        "outputId": "6af08d91-d849-42c5-dbd1-3e2fa71304f9"
      },
      "outputs": [
        {
          "output_type": "execute_result",
          "data": {
            "text/plain": [
              "                                          name  \\\n",
              "0             Best Western Hôtel New York Nice   \n",
              "1                        Comfort Inn Hyde Park   \n",
              "2      Best Western Plus Dayton Hotel & Suites   \n",
              "3    The Elizabeth Hotel, Autograph Collection   \n",
              "4                   Grand Mercure Vila Olímpia   \n",
              "..                                         ...   \n",
              "495                                      Kelta   \n",
              "496                        WorldMark Running Y   \n",
              "497                                Hotel Kirst   \n",
              "498                                    Motel 6   \n",
              "499                          Hanover 71 Suites   \n",
              "\n",
              "                                           description  \n",
              "0    Located in Nice's city center, Best Western Ho...  \n",
              "1    In London's Bayswater district, the Comfort In...  \n",
              "2    Breakfast is offered daily and rooms feature f...  \n",
              "3    The Elizabeth Hotel, Autograph Collection feat...  \n",
              "4    Localizado no coração de São Paulo, o Grand Me...  \n",
              "..                                                 ...  \n",
              "495  In the Hostería Kelta, located in the Province...  \n",
              "496  Offering an indoor swimming pool, this Klamath...  \n",
              "497  <h3>Localização Do Estabelecimento</h3>\\nCom u...  \n",
              "498  A short drive from beautiful beaches and easil...  \n",
              "499  Attractively located in the center of Edinburg...  \n",
              "\n",
              "[500 rows x 2 columns]"
            ],
            "text/html": [
              "\n",
              "  <div id=\"df-11eba680-1bc0-4ff9-89d4-8933ea2d0371\">\n",
              "    <div class=\"colab-df-container\">\n",
              "      <div>\n",
              "<style scoped>\n",
              "    .dataframe tbody tr th:only-of-type {\n",
              "        vertical-align: middle;\n",
              "    }\n",
              "\n",
              "    .dataframe tbody tr th {\n",
              "        vertical-align: top;\n",
              "    }\n",
              "\n",
              "    .dataframe thead th {\n",
              "        text-align: right;\n",
              "    }\n",
              "</style>\n",
              "<table border=\"1\" class=\"dataframe\">\n",
              "  <thead>\n",
              "    <tr style=\"text-align: right;\">\n",
              "      <th></th>\n",
              "      <th>name</th>\n",
              "      <th>description</th>\n",
              "    </tr>\n",
              "  </thead>\n",
              "  <tbody>\n",
              "    <tr>\n",
              "      <th>0</th>\n",
              "      <td>Best Western Hôtel New York Nice</td>\n",
              "      <td>Located in Nice's city center, Best Western Ho...</td>\n",
              "    </tr>\n",
              "    <tr>\n",
              "      <th>1</th>\n",
              "      <td>Comfort Inn Hyde Park</td>\n",
              "      <td>In London's Bayswater district, the Comfort In...</td>\n",
              "    </tr>\n",
              "    <tr>\n",
              "      <th>2</th>\n",
              "      <td>Best Western Plus Dayton Hotel &amp; Suites</td>\n",
              "      <td>Breakfast is offered daily and rooms feature f...</td>\n",
              "    </tr>\n",
              "    <tr>\n",
              "      <th>3</th>\n",
              "      <td>The Elizabeth Hotel, Autograph Collection</td>\n",
              "      <td>The Elizabeth Hotel, Autograph Collection feat...</td>\n",
              "    </tr>\n",
              "    <tr>\n",
              "      <th>4</th>\n",
              "      <td>Grand Mercure Vila Olímpia</td>\n",
              "      <td>Localizado no coração de São Paulo, o Grand Me...</td>\n",
              "    </tr>\n",
              "    <tr>\n",
              "      <th>...</th>\n",
              "      <td>...</td>\n",
              "      <td>...</td>\n",
              "    </tr>\n",
              "    <tr>\n",
              "      <th>495</th>\n",
              "      <td>Kelta</td>\n",
              "      <td>In the Hostería Kelta, located in the Province...</td>\n",
              "    </tr>\n",
              "    <tr>\n",
              "      <th>496</th>\n",
              "      <td>WorldMark Running Y</td>\n",
              "      <td>Offering an indoor swimming pool, this Klamath...</td>\n",
              "    </tr>\n",
              "    <tr>\n",
              "      <th>497</th>\n",
              "      <td>Hotel Kirst</td>\n",
              "      <td>&lt;h3&gt;Localização Do Estabelecimento&lt;/h3&gt;\\nCom u...</td>\n",
              "    </tr>\n",
              "    <tr>\n",
              "      <th>498</th>\n",
              "      <td>Motel 6</td>\n",
              "      <td>A short drive from beautiful beaches and easil...</td>\n",
              "    </tr>\n",
              "    <tr>\n",
              "      <th>499</th>\n",
              "      <td>Hanover 71 Suites</td>\n",
              "      <td>Attractively located in the center of Edinburg...</td>\n",
              "    </tr>\n",
              "  </tbody>\n",
              "</table>\n",
              "<p>500 rows × 2 columns</p>\n",
              "</div>\n",
              "      <button class=\"colab-df-convert\" onclick=\"convertToInteractive('df-11eba680-1bc0-4ff9-89d4-8933ea2d0371')\"\n",
              "              title=\"Convert this dataframe to an interactive table.\"\n",
              "              style=\"display:none;\">\n",
              "        \n",
              "  <svg xmlns=\"http://www.w3.org/2000/svg\" height=\"24px\"viewBox=\"0 0 24 24\"\n",
              "       width=\"24px\">\n",
              "    <path d=\"M0 0h24v24H0V0z\" fill=\"none\"/>\n",
              "    <path d=\"M18.56 5.44l.94 2.06.94-2.06 2.06-.94-2.06-.94-.94-2.06-.94 2.06-2.06.94zm-11 1L8.5 8.5l.94-2.06 2.06-.94-2.06-.94L8.5 2.5l-.94 2.06-2.06.94zm10 10l.94 2.06.94-2.06 2.06-.94-2.06-.94-.94-2.06-.94 2.06-2.06.94z\"/><path d=\"M17.41 7.96l-1.37-1.37c-.4-.4-.92-.59-1.43-.59-.52 0-1.04.2-1.43.59L10.3 9.45l-7.72 7.72c-.78.78-.78 2.05 0 2.83L4 21.41c.39.39.9.59 1.41.59.51 0 1.02-.2 1.41-.59l7.78-7.78 2.81-2.81c.8-.78.8-2.07 0-2.86zM5.41 20L4 18.59l7.72-7.72 1.47 1.35L5.41 20z\"/>\n",
              "  </svg>\n",
              "      </button>\n",
              "      \n",
              "  <style>\n",
              "    .colab-df-container {\n",
              "      display:flex;\n",
              "      flex-wrap:wrap;\n",
              "      gap: 12px;\n",
              "    }\n",
              "\n",
              "    .colab-df-convert {\n",
              "      background-color: #E8F0FE;\n",
              "      border: none;\n",
              "      border-radius: 50%;\n",
              "      cursor: pointer;\n",
              "      display: none;\n",
              "      fill: #1967D2;\n",
              "      height: 32px;\n",
              "      padding: 0 0 0 0;\n",
              "      width: 32px;\n",
              "    }\n",
              "\n",
              "    .colab-df-convert:hover {\n",
              "      background-color: #E2EBFA;\n",
              "      box-shadow: 0px 1px 2px rgba(60, 64, 67, 0.3), 0px 1px 3px 1px rgba(60, 64, 67, 0.15);\n",
              "      fill: #174EA6;\n",
              "    }\n",
              "\n",
              "    [theme=dark] .colab-df-convert {\n",
              "      background-color: #3B4455;\n",
              "      fill: #D2E3FC;\n",
              "    }\n",
              "\n",
              "    [theme=dark] .colab-df-convert:hover {\n",
              "      background-color: #434B5C;\n",
              "      box-shadow: 0px 1px 3px 1px rgba(0, 0, 0, 0.15);\n",
              "      filter: drop-shadow(0px 1px 2px rgba(0, 0, 0, 0.3));\n",
              "      fill: #FFFFFF;\n",
              "    }\n",
              "  </style>\n",
              "\n",
              "      <script>\n",
              "        const buttonEl =\n",
              "          document.querySelector('#df-11eba680-1bc0-4ff9-89d4-8933ea2d0371 button.colab-df-convert');\n",
              "        buttonEl.style.display =\n",
              "          google.colab.kernel.accessAllowed ? 'block' : 'none';\n",
              "\n",
              "        async function convertToInteractive(key) {\n",
              "          const element = document.querySelector('#df-11eba680-1bc0-4ff9-89d4-8933ea2d0371');\n",
              "          const dataTable =\n",
              "            await google.colab.kernel.invokeFunction('convertToInteractive',\n",
              "                                                     [key], {});\n",
              "          if (!dataTable) return;\n",
              "\n",
              "          const docLinkHtml = 'Like what you see? Visit the ' +\n",
              "            '<a target=\"_blank\" href=https://colab.research.google.com/notebooks/data_table.ipynb>data table notebook</a>'\n",
              "            + ' to learn more about interactive tables.';\n",
              "          element.innerHTML = '';\n",
              "          dataTable['output_type'] = 'display_data';\n",
              "          await google.colab.output.renderOutput(dataTable, element);\n",
              "          const docLink = document.createElement('div');\n",
              "          docLink.innerHTML = docLinkHtml;\n",
              "          element.appendChild(docLink);\n",
              "        }\n",
              "      </script>\n",
              "    </div>\n",
              "  </div>\n",
              "  "
            ]
          },
          "metadata": {},
          "execution_count": 124
        }
      ],
      "source": [
        "#Manipulando a base para diminuir o numero de linhas e trabalhar apenas com as colunas necessárias \n",
        "hotel_df = hotel_df[['name','description']]\n",
        "hotel_df = hotel_df[0:500]\n",
        "all_descriptions = list(hotel_df['description'].values)\n",
        "\n",
        "hotel_df"
      ]
    },
    {
      "cell_type": "code",
      "execution_count": null,
      "id": "c8ec6138-8dd3-4d34-8ce1-78393e4a19fa",
      "metadata": {
        "colab": {
          "base_uri": "https://localhost:8080/"
        },
        "id": "c8ec6138-8dd3-4d34-8ce1-78393e4a19fa",
        "outputId": "7c03fabf-a84a-41e0-c29f-51f799574c37"
      },
      "outputs": [
        {
          "output_type": "execute_result",
          "data": {
            "text/plain": [
              "(500, 2)"
            ]
          },
          "metadata": {},
          "execution_count": 8
        }
      ],
      "source": [
        "hotel_df.shape\n"
      ]
    },
    {
      "cell_type": "code",
      "execution_count": null,
      "id": "fb70c33b-03be-43a6-a6a2-afa833cdf906",
      "metadata": {
        "colab": {
          "base_uri": "https://localhost:8080/"
        },
        "id": "fb70c33b-03be-43a6-a6a2-afa833cdf906",
        "outputId": "05fb60fc-9428-47cc-df49-5ea537fd5857"
      },
      "outputs": [
        {
          "output_type": "execute_result",
          "data": {
            "text/plain": [
              "[\"Located in Nice's city center, Best Western Hotel Lakmi Nice is located on Avenue Jean Medecin, Nice's main shopping street which leads to Place Massena. It is next to Nice Etoile Shopping Center and is just 1969 feet from Nice- Ville Train Station. Each spacious air-conditioned guest room has a flat- screen TV and a private bathroom fitted with a hairdryer. Some of the soundproofed rooms feature wrought iron furniture and some rooms offer a balcony. WiFi access is available throughout the hotel. A buffet breakfast is served every morning in the breakfast room at the Best Western Hotel Lakmi Nice. Newspapers are available for guests and there is also a bar on site. The Promenade des Anglais is a 13-minute walk from the hotel and Vieux Nice, the historic district, is a 15-minute walk away. Six private parking spaces are available on site at an additional cost, which cannot be booked in advance. ((* Sorry, this information is not available in the selected language and is shown in EN).\"]"
            ]
          },
          "metadata": {},
          "execution_count": 125
        }
      ],
      "source": [
        "#Exemplo da descrção de um dos hoteis da base.\n",
        "corpus = [x for x in all_descriptions]\n",
        "corpus[:1]\n"
      ]
    },
    {
      "cell_type": "code",
      "execution_count": null,
      "id": "db96c732-fdbc-4afa-9cfc-922258dd1f7e",
      "metadata": {
        "id": "db96c732-fdbc-4afa-9cfc-922258dd1f7e"
      },
      "outputs": [],
      "source": [
        "#Padronizando os textos(aplicação de letra minuscula,retirada de caracteres especiais) \n",
        "#levantamento de contagem de palavras e recorrência \n",
        "\n",
        "t = Tokenizer(num_words=None, filters='!\"#$%&()*+,-./:;<=>?@[\\\\]^_`{|}~\\t\\n', lower=True, split=' ', char_level=False, oov_token=None, document_count=0)\n",
        "t.fit_on_texts(corpus)"
      ]
    },
    {
      "cell_type": "code",
      "execution_count": null,
      "id": "0e275489-b573-4198-a1fa-4ac8e3988243",
      "metadata": {
        "jupyter": {
          "outputs_hidden": true
        },
        "tags": [],
        "id": "0e275489-b573-4198-a1fa-4ac8e3988243",
        "colab": {
          "base_uri": "https://localhost:8080/"
        },
        "outputId": "513e078f-5b65-4030-9e8b-3ba42210130d"
      },
      "outputs": [
        {
          "output_type": "stream",
          "name": "stdout",
          "text": [
            "top30 palavras mais recorrentes:\n",
            "the: 2940\n",
            "and: 2931\n",
            "a: 2585\n",
            "is: 2203\n",
            "in: 1800\n",
            "de: 1308\n",
            "hotel: 994\n",
            "mi: 942\n",
            "of: 853\n",
            "km: 847\n",
            "this: 771\n",
            "with: 758\n",
            "from: 730\n",
            "available: 718\n",
            "at: 638\n",
            "e: 597\n",
            "1: 591\n",
            "br: 580\n",
            "as: 544\n",
            "to: 517\n",
            "are: 515\n",
            "rooms: 505\n",
            "free: 495\n",
            "2: 474\n",
            "0: 444\n",
            "not: 435\n",
            "en: 433\n",
            "information: 430\n",
            "selected: 430\n",
            "language: 422\n"
          ]
        }
      ],
      "source": [
        "from collections import OrderedDict\n",
        "# A dictionary of words and their counts.\n",
        "word_counts = t.word_counts\n",
        "sorted_words = OrderedDict(sorted(word_counts.items(), key=lambda x: x[1], reverse=True))\n",
        "top_30_words = list(sorted_words.items())[:30]\n",
        "print(\"top30 palavras mais recorrentes:\")\n",
        "for word, count in top_30_words:\n",
        "    print(f\"{word}: {count}\")\n",
        "\n",
        "\n",
        "#print(t.word_counts.sorted())\n",
        "\n",
        "# A dictionary of words and how many documents each appeared in.\n",
        "#print(t.word_docs)\n",
        "\n",
        "# An integer count of the total number of documents that were used to fit the Tokenizer (i.e. total number of documents)\n",
        "#print(t.document_count)\n",
        "\n",
        "# A dictionary of words and their uniquely assigned integers.\n",
        "#print(t.word_index)"
      ]
    },
    {
      "cell_type": "code",
      "execution_count": null,
      "id": "f589841c-38ac-41a2-8e19-2eecd3b444e1",
      "metadata": {
        "jupyter": {
          "outputs_hidden": true
        },
        "tags": [],
        "id": "f589841c-38ac-41a2-8e19-2eecd3b444e1"
      },
      "outputs": [],
      "source": [
        "!pip install --upgrade pip\n",
        "\n",
        "!pip install --upgrade Pillow"
      ]
    },
    {
      "cell_type": "code",
      "execution_count": null,
      "id": "6a718018-faa2-4fc9-83f5-9c72856731e1",
      "metadata": {
        "colab": {
          "base_uri": "https://localhost:8080/",
          "height": 422
        },
        "id": "6a718018-faa2-4fc9-83f5-9c72856731e1",
        "outputId": "29155165-40cd-4775-8c52-be4906e6571f"
      },
      "outputs": [
        {
          "output_type": "display_data",
          "data": {
            "text/plain": [
              "<Figure size 1000x500 with 1 Axes>"
            ],
            "image/png": "[encoded data removed]"
          },
          "metadata": {}
        }
      ],
      "source": [
        "import matplotlib.pyplot as plt\n",
        "from wordcloud import WordCloud\n",
        "\n",
        "word_counts = t.word_counts\n",
        "\n",
        "# Criar um dicionário de palavras para a nuvem\n",
        "wordcloud_dict = {word: count for word, count in list(sorted_words.items())[:50]}\n",
        "\n",
        "# Criar a nuvem de palavras\n",
        "wordcloud = WordCloud(width=800, height=400, background_color='white').generate_from_frequencies(wordcloud_dict)\n",
        "\n",
        "# Plotar a nuvem de palavras\n",
        "plt.figure(figsize=(10, 5))\n",
        "plt.imshow(wordcloud, interpolation='bilinear')\n",
        "plt.axis('off')\n",
        "plt.show()\n"
      ]
    },
    {
      "cell_type": "code",
      "execution_count": null,
      "id": "234fda62-fc5d-43cf-abda-fe051848f96e",
      "metadata": {
        "id": "234fda62-fc5d-43cf-abda-fe051848f96e",
        "outputId": "0d8b957d-9589-4460-9962-a7a2f34e83b1"
      },
      "outputs": [
        {
          "name": "stdout",
          "output_type": "stream",
          "text": [
            "Found 7553 unique tokens.\n"
          ]
        }
      ],
      "source": [
        "print('Found %s unique tokens.' % len(t.word_index))"
      ]
    },
    {
      "cell_type": "markdown",
      "id": "90231070-4b66-4302-a353-73d457c5c422",
      "metadata": {
        "id": "90231070-4b66-4302-a353-73d457c5c422"
      },
      "source": [
        "Tokenization: Padronizando os textos(aplicação de letra minuscula,retirada de caracteres especiais)\n",
        "- Remoção de pontuação e caracteres especiais.\n",
        "- Textos em sequências de palavras separadas por espaço em letras minúsculas.\n",
        "- Divisão das sequencias em tokens.\n",
        "- char_level=False : cada palavra será tratada como um token diferente de caractere.\n",
        "- As listas de tokens são indexadas e vetorizadas.\n"
      ]
    },
    {
      "cell_type": "code",
      "execution_count": null,
      "id": "e3dc5436-7629-43ba-9758-e0588a64667b",
      "metadata": {
        "id": "e3dc5436-7629-43ba-9758-e0588a64667b"
      },
      "outputs": [],
      "source": [
        "# Tokenization\n",
        "t = Tokenizer(num_words=None, filters='!\"#$%&()*+,-./:;<=>?@[\\\\]^_`{|}~\\t\\n', lower=True, split=' ', char_level=False, oov_token=None, document_count=0)\n",
        "\n",
        "def get_sequence_of_tokens(corpus):\n",
        "    t.fit_on_texts(corpus)\n",
        "    total_words = len(t.word_index) + 1\n",
        "    \n",
        "    input_sequences = []\n",
        "    for line in corpus:\n",
        "        token_list = t.texts_to_sequences([line])[0]\n",
        "        for i in range(1, len(token_list)):\n",
        "            n_gram_sequence = token_list[:i+1]\n",
        "            input_sequences.append(n_gram_sequence)\n",
        "            \n",
        "    return input_sequences, total_words"
      ]
    },
    {
      "cell_type": "code",
      "execution_count": null,
      "id": "1656b3ce-9473-41f0-855f-7da4ed880a93",
      "metadata": {
        "id": "1656b3ce-9473-41f0-855f-7da4ed880a93"
      },
      "outputs": [],
      "source": [
        "input_sequences, total_words = get_sequence_of_tokens(corpus)\n"
      ]
    },
    {
      "cell_type": "markdown",
      "id": "eae5adba-c924-454c-b7b7-6dac945650fe",
      "metadata": {
        "id": "eae5adba-c924-454c-b7b7-6dac945650fe"
      },
      "source": [
        "As frases passam a ser representadas por números."
      ]
    },
    {
      "cell_type": "markdown",
      "id": "d34639cc-04b1-413d-8ef4-e876757f8a5c",
      "metadata": {
        "id": "d34639cc-04b1-413d-8ef4-e876757f8a5c"
      },
      "source": [
        "\"Located(45) in Nice's city center, Best Western Hotel Lakmi Nice is located(45) on Avenue Jean Medecin\" é representado pela sequencia abaixo:"
      ]
    },
    {
      "cell_type": "code",
      "execution_count": null,
      "id": "6a40b8d7-5075-49cc-88c3-cf48fad2f937",
      "metadata": {
        "id": "6a40b8d7-5075-49cc-88c3-cf48fad2f937",
        "outputId": "b28acb26-3cb6-47d7-fb81-471730f1731e"
      },
      "outputs": [
        {
          "data": {
            "text/plain": [
              "[[45, 5],\n",
              " [45, 5, 2698],\n",
              " [45, 5, 2698, 94],\n",
              " [45, 5, 2698, 94, 33],\n",
              " [45, 5, 2698, 94, 33, 279],\n",
              " [45, 5, 2698, 94, 33, 279, 343],\n",
              " [45, 5, 2698, 94, 33, 279, 343, 7],\n",
              " [45, 5, 2698, 94, 33, 279, 343, 7, 2699],\n",
              " [45, 5, 2698, 94, 33, 279, 343, 7, 2699, 1337],\n",
              " [45, 5, 2698, 94, 33, 279, 343, 7, 2699, 1337, 4],\n",
              " [45, 5, 2698, 94, 33, 279, 343, 7, 2699, 1337, 4, 45],\n",
              " [45, 5, 2698, 94, 33, 279, 343, 7, 2699, 1337, 4, 45, 43],\n",
              " [45, 5, 2698, 94, 33, 279, 343, 7, 2699, 1337, 4, 45, 43, 1338],\n",
              " [45, 5, 2698, 94, 33, 279, 343, 7, 2699, 1337, 4, 45, 43, 1338, 3870],\n",
              " [45, 5, 2698, 94, 33, 279, 343, 7, 2699, 1337, 4, 45, 43, 1338, 3870, 3871]]"
            ]
          },
          "execution_count": 49,
          "metadata": {},
          "output_type": "execute_result"
        }
      ],
      "source": [
        "input_sequences[:15]"
      ]
    },
    {
      "cell_type": "code",
      "execution_count": null,
      "id": "8d7ba2b8-227b-4a28-b8f6-b4ebc8c5c686",
      "metadata": {
        "id": "8d7ba2b8-227b-4a28-b8f6-b4ebc8c5c686",
        "outputId": "9749768c-eba7-4d65-da2d-ff8881373754"
      },
      "outputs": [
        {
          "data": {
            "text/plain": [
              "[\"Located in Nice's city center, Best Western Hotel Lakmi Nice is located on Avenue Jean Medecin, Nice's main shopping street which leads to Place Massena. It is next to Nice Etoile Shopping Center and is just 1969 feet from Nice- Ville Train Station. Each spacious air-conditioned guest room has a flat- screen TV and a private bathroom fitted with a hairdryer. Some of the soundproofed rooms feature wrought iron furniture and some rooms offer a balcony. WiFi access is available throughout the hotel. A buffet breakfast is served every morning in the breakfast room at the Best Western Hotel Lakmi Nice. Newspapers are available for guests and there is also a bar on site. The Promenade des Anglais is a 13-minute walk from the hotel and Vieux Nice, the historic district, is a 15-minute walk away. Six private parking spaces are available on site at an additional cost, which cannot be booked in advance. ((* Sorry, this information is not available in the selected language and is shown in EN).\"]"
            ]
          },
          "execution_count": 48,
          "metadata": {},
          "output_type": "execute_result"
        }
      ],
      "source": [
        "corpus[:1]"
      ]
    },
    {
      "cell_type": "code",
      "execution_count": null,
      "id": "b97bf274-e644-46b8-b246-a5d7a5660b39",
      "metadata": {
        "id": "b97bf274-e644-46b8-b246-a5d7a5660b39",
        "outputId": "7852a6f3-b8bf-4453-c750-0c1b9e767abe"
      },
      "outputs": [
        {
          "data": {
            "text/plain": [
              "7554"
            ]
          },
          "execution_count": 53,
          "metadata": {},
          "output_type": "execute_result"
        }
      ],
      "source": [
        "total_words"
      ]
    },
    {
      "cell_type": "markdown",
      "id": "987b1103-6e77-4255-87da-28eef8beef51",
      "metadata": {
        "id": "987b1103-6e77-4255-87da-28eef8beef51"
      },
      "source": [
        "Deixando as sequences com o mesmo comprimento, transformando numeros inteiros em uma matriz 2D (num_samples,maxlen)"
      ]
    },
    {
      "cell_type": "code",
      "execution_count": null,
      "id": "9be0e937-77a9-44ac-810f-62adcb2f7723",
      "metadata": {
        "id": "9be0e937-77a9-44ac-810f-62adcb2f7723"
      },
      "outputs": [],
      "source": [
        "# pad sequences \n",
        "def generate_padded_sequences(input_sequences):\n",
        "    max_sequence_len = max([len(x) for x in input_sequences])\n",
        "    input_sequences = np.array(pad_sequences(input_sequences, maxlen = max_sequence_len, padding = 'pre'))\n",
        "    predictors, label = input_sequences[:,:-1],input_sequences[:,-1]\n",
        "    label = ku.to_categorical(label, num_classes = total_words)\n",
        "    \n",
        "    return predictors, label, max_sequence_len\n",
        "\n",
        "predictors, label, max_sequence_len = generate_padded_sequences(input_sequences)"
      ]
    },
    {
      "cell_type": "markdown",
      "id": "6bfb3280-6767-4057-a3d3-afbd5275ff40",
      "metadata": {
        "id": "6bfb3280-6767-4057-a3d3-afbd5275ff40"
      },
      "source": [
        "Criando o Modelo:\n",
        "- Modelo LSTM com 100 unidades de memória\n",
        "- Dropout com probalidade de 10.\n",
        "- Problema de classificação de palavra com 7553 classes.\n",
        "- Camada de saída Dense com ativação em softmax.\n",
        "- Uso de otimização ADAM para velocidade"
      ]
    },
    {
      "cell_type": "code",
      "execution_count": null,
      "id": "80f1667d-39b0-4e9f-aadc-734a1ffd238f",
      "metadata": {
        "id": "80f1667d-39b0-4e9f-aadc-734a1ffd238f",
        "outputId": "111ce24f-e6dc-478c-c86c-11a34131e836"
      },
      "outputs": [
        {
          "name": "stdout",
          "output_type": "stream",
          "text": [
            "Model: \"sequential\"\n",
            "_________________________________________________________________\n",
            " Layer (type)                Output Shape              Param #   \n",
            "=================================================================\n",
            " embedding (Embedding)       (None, 727, 10)           75540     \n",
            "                                                                 \n",
            " lstm (LSTM)                 (None, 100)               44400     \n",
            "                                                                 \n",
            " dropout (Dropout)           (None, 100)               0         \n",
            "                                                                 \n",
            " dense (Dense)               (None, 7554)              762954    \n",
            "                                                                 \n",
            "=================================================================\n",
            "Total params: 882,894\n",
            "Trainable params: 882,894\n",
            "Non-trainable params: 0\n",
            "_________________________________________________________________\n"
          ]
        }
      ],
      "source": [
        "def create_model(max_sequence_len, total_words):\n",
        "    model = Sequential()\n",
        "    \n",
        "    # Add Input Embedding Layer\n",
        "    model.add(Embedding(total_words, 10, input_length=max_sequence_len - 1))\n",
        "    \n",
        "    # Add Hidden Layer 1 - LSTM Layer\n",
        "    model.add(LSTM(100))\n",
        "    model.add(Dropout(0.1))\n",
        "    \n",
        "    # Add Output Layer\n",
        "    model.add(Dense(total_words, activation='softmax'))\n",
        "\n",
        "    model.compile(loss='categorical_crossentropy', optimizer='adam')\n",
        "    \n",
        "    return model\n",
        "\n",
        "model = create_model(max_sequence_len, total_words)\n",
        "model.summary()"
      ]
    },
    {
      "cell_type": "code",
      "execution_count": null,
      "id": "47fc0133-f247-40aa-8044-08c4edefa55d",
      "metadata": {
        "id": "47fc0133-f247-40aa-8044-08c4edefa55d",
        "outputId": "cc986352-f24d-4d2a-c2a3-0ce9d3d33da9"
      },
      "outputs": [
        {
          "name": "stdout",
          "output_type": "stream",
          "text": [
            "Epoch 1/10\n",
            "Epoch 2/10\n",
            "Epoch 3/10\n",
            "Epoch 4/10\n",
            "Epoch 5/10\n",
            "Epoch 6/10\n",
            "Epoch 7/10\n",
            "Epoch 8/10\n",
            "Epoch 9/10\n",
            "Epoch 10/10\n"
          ]
        },
        {
          "data": {
            "text/plain": [
              "<keras.callbacks.History at 0x166f4f57310>"
            ]
          },
          "execution_count": 56,
          "metadata": {},
          "output_type": "execute_result"
        }
      ],
      "source": [
        "model.fit(predictors, label, epochs=10, verbose=5)"
      ]
    },
    {
      "cell_type": "code",
      "execution_count": null,
      "id": "0c1d3338-6c89-4c6b-a131-156f9853ec9c",
      "metadata": {
        "id": "0c1d3338-6c89-4c6b-a131-156f9853ec9c"
      },
      "outputs": [],
      "source": [
        "def generate_text(seed_text, next_words, model, max_seq_len):\n",
        "    for _ in range(next_words):\n",
        "        token_list = t.texts_to_sequences([seed_text])[0]\n",
        "        token_list = pad_sequences([token_list], maxlen=max_seq_len-1, padding='pre')\n",
        "        \n",
        "        #predicted = model.predict_classes(token_list, verbose=0)\n",
        "        predicted = np.argmax(model.predict(token_list, verbose=0), axis=-1)\n",
        "        output_word = ''\n",
        "        \n",
        "        for word,index in t.word_index.items():\n",
        "            if index == predicted:\n",
        "                output_word = word\n",
        "                break\n",
        "                \n",
        "        seed_text = seed_text + \" \" + output_word\n",
        "        \n",
        "    return seed_text.title()"
      ]
    },
    {
      "cell_type": "code",
      "execution_count": null,
      "id": "92ebeeda-e359-47f2-91dd-66b3221c4a5f",
      "metadata": {
        "id": "92ebeeda-e359-47f2-91dd-66b3221c4a5f",
        "outputId": "5f5ecca4-a10d-4ac2-c83a-660dfad305c4"
      },
      "outputs": [
        {
          "name": "stdout",
          "output_type": "stream",
          "text": [
            "Hilton Seattle Downtown Hotel Is Located In The Heart Of The Historic Of The Hotel In The Heart Of The Heart Of The Heart Of The Hotel The Hotel Is Within Walking Distance Of The Hotel And The Beach Of The Hotel The Hotel Is Within Walking Distance Of The Hotel And The Hotel Is Just Minutes Away From The Hotel And The Hotel Is A Short Drive Away The Hotel Is A Short Drive Away And A Variety Of The Hotel The Hotel Offers A Variety Of The Hotel In The Hotel In The Hotel In The Heart Of The Heart Of\n"
          ]
        }
      ],
      "source": [
        "print(generate_text(\"hilton seattle downtown\", 100, model, max_sequence_len))\n"
      ]
    },
    {
      "cell_type": "code",
      "execution_count": null,
      "id": "d2c73b94-43ab-4932-be33-311d2fe5e3b3",
      "metadata": {
        "id": "d2c73b94-43ab-4932-be33-311d2fe5e3b3",
        "outputId": "5bde2eb5-bc70-45a5-88c3-b79d97370eb5"
      },
      "outputs": [
        {
          "name": "stdout",
          "output_type": "stream",
          "text": [
            "Holiday Inn Express - New York City, City-Center Hotel, Walk To Madison Square Garden By Wyndham Wapakoneta Is A Short Drive From The Beach Of The Beach The Hotel Is Just A Short Drive From The Hotel And The Beach Of The City Of The Hotel The Hotel Is Just Close From The Historic Of The The Conditioned And The Hotel The Hotel Is Just Minutes From The Historic Of The Hotel The Hotel Is Within Walking Distance Of The Hotel The Hotel Is Just A Short Drive Away And A Variety Of The Hotel The Hotel Offers A Variety Of The Hotel In The Hotel In The Hotel In The Hotel In The\n"
          ]
        }
      ],
      "source": [
        "print(generate_text(\"Holiday Inn Express - New York City, City-center hotel, walk to Madison Square Garden\", 100, model, max_sequence_len))"
      ]
    },
    {
      "cell_type": "code",
      "execution_count": null,
      "id": "bf086394-7385-48eb-b8c6-9a0253fabe00",
      "metadata": {
        "id": "bf086394-7385-48eb-b8c6-9a0253fabe00"
      },
      "outputs": [],
      "source": []
    },
    {
      "cell_type": "code",
      "execution_count": null,
      "id": "ba24d3c5-bf3b-48e4-ac66-26ff2dee0ef5",
      "metadata": {
        "id": "ba24d3c5-bf3b-48e4-ac66-26ff2dee0ef5"
      },
      "outputs": [],
      "source": []
    },
    {
      "cell_type": "code",
      "execution_count": null,
      "id": "3ea47249-7e5d-464e-8691-45a26dc45e56",
      "metadata": {
        "id": "3ea47249-7e5d-464e-8691-45a26dc45e56"
      },
      "outputs": [],
      "source": []
    },
    {
      "cell_type": "markdown",
      "id": "f8ab2e75-77e4-4dc3-8e88-606702deef0e",
      "metadata": {
        "tags": [],
        "id": "f8ab2e75-77e4-4dc3-8e88-606702deef0e"
      },
      "source": [
        "# 2. - Classificando as descrições por idioma\n"
      ]
    },
    {
      "cell_type": "markdown",
      "source": [
        "### 2.1 Apenas descrições em português"
      ],
      "metadata": {
        "id": "pdn09aKVRWKs"
      },
      "id": "pdn09aKVRWKs"
    },
    {
      "cell_type": "markdown",
      "id": "c597906a-9c9b-4c5f-911e-62d80c80f470",
      "metadata": {
        "id": "c597906a-9c9b-4c5f-911e-62d80c80f470"
      },
      "source": [
        "- Identificação do idioma das descrições, visando otimizar o modelo.\n",
        "- Utilização da Descrição curta e aumanto das camadas de teste."
      ]
    },
    {
      "cell_type": "code",
      "execution_count": 2,
      "id": "0530f596-ed2b-45f6-8eae-b5dc6754848b",
      "metadata": {
        "id": "0530f596-ed2b-45f6-8eae-b5dc6754848b"
      },
      "outputs": [],
      "source": [
        "data = pd.read_json('/content/gdrive/My Drive/Colab Notebooks/inventory_hotel_BR_pt.json')\n",
        "data = data[['short_description','description']]\n"
      ]
    },
    {
      "cell_type": "code",
      "execution_count": 3,
      "id": "ab0a37dc-3540-4f22-8ecb-da4708645aeb",
      "metadata": {
        "colab": {
          "base_uri": "https://localhost:8080/",
          "height": 423
        },
        "id": "ab0a37dc-3540-4f22-8ecb-da4708645aeb",
        "outputId": "a57d5213-629c-4177-ce9b-0d551ca4823d"
      },
      "outputs": [
        {
          "output_type": "execute_result",
          "data": {
            "text/plain": [
              "                                        short_description  \\\n",
              "0       Nice, France. ((* Sorry, this information is n...   \n",
              "1       Notting Hill - Paddington Station Area. ((* So...   \n",
              "2       Há várias opções de lazer e entretenimento ao ...   \n",
              "3       Fort Collins North. ((* Sorry, this informatio...   \n",
              "4       Localizado no coração de São Paulo, o Grand Me...   \n",
              "...                                                   ...   \n",
              "101873  Haines City. ((* Sorry, this information is no...   \n",
              "101874  Hotel Mi Colombia is a central hotel, ideal fo...   \n",
              "101875  Vouliagmeni. ((* Sorry, this information is no...   \n",
              "101876  Property Location : Located in Marmaris, Umut ...   \n",
              "101877  Monroe. ((* Sorry, this information is not ava...   \n",
              "\n",
              "                                              description idioma  \n",
              "0       Located in Nice's city center, Best Western Ho...     en  \n",
              "1       In London's Bayswater district, the Comfort In...     en  \n",
              "2       Breakfast is offered daily and rooms feature f...     en  \n",
              "3       The Elizabeth Hotel, Autograph Collection feat...     en  \n",
              "4       Localizado no coração de São Paulo, o Grand Me...     pt  \n",
              "...                                                   ...    ...  \n",
              "101873  The Rodeway Inn & Suites hotel is a 15 minutes...     en  \n",
              "101874  Hotel Mi Colombia is a central hotel, ideal fo...     en  \n",
              "101875  Located in the exclusive area of Vouliagmeni, ...     en  \n",
              "101876  Property Location : Located in Marmaris, Umut ...     en  \n",
              "101877  This hotel is located 7 minutes from downtown ...     en  \n",
              "\n",
              "[101878 rows x 3 columns]"
            ],
            "text/html": [
              "\n",
              "  <div id=\"df-822f5d78-0021-483e-9675-dfbdf497492a\">\n",
              "    <div class=\"colab-df-container\">\n",
              "      <div>\n",
              "<style scoped>\n",
              "    .dataframe tbody tr th:only-of-type {\n",
              "        vertical-align: middle;\n",
              "    }\n",
              "\n",
              "    .dataframe tbody tr th {\n",
              "        vertical-align: top;\n",
              "    }\n",
              "\n",
              "    .dataframe thead th {\n",
              "        text-align: right;\n",
              "    }\n",
              "</style>\n",
              "<table border=\"1\" class=\"dataframe\">\n",
              "  <thead>\n",
              "    <tr style=\"text-align: right;\">\n",
              "      <th></th>\n",
              "      <th>short_description</th>\n",
              "      <th>description</th>\n",
              "      <th>idioma</th>\n",
              "    </tr>\n",
              "  </thead>\n",
              "  <tbody>\n",
              "    <tr>\n",
              "      <th>0</th>\n",
              "      <td>Nice, France. ((* Sorry, this information is n...</td>\n",
              "      <td>Located in Nice's city center, Best Western Ho...</td>\n",
              "      <td>en</td>\n",
              "    </tr>\n",
              "    <tr>\n",
              "      <th>1</th>\n",
              "      <td>Notting Hill - Paddington Station Area. ((* So...</td>\n",
              "      <td>In London's Bayswater district, the Comfort In...</td>\n",
              "      <td>en</td>\n",
              "    </tr>\n",
              "    <tr>\n",
              "      <th>2</th>\n",
              "      <td>Há várias opções de lazer e entretenimento ao ...</td>\n",
              "      <td>Breakfast is offered daily and rooms feature f...</td>\n",
              "      <td>en</td>\n",
              "    </tr>\n",
              "    <tr>\n",
              "      <th>3</th>\n",
              "      <td>Fort Collins North. ((* Sorry, this informatio...</td>\n",
              "      <td>The Elizabeth Hotel, Autograph Collection feat...</td>\n",
              "      <td>en</td>\n",
              "    </tr>\n",
              "    <tr>\n",
              "      <th>4</th>\n",
              "      <td>Localizado no coração de São Paulo, o Grand Me...</td>\n",
              "      <td>Localizado no coração de São Paulo, o Grand Me...</td>\n",
              "      <td>pt</td>\n",
              "    </tr>\n",
              "    <tr>\n",
              "      <th>...</th>\n",
              "      <td>...</td>\n",
              "      <td>...</td>\n",
              "      <td>...</td>\n",
              "    </tr>\n",
              "    <tr>\n",
              "      <th>101873</th>\n",
              "      <td>Haines City. ((* Sorry, this information is no...</td>\n",
              "      <td>The Rodeway Inn &amp; Suites hotel is a 15 minutes...</td>\n",
              "      <td>en</td>\n",
              "    </tr>\n",
              "    <tr>\n",
              "      <th>101874</th>\n",
              "      <td>Hotel Mi Colombia is a central hotel, ideal fo...</td>\n",
              "      <td>Hotel Mi Colombia is a central hotel, ideal fo...</td>\n",
              "      <td>en</td>\n",
              "    </tr>\n",
              "    <tr>\n",
              "      <th>101875</th>\n",
              "      <td>Vouliagmeni. ((* Sorry, this information is no...</td>\n",
              "      <td>Located in the exclusive area of Vouliagmeni, ...</td>\n",
              "      <td>en</td>\n",
              "    </tr>\n",
              "    <tr>\n",
              "      <th>101876</th>\n",
              "      <td>Property Location : Located in Marmaris, Umut ...</td>\n",
              "      <td>Property Location : Located in Marmaris, Umut ...</td>\n",
              "      <td>en</td>\n",
              "    </tr>\n",
              "    <tr>\n",
              "      <th>101877</th>\n",
              "      <td>Monroe. ((* Sorry, this information is not ava...</td>\n",
              "      <td>This hotel is located 7 minutes from downtown ...</td>\n",
              "      <td>en</td>\n",
              "    </tr>\n",
              "  </tbody>\n",
              "</table>\n",
              "<p>101878 rows × 3 columns</p>\n",
              "</div>\n",
              "      <button class=\"colab-df-convert\" onclick=\"convertToInteractive('df-822f5d78-0021-483e-9675-dfbdf497492a')\"\n",
              "              title=\"Convert this dataframe to an interactive table.\"\n",
              "              style=\"display:none;\">\n",
              "        \n",
              "  <svg xmlns=\"http://www.w3.org/2000/svg\" height=\"24px\"viewBox=\"0 0 24 24\"\n",
              "       width=\"24px\">\n",
              "    <path d=\"M0 0h24v24H0V0z\" fill=\"none\"/>\n",
              "    <path d=\"M18.56 5.44l.94 2.06.94-2.06 2.06-.94-2.06-.94-.94-2.06-.94 2.06-2.06.94zm-11 1L8.5 8.5l.94-2.06 2.06-.94-2.06-.94L8.5 2.5l-.94 2.06-2.06.94zm10 10l.94 2.06.94-2.06 2.06-.94-2.06-.94-.94-2.06-.94 2.06-2.06.94z\"/><path d=\"M17.41 7.96l-1.37-1.37c-.4-.4-.92-.59-1.43-.59-.52 0-1.04.2-1.43.59L10.3 9.45l-7.72 7.72c-.78.78-.78 2.05 0 2.83L4 21.41c.39.39.9.59 1.41.59.51 0 1.02-.2 1.41-.59l7.78-7.78 2.81-2.81c.8-.78.8-2.07 0-2.86zM5.41 20L4 18.59l7.72-7.72 1.47 1.35L5.41 20z\"/>\n",
              "  </svg>\n",
              "      </button>\n",
              "      \n",
              "  <style>\n",
              "    .colab-df-container {\n",
              "      display:flex;\n",
              "      flex-wrap:wrap;\n",
              "      gap: 12px;\n",
              "    }\n",
              "\n",
              "    .colab-df-convert {\n",
              "      background-color: #E8F0FE;\n",
              "      border: none;\n",
              "      border-radius: 50%;\n",
              "      cursor: pointer;\n",
              "      display: none;\n",
              "      fill: #1967D2;\n",
              "      height: 32px;\n",
              "      padding: 0 0 0 0;\n",
              "      width: 32px;\n",
              "    }\n",
              "\n",
              "    .colab-df-convert:hover {\n",
              "      background-color: #E2EBFA;\n",
              "      box-shadow: 0px 1px 2px rgba(60, 64, 67, 0.3), 0px 1px 3px 1px rgba(60, 64, 67, 0.15);\n",
              "      fill: #174EA6;\n",
              "    }\n",
              "\n",
              "    [theme=dark] .colab-df-convert {\n",
              "      background-color: #3B4455;\n",
              "      fill: #D2E3FC;\n",
              "    }\n",
              "\n",
              "    [theme=dark] .colab-df-convert:hover {\n",
              "      background-color: #434B5C;\n",
              "      box-shadow: 0px 1px 3px 1px rgba(0, 0, 0, 0.15);\n",
              "      filter: drop-shadow(0px 1px 2px rgba(0, 0, 0, 0.3));\n",
              "      fill: #FFFFFF;\n",
              "    }\n",
              "  </style>\n",
              "\n",
              "      <script>\n",
              "        const buttonEl =\n",
              "          document.querySelector('#df-822f5d78-0021-483e-9675-dfbdf497492a button.colab-df-convert');\n",
              "        buttonEl.style.display =\n",
              "          google.colab.kernel.accessAllowed ? 'block' : 'none';\n",
              "\n",
              "        async function convertToInteractive(key) {\n",
              "          const element = document.querySelector('#df-822f5d78-0021-483e-9675-dfbdf497492a');\n",
              "          const dataTable =\n",
              "            await google.colab.kernel.invokeFunction('convertToInteractive',\n",
              "                                                     [key], {});\n",
              "          if (!dataTable) return;\n",
              "\n",
              "          const docLinkHtml = 'Like what you see? Visit the ' +\n",
              "            '<a target=\"_blank\" href=https://colab.research.google.com/notebooks/data_table.ipynb>data table notebook</a>'\n",
              "            + ' to learn more about interactive tables.';\n",
              "          element.innerHTML = '';\n",
              "          dataTable['output_type'] = 'display_data';\n",
              "          await google.colab.output.renderOutput(dataTable, element);\n",
              "          const docLink = document.createElement('div');\n",
              "          docLink.innerHTML = docLinkHtml;\n",
              "          element.appendChild(docLink);\n",
              "        }\n",
              "      </script>\n",
              "    </div>\n",
              "  </div>\n",
              "  "
            ]
          },
          "metadata": {},
          "execution_count": 3
        }
      ],
      "source": [
        "data['idioma'] = ''\n",
        "\n",
        "\n",
        "for i in range(len(data['description'])):\n",
        "    description = str(data['description'][i])\n",
        "    if description.strip() and len(description) > 3:\n",
        "        data.at[i, 'idioma'] = langdetect.detect(description)\n",
        "    else:\n",
        "        data.at[i, 'idioma'] = 'Desconhecido'\n",
        "\n",
        "data"
      ]
    },
    {
      "cell_type": "code",
      "execution_count": null,
      "id": "44f52e31-10a5-4ee5-b1c9-882eded981a5",
      "metadata": {
        "id": "44f52e31-10a5-4ee5-b1c9-882eded981a5",
        "outputId": "eaeed82f-228f-4bd2-f61b-7c76d3ddc6c0",
        "colab": {
          "base_uri": "https://localhost:8080/"
        }
      },
      "outputs": [
        {
          "output_type": "stream",
          "name": "stdout",
          "text": [
            "╒════╤══════════════╤════════════╤══════════════╕\n",
            "│    │ Nome         │   Contagem │   Percentual │\n",
            "╞════╪══════════════╪════════════╪══════════════╡\n",
            "│  0 │ en           │      88574 │         86.9 │\n",
            "├────┼──────────────┼────────────┼──────────────┤\n",
            "│  1 │ pt           │      12568 │         12.3 │\n",
            "├────┼──────────────┼────────────┼──────────────┤\n",
            "│  2 │ es           │        344 │          0.3 │\n",
            "├────┼──────────────┼────────────┼──────────────┤\n",
            "│  3 │ Desconhecido │        303 │          0.3 │\n",
            "├────┼──────────────┼────────────┼──────────────┤\n",
            "│  4 │ tr           │         41 │          0   │\n",
            "├────┼──────────────┼────────────┼──────────────┤\n",
            "│  5 │ ro           │         25 │          0   │\n",
            "├────┼──────────────┼────────────┼──────────────┤\n",
            "│  6 │ fr           │         11 │          0   │\n",
            "├────┼──────────────┼────────────┼──────────────┤\n",
            "│  7 │ de           │          4 │          0   │\n",
            "├────┼──────────────┼────────────┼──────────────┤\n",
            "│  8 │ ca           │          3 │          0   │\n",
            "├────┼──────────────┼────────────┼──────────────┤\n",
            "│  9 │ it           │          2 │          0   │\n",
            "├────┼──────────────┼────────────┼──────────────┤\n",
            "│ 10 │ th           │          1 │          0   │\n",
            "├────┼──────────────┼────────────┼──────────────┤\n",
            "│ 11 │ hr           │          1 │          0   │\n",
            "├────┼──────────────┼────────────┼──────────────┤\n",
            "│ 12 │ id           │          1 │          0   │\n",
            "╘════╧══════════════╧════════════╧══════════════╛\n"
          ]
        }
      ],
      "source": [
        "name_counts = data['idioma'].value_counts()\n",
        "name_counts_df = pd.DataFrame({'Nome': name_counts.index, 'Contagem': name_counts.values})\n",
        "total = name_counts_df['Contagem'].sum()\n",
        "name_counts_df['Percentual'] = (name_counts_df['Contagem'] / total * 100).round(1)\n",
        "table = tabulate(name_counts_df, headers='keys', tablefmt='fancy_grid')\n",
        "print(table)"
      ]
    },
    {
      "cell_type": "code",
      "execution_count": null,
      "id": "3e55a69b-a712-4ebd-b159-20c20d398647",
      "metadata": {
        "id": "3e55a69b-a712-4ebd-b159-20c20d398647"
      },
      "outputs": [],
      "source": [
        "hotelBR_df= data[data['idioma']=='pt']\n",
        "hotelBR_df.reset_index(inplace = True)\n",
        "hotelBR_df = hotelBR_df[0:300]"
      ]
    },
    {
      "cell_type": "code",
      "execution_count": null,
      "id": "db85b904-68dd-424b-ac8c-8ede4187fa21",
      "metadata": {
        "id": "db85b904-68dd-424b-ac8c-8ede4187fa21",
        "outputId": "7a65f283-3389-4e12-ae7b-a6c1f9f9c36c",
        "colab": {
          "base_uri": "https://localhost:8080/",
          "height": 423
        }
      },
      "outputs": [
        {
          "output_type": "execute_result",
          "data": {
            "text/plain": [
              "     index                                  short_description  \\\n",
              "0        4  Localizado no coração de São Paulo, o Grand Me...   \n",
              "1        8  Com uma estadia Candiland Apartment em Semaran...   \n",
              "2       10  Deleite-se com uma ida ao spa, que oferece mas...   \n",
              "3       21  Este agradável hotel encontra-se em Norco Area...   \n",
              "4       24  Em Chetumal, Hotel Mexico ficará a 2 minuto(s)...   \n",
              "..     ...                                                ...   \n",
              "295   2192  Estilo e conforto completam as 172 acomodações...   \n",
              "296   2195  Contemple fantásticas vistas a partir da açote...   \n",
              "297   2222  Algumas das comodidades e serviços em destaque...   \n",
              "298   2235  Participe nas várias atividades recreativas do...   \n",
              "299   2253                    Disney's All-Star Music Resort.   \n",
              "\n",
              "                                           description idioma  \n",
              "0    Localizado no coração de São Paulo, o Grand Me...     pt  \n",
              "1    <h3>Localização Do Estabelecimento</h3>\\nCom u...     pt  \n",
              "2    <h3>Localização Do Estabelecimento</h3>\\nEm La...     pt  \n",
              "3    Não perca as atividades de recreação, como uma...     pt  \n",
              "4    <h3>Localização Do Estabelecimento</h3>\\nEm Ch...     pt  \n",
              "..                                                 ...    ...  \n",
              "295  Estilo e conforto completam as 172 acomodações...     pt  \n",
              "296  Aprecie a vista em um terraço e um jardim e ap...     pt  \n",
              "297  Aproveite a conveniência de comodidades, como ...     pt  \n",
              "298  Participe nas várias atividades recreativas do...     pt  \n",
              "299  \"No Disney’s All-Star Music Resort a temática,...     pt  \n",
              "\n",
              "[300 rows x 4 columns]"
            ],
            "text/html": [
              "\n",
              "  <div id=\"df-5965f81b-941a-4bc5-8c5a-dbefdbd7b732\">\n",
              "    <div class=\"colab-df-container\">\n",
              "      <div>\n",
              "<style scoped>\n",
              "    .dataframe tbody tr th:only-of-type {\n",
              "        vertical-align: middle;\n",
              "    }\n",
              "\n",
              "    .dataframe tbody tr th {\n",
              "        vertical-align: top;\n",
              "    }\n",
              "\n",
              "    .dataframe thead th {\n",
              "        text-align: right;\n",
              "    }\n",
              "</style>\n",
              "<table border=\"1\" class=\"dataframe\">\n",
              "  <thead>\n",
              "    <tr style=\"text-align: right;\">\n",
              "      <th></th>\n",
              "      <th>index</th>\n",
              "      <th>short_description</th>\n",
              "      <th>description</th>\n",
              "      <th>idioma</th>\n",
              "    </tr>\n",
              "  </thead>\n",
              "  <tbody>\n",
              "    <tr>\n",
              "      <th>0</th>\n",
              "      <td>4</td>\n",
              "      <td>Localizado no coração de São Paulo, o Grand Me...</td>\n",
              "      <td>Localizado no coração de São Paulo, o Grand Me...</td>\n",
              "      <td>pt</td>\n",
              "    </tr>\n",
              "    <tr>\n",
              "      <th>1</th>\n",
              "      <td>8</td>\n",
              "      <td>Com uma estadia Candiland Apartment em Semaran...</td>\n",
              "      <td>&lt;h3&gt;Localização Do Estabelecimento&lt;/h3&gt;\\nCom u...</td>\n",
              "      <td>pt</td>\n",
              "    </tr>\n",
              "    <tr>\n",
              "      <th>2</th>\n",
              "      <td>10</td>\n",
              "      <td>Deleite-se com uma ida ao spa, que oferece mas...</td>\n",
              "      <td>&lt;h3&gt;Localização Do Estabelecimento&lt;/h3&gt;\\nEm La...</td>\n",
              "      <td>pt</td>\n",
              "    </tr>\n",
              "    <tr>\n",
              "      <th>3</th>\n",
              "      <td>21</td>\n",
              "      <td>Este agradável hotel encontra-se em Norco Area...</td>\n",
              "      <td>Não perca as atividades de recreação, como uma...</td>\n",
              "      <td>pt</td>\n",
              "    </tr>\n",
              "    <tr>\n",
              "      <th>4</th>\n",
              "      <td>24</td>\n",
              "      <td>Em Chetumal, Hotel Mexico ficará a 2 minuto(s)...</td>\n",
              "      <td>&lt;h3&gt;Localização Do Estabelecimento&lt;/h3&gt;\\nEm Ch...</td>\n",
              "      <td>pt</td>\n",
              "    </tr>\n",
              "    <tr>\n",
              "      <th>...</th>\n",
              "      <td>...</td>\n",
              "      <td>...</td>\n",
              "      <td>...</td>\n",
              "      <td>...</td>\n",
              "    </tr>\n",
              "    <tr>\n",
              "      <th>295</th>\n",
              "      <td>2192</td>\n",
              "      <td>Estilo e conforto completam as 172 acomodações...</td>\n",
              "      <td>Estilo e conforto completam as 172 acomodações...</td>\n",
              "      <td>pt</td>\n",
              "    </tr>\n",
              "    <tr>\n",
              "      <th>296</th>\n",
              "      <td>2195</td>\n",
              "      <td>Contemple fantásticas vistas a partir da açote...</td>\n",
              "      <td>Aprecie a vista em um terraço e um jardim e ap...</td>\n",
              "      <td>pt</td>\n",
              "    </tr>\n",
              "    <tr>\n",
              "      <th>297</th>\n",
              "      <td>2222</td>\n",
              "      <td>Algumas das comodidades e serviços em destaque...</td>\n",
              "      <td>Aproveite a conveniência de comodidades, como ...</td>\n",
              "      <td>pt</td>\n",
              "    </tr>\n",
              "    <tr>\n",
              "      <th>298</th>\n",
              "      <td>2235</td>\n",
              "      <td>Participe nas várias atividades recreativas do...</td>\n",
              "      <td>Participe nas várias atividades recreativas do...</td>\n",
              "      <td>pt</td>\n",
              "    </tr>\n",
              "    <tr>\n",
              "      <th>299</th>\n",
              "      <td>2253</td>\n",
              "      <td>Disney's All-Star Music Resort.</td>\n",
              "      <td>\"No Disney’s All-Star Music Resort a temática,...</td>\n",
              "      <td>pt</td>\n",
              "    </tr>\n",
              "  </tbody>\n",
              "</table>\n",
              "<p>300 rows × 4 columns</p>\n",
              "</div>\n",
              "      <button class=\"colab-df-convert\" onclick=\"convertToInteractive('df-5965f81b-941a-4bc5-8c5a-dbefdbd7b732')\"\n",
              "              title=\"Convert this dataframe to an interactive table.\"\n",
              "              style=\"display:none;\">\n",
              "        \n",
              "  <svg xmlns=\"http://www.w3.org/2000/svg\" height=\"24px\"viewBox=\"0 0 24 24\"\n",
              "       width=\"24px\">\n",
              "    <path d=\"M0 0h24v24H0V0z\" fill=\"none\"/>\n",
              "    <path d=\"M18.56 5.44l.94 2.06.94-2.06 2.06-.94-2.06-.94-.94-2.06-.94 2.06-2.06.94zm-11 1L8.5 8.5l.94-2.06 2.06-.94-2.06-.94L8.5 2.5l-.94 2.06-2.06.94zm10 10l.94 2.06.94-2.06 2.06-.94-2.06-.94-.94-2.06-.94 2.06-2.06.94z\"/><path d=\"M17.41 7.96l-1.37-1.37c-.4-.4-.92-.59-1.43-.59-.52 0-1.04.2-1.43.59L10.3 9.45l-7.72 7.72c-.78.78-.78 2.05 0 2.83L4 21.41c.39.39.9.59 1.41.59.51 0 1.02-.2 1.41-.59l7.78-7.78 2.81-2.81c.8-.78.8-2.07 0-2.86zM5.41 20L4 18.59l7.72-7.72 1.47 1.35L5.41 20z\"/>\n",
              "  </svg>\n",
              "      </button>\n",
              "      \n",
              "  <style>\n",
              "    .colab-df-container {\n",
              "      display:flex;\n",
              "      flex-wrap:wrap;\n",
              "      gap: 12px;\n",
              "    }\n",
              "\n",
              "    .colab-df-convert {\n",
              "      background-color: #E8F0FE;\n",
              "      border: none;\n",
              "      border-radius: 50%;\n",
              "      cursor: pointer;\n",
              "      display: none;\n",
              "      fill: #1967D2;\n",
              "      height: 32px;\n",
              "      padding: 0 0 0 0;\n",
              "      width: 32px;\n",
              "    }\n",
              "\n",
              "    .colab-df-convert:hover {\n",
              "      background-color: #E2EBFA;\n",
              "      box-shadow: 0px 1px 2px rgba(60, 64, 67, 0.3), 0px 1px 3px 1px rgba(60, 64, 67, 0.15);\n",
              "      fill: #174EA6;\n",
              "    }\n",
              "\n",
              "    [theme=dark] .colab-df-convert {\n",
              "      background-color: #3B4455;\n",
              "      fill: #D2E3FC;\n",
              "    }\n",
              "\n",
              "    [theme=dark] .colab-df-convert:hover {\n",
              "      background-color: #434B5C;\n",
              "      box-shadow: 0px 1px 3px 1px rgba(0, 0, 0, 0.15);\n",
              "      filter: drop-shadow(0px 1px 2px rgba(0, 0, 0, 0.3));\n",
              "      fill: #FFFFFF;\n",
              "    }\n",
              "  </style>\n",
              "\n",
              "      <script>\n",
              "        const buttonEl =\n",
              "          document.querySelector('#df-5965f81b-941a-4bc5-8c5a-dbefdbd7b732 button.colab-df-convert');\n",
              "        buttonEl.style.display =\n",
              "          google.colab.kernel.accessAllowed ? 'block' : 'none';\n",
              "\n",
              "        async function convertToInteractive(key) {\n",
              "          const element = document.querySelector('#df-5965f81b-941a-4bc5-8c5a-dbefdbd7b732');\n",
              "          const dataTable =\n",
              "            await google.colab.kernel.invokeFunction('convertToInteractive',\n",
              "                                                     [key], {});\n",
              "          if (!dataTable) return;\n",
              "\n",
              "          const docLinkHtml = 'Like what you see? Visit the ' +\n",
              "            '<a target=\"_blank\" href=https://colab.research.google.com/notebooks/data_table.ipynb>data table notebook</a>'\n",
              "            + ' to learn more about interactive tables.';\n",
              "          element.innerHTML = '';\n",
              "          dataTable['output_type'] = 'display_data';\n",
              "          await google.colab.output.renderOutput(dataTable, element);\n",
              "          const docLink = document.createElement('div');\n",
              "          docLink.innerHTML = docLinkHtml;\n",
              "          element.appendChild(docLink);\n",
              "        }\n",
              "      </script>\n",
              "    </div>\n",
              "  </div>\n",
              "  "
            ]
          },
          "metadata": {},
          "execution_count": 28
        }
      ],
      "source": [
        "hotelBR_df"
      ]
    },
    {
      "cell_type": "code",
      "execution_count": null,
      "id": "59811359-b50c-4222-a900-7c0fd8367b9d",
      "metadata": {
        "id": "59811359-b50c-4222-a900-7c0fd8367b9d",
        "outputId": "55fabd79-b737-480a-a2cb-42456e1c552c",
        "colab": {
          "base_uri": "https://localhost:8080/",
          "height": 300
        }
      },
      "outputs": [
        {
          "output_type": "execute_result",
          "data": {
            "text/plain": [
              "             index\n",
              "count   300.000000\n",
              "mean   1111.026667\n",
              "std     673.133783\n",
              "min       4.000000\n",
              "25%     524.500000\n",
              "50%    1135.500000\n",
              "75%    1676.000000\n",
              "max    2253.000000"
            ],
            "text/html": [
              "\n",
              "  <div id=\"df-11040046-8315-4b2a-b288-1a0e826ff986\">\n",
              "    <div class=\"colab-df-container\">\n",
              "      <div>\n",
              "<style scoped>\n",
              "    .dataframe tbody tr th:only-of-type {\n",
              "        vertical-align: middle;\n",
              "    }\n",
              "\n",
              "    .dataframe tbody tr th {\n",
              "        vertical-align: top;\n",
              "    }\n",
              "\n",
              "    .dataframe thead th {\n",
              "        text-align: right;\n",
              "    }\n",
              "</style>\n",
              "<table border=\"1\" class=\"dataframe\">\n",
              "  <thead>\n",
              "    <tr style=\"text-align: right;\">\n",
              "      <th></th>\n",
              "      <th>index</th>\n",
              "    </tr>\n",
              "  </thead>\n",
              "  <tbody>\n",
              "    <tr>\n",
              "      <th>count</th>\n",
              "      <td>300.000000</td>\n",
              "    </tr>\n",
              "    <tr>\n",
              "      <th>mean</th>\n",
              "      <td>1111.026667</td>\n",
              "    </tr>\n",
              "    <tr>\n",
              "      <th>std</th>\n",
              "      <td>673.133783</td>\n",
              "    </tr>\n",
              "    <tr>\n",
              "      <th>min</th>\n",
              "      <td>4.000000</td>\n",
              "    </tr>\n",
              "    <tr>\n",
              "      <th>25%</th>\n",
              "      <td>524.500000</td>\n",
              "    </tr>\n",
              "    <tr>\n",
              "      <th>50%</th>\n",
              "      <td>1135.500000</td>\n",
              "    </tr>\n",
              "    <tr>\n",
              "      <th>75%</th>\n",
              "      <td>1676.000000</td>\n",
              "    </tr>\n",
              "    <tr>\n",
              "      <th>max</th>\n",
              "      <td>2253.000000</td>\n",
              "    </tr>\n",
              "  </tbody>\n",
              "</table>\n",
              "</div>\n",
              "      <button class=\"colab-df-convert\" onclick=\"convertToInteractive('df-11040046-8315-4b2a-b288-1a0e826ff986')\"\n",
              "              title=\"Convert this dataframe to an interactive table.\"\n",
              "              style=\"display:none;\">\n",
              "        \n",
              "  <svg xmlns=\"http://www.w3.org/2000/svg\" height=\"24px\"viewBox=\"0 0 24 24\"\n",
              "       width=\"24px\">\n",
              "    <path d=\"M0 0h24v24H0V0z\" fill=\"none\"/>\n",
              "    <path d=\"M18.56 5.44l.94 2.06.94-2.06 2.06-.94-2.06-.94-.94-2.06-.94 2.06-2.06.94zm-11 1L8.5 8.5l.94-2.06 2.06-.94-2.06-.94L8.5 2.5l-.94 2.06-2.06.94zm10 10l.94 2.06.94-2.06 2.06-.94-2.06-.94-.94-2.06-.94 2.06-2.06.94z\"/><path d=\"M17.41 7.96l-1.37-1.37c-.4-.4-.92-.59-1.43-.59-.52 0-1.04.2-1.43.59L10.3 9.45l-7.72 7.72c-.78.78-.78 2.05 0 2.83L4 21.41c.39.39.9.59 1.41.59.51 0 1.02-.2 1.41-.59l7.78-7.78 2.81-2.81c.8-.78.8-2.07 0-2.86zM5.41 20L4 18.59l7.72-7.72 1.47 1.35L5.41 20z\"/>\n",
              "  </svg>\n",
              "      </button>\n",
              "      \n",
              "  <style>\n",
              "    .colab-df-container {\n",
              "      display:flex;\n",
              "      flex-wrap:wrap;\n",
              "      gap: 12px;\n",
              "    }\n",
              "\n",
              "    .colab-df-convert {\n",
              "      background-color: #E8F0FE;\n",
              "      border: none;\n",
              "      border-radius: 50%;\n",
              "      cursor: pointer;\n",
              "      display: none;\n",
              "      fill: #1967D2;\n",
              "      height: 32px;\n",
              "      padding: 0 0 0 0;\n",
              "      width: 32px;\n",
              "    }\n",
              "\n",
              "    .colab-df-convert:hover {\n",
              "      background-color: #E2EBFA;\n",
              "      box-shadow: 0px 1px 2px rgba(60, 64, 67, 0.3), 0px 1px 3px 1px rgba(60, 64, 67, 0.15);\n",
              "      fill: #174EA6;\n",
              "    }\n",
              "\n",
              "    [theme=dark] .colab-df-convert {\n",
              "      background-color: #3B4455;\n",
              "      fill: #D2E3FC;\n",
              "    }\n",
              "\n",
              "    [theme=dark] .colab-df-convert:hover {\n",
              "      background-color: #434B5C;\n",
              "      box-shadow: 0px 1px 3px 1px rgba(0, 0, 0, 0.15);\n",
              "      filter: drop-shadow(0px 1px 2px rgba(0, 0, 0, 0.3));\n",
              "      fill: #FFFFFF;\n",
              "    }\n",
              "  </style>\n",
              "\n",
              "      <script>\n",
              "        const buttonEl =\n",
              "          document.querySelector('#df-11040046-8315-4b2a-b288-1a0e826ff986 button.colab-df-convert');\n",
              "        buttonEl.style.display =\n",
              "          google.colab.kernel.accessAllowed ? 'block' : 'none';\n",
              "\n",
              "        async function convertToInteractive(key) {\n",
              "          const element = document.querySelector('#df-11040046-8315-4b2a-b288-1a0e826ff986');\n",
              "          const dataTable =\n",
              "            await google.colab.kernel.invokeFunction('convertToInteractive',\n",
              "                                                     [key], {});\n",
              "          if (!dataTable) return;\n",
              "\n",
              "          const docLinkHtml = 'Like what you see? Visit the ' +\n",
              "            '<a target=\"_blank\" href=https://colab.research.google.com/notebooks/data_table.ipynb>data table notebook</a>'\n",
              "            + ' to learn more about interactive tables.';\n",
              "          element.innerHTML = '';\n",
              "          dataTable['output_type'] = 'display_data';\n",
              "          await google.colab.output.renderOutput(dataTable, element);\n",
              "          const docLink = document.createElement('div');\n",
              "          docLink.innerHTML = docLinkHtml;\n",
              "          element.appendChild(docLink);\n",
              "        }\n",
              "      </script>\n",
              "    </div>\n",
              "  </div>\n",
              "  "
            ]
          },
          "metadata": {},
          "execution_count": 29
        }
      ],
      "source": [
        "all_descriptionsBR = list(hotelBR_df['short_description'].values)\n",
        "\n",
        "hotelBR_df.describe()"
      ]
    },
    {
      "cell_type": "code",
      "execution_count": null,
      "id": "449c0233-b602-4d0b-bf73-bf69955f9b19",
      "metadata": {
        "id": "449c0233-b602-4d0b-bf73-bf69955f9b19",
        "outputId": "e7031b3d-c5e9-403a-81cb-6686e7e767ec",
        "colab": {
          "base_uri": "https://localhost:8080/"
        }
      },
      "outputs": [
        {
          "output_type": "execute_result",
          "data": {
            "text/plain": [
              "Index(['index', 'short_description', 'description', 'idioma'], dtype='object')"
            ]
          },
          "metadata": {},
          "execution_count": 30
        }
      ],
      "source": [
        "hotelBR_df.columns"
      ]
    },
    {
      "cell_type": "code",
      "execution_count": null,
      "id": "eccdc651-ae63-48e6-8160-c17941cc206d",
      "metadata": {
        "id": "eccdc651-ae63-48e6-8160-c17941cc206d"
      },
      "outputs": [],
      "source": [
        "#hotelBR_df[['name','price_currency','possible_integrators','description','short_description','small_description']]"
      ]
    },
    {
      "cell_type": "code",
      "execution_count": null,
      "id": "9b74a625-9511-4a62-a835-dd94b3c413b5",
      "metadata": {
        "id": "9b74a625-9511-4a62-a835-dd94b3c413b5",
        "outputId": "7c6cbf4f-7b2a-4a1a-fa26-88fb476f13c7",
        "colab": {
          "base_uri": "https://localhost:8080/"
        }
      },
      "outputs": [
        {
          "output_type": "execute_result",
          "data": {
            "text/plain": [
              "['Localizado no coração de São Paulo, o Grand Mercure SP Vila Olimpia (ex Caesar Business) está próximo a grandes centros financeiros e importantes empresas. Por perto, há também excelentes bares e restaurantes, shoppings e variados locais de entreteni']"
            ]
          },
          "metadata": {},
          "execution_count": 31
        }
      ],
      "source": [
        "corpusBR = [x for x in all_descriptionsBR]\n",
        "corpusBR[:1]\n"
      ]
    },
    {
      "cell_type": "code",
      "execution_count": null,
      "id": "bee74eac-057e-4190-b161-bd97c69d0cd0",
      "metadata": {
        "id": "bee74eac-057e-4190-b161-bd97c69d0cd0"
      },
      "outputs": [],
      "source": [
        "tBR = Tokenizer(num_words=None, filters='!\"#$%&()*+,-./:;<=>?@[\\\\]^_`{|}~\\t\\n', lower=True, split=' ', char_level=False, oov_token=None, document_count=0)\n",
        "tBR.fit_on_texts(corpusBR)"
      ]
    },
    {
      "cell_type": "code",
      "execution_count": null,
      "id": "32e9b56f-3572-4c48-a5a4-28a43bd7d061",
      "metadata": {
        "jupyter": {
          "outputs_hidden": true
        },
        "tags": [],
        "id": "32e9b56f-3572-4c48-a5a4-28a43bd7d061",
        "outputId": "7cb45a0c-10ee-4c2c-d6c3-5cf05316de76",
        "colab": {
          "base_uri": "https://localhost:8080/"
        }
      },
      "outputs": [
        {
          "output_type": "stream",
          "name": "stdout",
          "text": [
            "OrderedDict([('localizado', 20), ('no', 75), ('coração', 5), ('de', 646), ('são', 30), ('paulo', 4), ('o', 158), ('grand', 5), ('mercure', 1), ('sp', 2), ('vila', 3), ('olimpia', 1), ('ex', 2), ('caesar', 1), ('business', 1), ('está', 46), ('próximo', 11), ('a', 320), ('grandes', 1), ('centros', 1), ('financeiros', 1), ('e', 516), ('importantes', 2), ('empresas', 1), ('por', 9), ('perto', 2), ('há', 6), ('também', 27), ('excelentes', 1), ('bares', 5), ('restaurantes', 5), ('shoppings', 3), ('variados', 2), ('locais', 6), ('entreteni', 1), ('com', 102), ('uma', 241), ('estadia', 18), ('candiland', 1), ('apartment', 5), ('em', 102), ('semarang', 3), ('ficará', 20), ('5', 41), ('minutos', 36), ('carro', 23), ('indonesia', 2), ('kaya', 1), ('park', 9), ('old', 2), ('post', 1), ('office', 1), ('este', 62), ('hotel', 131), ('2', 57), ('km', 96), ('1', 26), ('mi', 53), ('akademi', 1), ('kepolisian', 1), ('3', 28), ('ciputra', 1), ('mall', 1), ('deleite', 7), ('se', 67), ('ida', 11), ('ao', 88), ('spa', 13), ('que', 25), ('oferece', 42), ('massagens', 21), ('tratamentos', 22), ('corporais', 11), ('faciais', 11), ('entre', 29), ('as', 80), ('várias', 91), ('opções', 14), ('lazer', 42), ('entretenimento', 38), ('seu', 63), ('dispor', 60), ('incluem', 48), ('adega', 3), ('piscina', 75), ('interior', 21), ('banheira', 20), ('hidromassagem', 22), ('wi', 146), ('fi', 145), ('gráti', 1), ('agradável', 6), ('encontra', 8), ('norco', 1), ('area', 5), ('country', 2), ('inn', 13), ('suites', 6), ('by', 6), ('radisson', 1), ('asheville', 1), ('westga', 1), ('dispõe', 23), ('um', 93), ('total', 8), ('94', 1), ('quartos', 27), ('inclui', 10), ('ligação', 2), ('à', 38), ('internet', 8), ('todas', 3), ('áreas', 6), ('públicas', 1), ('unidades', 5), ('alojamento', 4), ('receção', 3), ('abe', 1), ('chetumal', 1), ('mexico', 1), ('minuto', 9), ('s', 11), ('museo', 3), ('la', 9), ('cultura', 3), ('maya', 1), ('6', 24), ('jardim', 52), ('zoológico', 1), ('payo', 1), ('obispo', 1), ('ciudad', 1), ('del', 8), ('faro', 1), ('ceda', 5), ('irresistível', 5), ('tentação', 5), ('serviço', 18), ('completo', 4), ('do', 142), ('local', 26), ('depois', 3), ('praticar', 1), ('suas', 6), ('tacadas', 1), ('campo', 8), ('golfe', 5), ('descubra', 5), ('outras', 3), ('propostas', 17), ('deste', 4), ('health', 7), ('club', 9), ('aberto', 2), ('24', 21), ('horas', 19), ('exterior', 49), ('você', 10), ('é', 17), ('nosso', 5), ('convidado', 1), ('para', 129), ('conhecer', 2), ('icamiabas', 1), ('parintins', 1), ('localização', 34), ('privilegiada', 9), ('100', 1), ('metros', 6), ('da', 122), ('charmosa', 1), ('igreja', 2), ('josé', 1), ('500', 3), ('bumbódromo', 1), ('fica', 35), ('supermercados', 1), ('farmácias', 1), ('hospital', 5), ('\\rtemos', 1), ('melhor', 8), ('estru', 1), ('situada', 4), ('barreirinhas', 2), ('cais', 1), ('prefeitura', 1), ('pousada', 12), ('raio', 1), ('sol', 3), ('acomodações', 6), ('estacionamento', 6), ('privativo', 9), ('gratuito', 12), ('propriedade', 6), ('cerca', 9), ('7', 20), ('casa', 6), ('artesanato', 1), ('algumas', 33), ('das', 107), ('comodidades', 66), ('serviços', 117), ('destaque', 18), ('grátis', 132), ('concierge', 43), ('atividades', 40), ('supervisionadas', 1), ('crianças', 2), ('leque', 6), ('adicionais', 41), ('figuram', 4), ('ainda', 27), ('estilo', 7), ('vitorianoum', 1), ('televisor', 27), ('espaço', 56), ('comum', 27), ('lynden', 1), ('wa', 1), ('homestead', 1), ('resort', 12), ('apenas', 8), ('alguns', 3), ('passos', 6), ('tud', 1), ('imersão', 6), ('revitalizante', 3), ('numa', 10), ('piscinas', 8), ('exteriores', 5), ('ou', 74), ('experimente', 13), ('algo', 5), ('diferente', 3), ('exemplo', 4), ('facilidades', 36), ('loja', 7), ('presentes', 6), ('quiosqu', 1), ('participe', 8), ('nas', 18), ('recreativas', 35), ('incluindo', 86), ('aprecie', 9), ('soberbas', 22), ('vistas', 62), ('partir', 62), ('açoteia', 47), ('sofisticado', 1), ('aparthotel', 6), ('dubai', 2), ('os', 23), ('clientes', 2), ('poderão', 1), ('encontrar', 3), ('aeroporto', 8), ('0', 28), ('estabelecimento', 16), ('porto', 15), ('estão', 3), ('disponíveis', 3), ('intercontinental', 1), ('residence', 2), ('f', 1), ('c', 3), ('212', 1), ('hóspedes', 7), ('conve', 1), ('property', 10), ('locationa', 2), ('stay', 9), ('at', 12), ('panama', 3), ('beach', 13), ('emerald', 1), ('view', 1), ('resorts', 1), ('places', 3), ('you', 4), ('in', 25), ('the', 25), ('heart', 3), ('of', 18), ('city', 4), ('steps', 3), ('from', 26), ('beaches', 1), ('and', 27), ('edgewater', 1), ('gulf', 1), ('this', 20), ('is', 26), ('4', 30), ('9', 19), ('pier', 1), ('contemple', 22), ('fantásticas', 37), ('tire', 51), ('partido', 51), ('nada', 1), ('terminar', 1), ('dia', 4), ('tentando', 1), ('sua', 24), ('sorte', 1), ('casino', 2), ('ad', 1), ('medellin', 1), ('laureles', 1), ('torre', 1), ('coral', 1), ('parque', 9), ('aéreo', 1), ('juan', 1), ('pablo', 1), ('ii', 1), ('parques', 2), ('río', 1), ('medellín', 1), ('plaza', 8), ('botero', 1), ('lleras', 1), ('mime', 9), ('desfrute', 37), ('retemperante', 1), ('interiores', 2), ('aproveite', 18), ('dar', 2), ('salto', 1), ('até', 2), ('praia', 41), ('privada', 5), ('contam', 16), ('sala', 46), ('estar', 4), ('apoio', 23), ('excursões', 23), ('compra', 21), ('bilhetes', 20), ('santa', 3), ('fé', 1), ('goiânia', 1), ('norte', 1), ('ferroviário', 1), ('10', 9), ('pé', 12), ('araguaia', 2), ('shopping', 7), ('centro', 30), ('comercial', 4), ('feira', 1), ('hippie', 1), ('8', 18), ('planetário', 1), ('situa', 8), ('ag', 1), ('stefanos', 1), ('400', 1), ('m', 7), ('principal', 5), ('cidade', 21), ('míconos', 1), ('antigo', 1), ('novo', 3), ('aproximadamente', 3), ('contempla', 2), ('pequenos', 1), ('al', 1), ('milan', 1), ('rental', 1), ('central', 6), ('milão', 1), ('15', 10), ('corso', 2), ('como', 5), ('buenos', 3), ('aires', 3), ('complexo', 1), ('apartamentos', 14), ('castello', 1), ('sforzesco', 1), ('fumadores', 6), ('fitness', 36), ('utilização', 2), ('imediações', 7), ('desconto', 2), ('não', 26), ('perca', 13), ('entretimento', 9), ('aberta', 13), ('casamentos', 15), ('lareira', 8), ('lobby', 7), ('contemplar', 14), ('área', 28), ('piqueniques', 19), ('churrasqueiras', 10), ('sauna', 16), ('máquina', 3), ('venda', 3), ('automática', 3), ('zurique', 1), ('poucos', 8), ('viagem', 3), ('foi', 4), ('inaugurado', 2), ('1973', 1), ('conta', 10), ('333', 1), ('bar', 3), ('café', 9), ('salas', 2), ('conferências', 3), ('quiosque', 5), ('jornais', 5), ('salão', 7), ('disposição', 16), ('ténis', 4), ('cabeleireiro', 2), ('h', 1), ('proposta', 2), ('hospedagem', 5), ('oferecemos', 1), ('simples', 2), ('conforto', 8), ('ótima', 3), ('temos', 2), ('luxo', 1), ('nossa', 3), ('infraestrutura', 2), ('somos', 2), ('opção', 3), ('ideal', 5), ('quem', 5), ('quer', 1), ('durante', 1), ('dias', 1), ('passeios', 1), ('férias', 3), ('comod', 1), ('festa', 1), ('h3', 22), ('rayong', 1), ('suanson', 1), ('paragon', 1), ('green', 3), ('suan', 1), ('son', 1), ('rim', 1), ('pae', 1), ('16', 1), ('mae', 2), ('rumphung', 1), ('18', 5), ('laem', 1), ('p', 1), ('armazenamento', 2), ('esquis', 2), ('comp', 1), ('pode', 4), ('ensaiar', 2), ('aquela', 2), ('tacada', 2), ('perfeita', 3), ('karaoke', 1), ('autocarro', 4), ('permite', 5), ('lhe', 4), ('che', 1), ('kuala', 3), ('lumpur', 2), ('na', 29), ('kampung', 1), ('datuk', 1), ('keramat', 1), ('regency', 1), ('scholars', 1), ('petronas', 2), ('twin', 1), ('towers', 2), ('torres', 1), ('pavilion', 2), ('lump', 1), ('atenas', 1), ('praça', 6), ('omonoia', 1), ('breeze', 1), ('boutique', 2), ('athens', 1), ('decoração', 5), ('moderna', 4), ('lanchonete', 1), ('recepção', 5), ('syntagma', 1), ('todos', 9), ('fortaleza', 5), ('20', 2), ('vg', 1), ('fun', 1), ('front', 1), ('privativos', 1), ('condomínio', 1), ('residencial', 6), ('fechado', 1), ('ar', 16), ('livre', 5), ('bem', 8), ('esta', 7), ('acomodação', 2), ('completa', 2), ('ofere', 1), ('baby', 4), ('sitter', 4), ('sobretaxa', 5), ('adic', 2), ('baymont', 1), ('lake', 1), ('ozarks', 1), ('osage', 1), ('be', 5), ('tem', 7), ('seja', 1), ('negócios', 3), ('fabulosas', 3), ('bed', 3), ('breakfast', 3), ('disponibiliza', 13), ('relaxa', 3), ('completamente', 1), ('moderno', 2), ('confortável', 2), ('bristol', 1), ('umarizal', 1), ('excelente', 5), ('tornar', 1), ('estada', 1), ('memorável', 1), ('região', 10), ('belém', 1), ('outros', 2), ('pontos', 6), ('turísticos', 1), ('reg', 1), ('apanhe', 2), ('visitar', 2), ('principais', 7), ('pon', 1), ('junto', 2), ('baía', 1), ('ilha', 4), ('korcula', 1), ('dos', 15), ('mais', 11), ('próximos', 2), ('zona', 8), ('turística', 1), ('mar', 8), ('próxima', 2), ('facilmente', 2), ('alcançáv', 1), ('beleza', 3), ('areal', 1), ('uns', 1), ('mergulhos', 1), ('co', 4), ('circuitos', 1), ('caminhadas', 1), ('bicicleta', 1), ('adicio', 1), ('airport', 1), ('dois', 1), ('conhecidos', 1), ('líbris', 1), ('st', 6), ('louis', 1), ('woodson', 1), ('terrace', 1), ('paine', 1), ('gentry', 1), ('house', 2), ('blanche', 1), ('touhill', 1), ('performing', 1), ('arts', 1), ('center', 4), ('motel', 3), ('vizinhança', 1), ('raphael', 1), ('imóvel', 4), ('50', 4), ('agradáveis', 1), ('vacances', 2), ('bleues', 1), ('le', 4), ('mediterranee', 1), ('encantador', 3), ('exclusivo', 1), ('adultos', 2), ('clara', 1), ('situado', 7), ('aceder', 1), ('interesse', 2), ('zonas', 1), ('premier', 1), ('liverpool', 1), ('roby', 1), ('has', 1), ('free', 1), ('parking', 1), ('incredibly', 1), ('comfy', 1), ('beds', 1), ('every', 1), ('room', 2), ('an', 1), ('onsite', 1), ('pub', 1), ('restaurant', 2), ('access', 1), ('paying', 1), ('fee', 1), ('atrações', 3), ('ficam', 2), ('curta', 2), ('disponibilizad', 1), ('sazonal', 6), ('blanc', 3), ('quality', 3), ('poidist', 1), ('minutes', 4), ('valu', 1), ('ascension', 1), ('genesys', 1), ('creasey', 1), ('bicentennial', 1), ('l', 3), ('jogos', 7), ('espa', 1), ('distribuição', 2), ('versátil', 2), ('seus', 6), ('52', 1), ('individuais', 2), ('duplos', 2), ('triplos', 2), ('suítes', 6), ('embajador', 1), ('atendimento', 5), ('diferenciado', 2), ('personalizado', 2), ('torna', 2), ('tanto', 2), ('viagens', 2), ('quanto', 2), ('negócio', 2), ('singita', 1), ('sasakwa', 2), ('lodge', 3), ('encostas', 1), ('hill', 1), ('catavento', 1), ('inspirada', 2), ('pelo', 4), ('rústico', 1), ('valorizando', 1), ('simplicidade', 1), ('hospitalidade', 3), ('frente', 4), ('flecheiras', 1), ('trairí', 1), ('litoral', 3), ('oeste', 1), ('cearense', 1), ('distante', 1), ('130', 1), ('200', 3), ('jericoacoara', 1), ('pertinho', 2), ('jeffersonville', 1), ('hawthorn', 1), ('wyndham', 2), ('louisville', 2), ('north', 1), ('kfc', 1), ('yum', 1), ('fourth', 1), ('street', 2), ('live', 1), ('slugger', 1), ('museum', 3), ('uni', 1), ('charlottenburg', 1), ('metro', 2), ('irão', 1), ('ligações', 1), ('transporte', 1), ('vão', 1), ('permitir', 1), ('explorem', 1), ('consiste', 1), ('36', 1), ('sofreu', 1), ('renovações', 1), ('2006', 1), ('hôtel', 1), ('nova', 4), ('coloca', 1), ('montpellier', 2), ('tour', 1), ('babotte', 1), ('saint', 1), ('côme', 1), ('place', 1), ('comedie', 1), ('opéra', 1), ('orchestre', 1), ('national', 4), ('yaliciftlik', 1), ('sorry', 6), ('information', 4), ('not', 5), ('available', 4), ('selected', 4), ('language', 4), ('shown', 4), ('en', 3), ('banheiras', 2), ('comodid', 1), ('manassas', 1), ('número', 2), ('158', 1), ('aqueles', 2), ('gostam', 2), ('animais', 6), ('podem', 4), ('desfrutar', 4), ('vez', 2), ('estimação', 4), ('banquetes', 2), ('porteiro', 1), ('paquete', 1), ('pistas', 1), ('esqui', 3), ('literalmente', 1), ('porta', 1), ('acesso', 9), ('aquático', 1), ('disponívei', 1), ('hortolândia', 1), ('telles', 1), ('tv', 10), ('tela', 3), ('plana', 3), ('cabo', 4), ('banheiro', 6), ('\\r\\rum', 1), ('buffet', 4), ('manhã', 7), ('servido', 1), ('diariamente', 1), ('propried', 1), ('instalações', 6), ('criado', 1), ('2011', 1), ('descontrair', 1), ('confortavelmente', 1), ('num', 2), ('142', 1), ('pisos', 1), ('comodamente', 1), ('acessíveis', 1), ('elevador', 2), ('pelas', 1), ('escadas', 1), ('bengaleiro', 1), ('cofre', 1), ('tornarão', 1), ('muito', 2), ('vindos', 1), ('pitinga', 1), ('000m2', 2), ('terreno', 1), ('beira', 2), ('coqueiros', 1), ('árvores', 1), ('frutíferas', 1), ('bromélias', 1), ('orquídeas', 1), ('espécies', 1), ('originárias', 1), ('mata', 1), ('atlântica', 1), ('integração', 1), ('baiana', 1), ('visível', 1), ('d', 2), ('disp', 1), ('visita', 1), ('brasil', 3), ('tropical', 3), ('meireles', 1), ('local\\rde', 1), ('maior', 5), ('concentração', 1), ('\\rmodernos', 1), ('brasi', 1), ('curitiba', 1), ('150m', 1), ('cacb', 1), ('cooperativa', 1), ('agrícola', 1), ('capão', 2), ('bonito', 2), ('rua', 4), ('yoiti', 1), ('ikeda', 1), ('av', 1), ('plácido', 1), ('batista', 1), ('silveira', 1), ('ibis', 3), ('restaurante', 3), ('equipados', 5), ('apartments', 5), ('kruc', 1), ('zagreb', 1), ('nama', 1), ('galeria', 2), ('miroslav', 1), ('kraljević', 1), ('apartamento', 2), ('desportivo', 1), ('recreio', 2), ('salata', 1), ('mestrovic', 1), ('palermo', 2), ('home', 3), ('soho', 1), ('italia', 1), ('estrelas', 3), ('teatro', 1), ('colón', 1), ('edifício', 2), ('palau', 1), ('güell', 1), ('construído', 1), ('arquitecto', 1), ('catalã', 1), ('mundialmente', 1), ('famoso', 1), ('antoni', 1), ('gaudí', 1), ('emblemáticas', 1), ('las', 2), ('ramblas', 1), ('real', 1), ('nesta', 2), ('encontrará', 7), ('locationwith', 3), ('condo', 3), ('breckenridge', 2), ('four', 1), (\"o'clock\", 1), (\"you'll\", 4), ('ski', 2), ('foot', 2), ('main', 2), ('11', 4), ('dillon', 1), ('reservoir', 1), ('19', 2), ('30', 2), ('copper', 1), ('mountai', 1), ('avenue', 1), ('terraço', 6), ('matarazzo', 1), ('capivari', 2), ('temporada', 1), ('localizada', 4), ('campos', 2), ('jordão', 1), ('800', 2), ('belvedere', 1), ('vista', 6), ('chinesa', 1), ('comodidade', 2), ('gratu', 1), ('alg', 1), ('hospede', 2), ('cindy', 1), ('kelly', 1), ('maravilhas', 2), ('subic', 1), ('zambales', 1), ('lista', 1), ('comfortable', 2), ('set', 2), ('bonn', 1), ('accommodation', 1), ('comprises', 2), ('17', 2), ('snug', 2), ('rooms', 1), ('does', 1), ('accept', 1), ('pets', 1), ('dearborn', 2), ('infelizmente', 1), ('permitidos', 2), ('allen', 1), ('alivie', 1), ('stress', 1), ('colonial', 3), ('eagle', 2), ('river', 2), ('gypsum', 1), ('creek', 2), ('golf', 5), ('course', 2), ('45', 1), ('vail', 1), ('glenwood', 1), ('hot', 1), ('springs', 1), ('sin', 1), ('relaxe', 1), ('vilarejo', 1), ('preá', 2), ('nasce', 1), ('paixão', 3), ('primeira', 2), ('pela', 4), ('pôr', 1), ('kitesurf', 1), ('tudo', 4), ('preparado', 1), ('carinho', 2), ('sinta', 2), ('natureza', 2), ('tranquilidade', 2), ('possuimos', 1), ('charmosos', 1), ('aconchegantes', 2), ('ban', 1), ('neste', 2), ('700', 1), ('brasília', 2), ('el', 1), ('pilar', 1), ('sem', 4), ('fio', 2), ('condicionado', 8), ('esplanada', 1), ('ministérios', 1), ('internacional', 2), ('14', 3), ('madrid', 1), ('hostal', 1), ('casanova', 1), ('puerta', 1), ('gran', 1), ('vía', 1), ('mayor', 1), ('museu', 3), ('prado', 2), ('qualifica', 1), ('genius', 1), ('itapemar', 1), ('ilhabela', 1), ('economizar', 1), ('basta', 2), ('fazer', 2), ('login', 1), ('sofisticação', 2), ('tranqüilidade', 1), ('ambiente', 3), ('800m', 1), ('bela', 3), ('possui', 6), ('coldwater', 1), ('tuscumbia', 2), ('alabama', 1), ('music', 2), ('hall', 3), ('fame', 1), ('spring', 2), ('railway', 1), ('chiang', 2), ('khong', 2), ('sawadee', 1), ('homestay', 1), ('54', 1), ('wat', 1), ('phra', 1), ('kaew', 1), ('crown', 1), ('prince', 1), ('ferry', 1), ('travessia', 1), ('fronteira', 1), ('tailandesa', 1), ('k', 1), ('elevada', 1), ('qualidade', 4), ('orleães', 1), ('alcançará', 1), ('french', 2), ('quarter', 2), ('lojas', 2), ('renovado', 1), ('2005', 1), ('andares', 3), ('86', 1), ('aos', 2), ('hós', 1), ('fios', 2), ('located', 4), ('jardines', 1), ('rey', 1), ('archipelago', 1), ('part', 1), ('unesco', 1), ('reserva', 2), ('biosfera', 1), ('buenavista', 1), ('roc', 1), ('lagunas', 1), ('situated', 1), ('26', 1), ('hectares', 1), ('lush', 1), ('gardens', 1), ('with', 2), ('views', 1), ('sparkling', 1), ('caribbean', 1), ('sea', 1), ('arraial', 1), ('ajuda', 1), ('eco', 3), ('exibe', 1), ('elegância', 1), ('bom', 2), ('gosto', 1), ('cada', 1), ('ambientes', 1), ('ampla', 2), ('entrada', 2), ('às', 3), ('planejado', 1), ('oferecer', 2), ('máximo', 1), ('dispõ', 1), ('morro', 1), ('aureliano', 1), ('lima', 2), ('possuem', 1), ('família', 1), ('venha', 1), ('viver', 1), ('novas', 3), ('experiencias', 1), ('lagoa', 2), ('destino', 2), ('nobre', 3), ('caldas', 1), ('goiás', 1), ('diversão', 1), ('hora', 1), ('acabar', 1), ('diárias', 1), ('além', 3), ('disso', 2), ('nossos', 3), ('hósped', 1), ('cueira', 1), ('boipeba', 1), ('split', 1), ('smartv', 1), ('100mb', 1), ('jardins', 1), ('possuímos', 1), ('tod', 1), ('art', 1), ('déco', 1), ('casablanca', 1), ('estrutura', 3), ('receber', 2), ('arquitetura', 2), ('funcional', 1), ('pleno', 2), ('histórico', 3), ('petrópolis', 2), ('tenha', 1), ('hospedar', 1), ('histórica', 1), ('conhecida', 2), ('po', 1), ('mont', 2), ('diamond', 2), ('flat', 3), ('iguaçu', 1), ('completas', 1), ('academia', 2), ('wifi', 2), ('disponível', 1), ('dispõem', 3), ('frigobar', 3), ('r', 1), ('virginia', 1), ('toko', 2), ('village', 4), ('ferias', 1), ('vilas', 1), ('cores', 1), ('vibrantes', 1), ('meio', 1), ('coqueirais', 1), ('sinônimo', 1), ('privacidade', 1), ('busca', 1), ('descanso', 2), ('contato', 1), ('comuns', 1), ('indígena', 1), ('televiso', 1), ('te', 2), ('vi', 1), ('fundada', 1), ('2008', 1), ('responder', 1), ('necessidades', 1), ('procuram', 1), ('preço', 1), ('acessível', 1), ('hoje', 1), ('preços', 1), ('competitivos', 1), ('continua', 1), ('ser', 3), ('forma', 1), ('contamos', 1), ('infra', 1), ('estrutur', 1), ('fora', 1), ('necessária', 1), ('balneário', 2), ('camboriú', 2), ('express', 1), ('teleférico', 1), ('unipraias', 1), ('brava', 1), ('laranjeiras', 1), ('locationlocated', 2), ('dumaguete', 1), ('sierra', 1), ('minute', 6), ('drive', 3), ('silliman', 1), ('university', 2), ('campus', 1), ('rizal', 1), ('boulevard', 1), ('bell', 1), ('tower', 1), ('catherine', 1), ('alexandria', 1), ('cathedral', 2), ('baile', 1), ('já', 2), ('imaginou', 1), ('fosse', 1), ('possível', 1), ('unir', 1), ('modernidade', 1), ('impecável', 1), ('só', 1), ('lugar', 3), ('aqui', 2), ('voa', 1), ('ambassador', 1), ('isso', 1), ('realidade', 1), ('branco', 1), ('belas', 1), ('praias', 4), ('urbanas', 1), ('referê', 1), ('auerbach', 1), ('und', 2), ('hardys', 1), ('eck', 1), ('bavarian', 1), ('forest', 1), ('nature', 1), ('basilika', 1), ('niederalteich', 1), ('laurentius', 1), ('gotthard', 1), ('nikol', 1), ('centralia', 1), ('chehalis', 1), ('sul', 5), ('angeles', 1), ('pedregal', 1), ('auto', 1), ('estrada', 1), ('periferico', 1), ('40', 4), ('temático', 2), ('six', 1), ('flags', 1), ('perisur', 1), ('frida', 1), ('kahl', 1), ('windsor', 1), ('copa', 1), ('confortáveis', 3), ('econômica', 1), ('trabalho', 2), ('copacabana', 2), ('fácil', 4), ('demais', 1), ('leme', 1), ('ipan', 1), ('seguro', 1), ('taperaupã', 1), ('dispondo', 1), ('maison', 1), ('terroir', 1), ('bragança', 1), ('paulista', 2), ('atibaia', 1), ('via', 1), ('satélite', 1), ('roupões', 1), ('banho', 3), ('bidê', 1), ('chu', 1), ('belíssima', 1), ('camurupim', 2), ('natal', 2), ('pipa', 1), ('existe', 1), ('feito', 2), ('bonita', 1), ('conventions', 1), ('espetacular', 1), ('70', 1), ('vo', 1), ('hortênsias', 1), ('quilômetros', 1), ('uva', 1), ('vinho', 1), ('onde', 3), ('imigrantes', 1), ('etnias', 1), ('construíram', 1), ('especial', 1), ('sobre', 1), ('velhas', 1), ('raízes', 1), ('históricas', 1), ('dá', 1), ('visitante', 1), ('potencialidades', 1), ('lausana', 1), ('olímpico', 1), ('133', 1), ('distribuídos', 1), ('todo', 3), ('americana', 1), ('vibrante', 1), ('sinônonimo', 1), ('aconchegante', 2), ('m2', 1), (\"32'\", 1), ('mesa', 1), ('guarda', 1), ('roupa', 1), ('secador', 1), ('cabelo', 1), ('gratís', 1), ('chuveiro', 1), ('procura', 6), ('poderá', 1), ('contar', 1), ('dispo', 1), ('presen', 1), ('kona', 3), ('reef', 1), ('kailua', 1), (\"honl's\", 1), ('mauna', 1), ('kea', 1), ('summit', 1), ('mok', 1), ('nest', 1), ('conhecido', 1), ('diversos', 3), ('estabelecimentos', 1), ('comerciais', 1), ('climatizado', 1), ('707', 1), ('quais', 1), ('su', 1), ('alto', 2), ('serra', 1), ('espera', 1), ('belezas', 1), ('naturais', 2), ('clima', 1), ('europeu', 1), ('aconchego', 1), ('cabana', 1), ('flores', 1), ('familiar', 2), ('amor', 1), ('comodidad', 1), ('areas', 2), ('sociais', 1), ('harmoniza', 1), ('lofts', 1), ('castro', 1), ('alves', 1), ('lacerda', 1), ('propicia', 1), ('linda', 1), ('baia', 1), ('sa', 1), ('vale', 1), ('verde', 2), ('palace', 3), ('laranjal', 1), ('terminal', 1), ('ônibus', 1), ('manobristas', 1), ('baquetes', 1), ('tudor', 1), ('guest', 1), ('plymouth', 2), ('marine', 1), ('aquarium', 1), ('12', 2), ('dartmoor', 1), ('der', 1), ('dan', 1), ('uberaba', 1), ('avenida', 2), ('filomena', 1), ('cartafina', 1), ('152', 1), ('bandeirantes', 1), ('unidade', 1), ('141', 1), ('divididos', 1), ('categorias', 1), ('standard', 1), ('executiv', 1), ('nacional', 2), ('pak', 1), ('chong', 1), ('nornchill', 1), ('khaoyai', 1), ('chokchai', 1), ('farm', 1), ('bonanza', 1), ('thong', 1), ('somboon', 1), ('13', 4), ('pal', 1), ('heritage', 1), ('quito', 2), ('mariscal', 1), ('foch', 1), ('playa', 3), ('gabriela', 1), ('mistral', 1), ('catedral', 1), ('independencia', 1), ('fantá', 1), ('encantada', 1), ('rio', 2), ('espaçosos', 1), ('apresentam', 3), ('motor', 1), ('melvindale', 1), ('beaumont', 1), ('sede', 2), ('ford', 2), ('world', 1), ('henry', 1), ('mgm', 1), ('detroit', 1), ('banqu', 1), ('passe', 2), ('reconfortante', 2), ('guaruja', 1), ('fênix', 1), ('varginha', 1), ('66', 1), ('amplos', 1), ('service', 2), ('eventos', 3), ('festas', 1), ('sinuca', 1), ('\\r\\rgaranta', 1), ('safe', 1), ('landing', 1), ('nacula', 1), ('mesma', 2), ('diabo', 1), ('long', 1), ('cavernas', 1), ('sawa', 1), ('i', 2), ('lau', 1), ('cas', 1), ('elevadores', 1), ('salen', 2), ('gammelgården', 1), ('hotell', 1), ('bike', 1), ('29', 1), ('estação', 2), ('stoten', 1), ('22', 3), ('spania', 1), ('janeiro', 1), ('botafogo', 2), ('ipanema', 1), ('pão', 1), ('açúcar', 1), ('aluguer', 1), ('bicicletas', 1), ('algum', 1), ('stop', 1), ('angel', 2), ('to', 3), ('discover', 1), ('wonders', 1), ('london', 1), ('features', 1), ('wide', 1), ('range', 1), ('facilities', 1), ('make', 1), ('your', 1), ('pleasant', 1), ('experience', 1), ('minded', 1), ('staff', 1), ('will', 1), ('welcome', 1), ('guide', 1), ('guestrooms', 1), ('ensu', 1), ('san', 1), ('antonio', 1), ('riverwalk', 2), ('tourist', 1), ('downtown', 1), ('nightlife', 1), ('restaurants', 1), ('are', 1), ('tel', 1), ('bairro', 2), ('tranquilo', 1), ('muita', 1), ('seguranca', 1), ('predio', 1), ('cameras', 1), ('estamos', 5), ('localizados', 1), ('carioca', 1), ('quadra', 1), ('mesmo', 1), ('serv', 1), ('180', 2), ('reformados', 1), ('2016', 1), ('lado', 1), ('belissimo', 1), ('celso', 1), ('daniel', 1), ('02', 1), ('rodoviaria', 1), ('trem', 1), ('cortesi', 1), ('tradicionalmente', 1), ('atuante', 1), ('setor', 1), ('atlântico', 1), ('guarapari', 1), ('es', 1), ('passo', 1), ('charmosas', 1), ('namorados', 1), ('atravessar', 1), ('alcançar', 1), ('areias', 1), ('\\r\\rsituada', 1), ('penín', 1), ('canariu', 1), ('apos', 1), ('gravatá', 1), ('destaca', 2), ('através', 2), ('grandioso', 1), ('porte', 1), ('empreendimento', 2), ('hospedagens', 1), ('agreste', 1), ('pernambuco', 1), ('difícil', 1), ('vai', 1), ('querer', 1), ('voltar', 1), ('pilões', 1), ('ótimas', 1), ('comprovada', 1), ('tempo', 1), ('mercado', 1), ('\\rlocalizado', 1), ('mineiros', 1), ('equipe', 1), ('treinada', 1), ('especializada', 1), ('prestar', 1), ('tr', 1), ('churrasqueira', 1), ('madeira', 1), ('velho', 1), ('cy', 1), ('distância', 2), ('v', 1), ('modevie', 1), ('gramado', 2), ('quarto', 1), ('badalada', 1), ('coberta', 1), ('palácio', 2), ('festivais', 1), ('\\r\\rtodos', 1), ('condiciona', 1), ('carmen', 2), ('ejidal', 1), ('calle', 1), ('quinta', 1), ('ecológico', 1), ('xcaret', 1), ('aptos', 1), ('varanda', 1), ('depende', 1), ('disponibilidade', 1), ('\\r\\rno', 1), ('nem', 1), ('barracas', 1), ('mas', 1), ('5km', 1), ('começam', 1), ('boas', 1), ('3km', 1), ('barraca', 1), ('manito', 1), ('\\ro', 1), ('axé', 1), ('moi', 1), ('7km', 1), ('toa', 2), ('5k', 1), ('ribeirão', 1), ('prontos', 1), ('equipadas', 1), ('potente', 1), ('silencioso', 1), ('smart', 1), ('camas', 1), ('lençóis', 1), ('cobertores', 1), ('damos', 1), ('atenção', 2), ('mecidiyekoy', 1), ('istambul', 1), ('sisli', 1), ('istanbul', 1), ('cevahir', 1), ('entertainment', 1), ('centre', 2), ('dolmabahce', 1), ('belo', 2), ('horizonte', 2), ('dayrell', 1), ('convenções', 1), ('possibilita', 1), ('vários', 1), ('andar', 1), ('camping', 1), ('parc', 2), ('paris', 2), ('villevaude', 1), ('nord', 1), ('villepinte', 1), ('exhibition', 1), ('val', 1), (\"d'europe\", 1), ('campground', 1), ('t', 1), ('location', 1), ('canourgue', 2), ('des', 1), ('cévennes', 1), ('aubrac', 1), ('natural', 1), ('regional', 1), ('25', 1), ('gorges', 1), ('du', 2), ('tarn', 1), ('glamouroso', 1), ('tivoli', 2), ('victoria', 2), ('vilamoura', 2), ('“the', 1), ('residences', 1), ('clube', 1), ('managed', 1), ('hotels', 1), ('resorts”', 1), ('145', 1), ('t2', 1), ('t3', 1), ('oferec', 1), ('costa', 1), ('baleias', 1), ('tororão', 1), ('ostras', 1), ('warsaw', 1), ('within', 3), ('walk', 3), ('centrum', 1), ('culture', 1), ('science', 1), ('town', 1), ('square', 2), ('vitkac', 1), ('informat', 1), ('canasvieiras', 1), ('catarina', 1), ('ele', 1), ('direto', 1), ('espreguiçadeiras', 1), ('viradas', 1), ('têm', 2), ('horquetas', 1), ('heliconia', 1), ('island', 1), ('on', 1), ('mini', 1), ('zoo', 1), ('jardin', 1), ('yori', 1), ('refugio', 1), ('vida', 1), ('silvestre', 1), ('mixto', 1), ('maquenque', 1), ('48', 1), ('poas', 1), ('volcano', 1), ('nation', 1), ('banquete', 1), ('perfeitamente', 1), ('areia', 1), ('branca', 1), ('fina', 1), ('hoteleira', 2), ('cancun', 1), ('benefícios', 1), ('conceito', 1), ('unlimited', 1), ('luxury®', 1), ('divertidas', 1), ('60', 1), ('impala', 1), ('wine', 1), ('centrally', 1), ('ribeira', 1), ('bolhao', 1), ('market', 1), ('dom', 1), ('luis', 1), ('bridge', 1), ('inform', 1), ('veleiro', 1), ('galinhas', 2), ('pe', 1), ('caminhando', 1), ('\\r\\rtemos', 1), ('deseja', 2), ('encantos', 1), ('\\r\\raqui', 1), ('hósp', 1), ('referência', 1), ('então', 1), ('afford', 1), ('passa', 1), ('administrado', 1), ('slaviero', 1), ('hotéis', 1), ('sob', 1), ('nome', 1), ('slim', 1), ('lages', 1), ('seguindo', 1), ('dinâmica', 1), ('ágil', 1), ('aliada', 2), ('expertise', 1), ('anos', 2), ('estrategicamente', 1), ('localiz', 1), ('polydefkis', 1), ('santorini', 2), ('near', 1), ('kamari', 1), ('ancient', 1), ('thira', 1), ('caldera', 1), ('francisco', 1), ('somente', 2), ('400mt', 1), ('famosa', 1), ('padaria', 1), ('santo', 1), ('antônio', 1), ('650', 1), ('mt', 1), ('\\r', 1), ('\\ra', 1), ('jeri', 1), ('dunas', 1), ('cer', 1), ('turrance', 2), ('white', 2), ('campinas', 1), ('reuniões', 1), ('viracopos', 1), ('\\r\\ros', 1), ('vindo', 1), ('intercity', 1), ('macéio', 1), ('novinho', 1), ('folha', 1), ('ponta', 1), ('curtir', 1), ('orla', 1), ('urbana', 1), ('capital', 1), ('alagoana', 1), ('comodida', 1), ('itaim', 1), ('bibi', 1), ('empresarial', 1), ('faria', 1), ('hospitais', 1), ('padrão', 1), ('\\r\\rnossos', 1), ('ideais', 2), ('viajantes', 1), ('neg', 1), ('recanto', 2), ('teimoso', 2), ('iluminado', 1), ('led', 1), ('box', 1), ('vidro', 1), ('serve', 1), ('diár', 1), ('cosy', 1), ('marion', 2), ('units', 1), ('moreover', 1), ('there', 1), ('wireless', 1), ('connection', 1), ('hand', 1), ('communal', 1), ('red', 1), ('roof', 1), ('va', 1), ('offers', 1), ('hour', 1), ('reception', 1), ('for', 1), (\"guests'\", 1), ('convenience', 1), ('common', 1), ('villaggio', 1), ('leste', 1), ('ceará', 1), ('90', 1), ('beberibe', 1), ('administrativa', 1), ('município', 1), ('\\r\\rsuas', 1), ('chamam', 1), ('romantismo', 1), ('arrojada', 1), ('misturando', 1), ('rús', 1), ('fr', 1), ('especialmente', 1), ('concebido', 1), ('famílias', 1), ('vire', 1), ('appartements', 1), ('françois', 1), ('1er', 1), ('rue', 1), ('pont', 1), ('vitry', 2), ('francois', 2), ('église', 1), ('notre', 1), ('dame', 1), (\"l'assomption\", 1), ('câmara', 1), ('municipal', 1), ('zimbo\\rdesfrute', 1), ('charme', 2), ('zimbo', 1), ('ponto', 1), ('quarta', 1), ('esmerados', 1), ('cozinha', 1), ('primorosa', 1), ('especialidades', 1), ('regionais', 1), ('internacionais', 1), ('alta', 1), ('quali', 1), ('turco', 1), ('santiago', 1), ('chile', 1), ('landgasthof', 1), ('rebstock', 1), ('nimburg', 1), ('oferecendo', 1), ('varie', 1), ('liberdade', 2), ('resultado', 1), ('encontro', 1), ('boa', 1), ('tombada', 1), ('patrimônio', 1), ('savassi', 1), ('agitada', 1), ('vid', 1), ('gr', 1), ('disponíve', 1), ('tradição', 1), ('atuação', 1), ('ramo', 1), ('hoteleiro', 1), ('castelar', 1), ('relação', 1), ('custo', 1), ('benefício', 1), ('vantagens', 1), ('estratégica', 1), ('int', 1), ('completam', 1), ('172', 1), ('convention', 1), ('paulínia', 1), ('2015', 1), ('amplas', 1), ('público', 1), ('corporativo', 1), ('descansar', 1), ('privilegi', 1), (\"disney's\", 1), ('all', 1), ('star', 1)])\n"
          ]
        }
      ],
      "source": [
        "# A dictionary of words and their counts.\n",
        "print(tBR.word_counts)\n",
        "\n",
        "# A dictionary of words and how many documents each appeared in.\n",
        "#print(tBR.word_docs)\n",
        "\n",
        "# An integer count of the total number of documents that were used to fit the Tokenizer (i.e. total number of documents)\n",
        "#print(tBR.document_count)\n",
        "\n",
        "# A dictionary of words and their uniquely assigned integers.\n",
        "#print(tBR.word_index)"
      ]
    },
    {
      "cell_type": "code",
      "execution_count": null,
      "id": "0b2e04de-139a-4a0c-be27-be23b575dab1",
      "metadata": {
        "id": "0b2e04de-139a-4a0c-be27-be23b575dab1",
        "outputId": "3e64c459-81ac-4999-a7d3-eca7a4f780ea",
        "colab": {
          "base_uri": "https://localhost:8080/"
        }
      },
      "outputs": [
        {
          "output_type": "stream",
          "name": "stdout",
          "text": [
            "Found 1886 unique tokens.\n"
          ]
        }
      ],
      "source": [
        "print('Found %s unique tokens.' % len(tBR.word_index))"
      ]
    },
    {
      "cell_type": "code",
      "execution_count": null,
      "id": "8054c915-4f6b-4780-966f-1e92d5fc8251",
      "metadata": {
        "id": "8054c915-4f6b-4780-966f-1e92d5fc8251"
      },
      "outputs": [],
      "source": [
        "# Tokenization\n",
        "tBR = Tokenizer(num_words=None, filters='!\"#$%&()*+,-./:;<=>?@[\\\\]^_`{|}~\\t\\n', lower=True, split=' ', char_level=False, oov_token=None, document_count=0)\n",
        "\n",
        "def get_sequence_of_tokensBR(corpusBR):\n",
        "    tBR.fit_on_texts(corpusBR)\n",
        "    total_wordsBR = len(tBR.word_index) + 1\n",
        "    \n",
        "    input_sequencesBR = []\n",
        "    for line in corpusBR:\n",
        "        token_list = tBR.texts_to_sequences([line])[0]\n",
        "        for i in range(1, len(token_list)):\n",
        "            n_gram_sequence = token_list[:i+1]\n",
        "            input_sequencesBR.append(n_gram_sequence)\n",
        "            \n",
        "    return input_sequencesBR, total_wordsBR"
      ]
    },
    {
      "cell_type": "code",
      "execution_count": null,
      "id": "872ec82e-cb0a-4304-8048-74149aa16877",
      "metadata": {
        "id": "872ec82e-cb0a-4304-8048-74149aa16877"
      },
      "outputs": [],
      "source": [
        "input_sequencesBR, total_wordsBR = get_sequence_of_tokensBR(corpusBR)\n"
      ]
    },
    {
      "cell_type": "code",
      "execution_count": null,
      "id": "e41cae6c-6cd9-45e8-856b-f1b9c68ba5cf",
      "metadata": {
        "id": "e41cae6c-6cd9-45e8-856b-f1b9c68ba5cf",
        "outputId": "9a84d1a7-8f76-498f-af9e-318887d1ba56",
        "colab": {
          "base_uri": "https://localhost:8080/"
        }
      },
      "outputs": [
        {
          "output_type": "execute_result",
          "data": {
            "text/plain": [
              "[[101, 23],\n",
              " [101, 23, 245],\n",
              " [101, 23, 245, 1],\n",
              " [101, 23, 245, 1, 62],\n",
              " [101, 23, 245, 1, 62, 286],\n",
              " [101, 23, 245, 1, 62, 286, 5],\n",
              " [101, 23, 245, 1, 62, 286, 5, 246],\n",
              " [101, 23, 245, 1, 62, 286, 5, 246, 705],\n",
              " [101, 23, 245, 1, 62, 286, 5, 246, 705, 447],\n",
              " [101, 23, 245, 1, 62, 286, 5, 246, 705, 447, 341]]"
            ]
          },
          "metadata": {},
          "execution_count": 37
        }
      ],
      "source": [
        "input_sequencesBR[:10]"
      ]
    },
    {
      "cell_type": "code",
      "execution_count": null,
      "id": "ba73d978-ef6a-44cf-b63c-6ad99ab99356",
      "metadata": {
        "id": "ba73d978-ef6a-44cf-b63c-6ad99ab99356",
        "outputId": "81ce246a-fe31-4219-e00b-94abc514e7ad",
        "colab": {
          "base_uri": "https://localhost:8080/"
        }
      },
      "outputs": [
        {
          "output_type": "execute_result",
          "data": {
            "text/plain": [
              "1887"
            ]
          },
          "metadata": {},
          "execution_count": 38
        }
      ],
      "source": [
        "total_wordsBR"
      ]
    },
    {
      "cell_type": "code",
      "execution_count": null,
      "id": "50058892-c57a-4711-a4d4-bd8ca4229e37",
      "metadata": {
        "id": "50058892-c57a-4711-a4d4-bd8ca4229e37"
      },
      "outputs": [],
      "source": [
        "# pad sequences \n",
        "def generate_padded_sequencesBR(input_sequencesBR):\n",
        "    max_sequence_lenBR = max([len(x) for x in input_sequencesBR])\n",
        "    input_sequencesBR = np.array(pad_sequences(input_sequencesBR, maxlen = max_sequence_lenBR, padding = 'pre'))\n",
        "    predictorsBR, labelBR = input_sequencesBR[:,:-1],input_sequencesBR[:,-1]\n",
        "    labelBR = ku.to_categorical(labelBR, num_classes = total_wordsBR)\n",
        "    \n",
        "    return predictorsBR, labelBR, max_sequence_lenBR\n",
        "\n",
        "predictorsBR, labelBR, max_sequence_lenBR = generate_padded_sequencesBR(input_sequencesBR)"
      ]
    },
    {
      "cell_type": "code",
      "execution_count": null,
      "id": "5077a563-2da9-43a8-8cf1-4720919b653f",
      "metadata": {
        "id": "5077a563-2da9-43a8-8cf1-4720919b653f",
        "outputId": "89660ad3-7719-4fd4-d225-5d48941cb86d",
        "colab": {
          "base_uri": "https://localhost:8080/"
        }
      },
      "outputs": [
        {
          "output_type": "stream",
          "name": "stdout",
          "text": [
            "Model: \"sequential_1\"\n",
            "_________________________________________________________________\n",
            " Layer (type)                Output Shape              Param #   \n",
            "=================================================================\n",
            " embedding_1 (Embedding)     (None, 55, 10)            18870     \n",
            "                                                                 \n",
            " lstm_1 (LSTM)               (None, 100)               44400     \n",
            "                                                                 \n",
            " dropout_1 (Dropout)         (None, 100)               0         \n",
            "                                                                 \n",
            " dense_1 (Dense)             (None, 1887)              190587    \n",
            "                                                                 \n",
            "=================================================================\n",
            "Total params: 253,857\n",
            "Trainable params: 253,857\n",
            "Non-trainable params: 0\n",
            "_________________________________________________________________\n"
          ]
        }
      ],
      "source": [
        "def create_modelBR(max_sequence_lenBR, total_wordsBR):\n",
        "    modelBR = Sequential()\n",
        "    \n",
        "    # Add Input Embedding Layer\n",
        "    modelBR.add(Embedding(total_wordsBR, 10, input_length=max_sequence_lenBR - 1))\n",
        "    \n",
        "    # Add Hidden Layer 1 - LSTM Layer\n",
        "    modelBR.add(LSTM(100))\n",
        "    modelBR.add(Dropout(0.1))\n",
        "    \n",
        "    # Add Output Layer\n",
        "    modelBR.add(Dense(total_wordsBR, activation='softmax'))\n",
        "\n",
        "    modelBR.compile(loss='categorical_crossentropy', optimizer='adam', metrics=['accuracy'])\n",
        "    \n",
        "    return modelBR\n",
        "\n",
        "modelBR = create_modelBR(max_sequence_lenBR, total_wordsBR)\n",
        "modelBR.summary()"
      ]
    },
    {
      "cell_type": "code",
      "execution_count": null,
      "id": "a6bc776d-70d0-4546-9f5c-9e08119abe4f",
      "metadata": {
        "id": "a6bc776d-70d0-4546-9f5c-9e08119abe4f",
        "outputId": "6733e7a9-3960-4351-8b31-4f4db70e2235",
        "colab": {
          "base_uri": "https://localhost:8080/"
        }
      },
      "outputs": [
        {
          "output_type": "stream",
          "name": "stdout",
          "text": [
            "Epoch 1/50\n",
            "321/321 [==============================] - 34s 98ms/step - loss: 6.1791 - accuracy: 0.0616\n",
            "Epoch 2/50\n",
            "321/321 [==============================] - 10s 31ms/step - loss: 5.6153 - accuracy: 0.0627\n",
            "Epoch 3/50\n",
            "321/321 [==============================] - 4s 13ms/step - loss: 5.2359 - accuracy: 0.0804\n",
            "Epoch 4/50\n",
            "321/321 [==============================] - 4s 13ms/step - loss: 4.8889 - accuracy: 0.1214\n",
            "Epoch 5/50\n",
            "321/321 [==============================] - 4s 12ms/step - loss: 4.5709 - accuracy: 0.1767\n",
            "Epoch 6/50\n",
            "321/321 [==============================] - 5s 16ms/step - loss: 4.3631 - accuracy: 0.2075\n",
            "Epoch 7/50\n",
            "321/321 [==============================] - 3s 9ms/step - loss: 4.1086 - accuracy: 0.2532\n",
            "Epoch 8/50\n",
            "321/321 [==============================] - 3s 9ms/step - loss: 3.8779 - accuracy: 0.2801\n",
            "Epoch 9/50\n",
            "321/321 [==============================] - 3s 9ms/step - loss: 3.6824 - accuracy: 0.3101\n",
            "Epoch 10/50\n",
            "321/321 [==============================] - 3s 8ms/step - loss: 3.5050 - accuracy: 0.3260\n",
            "Epoch 11/50\n",
            "321/321 [==============================] - 4s 11ms/step - loss: 3.3443 - accuracy: 0.3447\n",
            "Epoch 12/50\n",
            "321/321 [==============================] - 3s 10ms/step - loss: 3.1973 - accuracy: 0.3594\n",
            "Epoch 13/50\n",
            "321/321 [==============================] - 3s 9ms/step - loss: 3.0543 - accuracy: 0.3764\n",
            "Epoch 14/50\n",
            "321/321 [==============================] - 3s 8ms/step - loss: 2.9228 - accuracy: 0.3913\n",
            "Epoch 15/50\n",
            "321/321 [==============================] - 2s 8ms/step - loss: 2.7957 - accuracy: 0.4070\n",
            "Epoch 16/50\n",
            "321/321 [==============================] - 3s 10ms/step - loss: 2.6833 - accuracy: 0.4204\n",
            "Epoch 17/50\n",
            "321/321 [==============================] - 4s 12ms/step - loss: 2.5726 - accuracy: 0.4392\n",
            "Epoch 18/50\n",
            "321/321 [==============================] - 3s 8ms/step - loss: 2.5105 - accuracy: 0.4428\n",
            "Epoch 19/50\n",
            "321/321 [==============================] - 3s 8ms/step - loss: 2.4869 - accuracy: 0.4427\n",
            "Epoch 20/50\n",
            "321/321 [==============================] - 2s 8ms/step - loss: 2.3190 - accuracy: 0.4728\n",
            "Epoch 21/50\n",
            "321/321 [==============================] - 2s 7ms/step - loss: 2.2179 - accuracy: 0.4945\n",
            "Epoch 22/50\n",
            "321/321 [==============================] - 3s 9ms/step - loss: 2.1478 - accuracy: 0.5117\n",
            "Epoch 23/50\n",
            "321/321 [==============================] - 3s 10ms/step - loss: 2.0670 - accuracy: 0.5301\n",
            "Epoch 24/50\n",
            "321/321 [==============================] - 3s 10ms/step - loss: 2.0011 - accuracy: 0.5406\n",
            "Epoch 25/50\n",
            "321/321 [==============================] - 2s 7ms/step - loss: 1.9318 - accuracy: 0.5597\n",
            "Epoch 26/50\n",
            "321/321 [==============================] - 2s 7ms/step - loss: 1.8690 - accuracy: 0.5701\n",
            "Epoch 27/50\n",
            "321/321 [==============================] - 3s 8ms/step - loss: 1.8095 - accuracy: 0.5857\n",
            "Epoch 28/50\n",
            "321/321 [==============================] - 2s 7ms/step - loss: 1.7491 - accuracy: 0.5982\n",
            "Epoch 29/50\n",
            "321/321 [==============================] - 3s 9ms/step - loss: 1.6955 - accuracy: 0.6092\n",
            "Epoch 30/50\n",
            "321/321 [==============================] - 3s 11ms/step - loss: 1.6394 - accuracy: 0.6205\n",
            "Epoch 31/50\n",
            "321/321 [==============================] - 2s 7ms/step - loss: 1.5842 - accuracy: 0.6366\n",
            "Epoch 32/50\n",
            "321/321 [==============================] - 2s 8ms/step - loss: 1.5376 - accuracy: 0.6438\n",
            "Epoch 33/50\n",
            "321/321 [==============================] - 3s 8ms/step - loss: 1.4910 - accuracy: 0.6532\n",
            "Epoch 34/50\n",
            "321/321 [==============================] - 2s 8ms/step - loss: 1.4442 - accuracy: 0.6628\n",
            "Epoch 35/50\n",
            "321/321 [==============================] - 4s 12ms/step - loss: 1.4001 - accuracy: 0.6751\n",
            "Epoch 36/50\n",
            "321/321 [==============================] - 3s 11ms/step - loss: 1.3607 - accuracy: 0.6766\n",
            "Epoch 37/50\n",
            "321/321 [==============================] - 2s 7ms/step - loss: 1.3349 - accuracy: 0.6895\n",
            "Epoch 38/50\n",
            "321/321 [==============================] - 2s 7ms/step - loss: 1.2828 - accuracy: 0.6895\n",
            "Epoch 39/50\n",
            "321/321 [==============================] - 3s 8ms/step - loss: 1.2431 - accuracy: 0.7055\n",
            "Epoch 40/50\n",
            "321/321 [==============================] - 3s 10ms/step - loss: 1.2098 - accuracy: 0.7099\n",
            "Epoch 41/50\n",
            "321/321 [==============================] - 3s 9ms/step - loss: 1.1734 - accuracy: 0.7214\n",
            "Epoch 42/50\n",
            "321/321 [==============================] - 3s 9ms/step - loss: 1.1378 - accuracy: 0.7267\n",
            "Epoch 43/50\n",
            "321/321 [==============================] - 2s 8ms/step - loss: 1.1026 - accuracy: 0.7367\n",
            "Epoch 44/50\n",
            "321/321 [==============================] - 3s 9ms/step - loss: 1.1188 - accuracy: 0.7267\n",
            "Epoch 45/50\n",
            "321/321 [==============================] - 3s 10ms/step - loss: 1.0634 - accuracy: 0.7379\n",
            "Epoch 46/50\n",
            "321/321 [==============================] - 3s 10ms/step - loss: 1.0184 - accuracy: 0.7535\n",
            "Epoch 47/50\n",
            "321/321 [==============================] - 3s 9ms/step - loss: 0.9905 - accuracy: 0.7586\n",
            "Epoch 48/50\n",
            "321/321 [==============================] - 3s 9ms/step - loss: 0.9592 - accuracy: 0.7647\n",
            "Epoch 49/50\n",
            "321/321 [==============================] - 2s 7ms/step - loss: 0.9351 - accuracy: 0.7712\n",
            "Epoch 50/50\n",
            "321/321 [==============================] - 2s 7ms/step - loss: 0.9075 - accuracy: 0.7779\n"
          ]
        },
        {
          "output_type": "execute_result",
          "data": {
            "text/plain": [
              "<keras.callbacks.History at 0x7f2b011d4700>"
            ]
          },
          "metadata": {},
          "execution_count": 41
        }
      ],
      "source": [
        "modelBR.fit(predictorsBR, labelBR, epochs=50, verbose=1)"
      ]
    },
    {
      "cell_type": "code",
      "execution_count": null,
      "id": "bafc81da-b357-458b-bb2f-565cc0882ecd",
      "metadata": {
        "id": "bafc81da-b357-458b-bb2f-565cc0882ecd"
      },
      "outputs": [],
      "source": [
        "def generate_textBR(seed_textBR, next_wordsBR, modelBR, max_seq_lenBR):\n",
        "    for _ in range(next_wordsBR):\n",
        "        token_listBR = tBR.texts_to_sequences([seed_textBR])[0]\n",
        "        token_listBR = pad_sequences([token_listBR], maxlen=max_seq_lenBR-1, padding='pre')\n",
        "        \n",
        "        #predicted = model.predict_classes(token_list, verbose=0)\n",
        "        predicted = np.argmax(modelBR.predict(token_listBR, verbose=0), axis=-1)\n",
        "        output_word = ''\n",
        "        \n",
        "        for word,index in tBR.word_index.items():\n",
        "            if index == predicted:\n",
        "                output_word = word\n",
        "                break\n",
        "                \n",
        "        seed_textBR = seed_textBR + \" \" + output_word\n",
        "        \n",
        "    return seed_textBR.title()"
      ]
    },
    {
      "cell_type": "code",
      "execution_count": null,
      "id": "1a708779-14e8-408d-a1a4-ea17d6a0408f",
      "metadata": {
        "id": "1a708779-14e8-408d-a1a4-ea17d6a0408f",
        "outputId": "85af1167-8c76-40b2-e9c1-7b40574c1f21",
        "colab": {
          "base_uri": "https://localhost:8080/"
        }
      },
      "outputs": [
        {
          "output_type": "stream",
          "name": "stdout",
          "text": [
            "Buzios Beach Localizado Em Buzios Chetumal Hotel Mexico Ficará A 3 Minuto S De Carro De Gypsum Creek Beach E A 2 Minutos De Carro De Corso De Aires E A 4 4 Km 2 2 Mi De Praia De La Independencia Contemple Fantá H3 Este Hotel Fica A 16 3 Km De Uni Slugger Museum E A 8 Km De Thong Pavilion Beach E A 13 9 Km De Pal Laem Mae P Este Hotel Fica A Mesma Km De Glenwood Hot Springs H3 Este Aparthotel H3 A 4 Km Em St Férias Esta Residencial Está A 9 Km De Louisville Slugger Poderá Axé\n"
          ]
        }
      ],
      "source": [
        "print(generate_textBR(\"Buzios Beach localizado em Buzios\", 100, modelBR, max_sequence_lenBR))"
      ]
    },
    {
      "cell_type": "code",
      "execution_count": null,
      "id": "0f3304e3-0a46-4ef5-b1f7-b86f0c033446",
      "metadata": {
        "id": "0f3304e3-0a46-4ef5-b1f7-b86f0c033446",
        "outputId": "3f87e88f-6a83-4848-8432-2ff5283573b0",
        "colab": {
          "base_uri": "https://localhost:8080/"
        }
      },
      "outputs": [
        {
          "output_type": "stream",
          "name": "stdout",
          "text": [
            "Hotel Localizado Em Copacabana A Hotel De S De Hospedagem Sul A Uma 158 Mais Que Não Não Gostam De Praia E Distribuídos Opções Para Lazer Quanto De Lazer De Local Quanto A Várias Primorosa Da Lazer De Entrada Bleues Local \rModernos Hotel Oferece Várias Salas De Thong Plana E A 2 2 Km 0 6 Mi De Praia Fica A 2 Km Entre De Praia São Horas E A 2 Km Com 2 Km Ou Aquela Tacada Perfeita Os Ainda De Brasília Entre A Parque Exteriores De Aeroporto De Barreirinhas De Neg Família Do Porto Brasi Perisur A 6 Km 6 6 Piscinas\n"
          ]
        }
      ],
      "source": [
        "print(generate_textBR(\"Hotel localizado em Copacabana\", 100, modelBR, max_sequence_lenBR))"
      ]
    },
    {
      "cell_type": "code",
      "execution_count": null,
      "id": "f2ed3b1c-d42a-4af6-b42e-62aec3f553be",
      "metadata": {
        "id": "f2ed3b1c-d42a-4af6-b42e-62aec3f553be",
        "colab": {
          "base_uri": "https://localhost:8080/"
        },
        "outputId": "fdbf02b4-b063-4019-a9c4-8307feaedc85"
      },
      "outputs": [
        {
          "output_type": "stream",
          "name": "stdout",
          "text": [
            "321/321 [==============================] - 2s 5ms/step - loss: 0.7236 - accuracy: 0.8378\n",
            "Accuracy: 0.8378483653068542\n"
          ]
        }
      ],
      "source": [
        "# Avaliação do modelo\n",
        "accuracy = modelBR.evaluate(predictorsBR, labelBR)[1]\n",
        "print(\"Accuracy:\", accuracy)"
      ]
    },
    {
      "cell_type": "code",
      "execution_count": null,
      "id": "73b0c1ed-b6be-4621-9b8c-d704bf237bbc",
      "metadata": {
        "id": "73b0c1ed-b6be-4621-9b8c-d704bf237bbc"
      },
      "outputs": [],
      "source": []
    },
    {
      "cell_type": "markdown",
      "id": "0a1c90b2-6e23-452a-80db-3152445a4363",
      "metadata": {
        "jp-MarkdownHeadingCollapsed": true,
        "tags": [],
        "id": "0a1c90b2-6e23-452a-80db-3152445a4363"
      },
      "source": [
        "### 2.2 Apenas descrições em inglês"
      ]
    },
    {
      "cell_type": "code",
      "execution_count": null,
      "id": "7d22cba6-0b22-41f9-a98c-98da56c7b4bf",
      "metadata": {
        "id": "7d22cba6-0b22-41f9-a98c-98da56c7b4bf"
      },
      "outputs": [],
      "source": [
        "hotelUS  = data[data['description']!='']\n",
        "hotelUS = hotelUS[0:150]"
      ]
    },
    {
      "cell_type": "code",
      "execution_count": null,
      "id": "4ed1c09b-cdab-481b-9cf1-409caa0020bb",
      "metadata": {
        "id": "4ed1c09b-cdab-481b-9cf1-409caa0020bb",
        "outputId": "4e0762b2-40fd-4973-a5c3-db54a4834889",
        "colab": {
          "base_uri": "https://localhost:8080/",
          "height": 35
        }
      },
      "outputs": [
        {
          "output_type": "execute_result",
          "data": {
            "text/plain": [
              "'en'"
            ],
            "application/vnd.google.colaboratory.intrinsic+json": {
              "type": "string"
            }
          },
          "metadata": {},
          "execution_count": 6
        }
      ],
      "source": [
        "langdetect.detect(str(hotelUS['description'][2]))"
      ]
    },
    {
      "cell_type": "code",
      "execution_count": null,
      "id": "d35ba768-ee68-41d7-8edc-77afbae75036",
      "metadata": {
        "id": "d35ba768-ee68-41d7-8edc-77afbae75036"
      },
      "outputs": [],
      "source": [
        "hotelUS= hotelUS[hotelUS['idioma']=='en']"
      ]
    },
    {
      "cell_type": "code",
      "execution_count": null,
      "id": "2c92ca0c-a881-4382-8f0e-d9b0a9ba0a63",
      "metadata": {
        "id": "2c92ca0c-a881-4382-8f0e-d9b0a9ba0a63"
      },
      "outputs": [],
      "source": [
        "hotelUS.reset_index(inplace= True)"
      ]
    },
    {
      "cell_type": "code",
      "source": [
        "hotelUS.drop(columns = 'index',inplace= True)\n",
        "hotelUS"
      ],
      "metadata": {
        "colab": {
          "base_uri": "https://localhost:8080/",
          "height": 423
        },
        "id": "PvXjwHXPFhdb",
        "outputId": "f6003644-860f-4557-e98b-08e4b5d73961"
      },
      "id": "PvXjwHXPFhdb",
      "execution_count": null,
      "outputs": [
        {
          "output_type": "execute_result",
          "data": {
            "text/plain": [
              "                                     short_description  \\\n",
              "0    Nice, France. ((* Sorry, this information is n...   \n",
              "1    Notting Hill - Paddington Station Area. ((* So...   \n",
              "2    Há várias opções de lazer e entretenimento ao ...   \n",
              "3    Fort Collins North. ((* Sorry, this informatio...   \n",
              "4    Alivie o stress com massagens, tratamentos cor...   \n",
              "..                                                 ...   \n",
              "118  Fredericksburg South. ((* Sorry, this informat...   \n",
              "119  As propostas de lazer e entretenimento à sua d...   \n",
              "120  Mime-se com massagens e tratamentos faciais no...   \n",
              "121  Há várias opções de lazer e entretenimento ao ...   \n",
              "122  The hotel has undergone extensive renovations ...   \n",
              "\n",
              "                                           description idioma  \n",
              "0    Located in Nice's city center, Best Western Ho...     en  \n",
              "1    In London's Bayswater district, the Comfort In...     en  \n",
              "2    Breakfast is offered daily and rooms feature f...     en  \n",
              "3    The Elizabeth Hotel, Autograph Collection feat...     en  \n",
              "4    Located in Sattahip, 15 miles from Eastern Sta...     en  \n",
              "..                                                 ...    ...  \n",
              "118  Located just minutes from historic Fredericksb...     en  \n",
              "119  Comfort Inn & Suites features an indoor pool a...     en  \n",
              "120  This waterfront Newport, Rhode Island property...     en  \n",
              "121  Copantl Hotel & Convention Center, tennis cour...     en  \n",
              "122  The hotel has undergone extensive renovations ...     en  \n",
              "\n",
              "[123 rows x 3 columns]"
            ],
            "text/html": [
              "\n",
              "  <div id=\"df-e86a3eea-bc47-4442-b0df-924da5ab0635\">\n",
              "    <div class=\"colab-df-container\">\n",
              "      <div>\n",
              "<style scoped>\n",
              "    .dataframe tbody tr th:only-of-type {\n",
              "        vertical-align: middle;\n",
              "    }\n",
              "\n",
              "    .dataframe tbody tr th {\n",
              "        vertical-align: top;\n",
              "    }\n",
              "\n",
              "    .dataframe thead th {\n",
              "        text-align: right;\n",
              "    }\n",
              "</style>\n",
              "<table border=\"1\" class=\"dataframe\">\n",
              "  <thead>\n",
              "    <tr style=\"text-align: right;\">\n",
              "      <th></th>\n",
              "      <th>short_description</th>\n",
              "      <th>description</th>\n",
              "      <th>idioma</th>\n",
              "    </tr>\n",
              "  </thead>\n",
              "  <tbody>\n",
              "    <tr>\n",
              "      <th>0</th>\n",
              "      <td>Nice, France. ((* Sorry, this information is n...</td>\n",
              "      <td>Located in Nice's city center, Best Western Ho...</td>\n",
              "      <td>en</td>\n",
              "    </tr>\n",
              "    <tr>\n",
              "      <th>1</th>\n",
              "      <td>Notting Hill - Paddington Station Area. ((* So...</td>\n",
              "      <td>In London's Bayswater district, the Comfort In...</td>\n",
              "      <td>en</td>\n",
              "    </tr>\n",
              "    <tr>\n",
              "      <th>2</th>\n",
              "      <td>Há várias opções de lazer e entretenimento ao ...</td>\n",
              "      <td>Breakfast is offered daily and rooms feature f...</td>\n",
              "      <td>en</td>\n",
              "    </tr>\n",
              "    <tr>\n",
              "      <th>3</th>\n",
              "      <td>Fort Collins North. ((* Sorry, this informatio...</td>\n",
              "      <td>The Elizabeth Hotel, Autograph Collection feat...</td>\n",
              "      <td>en</td>\n",
              "    </tr>\n",
              "    <tr>\n",
              "      <th>4</th>\n",
              "      <td>Alivie o stress com massagens, tratamentos cor...</td>\n",
              "      <td>Located in Sattahip, 15 miles from Eastern Sta...</td>\n",
              "      <td>en</td>\n",
              "    </tr>\n",
              "    <tr>\n",
              "      <th>...</th>\n",
              "      <td>...</td>\n",
              "      <td>...</td>\n",
              "      <td>...</td>\n",
              "    </tr>\n",
              "    <tr>\n",
              "      <th>118</th>\n",
              "      <td>Fredericksburg South. ((* Sorry, this informat...</td>\n",
              "      <td>Located just minutes from historic Fredericksb...</td>\n",
              "      <td>en</td>\n",
              "    </tr>\n",
              "    <tr>\n",
              "      <th>119</th>\n",
              "      <td>As propostas de lazer e entretenimento à sua d...</td>\n",
              "      <td>Comfort Inn &amp; Suites features an indoor pool a...</td>\n",
              "      <td>en</td>\n",
              "    </tr>\n",
              "    <tr>\n",
              "      <th>120</th>\n",
              "      <td>Mime-se com massagens e tratamentos faciais no...</td>\n",
              "      <td>This waterfront Newport, Rhode Island property...</td>\n",
              "      <td>en</td>\n",
              "    </tr>\n",
              "    <tr>\n",
              "      <th>121</th>\n",
              "      <td>Há várias opções de lazer e entretenimento ao ...</td>\n",
              "      <td>Copantl Hotel &amp; Convention Center, tennis cour...</td>\n",
              "      <td>en</td>\n",
              "    </tr>\n",
              "    <tr>\n",
              "      <th>122</th>\n",
              "      <td>The hotel has undergone extensive renovations ...</td>\n",
              "      <td>The hotel has undergone extensive renovations ...</td>\n",
              "      <td>en</td>\n",
              "    </tr>\n",
              "  </tbody>\n",
              "</table>\n",
              "<p>123 rows × 3 columns</p>\n",
              "</div>\n",
              "      <button class=\"colab-df-convert\" onclick=\"convertToInteractive('df-e86a3eea-bc47-4442-b0df-924da5ab0635')\"\n",
              "              title=\"Convert this dataframe to an interactive table.\"\n",
              "              style=\"display:none;\">\n",
              "        \n",
              "  <svg xmlns=\"http://www.w3.org/2000/svg\" height=\"24px\"viewBox=\"0 0 24 24\"\n",
              "       width=\"24px\">\n",
              "    <path d=\"M0 0h24v24H0V0z\" fill=\"none\"/>\n",
              "    <path d=\"M18.56 5.44l.94 2.06.94-2.06 2.06-.94-2.06-.94-.94-2.06-.94 2.06-2.06.94zm-11 1L8.5 8.5l.94-2.06 2.06-.94-2.06-.94L8.5 2.5l-.94 2.06-2.06.94zm10 10l.94 2.06.94-2.06 2.06-.94-2.06-.94-.94-2.06-.94 2.06-2.06.94z\"/><path d=\"M17.41 7.96l-1.37-1.37c-.4-.4-.92-.59-1.43-.59-.52 0-1.04.2-1.43.59L10.3 9.45l-7.72 7.72c-.78.78-.78 2.05 0 2.83L4 21.41c.39.39.9.59 1.41.59.51 0 1.02-.2 1.41-.59l7.78-7.78 2.81-2.81c.8-.78.8-2.07 0-2.86zM5.41 20L4 18.59l7.72-7.72 1.47 1.35L5.41 20z\"/>\n",
              "  </svg>\n",
              "      </button>\n",
              "      \n",
              "  <style>\n",
              "    .colab-df-container {\n",
              "      display:flex;\n",
              "      flex-wrap:wrap;\n",
              "      gap: 12px;\n",
              "    }\n",
              "\n",
              "    .colab-df-convert {\n",
              "      background-color: #E8F0FE;\n",
              "      border: none;\n",
              "      border-radius: 50%;\n",
              "      cursor: pointer;\n",
              "      display: none;\n",
              "      fill: #1967D2;\n",
              "      height: 32px;\n",
              "      padding: 0 0 0 0;\n",
              "      width: 32px;\n",
              "    }\n",
              "\n",
              "    .colab-df-convert:hover {\n",
              "      background-color: #E2EBFA;\n",
              "      box-shadow: 0px 1px 2px rgba(60, 64, 67, 0.3), 0px 1px 3px 1px rgba(60, 64, 67, 0.15);\n",
              "      fill: #174EA6;\n",
              "    }\n",
              "\n",
              "    [theme=dark] .colab-df-convert {\n",
              "      background-color: #3B4455;\n",
              "      fill: #D2E3FC;\n",
              "    }\n",
              "\n",
              "    [theme=dark] .colab-df-convert:hover {\n",
              "      background-color: #434B5C;\n",
              "      box-shadow: 0px 1px 3px 1px rgba(0, 0, 0, 0.15);\n",
              "      filter: drop-shadow(0px 1px 2px rgba(0, 0, 0, 0.3));\n",
              "      fill: #FFFFFF;\n",
              "    }\n",
              "  </style>\n",
              "\n",
              "      <script>\n",
              "        const buttonEl =\n",
              "          document.querySelector('#df-e86a3eea-bc47-4442-b0df-924da5ab0635 button.colab-df-convert');\n",
              "        buttonEl.style.display =\n",
              "          google.colab.kernel.accessAllowed ? 'block' : 'none';\n",
              "\n",
              "        async function convertToInteractive(key) {\n",
              "          const element = document.querySelector('#df-e86a3eea-bc47-4442-b0df-924da5ab0635');\n",
              "          const dataTable =\n",
              "            await google.colab.kernel.invokeFunction('convertToInteractive',\n",
              "                                                     [key], {});\n",
              "          if (!dataTable) return;\n",
              "\n",
              "          const docLinkHtml = 'Like what you see? Visit the ' +\n",
              "            '<a target=\"_blank\" href=https://colab.research.google.com/notebooks/data_table.ipynb>data table notebook</a>'\n",
              "            + ' to learn more about interactive tables.';\n",
              "          element.innerHTML = '';\n",
              "          dataTable['output_type'] = 'display_data';\n",
              "          await google.colab.output.renderOutput(dataTable, element);\n",
              "          const docLink = document.createElement('div');\n",
              "          docLink.innerHTML = docLinkHtml;\n",
              "          element.appendChild(docLink);\n",
              "        }\n",
              "      </script>\n",
              "    </div>\n",
              "  </div>\n",
              "  "
            ]
          },
          "metadata": {},
          "execution_count": 9
        }
      ]
    },
    {
      "cell_type": "code",
      "execution_count": null,
      "id": "c05ea75c-dd4b-4b65-8b5e-b4d9b695e56e",
      "metadata": {
        "id": "c05ea75c-dd4b-4b65-8b5e-b4d9b695e56e",
        "outputId": "54c5f628-9116-4083-bd09-7f71b6e486c2",
        "colab": {
          "base_uri": "https://localhost:8080/",
          "height": 174
        }
      },
      "outputs": [
        {
          "output_type": "execute_result",
          "data": {
            "text/plain": [
              "                                        short_description  \\\n",
              "count                                                 123   \n",
              "unique                                                123   \n",
              "top     Nice, France. ((* Sorry, this information is n...   \n",
              "freq                                                    1   \n",
              "\n",
              "                                              description idioma  \n",
              "count                                                 123    123  \n",
              "unique                                                123      1  \n",
              "top     Located in Nice's city center, Best Western Ho...     en  \n",
              "freq                                                    1    123  "
            ],
            "text/html": [
              "\n",
              "  <div id=\"df-c1ae6b80-e46f-43b2-8bf8-fd6c3003a405\">\n",
              "    <div class=\"colab-df-container\">\n",
              "      <div>\n",
              "<style scoped>\n",
              "    .dataframe tbody tr th:only-of-type {\n",
              "        vertical-align: middle;\n",
              "    }\n",
              "\n",
              "    .dataframe tbody tr th {\n",
              "        vertical-align: top;\n",
              "    }\n",
              "\n",
              "    .dataframe thead th {\n",
              "        text-align: right;\n",
              "    }\n",
              "</style>\n",
              "<table border=\"1\" class=\"dataframe\">\n",
              "  <thead>\n",
              "    <tr style=\"text-align: right;\">\n",
              "      <th></th>\n",
              "      <th>short_description</th>\n",
              "      <th>description</th>\n",
              "      <th>idioma</th>\n",
              "    </tr>\n",
              "  </thead>\n",
              "  <tbody>\n",
              "    <tr>\n",
              "      <th>count</th>\n",
              "      <td>123</td>\n",
              "      <td>123</td>\n",
              "      <td>123</td>\n",
              "    </tr>\n",
              "    <tr>\n",
              "      <th>unique</th>\n",
              "      <td>123</td>\n",
              "      <td>123</td>\n",
              "      <td>1</td>\n",
              "    </tr>\n",
              "    <tr>\n",
              "      <th>top</th>\n",
              "      <td>Nice, France. ((* Sorry, this information is n...</td>\n",
              "      <td>Located in Nice's city center, Best Western Ho...</td>\n",
              "      <td>en</td>\n",
              "    </tr>\n",
              "    <tr>\n",
              "      <th>freq</th>\n",
              "      <td>1</td>\n",
              "      <td>1</td>\n",
              "      <td>123</td>\n",
              "    </tr>\n",
              "  </tbody>\n",
              "</table>\n",
              "</div>\n",
              "      <button class=\"colab-df-convert\" onclick=\"convertToInteractive('df-c1ae6b80-e46f-43b2-8bf8-fd6c3003a405')\"\n",
              "              title=\"Convert this dataframe to an interactive table.\"\n",
              "              style=\"display:none;\">\n",
              "        \n",
              "  <svg xmlns=\"http://www.w3.org/2000/svg\" height=\"24px\"viewBox=\"0 0 24 24\"\n",
              "       width=\"24px\">\n",
              "    <path d=\"M0 0h24v24H0V0z\" fill=\"none\"/>\n",
              "    <path d=\"M18.56 5.44l.94 2.06.94-2.06 2.06-.94-2.06-.94-.94-2.06-.94 2.06-2.06.94zm-11 1L8.5 8.5l.94-2.06 2.06-.94-2.06-.94L8.5 2.5l-.94 2.06-2.06.94zm10 10l.94 2.06.94-2.06 2.06-.94-2.06-.94-.94-2.06-.94 2.06-2.06.94z\"/><path d=\"M17.41 7.96l-1.37-1.37c-.4-.4-.92-.59-1.43-.59-.52 0-1.04.2-1.43.59L10.3 9.45l-7.72 7.72c-.78.78-.78 2.05 0 2.83L4 21.41c.39.39.9.59 1.41.59.51 0 1.02-.2 1.41-.59l7.78-7.78 2.81-2.81c.8-.78.8-2.07 0-2.86zM5.41 20L4 18.59l7.72-7.72 1.47 1.35L5.41 20z\"/>\n",
              "  </svg>\n",
              "      </button>\n",
              "      \n",
              "  <style>\n",
              "    .colab-df-container {\n",
              "      display:flex;\n",
              "      flex-wrap:wrap;\n",
              "      gap: 12px;\n",
              "    }\n",
              "\n",
              "    .colab-df-convert {\n",
              "      background-color: #E8F0FE;\n",
              "      border: none;\n",
              "      border-radius: 50%;\n",
              "      cursor: pointer;\n",
              "      display: none;\n",
              "      fill: #1967D2;\n",
              "      height: 32px;\n",
              "      padding: 0 0 0 0;\n",
              "      width: 32px;\n",
              "    }\n",
              "\n",
              "    .colab-df-convert:hover {\n",
              "      background-color: #E2EBFA;\n",
              "      box-shadow: 0px 1px 2px rgba(60, 64, 67, 0.3), 0px 1px 3px 1px rgba(60, 64, 67, 0.15);\n",
              "      fill: #174EA6;\n",
              "    }\n",
              "\n",
              "    [theme=dark] .colab-df-convert {\n",
              "      background-color: #3B4455;\n",
              "      fill: #D2E3FC;\n",
              "    }\n",
              "\n",
              "    [theme=dark] .colab-df-convert:hover {\n",
              "      background-color: #434B5C;\n",
              "      box-shadow: 0px 1px 3px 1px rgba(0, 0, 0, 0.15);\n",
              "      filter: drop-shadow(0px 1px 2px rgba(0, 0, 0, 0.3));\n",
              "      fill: #FFFFFF;\n",
              "    }\n",
              "  </style>\n",
              "\n",
              "      <script>\n",
              "        const buttonEl =\n",
              "          document.querySelector('#df-c1ae6b80-e46f-43b2-8bf8-fd6c3003a405 button.colab-df-convert');\n",
              "        buttonEl.style.display =\n",
              "          google.colab.kernel.accessAllowed ? 'block' : 'none';\n",
              "\n",
              "        async function convertToInteractive(key) {\n",
              "          const element = document.querySelector('#df-c1ae6b80-e46f-43b2-8bf8-fd6c3003a405');\n",
              "          const dataTable =\n",
              "            await google.colab.kernel.invokeFunction('convertToInteractive',\n",
              "                                                     [key], {});\n",
              "          if (!dataTable) return;\n",
              "\n",
              "          const docLinkHtml = 'Like what you see? Visit the ' +\n",
              "            '<a target=\"_blank\" href=https://colab.research.google.com/notebooks/data_table.ipynb>data table notebook</a>'\n",
              "            + ' to learn more about interactive tables.';\n",
              "          element.innerHTML = '';\n",
              "          dataTable['output_type'] = 'display_data';\n",
              "          await google.colab.output.renderOutput(dataTable, element);\n",
              "          const docLink = document.createElement('div');\n",
              "          docLink.innerHTML = docLinkHtml;\n",
              "          element.appendChild(docLink);\n",
              "        }\n",
              "      </script>\n",
              "    </div>\n",
              "  </div>\n",
              "  "
            ]
          },
          "metadata": {},
          "execution_count": 10
        }
      ],
      "source": [
        "all_descriptionsUS = list(hotelUS['description'].values)\n",
        "\n",
        "hotelUS.describe()"
      ]
    },
    {
      "cell_type": "code",
      "execution_count": null,
      "id": "b7c1a1c4-3835-45c0-bc85-334d21d1439a",
      "metadata": {
        "id": "b7c1a1c4-3835-45c0-bc85-334d21d1439a",
        "outputId": "c753d9f6-6820-41cf-b104-69a028cd3f34",
        "colab": {
          "base_uri": "https://localhost:8080/"
        }
      },
      "outputs": [
        {
          "output_type": "execute_result",
          "data": {
            "text/plain": [
              "[\"Located in Nice's city center, Best Western Hotel Lakmi Nice is located on Avenue Jean Medecin, Nice's main shopping street which leads to Place Massena. It is next to Nice Etoile Shopping Center and is just 1969 feet from Nice- Ville Train Station. Each spacious air-conditioned guest room has a flat- screen TV and a private bathroom fitted with a hairdryer. Some of the soundproofed rooms feature wrought iron furniture and some rooms offer a balcony. WiFi access is available throughout the hotel. A buffet breakfast is served every morning in the breakfast room at the Best Western Hotel Lakmi Nice. Newspapers are available for guests and there is also a bar on site. The Promenade des Anglais is a 13-minute walk from the hotel and Vieux Nice, the historic district, is a 15-minute walk away. Six private parking spaces are available on site at an additional cost, which cannot be booked in advance. ((* Sorry, this information is not available in the selected language and is shown in EN).\"]"
            ]
          },
          "metadata": {},
          "execution_count": 11
        }
      ],
      "source": [
        "corpusUS = [x for x in all_descriptionsUS]\n",
        "corpusUS[:1]"
      ]
    },
    {
      "cell_type": "code",
      "execution_count": null,
      "id": "fbfbae1d-7707-47b7-9b66-572ef045da1b",
      "metadata": {
        "id": "fbfbae1d-7707-47b7-9b66-572ef045da1b"
      },
      "outputs": [],
      "source": [
        "tUS = Tokenizer(num_words=None, filters='!\"#$%&()*+,-./:;<=>?@[\\\\]^_`{|}~\\t\\n0123456789', lower=True, split=' ', char_level=False, oov_token=None, document_count=0)\n",
        "tUS.fit_on_texts(corpusUS)"
      ]
    },
    {
      "cell_type": "code",
      "source": [],
      "metadata": {
        "id": "39J8rNC3LcaK"
      },
      "id": "39J8rNC3LcaK",
      "execution_count": null,
      "outputs": []
    },
    {
      "cell_type": "code",
      "execution_count": null,
      "id": "1e2719de-3ffb-40e1-b5c5-994c0b8fcd01",
      "metadata": {
        "collapsed": true,
        "jupyter": {
          "outputs_hidden": true
        },
        "tags": [],
        "id": "1e2719de-3ffb-40e1-b5c5-994c0b8fcd01"
      },
      "outputs": [],
      "source": [
        "# A dictionary of words and their counts.\n",
        "#print(tUS.word_counts)\n",
        "\n",
        "# A dictionary of words and how many documents each appeared in.\n",
        "#print(tUS.word_docs)\n",
        "\n",
        "# An integer count of the total number of documents that were used to fit the Tokenizer (i.e. total number of documents)\n",
        "#print(tUS.document_count)\n",
        "\n",
        "# A dictionary of words and their uniquely assigned integers.\n",
        "#print(tUS.word_index)"
      ]
    },
    {
      "cell_type": "code",
      "execution_count": null,
      "id": "ec4090e6-f329-4057-baea-9376f0022389",
      "metadata": {
        "id": "ec4090e6-f329-4057-baea-9376f0022389",
        "outputId": "f8b82e95-145f-49f0-d470-3cfcc2d60d19",
        "colab": {
          "base_uri": "https://localhost:8080/"
        }
      },
      "outputs": [
        {
          "output_type": "stream",
          "name": "stdout",
          "text": [
            "Found 2604 unique tokens.\n"
          ]
        }
      ],
      "source": [
        "print('Found %s unique tokens.' % len(tUS.word_index))"
      ]
    },
    {
      "cell_type": "code",
      "execution_count": null,
      "id": "630fa4ed-045d-44b9-992f-e4d54f57c2a0",
      "metadata": {
        "id": "630fa4ed-045d-44b9-992f-e4d54f57c2a0"
      },
      "outputs": [],
      "source": [
        "# Tokenization\n",
        "tUS = Tokenizer(num_words=None, filters='!\"#$%&()*+,-./:;<=>?@[\\\\]^_`{|}~\\t\\n0123456789', lower=True, split=' ', char_level=False, oov_token=None, document_count=0)\n",
        "\n",
        "def get_sequence_of_tokensUS(corpusUS):\n",
        "    tUS.fit_on_texts(corpusUS)\n",
        "    total_wordsUS = len(tUS.word_index) + 1\n",
        "    \n",
        "    input_sequencesUS = []\n",
        "    for line in corpusUS:\n",
        "        token_list = tUS.texts_to_sequences([line])[0]\n",
        "        for i in range(1, len(token_list)):\n",
        "            n_gram_sequence = token_list[:i+1]\n",
        "            input_sequencesUS.append(n_gram_sequence)\n",
        "            \n",
        "    return input_sequencesUS, total_wordsUS"
      ]
    },
    {
      "cell_type": "code",
      "execution_count": null,
      "id": "b52b5617-a2a0-47f4-907f-25acbeea7cd5",
      "metadata": {
        "id": "b52b5617-a2a0-47f4-907f-25acbeea7cd5"
      },
      "outputs": [],
      "source": [
        "input_sequencesUS, total_wordsUS = get_sequence_of_tokensUS(corpusUS)\n"
      ]
    },
    {
      "cell_type": "code",
      "execution_count": null,
      "id": "678ebe35-b826-4c4d-b64f-7ea2dbe8860f",
      "metadata": {
        "id": "678ebe35-b826-4c4d-b64f-7ea2dbe8860f",
        "outputId": "c449a16e-0eb3-4cd8-ca36-5389d40307fc",
        "colab": {
          "base_uri": "https://localhost:8080/"
        }
      },
      "outputs": [
        {
          "output_type": "execute_result",
          "data": {
            "text/plain": [
              "[[26, 5],\n",
              " [26, 5, 880],\n",
              " [26, 5, 880, 99],\n",
              " [26, 5, 880, 99, 24],\n",
              " [26, 5, 880, 99, 24, 152],\n",
              " [26, 5, 880, 99, 24, 152, 217],\n",
              " [26, 5, 880, 99, 24, 152, 217, 6],\n",
              " [26, 5, 880, 99, 24, 152, 217, 6, 881],\n",
              " [26, 5, 880, 99, 24, 152, 217, 6, 881, 437],\n",
              " [26, 5, 880, 99, 24, 152, 217, 6, 881, 437, 3]]"
            ]
          },
          "metadata": {},
          "execution_count": 17
        }
      ],
      "source": [
        "input_sequencesUS[:10]"
      ]
    },
    {
      "cell_type": "code",
      "execution_count": null,
      "id": "efafd441-b15a-49ef-953f-dcee969a61c4",
      "metadata": {
        "id": "efafd441-b15a-49ef-953f-dcee969a61c4"
      },
      "outputs": [],
      "source": [
        "# pad sequences \n",
        "def generate_padded_sequencesUS(input_sequencesUS):\n",
        "    max_sequence_lenUS = max([len(x) for x in input_sequencesUS])\n",
        "    input_sequencesUS = np.array(pad_sequences(input_sequencesUS, maxlen = max_sequence_lenUS, padding = 'pre'))\n",
        "    predictorsUS, labelUS = input_sequencesUS[:,:-1],input_sequencesUS[:,-1]\n",
        "    labelUS = ku.to_categorical(labelUS, num_classes = total_wordsUS)\n",
        "    \n",
        "    return predictorsUS, labelUS, max_sequence_lenUS\n",
        "\n",
        "predictorsUS, labelUS, max_sequence_lenUS = generate_padded_sequencesUS(input_sequencesUS)"
      ]
    },
    {
      "cell_type": "code",
      "execution_count": null,
      "id": "5b4f350f-07f5-4bc2-9ad8-c6daf85c58fe",
      "metadata": {
        "id": "5b4f350f-07f5-4bc2-9ad8-c6daf85c58fe",
        "outputId": "896e98eb-7f74-4935-9f7c-be210acb0be0",
        "colab": {
          "base_uri": "https://localhost:8080/"
        }
      },
      "outputs": [
        {
          "output_type": "stream",
          "name": "stdout",
          "text": [
            "Model: \"sequential_2\"\n",
            "_________________________________________________________________\n",
            " Layer (type)                Output Shape              Param #   \n",
            "=================================================================\n",
            " embedding_2 (Embedding)     (None, 720, 10)           26050     \n",
            "                                                                 \n",
            " lstm_2 (LSTM)               (None, 100)               44400     \n",
            "                                                                 \n",
            " dropout_2 (Dropout)         (None, 100)               0         \n",
            "                                                                 \n",
            " dense_2 (Dense)             (None, 2605)              263105    \n",
            "                                                                 \n",
            "=================================================================\n",
            "Total params: 333,555\n",
            "Trainable params: 333,555\n",
            "Non-trainable params: 0\n",
            "_________________________________________________________________\n"
          ]
        }
      ],
      "source": [
        "def create_modelUS(max_sequence_lenUS, total_wordsUS):\n",
        "    modelUS = Sequential()\n",
        "    \n",
        "    # Add Input Embedding Layer\n",
        "    modelUS.add(Embedding(total_wordsUS, 10, input_length=max_sequence_lenUS - 1))\n",
        "    \n",
        "    # Add Hidden Layer 1 - LSTM Layer\n",
        "    modelUS.add(LSTM(100))\n",
        "    modelUS.add(Dropout(0.1))\n",
        "    \n",
        "    # Add Output Layer\n",
        "    modelUS.add(Dense(total_wordsUS, activation='softmax'))\n",
        "\n",
        "    modelUS.compile(loss='categorical_crossentropy', optimizer='adam', metrics=['accuracy'])\n",
        "    \n",
        "    return modelUS\n",
        "\n",
        "modelUS = create_modelUS(max_sequence_lenUS, total_wordsUS)\n",
        "modelUS.summary()"
      ]
    },
    {
      "cell_type": "code",
      "execution_count": null,
      "id": "8c92c56b-fed2-4483-9c7f-fe5d9edda509",
      "metadata": {
        "id": "8c92c56b-fed2-4483-9c7f-fe5d9edda509",
        "outputId": "2c405ead-1631-4c5a-a79f-f19139641c43",
        "colab": {
          "base_uri": "https://localhost:8080/"
        }
      },
      "outputs": [
        {
          "output_type": "stream",
          "name": "stdout",
          "text": [
            "Epoch 1/50\n",
            "567/567 [==============================] - 94s 150ms/step - loss: 6.3508\n",
            "Epoch 2/50\n",
            "567/567 [==============================] - 34s 59ms/step - loss: 5.8773\n",
            "Epoch 3/50\n",
            "567/567 [==============================] - 26s 46ms/step - loss: 5.6575\n",
            "Epoch 4/50\n",
            "567/567 [==============================] - 21s 36ms/step - loss: 5.4437\n",
            "Epoch 5/50\n",
            "567/567 [==============================] - 21s 37ms/step - loss: 5.2385\n",
            "Epoch 6/50\n",
            "567/567 [==============================] - 21s 37ms/step - loss: 5.0432\n",
            "Epoch 7/50\n",
            "567/567 [==============================] - 17s 31ms/step - loss: 4.8523\n",
            "Epoch 8/50\n",
            "567/567 [==============================] - 19s 34ms/step - loss: 4.6628\n",
            "Epoch 9/50\n",
            "567/567 [==============================] - 17s 30ms/step - loss: 4.4814\n",
            "Epoch 10/50\n",
            "567/567 [==============================] - 18s 32ms/step - loss: 4.3106\n",
            "Epoch 11/50\n",
            "567/567 [==============================] - 17s 30ms/step - loss: 4.1560\n",
            "Epoch 12/50\n",
            "567/567 [==============================] - 17s 30ms/step - loss: 3.9981\n",
            "Epoch 13/50\n",
            "567/567 [==============================] - 18s 33ms/step - loss: 3.8563\n",
            "Epoch 14/50\n",
            "567/567 [==============================] - 17s 30ms/step - loss: 3.7180\n",
            "Epoch 15/50\n",
            "567/567 [==============================] - 17s 30ms/step - loss: 3.5842\n",
            "Epoch 16/50\n",
            "567/567 [==============================] - 17s 30ms/step - loss: 3.4550\n",
            "Epoch 17/50\n",
            "567/567 [==============================] - 16s 29ms/step - loss: 3.3303\n",
            "Epoch 18/50\n",
            "567/567 [==============================] - 16s 29ms/step - loss: 3.2128\n",
            "Epoch 19/50\n",
            "567/567 [==============================] - 16s 29ms/step - loss: 3.0992\n",
            "Epoch 20/50\n",
            "567/567 [==============================] - 16s 28ms/step - loss: 2.9932\n",
            "Epoch 21/50\n",
            "567/567 [==============================] - 18s 32ms/step - loss: 2.8897\n",
            "Epoch 22/50\n",
            "567/567 [==============================] - 17s 29ms/step - loss: 2.7881\n",
            "Epoch 23/50\n",
            "567/567 [==============================] - 17s 30ms/step - loss: 2.6919\n",
            "Epoch 24/50\n",
            "567/567 [==============================] - 17s 30ms/step - loss: 2.5994\n",
            "Epoch 25/50\n",
            "567/567 [==============================] - 17s 29ms/step - loss: 2.5177\n",
            "Epoch 26/50\n",
            "567/567 [==============================] - 16s 29ms/step - loss: 2.4383\n",
            "Epoch 27/50\n",
            "567/567 [==============================] - 17s 29ms/step - loss: 2.3671\n",
            "Epoch 28/50\n",
            "567/567 [==============================] - 17s 29ms/step - loss: 2.2905\n",
            "Epoch 29/50\n",
            "567/567 [==============================] - 17s 31ms/step - loss: 2.2229\n",
            "Epoch 30/50\n",
            "567/567 [==============================] - 17s 29ms/step - loss: 2.1667\n",
            "Epoch 31/50\n",
            "567/567 [==============================] - 16s 29ms/step - loss: 2.1069\n",
            "Epoch 32/50\n",
            "567/567 [==============================] - 17s 29ms/step - loss: 2.0601\n",
            "Epoch 33/50\n",
            "567/567 [==============================] - 16s 29ms/step - loss: 2.0073\n",
            "Epoch 34/50\n",
            "567/567 [==============================] - 16s 29ms/step - loss: 1.9905\n",
            "Epoch 35/50\n",
            "567/567 [==============================] - 17s 29ms/step - loss: 1.9566\n",
            "Epoch 36/50\n",
            "567/567 [==============================] - 16s 29ms/step - loss: 1.8852\n",
            "Epoch 37/50\n",
            "567/567 [==============================] - 18s 32ms/step - loss: 1.8342\n",
            "Epoch 38/50\n",
            "567/567 [==============================] - 16s 29ms/step - loss: 1.7936\n",
            "Epoch 39/50\n",
            "567/567 [==============================] - 16s 29ms/step - loss: 1.7520\n",
            "Epoch 40/50\n",
            "567/567 [==============================] - 16s 28ms/step - loss: 1.7185\n",
            "Epoch 41/50\n",
            "567/567 [==============================] - 16s 28ms/step - loss: 1.6791\n",
            "Epoch 42/50\n",
            "567/567 [==============================] - 16s 29ms/step - loss: 1.6525\n",
            "Epoch 43/50\n",
            "567/567 [==============================] - 16s 28ms/step - loss: 1.6148\n",
            "Epoch 44/50\n",
            "567/567 [==============================] - 16s 29ms/step - loss: 1.5855\n",
            "Epoch 45/50\n",
            "567/567 [==============================] - 16s 29ms/step - loss: 1.5455\n",
            "Epoch 46/50\n",
            "567/567 [==============================] - 18s 31ms/step - loss: 1.5179\n",
            "Epoch 47/50\n",
            "567/567 [==============================] - 16s 29ms/step - loss: 1.4876\n",
            "Epoch 48/50\n",
            "567/567 [==============================] - 16s 28ms/step - loss: 1.4587\n",
            "Epoch 49/50\n",
            "567/567 [==============================] - 17s 29ms/step - loss: 1.4352\n",
            "Epoch 50/50\n",
            "567/567 [==============================] - 17s 29ms/step - loss: 1.4089\n"
          ]
        },
        {
          "output_type": "execute_result",
          "data": {
            "text/plain": [
              "<keras.callbacks.History at 0x7f2af86f3c10>"
            ]
          },
          "metadata": {},
          "execution_count": 20
        }
      ],
      "source": [
        "modelUS.fit(predictorsUS, labelUS, epochs=50, verbose=1)"
      ]
    },
    {
      "cell_type": "code",
      "source": [
        "# Avaliação do modelo\n",
        "accuracy = modelUS.evaluate(predictorsUS, labelUS)[1]\n",
        "print(\"Accuracy:\", accuracy)"
      ],
      "metadata": {
        "colab": {
          "base_uri": "https://localhost:8080/"
        },
        "id": "mWlcbin-BwUj",
        "outputId": "14ee8615-08a1-4d13-d14d-1c05d4af85c9"
      },
      "id": "mWlcbin-BwUj",
      "execution_count": null,
      "outputs": [
        {
          "output_type": "stream",
          "name": "stdout",
          "text": [
            "567/567 [==============================] - 8s 12ms/step - loss: 7.8652 - accuracy: 2.7604e-04\n",
            "Accuracy: 0.0002760448260232806\n"
          ]
        }
      ]
    },
    {
      "cell_type": "code",
      "execution_count": null,
      "id": "d476b810-4cb6-4abb-8653-3c289ed5202c",
      "metadata": {
        "id": "d476b810-4cb6-4abb-8653-3c289ed5202c"
      },
      "outputs": [],
      "source": [
        "def generate_textUS(seed_textUS, next_wordsUS, modelUS, max_seq_lenUS):\n",
        "    for _ in range(next_wordsUS):\n",
        "        token_listUS = tUS.texts_to_sequences([seed_textUS])[0]\n",
        "        token_listUS = pad_sequences([token_listUS], maxlen=max_seq_lenUS-1, padding='pre')\n",
        "        \n",
        "        #predicted = model.predict_classes(token_list, verbose=0)\n",
        "        predicted = np.argmax(modelUS.predict(token_listUS, verbose=0), axis=-1)\n",
        "        output_word = ''\n",
        "        \n",
        "        for word,index in tUS.word_index.items():\n",
        "            if index == predicted:\n",
        "                output_word = word\n",
        "                break\n",
        "                \n",
        "        seed_textUS = seed_textUS + \" \" + output_word\n",
        "        \n",
        "    return seed_textUS.title()"
      ]
    },
    {
      "cell_type": "code",
      "execution_count": null,
      "id": "3954285a-6ae4-43a0-b61c-de633a08623d",
      "metadata": {
        "id": "3954285a-6ae4-43a0-b61c-de633a08623d",
        "colab": {
          "base_uri": "https://localhost:8080/"
        },
        "outputId": "30bd1e73-89b7-4d45-949a-97cf13197ca6"
      },
      "outputs": [
        {
          "output_type": "stream",
          "name": "stdout",
          "text": [
            "Buzios Beach Located In Buzios In Rio De Janeiro Corporations And A Star Hotel Offers Free Wi Fi And Free Wi Fi And A Inch Flat Screen Tv With A Private Bathroom Fitted With A Shower Or Shower A Microwave Refrigerator And Coffee Maker A Microwave Refrigerator And Coffee Maker Are Provided In The Fairfield Inn The Hotel Has A Hour Front Desk Can Also Be Enjoyed In The Hotel Lounge A Minute Walk Away Torgallmenningen Square Is Feet Away Fløibanen Furnicular Is A Minute Walk From The Hotel Sorry This Information Is Not Available In The Selected Language And Is Shown In En Shown In En Shown In\n"
          ]
        }
      ],
      "source": [
        "print(generate_textUS(\"buzios beach located in buzios in rio de janeiro\", 100, modelUS, max_sequence_lenUS))"
      ]
    },
    {
      "cell_type": "code",
      "execution_count": null,
      "id": "ddf748b8-6765-41d7-9c58-7077dfb3f98b",
      "metadata": {
        "id": "ddf748b8-6765-41d7-9c58-7077dfb3f98b",
        "colab": {
          "base_uri": "https://localhost:8080/"
        },
        "outputId": "44a449ca-1c5f-443d-9eac-76786ad45b51"
      },
      "outputs": [
        {
          "output_type": "stream",
          "name": "stdout",
          "text": [
            "Hotel Located Near The Beach Inn Hotel Collection By Picturesque Planty Park Is Mi From The Hotel And The Hotel Offers Free Wi Fi And A Private Bathroom With A Private Bathroom With A Hairdryer Every Room At The Hotel Suites Gerold Are Equipped With A Flat Screen Tv And A Private Bathroom With A Hairdryer And A Safe Deposit Box With A Hairdryer Every Room At The Hotel Suites The Hotel Also Features A Hairdressing Salon The Hotel Is A Minute Walk Away Torgallmenningen Square Is Feet From The Hotel The Cincinnati Premium Outlets Is Within Feet Away From The Property Sorry This Information\n"
          ]
        }
      ],
      "source": [
        "print(generate_textUS(\"hotel located near the beach\", 100, modelUS, max_sequence_lenUS))"
      ]
    },
    {
      "cell_type": "markdown",
      "source": [
        "### 2.3 Separando os dados em treino e teste"
      ],
      "metadata": {
        "id": "6ty0YXQoasco"
      },
      "id": "6ty0YXQoasco"
    },
    {
      "cell_type": "code",
      "source": [
        "from sklearn.model_selection import train_test_split"
      ],
      "metadata": {
        "id": "6xWJxz9xasuZ"
      },
      "id": "6xWJxz9xasuZ",
      "execution_count": null,
      "outputs": []
    },
    {
      "cell_type": "code",
      "source": [
        "hotelUS23 = hotelUS  "
      ],
      "metadata": {
        "id": "aMp5yWZ2c4Sr"
      },
      "id": "aMp5yWZ2c4Sr",
      "execution_count": null,
      "outputs": []
    },
    {
      "cell_type": "code",
      "source": [
        "# Obter as descrições da coluna desejada do dataframe\n",
        "descricoes = hotelUS['description'].values.tolist()\n"
      ],
      "metadata": {
        "id": "aY44ly8ScdZ5"
      },
      "id": "aY44ly8ScdZ5",
      "execution_count": null,
      "outputs": []
    },
    {
      "cell_type": "code",
      "source": [
        "descricoes"
      ],
      "metadata": {
        "id": "JRAQRruRwvms"
      },
      "id": "JRAQRruRwvms",
      "execution_count": null,
      "outputs": []
    },
    {
      "cell_type": "code",
      "source": [
        "# Pré-processamento das descrições\n",
        "tokenizer = Tokenizer(num_words=1000, filters='!\"#$%&()*+,-./:;<=>?@[\\\\]^_`{|}~\\t\\n0123456789', lower=True, split=' ', char_level=False, oov_token=None, document_count=0) \n",
        "tokenizer.fit_on_texts(descricoes)\n",
        "sequences = tokenizer.texts_to_sequences(descricoes)"
      ],
      "metadata": {
        "id": "r4y_c0Cuas03"
      },
      "id": "r4y_c0Cuas03",
      "execution_count": null,
      "outputs": []
    },
    {
      "cell_type": "code",
      "source": [
        "max_length = 5\n",
        "context_length = 4\n",
        "sequences = pad_sequences(sequences, maxlen=max_length, padding='post', truncating='post')\n"
      ],
      "metadata": {
        "id": "cXXImFihas4P"
      },
      "id": "cXXImFihas4P",
      "execution_count": null,
      "outputs": []
    },
    {
      "cell_type": "code",
      "source": [
        "# Divisão em dados de treino e teste\n",
        "X, y = sequences[:, :-1], sequences[:, -1]\n",
        "vocab_size = tokenizer.num_words\n",
        "y = np.eye(vocab_size)[y]\n",
        "\n",
        "# Adicionar uma dimensão extra nas sequências de entrada\n",
        "X = np.expand_dims(X, axis=2)\n",
        "\n",
        "X_train, X_test, y_train, y_test = train_test_split(X, y, test_size=0.2, random_state=42)"
      ],
      "metadata": {
        "id": "jg-RVqbSatFK"
      },
      "id": "jg-RVqbSatFK",
      "execution_count": null,
      "outputs": []
    },
    {
      "cell_type": "code",
      "source": [
        "# Modelo de LSTM\n",
        "model = Sequential()\n",
        "model.add(LSTM(100, input_shape=(None, 1)))\n",
        "model.add(Dense(tokenizer.num_words, activation='softmax'))\n",
        "model.compile(loss='categorical_crossentropy', optimizer='adam', metrics=['accuracy'])\n",
        "model.summary()\n"
      ],
      "metadata": {
        "colab": {
          "base_uri": "https://localhost:8080/"
        },
        "id": "F6JEa4UDcS3M",
        "outputId": "c9d86b83-9deb-4e50-8c66-7b1b589c9873"
      },
      "id": "F6JEa4UDcS3M",
      "execution_count": null,
      "outputs": [
        {
          "output_type": "stream",
          "name": "stdout",
          "text": [
            "Model: \"sequential_5\"\n",
            "_________________________________________________________________\n",
            " Layer (type)                Output Shape              Param #   \n",
            "=================================================================\n",
            " lstm_5 (LSTM)               (None, 100)               40800     \n",
            "                                                                 \n",
            " dense_5 (Dense)             (None, 1000)              101000    \n",
            "                                                                 \n",
            "=================================================================\n",
            "Total params: 141,800\n",
            "Trainable params: 141,800\n",
            "Non-trainable params: 0\n",
            "_________________________________________________________________\n"
          ]
        }
      ]
    },
    {
      "cell_type": "code",
      "source": [
        "# Treinamento do modelo\n",
        "model.fit(X_train, y_train, epochs=100, verbose=1)"
      ],
      "metadata": {
        "id": "50vVu2DRcS6F"
      },
      "id": "50vVu2DRcS6F",
      "execution_count": null,
      "outputs": []
    },
    {
      "cell_type": "code",
      "source": [
        "# Avaliação do modelo\n",
        "_, acc = model.evaluate(X_test, y_test, verbose=0)\n",
        "print('Acurácia do modelo: %.2f%%' % (acc * 100))"
      ],
      "metadata": {
        "colab": {
          "base_uri": "https://localhost:8080/"
        },
        "id": "AUJaVdtdcS8-",
        "outputId": "e0b4b546-9d8a-42b2-c9ba-c58aeb139ccd"
      },
      "id": "AUJaVdtdcS8-",
      "execution_count": null,
      "outputs": [
        {
          "output_type": "stream",
          "name": "stdout",
          "text": [
            "Acurácia do modelo: 16.67%\n"
          ]
        }
      ]
    },
    {
      "cell_type": "code",
      "source": [
        "import matplotlib.pyplot as plt\n",
        "\n",
        "history = model.fit(X_test, y_test, epochs=100, verbose=0)\n",
        "\n",
        "accuracy = history.history['accuracy']\n",
        "plt.plot(range(1, len(accuracy) + 1), accuracy)\n",
        "plt.xlabel('Epochs')\n",
        "plt.ylabel('Accuracy')\n",
        "plt.show()"
      ],
      "metadata": {
        "colab": {
          "base_uri": "https://localhost:8080/",
          "height": 449
        },
        "id": "mlbQtAFe6Glg",
        "outputId": "b60c644c-4486-4c4a-afdd-bc2951f57ec5"
      },
      "id": "mlbQtAFe6Glg",
      "execution_count": null,
      "outputs": [
        {
          "output_type": "display_data",
          "data": {
            "text/plain": [
              "<Figure size 640x480 with 1 Axes>"
            ],
            "image/png": "[encoded data removed]"
          },
          "metadata": {}
        }
      ]
    },
    {
      "cell_type": "code",
      "source": [
        "# Função para gerar descrições\n",
        "def generate_description(seed_text, num_words):\n",
        "    for _ in range(num_words):\n",
        "        sequence = tokenizer.texts_to_sequences([seed_text])[0]\n",
        "        sequence = pad_sequences([sequence], maxlen=context_length, padding='post', truncating='post')\n",
        "        y_prob = model.predict(sequence, verbose=0)\n",
        "        y_class = np.argmax(y_prob, axis=-1)\n",
        "        predicted_word = tokenizer.index_word.get(y_class[0], '')  # Usar index_word para mapear o índice para a palavra\n",
        "        seed_text += ' ' + predicted_word\n",
        "    return seed_text"
      ],
      "metadata": {
        "id": "k8wN_zHdpAPO"
      },
      "id": "k8wN_zHdpAPO",
      "execution_count": null,
      "outputs": []
    },
    {
      "cell_type": "code",
      "source": [
        "# Geração de descrição\n",
        "seed_text = \"Hotel near the beach\"\n",
        "generated_description = generate_description(seed_text,30)\n",
        "print(\"Descrição gerada:\", generated_description)"
      ],
      "metadata": {
        "colab": {
          "base_uri": "https://localhost:8080/"
        },
        "id": "IUl1gJ75pAXx",
        "outputId": "d92a0463-1bec-4c20-97d8-7d280149665a"
      },
      "id": "IUl1gJ75pAXx",
      "execution_count": null,
      "outputs": [
        {
          "output_type": "stream",
          "name": "stdout",
          "text": [
            "Descrição gerada: Hotel near the beach from from from from from from from from from from from from from from from from from from from from from from from from from from from from from from\n"
          ]
        }
      ]
    },
    {
      "cell_type": "code",
      "source": [
        "seed_text = \"Hotel in the city center\"\n",
        "generated_description = generate_description(seed_text,30)\n",
        "print(\"Descrição gerada:\", generated_description)"
      ],
      "metadata": {
        "colab": {
          "base_uri": "https://localhost:8080/"
        },
        "id": "ECNxivTOpAeU",
        "outputId": "c1e07bb3-7644-47dc-e8e6-441a133b7146"
      },
      "id": "ECNxivTOpAeU",
      "execution_count": null,
      "outputs": [
        {
          "output_type": "stream",
          "name": "stdout",
          "text": [
            "Descrição gerada: Hotel in the city center from from from from from from from from from from from from from from from from from from from from from from from from from from from from from from\n"
          ]
        }
      ]
    },
    {
      "cell_type": "markdown",
      "id": "c81cea31-ea00-4822-b67c-666bcd6dfb24",
      "metadata": {
        "id": "c81cea31-ea00-4822-b67c-666bcd6dfb24"
      },
      "source": [
        "# Description GPT2\n",
        "https://huggingface.co/gpt2"
      ]
    },
    {
      "cell_type": "markdown",
      "id": "231f5ada-c210-44ba-a29e-afdbee4a7e5c",
      "metadata": {
        "id": "231f5ada-c210-44ba-a29e-afdbee4a7e5c"
      },
      "source": [
        "https://www.kaggle.com/code/changyeop/how-to-fine-tune-gpt-2-for-beginners"
      ]
    },
    {
      "cell_type": "code",
      "execution_count": null,
      "id": "84da8ebe-34e3-46e2-9767-c80d1faa0cf9",
      "metadata": {
        "collapsed": true,
        "jupyter": {
          "outputs_hidden": true
        },
        "tags": [],
        "id": "84da8ebe-34e3-46e2-9767-c80d1faa0cf9"
      },
      "outputs": [],
      "source": [
        "!pip install transformers\n"
      ]
    },
    {
      "cell_type": "code",
      "execution_count": null,
      "id": "67b2c36d-6bf0-467f-b0bb-b4d1653b8e72",
      "metadata": {
        "collapsed": true,
        "jupyter": {
          "outputs_hidden": true
        },
        "tags": [],
        "id": "67b2c36d-6bf0-467f-b0bb-b4d1653b8e72"
      },
      "outputs": [],
      "source": [
        "!pip3 install torch torchvision torchaudio"
      ]
    },
    {
      "cell_type": "code",
      "execution_count": 6,
      "id": "4eb7d92c-d0ea-4573-aad6-f3579acb1636",
      "metadata": {
        "collapsed": true,
        "jupyter": {
          "outputs_hidden": true
        },
        "tags": [],
        "id": "4eb7d92c-d0ea-4573-aad6-f3579acb1636",
        "colab": {
          "base_uri": "https://localhost:8080/"
        },
        "outputId": "a86379cb-89a4-4651-fef9-4f0f6b9b721b"
      },
      "outputs": [
        {
          "output_type": "stream",
          "name": "stdout",
          "text": [
            "Looking in indexes: https://pypi.org/simple, https://us-python.pkg.dev/colab-wheels/public/simple/\n",
            "\u001b[31mERROR: Could not find a version that satisfies the requirement torch==1.10.0 (from versions: 1.11.0, 1.12.0, 1.12.1, 1.13.0, 1.13.1, 2.0.0, 2.0.1)\u001b[0m\u001b[31m\n",
            "\u001b[0m\u001b[31mERROR: No matching distribution found for torch==1.10.0\u001b[0m\u001b[31m\n",
            "\u001b[0m"
          ]
        }
      ],
      "source": [
        "!pip install torch==1.10.0"
      ]
    },
    {
      "cell_type": "code",
      "execution_count": null,
      "id": "9fab6337-c727-460e-b71a-c77f48e892f3",
      "metadata": {
        "collapsed": true,
        "jupyter": {
          "outputs_hidden": true
        },
        "tags": [],
        "id": "9fab6337-c727-460e-b71a-c77f48e892f3"
      },
      "outputs": [],
      "source": [
        "pip install --upgrade torch torchvision"
      ]
    },
    {
      "cell_type": "code",
      "execution_count": null,
      "id": "7d49c9d4-6d68-4a90-addb-f9b590e543ee",
      "metadata": {
        "collapsed": true,
        "jupyter": {
          "outputs_hidden": true
        },
        "tags": [],
        "id": "7d49c9d4-6d68-4a90-addb-f9b590e543ee",
        "outputId": "dea32d4f-b920-4761-de88-37c65633ceca"
      },
      "outputs": [
        {
          "name": "stdout",
          "output_type": "stream",
          "text": [
            "Requirement already satisfied: transformers[torch] in c:\\users\\jgjoa\\anaconda3\\lib\\site-packages (4.29.2)\n",
            "Requirement already satisfied: filelock in c:\\users\\jgjoa\\anaconda3\\lib\\site-packages (from transformers[torch]) (3.6.0)\n",
            "Requirement already satisfied: huggingface-hub<1.0,>=0.14.1 in c:\\users\\jgjoa\\anaconda3\\lib\\site-packages (from transformers[torch]) (0.14.1)\n",
            "Requirement already satisfied: numpy>=1.17 in c:\\users\\jgjoa\\anaconda3\\lib\\site-packages (from transformers[torch]) (1.22.4)\n",
            "Requirement already satisfied: packaging>=20.0 in c:\\users\\jgjoa\\anaconda3\\lib\\site-packages (from transformers[torch]) (21.3)\n",
            "Requirement already satisfied: pyyaml>=5.1 in c:\\users\\jgjoa\\anaconda3\\lib\\site-packages (from transformers[torch]) (5.4.1)\n",
            "Requirement already satisfied: regex!=2019.12.17 in c:\\users\\jgjoa\\anaconda3\\lib\\site-packages (from transformers[torch]) (2022.3.15)\n",
            "Requirement already satisfied: requests in c:\\users\\jgjoa\\anaconda3\\lib\\site-packages (from transformers[torch]) (2.27.1)\n",
            "Requirement already satisfied: tokenizers!=0.11.3,<0.14,>=0.11.1 in c:\\users\\jgjoa\\anaconda3\\lib\\site-packages (from transformers[torch]) (0.13.3)\n",
            "Requirement already satisfied: tqdm>=4.27 in c:\\users\\jgjoa\\anaconda3\\lib\\site-packages (from transformers[torch]) (4.64.0)\n",
            "Requirement already satisfied: torch!=1.12.0,>=1.9 in c:\\users\\jgjoa\\anaconda3\\lib\\site-packages (from transformers[torch]) (2.0.1)\n",
            "Collecting accelerate>=0.19.0 (from transformers[torch])\n",
            "  Downloading accelerate-0.19.0-py3-none-any.whl (219 kB)\n",
            "     -------------------------------------- 219.1/219.1 kB 3.3 MB/s eta 0:00:00\n",
            "Requirement already satisfied: psutil in c:\\users\\jgjoa\\anaconda3\\lib\\site-packages (from accelerate>=0.19.0->transformers[torch]) (5.8.0)\n",
            "Requirement already satisfied: fsspec in c:\\users\\jgjoa\\anaconda3\\lib\\site-packages (from huggingface-hub<1.0,>=0.14.1->transformers[torch]) (2022.2.0)\n",
            "Requirement already satisfied: typing-extensions>=3.7.4.3 in c:\\users\\jgjoa\\anaconda3\\lib\\site-packages (from huggingface-hub<1.0,>=0.14.1->transformers[torch]) (4.1.1)\n",
            "Requirement already satisfied: pyparsing!=3.0.5,>=2.0.2 in c:\\users\\jgjoa\\anaconda3\\lib\\site-packages (from packaging>=20.0->transformers[torch]) (3.0.4)\n",
            "Note: you may need to restart the kernel to use updated packages.Requirement already satisfied: sympy in c:\\users\\jgjoa\\anaconda3\\lib\\site-packages (from torch!=1.12.0,>=1.9->transformers[torch]) (1.10.1)\n",
            "Requirement already satisfied: networkx in c:\\users\\jgjoa\\anaconda3\\lib\\site-packages (from torch!=1.12.0,>=1.9->transformers[torch]) (2.7.1)\n",
            "Requirement already satisfied: jinja2 in c:\\users\\jgjoa\\anaconda3\\lib\\site-packages (from torch!=1.12.0,>=1.9->transformers[torch]) (2.11.3)\n",
            "Requirement already satisfied: colorama in c:\\users\\jgjoa\\anaconda3\\lib\\site-packages (from tqdm>=4.27->transformers[torch]) (0.4.4)\n",
            "Requirement already satisfied: urllib3<1.27,>=1.21.1 in c:\\users\\jgjoa\\anaconda3\\lib\\site-packages (from requests->transformers[torch]) (1.26.9)\n",
            "Requirement already satisfied: certifi>=2017.4.17 in c:\\users\\jgjoa\\anaconda3\\lib\\site-packages (from requests->transformers[torch]) (2021.10.8)\n",
            "Requirement already satisfied: charset-normalizer~=2.0.0 in c:\\users\\jgjoa\\anaconda3\\lib\\site-packages (from requests->transformers[torch]) (2.0.4)\n",
            "Requirement already satisfied: idna<4,>=2.5 in c:\\users\\jgjoa\\anaconda3\\lib\\site-packages (from requests->transformers[torch]) (3.3)\n",
            "Requirement already satisfied: MarkupSafe>=0.23 in c:\\users\\jgjoa\\anaconda3\\lib\\site-packages (from jinja2->torch!=1.12.0,>=1.9->transformers[torch]) (2.0.1)\n",
            "Requirement already satisfied: mpmath>=0.19 in c:\\users\\jgjoa\\anaconda3\\lib\\site-packages (from sympy->torch!=1.12.0,>=1.9->transformers[torch]) (1.2.1)\n",
            "Installing collected packages: accelerate\n",
            "Successfully installed accelerate-0.19.0\n",
            "\n"
          ]
        },
        {
          "name": "stderr",
          "output_type": "stream",
          "text": [
            "WARNING: Ignoring invalid distribution -ensorflow-intel (c:\\users\\jgjoa\\anaconda3\\lib\\site-packages)\n",
            "WARNING: Ignoring invalid distribution -orch (c:\\users\\jgjoa\\anaconda3\\lib\\site-packages)\n",
            "WARNING: Ignoring invalid distribution -rotobuf (c:\\users\\jgjoa\\anaconda3\\lib\\site-packages)\n",
            "WARNING: Ignoring invalid distribution -ensorflow-intel (c:\\users\\jgjoa\\anaconda3\\lib\\site-packages)\n",
            "WARNING: Ignoring invalid distribution -orch (c:\\users\\jgjoa\\anaconda3\\lib\\site-packages)\n",
            "WARNING: Ignoring invalid distribution -rotobuf (c:\\users\\jgjoa\\anaconda3\\lib\\site-packages)\n"
          ]
        }
      ],
      "source": [
        "pip install transformers[torch]"
      ]
    },
    {
      "cell_type": "code",
      "execution_count": null,
      "id": "25a51b8a-5c94-4a8b-bd64-d8745bd66bf9",
      "metadata": {
        "id": "25a51b8a-5c94-4a8b-bd64-d8745bd66bf9",
        "outputId": "4d211cd1-ebce-4664-c889-819b47bc4563",
        "colab": {
          "base_uri": "https://localhost:8080/",
          "height": 35
        }
      },
      "outputs": [
        {
          "output_type": "execute_result",
          "data": {
            "text/plain": [
              "'2.0.1+cu118'"
            ],
            "application/vnd.google.colaboratory.intrinsic+json": {
              "type": "string"
            }
          },
          "metadata": {},
          "execution_count": 13
        }
      ],
      "source": [
        "torch.__version__"
      ]
    },
    {
      "cell_type": "code",
      "execution_count": 7,
      "id": "c045b7f0-5bca-45f9-a7d5-133fab59fa82",
      "metadata": {
        "colab": {
          "base_uri": "https://localhost:8080/"
        },
        "id": "c045b7f0-5bca-45f9-a7d5-133fab59fa82",
        "outputId": "33a64081-810d-4af8-9c90-377ddb7b17cd"
      },
      "outputs": [
        {
          "output_type": "stream",
          "name": "stdout",
          "text": [
            "Training on GPU!\n"
          ]
        }
      ],
      "source": [
        "import torch\n",
        "from torch.utils.data import TensorDataset\n",
        "train_on_gpu = torch.cuda.is_available()\n",
        "if(train_on_gpu):\n",
        "    print('Training on GPU!')\n",
        "else: \n",
        "    print('No GPU available, training on CPU; consider making n_epochs very small.')"
      ]
    },
    {
      "cell_type": "code",
      "execution_count": 8,
      "id": "415a94c3-88de-4279-a01d-cb4ef6fe1664",
      "metadata": {
        "id": "415a94c3-88de-4279-a01d-cb4ef6fe1664"
      },
      "outputs": [],
      "source": [
        "from transformers import TextDataset, DataCollatorForLanguageModeling\n",
        "from transformers import GPT2Tokenizer, GPT2LMHeadModel, TFGPT2Model,TFGPT2LMHeadModel\n",
        "from transformers import Trainer, TrainingArguments\n",
        "from transformers import TFTrainer, TFTrainingArguments\n",
        "import tensorflow as tf"
      ]
    },
    {
      "cell_type": "code",
      "execution_count": null,
      "id": "462bb180-53e6-4d3b-9e24-88591808d97c",
      "metadata": {
        "id": "462bb180-53e6-4d3b-9e24-88591808d97c",
        "outputId": "090be016-2511-4f7e-e19f-1132449adc84"
      },
      "outputs": [
        {
          "name": "stdout",
          "output_type": "stream",
          "text": [
            "tensor([[0.7969, 0.3523, 0.4319],\n",
            "        [0.8385, 0.5258, 0.4481],\n",
            "        [0.0715, 0.5836, 0.8261],\n",
            "        [0.7470, 0.7354, 0.0293],\n",
            "        [0.5381, 0.2594, 0.3680]])\n"
          ]
        }
      ],
      "source": [
        "import torch\n",
        "x = torch.rand(5, 3)\n",
        "print(x)"
      ]
    },
    {
      "cell_type": "code",
      "execution_count": 9,
      "id": "0fe3d754-a721-4589-80cf-6e721d56749e",
      "metadata": {
        "id": "0fe3d754-a721-4589-80cf-6e721d56749e"
      },
      "outputs": [],
      "source": [
        "df_gpt= data[data['idioma']=='en']\n",
        "df_gpt= df_gpt[data['description']!='']\n",
        "df_gpt.reset_index(inplace = True)\n",
        "df_gpt = df_gpt[0:300]"
      ]
    },
    {
      "cell_type": "code",
      "execution_count": null,
      "id": "a576aa85-ca9a-4c71-9268-ce30945b1a84",
      "metadata": {
        "id": "a576aa85-ca9a-4c71-9268-ce30945b1a84",
        "outputId": "a5b31d24-e83e-41e5-a15f-bb545884f1e0",
        "colab": {
          "base_uri": "https://localhost:8080/",
          "height": 423
        }
      },
      "outputs": [
        {
          "output_type": "execute_result",
          "data": {
            "text/plain": [
              "     index                                  short_description  \\\n",
              "0        0  Nice, France. ((* Sorry, this information is n...   \n",
              "1        1  Notting Hill - Paddington Station Area. ((* So...   \n",
              "2        2  Há várias opções de lazer e entretenimento ao ...   \n",
              "3        3  Fort Collins North. ((* Sorry, this informatio...   \n",
              "4        5  Alivie o stress com massagens, tratamentos cor...   \n",
              "..     ...                                                ...   \n",
              "295    352  Downtown - Centro Historico. ((* Sorry, this i...   \n",
              "296    353  Oil City. ((* Sorry, this information is not a...   \n",
              "297    354  Blue Ash. ((* Sorry, this information is not a...   \n",
              "298    355  Richmond Hill. ((* Sorry, this information is ...   \n",
              "299    356  Madison Square Garden - Convention Area. ((* S...   \n",
              "\n",
              "                                           description idioma  \n",
              "0    Located in Nice's city center, Best Western Ho...     en  \n",
              "1    In London's Bayswater district, the Comfort In...     en  \n",
              "2    Breakfast is offered daily and rooms feature f...     en  \n",
              "3    The Elizabeth Hotel, Autograph Collection feat...     en  \n",
              "4    Located in Sattahip, 15 miles from Eastern Sta...     en  \n",
              "..                                                 ...    ...  \n",
              "295  In the heart of Mexico City, just 10 minutes’ ...     en  \n",
              "296  This lovely hotel is located in Oil City. Ther...     en  \n",
              "297  Within 2 miles from Cincinnati Blue Ash Airpor...     en  \n",
              "298  The Holiday Inn Express Savannah South is conv...     en  \n",
              "299  Featuring 3-star accommodations, Casamia 36 Ho...     en  \n",
              "\n",
              "[300 rows x 4 columns]"
            ],
            "text/html": [
              "\n",
              "  <div id=\"df-c9a4b50c-911a-4412-be2e-ee96358ca992\">\n",
              "    <div class=\"colab-df-container\">\n",
              "      <div>\n",
              "<style scoped>\n",
              "    .dataframe tbody tr th:only-of-type {\n",
              "        vertical-align: middle;\n",
              "    }\n",
              "\n",
              "    .dataframe tbody tr th {\n",
              "        vertical-align: top;\n",
              "    }\n",
              "\n",
              "    .dataframe thead th {\n",
              "        text-align: right;\n",
              "    }\n",
              "</style>\n",
              "<table border=\"1\" class=\"dataframe\">\n",
              "  <thead>\n",
              "    <tr style=\"text-align: right;\">\n",
              "      <th></th>\n",
              "      <th>index</th>\n",
              "      <th>short_description</th>\n",
              "      <th>description</th>\n",
              "      <th>idioma</th>\n",
              "    </tr>\n",
              "  </thead>\n",
              "  <tbody>\n",
              "    <tr>\n",
              "      <th>0</th>\n",
              "      <td>0</td>\n",
              "      <td>Nice, France. ((* Sorry, this information is n...</td>\n",
              "      <td>Located in Nice's city center, Best Western Ho...</td>\n",
              "      <td>en</td>\n",
              "    </tr>\n",
              "    <tr>\n",
              "      <th>1</th>\n",
              "      <td>1</td>\n",
              "      <td>Notting Hill - Paddington Station Area. ((* So...</td>\n",
              "      <td>In London's Bayswater district, the Comfort In...</td>\n",
              "      <td>en</td>\n",
              "    </tr>\n",
              "    <tr>\n",
              "      <th>2</th>\n",
              "      <td>2</td>\n",
              "      <td>Há várias opções de lazer e entretenimento ao ...</td>\n",
              "      <td>Breakfast is offered daily and rooms feature f...</td>\n",
              "      <td>en</td>\n",
              "    </tr>\n",
              "    <tr>\n",
              "      <th>3</th>\n",
              "      <td>3</td>\n",
              "      <td>Fort Collins North. ((* Sorry, this informatio...</td>\n",
              "      <td>The Elizabeth Hotel, Autograph Collection feat...</td>\n",
              "      <td>en</td>\n",
              "    </tr>\n",
              "    <tr>\n",
              "      <th>4</th>\n",
              "      <td>5</td>\n",
              "      <td>Alivie o stress com massagens, tratamentos cor...</td>\n",
              "      <td>Located in Sattahip, 15 miles from Eastern Sta...</td>\n",
              "      <td>en</td>\n",
              "    </tr>\n",
              "    <tr>\n",
              "      <th>...</th>\n",
              "      <td>...</td>\n",
              "      <td>...</td>\n",
              "      <td>...</td>\n",
              "      <td>...</td>\n",
              "    </tr>\n",
              "    <tr>\n",
              "      <th>295</th>\n",
              "      <td>352</td>\n",
              "      <td>Downtown - Centro Historico. ((* Sorry, this i...</td>\n",
              "      <td>In the heart of Mexico City, just 10 minutes’ ...</td>\n",
              "      <td>en</td>\n",
              "    </tr>\n",
              "    <tr>\n",
              "      <th>296</th>\n",
              "      <td>353</td>\n",
              "      <td>Oil City. ((* Sorry, this information is not a...</td>\n",
              "      <td>This lovely hotel is located in Oil City. Ther...</td>\n",
              "      <td>en</td>\n",
              "    </tr>\n",
              "    <tr>\n",
              "      <th>297</th>\n",
              "      <td>354</td>\n",
              "      <td>Blue Ash. ((* Sorry, this information is not a...</td>\n",
              "      <td>Within 2 miles from Cincinnati Blue Ash Airpor...</td>\n",
              "      <td>en</td>\n",
              "    </tr>\n",
              "    <tr>\n",
              "      <th>298</th>\n",
              "      <td>355</td>\n",
              "      <td>Richmond Hill. ((* Sorry, this information is ...</td>\n",
              "      <td>The Holiday Inn Express Savannah South is conv...</td>\n",
              "      <td>en</td>\n",
              "    </tr>\n",
              "    <tr>\n",
              "      <th>299</th>\n",
              "      <td>356</td>\n",
              "      <td>Madison Square Garden - Convention Area. ((* S...</td>\n",
              "      <td>Featuring 3-star accommodations, Casamia 36 Ho...</td>\n",
              "      <td>en</td>\n",
              "    </tr>\n",
              "  </tbody>\n",
              "</table>\n",
              "<p>300 rows × 4 columns</p>\n",
              "</div>\n",
              "      <button class=\"colab-df-convert\" onclick=\"convertToInteractive('df-c9a4b50c-911a-4412-be2e-ee96358ca992')\"\n",
              "              title=\"Convert this dataframe to an interactive table.\"\n",
              "              style=\"display:none;\">\n",
              "        \n",
              "  <svg xmlns=\"http://www.w3.org/2000/svg\" height=\"24px\"viewBox=\"0 0 24 24\"\n",
              "       width=\"24px\">\n",
              "    <path d=\"M0 0h24v24H0V0z\" fill=\"none\"/>\n",
              "    <path d=\"M18.56 5.44l.94 2.06.94-2.06 2.06-.94-2.06-.94-.94-2.06-.94 2.06-2.06.94zm-11 1L8.5 8.5l.94-2.06 2.06-.94-2.06-.94L8.5 2.5l-.94 2.06-2.06.94zm10 10l.94 2.06.94-2.06 2.06-.94-2.06-.94-.94-2.06-.94 2.06-2.06.94z\"/><path d=\"M17.41 7.96l-1.37-1.37c-.4-.4-.92-.59-1.43-.59-.52 0-1.04.2-1.43.59L10.3 9.45l-7.72 7.72c-.78.78-.78 2.05 0 2.83L4 21.41c.39.39.9.59 1.41.59.51 0 1.02-.2 1.41-.59l7.78-7.78 2.81-2.81c.8-.78.8-2.07 0-2.86zM5.41 20L4 18.59l7.72-7.72 1.47 1.35L5.41 20z\"/>\n",
              "  </svg>\n",
              "      </button>\n",
              "      \n",
              "  <style>\n",
              "    .colab-df-container {\n",
              "      display:flex;\n",
              "      flex-wrap:wrap;\n",
              "      gap: 12px;\n",
              "    }\n",
              "\n",
              "    .colab-df-convert {\n",
              "      background-color: #E8F0FE;\n",
              "      border: none;\n",
              "      border-radius: 50%;\n",
              "      cursor: pointer;\n",
              "      display: none;\n",
              "      fill: #1967D2;\n",
              "      height: 32px;\n",
              "      padding: 0 0 0 0;\n",
              "      width: 32px;\n",
              "    }\n",
              "\n",
              "    .colab-df-convert:hover {\n",
              "      background-color: #E2EBFA;\n",
              "      box-shadow: 0px 1px 2px rgba(60, 64, 67, 0.3), 0px 1px 3px 1px rgba(60, 64, 67, 0.15);\n",
              "      fill: #174EA6;\n",
              "    }\n",
              "\n",
              "    [theme=dark] .colab-df-convert {\n",
              "      background-color: #3B4455;\n",
              "      fill: #D2E3FC;\n",
              "    }\n",
              "\n",
              "    [theme=dark] .colab-df-convert:hover {\n",
              "      background-color: #434B5C;\n",
              "      box-shadow: 0px 1px 3px 1px rgba(0, 0, 0, 0.15);\n",
              "      filter: drop-shadow(0px 1px 2px rgba(0, 0, 0, 0.3));\n",
              "      fill: #FFFFFF;\n",
              "    }\n",
              "  </style>\n",
              "\n",
              "      <script>\n",
              "        const buttonEl =\n",
              "          document.querySelector('#df-c9a4b50c-911a-4412-be2e-ee96358ca992 button.colab-df-convert');\n",
              "        buttonEl.style.display =\n",
              "          google.colab.kernel.accessAllowed ? 'block' : 'none';\n",
              "\n",
              "        async function convertToInteractive(key) {\n",
              "          const element = document.querySelector('#df-c9a4b50c-911a-4412-be2e-ee96358ca992');\n",
              "          const dataTable =\n",
              "            await google.colab.kernel.invokeFunction('convertToInteractive',\n",
              "                                                     [key], {});\n",
              "          if (!dataTable) return;\n",
              "\n",
              "          const docLinkHtml = 'Like what you see? Visit the ' +\n",
              "            '<a target=\"_blank\" href=https://colab.research.google.com/notebooks/data_table.ipynb>data table notebook</a>'\n",
              "            + ' to learn more about interactive tables.';\n",
              "          element.innerHTML = '';\n",
              "          dataTable['output_type'] = 'display_data';\n",
              "          await google.colab.output.renderOutput(dataTable, element);\n",
              "          const docLink = document.createElement('div');\n",
              "          docLink.innerHTML = docLinkHtml;\n",
              "          element.appendChild(docLink);\n",
              "        }\n",
              "      </script>\n",
              "    </div>\n",
              "  </div>\n",
              "  "
            ]
          },
          "metadata": {},
          "execution_count": 16
        }
      ],
      "source": [
        "df_gpt"
      ]
    },
    {
      "cell_type": "code",
      "execution_count": 10,
      "id": "5f73a874-fda6-4738-a895-52390152b832",
      "metadata": {
        "id": "5f73a874-fda6-4738-a895-52390152b832"
      },
      "outputs": [],
      "source": [
        "def load_dataset(dataframe, tokenizer, block_size=128):\n",
        "    texts = list(dataframe[\"description\"])\n",
        "\n",
        "    tokenizer.pad_token = tokenizer.eos_token\n",
        "    encodings = tokenizer.batch_encode_plus(\n",
        "        texts,\n",
        "        max_length=block_size,\n",
        "        truncation=True,\n",
        "        padding=\"max_length\",\n",
        "    )\n",
        "\n",
        "    input_ids = encodings[\"input_ids\"]\n",
        "    attention_mask = encodings[\"attention_mask\"]\n",
        "\n",
        "    input_ids = torch.tensor(input_ids)\n",
        "    attention_mask = torch.tensor(attention_mask)\n",
        "\n",
        "    dataset = TensorDataset(input_ids, attention_mask)\n",
        "    return dataset\n",
        "\n",
        "def load_data_collator(tokenizer, mlm=False):\n",
        "    data_collator = DataCollatorForLanguageModeling(\n",
        "        tokenizer=tokenizer,\n",
        "        mlm=mlm,\n",
        "    )\n",
        "    return data_collator\n",
        "\n",
        "def load_data_collator(tokenizer, mlm = False):\n",
        "    data_collator = DataCollatorForLanguageModeling(\n",
        "        tokenizer=tokenizer, \n",
        "        mlm=mlm,\n",
        "    )\n",
        "    return data_collator\n",
        "\n",
        "\n",
        "def train(train_dataframe, model_name,\n",
        "          output_dir,\n",
        "          overwrite_output_dir,\n",
        "          per_device_train_batch_size,\n",
        "          num_train_epochs,\n",
        "          save_steps):\n",
        "    tokenizer = GPT2Tokenizer.from_pretrained(model_name)\n",
        "    train_dataset = load_dataset(train_dataframe, tokenizer)\n",
        "    #train_dataset = torch.tensor(train_dataset)\n",
        "    data_collator = load_data_collator(tokenizer)\n",
        "\n",
        "    tokenizer.save_pretrained(output_dir)\n",
        "\n",
        "    model = GPT2LMHeadModel.from_pretrained(model_name)\n",
        "\n",
        "    model.save_pretrained(output_dir)\n",
        "\n",
        "    training_args = TrainingArguments(\n",
        "        output_dir=output_dir,\n",
        "        overwrite_output_dir=overwrite_output_dir,\n",
        "        per_device_train_batch_size=per_device_train_batch_size,\n",
        "        num_train_epochs=num_train_epochs,\n",
        "    )\n",
        "\n",
        "    trainer = Trainer(\n",
        "        model=model,\n",
        "        args=training_args,\n",
        "        data_collator=data_collator,\n",
        "        train_dataset=train_dataset,\n",
        "    )\n",
        "\n",
        "    trainer.train()\n",
        "    trainer.save_model()"
      ]
    },
    {
      "cell_type": "code",
      "execution_count": 11,
      "id": "4c0eeb28-710a-43a9-aa98-9d0fde9f8f08",
      "metadata": {
        "id": "4c0eeb28-710a-43a9-aa98-9d0fde9f8f08"
      },
      "outputs": [],
      "source": [
        "# you need to set parameters \n",
        "train_dataframe = df_gpt\n",
        "model_name = 'gpt2'\n",
        "output_dir = '/content/drive/MyDrive/result'\n",
        "overwrite_output_dir = False\n",
        "per_device_train_batch_size = 8\n",
        "num_train_epochs = 5.0\n",
        "save_steps = 500"
      ]
    },
    {
      "cell_type": "code",
      "execution_count": null,
      "id": "2e8387c7-af88-4296-8241-644e58381127",
      "metadata": {
        "collapsed": true,
        "jupyter": {
          "outputs_hidden": true
        },
        "tags": [],
        "id": "2e8387c7-af88-4296-8241-644e58381127",
        "outputId": "06477894-9ccc-4d09-e276-70099ee86309"
      },
      "outputs": [
        {
          "name": "stdout",
          "output_type": "stream",
          "text": [
            "Note: you may need to restart the kernel to use updated packages.Requirement already satisfied: transformers in c:\\users\\jgjoa\\anaconda3\\lib\\site-packages (4.29.2)\n"
          ]
        },
        {
          "name": "stderr",
          "output_type": "stream",
          "text": [
            "WARNING: Ignoring invalid distribution -ensorflow-intel (c:\\users\\jgjoa\\anaconda3\\lib\\site-packages)\n",
            "WARNING: Ignoring invalid distribution -orch (c:\\users\\jgjoa\\anaconda3\\lib\\site-packages)\n",
            "WARNING: Ignoring invalid distribution -rotobuf (c:\\users\\jgjoa\\anaconda3\\lib\\site-packages)\n",
            "WARNING: Ignoring invalid distribution -ensorflow-intel (c:\\users\\jgjoa\\anaconda3\\lib\\site-packages)\n",
            "WARNING: Ignoring invalid distribution -orch (c:\\users\\jgjoa\\anaconda3\\lib\\site-packages)\n",
            "WARNING: Ignoring invalid distribution -rotobuf (c:\\users\\jgjoa\\anaconda3\\lib\\site-packages)\n"
          ]
        },
        {
          "name": "stdout",
          "output_type": "stream",
          "text": [
            "\n",
            "Requirement already satisfied: filelock in c:\\users\\jgjoa\\anaconda3\\lib\\site-packages (from transformers) (3.6.0)\n",
            "Requirement already satisfied: huggingface-hub<1.0,>=0.14.1 in c:\\users\\jgjoa\\anaconda3\\lib\\site-packages (from transformers) (0.14.1)\n",
            "Requirement already satisfied: numpy>=1.17 in c:\\users\\jgjoa\\anaconda3\\lib\\site-packages (from transformers) (1.22.4)\n",
            "Requirement already satisfied: packaging>=20.0 in c:\\users\\jgjoa\\anaconda3\\lib\\site-packages (from transformers) (21.3)\n",
            "Requirement already satisfied: pyyaml>=5.1 in c:\\users\\jgjoa\\anaconda3\\lib\\site-packages (from transformers) (5.4.1)\n",
            "Requirement already satisfied: regex!=2019.12.17 in c:\\users\\jgjoa\\anaconda3\\lib\\site-packages (from transformers) (2022.3.15)\n",
            "Requirement already satisfied: requests in c:\\users\\jgjoa\\anaconda3\\lib\\site-packages (from transformers) (2.27.1)\n",
            "Requirement already satisfied: tokenizers!=0.11.3,<0.14,>=0.11.1 in c:\\users\\jgjoa\\anaconda3\\lib\\site-packages (from transformers) (0.13.3)\n",
            "Requirement already satisfied: tqdm>=4.27 in c:\\users\\jgjoa\\anaconda3\\lib\\site-packages (from transformers) (4.64.0)\n",
            "Requirement already satisfied: fsspec in c:\\users\\jgjoa\\anaconda3\\lib\\site-packages (from huggingface-hub<1.0,>=0.14.1->transformers) (2022.2.0)\n",
            "Requirement already satisfied: typing-extensions>=3.7.4.3 in c:\\users\\jgjoa\\anaconda3\\lib\\site-packages (from huggingface-hub<1.0,>=0.14.1->transformers) (4.1.1)\n",
            "Requirement already satisfied: pyparsing!=3.0.5,>=2.0.2 in c:\\users\\jgjoa\\anaconda3\\lib\\site-packages (from packaging>=20.0->transformers) (3.0.4)\n",
            "Requirement already satisfied: colorama in c:\\users\\jgjoa\\anaconda3\\lib\\site-packages (from tqdm>=4.27->transformers) (0.4.4)\n",
            "Requirement already satisfied: urllib3<1.27,>=1.21.1 in c:\\users\\jgjoa\\anaconda3\\lib\\site-packages (from requests->transformers) (1.26.9)\n",
            "Requirement already satisfied: certifi>=2017.4.17 in c:\\users\\jgjoa\\anaconda3\\lib\\site-packages (from requests->transformers) (2021.10.8)\n",
            "Requirement already satisfied: charset-normalizer~=2.0.0 in c:\\users\\jgjoa\\anaconda3\\lib\\site-packages (from requests->transformers) (2.0.4)\n",
            "Requirement already satisfied: idna<4,>=2.5 in c:\\users\\jgjoa\\anaconda3\\lib\\site-packages (from requests->transformers) (3.3)\n"
          ]
        }
      ],
      "source": [
        "pip install --upgrade transformers\n"
      ]
    },
    {
      "cell_type": "code",
      "source": [
        "pip install accelerate"
      ],
      "metadata": {
        "id": "YxdP9vRwGj1f"
      },
      "id": "YxdP9vRwGj1f",
      "execution_count": null,
      "outputs": []
    },
    {
      "cell_type": "code",
      "execution_count": null,
      "id": "e9062556-c18a-43f4-96fa-3e84bfa74639",
      "metadata": {
        "collapsed": true,
        "jupyter": {
          "outputs_hidden": true
        },
        "tags": [],
        "id": "e9062556-c18a-43f4-96fa-3e84bfa74639"
      },
      "outputs": [],
      "source": [
        "!pip uninstall -y transformers accelerate\n",
        "!pip install transformers accelerate"
      ]
    },
    {
      "cell_type": "code",
      "execution_count": null,
      "id": "efe59d6e-865a-4c18-b5ff-ad05ff2c8e1e",
      "metadata": {
        "collapsed": true,
        "jupyter": {
          "outputs_hidden": true
        },
        "tags": [],
        "id": "efe59d6e-865a-4c18-b5ff-ad05ff2c8e1e",
        "outputId": "a6ceb5ee-8464-4d74-efaf-6f8a2f24574e",
        "colab": {
          "base_uri": "https://localhost:8080/",
          "height": 714
        }
      },
      "outputs": [
        {
          "output_type": "stream",
          "name": "stdout",
          "text": [
            "Looking in indexes: https://pypi.org/simple, https://us-python.pkg.dev/colab-wheels/public/simple/\n",
            "Collecting git+https://github.com/huggingface/accelerate\n",
            "  Cloning https://github.com/huggingface/accelerate to /tmp/pip-req-build-iohp1yw1\n",
            "  Running command git clone --filter=blob:none --quiet https://github.com/huggingface/accelerate /tmp/pip-req-build-iohp1yw1\n",
            "  Resolved https://github.com/huggingface/accelerate to commit 0226f750257b3bf2cadc4f189f9eef0c764a0467\n",
            "  Installing build dependencies ... \u001b[?25l\u001b[?25hdone\n",
            "  Getting requirements to build wheel ... \u001b[?25l\u001b[?25hdone\n",
            "  Preparing metadata (pyproject.toml) ... \u001b[?25l\u001b[?25hdone\n",
            "Requirement already satisfied: numpy>=1.17 in /usr/local/lib/python3.10/dist-packages (from accelerate==0.20.0.dev0) (1.22.4)\n",
            "Requirement already satisfied: packaging>=20.0 in /usr/local/lib/python3.10/dist-packages (from accelerate==0.20.0.dev0) (23.1)\n",
            "Requirement already satisfied: psutil in /usr/local/lib/python3.10/dist-packages (from accelerate==0.20.0.dev0) (5.9.5)\n",
            "Requirement already satisfied: pyyaml in /usr/local/lib/python3.10/dist-packages (from accelerate==0.20.0.dev0) (6.0)\n",
            "Requirement already satisfied: torch>=1.6.0 in /usr/local/lib/python3.10/dist-packages (from accelerate==0.20.0.dev0) (2.0.1+cu118)\n",
            "Requirement already satisfied: filelock in /usr/local/lib/python3.10/dist-packages (from torch>=1.6.0->accelerate==0.20.0.dev0) (3.12.0)\n",
            "Requirement already satisfied: typing-extensions in /usr/local/lib/python3.10/dist-packages (from torch>=1.6.0->accelerate==0.20.0.dev0) (4.5.0)\n",
            "Requirement already satisfied: sympy in /usr/local/lib/python3.10/dist-packages (from torch>=1.6.0->accelerate==0.20.0.dev0) (1.11.1)\n",
            "Requirement already satisfied: networkx in /usr/local/lib/python3.10/dist-packages (from torch>=1.6.0->accelerate==0.20.0.dev0) (3.1)\n",
            "Requirement already satisfied: jinja2 in /usr/local/lib/python3.10/dist-packages (from torch>=1.6.0->accelerate==0.20.0.dev0) (3.1.2)\n",
            "Requirement already satisfied: triton==2.0.0 in /usr/local/lib/python3.10/dist-packages (from torch>=1.6.0->accelerate==0.20.0.dev0) (2.0.0)\n",
            "Requirement already satisfied: cmake in /usr/local/lib/python3.10/dist-packages (from triton==2.0.0->torch>=1.6.0->accelerate==0.20.0.dev0) (3.25.2)\n",
            "Requirement already satisfied: lit in /usr/local/lib/python3.10/dist-packages (from triton==2.0.0->torch>=1.6.0->accelerate==0.20.0.dev0) (16.0.5)\n",
            "Requirement already satisfied: MarkupSafe>=2.0 in /usr/local/lib/python3.10/dist-packages (from jinja2->torch>=1.6.0->accelerate==0.20.0.dev0) (2.1.2)\n",
            "Requirement already satisfied: mpmath>=0.19 in /usr/local/lib/python3.10/dist-packages (from sympy->torch>=1.6.0->accelerate==0.20.0.dev0) (1.3.0)\n",
            "Building wheels for collected packages: accelerate\n",
            "  Building wheel for accelerate (pyproject.toml) ... \u001b[?25l\u001b[?25hdone\n",
            "  Created wheel for accelerate: filename=accelerate-0.20.0.dev0-py3-none-any.whl size=225769 sha256=13026cd1be8d24393756c7438324ba3b5e3f2f7c17173cfa23b1c48ce41a6e79\n",
            "  Stored in directory: /tmp/pip-ephem-wheel-cache-76q6581f/wheels/f6/c7/9d/1b8a5ca8353d9307733bc719107acb67acdc95063bba749f26\n",
            "Successfully built accelerate\n",
            "Installing collected packages: accelerate\n",
            "  Attempting uninstall: accelerate\n",
            "    Found existing installation: accelerate 0.19.0\n",
            "    Uninstalling accelerate-0.19.0:\n",
            "      Successfully uninstalled accelerate-0.19.0\n",
            "Successfully installed accelerate-0.20.0.dev0\n"
          ]
        },
        {
          "output_type": "display_data",
          "data": {
            "application/vnd.colab-display-data+json": {
              "pip_warning": {
                "packages": [
                  "accelerate"
                ]
              }
            }
          },
          "metadata": {}
        }
      ],
      "source": [
        "pip install git+https://github.com/huggingface/accelerate\n"
      ]
    },
    {
      "cell_type": "code",
      "execution_count": null,
      "id": "402486fa-faed-444f-9315-faac7e8a4138",
      "metadata": {
        "collapsed": true,
        "jupyter": {
          "outputs_hidden": true
        },
        "tags": [],
        "id": "402486fa-faed-444f-9315-faac7e8a4138",
        "outputId": "00781a50-3639-44b7-a4b7-a33d0426d897"
      },
      "outputs": [
        {
          "name": "stdout",
          "output_type": "stream",
          "text": [
            "Found existing installation: transformers 4.29.2\n",
            "Uninstalling transformers-4.29.2:\n",
            "  Successfully uninstalled transformers-4.29.2\n",
            "Collecting transformers==4.28.0\n",
            "  Downloading transformers-4.28.0-py3-none-any.whl (7.0 MB)\n",
            "     ---------------------------------------- 7.0/7.0 MB 6.3 MB/s eta 0:00:00\n",
            "Requirement already satisfied: filelock in c:\\users\\jgjoa\\anaconda3\\lib\\site-packages (from transformers==4.28.0) (3.6.0)\n",
            "Requirement already satisfied: huggingface-hub<1.0,>=0.11.0 in c:\\users\\jgjoa\\anaconda3\\lib\\site-packages (from transformers==4.28.0) (0.14.1)\n",
            "Requirement already satisfied: numpy>=1.17 in c:\\users\\jgjoa\\anaconda3\\lib\\site-packages (from transformers==4.28.0) (1.22.4)\n",
            "Requirement already satisfied: packaging>=20.0 in c:\\users\\jgjoa\\anaconda3\\lib\\site-packages (from transformers==4.28.0) (21.3)\n",
            "Requirement already satisfied: pyyaml>=5.1 in c:\\users\\jgjoa\\anaconda3\\lib\\site-packages (from transformers==4.28.0) (5.4.1)\n",
            "Requirement already satisfied: regex!=2019.12.17 in c:\\users\\jgjoa\\anaconda3\\lib\\site-packages (from transformers==4.28.0) (2022.3.15)\n",
            "Requirement already satisfied: requests in c:\\users\\jgjoa\\anaconda3\\lib\\site-packages (from transformers==4.28.0) (2.27.1)\n",
            "Requirement already satisfied: tokenizers!=0.11.3,<0.14,>=0.11.1 in c:\\users\\jgjoa\\anaconda3\\lib\\site-packages (from transformers==4.28.0) (0.13.3)\n",
            "Requirement already satisfied: tqdm>=4.27 in c:\\users\\jgjoa\\anaconda3\\lib\\site-packages (from transformers==4.28.0) (4.64.0)\n",
            "Requirement already satisfied: fsspec in c:\\users\\jgjoa\\anaconda3\\lib\\site-packages (from huggingface-hub<1.0,>=0.11.0->transformers==4.28.0) (2022.2.0)\n",
            "Requirement already satisfied: typing-extensions>=3.7.4.3 in c:\\users\\jgjoa\\anaconda3\\lib\\site-packages (from huggingface-hub<1.0,>=0.11.0->transformers==4.28.0) (4.1.1)\n",
            "Requirement already satisfied: pyparsing!=3.0.5,>=2.0.2 in c:\\users\\jgjoa\\anaconda3\\lib\\site-packages (from packaging>=20.0->transformers==4.28.0) (3.0.4)\n",
            "Requirement already satisfied: colorama in c:\\users\\jgjoa\\anaconda3\\lib\\site-packages (from tqdm>=4.27->transformers==4.28.0) (0.4.4)\n",
            "Requirement already satisfied: urllib3<1.27,>=1.21.1 in c:\\users\\jgjoa\\anaconda3\\lib\\site-packages (from requests->transformers==4.28.0) (1.26.9)\n",
            "Requirement already satisfied: certifi>=2017.4.17 in c:\\users\\jgjoa\\anaconda3\\lib\\site-packages (from requests->transformers==4.28.0) (2021.10.8)\n",
            "Requirement already satisfied: charset-normalizer~=2.0.0 in c:\\users\\jgjoa\\anaconda3\\lib\\site-packages (from requests->transformers==4.28.0) (2.0.4)\n",
            "Requirement already satisfied: idna<4,>=2.5 in c:\\users\\jgjoa\\anaconda3\\lib\\site-packages (from requests->transformers==4.28.0) (3.3)\n",
            "Installing collected packages: transformers\n",
            "Successfully installed transformers-4.28.0\n"
          ]
        },
        {
          "name": "stderr",
          "output_type": "stream",
          "text": [
            "WARNING: Ignoring invalid distribution -ensorflow-intel (c:\\users\\jgjoa\\anaconda3\\lib\\site-packages)\n",
            "WARNING: Ignoring invalid distribution -orch (c:\\users\\jgjoa\\anaconda3\\lib\\site-packages)\n",
            "WARNING: Ignoring invalid distribution -rotobuf (c:\\users\\jgjoa\\anaconda3\\lib\\site-packages)\n",
            "WARNING: Ignoring invalid distribution -ensorflow-intel (c:\\users\\jgjoa\\anaconda3\\lib\\site-packages)\n",
            "WARNING: Ignoring invalid distribution -orch (c:\\users\\jgjoa\\anaconda3\\lib\\site-packages)\n",
            "WARNING: Ignoring invalid distribution -rotobuf (c:\\users\\jgjoa\\anaconda3\\lib\\site-packages)\n"
          ]
        }
      ],
      "source": [
        "\n"
      ]
    },
    {
      "cell_type": "code",
      "execution_count": null,
      "id": "88ebfd79-4665-4434-b755-9eea56c52dc1",
      "metadata": {
        "id": "88ebfd79-4665-4434-b755-9eea56c52dc1"
      },
      "outputs": [],
      "source": [
        "pip install --upgrade accelerate"
      ]
    },
    {
      "cell_type": "code",
      "source": [
        "from accelerate.state import PartialState\n",
        "PartialState = PartialState()\n",
        "\n"
      ],
      "metadata": {
        "id": "7xRfntp5CtwT"
      },
      "id": "7xRfntp5CtwT",
      "execution_count": 15,
      "outputs": []
    },
    {
      "cell_type": "code",
      "source": [],
      "metadata": {
        "id": "u5_MnMCWDuqi"
      },
      "id": "u5_MnMCWDuqi",
      "execution_count": null,
      "outputs": []
    },
    {
      "cell_type": "code",
      "execution_count": 16,
      "id": "0d30377d-7a9f-45a1-bad9-08ba5ed2e3dd",
      "metadata": {
        "tags": [],
        "colab": {
          "base_uri": "https://localhost:8080/",
          "height": 764
        },
        "id": "0d30377d-7a9f-45a1-bad9-08ba5ed2e3dd",
        "outputId": "42f69c5b-1db1-4172-f4f9-496abf523714"
      },
      "outputs": [
        {
          "output_type": "display_data",
          "data": {
            "text/plain": [
              "\u001b[31m╭─\u001b[0m\u001b[31m──────────────────────────────\u001b[0m\u001b[31m \u001b[0m\u001b[1;31mTraceback \u001b[0m\u001b[1;2;31m(most recent call last)\u001b[0m\u001b[31m \u001b[0m\u001b[31m───────────────────────────────\u001b[0m\u001b[31m─╮\u001b[0m\n",
              "\u001b[31m│\u001b[0m in \u001b[92m<cell line: 2>\u001b[0m:\u001b[94m2\u001b[0m                                                                              \u001b[31m│\u001b[0m\n",
              "\u001b[31m│\u001b[0m in \u001b[92mtrain\u001b[0m:\u001b[94m53\u001b[0m                                                                                      \u001b[31m│\u001b[0m\n",
              "\u001b[31m│\u001b[0m in \u001b[92m__init__\u001b[0m:\u001b[94m111\u001b[0m                                                                                  \u001b[31m│\u001b[0m\n",
              "\u001b[31m│\u001b[0m                                                                                                  \u001b[31m│\u001b[0m\n",
              "\u001b[31m│\u001b[0m \u001b[2;33m/usr/local/lib/python3.10/dist-packages/transformers/\u001b[0m\u001b[1;33mtraining_args.py\u001b[0m:\u001b[94m1333\u001b[0m in \u001b[92m__post_init__\u001b[0m      \u001b[31m│\u001b[0m\n",
              "\u001b[31m│\u001b[0m                                                                                                  \u001b[31m│\u001b[0m\n",
              "\u001b[31m│\u001b[0m   \u001b[2m1330 \u001b[0m\u001b[2m│   │   \u001b[0m\u001b[94mif\u001b[0m (                                                                              \u001b[31m│\u001b[0m\n",
              "\u001b[31m│\u001b[0m   \u001b[2m1331 \u001b[0m\u001b[2m│   │   │   \u001b[0m\u001b[96mself\u001b[0m.framework == \u001b[33m\"\u001b[0m\u001b[33mpt\u001b[0m\u001b[33m\"\u001b[0m                                                        \u001b[31m│\u001b[0m\n",
              "\u001b[31m│\u001b[0m   \u001b[2m1332 \u001b[0m\u001b[2m│   │   │   \u001b[0m\u001b[95mand\u001b[0m is_torch_available()                                                      \u001b[31m│\u001b[0m\n",
              "\u001b[31m│\u001b[0m \u001b[31m❱ \u001b[0m1333 \u001b[2m│   │   │   \u001b[0m\u001b[95mand\u001b[0m (\u001b[96mself\u001b[0m.device.type != \u001b[33m\"\u001b[0m\u001b[33mcuda\u001b[0m\u001b[33m\"\u001b[0m)                                              \u001b[31m│\u001b[0m\n",
              "\u001b[31m│\u001b[0m   \u001b[2m1334 \u001b[0m\u001b[2m│   │   │   \u001b[0m\u001b[95mand\u001b[0m (get_xla_device_type(\u001b[96mself\u001b[0m.device) != \u001b[33m\"\u001b[0m\u001b[33mGPU\u001b[0m\u001b[33m\"\u001b[0m)                               \u001b[31m│\u001b[0m\n",
              "\u001b[31m│\u001b[0m   \u001b[2m1335 \u001b[0m\u001b[2m│   │   │   \u001b[0m\u001b[95mand\u001b[0m (\u001b[96mself\u001b[0m.fp16 \u001b[95mor\u001b[0m \u001b[96mself\u001b[0m.fp16_full_eval)                                        \u001b[31m│\u001b[0m\n",
              "\u001b[31m│\u001b[0m   \u001b[2m1336 \u001b[0m\u001b[2m│   │   \u001b[0m):                                                                                \u001b[31m│\u001b[0m\n",
              "\u001b[31m│\u001b[0m                                                                                                  \u001b[31m│\u001b[0m\n",
              "\u001b[31m│\u001b[0m \u001b[2;33m/usr/local/lib/python3.10/dist-packages/transformers/\u001b[0m\u001b[1;33mtraining_args.py\u001b[0m:\u001b[94m1697\u001b[0m in \u001b[92mdevice\u001b[0m             \u001b[31m│\u001b[0m\n",
              "\u001b[31m│\u001b[0m                                                                                                  \u001b[31m│\u001b[0m\n",
              "\u001b[31m│\u001b[0m   \u001b[2m1694 \u001b[0m\u001b[2;33m│   │   \u001b[0m\u001b[33mThe device used by this process.\u001b[0m                                                  \u001b[31m│\u001b[0m\n",
              "\u001b[31m│\u001b[0m   \u001b[2m1695 \u001b[0m\u001b[2;33m│   │   \u001b[0m\u001b[33m\"\"\"\u001b[0m                                                                               \u001b[31m│\u001b[0m\n",
              "\u001b[31m│\u001b[0m   \u001b[2m1696 \u001b[0m\u001b[2m│   │   \u001b[0mrequires_backends(\u001b[96mself\u001b[0m, [\u001b[33m\"\u001b[0m\u001b[33mtorch\u001b[0m\u001b[33m\"\u001b[0m])                                                \u001b[31m│\u001b[0m\n",
              "\u001b[31m│\u001b[0m \u001b[31m❱ \u001b[0m1697 \u001b[2m│   │   \u001b[0m\u001b[94mreturn\u001b[0m \u001b[96mself\u001b[0m._setup_devices                                                        \u001b[31m│\u001b[0m\n",
              "\u001b[31m│\u001b[0m   \u001b[2m1698 \u001b[0m\u001b[2m│   \u001b[0m                                                                                      \u001b[31m│\u001b[0m\n",
              "\u001b[31m│\u001b[0m   \u001b[2m1699 \u001b[0m\u001b[2m│   \u001b[0m\u001b[1;95m@property\u001b[0m                                                                             \u001b[31m│\u001b[0m\n",
              "\u001b[31m│\u001b[0m   \u001b[2m1700 \u001b[0m\u001b[2m│   \u001b[0m\u001b[94mdef\u001b[0m \u001b[92mn_gpu\u001b[0m(\u001b[96mself\u001b[0m):                                                                      \u001b[31m│\u001b[0m\n",
              "\u001b[31m│\u001b[0m                                                                                                  \u001b[31m│\u001b[0m\n",
              "\u001b[31m│\u001b[0m \u001b[2;33m/usr/local/lib/python3.10/dist-packages/transformers/utils/\u001b[0m\u001b[1;33mgeneric.py\u001b[0m:\u001b[94m54\u001b[0m in \u001b[92m__get__\u001b[0m              \u001b[31m│\u001b[0m\n",
              "\u001b[31m│\u001b[0m                                                                                                  \u001b[31m│\u001b[0m\n",
              "\u001b[31m│\u001b[0m   \u001b[2m 51 \u001b[0m\u001b[2m│   │   \u001b[0mattr = \u001b[33m\"\u001b[0m\u001b[33m__cached_\u001b[0m\u001b[33m\"\u001b[0m + \u001b[96mself\u001b[0m.fget.\u001b[91m__name__\u001b[0m                                            \u001b[31m│\u001b[0m\n",
              "\u001b[31m│\u001b[0m   \u001b[2m 52 \u001b[0m\u001b[2m│   │   \u001b[0mcached = \u001b[96mgetattr\u001b[0m(obj, attr, \u001b[94mNone\u001b[0m)                                                  \u001b[31m│\u001b[0m\n",
              "\u001b[31m│\u001b[0m   \u001b[2m 53 \u001b[0m\u001b[2m│   │   \u001b[0m\u001b[94mif\u001b[0m cached \u001b[95mis\u001b[0m \u001b[94mNone\u001b[0m:                                                                 \u001b[31m│\u001b[0m\n",
              "\u001b[31m│\u001b[0m \u001b[31m❱ \u001b[0m 54 \u001b[2m│   │   │   \u001b[0mcached = \u001b[96mself\u001b[0m.fget(obj)                                                        \u001b[31m│\u001b[0m\n",
              "\u001b[31m│\u001b[0m   \u001b[2m 55 \u001b[0m\u001b[2m│   │   │   \u001b[0m\u001b[96msetattr\u001b[0m(obj, attr, cached)                                                     \u001b[31m│\u001b[0m\n",
              "\u001b[31m│\u001b[0m   \u001b[2m 56 \u001b[0m\u001b[2m│   │   \u001b[0m\u001b[94mreturn\u001b[0m cached                                                                      \u001b[31m│\u001b[0m\n",
              "\u001b[31m│\u001b[0m   \u001b[2m 57 \u001b[0m                                                                                           \u001b[31m│\u001b[0m\n",
              "\u001b[31m│\u001b[0m                                                                                                  \u001b[31m│\u001b[0m\n",
              "\u001b[31m│\u001b[0m \u001b[2;33m/usr/local/lib/python3.10/dist-packages/transformers/\u001b[0m\u001b[1;33mtraining_args.py\u001b[0m:\u001b[94m1631\u001b[0m in \u001b[92m_setup_devices\u001b[0m     \u001b[31m│\u001b[0m\n",
              "\u001b[31m│\u001b[0m                                                                                                  \u001b[31m│\u001b[0m\n",
              "\u001b[31m│\u001b[0m   \u001b[2m1628 \u001b[0m\u001b[2m│   │   │   \u001b[0m\u001b[94mdel\u001b[0m os.environ[\u001b[33m\"\u001b[0m\u001b[33mACCELERATE_USE_DEEPSPEED\u001b[0m\u001b[33m\"\u001b[0m]                                    \u001b[31m│\u001b[0m\n",
              "\u001b[31m│\u001b[0m   \u001b[2m1629 \u001b[0m\u001b[2m│   │   │   \u001b[0m\u001b[96mself\u001b[0m._n_gpu = \u001b[94m1\u001b[0m                                                               \u001b[31m│\u001b[0m\n",
              "\u001b[31m│\u001b[0m   \u001b[2m1630 \u001b[0m\u001b[2m│   │   \u001b[0m\u001b[94melse\u001b[0m:                                                                             \u001b[31m│\u001b[0m\n",
              "\u001b[31m│\u001b[0m \u001b[31m❱ \u001b[0m1631 \u001b[2m│   │   │   \u001b[0m\u001b[96mself\u001b[0m.distributed_state = PartialState(backend=\u001b[96mself\u001b[0m.ddp_backend)               \u001b[31m│\u001b[0m\n",
              "\u001b[31m│\u001b[0m   \u001b[2m1632 \u001b[0m\u001b[2m│   │   │   \u001b[0m\u001b[96mself\u001b[0m._n_gpu = \u001b[94m1\u001b[0m                                                               \u001b[31m│\u001b[0m\n",
              "\u001b[31m│\u001b[0m   \u001b[2m1633 \u001b[0m\u001b[2m│   │   \u001b[0m\u001b[94mif\u001b[0m \u001b[95mnot\u001b[0m is_sagemaker_mp_enabled():                                                 \u001b[31m│\u001b[0m\n",
              "\u001b[31m│\u001b[0m   \u001b[2m1634 \u001b[0m\u001b[2m│   │   │   \u001b[0mdevice = \u001b[96mself\u001b[0m.distributed_state.device                                        \u001b[31m│\u001b[0m\n",
              "\u001b[31m╰──────────────────────────────────────────────────────────────────────────────────────────────────╯\u001b[0m\n",
              "\u001b[1;91mNameError: \u001b[0mname \u001b[32m'PartialState'\u001b[0m is not defined\n"
            ],
            "text/html": [
              "<pre style=\"white-space:pre;overflow-x:auto;line-height:normal;font-family:Menlo,'DejaVu Sans Mono',consolas,'Courier New',monospace\"><span style=\"color: #800000; text-decoration-color: #800000\">╭─────────────────────────────── </span><span style=\"color: #800000; text-decoration-color: #800000; font-weight: bold\">Traceback </span><span style=\"color: #bf7f7f; text-decoration-color: #bf7f7f; font-weight: bold\">(most recent call last)</span><span style=\"color: #800000; text-decoration-color: #800000\"> ────────────────────────────────╮</span>\n",
              "<span style=\"color: #800000; text-decoration-color: #800000\">│</span> in <span style=\"color: #00ff00; text-decoration-color: #00ff00\">&lt;cell line: 2&gt;</span>:<span style=\"color: #0000ff; text-decoration-color: #0000ff\">2</span>                                                                              <span style=\"color: #800000; text-decoration-color: #800000\">│</span>\n",
              "<span style=\"color: #800000; text-decoration-color: #800000\">│</span> in <span style=\"color: #00ff00; text-decoration-color: #00ff00\">train</span>:<span style=\"color: #0000ff; text-decoration-color: #0000ff\">53</span>                                                                                      <span style=\"color: #800000; text-decoration-color: #800000\">│</span>\n",
              "<span style=\"color: #800000; text-decoration-color: #800000\">│</span> in <span style=\"color: #00ff00; text-decoration-color: #00ff00\">__init__</span>:<span style=\"color: #0000ff; text-decoration-color: #0000ff\">111</span>                                                                                  <span style=\"color: #800000; text-decoration-color: #800000\">│</span>\n",
              "<span style=\"color: #800000; text-decoration-color: #800000\">│</span>                                                                                                  <span style=\"color: #800000; text-decoration-color: #800000\">│</span>\n",
              "<span style=\"color: #800000; text-decoration-color: #800000\">│</span> <span style=\"color: #bfbf7f; text-decoration-color: #bfbf7f\">/usr/local/lib/python3.10/dist-packages/transformers/</span><span style=\"color: #808000; text-decoration-color: #808000; font-weight: bold\">training_args.py</span>:<span style=\"color: #0000ff; text-decoration-color: #0000ff\">1333</span> in <span style=\"color: #00ff00; text-decoration-color: #00ff00\">__post_init__</span>      <span style=\"color: #800000; text-decoration-color: #800000\">│</span>\n",
              "<span style=\"color: #800000; text-decoration-color: #800000\">│</span>                                                                                                  <span style=\"color: #800000; text-decoration-color: #800000\">│</span>\n",
              "<span style=\"color: #800000; text-decoration-color: #800000\">│</span>   <span style=\"color: #7f7f7f; text-decoration-color: #7f7f7f\">1330 │   │   </span><span style=\"color: #0000ff; text-decoration-color: #0000ff\">if</span> (                                                                              <span style=\"color: #800000; text-decoration-color: #800000\">│</span>\n",
              "<span style=\"color: #800000; text-decoration-color: #800000\">│</span>   <span style=\"color: #7f7f7f; text-decoration-color: #7f7f7f\">1331 │   │   │   </span><span style=\"color: #00ffff; text-decoration-color: #00ffff\">self</span>.framework == <span style=\"color: #808000; text-decoration-color: #808000\">\"pt\"</span>                                                        <span style=\"color: #800000; text-decoration-color: #800000\">│</span>\n",
              "<span style=\"color: #800000; text-decoration-color: #800000\">│</span>   <span style=\"color: #7f7f7f; text-decoration-color: #7f7f7f\">1332 │   │   │   </span><span style=\"color: #ff00ff; text-decoration-color: #ff00ff\">and</span> is_torch_available()                                                      <span style=\"color: #800000; text-decoration-color: #800000\">│</span>\n",
              "<span style=\"color: #800000; text-decoration-color: #800000\">│</span> <span style=\"color: #800000; text-decoration-color: #800000\">❱ </span>1333 <span style=\"color: #7f7f7f; text-decoration-color: #7f7f7f\">│   │   │   </span><span style=\"color: #ff00ff; text-decoration-color: #ff00ff\">and</span> (<span style=\"color: #00ffff; text-decoration-color: #00ffff\">self</span>.device.type != <span style=\"color: #808000; text-decoration-color: #808000\">\"cuda\"</span>)                                              <span style=\"color: #800000; text-decoration-color: #800000\">│</span>\n",
              "<span style=\"color: #800000; text-decoration-color: #800000\">│</span>   <span style=\"color: #7f7f7f; text-decoration-color: #7f7f7f\">1334 │   │   │   </span><span style=\"color: #ff00ff; text-decoration-color: #ff00ff\">and</span> (get_xla_device_type(<span style=\"color: #00ffff; text-decoration-color: #00ffff\">self</span>.device) != <span style=\"color: #808000; text-decoration-color: #808000\">\"GPU\"</span>)                               <span style=\"color: #800000; text-decoration-color: #800000\">│</span>\n",
              "<span style=\"color: #800000; text-decoration-color: #800000\">│</span>   <span style=\"color: #7f7f7f; text-decoration-color: #7f7f7f\">1335 │   │   │   </span><span style=\"color: #ff00ff; text-decoration-color: #ff00ff\">and</span> (<span style=\"color: #00ffff; text-decoration-color: #00ffff\">self</span>.fp16 <span style=\"color: #ff00ff; text-decoration-color: #ff00ff\">or</span> <span style=\"color: #00ffff; text-decoration-color: #00ffff\">self</span>.fp16_full_eval)                                        <span style=\"color: #800000; text-decoration-color: #800000\">│</span>\n",
              "<span style=\"color: #800000; text-decoration-color: #800000\">│</span>   <span style=\"color: #7f7f7f; text-decoration-color: #7f7f7f\">1336 │   │   </span>):                                                                                <span style=\"color: #800000; text-decoration-color: #800000\">│</span>\n",
              "<span style=\"color: #800000; text-decoration-color: #800000\">│</span>                                                                                                  <span style=\"color: #800000; text-decoration-color: #800000\">│</span>\n",
              "<span style=\"color: #800000; text-decoration-color: #800000\">│</span> <span style=\"color: #bfbf7f; text-decoration-color: #bfbf7f\">/usr/local/lib/python3.10/dist-packages/transformers/</span><span style=\"color: #808000; text-decoration-color: #808000; font-weight: bold\">training_args.py</span>:<span style=\"color: #0000ff; text-decoration-color: #0000ff\">1697</span> in <span style=\"color: #00ff00; text-decoration-color: #00ff00\">device</span>             <span style=\"color: #800000; text-decoration-color: #800000\">│</span>\n",
              "<span style=\"color: #800000; text-decoration-color: #800000\">│</span>                                                                                                  <span style=\"color: #800000; text-decoration-color: #800000\">│</span>\n",
              "<span style=\"color: #800000; text-decoration-color: #800000\">│</span>   <span style=\"color: #7f7f7f; text-decoration-color: #7f7f7f\">1694 </span><span style=\"color: #bfbf7f; text-decoration-color: #bfbf7f\">│   │   </span><span style=\"color: #808000; text-decoration-color: #808000\">The device used by this process.</span>                                                  <span style=\"color: #800000; text-decoration-color: #800000\">│</span>\n",
              "<span style=\"color: #800000; text-decoration-color: #800000\">│</span>   <span style=\"color: #7f7f7f; text-decoration-color: #7f7f7f\">1695 </span><span style=\"color: #bfbf7f; text-decoration-color: #bfbf7f\">│   │   </span><span style=\"color: #808000; text-decoration-color: #808000\">\"\"\"</span>                                                                               <span style=\"color: #800000; text-decoration-color: #800000\">│</span>\n",
              "<span style=\"color: #800000; text-decoration-color: #800000\">│</span>   <span style=\"color: #7f7f7f; text-decoration-color: #7f7f7f\">1696 │   │   </span>requires_backends(<span style=\"color: #00ffff; text-decoration-color: #00ffff\">self</span>, [<span style=\"color: #808000; text-decoration-color: #808000\">\"torch\"</span>])                                                <span style=\"color: #800000; text-decoration-color: #800000\">│</span>\n",
              "<span style=\"color: #800000; text-decoration-color: #800000\">│</span> <span style=\"color: #800000; text-decoration-color: #800000\">❱ </span>1697 <span style=\"color: #7f7f7f; text-decoration-color: #7f7f7f\">│   │   </span><span style=\"color: #0000ff; text-decoration-color: #0000ff\">return</span> <span style=\"color: #00ffff; text-decoration-color: #00ffff\">self</span>._setup_devices                                                        <span style=\"color: #800000; text-decoration-color: #800000\">│</span>\n",
              "<span style=\"color: #800000; text-decoration-color: #800000\">│</span>   <span style=\"color: #7f7f7f; text-decoration-color: #7f7f7f\">1698 │   </span>                                                                                      <span style=\"color: #800000; text-decoration-color: #800000\">│</span>\n",
              "<span style=\"color: #800000; text-decoration-color: #800000\">│</span>   <span style=\"color: #7f7f7f; text-decoration-color: #7f7f7f\">1699 │   </span><span style=\"color: #ff00ff; text-decoration-color: #ff00ff; font-weight: bold\">@property</span>                                                                             <span style=\"color: #800000; text-decoration-color: #800000\">│</span>\n",
              "<span style=\"color: #800000; text-decoration-color: #800000\">│</span>   <span style=\"color: #7f7f7f; text-decoration-color: #7f7f7f\">1700 │   </span><span style=\"color: #0000ff; text-decoration-color: #0000ff\">def</span> <span style=\"color: #00ff00; text-decoration-color: #00ff00\">n_gpu</span>(<span style=\"color: #00ffff; text-decoration-color: #00ffff\">self</span>):                                                                      <span style=\"color: #800000; text-decoration-color: #800000\">│</span>\n",
              "<span style=\"color: #800000; text-decoration-color: #800000\">│</span>                                                                                                  <span style=\"color: #800000; text-decoration-color: #800000\">│</span>\n",
              "<span style=\"color: #800000; text-decoration-color: #800000\">│</span> <span style=\"color: #bfbf7f; text-decoration-color: #bfbf7f\">/usr/local/lib/python3.10/dist-packages/transformers/utils/</span><span style=\"color: #808000; text-decoration-color: #808000; font-weight: bold\">generic.py</span>:<span style=\"color: #0000ff; text-decoration-color: #0000ff\">54</span> in <span style=\"color: #00ff00; text-decoration-color: #00ff00\">__get__</span>              <span style=\"color: #800000; text-decoration-color: #800000\">│</span>\n",
              "<span style=\"color: #800000; text-decoration-color: #800000\">│</span>                                                                                                  <span style=\"color: #800000; text-decoration-color: #800000\">│</span>\n",
              "<span style=\"color: #800000; text-decoration-color: #800000\">│</span>   <span style=\"color: #7f7f7f; text-decoration-color: #7f7f7f\"> 51 │   │   </span>attr = <span style=\"color: #808000; text-decoration-color: #808000\">\"__cached_\"</span> + <span style=\"color: #00ffff; text-decoration-color: #00ffff\">self</span>.fget.<span style=\"color: #ff0000; text-decoration-color: #ff0000\">__name__</span>                                            <span style=\"color: #800000; text-decoration-color: #800000\">│</span>\n",
              "<span style=\"color: #800000; text-decoration-color: #800000\">│</span>   <span style=\"color: #7f7f7f; text-decoration-color: #7f7f7f\"> 52 │   │   </span>cached = <span style=\"color: #00ffff; text-decoration-color: #00ffff\">getattr</span>(obj, attr, <span style=\"color: #0000ff; text-decoration-color: #0000ff\">None</span>)                                                  <span style=\"color: #800000; text-decoration-color: #800000\">│</span>\n",
              "<span style=\"color: #800000; text-decoration-color: #800000\">│</span>   <span style=\"color: #7f7f7f; text-decoration-color: #7f7f7f\"> 53 │   │   </span><span style=\"color: #0000ff; text-decoration-color: #0000ff\">if</span> cached <span style=\"color: #ff00ff; text-decoration-color: #ff00ff\">is</span> <span style=\"color: #0000ff; text-decoration-color: #0000ff\">None</span>:                                                                 <span style=\"color: #800000; text-decoration-color: #800000\">│</span>\n",
              "<span style=\"color: #800000; text-decoration-color: #800000\">│</span> <span style=\"color: #800000; text-decoration-color: #800000\">❱ </span> 54 <span style=\"color: #7f7f7f; text-decoration-color: #7f7f7f\">│   │   │   </span>cached = <span style=\"color: #00ffff; text-decoration-color: #00ffff\">self</span>.fget(obj)                                                        <span style=\"color: #800000; text-decoration-color: #800000\">│</span>\n",
              "<span style=\"color: #800000; text-decoration-color: #800000\">│</span>   <span style=\"color: #7f7f7f; text-decoration-color: #7f7f7f\"> 55 │   │   │   </span><span style=\"color: #00ffff; text-decoration-color: #00ffff\">setattr</span>(obj, attr, cached)                                                     <span style=\"color: #800000; text-decoration-color: #800000\">│</span>\n",
              "<span style=\"color: #800000; text-decoration-color: #800000\">│</span>   <span style=\"color: #7f7f7f; text-decoration-color: #7f7f7f\"> 56 │   │   </span><span style=\"color: #0000ff; text-decoration-color: #0000ff\">return</span> cached                                                                      <span style=\"color: #800000; text-decoration-color: #800000\">│</span>\n",
              "<span style=\"color: #800000; text-decoration-color: #800000\">│</span>   <span style=\"color: #7f7f7f; text-decoration-color: #7f7f7f\"> 57 </span>                                                                                           <span style=\"color: #800000; text-decoration-color: #800000\">│</span>\n",
              "<span style=\"color: #800000; text-decoration-color: #800000\">│</span>                                                                                                  <span style=\"color: #800000; text-decoration-color: #800000\">│</span>\n",
              "<span style=\"color: #800000; text-decoration-color: #800000\">│</span> <span style=\"color: #bfbf7f; text-decoration-color: #bfbf7f\">/usr/local/lib/python3.10/dist-packages/transformers/</span><span style=\"color: #808000; text-decoration-color: #808000; font-weight: bold\">training_args.py</span>:<span style=\"color: #0000ff; text-decoration-color: #0000ff\">1631</span> in <span style=\"color: #00ff00; text-decoration-color: #00ff00\">_setup_devices</span>     <span style=\"color: #800000; text-decoration-color: #800000\">│</span>\n",
              "<span style=\"color: #800000; text-decoration-color: #800000\">│</span>                                                                                                  <span style=\"color: #800000; text-decoration-color: #800000\">│</span>\n",
              "<span style=\"color: #800000; text-decoration-color: #800000\">│</span>   <span style=\"color: #7f7f7f; text-decoration-color: #7f7f7f\">1628 │   │   │   </span><span style=\"color: #0000ff; text-decoration-color: #0000ff\">del</span> os.environ[<span style=\"color: #808000; text-decoration-color: #808000\">\"ACCELERATE_USE_DEEPSPEED\"</span>]                                    <span style=\"color: #800000; text-decoration-color: #800000\">│</span>\n",
              "<span style=\"color: #800000; text-decoration-color: #800000\">│</span>   <span style=\"color: #7f7f7f; text-decoration-color: #7f7f7f\">1629 │   │   │   </span><span style=\"color: #00ffff; text-decoration-color: #00ffff\">self</span>._n_gpu = <span style=\"color: #0000ff; text-decoration-color: #0000ff\">1</span>                                                               <span style=\"color: #800000; text-decoration-color: #800000\">│</span>\n",
              "<span style=\"color: #800000; text-decoration-color: #800000\">│</span>   <span style=\"color: #7f7f7f; text-decoration-color: #7f7f7f\">1630 │   │   </span><span style=\"color: #0000ff; text-decoration-color: #0000ff\">else</span>:                                                                             <span style=\"color: #800000; text-decoration-color: #800000\">│</span>\n",
              "<span style=\"color: #800000; text-decoration-color: #800000\">│</span> <span style=\"color: #800000; text-decoration-color: #800000\">❱ </span>1631 <span style=\"color: #7f7f7f; text-decoration-color: #7f7f7f\">│   │   │   </span><span style=\"color: #00ffff; text-decoration-color: #00ffff\">self</span>.distributed_state = PartialState(backend=<span style=\"color: #00ffff; text-decoration-color: #00ffff\">self</span>.ddp_backend)               <span style=\"color: #800000; text-decoration-color: #800000\">│</span>\n",
              "<span style=\"color: #800000; text-decoration-color: #800000\">│</span>   <span style=\"color: #7f7f7f; text-decoration-color: #7f7f7f\">1632 │   │   │   </span><span style=\"color: #00ffff; text-decoration-color: #00ffff\">self</span>._n_gpu = <span style=\"color: #0000ff; text-decoration-color: #0000ff\">1</span>                                                               <span style=\"color: #800000; text-decoration-color: #800000\">│</span>\n",
              "<span style=\"color: #800000; text-decoration-color: #800000\">│</span>   <span style=\"color: #7f7f7f; text-decoration-color: #7f7f7f\">1633 │   │   </span><span style=\"color: #0000ff; text-decoration-color: #0000ff\">if</span> <span style=\"color: #ff00ff; text-decoration-color: #ff00ff\">not</span> is_sagemaker_mp_enabled():                                                 <span style=\"color: #800000; text-decoration-color: #800000\">│</span>\n",
              "<span style=\"color: #800000; text-decoration-color: #800000\">│</span>   <span style=\"color: #7f7f7f; text-decoration-color: #7f7f7f\">1634 │   │   │   </span>device = <span style=\"color: #00ffff; text-decoration-color: #00ffff\">self</span>.distributed_state.device                                        <span style=\"color: #800000; text-decoration-color: #800000\">│</span>\n",
              "<span style=\"color: #800000; text-decoration-color: #800000\">╰──────────────────────────────────────────────────────────────────────────────────────────────────╯</span>\n",
              "<span style=\"color: #ff0000; text-decoration-color: #ff0000; font-weight: bold\">NameError: </span>name <span style=\"color: #008000; text-decoration-color: #008000\">'PartialState'</span> is not defined\n",
              "</pre>\n"
            ]
          },
          "metadata": {}
        }
      ],
      "source": [
        "# It takes about 30 minutes to train in colab.\n",
        "train(\n",
        "    train_dataframe=train_dataframe,\n",
        "    model_name=model_name,\n",
        "    output_dir=output_dir,\n",
        "    overwrite_output_dir=overwrite_output_dir,\n",
        "    per_device_train_batch_size=per_device_train_batch_size,\n",
        "    num_train_epochs=num_train_epochs,\n",
        "    save_steps=save_steps\n",
        ")"
      ]
    },
    {
      "cell_type": "code",
      "execution_count": null,
      "id": "fcd95012-a3c4-4c8c-a324-6e39d718b277",
      "metadata": {
        "id": "fcd95012-a3c4-4c8c-a324-6e39d718b277"
      },
      "outputs": [],
      "source": [
        "from transformers import PreTrainedTokenizerFast, GPT2LMHeadModel, GPT2TokenizerFast, GPT2Tokenizer\n"
      ]
    },
    {
      "cell_type": "code",
      "source": [
        "def load_model(model_path):\n",
        "    model = GPT2LMHeadModel.from_pretrained(model_path)\n",
        "    return model\n",
        "\n",
        "\n",
        "def load_tokenizer(tokenizer_path):\n",
        "    tokenizer = GPT2Tokenizer.from_pretrained(tokenizer_path)\n",
        "    return tokenizer\n",
        "\n",
        "\n",
        "def generate_text(sequence, max_length):\n",
        "    model_path = \"/content/drive/MyDrive/result\"\n",
        "    model = load_model(model_path)\n",
        "    tokenizer = load_tokenizer(model_path)\n",
        "    ids = tokenizer.encode(f'{sequence}', return_tensors='pt')\n",
        "    final_outputs = model.generate(\n",
        "        ids,\n",
        "        do_sample=True,\n",
        "        max_length=max_length,\n",
        "        pad_token_id=model.config.eos_token_id,\n",
        "        top_k=50,\n",
        "        top_p=0.95,\n",
        "    )\n",
        "    print(tokenizer.decode(final_outputs[0], skip_special_tokens=True))"
      ],
      "metadata": {
        "id": "vNnjWg8UFagr"
      },
      "id": "vNnjWg8UFagr",
      "execution_count": null,
      "outputs": []
    },
    {
      "cell_type": "code",
      "source": [
        "sequence = input() # oil price\n",
        "max_len = int(input()) # 20\n",
        "generate_text(sequence, max_len) # oil price for July June which had been low at as low as was originally stated Prices have since resumed"
      ],
      "metadata": {
        "id": "7NATGuaN-k5J"
      },
      "id": "7NATGuaN-k5J",
      "execution_count": null,
      "outputs": []
    },
    {
      "cell_type": "code",
      "source": [],
      "metadata": {
        "id": "NUM9QMMH-k8l"
      },
      "id": "NUM9QMMH-k8l",
      "execution_count": null,
      "outputs": []
    },
    {
      "cell_type": "markdown",
      "source": [
        "# 3. Description GPT2 v2\n",
        "\n",
        "https://www.kaggle.com/code/ysthehurricane/text-generation-with-gpt2-huggingface\n"
      ],
      "metadata": {
        "id": "cX33uZOjVpz_"
      },
      "id": "cX33uZOjVpz_"
    },
    {
      "cell_type": "code",
      "source": [
        "from itertools import compress"
      ],
      "metadata": {
        "id": "kEerH8CIFaj2"
      },
      "id": "kEerH8CIFaj2",
      "execution_count": null,
      "outputs": []
    },
    {
      "cell_type": "code",
      "source": [
        "CUDA_VISIBLE_DEVICES=0"
      ],
      "metadata": {
        "id": "2q4WDB_LeLZZ"
      },
      "id": "2q4WDB_LeLZZ",
      "execution_count": null,
      "outputs": []
    },
    {
      "cell_type": "code",
      "source": [
        "df_gpt22= data[data['idioma']=='en']\n",
        "df_gpt22 = df_gpt22['description']\n",
        "df_gpt22 = df_gpt22[0:100]"
      ],
      "metadata": {
        "id": "aRV4pCUMV-LG"
      },
      "id": "aRV4pCUMV-LG",
      "execution_count": 17,
      "outputs": []
    },
    {
      "cell_type": "code",
      "source": [
        "from transformers import GPT2Tokenizer\n",
        "\n",
        "tokenizer = GPT2Tokenizer.from_pretrained('gpt2', \n",
        "                                          bos_token='<|startoftext|>', \n",
        "                                          eos_token='<|endoftext|>', \n",
        "                                          pad_token='<|pad|>')\n",
        "\n",
        "\n",
        "tokenizer.encode(\"sample text\")"
      ],
      "metadata": {
        "colab": {
          "base_uri": "https://localhost:8080/"
        },
        "id": "qMBE1cI-V1qq",
        "outputId": "bdd9844f-431f-4335-b061-7c3b1727cafe"
      },
      "id": "qMBE1cI-V1qq",
      "execution_count": 18,
      "outputs": [
        {
          "output_type": "stream",
          "name": "stderr",
          "text": [
            "Special tokens have been added in the vocabulary, make sure the associated word embeddings are fine-tuned or trained.\n"
          ]
        },
        {
          "output_type": "execute_result",
          "data": {
            "text/plain": [
              "[39873, 2420]"
            ]
          },
          "metadata": {},
          "execution_count": 18
        }
      ]
    },
    {
      "cell_type": "code",
      "source": [
        "print(\"The max model length is {} for this model\".format(tokenizer.model_max_length))\n",
        "print(\"The beginning of sequence token {} token has the id {}\".format(tokenizer.convert_ids_to_tokens(tokenizer.bos_token_id), tokenizer.bos_token_id))\n",
        "print(\"The end of sequence token {} has the id {}\".format(tokenizer.convert_ids_to_tokens(tokenizer.eos_token_id), tokenizer.eos_token_id))\n",
        "print(\"The padding token {} has the id {}\".format(tokenizer.convert_ids_to_tokens(tokenizer.pad_token_id), tokenizer.pad_token_id))"
      ],
      "metadata": {
        "colab": {
          "base_uri": "https://localhost:8080/"
        },
        "id": "hQUZDIHYV1tM",
        "outputId": "62278f5e-2e2c-404b-ba1c-7a8f7940bc94"
      },
      "id": "hQUZDIHYV1tM",
      "execution_count": 19,
      "outputs": [
        {
          "output_type": "stream",
          "name": "stdout",
          "text": [
            "The max model length is 1024 for this model\n",
            "The beginning of sequence token <|startoftext|> token has the id 50257\n",
            "The end of sequence token <|endoftext|> has the id 50256\n",
            "The padding token <|pad|> has the id 50258\n"
          ]
        }
      ]
    },
    {
      "cell_type": "code",
      "source": [
        "max_flavour = max([len(tokenizer.encode(df_gpt22)) for df_gpt22 in df_gpt22])\n",
        "\n",
        "print(f'The longest flavour text is {max_flavour} tokens long.')"
      ],
      "metadata": {
        "colab": {
          "base_uri": "https://localhost:8080/"
        },
        "id": "04Pc36X_V11M",
        "outputId": "da76255b-1e59-40da-8abf-b4962570219b"
      },
      "id": "04Pc36X_V11M",
      "execution_count": 20,
      "outputs": [
        {
          "output_type": "stream",
          "name": "stdout",
          "text": [
            "The longest flavour text is 1017 tokens long.\n"
          ]
        }
      ]
    },
    {
      "cell_type": "code",
      "source": [
        "import torch\n",
        "torch.manual_seed(42)\n",
        "from torch.utils.data import Dataset # this is the pytorch class import\n",
        "\n",
        "class MTGDataset(Dataset):\n",
        "    def __init__(self, txt_list, tokenizer, gpt2_type=\"gpt2\", max_length=max_flavour):\n",
        "        self.tokenizer = tokenizer # the gpt2 tokenizer we instantiated\n",
        "        self.input_ids = []\n",
        "        self.attn_masks = []\n",
        "\n",
        "        for txt in txt_list:\n",
        "            \"\"\"\n",
        "            This loop will iterate through each entry in the flavour text corpus.\n",
        "            For each bit of text it will prepend it with the start of text token,\n",
        "            then append the end of text token and pad to the maximum length with the \n",
        "            pad token. \n",
        "            \"\"\"\n",
        "\n",
        "            encodings_dict = tokenizer('<|startoftext|>'+ txt + '<|endoftext|>', \n",
        "                                       truncation=True, \n",
        "                                       max_length=max_length, \n",
        "                                       padding=\"max_length\")\n",
        "      \n",
        "            \"\"\"\n",
        "            Each iteration then appends either the encoded tensor to a list,\n",
        "            or the attention mask for that encoding to a list. The attention mask is\n",
        "            binary list of 1's or 0's which determine whether the langauge model\n",
        "            should take that token into consideration or not. \n",
        "            \"\"\"\n",
        "            \n",
        "            self.input_ids.append(torch.tensor(encodings_dict['input_ids']))\n",
        "            self.attn_masks.append(torch.tensor(encodings_dict['attention_mask']))\n",
        "    \n",
        "    def __len__(self):\n",
        "        return len(self.input_ids)\n",
        "    \n",
        "    def __getitem__(self, idx):\n",
        "        return self.input_ids[idx], self.attn_masks[idx]"
      ],
      "metadata": {
        "id": "7qE_dwTVV17Q"
      },
      "id": "7qE_dwTVV17Q",
      "execution_count": 21,
      "outputs": []
    },
    {
      "cell_type": "code",
      "source": [
        "from torch.utils.data import random_split\n",
        "\n",
        "dataset = MTGDataset(df_gpt22, tokenizer, max_length=max_flavour)\n",
        "\n",
        "# Split into training and validation sets\n",
        "train_size = int(0.8 * len(dataset))\n",
        "val_size = len(dataset) - train_size\n",
        "\n",
        "train_dataset, val_dataset = random_split(dataset, [train_size, val_size])\n",
        "\n",
        "f'There are {train_size} samples for training, and {val_size} samples for validation testing'"
      ],
      "metadata": {
        "colab": {
          "base_uri": "https://localhost:8080/",
          "height": 35
        },
        "id": "jy8fXPzDV19w",
        "outputId": "17b5e7ac-ea60-4072-f6a1-2778ba1225bd"
      },
      "id": "jy8fXPzDV19w",
      "execution_count": 22,
      "outputs": [
        {
          "output_type": "execute_result",
          "data": {
            "text/plain": [
              "'There are 80 samples for training, and 20 samples for validation testing'"
            ],
            "application/vnd.google.colaboratory.intrinsic+json": {
              "type": "string"
            }
          },
          "metadata": {},
          "execution_count": 22
        }
      ]
    },
    {
      "cell_type": "code",
      "source": [
        "dataset[0]"
      ],
      "metadata": {
        "colab": {
          "base_uri": "https://localhost:8080/"
        },
        "id": "XXVJRPhgXb-f",
        "outputId": "852d81f9-16cb-4071-b2f1-077924208c21"
      },
      "id": "XXVJRPhgXb-f",
      "execution_count": 23,
      "outputs": [
        {
          "output_type": "execute_result",
          "data": {
            "text/plain": [
              "(tensor([50257, 43525,   287,  ..., 50258, 50258, 50258]),\n",
              " tensor([1, 1, 1,  ..., 0, 0, 0]))"
            ]
          },
          "metadata": {},
          "execution_count": 23
        }
      ]
    },
    {
      "cell_type": "code",
      "source": [
        "from torch.utils.data import DataLoader, RandomSampler, SequentialSampler\n",
        "\n",
        "train_dataloader = DataLoader(\n",
        "            train_dataset,  \n",
        "            sampler = RandomSampler(train_dataset), # Sampling for training is random\n",
        "            batch_size = 1\n",
        "        )\n",
        "\n",
        "validation_dataloader = DataLoader(\n",
        "            val_dataset, \n",
        "            sampler = SequentialSampler(val_dataset), # Sampling for validation is sequential as the order doesn't matter.\n",
        "            batch_size = 1 \n",
        "        )"
      ],
      "metadata": {
        "id": "zcWqCuAnXcBt"
      },
      "id": "zcWqCuAnXcBt",
      "execution_count": 24,
      "outputs": []
    },
    {
      "cell_type": "code",
      "source": [
        "print(torch.cuda.device_count())   # --> 0\n",
        "print(torch.cuda.is_available())   # --> False\n",
        "print(torch.version.cuda)          # --> 9.0.176"
      ],
      "metadata": {
        "colab": {
          "base_uri": "https://localhost:8080/"
        },
        "id": "L-a8iPPrTMag",
        "outputId": "e2d54a66-8d43-4cc8-d788-372d4bc4e716"
      },
      "id": "L-a8iPPrTMag",
      "execution_count": null,
      "outputs": [
        {
          "output_type": "stream",
          "name": "stdout",
          "text": [
            "1\n",
            "True\n",
            "11.8\n"
          ]
        }
      ]
    },
    {
      "cell_type": "code",
      "source": [
        "import random\n",
        "from transformers import GPT2LMHeadModel, GPT2Config\n",
        "import numpy as np\n",
        "\n",
        "# Loading the model configuration and setting it to the GPT2 standard settings.\n",
        "configuration = GPT2Config.from_pretrained('gpt2', output_hidden_states=False)\n",
        "\n",
        "# Create the instance of the model and set the token size embedding length\n",
        "model = GPT2LMHeadModel.from_pretrained(\"gpt2\", config=configuration)\n",
        "model.resize_token_embeddings(len(tokenizer))\n",
        "\n",
        "# Tell pytorch to run this model on the GPU.\n",
        "device = torch.device(\"cuda\")\n",
        "model.cuda()\n",
        "\n",
        "# This step is optional but will enable reproducible runs.\n",
        "seed_val = 42\n",
        "\n",
        "random.seed(seed_val)\n",
        "np.random.seed(seed_val)\n",
        "torch.manual_seed(seed_val)\n",
        "torch.cuda.manual_seed_all(seed_val)\n"
      ],
      "metadata": {
        "id": "omHiWealXcEv"
      },
      "id": "omHiWealXcEv",
      "execution_count": 25,
      "outputs": []
    },
    {
      "cell_type": "code",
      "source": [
        "# We wil create a few variables to define the training parameters of the model\n",
        "# epochs are the training rounds\n",
        "# the warmup steps are steps at the start of training that are ignored\n",
        "# every x steps we will sample the model to test the output\n",
        "\n",
        "epochs = 4\n",
        "warmup_steps = 1e2\n",
        "sample_every = 100"
      ],
      "metadata": {
        "id": "S6zTqfdRXcH6"
      },
      "id": "S6zTqfdRXcH6",
      "execution_count": 26,
      "outputs": []
    },
    {
      "cell_type": "code",
      "source": [
        "from transformers import AdamW\n",
        "# AdamW is a class from the huggingface library, it is the optimizer we will be using, and \n",
        "# we will only be instantiating it with the default parameters. \n",
        "\n",
        "optimizer = AdamW(model.parameters(),\n",
        "                  lr = 5e-4,\n",
        "                  eps = 1e-8\n",
        "                )"
      ],
      "metadata": {
        "id": "ehfbhqxWYJ-L"
      },
      "id": "ehfbhqxWYJ-L",
      "execution_count": 27,
      "outputs": []
    },
    {
      "cell_type": "code",
      "source": [
        "from transformers import get_linear_schedule_with_warmup\n",
        "\n",
        "\"\"\"\n",
        "Total training steps is the number of data points, times the number of epochs. \n",
        "Essentially, epochs are training cycles, how many times each point will be seen by the model. \n",
        "\"\"\"\n",
        "\n",
        "total_steps = len(train_dataloader) * epochs\n",
        "\n",
        "\"\"\"\n",
        "We can set a variable learning rate which will help scan larger areas of the \n",
        "problem space at higher LR earlier, then fine tune to find the exact model minima \n",
        "at lower LR later in training.\n",
        "\"\"\"\n",
        "scheduler = get_linear_schedule_with_warmup(optimizer, \n",
        "                                            num_warmup_steps = warmup_steps, \n",
        "                                            num_training_steps = total_steps)"
      ],
      "metadata": {
        "id": "v2Gw3F64YKBQ"
      },
      "id": "v2Gw3F64YKBQ",
      "execution_count": 28,
      "outputs": []
    },
    {
      "cell_type": "code",
      "source": [
        "import random\n",
        "import time\n",
        "import datetime\n",
        "\n",
        "def format_time(elapsed):\n",
        "    return str(datetime.timedelta(seconds=int(round((elapsed)))))\n",
        "\n",
        "total_t0 = time.time()\n",
        "\n",
        "training_stats = []\n",
        "\n",
        "model = model.to(device)\n",
        "\n",
        "for epoch_i in range(0, epochs):\n",
        "\n",
        "    print(f'Beginning epoch {epoch_i + 1} of {epochs}')\n",
        "\n",
        "    t0 = time.time()\n",
        "\n",
        "    total_train_loss = 0\n",
        "\n",
        "    model.train()\n",
        "    \n",
        "    for step, batch in enumerate(train_dataloader):\n",
        "\n",
        "        b_input_ids = batch[0].to(device)\n",
        "        b_labels = batch[0].to(device)\n",
        "        b_masks = batch[1].to(device)\n",
        "\n",
        "        model.zero_grad()        \n",
        "\n",
        "        outputs = model(  b_input_ids,\n",
        "                          labels=b_labels, \n",
        "                          attention_mask = b_masks,\n",
        "                          token_type_ids=None\n",
        "                        )\n",
        "\n",
        "        loss = outputs[0]  \n",
        "\n",
        "        batch_loss = loss.item()\n",
        "        total_train_loss += batch_loss\n",
        "        \n",
        "        # Get sample every 100 batches.\n",
        "        if step % sample_every == 0 and not step == 0:\n",
        "\n",
        "            elapsed = format_time(time.time() - t0)\n",
        "            print(f'Batch {step} of {len(train_dataloader)}. Loss:{batch_loss}. Time:{elapsed}')\n",
        "\n",
        "            model.eval()\n",
        "\n",
        "            sample_outputs = model.generate(\n",
        "                                    bos_token_id=random.randint(1,30000),\n",
        "                                    do_sample=True,   \n",
        "                                    top_k=50, \n",
        "                                    max_length = 200,\n",
        "                                    top_p=0.95, \n",
        "                                    num_return_sequences=1\n",
        "                                )\n",
        "            for i, sample_output in enumerate(sample_outputs):\n",
        "                  print(f'Example output: {tokenizer.decode(sample_output, skip_special_tokens=True)}')\n",
        "            \n",
        "            model.train()\n",
        "            \n",
        "        loss.backward()\n",
        "\n",
        "        optimizer.step()\n",
        "\n",
        "        scheduler.step()\n",
        "        \n",
        "    # Calculate the average loss over all of the batches.\n",
        "    avg_train_loss = total_train_loss / len(train_dataloader)       \n",
        "    \n",
        "    # Measure how long this epoch took.\n",
        "    training_time = format_time(time.time() - t0)\n",
        "\n",
        "    print(f'Average Training Loss: {avg_train_loss}. Epoch time: {training_time}')\n",
        "\n",
        "    t0 = time.time()\n",
        "\n",
        "    model.eval()\n",
        "\n",
        "    total_eval_loss = 0\n",
        "    nb_eval_steps = 0\n",
        "    \n",
        "    # Evaluate data for one epoch\n",
        "    for batch in validation_dataloader:\n",
        "        \n",
        "        b_input_ids = batch[0].to(device)\n",
        "        b_labels = batch[0].to(device)\n",
        "        b_masks = batch[1].to(device)\n",
        "        \n",
        "        with torch.no_grad():        \n",
        "\n",
        "            outputs  = model(b_input_ids,  \n",
        "                             attention_mask = b_masks,\n",
        "                             labels=b_labels)\n",
        "          \n",
        "            loss = outputs[0]  \n",
        "            \n",
        "        batch_loss = loss.item()\n",
        "        total_eval_loss += batch_loss\n",
        "    \n",
        "    avg_val_loss = total_eval_loss / len(validation_dataloader)\n",
        "    \n",
        "    validation_time = format_time(time.time() - t0)    \n",
        "\n",
        "    print(f'Validation loss: {avg_val_loss}. Validation Time: {validation_time}')\n",
        "\n",
        "    # Record all statistics from this epoch.\n",
        "    training_stats.append(\n",
        "        {\n",
        "            'epoch': epoch_i + 1,\n",
        "            'Training Loss': avg_train_loss,\n",
        "            'Valid. Loss': avg_val_loss,\n",
        "            'Training Time': training_time,\n",
        "            'Validation Time': validation_time\n",
        "        }\n",
        "    )\n",
        "\n",
        "print(f'Total training took {format_time(time.time()-total_t0)}')"
      ],
      "metadata": {
        "id": "5Zz2fS-pYKEg",
        "colab": {
          "base_uri": "https://localhost:8080/"
        },
        "outputId": "b4835e42-8eb9-4eec-de76-2a7bd54c2577"
      },
      "id": "5Zz2fS-pYKEg",
      "execution_count": 29,
      "outputs": [
        {
          "output_type": "stream",
          "name": "stdout",
          "text": [
            "Beginning epoch 1 of 4\n",
            "Average Training Loss: 2.461044847406447. Epoch time: 0:00:30\n",
            "Validation loss: 0.867150854691863. Validation Time: 0:00:02\n",
            "Beginning epoch 2 of 4\n",
            "Average Training Loss: 0.5580738987773657. Epoch time: 0:00:28\n",
            "Validation loss: 0.8215583808720112. Validation Time: 0:00:02\n",
            "Beginning epoch 3 of 4\n",
            "Average Training Loss: 0.9664205865934491. Epoch time: 0:00:29\n",
            "Validation loss: 0.9498650569468736. Validation Time: 0:00:02\n",
            "Beginning epoch 4 of 4\n",
            "Average Training Loss: 0.508520532771945. Epoch time: 0:00:30\n",
            "Validation loss: 0.8976138770580292. Validation Time: 0:00:02\n",
            "Total training took 0:02:06\n"
          ]
        }
      ]
    },
    {
      "cell_type": "code",
      "source": [
        "import seaborn as sns\n",
        "import matplotlib.pyplot as plt\n",
        "\n",
        "pd.set_option('precision', 2)\n",
        "df_stats = pd.DataFrame(data=training_stats)\n",
        "df_stats = df_stats.set_index('epoch')\n",
        "\n",
        "# Use plot styling from seaborn.\n",
        "sns.set(style='darkgrid')\n",
        "\n",
        "# Increase the plot size and font size.\n",
        "sns.set(font_scale=1.5)\n",
        "plt.rcParams[\"figure.figsize\"] = (12,6)\n",
        "\n",
        "# Plot the learning curve.\n",
        "plt.plot(df_stats['Training Loss'], 'b-o', label=\"Training\")\n",
        "plt.plot(df_stats['Valid. Loss'], 'g-o', label=\"Validation\")\n",
        "\n",
        "# Label the plot.\n",
        "plt.title(\"Training & Validation Loss\")\n",
        "plt.xlabel(\"Epoch\")\n",
        "plt.ylabel(\"Loss\")\n",
        "plt.legend()\n",
        "plt.xticks([1, 2, 3, 4])\n",
        "\n",
        "plt.show()"
      ],
      "metadata": {
        "id": "VmU-QAMQYKMs"
      },
      "id": "VmU-QAMQYKMs",
      "execution_count": null,
      "outputs": []
    },
    {
      "cell_type": "code",
      "source": [
        "import os\n",
        "\n",
        "output_dir = './'\n",
        "\n",
        "# Save a trained model, configuration and tokenizer using `save_pretrained()`.\n",
        "# They can then be reloaded using `from_pretrained()`\n",
        "model_to_save = model.module if hasattr(model, 'module') else model\n",
        "model_to_save.save_pretrained(output_dir)\n",
        "tokenizer.save_pretrained(output_dir)\n",
        "\n",
        "# Good practice: save your training arguments together with the trained model\n",
        "# torch.save(args, os.path.join(output_dir, 'training_args.bin'))"
      ],
      "metadata": {
        "id": "X053XJWgXcK4",
        "colab": {
          "base_uri": "https://localhost:8080/"
        },
        "outputId": "e7a9de03-b380-4f6c-ff74-da635084525d"
      },
      "id": "X053XJWgXcK4",
      "execution_count": 31,
      "outputs": [
        {
          "output_type": "execute_result",
          "data": {
            "text/plain": [
              "('./tokenizer_config.json',\n",
              " './special_tokens_map.json',\n",
              " './vocab.json',\n",
              " './merges.txt',\n",
              " './added_tokens.json')"
            ]
          },
          "metadata": {},
          "execution_count": 31
        }
      ]
    },
    {
      "cell_type": "code",
      "source": [
        "model.eval()\n",
        "\n",
        "prompt = \"<|startoftext|>\"\n",
        "\n",
        "generated = torch.tensor(tokenizer.encode(prompt)).unsqueeze(0)\n",
        "generated = generated.to(device)\n",
        "\n",
        "sample_outputs = model.generate(\n",
        "                                generated, \n",
        "                                do_sample=True,   \n",
        "                                top_k=50, \n",
        "                                max_length = 300,\n",
        "                                top_p=0.95, \n",
        "                                num_return_sequences=3\n",
        "                                )\n",
        "\n",
        "for i, sample_output in enumerate(sample_outputs):\n",
        "    print(\"{}: {}\\n\\n\".format(i, tokenizer.decode(sample_output, skip_special_tokens=True)))"
      ],
      "metadata": {
        "colab": {
          "base_uri": "https://localhost:8080/"
        },
        "id": "xAs0Vzxe_bAK",
        "outputId": "038b8657-fd8b-4625-c03a-2d898ea3efdb"
      },
      "id": "xAs0Vzxe_bAK",
      "execution_count": 32,
      "outputs": [
        {
          "output_type": "stream",
          "name": "stderr",
          "text": [
            "The attention mask and the pad token id were not set. As a consequence, you may observe unexpected behavior. Please pass your input's `attention_mask` to obtain reliable results.\n",
            "Setting `pad_token_id` to `eos_token_id`:50256 for open-end generation.\n"
          ]
        },
        {
          "output_type": "stream",
          "name": "stdout",
          "text": [
            "0: TheThe D Peter Collins features a flat-screen TV, coffee pot and refrigerator on site and a desk decorated with picturesque paintings and paintings. A 24-hour front desk with picturesque furnishings and a bathroom at DeKalb Plantation have also conveniences including a large mirror. A TV is also located in the guest room. The bar is 4.2 miles from DeKalb Plantation. ((* Sorry, this information is not available in the selected language and is shown in EN).\n",
            "\n",
            "\n",
            "1: F's This new is the indoor outdoor pool, a 15 minute drive from Central Park Southwestern University. It is 4.2 mi from downtown Los Angeles International Airport and the University of California Polytechnic Museum. A variety of restaurants and a 24-hour front desk make it well-equipped for travelers at San Francisco International Airport. Complimentary wireless access to the guestroom can be found at the Guest House. This is an 8-minute drive from the downtown park. ((* Sorry, this information is not available in the selected language and is shown in EN).\n",
            "\n",
            "\n",
            "2: The_MOD_3_Camo. Make yourself at home in the warm, peaceful, and sunny surroundings of Mentejo Park.\n",
            "\n",
            "\n"
          ]
        }
      ]
    },
    {
      "cell_type": "code",
      "source": [],
      "metadata": {
        "id": "YRIw4Pgj_bJr"
      },
      "id": "YRIw4Pgj_bJr",
      "execution_count": null,
      "outputs": []
    },
    {
      "cell_type": "code",
      "source": [],
      "metadata": {
        "id": "QfVe11M9_bM_"
      },
      "id": "QfVe11M9_bM_",
      "execution_count": null,
      "outputs": []
    },
    {
      "cell_type": "code",
      "source": [],
      "metadata": {
        "id": "Pp2XE7dM_bQN"
      },
      "id": "Pp2XE7dM_bQN",
      "execution_count": null,
      "outputs": []
    },
    {
      "cell_type": "markdown",
      "source": [
        "# 4. Hotel Description with RNN\n",
        "https://www.kaggle.com/code/ab971631/beginners-guide-to-text-generation-pytorch"
      ],
      "metadata": {
        "id": "hwA1X7KxN49r"
      },
      "id": "hwA1X7KxN49r"
    },
    {
      "cell_type": "code",
      "source": [
        "!pip install torch\n",
        "!pip install unidecode"
      ],
      "metadata": {
        "id": "kC04iqbLOlv5",
        "colab": {
          "base_uri": "https://localhost:8080/"
        },
        "outputId": "236cbbc6-b54f-4895-dc9c-efb1a421ea7f"
      },
      "id": "kC04iqbLOlv5",
      "execution_count": null,
      "outputs": [
        {
          "output_type": "stream",
          "name": "stdout",
          "text": [
            "Looking in indexes: https://pypi.org/simple, https://us-python.pkg.dev/colab-wheels/public/simple/\n",
            "Requirement already satisfied: torch in /usr/local/lib/python3.10/dist-packages (2.0.1+cu118)\n",
            "Requirement already satisfied: filelock in /usr/local/lib/python3.10/dist-packages (from torch) (3.12.0)\n",
            "Requirement already satisfied: typing-extensions in /usr/local/lib/python3.10/dist-packages (from torch) (4.5.0)\n",
            "Requirement already satisfied: sympy in /usr/local/lib/python3.10/dist-packages (from torch) (1.11.1)\n",
            "Requirement already satisfied: networkx in /usr/local/lib/python3.10/dist-packages (from torch) (3.1)\n",
            "Requirement already satisfied: jinja2 in /usr/local/lib/python3.10/dist-packages (from torch) (3.1.2)\n",
            "Requirement already satisfied: triton==2.0.0 in /usr/local/lib/python3.10/dist-packages (from torch) (2.0.0)\n",
            "Requirement already satisfied: cmake in /usr/local/lib/python3.10/dist-packages (from triton==2.0.0->torch) (3.25.2)\n",
            "Requirement already satisfied: lit in /usr/local/lib/python3.10/dist-packages (from triton==2.0.0->torch) (16.0.5)\n",
            "Requirement already satisfied: MarkupSafe>=2.0 in /usr/local/lib/python3.10/dist-packages (from jinja2->torch) (2.1.2)\n",
            "Requirement already satisfied: mpmath>=0.19 in /usr/local/lib/python3.10/dist-packages (from sympy->torch) (1.3.0)\n",
            "Looking in indexes: https://pypi.org/simple, https://us-python.pkg.dev/colab-wheels/public/simple/\n",
            "Collecting unidecode\n",
            "  Downloading Unidecode-1.3.6-py3-none-any.whl (235 kB)\n",
            "\u001b[2K     \u001b[90m━━━━━━━━━━━━━━━━━━━━━━━━━━━━━━━━━━━━━━\u001b[0m \u001b[32m235.9/235.9 kB\u001b[0m \u001b[31m10.4 MB/s\u001b[0m eta \u001b[36m0:00:00\u001b[0m\n",
            "\u001b[?25hInstalling collected packages: unidecode\n",
            "Successfully installed unidecode-1.3.6\n"
          ]
        }
      ]
    },
    {
      "cell_type": "code",
      "execution_count": null,
      "id": "0ac3eec6-b50a-4983-983d-42e3498e8300",
      "metadata": {
        "id": "0ac3eec6-b50a-4983-983d-42e3498e8300"
      },
      "outputs": [],
      "source": [
        "import nltk\n",
        "nltk.download('wordnet')\n",
        "nltk.download('stopwords')\n",
        "import string\n",
        "import unidecode\n",
        "import random\n",
        "import torch"
      ]
    },
    {
      "cell_type": "code",
      "source": [
        "# Check if GPU is available\n",
        "train_on_gpu = torch.cuda.is_available()\n",
        "if(train_on_gpu):\n",
        "    print('Training on GPU!')\n",
        "else: \n",
        "    print('No GPU available, training on CPU; consider making n_epochs very small.')"
      ],
      "metadata": {
        "colab": {
          "base_uri": "https://localhost:8080/"
        },
        "id": "m-22H2BpUlh3",
        "outputId": "bbca57ae-b9a9-403c-b257-21fd3f491554"
      },
      "id": "m-22H2BpUlh3",
      "execution_count": null,
      "outputs": [
        {
          "output_type": "stream",
          "name": "stdout",
          "text": [
            "Training on GPU!\n"
          ]
        }
      ]
    },
    {
      "cell_type": "code",
      "execution_count": null,
      "id": "21fd1cc8-f1ff-4032-854e-fb52e1735afd",
      "metadata": {
        "tags": [],
        "id": "21fd1cc8-f1ff-4032-854e-fb52e1735afd"
      },
      "outputs": [],
      "source": [
        "df_rnn= data[data['idioma']=='en']\n",
        "df_rnn = df_rnn[0:500]"
      ]
    },
    {
      "cell_type": "code",
      "execution_count": null,
      "id": "606cc012-b10b-47b8-bcad-a8240b2e2281",
      "metadata": {
        "id": "606cc012-b10b-47b8-bcad-a8240b2e2281",
        "outputId": "bffc26c5-57f2-45d8-843c-689e8bc15a56",
        "colab": {
          "base_uri": "https://localhost:8080/"
        }
      },
      "outputs": [
        {
          "output_type": "execute_result",
          "data": {
            "text/plain": [
              "70953"
            ]
          },
          "metadata": {},
          "execution_count": 15
        }
      ],
      "source": [
        "text = list(df_rnn['description'])\n",
        "def joinStrings(text):\n",
        "    return ' '.join(string for string in text)\n",
        "text = joinStrings(text)\n",
        "# text = [item for sublist in author[:5].values for item in sublist]\n",
        "len(text.split())"
      ]
    },
    {
      "cell_type": "markdown",
      "source": [
        "Realiza uma limpeza nos dados do conjunto de dados, removendo stopwords (palavras comuns que não contribuem para o significado do texto), pontuações e lematizando as palavras (reduzindo-as à sua forma básica)."
      ],
      "metadata": {
        "id": "NOmk3cbaLtr4"
      },
      "id": "NOmk3cbaLtr4"
    },
    {
      "cell_type": "code",
      "execution_count": null,
      "id": "0642a0e7-5cb2-46b7-823f-35b362df8801",
      "metadata": {
        "id": "0642a0e7-5cb2-46b7-823f-35b362df8801"
      },
      "outputs": [],
      "source": [
        "stop = set(nltk.corpus.stopwords.words('english'))\n",
        "exclude = set(string.punctuation) \n",
        "lemma = nltk.stem.wordnet.WordNetLemmatizer()\n",
        "def clean(doc):\n",
        "        stop_free = \" \".join([i for i in doc.split() if i not in stop])\n",
        "        punc_free = \"\".join(ch for ch in stop_free if ch not in exclude)\n",
        "        normalized = \" \".join(lemma.lemmatize(word) for word in punc_free.split())\n",
        "        return normalized\n",
        "test_sentence = clean(text).lower().split()"
      ]
    },
    {
      "cell_type": "code",
      "execution_count": null,
      "id": "44021049-04a0-438e-973b-e70713c49246",
      "metadata": {
        "id": "44021049-04a0-438e-973b-e70713c49246",
        "outputId": "93089c56-216b-4e8f-cbfc-6e2d9f3dbcfe",
        "colab": {
          "base_uri": "https://localhost:8080/"
        }
      },
      "outputs": [
        {
          "output_type": "stream",
          "name": "stdout",
          "text": [
            "[(['located', 'nices'], 'city', 'center'), (['nices', 'city'], 'center', 'best'), (['city', 'center'], 'best', 'western'), (['center', 'best'], 'western', 'hotel')]\n"
          ]
        }
      ],
      "source": [
        "trigrams = [([test_sentence[i], test_sentence[i + 1]], test_sentence[i + 2],test_sentence[i + 3])\n",
        "            for i in range(len(test_sentence) - 3)]\n",
        "chunk_len=len(trigrams)\n",
        "print(trigrams[:4])"
      ]
    },
    {
      "cell_type": "code",
      "execution_count": null,
      "id": "73316a2b-f529-4c07-acf0-6dac9463ddb4",
      "metadata": {
        "id": "73316a2b-f529-4c07-acf0-6dac9463ddb4"
      },
      "outputs": [],
      "source": [
        "vocab = set(test_sentence)\n",
        "voc_len=len(vocab)\n",
        "word_to_ix = {word: i for i, word in enumerate(vocab)}"
      ]
    },
    {
      "cell_type": "code",
      "execution_count": null,
      "id": "f352aa1a-4ce5-4233-a3aa-6247693b97e6",
      "metadata": {
        "id": "f352aa1a-4ce5-4233-a3aa-6247693b97e6"
      },
      "outputs": [],
      "source": [
        "inp=[]\n",
        "tar=[]\n",
        "for context, target in trigrams:\n",
        "        context_idxs = torch.tensor([word_to_ix[w] for w in context], dtype=torch.long)\n",
        "        inp.append(context_idxs)\n",
        "        targ = torch.tensor([word_to_ix[target]], dtype=torch.long)\n",
        "        tar.append(targ)"
      ]
    },
    {
      "cell_type": "code",
      "execution_count": null,
      "id": "edef9fa1-dd1a-41bc-af03-9f63d36b4723",
      "metadata": {
        "id": "edef9fa1-dd1a-41bc-af03-9f63d36b4723"
      },
      "outputs": [],
      "source": [
        "import torch\n",
        "import torch.nn as nn\n",
        "from torch.autograd import Variable\n",
        "\n",
        "class RNN(nn.Module):\n",
        "    def __init__(self, input_size, hidden_size, output_size, n_layers=1):\n",
        "        super(RNN, self).__init__()\n",
        "        self.input_size = input_size\n",
        "        self.hidden_size = hidden_size\n",
        "        self.output_size = output_size\n",
        "        self.n_layers = n_layers\n",
        "        \n",
        "        self.encoder = nn.Embedding(input_size, hidden_size)\n",
        "        self.gru = nn.GRU(hidden_size*2, hidden_size, n_layers,batch_first=True,\n",
        "                          bidirectional=False)\n",
        "        self.decoder = nn.Linear(hidden_size, output_size)\n",
        "    \n",
        "    def forward(self, input, hidden):\n",
        "        input = self.encoder(input.view(1, -1))\n",
        "        output, hidden = self.gru(input.view(1, 1, -1), hidden)\n",
        "        output = self.decoder(output.view(1, -1))\n",
        "        return output, hidden\n",
        "\n",
        "    def init_hidden(self):\n",
        "        return Variable(torch.zeros(self.n_layers, 1, self.hidden_size))"
      ]
    },
    {
      "cell_type": "code",
      "execution_count": null,
      "id": "91817841-b66c-4ab5-ade4-d31f4b0892ac",
      "metadata": {
        "id": "91817841-b66c-4ab5-ade4-d31f4b0892ac"
      },
      "outputs": [],
      "source": [
        "def train(inp, target):\n",
        "    hidden = decoder.init_hidden().cuda()\n",
        "    decoder.zero_grad()\n",
        "    loss = 0\n",
        "    \n",
        "    for c in range(chunk_len):\n",
        "        output, hidden = decoder(inp[c].cuda(), hidden)\n",
        "        loss += criterion(output, target[c].cuda())\n",
        "\n",
        "    loss.backward()\n",
        "    decoder_optimizer.step()\n",
        "\n",
        "    return loss.data.item() / chunk_len\n",
        "\n"
      ]
    },
    {
      "cell_type": "code",
      "execution_count": null,
      "id": "3b34a769-65cf-401c-9a97-ceb7953363ba",
      "metadata": {
        "id": "3b34a769-65cf-401c-9a97-ceb7953363ba"
      },
      "outputs": [],
      "source": [
        "import time, math\n",
        "\n",
        "def time_since(since):\n",
        "    s = time.time() - since\n",
        "    m = math.floor(s / 60)\n",
        "    s -= m * 60\n",
        "    return '%dm %ds' % (m, s)"
      ]
    },
    {
      "cell_type": "code",
      "execution_count": null,
      "id": "6d7b5009-2176-4128-9ac0-3f82d90e19f4",
      "metadata": {
        "id": "6d7b5009-2176-4128-9ac0-3f82d90e19f4",
        "colab": {
          "base_uri": "https://localhost:8080/"
        },
        "outputId": "efde91fc-533a-49f5-a3cb-8731a7a99d85"
      },
      "outputs": [
        {
          "output_type": "stream",
          "name": "stdout",
          "text": [
            "/bin/bash: conda: command not found\n"
          ]
        }
      ],
      "source": [
        "!conda install pytorch torchvision cudatoolkit=10.1 -c pytorch\n",
        "\n"
      ]
    },
    {
      "cell_type": "code",
      "execution_count": null,
      "id": "aba9c984-0a36-4527-b831-e6f1fa472f71",
      "metadata": {
        "id": "aba9c984-0a36-4527-b831-e6f1fa472f71",
        "outputId": "780be361-d105-434c-97ed-c59a88b813c1",
        "colab": {
          "base_uri": "https://localhost:8080/"
        }
      },
      "outputs": [
        {
          "output_type": "execute_result",
          "data": {
            "text/plain": [
              "True"
            ]
          },
          "metadata": {},
          "execution_count": 24
        }
      ],
      "source": [
        "torch.cuda.is_available()"
      ]
    },
    {
      "cell_type": "code",
      "execution_count": null,
      "id": "4f413ab3-72cc-4a86-ab75-33ae34f4cd94",
      "metadata": {
        "id": "4f413ab3-72cc-4a86-ab75-33ae34f4cd94",
        "outputId": "27fa6e2c-637e-4bbd-dd6f-3a0b32fe4b1e",
        "colab": {
          "base_uri": "https://localhost:8080/"
        }
      },
      "outputs": [
        {
          "output_type": "stream",
          "name": "stdout",
          "text": [
            "[8m 21s (10 5%) 5.4133]\n",
            "[15m 50s (20 10%) 3.5520]\n",
            "[23m 18s (30 15%) 2.3710]\n",
            "[30m 46s (40 20%) 1.6722]\n",
            "[38m 11s (50 25%) 1.2293]\n",
            "[45m 38s (60 30%) 0.9286]\n",
            "[53m 4s (70 35%) 0.7146]\n",
            "[60m 34s (80 40%) 0.5580]\n",
            "[68m 10s (90 45%) 0.4444]\n",
            "[75m 44s (100 50%) 0.3549]\n"
          ]
        }
      ],
      "source": [
        "n_epochs = 100\n",
        "print_every = 10\n",
        "plot_every = 10\n",
        "hidden_size = 100\n",
        "n_layers = 1\n",
        "lr = 0.015\n",
        "\n",
        "decoder = RNN(voc_len, hidden_size, voc_len, n_layers)\n",
        "decoder_optimizer = torch.optim.Adam(decoder.parameters(), lr=lr)\n",
        "criterion = nn.CrossEntropyLoss()\n",
        "\n",
        "start = time.time()\n",
        "all_losses = []\n",
        "loss_avg = 0\n",
        "if(train_on_gpu):\n",
        "    decoder.cuda()\n",
        "for epoch in range(1, n_epochs + 1):\n",
        "    loss = train(inp,tar)       \n",
        "    loss_avg += loss\n",
        "\n",
        "    if epoch % print_every == 0:\n",
        "        print('[%s (%d %d%%) %.4f]' % (time_since(start), epoch, epoch / n_epochs * 50, loss))\n",
        "#         print(evaluate('ge', 200), '\\n')\n",
        "\n",
        "    if epoch % plot_every == 0:\n",
        "        all_losses.append(loss_avg / plot_every)\n",
        "        loss_avg = 0\n"
      ]
    },
    {
      "cell_type": "code",
      "execution_count": null,
      "id": "f8573fb0-58f1-47a8-8731-4d6775fc48bd",
      "metadata": {
        "id": "f8573fb0-58f1-47a8-8731-4d6775fc48bd"
      },
      "outputs": [],
      "source": []
    },
    {
      "cell_type": "code",
      "execution_count": null,
      "id": "33d12855-195d-4d89-a99f-23374f510a01",
      "metadata": {
        "id": "33d12855-195d-4d89-a99f-23374f510a01",
        "colab": {
          "base_uri": "https://localhost:8080/",
          "height": 451
        },
        "outputId": "4c9a90d2-0851-4083-af47-3e55d283398c"
      },
      "outputs": [
        {
          "output_type": "execute_result",
          "data": {
            "text/plain": [
              "[<matplotlib.lines.Line2D at 0x7ff7fc04ba00>]"
            ]
          },
          "metadata": {},
          "execution_count": 27
        },
        {
          "output_type": "display_data",
          "data": {
            "text/plain": [
              "<Figure size 640x480 with 1 Axes>"
            ],
            "image/png": "[encoded data removed]"
          },
          "metadata": {}
        }
      ],
      "source": [
        "import matplotlib.pyplot as plt\n",
        "import matplotlib.ticker as ticker\n",
        "%matplotlib inline\n",
        "\n",
        "plt.figure()\n",
        "plt.plot(all_losses)"
      ]
    },
    {
      "cell_type": "code",
      "execution_count": null,
      "id": "13f9de03-9fb3-472c-bcfb-3b32d409135f",
      "metadata": {
        "id": "13f9de03-9fb3-472c-bcfb-3b32d409135f"
      },
      "outputs": [],
      "source": [
        "def evaluate(prime_str='this process', predict_len=100, temperature=0.8):\n",
        "    hidden = decoder.init_hidden().cuda()\n",
        "\n",
        "    for p in range(predict_len):\n",
        "        \n",
        "        prime_input = torch.tensor([word_to_ix[w] for w in prime_str.split()], dtype=torch.long).cuda()\n",
        "        inp = prime_input[-2:] #last two words as input\n",
        "        output, hidden = decoder(inp, hidden)\n",
        "        \n",
        "        # Sample from the network as a multinomial distribution\n",
        "        output_dist = output.data.view(-1).div(temperature).exp()\n",
        "        top_i = torch.multinomial(output_dist, 1)[0]\n",
        "        \n",
        "        # Add predicted word to string and use as next input\n",
        "        predicted_word = list(word_to_ix.keys())[list(word_to_ix.values()).index(top_i)]\n",
        "        prime_str += \" \" + predicted_word\n",
        "#         inp = torch.tensor(word_to_ix[predicted_word], dtype=torch.long)\n",
        "\n",
        "    return prime_str"
      ]
    },
    {
      "cell_type": "code",
      "execution_count": null,
      "id": "86e78d2e-97aa-42b3-aa1d-c406fac60d75",
      "metadata": {
        "id": "86e78d2e-97aa-42b3-aa1d-c406fac60d75",
        "colab": {
          "base_uri": "https://localhost:8080/"
        },
        "outputId": "55e5dd7c-2cbc-45ce-a505-2b64032be839"
      },
      "outputs": [
        {
          "output_type": "stream",
          "name": "stdout",
          "text": [
            "nices city center embassy quarter harbor valley additional amenity hotel sorry information available selected language shown en property location located alf ringhotel bömers mosellandhotel rural location within vicinity prinzenkopf lookout calmont klettersteig this hotel within vicinity vulkaneifel thermal spa mont royalrooms stay one\n"
          ]
        }
      ],
      "source": [
        "print(evaluate('nices city center', 40, temperature=1))\n"
      ]
    },
    {
      "cell_type": "code",
      "execution_count": null,
      "id": "dc751885-f221-4d22-b001-75ab52f10bb2",
      "metadata": {
        "id": "dc751885-f221-4d22-b001-75ab52f10bb2",
        "colab": {
          "base_uri": "https://localhost:8080/"
        },
        "outputId": "84d25077-5883-4d14-e7f5-3cfd3fd61c37"
      },
      "outputs": [
        {
          "output_type": "stream",
          "name": "stdout",
          "text": [
            "additional amenity convenience like wireless internet access additional feature hotel include union station pepsi center united castle mall 4 snack college daily hot breakfast served every day main fresh regional produce enjoy cocktail cigar lounge lunch onsite restaurant free local call free\n"
          ]
        }
      ],
      "source": [
        "print(evaluate('additional amenity', 40, temperature=1))\n"
      ]
    },
    {
      "cell_type": "code",
      "execution_count": null,
      "id": "80751631-968e-4f5c-a23f-68bafbec6922",
      "metadata": {
        "id": "80751631-968e-4f5c-a23f-68bafbec6922"
      },
      "outputs": [],
      "source": [
        "\n"
      ]
    },
    {
      "cell_type": "code",
      "execution_count": null,
      "id": "61f4e770-a9bd-4ee5-b150-a22ca1f1d4d9",
      "metadata": {
        "id": "61f4e770-a9bd-4ee5-b150-a22ca1f1d4d9"
      },
      "outputs": [],
      "source": []
    },
    {
      "cell_type": "code",
      "execution_count": null,
      "id": "d364a03d-e667-43c8-b6e0-7fc6dffbc9dc",
      "metadata": {
        "id": "d364a03d-e667-43c8-b6e0-7fc6dffbc9dc"
      },
      "outputs": [],
      "source": []
    },
    {
      "cell_type": "code",
      "execution_count": null,
      "id": "de92fd6e-e701-4c94-92c7-4929a171a12d",
      "metadata": {
        "id": "de92fd6e-e701-4c94-92c7-4929a171a12d"
      },
      "outputs": [],
      "source": []
    }
  ],
  "metadata": {
    "kernelspec": {
      "display_name": "Python 3",
      "name": "python3"
    },
    "language_info": {
      "codemirror_mode": {
        "name": "ipython",
        "version": 3
      },
      "file_extension": ".py",
      "mimetype": "text/x-python",
      "name": "python",
      "nbconvert_exporter": "python",
      "pygments_lexer": "ipython3",
      "version": "3.9.12"
    },
    "colab": {
      "provenance": [],
      "collapsed_sections": [
        "2a4a9fa5-0056-4dfc-9b8a-ce756e330596",
        "c81cea31-ea00-4822-b67c-666bcd6dfb24"
      ],
      "gpuType": "T4"
    },
    "accelerator": "GPU"
  },
  "nbformat": 4,
  "nbformat_minor": 5
}