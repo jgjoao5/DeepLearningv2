{
  "cells": [
    {
      "cell_type": "markdown",
      "metadata": {
        "id": "view-in-github",
        "colab_type": "text"
      },
      "source": [
        "<a href=\"https://colab.research.google.com/github/jgjoao5/DeepLearningv2/blob/master/Hotel_Description_Vf2.ipynb\" target=\"_parent\"><img src=\"https://colab.research.google.com/assets/colab-badge.svg\" alt=\"Open In Colab\"/></a>"
      ]
    },
    {
      "cell_type": "code",
      "execution_count": null,
      "id": "096e7a81-1d29-45bf-949f-8c6b3a580b61",
      "metadata": {
        "collapsed": true,
        "jupyter": {
          "outputs_hidden": true
        },
        "tags": [],
        "id": "096e7a81-1d29-45bf-949f-8c6b3a580b61"
      },
      "outputs": [],
      "source": [
        "from tensorflow.keras.preprocessing.sequence import pad_sequences\n",
        "from keras.layers import Embedding, LSTM, Dense, Dropout\n",
        "from keras.preprocessing.text import Tokenizer\n",
        "from keras.callbacks import EarlyStopping\n",
        "from keras.models import Sequential\n",
        "\n",
        "import keras.utils as ku \n",
        "import pandas as pd\n",
        "import numpy as np\n",
        "import string, os \n",
        "import warnings\n",
        "!pip install langdetect\n",
        "import langdetect\n",
        "#!pip install transformers\n",
        "#!pip install pytorch\n",
        "warnings.filterwarnings(\"ignore\")\n",
        "warnings.simplefilter(action='ignore', category=FutureWarning)\n",
        "#import tensorflow as tf\n",
        "#from transformers import TFGPT2LMHeadModel, GPT2Tokenizer\n",
        "!pip install tabulate\n",
        "from tabulate import tabulate\n",
        "!pip install wordcloud\n",
        "from google.colab import drive\n",
        "drive.mount('/content/gdrive')"
      ]
    },
    {
      "cell_type": "markdown",
      "id": "2a4a9fa5-0056-4dfc-9b8a-ce756e330596",
      "metadata": {
        "tags": [],
        "id": "2a4a9fa5-0056-4dfc-9b8a-ce756e330596"
      },
      "source": [
        "# Aplicando o modelo proposto no Artigo"
      ]
    },
    {
      "cell_type": "markdown",
      "id": "f52c5a0a-de25-41e0-b7b4-32cb24176155",
      "metadata": {
        "id": "f52c5a0a-de25-41e0-b7b4-32cb24176155"
      },
      "source": [
        "Artigo de Referência:\n",
        "\n",
        "https://towardsdatascience.com/automatically-generate-hotel-descriptions-with-lstm-afa37002d4fc\n",
        "\n",
        "https://github.com/susanli2016/NLP-with-Python/blob/master/Hotel%20Description%20Generation%20LSTM.ipynb\n"
      ]
    },
    {
      "cell_type": "code",
      "execution_count": 6,
      "id": "5fed5624-270c-4488-bdea-2b1fd31067a5",
      "metadata": {
        "id": "5fed5624-270c-4488-bdea-2b1fd31067a5"
      },
      "outputs": [],
      "source": [
        "#Carreando a base\n",
        "hotel_df= pd.read_json('/content/gdrive/My Drive/Colab Notebooks/inventory_hotel_BR_pt.json')\n"
      ]
    },
    {
      "cell_type": "code",
      "execution_count": 7,
      "id": "d59839ee-8b5c-45ad-bd89-7f4f9cc0b140",
      "metadata": {
        "colab": {
          "base_uri": "https://localhost:8080/",
          "height": 423
        },
        "id": "d59839ee-8b5c-45ad-bd89-7f4f9cc0b140",
        "outputId": "91864e4e-d071-4f14-b355-a1cf0f144e4d"
      },
      "outputs": [
        {
          "output_type": "execute_result",
          "data": {
            "text/plain": [
              "                                          name  \\\n",
              "0             Best Western Hôtel New York Nice   \n",
              "1                        Comfort Inn Hyde Park   \n",
              "2      Best Western Plus Dayton Hotel & Suites   \n",
              "3    The Elizabeth Hotel, Autograph Collection   \n",
              "4                   Grand Mercure Vila Olímpia   \n",
              "..                                         ...   \n",
              "495                                      Kelta   \n",
              "496                        WorldMark Running Y   \n",
              "497                                Hotel Kirst   \n",
              "498                                    Motel 6   \n",
              "499                          Hanover 71 Suites   \n",
              "\n",
              "                                           description  \n",
              "0    Located in Nice's city center, Best Western Ho...  \n",
              "1    In London's Bayswater district, the Comfort In...  \n",
              "2    Breakfast is offered daily and rooms feature f...  \n",
              "3    The Elizabeth Hotel, Autograph Collection feat...  \n",
              "4    Localizado no coração de São Paulo, o Grand Me...  \n",
              "..                                                 ...  \n",
              "495  In the Hostería Kelta, located in the Province...  \n",
              "496  Offering an indoor swimming pool, this Klamath...  \n",
              "497  <h3>Localização Do Estabelecimento</h3>\\nCom u...  \n",
              "498  A short drive from beautiful beaches and easil...  \n",
              "499  Attractively located in the center of Edinburg...  \n",
              "\n",
              "[500 rows x 2 columns]"
            ],
            "text/html": [
              "\n",
              "  <div id=\"df-b34a6755-0984-4e1e-a160-54d81ad9d594\">\n",
              "    <div class=\"colab-df-container\">\n",
              "      <div>\n",
              "<style scoped>\n",
              "    .dataframe tbody tr th:only-of-type {\n",
              "        vertical-align: middle;\n",
              "    }\n",
              "\n",
              "    .dataframe tbody tr th {\n",
              "        vertical-align: top;\n",
              "    }\n",
              "\n",
              "    .dataframe thead th {\n",
              "        text-align: right;\n",
              "    }\n",
              "</style>\n",
              "<table border=\"1\" class=\"dataframe\">\n",
              "  <thead>\n",
              "    <tr style=\"text-align: right;\">\n",
              "      <th></th>\n",
              "      <th>name</th>\n",
              "      <th>description</th>\n",
              "    </tr>\n",
              "  </thead>\n",
              "  <tbody>\n",
              "    <tr>\n",
              "      <th>0</th>\n",
              "      <td>Best Western Hôtel New York Nice</td>\n",
              "      <td>Located in Nice's city center, Best Western Ho...</td>\n",
              "    </tr>\n",
              "    <tr>\n",
              "      <th>1</th>\n",
              "      <td>Comfort Inn Hyde Park</td>\n",
              "      <td>In London's Bayswater district, the Comfort In...</td>\n",
              "    </tr>\n",
              "    <tr>\n",
              "      <th>2</th>\n",
              "      <td>Best Western Plus Dayton Hotel &amp; Suites</td>\n",
              "      <td>Breakfast is offered daily and rooms feature f...</td>\n",
              "    </tr>\n",
              "    <tr>\n",
              "      <th>3</th>\n",
              "      <td>The Elizabeth Hotel, Autograph Collection</td>\n",
              "      <td>The Elizabeth Hotel, Autograph Collection feat...</td>\n",
              "    </tr>\n",
              "    <tr>\n",
              "      <th>4</th>\n",
              "      <td>Grand Mercure Vila Olímpia</td>\n",
              "      <td>Localizado no coração de São Paulo, o Grand Me...</td>\n",
              "    </tr>\n",
              "    <tr>\n",
              "      <th>...</th>\n",
              "      <td>...</td>\n",
              "      <td>...</td>\n",
              "    </tr>\n",
              "    <tr>\n",
              "      <th>495</th>\n",
              "      <td>Kelta</td>\n",
              "      <td>In the Hostería Kelta, located in the Province...</td>\n",
              "    </tr>\n",
              "    <tr>\n",
              "      <th>496</th>\n",
              "      <td>WorldMark Running Y</td>\n",
              "      <td>Offering an indoor swimming pool, this Klamath...</td>\n",
              "    </tr>\n",
              "    <tr>\n",
              "      <th>497</th>\n",
              "      <td>Hotel Kirst</td>\n",
              "      <td>&lt;h3&gt;Localização Do Estabelecimento&lt;/h3&gt;\\nCom u...</td>\n",
              "    </tr>\n",
              "    <tr>\n",
              "      <th>498</th>\n",
              "      <td>Motel 6</td>\n",
              "      <td>A short drive from beautiful beaches and easil...</td>\n",
              "    </tr>\n",
              "    <tr>\n",
              "      <th>499</th>\n",
              "      <td>Hanover 71 Suites</td>\n",
              "      <td>Attractively located in the center of Edinburg...</td>\n",
              "    </tr>\n",
              "  </tbody>\n",
              "</table>\n",
              "<p>500 rows × 2 columns</p>\n",
              "</div>\n",
              "      <button class=\"colab-df-convert\" onclick=\"convertToInteractive('df-b34a6755-0984-4e1e-a160-54d81ad9d594')\"\n",
              "              title=\"Convert this dataframe to an interactive table.\"\n",
              "              style=\"display:none;\">\n",
              "        \n",
              "  <svg xmlns=\"http://www.w3.org/2000/svg\" height=\"24px\"viewBox=\"0 0 24 24\"\n",
              "       width=\"24px\">\n",
              "    <path d=\"M0 0h24v24H0V0z\" fill=\"none\"/>\n",
              "    <path d=\"M18.56 5.44l.94 2.06.94-2.06 2.06-.94-2.06-.94-.94-2.06-.94 2.06-2.06.94zm-11 1L8.5 8.5l.94-2.06 2.06-.94-2.06-.94L8.5 2.5l-.94 2.06-2.06.94zm10 10l.94 2.06.94-2.06 2.06-.94-2.06-.94-.94-2.06-.94 2.06-2.06.94z\"/><path d=\"M17.41 7.96l-1.37-1.37c-.4-.4-.92-.59-1.43-.59-.52 0-1.04.2-1.43.59L10.3 9.45l-7.72 7.72c-.78.78-.78 2.05 0 2.83L4 21.41c.39.39.9.59 1.41.59.51 0 1.02-.2 1.41-.59l7.78-7.78 2.81-2.81c.8-.78.8-2.07 0-2.86zM5.41 20L4 18.59l7.72-7.72 1.47 1.35L5.41 20z\"/>\n",
              "  </svg>\n",
              "      </button>\n",
              "      \n",
              "  <style>\n",
              "    .colab-df-container {\n",
              "      display:flex;\n",
              "      flex-wrap:wrap;\n",
              "      gap: 12px;\n",
              "    }\n",
              "\n",
              "    .colab-df-convert {\n",
              "      background-color: #E8F0FE;\n",
              "      border: none;\n",
              "      border-radius: 50%;\n",
              "      cursor: pointer;\n",
              "      display: none;\n",
              "      fill: #1967D2;\n",
              "      height: 32px;\n",
              "      padding: 0 0 0 0;\n",
              "      width: 32px;\n",
              "    }\n",
              "\n",
              "    .colab-df-convert:hover {\n",
              "      background-color: #E2EBFA;\n",
              "      box-shadow: 0px 1px 2px rgba(60, 64, 67, 0.3), 0px 1px 3px 1px rgba(60, 64, 67, 0.15);\n",
              "      fill: #174EA6;\n",
              "    }\n",
              "\n",
              "    [theme=dark] .colab-df-convert {\n",
              "      background-color: #3B4455;\n",
              "      fill: #D2E3FC;\n",
              "    }\n",
              "\n",
              "    [theme=dark] .colab-df-convert:hover {\n",
              "      background-color: #434B5C;\n",
              "      box-shadow: 0px 1px 3px 1px rgba(0, 0, 0, 0.15);\n",
              "      filter: drop-shadow(0px 1px 2px rgba(0, 0, 0, 0.3));\n",
              "      fill: #FFFFFF;\n",
              "    }\n",
              "  </style>\n",
              "\n",
              "      <script>\n",
              "        const buttonEl =\n",
              "          document.querySelector('#df-b34a6755-0984-4e1e-a160-54d81ad9d594 button.colab-df-convert');\n",
              "        buttonEl.style.display =\n",
              "          google.colab.kernel.accessAllowed ? 'block' : 'none';\n",
              "\n",
              "        async function convertToInteractive(key) {\n",
              "          const element = document.querySelector('#df-b34a6755-0984-4e1e-a160-54d81ad9d594');\n",
              "          const dataTable =\n",
              "            await google.colab.kernel.invokeFunction('convertToInteractive',\n",
              "                                                     [key], {});\n",
              "          if (!dataTable) return;\n",
              "\n",
              "          const docLinkHtml = 'Like what you see? Visit the ' +\n",
              "            '<a target=\"_blank\" href=https://colab.research.google.com/notebooks/data_table.ipynb>data table notebook</a>'\n",
              "            + ' to learn more about interactive tables.';\n",
              "          element.innerHTML = '';\n",
              "          dataTable['output_type'] = 'display_data';\n",
              "          await google.colab.output.renderOutput(dataTable, element);\n",
              "          const docLink = document.createElement('div');\n",
              "          docLink.innerHTML = docLinkHtml;\n",
              "          element.appendChild(docLink);\n",
              "        }\n",
              "      </script>\n",
              "    </div>\n",
              "  </div>\n",
              "  "
            ]
          },
          "metadata": {},
          "execution_count": 7
        }
      ],
      "source": [
        "#Manipulando a base para diminuir o numero de linhas e trabalhar apenas com as colunas necessárias \n",
        "hotel_df = hotel_df[['name','description']]\n",
        "hotel_df = hotel_df[0:500]\n",
        "all_descriptions = list(hotel_df['description'].values)\n",
        "\n",
        "hotel_df"
      ]
    },
    {
      "cell_type": "code",
      "execution_count": 8,
      "id": "c8ec6138-8dd3-4d34-8ce1-78393e4a19fa",
      "metadata": {
        "colab": {
          "base_uri": "https://localhost:8080/"
        },
        "id": "c8ec6138-8dd3-4d34-8ce1-78393e4a19fa",
        "outputId": "7c03fabf-a84a-41e0-c29f-51f799574c37"
      },
      "outputs": [
        {
          "output_type": "execute_result",
          "data": {
            "text/plain": [
              "(500, 2)"
            ]
          },
          "metadata": {},
          "execution_count": 8
        }
      ],
      "source": [
        "hotel_df.shape\n"
      ]
    },
    {
      "cell_type": "code",
      "execution_count": 9,
      "id": "fb70c33b-03be-43a6-a6a2-afa833cdf906",
      "metadata": {
        "colab": {
          "base_uri": "https://localhost:8080/"
        },
        "id": "fb70c33b-03be-43a6-a6a2-afa833cdf906",
        "outputId": "91e4c060-5001-4611-8ed5-a2b0194f6557"
      },
      "outputs": [
        {
          "output_type": "execute_result",
          "data": {
            "text/plain": [
              "[\"Located in Nice's city center, Best Western Hotel Lakmi Nice is located on Avenue Jean Medecin, Nice's main shopping street which leads to Place Massena. It is next to Nice Etoile Shopping Center and is just 1969 feet from Nice- Ville Train Station. Each spacious air-conditioned guest room has a flat- screen TV and a private bathroom fitted with a hairdryer. Some of the soundproofed rooms feature wrought iron furniture and some rooms offer a balcony. WiFi access is available throughout the hotel. A buffet breakfast is served every morning in the breakfast room at the Best Western Hotel Lakmi Nice. Newspapers are available for guests and there is also a bar on site. The Promenade des Anglais is a 13-minute walk from the hotel and Vieux Nice, the historic district, is a 15-minute walk away. Six private parking spaces are available on site at an additional cost, which cannot be booked in advance. ((* Sorry, this information is not available in the selected language and is shown in EN).\"]"
            ]
          },
          "metadata": {},
          "execution_count": 9
        }
      ],
      "source": [
        "#Exemplo da descrção de um dos hoteis da base.\n",
        "corpus = [x for x in all_descriptions]\n",
        "corpus[:1]\n"
      ]
    },
    {
      "cell_type": "code",
      "execution_count": 10,
      "id": "db96c732-fdbc-4afa-9cfc-922258dd1f7e",
      "metadata": {
        "id": "db96c732-fdbc-4afa-9cfc-922258dd1f7e"
      },
      "outputs": [],
      "source": [
        "#Padronizando os textos(aplicação de letra minuscula,retirada de caracteres especiais) \n",
        "#levantamento de contagem de palavras e recorrência \n",
        "\n",
        "t = Tokenizer(num_words=None, filters='!\"#$%&()*+,-./:;<=>?@[\\\\]^_`{|}~\\t\\n', lower=True, split=' ', char_level=False, oov_token=None, document_count=0)\n",
        "t.fit_on_texts(corpus)"
      ]
    },
    {
      "cell_type": "code",
      "execution_count": 11,
      "id": "0e275489-b573-4198-a1fa-4ac8e3988243",
      "metadata": {
        "collapsed": true,
        "jupyter": {
          "outputs_hidden": true
        },
        "tags": [],
        "colab": {
          "base_uri": "https://localhost:8080/"
        },
        "id": "0e275489-b573-4198-a1fa-4ac8e3988243",
        "outputId": "c3f83783-063e-4dc3-ce59-4b81787bf7dc"
      },
      "outputs": [
        {
          "output_type": "stream",
          "name": "stdout",
          "text": [
            "top30 palavras mais recorrentes:\n",
            "the: 2940\n",
            "and: 2931\n",
            "a: 2585\n",
            "is: 2203\n",
            "in: 1800\n",
            "de: 1308\n",
            "hotel: 994\n",
            "mi: 942\n",
            "of: 853\n",
            "km: 847\n",
            "this: 771\n",
            "with: 758\n",
            "from: 730\n",
            "available: 718\n",
            "at: 638\n",
            "e: 597\n",
            "1: 591\n",
            "br: 580\n",
            "as: 544\n",
            "to: 517\n",
            "are: 515\n",
            "rooms: 505\n",
            "free: 495\n",
            "2: 474\n",
            "0: 444\n",
            "not: 435\n",
            "en: 433\n",
            "information: 430\n",
            "selected: 430\n",
            "language: 422\n",
            "defaultdict(<class 'int'>, {'cost': 7, 'some': 68, 'language': 421, 'promenade': 2, 'minute': 116, 'jean': 1, 'throughout': 36, 'information': 421, 'furniture': 12, \"nice's\": 1, 'room': 192, 'balcony': 37, 'an': 203, 'screen': 150, 'buffet': 80, 'avenue': 5, 'feature': 73, 'street': 25, 'flat': 147, 'iron': 6, 'hairdryer': 51, 'additional': 29, 'advance': 3, 'there': 37, 'and': 430, 'at': 313, 'shown': 421, 'morning': 39, 'city': 98, 'sorry': 421, 'feet': 55, 'not': 423, 'with': 339, '15': 81, 'conditioned': 78, 'guest': 90, 'district': 37, 'parking': 126, 'next': 10, 'to': 267, 'spaces': 3, 'on': 193, 'this': 421, 'rooms': 281, 'selected': 421, 'offer': 53, 'station': 64, 'hotel': 385, 'bar': 146, 'western': 19, 'newspapers': 23, 'lakmi': 1, '1969': 4, 'train': 21, 'walk': 88, 'guests': 223, 'breakfast': 205, 'are': 276, 'access': 148, 'vieux': 3, 'spacious': 50, 'leads': 1, 'tv': 214, 'be': 119, 'main': 10, 'best': 22, 'ville': 2, 'etoile': 1, 'six': 9, 'center': 252, 'private': 165, 'place': 31, 'wrought': 1, 'from': 347, 'just': 104, 'massena': 1, 'site': 111, 'away': 167, 'which': 56, 'fitted': 21, 'every': 73, 'booked': 4, 'bathroom': 102, 'en': 423, 'medecin': 1, 'in': 440, 'the': 436, 'cannot': 2, 'each': 119, 'anglais': 1, 'air': 130, 'nice': 2, 'soundproofed': 5, '13': 23, 'also': 181, 'historic': 38, 'is': 424, 'a': 486, 'wifi': 104, 'it': 86, 'located': 227, 'for': 211, 'has': 104, 'shopping': 63, 'of': 337, 'served': 58, 'des': 10, 'available': 422, 'lively': 4, 'traditional': 16, 'hall': 15, \"london's\": 1, 'restaurants': 60, 'couple': 1, 'work': 47, \"hotel's\": 31, 'have': 111, 'inn': 120, 'breakfasts': 14, '30': 50, 'doorstep': 6, 'free': 301, 'range': 21, 'leafy': 1, 'underground': 6, 'after': 16, 'meals': 18, 'modern': 56, 'wide': 7, 'desk': 135, '10': 105, 'hyde': 3, 'found': 11, 'both': 24, 'yards': 5, 'reach': 6, 'wi': 163, 'continental': 61, 'ride': 17, 'features': 148, 'end': 5, 'mornings': 2, 'cereals': 2, 'lunch': 27, 'fresh': 20, 'making': 30, 'along': 18, 'within': 118, 'queensway': 1, 'safe': 26, 'fruit': 14, 'selection': 11, 'coffee': 125, 'park': 135, '215': 1, 'court': 12, 'tea': 48, 'oxford': 3, 'west': 20, 'royal': 15, 'evening': 13, 'tussauds': 2, 'madame': 2, \"earl's\": 2, 'bars': 21, 'albert': 3, 'hd': 2, 'paddington': 1, 'croissants': 1, 'bayswater': 1, 'stops': 2, 'shower': 50, 'fi': 162, '20': 52, 'comfort': 40, 'can': 208, 'facilities': 157, 'famous': 9, 'eggs': 8, 'various': 11, 'satellite': 52, 'blue': 6, 'hot': 64, 'meats': 1, 'clark': 2, 'pool': 190, 'mountain': 18, 'owned': 2, 'minutes’': 39, 'barbecue': 12, 'trail': 8, 'miles': 110, 'short': 23, 'plus': 8, 'shoppes': 1, 'bluewood': 1, 'hour': 114, 'juices': 5, 'fridge': 31, 'daily': 87, 'minutes': 79, 'front': 81, 'locally': 1, 'ski': 10, '24': 164, 'property': 135, 'indoor': 82, 'relaxation': 6, '9': 88, 'pastries': 3, 'state': 42, 'microwave': 59, 'unique': 15, '5': 148, 'lewis': 1, 'provided': 108, 'tub': 45, 'fitness': 102, 'business': 159, 'offered': 42, 'dayton': 3, 'use': 43, 'village': 18, 'cereal': 7, 'included': 50, '25': 27, 'small': 20, 'skiing': 6, 'university': 60, 'carte': 12, 'restaurant': 127, 'terrace': 60, 'hughes': 1, 'nearest': 46, 'options': 28, 'fort': 7, 'among': 5, '1': 119, 'stadium': 27, 'service': 109, 'collins': 1, 'à': 67, 'regional': 25, 'american': 30, 'colorado': 2, 'collection': 8, 'atm': 8, 'airport': 169, 'cheyenne': 1, 'while': 69, 'la': 42, '2': 155, 'provides': 59, 'accommodation': 38, 'elizabeth': 2, 'autograph': 1, '46': 1, 'entertainment': 58, '\\r': 2, 'culinária': 1, 'prévio': 1, 'com': 70, 'caesar': 1, 'o': 71, 'coração': 8, 'por': 38, 'empresas': 2, 'importantes': 1, 'na': 27, 'hóspedes': 22, 'trabalho': 2, 'de': 97, 'um': 68, 'olimpia': 1, 'dos': 56, 'do': 77, 'brasileira': 1, 'paulo': 3, 'no': 75, 'locais': 7, 'shoppings': 1, 'apartamentos': 5, 'vila': 4, 'entretenimento': 4, 'restaurantes': 7, 'acolhedores': 2, 'hospedagem': 2, 'e': 72, 'ou': 32, 'restaurante': 13, 'agendamento': 1, 'ex': 3, 'variados': 2, 'os': 43, 'bares': 5, 'mercure': 2, 'é': 45, 'existência': 1, 'possui': 6, 'conta': 13, 'próximo': 44, 'pouso': 1, 'uma': 65, 'sp': 1, 'financeiros': 1, 'eventos': 10, 'sociais': 1, 'excelentes': 2, 'pequenos': 20, 'decolagem': 1, 'lazer': 7, 'localizado': 4, 'confortáveis': 1, 'para': 61, 'são': 55, 'mediante': 29, 'grandes': 2, 'perto': 4, 'centros': 1, 'grand': 21, 'também': 9, 'está': 57, 'há': 48, 'salas': 4, 'diferenciais': 1, 'corporativos': 1, 'inspirados': 1, 'heliponto': 1, 'cycling': 9, 'views': 63, 'box': 20, '4': 128, '6': 101, '3': 141, 'rayong': 1, 'golf': 52, 'resort': 37, 'eastern': 3, 'contain': 5, 'pizza': 2, 'water': 40, 'hiking': 16, 'area': 124, 'ping': 1, '12': 41, 'channels': 38, 'sattahip': 1, 'around': 20, 'nong': 1, 'equipped': 93, 'outdoor': 112, 'seating': 44, 'includes': 34, 'cable': 124, 'network': 2, 'amazone': 1, 'safety': 16, 'kitchen': 29, 'star': 53, 'nooch': 1, 'shuttle': 51, 'or': 146, 'ramayana': 1, 'garden': 59, 'course': 27, 'cartoon': 1, 'electric': 7, 'bed': 41, 'swimming': 48, 'paid': 3, 'toiletries': 56, 'play': 8, 'pattaya': 2, '18': 30, 'dishes': 29, 'tapao': 1, 'nordic': 1, '8': 92, 'popular': 26, 'offers': 196, 'drink': 35, 'deposit': 19, 'botanical': 5, 'emerald': 2, 'u': 5, 'pong': 1, 'seafood': 6, 'others': 5, 'linen': 14, 'tropical': 8, 'pot': 2, 'you': 120, 'enjoy': 142, 'towels': 18, 'international': 90, 'accommodations': 53, 'dining': 74, 'conditioning': 48, 'mile': 23, 'home': 56, 'national': 30, 'local': 110, 'internet': 117, 'sojka': 1, 'as': 173, 'comedias': 1, 'school': 4, 'culture': 4, 'make': 76, 'meal': 13, 'sucre': 1, 'tour': 23, 'square': 32, 'basilica': 4, 'mistral': 1, 'mariscal': 1, 'mindalae': 1, 'central': 42, 'include': 158, 'multicentro': 1, 'showers': 28, 'pontifical': 1, 'catholic': 1, 'assistance': 13, '00': 36, 'multilingual': 7, 'ticket': 15, 'centrally': 14, 'craft': 4, 'el': 13, 'agora': 1, 'quito': 1, 'satisfying': 9, 'basílica': 3, 'polytechnic': 1, 'comercial': 12, 'teatro': 9, 'by': 107, 'market': 15, 'house': 50, 'amenities': 111, 'vow': 1, 'theater': 12, 'preferred': 3, 'intl': 1, 'centro': 22, 'wireless': 79, '7': 106, 'fee': 21, 'surcharge': 23, 'displayed': 4, '62': 1, 'atahualpa': 1, 'km': 92, 'mi': 140, 'take': 45, 'recreation': 15, 'trude': 1, 'complimentary': 87, '21': 21, 'lounge': 90, 'thirst': 15, 'luggage': 26, 'foot': 10, 'featured': 56, 'view': 30, 'guestrooms': 55, 'olympic': 7, 'cuisine': 37, 'your': 87, 'bathrooms': 60, 'museum': 76, 'uio': 1, 'hostel': 3, 'cultural': 8, 'showerheads': 5, 'pontificia': 2, 'rainfall': 5, 'near': 38, 'storage': 26, '0': 81, '35': 17, 'yourself': 45, 'favorite': 17, 'hours': 32, 'educador': 1, 'ecuadorian': 1, 'stay': 94, 'distances': 4, 'such': 39, 'connected': 47, 'gabriela': 1, 'selina': 2, 'roundtrip': 18, 'am': 16, 'patio': 10, 'one': 85, 'foch': 1, 'ecuador': 1, '11': 43, 'kilometer': 5, 'carolina': 10, 'keep': 10, \"you'll\": 44, 'bank': 5, 'staff': 35, 'quench': 15, 'shaker': 1, 'schuster': 1, 'performing': 6, 'arts': 13, 'ponds': 1, 'marian': 1, 'riverscape': 1, 'staybridge': 3, 'benjamin': 1, 'convention': 29, 'walden': 1, 'miamisburg': 1, 'car': 28, 'ihg': 7, 'company': 3, 'club': 39, 'm': 8, 'kings': 4, '14': 25, '26': 14, 'contemporary': 14, 'james': 8, 'run': 8, 'island': 26, 'motor': 7, 'suites': 86, 'cox': 1, 'localização': 49, 'sam': 1, 'outras': 46, 'ficará': 35, 'akademi': 1, 'semarang': 1, 'seco': 14, 'efetuada': 15, 'office': 4, 'kota': 1, 'comodidades': 58, 'hospital': 13, 'estão': 31, 'diária': 14, 'distâncias': 40, 'limpeza': 32, 'paragon': 1, 'besar': 1, 'em': 70, 'kepolisian': 1, 'mall': 47, 'rosario': 3, 'serviço': 33, 'dp': 1, '64': 2, 'lima': 2, 'perawan': 1, 'old': 21, 'randusari': 1, 'banho': 43, 'indonesia': 1, 'ar': 33, 'secretárias': 20, 'santa': 18, 'ahmad': 1, 'br': 42, 'mais': 59, 'quilómetro': 40, 'sinta': 44, 'polibã': 37, 'poo': 1, 'lcd': 34, 'carro': 30, 'principais': 41, 'casa': 55, 'kong': 3, 'h3': 46, 'grátis': 53, 'milha': 40, 'num': 41, 'apartment': 13, 'maria': 5, 'estacionamento': 57, 'ainda': 34, 'lavandaria': 9, 'bagagem': 14, 'post': 1, 'mesjid': 1, 'equipadas': 15, 'este': 59, 'se': 63, 'lawang': 1, 'ratu': 1, 'estadia': 39, 'candiland': 1, 'ao': 51, 'estabelecimento': 47, 'yani': 1, 'internacional': 23, 'incluem': 55, 'building': 16, 'kariadi': 1, 'marabunta': 1, 'ciputra': 1, 'sewu': 1, 'condicionado': 29, 'quartos': 58, 'minutos': 37, 'casas': 39, 'suci': 1, 'armazenamento': 14, 'kaya': 1, 'gereja': 1, 'aeroporto': 47, 'televisor': 28, 'simpang': 1, 'negócios': 44, 'srg': 1, 'lama': 1, 'principal': 14, 'apresentadas': 40, 'katedral': 1, 'wildlife': 3, 'those': 4, 'locations': 1, 'day': 44, 'boro': 1, 'who': 5, 'we': 11, 'their': 31, 'across': 12, 'campus': 3, 'trips': 2, 'wonderful': 7, 'southern': 6, 'more': 17, 'our': 27, 'travel': 5, 'will': 82, 'beaches': 9, 'member': 2, 'aquatic': 1, 'like': 21, 'town': 32, 'library': 11, 'us': 9, 'opened': 5, 'attractive': 3, 'simple': 6, 'imagine': 1, 'splash': 5, 'ogeechee': 1, 'than': 25, 'south': 28, 'style': 26, 'treated': 1, 'technical': 2, 'tybee': 1, 'right': 13, 'georgia': 3, 'whenever': 1, 'newly': 2, 'gsu': 1, 'savannah': 3, 'many': 26, 'nearby': 44, 'stays': 9, 'education': 1, 'moment': 1, 'college': 14, 'family': 27, 'trip': 3, 'domingos': 1, 'vista': 18, 'quinta': 7, 'sé': 1, 'dourocaves': 1, 'viscoelástico': 2, 'lhe': 28, 'sá': 1, 'capela': 1, 'municipal': 19, 'minibar': 18, 'colchões': 6, 'piscina': 19, 'régua': 1, 'torre': 5, 'roupa': 3, 'carneiro': 1, 'peso': 1, 'adega': 1, 'preferir': 2, 'apreciar': 2, 'numa': 6, 'salzedas': 1, 'chuveiro': 4, 'pelo': 8, 'poderá': 4, 'alta': 1, 'horas': 42, 'fluvial': 1, 'ficar': 26, 'dispõem': 26, 'lamego': 1, 'menagem': 1, 'portuguesa': 1, '23': 8, 'rural': 3, 'próximos': 16, 'estrelas': 8, 'lençóis': 14, 'museu': 15, 'opo': 1, 'remédios': 1, 'minuto': 13, 'viseu': 1, 'cocktail': 24, 'camas': 13, 'vse': 1, 'igreja': 6, 'rápido': 12, 'têm': 8, 'artigos': 30, 'olhos': 7, 'eufémia': 1, 'entre': 42, 'deleite': 1, 'capitães': 1, 'peça': 10, 'sempre': 26, 's': 17, 'dia': 44, 'porto': 10, 'vrl': 1, 'higiene': 30, 'zona': 9, 'cozinha': 8, 'quarto': 14, 'praia': 15, 'acesso': 36, 'dar': 2, 'cruzeiros': 1, 'baptista': 1, 'específicas': 3, 'serve': 25, 'diariamente': 24, 'permite': 28, 'final': 30, 'parque': 16, 'assista': 34, 'duoro': 1, 'seleção': 35, 'junto': 8, 'favorito': 10, 'wine': 12, 'refeições': 38, 'fixo': 4, 'cardápio': 1, 'quedar': 1, 'transporte': 11, 'continentais': 4, 'contacto': 30, '101': 1, 'cabo': 21, 'vistas': 3, 'melhor': 14, 'pode': 10, 'mosteiro': 2, '42': 6, 'fornelos': 1, 'saída': 10, 'douro': 2, 'senhora': 3, 'qualidade': 2, 'canais': 35, 'joão': 1, '69': 3, 'onde': 9, 'privativas': 24, 'real': 7, 'seu': 18, 'francisco': 5, 'sobretaxa': 25, 'paroquial': 1, 'river': 22, 'mercado': 6, 'aconchego': 1, 'registo': 9, 'alameda': 1, '63': 2, 'nossa': 3, 'solicitar': 7, 'aeroportos': 15, 'almoços': 22, 'terminal': 6, 'da': 55, 'pacheca': 1, 'jardim': 12, '19': 25, 'marriott': 13, 'discover': 6, 'experience': 12, 'waterfront': 9, 'true': 1, 'seattle': 2, 'makers': 27, 'scotiabank': 1, 'catch': 8, 'lougheed': 1, 'phones': 14, 'when': 18, 'dvd': 15, 'operates': 3, 'sized': 4, 'drive': 120, 'including': 65, 'well': 79, \"don't\": 1, 'consisting': 1, 'featuring': 94, 'weekends': 2, 'programming': 37, 'microwaves': 24, 'refrigerators': 35, '125': 1, 'stampede': 1, 'during': 31, 'friendly': 30, 'kitchens': 9, 'players': 9, 'full': 41, 'space': 10, 'opportunities': 20, 'lakeview': 1, 'recreational': 28, 'event': 12, 'weekdays': 5, 'limited': 22, 'conference': 19, 'provide': 43, 'fireplace': 15, '1350': 1, 'out': 44, 'meters': 9, 'kilometers': 2, 'signature': 4, '120': 3, 'miss': 2, 'peter': 2, 'meeting': 31, 'conveniences': 45, 'lobby': 57, 'sunridge': 1, 'freezers': 3, 'planning': 8, 'saddledome': 1, 'eco': 3, 'calls': 25, 'calgary': 1, 'centre': 15, 'spa': 54, 'tennis': 20, 'wired': 24, 'minigolf': 1, 'arkansas': 3, 'goodwin': 1, 'field': 10, 'camden': 1, 'closet': 6, 'bathtub': 8, 'decorated': 40, 'arrangements': 3, 'called': 1, 'sady': 1, 'upon': 14, 'tower': 13, 'cleaning': 17, 'numerous': 6, 'set': 29, 'malostranská': 1, 'reachable': 3, 'tram': 5, 'self': 34, 'ujezd': 1, 'castle': 11, 'prague': 1, 'stop': 9, 'catered': 2, 'kitchenette': 14, 'units': 24, 'toaster': 1, 'made': 5, 'vltava': 1, 'shops': 23, 'easy': 24, 'all': 158, 'comes': 26, 'consists': 3, 'request': 23, 'kettle': 4, '2953': 3, 'organized': 3, 'come': 32, 'stylishly': 2, 'petřínské': 1, '656': 7, 'apartments': 19, 'petřín': 1, 'enjoys': 6, 'eiffel': 2, '3117': 1, 'between': 12, 'pubs': 3, 'residential': 4, 'covered': 1, 'gabrielli': 1, 'apart': 2, 'quiet': 12, 'enjoyed': 16, 'bedding': 7, 'seasonal': 21, 'secure': 1, 'they': 24, 'sun': 15, 'bbq': 4, 'wineries': 2, 'choice': 26, 'drinks': 27, 'distance': 28, 'excursions': 2, 'extra': 19, 'walking': 21, 'mendoza': 1, 'shuttles': 2, 'ups': 3, 'soltigua': 1, 'smoke': 4, 'variety': 31, 'products': 3, 'part': 6, 'cleanliness': 1, 'casino': 22, 'gonzales': 1, 'protocols': 1, 'tops': 1, 'utensils': 2, 'let': 2, 'hotels': 10, 'oak': 4, 'rewards': 1, 'longer': 4, 'confidence': 1, 'san': 15, 'alley': 3, 'branded': 1, 'suburban': 1, 'improved': 1, 'joseph': 2, 'outlet': 8, 'cook': 4, 'houmas': 1, 'services': 83, 'plantation': 5, 'that': 44, 'money': 2, 'program': 3, 'new': 28, 'sunshine': 3, 'may': 15, 'st': 19, 'donaldsonville': 1, 'cooking': 3, 'privileges': 1, 'being': 5, 'save': 1, 'studios': 4, 'mind': 2, 'copy': 17, 'top': 7, 'tanger': 4, 'earn': 1, 'fax': 21, 'burner': 2, 'help': 8, 'toilet': 5, 'major': 8, 'guest´s': 1, 'ilha': 3, 'weight': 3, 'stylish': 15, 'mini': 37, 'bus': 11, 'beyond': 2, '2625': 7, 'entry': 1, 'extras': 18, 'commercial': 4, 'premises': 8, 'close': 48, 'valet': 5, 'arranged': 4, 'training': 3, 'gym': 38, 'financial': 4, 'heart': 19, 'convenience': 40, 'florianópolis': 1, 'other': 59, '1312': 1, 'hercílio': 1, 'beiramar': 1, 'luz': 2, 'waffle': 5, 'dryers': 28, 'smoking': 15, 'laundry': 62, 'ironing': 46, 'suitable': 2, 'families': 7, 'off': 32, 'added': 7, 'muffins': 2, 'own': 8, '100': 14, 'interstate': 27, 'tvs': 18, 'premium': 39, 'non': 15, 'belgian': 2, 'irons': 19, 'quality': 12, 'two': 10, 'movie': 8, 'gods': 1, 'hair': 35, 'boards': 19, 'cold': 6, 'heated': 19, 'maryland': 1, 'd': 4, 'sightseeing': 9, 'c': 5, 'branch': 1, 'attractions': 30, 'andrews': 1, 'camp': 2, 'holiday': 24, 'only': 37, 'express': 31, 'metro': 18, 'springs': 5, 'go': 18, 'base': 10, 'swim': 16, 'less': 23, 'washington': 6, 'conveniently': 16, 'force': 3, 'areas': 39, 'mail': 8, 'businesses': 4, 'centurylink': 1, 'lake': 21, 'ice': 5, 'corporations': 3, 'durham': 1, 'definition': 2, 'forest': 4, 'appreciate': 15, 'baptist': 2, 'sports': 21, 'wral': 1, 'soccer': 3, 'equipment': 6, 'visitors': 6, 'inch': 20, 'pointe': 2, 'antique': 3, 'high': 37, 'downtown': 46, 'chaplains': 1, 'powersecure': 1, 'arenas': 2, 'falls': 9, 'soccerplex': 1, 'specialty': 6, 'hbo': 12, 'raleigh': 3, 'travelers': 29, 'emergency': 1, 'route': 4, 'weekday': 6, 'factory': 2, 'surrounding': 16, 'wake': 5, 'novozymes': 1, 'seminary': 1, 'triangle': 1, 'exercise': 9, 'museums': 9, 'televisions': 34, 'newspaper': 10, 'complex': 12, 'lounges': 10, 'voice': 5, 'theological': 1, '–': 16, 'flextronics': 1, 'clarion': 2, 'four': 7, 'southeastern': 1, 'boating': 4, 'courses': 5, 'fishing': 12, 'speed': 22, '32': 13, 'several': 17, 'america': 9, 'north': 21, 'inc': 1, 'corporate': 8, 'estadias': 7, 'lareira': 1, 'funcionários': 7, 'check': 38, 'oficial': 11, 'exigidos': 11, 'social': 9, 'presentes': 9, 'regularmente': 7, 'wttc': 1, 'requisitos': 11, '15h00': 3, 'verificações': 5, 'momento': 14, 'desinfetadas': 7, 'possibilidade': 4, 'organizar': 8, 'contato': 8, 'depósitos': 8, 'despesas': 11, 'animal': 1, 'débito': 11, 'não': 17, 'estimação': 14, 'tocadas': 7, 'radisson': 4, 'policies': 10, 'atualmente': 7, 'essas': 11, 'recentes': 11, 'recepção': 17, 'painel': 3, 'foram': 8, 'solicitações': 11, 'seção': 1, 'receber': 11, 'lavanderia': 4, 'monóxido': 1, 'pegar': 2, 'janelas': 3, 'determinados': 1, 'confira': 11, 'atividades': 2, 'manobrista': 11, 'taxas': 12, 'special': 18, 'rule': 11, 'sujeitas': 11, 'orientações': 4, 'chegada': 11, 'proteção': 6, 'segurança': 8, 'álcool': 6, 'acima': 8, 'usd': 4, 'cortesia': 13, 'máscaras': 2, 'ahla': 1, 'até': 9, 'luvas': 1, 'manhã': 9, 'superfícies': 7, 'neste': 15, 'sobretaxas': 1, 'estar': 13, 'concierge': 27, 'individualmente': 3, 'adicionais': 12, 'impostos': 8, 'lavados': 5, 'meio': 6, 'individual': 11, 'lavagem': 1, 'equipamento': 6, 'detector': 3, 'opera': 4, 'segue': 4, 'carbono': 1, 'incluir': 8, 'acrílico': 3, 'oferece': 21, 'animais': 14, 'nesta': 11, 'ser': 14, 'fumantes': 10, 'café': 24, 'disponíveis': 8, '°c': 5, '60': 13, 'safestay': 1, 'documento': 11, 'que': 24, 'como': 18, 'indicadas': 4, 'traslado': 2, 'feita': 7, 'carona': 1, 'perca': 1, 'reserva': 9, 'verificação': 3, 'crédito': 11, 'disponibilidade': 11, 'jornais': 11, 'especiais': 12, 'age': 13, 'detalhadas': 1, 'recreação': 2, 'temperatura': 6, 'instructions': 11, 'vigor': 11, 'periodicamente': 5, 'incompleta': 8, 'aprimorada': 7, 'viajar': 11, 'serviços': 11, 'dependendo': 11, 'fumaça': 3, 'somente': 2, 'usando': 8, 'fees': 13, 'isentos': 2, 'protetor': 3, 'incorrer': 11, 'equipamentos': 3, 'viagem': 12, 'mínima': 5, 'diretamente': 5, 'saguão': 2, 'toalhas': 6, 'identificação': 11, 'cartão': 11, 'eua': 1, 'qualquer': 4, 'entrar': 6, 'informações': 9, 'vão': 3, 'travels': 1, 'covid': 12, 'foto': 11, 'interna': 4, 'recursos': 3, 'higienização': 4, 'minimum': 11, 'relacionados': 11, 'dinheiro': 12, 'restrições': 3, 'distanciamento': 8, 'destino': 11, 'lista': 8, 'nas': 7, 'sem': 22, 'opções': 7, 'embaladas': 2, 'viaje': 11, 'acomodação': 12, 'taxa': 9, 'política': 11, 'desinfetante': 7, 'gel': 6, 'milhas': 1, 'antes': 11, 'afirma': 4, 'optional': 8, '50': 14, 'medidas': 11, 'implementadas': 8, 'aplicadas': 5, 'utilizam': 6, 'garantidas': 11, 'aceita': 11, 'áreas': 7, 'conduzidas': 5, 'nosso': 3, 'grades': 2, 'individuais': 3, 'crianças': 12, 'depósito': 11, 'propriedade': 16, 'variam': 11, 'confirmação': 8, 'disponível': 18, 'surpresas': 11, 'funcionário': 6, 'mudanças': 8, 'sujeitos': 8, 'protocolo': 2, 'global': 3, 'vai': 8, 'recebem': 6, 'podem': 14, 'refeição': 7, 'pessoas': 12, 'academia': 5, 'white': 8, 'dairy': 1, 'vietnam': 1, 'bike': 6, 'ronald': 1, 'rental': 6, 'find': 37, 'shared': 13, 'veterans': 1, 'vegetarian': 2, 'memorial': 12, 'serving': 14, 'dc': 1, 'reagan': 1, 'phillips': 1, 'vegan': 1, 'requested': 12, 'generator': 1, 'prairie': 2, 'game': 11, 'buffalo': 6, 'addition': 9, 'bathtubs': 12, 'midland': 3, 'desks': 23, 'five': 8, 'whirlpool': 8, 'shadeland': 1, 'interest': 11, 'about': 10, 'recliners': 1, 'apply': 6, 'rail': 3, 'ranch': 5, 'ottawa': 1, 'nintendo': 1, 'stock': 2, 'spirit': 3, 'systems': 1, 'charges': 7, 'nonsmoking': 10, 'railway': 8, 'heritage': 5, 'kansas': 2, 'television': 27, 'baker': 1, 'auditorium': 3, 'farm': 3, 'points': 13, 'ruínas': 1, 'manatíes': 1, 'maya': 1, 'alfredo': 1, 'água': 4, 'fuente': 1, 'ventoinhas': 2, 'blanco': 1, 'ctm': 1, 'quintana': 1, 'cultura': 1, 'p': 6, 'corozal': 1, 'oferecidas': 4, 'czh': 1, 'leque': 4, 'othón': 1, 'marin': 1, 'chetumal': 1, 'museo': 6, 'mulas': 1, 'laguna': 2, 'palacio': 3, 'dr': 2, 'engarrafada': 3, 'pescador': 2, 'payo': 1, '16': 25, 'oxtankah': 1, 'barrera': 1, 'mexico': 6, 'aberta': 24, 'marítimo': 2, 'obispo': 1, 'explanada': 1, 'teto': 1, 'roo': 1, 'santuario': 2, 'receção': 26, 'zoológico': 3, 'manati': 1, 'ciudad': 4, 'bidé': 2, 'faro': 2, 'gobierno': 1, 'milagros': 1, 'del': 9, 'bandera': 1, 'sur': 2, 'acuático': 1, 'amor': 1, 'impresionante': 1, '”': 1, 'bonitas': 1, 'mejor': 1, 'bellísimas': 1, 'disfrutar': 1, 'natural': 11, 'tan': 1, 'turístico': 2, 'tranquila': 1, 'observar': 1, 'ideal': 13, 'refugian': 1, 'ubicados': 1, 'familiar': 5, 'ambiente': 2, 'cerca': 7, 'si': 2, 'josé': 2, 'sol': 5, '“arco”': 1, 'arena': 15, 'ir': 1, 'estamos': 1, 'corredor': 1, 'es': 3, 'taxi': 1, 'frailes': 1, 'california': 5, 'podrás': 1, 'puerto': 1, 'paraíso': 1, 'kayaks': 2, 'unas': 1, 'son': 1, 'cristal': 1, 'punta': 2, '“los': 1, 'colonial': 7, 'y': 4, 'otros': 1, 'baja': 1, '¿prefieres': 1, 'quédate': 1, 'con': 2, 'rentar': 1, 'disfruta': 1, 'aventura': 1, 'contratar': 1, 'lancha': 1, 'corona': 3, 'hora': 3, 'un': 2, 'una': 2, 'verdadero': 1, 'ubicada': 1, 'los': 6, 'galerías': 2, 'monumento': 3, 'pareja': 1, 'encuentran': 1, 'caracteriza': 1, 'así': 2, 'te': 2, 'tienes': 2, 'quedarte': 2, 'permitirá': 1, 'las': 14, 'muy': 1, 'naturales': 1, 'al': 9, 'espíritu': 1, 'marina': 8, 'puedes': 1, 'fondo': 1, 'distancia': 1, 'poca': 1, 'marinos': 1, 'treinta': 1, 'unos': 1, 'aeropuerto': 2, 'lo': 1, 'leones': 1, 'médano': 1, 'arte': 3, 'playas': 1, 'chileno': 1, 'espectáculos': 1, 'llegar': 1, 'además': 1, 'sugerimos': 1, 'artesanales': 1, 'aquí': 1, 'mercados': 1, 'península': 1, 'más': 1, 'media': 2, 'cual': 1, 'solo': 3, 'tu': 1, 'espectaculares': 1, 'norte': 2, 'playa': 4, 'lucas': 1, \"guests'\": 10, '500': 5, 'baska': 1, 'disposal': 2, 'nicholas': 1, 'furnished': 33, '400': 2, 'church': 6, 'metres': 2, 'reached': 14, 'split': 4, 'voda': 1, 'civljak': 1, 'guesthouse': 2, 'beach': 76, '65': 4, 'most': 18, 'here': 8, 'fully': 23, 'pebbly': 1, 'phone': 3, \"lot's\": 1, 'entrance': 8, 'children': 6, 'transportation': 8, 'slide': 1, 'epcot': 1, 'sheduled': 1, 'seaworld': 3, 'buena': 2, 'blues': 1, 'sea': 22, 'great': 34, 'first': 8, 'good': 15, 'adults': 5, 'start': 12, 'universal': 1, 'orlando': 2, 'theme': 11, 'charged': 5, 'walt': 2, 'world®': 1, 'so': 6, 'neighbor': 1, 'nightlife': 3, 'taxes': 3, 'unlimited': 3, 'welcome': 14, 'class': 4, 'scheduled': 2, '95': 5, 'millennia': 1, 'florida': 9, 'world': 17, 'parks': 7, 'disney': 2, 'grille': 2, 'dine': 8, 'dallas': 4, 'get': 11, 'parkside': 1, 'flags': 7, 'snack': 15, 'southwestern': 2, 'sheraton': 5, 'amusement': 9, 'appetizers': 2, 'texas': 11, 'maker': 25, 'arlington': 3, 'over': 21, 'boast': 2, 'vistula': 1, 'salon': 3, 'toruń': 1, '600': 3, 'elements': 2, 'panorama': 3, 'copernicus': 2, 'miasto': 1, 'chef': 3, 'created': 2, 'picturesque': 5, '2297': 4, '1640': 6, 'sights': 4, 'wisła': 1, 'shore': 1, 'surrounded': 17, 'hairdressing': 1, 'leaning': 1, 'nightclub': 4, 'important': 2, 'number': 12, 'marble': 3, 'yard': 3, 'planty': 1, 'wellness': 11, 'original': 2, 'bowling': 6, 'united': 2, 'orpheum': 1, 'federal': 1, 'nations': 1, 'gate': 1, 'plaza': 23, 'theatre': 11, 'golden': 4, 'warfield': 1, 'bicycle': 6, 'night': 11, 'fah': 1, 'nai': 1, 'mae': 1, 'chiang': 1, 'sing': 1, 'suan': 1, 'wat': 3, 'saturday': 3, 'luang': 2, 'unit': 4, 'rai': 2, 'pra': 2, 'clock': 10, 'relax': 39, 'boat': 4, 'indias': 1, 'overlook': 2, 'cartagena': 1, 'needed': 1, 'bocagrande': 1, 'luxury': 11, 'nuñez': 1, 'agustin': 1, 'santo': 2, 'possible': 10, \"city's\": 3, 'castillo': 1, 'rentals': 3, 'sessions': 2, 'docking': 10, 'grande': 8, 'reservation': 3, 'streets': 2, 'internal': 3, 'diego': 3, 'location': 58, 'massage': 15, 'rafael': 1, 'islands': 4, 'domingo': 1, 'ipod': 11, 'solarium': 4, 'linens': 3, 'evento': 7, 'quadrados': 9, 'golfe': 5, 'coronel': 1, 'cafayate': 1, '450': 2, 'planeia': 7, 'forma': 10, 'manhãs': 10, 'área': 19, '08': 2, 'saciar': 2, 'lerma': 1, 'conferências': 9, '33': 9, 'descontrair': 2, 'sede': 4, '29': 9, 'valle': 1, 'produtos': 6, 'cofres': 16, 'almoço': 14, 'sla': 1, 'servido': 11, 'preferencial': 8, 'espaço': 4, 'boutique': 9, '117': 1, 'corral': 1, 'cabra': 1, 'comum': 7, 'decoração': 7, 'reuniões': 4, 'combinação': 10, 'dispõe': 16, 'pontos': 3, '34': 7, 'moldes': 1, 'metros': 12, 'figura': 1, 'guemes': 1, 'suas': 12, 'sala': 7, 'salta': 1, 'referência': 2, 'circundantes': 1, 'personalizada': 5, 'alguns': 15, 'barragem': 1, 'total': 17, 'dirija': 6, 'guachipas': 1, 'martin': 4, 'banheira': 20, 'reservoir': 3, '72': 4, 'pequeno': 17, '31': 10, 'comece': 8, 'hidromassagem': 5, 'quebrada': 1, 'miguel': 1, 'iglesia': 2, 'hunger': 1, 'styled': 3, 'roof': 6, 'accessible': 9, 'red': 10, 'reliant': 1, 'needs': 11, 'houston': 6, 'refreshing': 11, '290': 2, 'pet': 13, 'brookhollow': 1, 'machines': 8, 'activity': 6, 'medical': 10, 'table': 15, 'launderette': 5, 'shop': 24, 'refreshment': 1, 'refrigerator': 47, 'vending': 11, 'chairs': 5, 'satisfy': 5, 'highway': 9, 'simply': 14, 'port': 14, 'authority': 1, 'purchases': 1, 'safes': 14, \"paul's\": 1, 'valletta': 1, 'housekeeping': 25, 'mediterranean': 10, 'keeps': 35, 'manoel': 1, 'treat': 3, 'reception': 26, 'bidets': 3, 'coleridge': 1, 'held': 5, 'proximity': 22, 'common': 12, 'items': 7, 'anglican': 1, 'george': 7, 'mingle': 5, 'massages': 11, 'facials': 6, 'crowne': 1, 'standout': 1, 'clear': 2, 'dulles': 2, 'familiares': 2, 'suporte': 1, 'conforto': 9, 'privilegiada': 3, '\\rtemos': 2, 'mesa': 9, 'máximo': 2, 'elétricos': 1, 'estrutura': 1, 'pressurizador': 1, 'led': 7, 'clean': 2, 'parintinense': 1, 'parintins': 1, 'equipe': 3, 'arquitetura': 1, 'amplos': 1, 'icamiabas': 1, 'profissionalismo': 1, 'ares': 1, 'moderna': 2, 'bumbódromo': 1, 'instalações': 11, 'claridade': 1, 'adicionado': 1, 'proporcionar': 1, 'gratuito': 5, 'gosto': 1, 'bom': 1, 'chuveiros': 2, 'simpatia': 1, 'malas': 1, 'convidado': 1, 'empreendimento': 1, 'contam': 11, 'farmácias': 1, 'tudo': 5, 'atender': 2, 'atmosfera': 1, 'nossos': 3, 'reunido': 1, 'você': 10, 'aproveita': 1, 'conhecer': 2, 'isso': 1, 'guarda': 3, 'fica': 12, 'supermercados': 1, 'toque': 1, 'hospitalidade': 1, 'charmosa': 1, 'seus': 14, 'mobília': 2, 'mola': 2, 'dão': 1, 'frigobar': 2, 'graham': 1, 'battleground': 1, 'alamance': 1, 'machine': 15, 'community': 8, 'offering': 27, 'venues': 4, 'outlets': 9, 'sofa': 18, 'lynch': 1, 'bottle': 1, 'granola': 1, 'complete': 13, 'rockaway': 1, 'morristown': 1, 'prepackaged': 1, 'willowbrook': 2, 'offices': 1, 'mercedes': 2, 'supplied': 1, 'muffin': 1, 'stove': 2, '80': 5, 'danish': 1, 'benz': 2, 'whole': 1, 'parsippany': 1, 'sonesta': 1, 'merrill': 1, 'staying': 7, 'piece': 1, 'ohio': 4, 'vinyl': 1, '75': 4, 'franklin': 2, 'flooring': 3, 'intestate': 1, 'cincinnati': 2, 'motel': 19, '17': 20, 'bangkok': 3, 'koh': 1, 'thai': 1, 'chaweng': 1, 'soak': 3, 'boxing': 2, 'destinations': 6, 'buncha': 1, 'where': 19, 'body': 6, 'phetch': 1, 'festival': 2, 'childcare': 4, 'steam': 10, 'treatments': 9, 'samui': 1, 'babysitting': 7, 'up': 27, 'countryside': 4, 'biarritz': 2, 'fin': 1, 'lodge': 10, 'aureilhan': 1, 'mimizan': 1, '984': 4, 'plage': 2, 'bordeaux': 2, 'current': 1, 'sunbathe': 1, 'overlooks': 2, 'single': 2, 'tnt': 1, 'i': 8, 'volleyball': 7, 'suite': 15, 'activities': 31, 'cd': 1, 'health': 11, 'serves': 54, 'hill': 8, 'dinner': 35, 'leisure': 16, 'country': 16, 'fairfield': 8, 'delivery': 2, 'situated': 12, 'player': 8, '85': 4, 'beachfront': 8, 'labels': 1, 'wines': 4, 'lines': 1, 'gulf': 5, 'windsurfing': 3, 'minimal': 1, 'greek': 3, 'scuba': 3, 'vary': 2, 'attended': 1, \"peloponnese's\": 1, 'secretarial': 1, 'diving': 8, 'stunning': 11, 'proposes': 1, 'architecture': 2, 'sets': 1, 'coast': 11, 'seaside': 1, 'gardens': 21, 'its': 26, 'canoe': 1, 'combined': 1, 'guests’': 4, 'basketball': 2, 'lb': 1, 'music': 10, 'corinthian': 1, 'hospitality': 10, 'décor': 17, 'courts': 10, 'elegant': 16, 'accompanied': 2, 'long': 11, 'gastronomic': 1, 'hotel’s': 15, 'road': 3, 'a1a': 1, 'ormond': 1, 'bath': 29, 'art': 32, 'hollywood': 2, 'boulevard': 2, 'travelodge': 3, 'olas': 1, 'lauderdale': 1, 'galleria': 1, 'redoubt': 1, '900': 2, 'amendable': 1, 'days': 13, 'eastbourne': 1, 'min': 2, 'refundable': 1, 'beachy': 1, 'before': 5, 'devonshire': 1, 'council': 2, 'booking': 2, 'price': 1, 'even': 3, 'independent': 3, 'time': 11, 'purchase': 1, 'if': 9, 'pier': 3, 'charge': 16, 'head': 3, 'military': 3, 'until': 4, 'gatwick': 3, 'any': 4, 'arrival': 1, 'congress': 1, 'lawn': 2, 'bandstand': 1, 'fortress': 2, 'lawns': 1, 'treasure': 3, 'princes': 2, 'sovereign': 1, 'borough': 1, 'according': 4, 'standard': 14, 'rate': 2, 'harbour': 4, 'london': 8, 'reviews': 2, 'cancel': 1, 'favourite': 2, 'deck': 4, 'center’s': 2, 'personal': 3, 'weights': 4, 'civic': 6, 'boldly': 1, 'colored': 2, 'gallery': 9, 'hamilton': 3, 'sheraton’s': 1, 'loft': 2, 'chedoke': 1, \"chagall's\": 1, 'cardio': 4, 'snacks': 19, 'billings': 2, 'comfortable': 33, 'laundromat': 3, 'pompeys': 1, 'monument': 1, 'battlefield': 3, 'montana': 2, 'little': 7, '68': 2, '36': 2, 'yegen': 2, '90': 7, 'pillar': 1, 'bighorn': 1, 'yellowstone': 3, 'plana': 2, 'cais': 1, 'situada': 1, 'artesanato': 1, 'balsa': 1, 'tela': 2, 'pousada': 4, 'acomodações': 2, 'barreirinhas': 1, 'prefeitura': 1, 'raio': 1, 'todos': 9, 'privativo': 2, 'banheiro': 4, \"porreca's\": 1, 'splashwater': 1, 'escape': 3, 'poolside': 9, 'spot': 2, \"nordick's\": 1, 'fun': 8, 'glen': 2, 'list': 9, 'kingdom': 1, \"minutes'\": 19, 'traditionally': 2, 'frewin': 1, 'espreitadela': 7, 'egípcio': 4, 'pearson': 1, 'waterpark': 5, 'exclusivos': 6, 'contactos': 1, 'niágara': 2, 'aluguer': 3, 'fazer': 2, 'digitais': 6, 'greg': 1, '77': 2, 'history': 9, 'gigante': 1, 'upside': 1, 'roda': 1, 'down': 4, 'cataratas': 2, '124': 1, 'movieland': 1, 'mp3': 3, 'bridge': 4, 'escutar': 1, 'adventure': 5, 'iag': 2, 'pedido': 6, '27': 10, 'algodão': 4, 'inclui': 5, 'pé': 17, 'organizada': 2, 'buf': 2, 'toronto': 2, 'pillowtop': 6, \"ripley's\": 2, 'clifton': 1, 'wax': 2, 'queen': 4, 'favoritas': 1, 'coloca': 7, 'desfiladeiro': 2, 'ontário': 1, 'nova': 3, 'novos': 1, 'leitor': 2, 'fear': 1, 'secadores': 24, 'cabelo': 30, 'frigorífico': 14, 'victoria': 1, 'aproveite': 13, 'fallsview': 1, 'dinosaur': 2, 'varanda': 10, 'músicas': 1, 'rainbow': 1, 'dispor': 3, 'empress': 1, 'believe': 2, 'niagara': 5, 'york': 12, 'famílias': 1, 'nightmares': 1, 'unidades': 11, 'ligue': 7, 'plasma': 7, '44': 6, 'limusinas': 3, 'yyz': 1, 'skylon': 1, 'mills': 6, 'ridge': 6, 'katy': 1, 'grab': 18, 'brookshire': 1, 'bush': 3, 'super': 9, 'baseball': 1, 'independence': 2, 'adams': 2, 'arrowhead': 1, 'explore': 14, 'chiefs': 1, 'driving': 4, 'team': 1, 'missouri': 1, 'coffeemakers': 1, 'adjacent': 11, 'point': 13, 'truman': 1, 'dunkin': 1, 'bella': 1, 'jackalope': 1, 'fairview': 1, 'pittsburgh': 2, 'guys': 1, 'roadhouse': 1, 'bridgeville': 1, \"beez's\": 1, 'southpointe': 1, 'woodville': 1, 'hampton': 8, 'topgolf': 1, 'flight': 2, 'rivers': 3, 'watch': 4, 'trampoline': 1, 'bean': 1, 'beverages': 10, 'burghs': 1, 'blaza': 1, 'wings': 1, 'racetrack': 3, 'cafe': 10, 'diversas': 2, 'dias': 6, 'cidade': 15, 'projetados': 2, 'falte': 1, 'altamente': 1, 'descobrir': 1, 'nada': 2, 'homestead': 1, 'estará': 1, 'composto': 1, 'garantir': 1, 'aos': 9, 'boa': 1, 'selecionados': 1, 'despertador': 1, 'inesquecíveis': 1, 'wa': 2, 'momentos': 2, 'lynden': 1, 'vasta': 1, 'simplesmente': 1, 'excelente': 3, 'apenas': 9, 'sono': 1, 'telephone': 8, 'aquecimento': 3, 'durante': 10, 'televisão': 5, 'oferecer': 2, 'escolha': 1, 'eficientes': 1, 'oferecem': 2, 'noite': 7, 'passos': 10, 'regalias': 1, 'relaxar': 2, 'recuperar': 1, 'facilidades': 3, 'gama': 2, 'agitados': 1, 'espera': 2, 'sua': 14, 'tem': 7, 'oportunidades': 2, 'three': 14, 'storeys': 2, 'remarkable': 1, 'glass': 4, 'particularly': 1, 'sporting': 1, 'bright': 12, 'relation': 1, 'sparkling': 2, 'buildings': 7, 'built': 7, 'looks': 4, 'disabled': 3, 'orient': 1, 'ahead': 1, 'dominated': 1, 'purpose': 1, 'dekalb': 1, 'centers': 4, 'seconds': 1, 'egyptian': 4, 'illinois': 2, 'ellwood': 1, 'northern': 3, 'thoughtful': 4, 'store': 11, 'advantage': 28, 'easily': 6, 'discovery': 8, 'creative': 1, 'grills': 3, 'workout': 11, 'tennessee': 4, 'finley': 1, \"children's\": 11, 'comforts': 5, 'chattanooga': 1, 'sites': 8, 'petersburg': 2, 'tpa': 1, 'dois': 4, 'bay': 14, 'brewery': 2, 'copo': 3, 'steinbrenner': 1, 'tpf': 1, 'estádio': 7, 'petersburgo': 1, 'semana': 5, 'knight': 1, '442': 1, 'além': 18, 'conversa': 3, 'cigar': 1, 'cypress': 1, 'ecrã': 13, 'spg': 1, 'riverwalk': 2, 'lopez': 1, 'rocky': 1, 'hca': 1, \"women's\": 1, 'hyatt': 6, 'dedos': 3, 'fins': 5, 'fl': 2, 'telefone': 18, 'tampa': 2, 'ben': 1, 'raymond': 1, 'plano': 13, 'clearwater': 2, 't': 4, \"joseph's\": 1, 'pie': 1, 'tomar': 3, '06': 7, 'westshore': 1, 'whitted': 1, 'davis': 1, 'upper': 3, 'barbados': 2, 'sands': 2, 'formerly': 1, 'vibrant': 4, 'known': 1, 'sandy': 6, 'inclusive': 12, 'digital': 5, 'rec': 20, 'grange': 1, 'houndshill': 1, 'convenient': 29, 'life': 7, 'waxworks': 1, 'blackpool': 1, 'sensation': 1, 'arms': 1, 'meetings': 4, 'ensure': 6, 'appealing': 1, 'montargil': 1, 'modernity': 1, 'kind': 1, 'villas': 7, 'perfect': 16, 'ready': 4, 'genuine': 1, 'entirely': 1, 'leisurely': 1, 'dam': 3, 'manner': 1, 'open': 20, 'surroundings': 11, 'congresses': 1, 'affording': 1, 'strategically': 3, 'unspoiled': 1, 'harmony': 1, 'warm': 11, 'give': 2, 'aim': 1, 'nature': 9, 'magnificent': 3, 'pleasurable': 1, 'comprehensive': 2, 'portugal': 1, 'done': 1, 'lago': 3, 'alentejo': 2, 'memories': 1, 'visit': 14, 'unwind': 8, 'awaits': 2, 'venue': 5, 'everything': 11, 'designed': 16, 'impart': 1, 'scheme': 1, 'happy': 5, 'cheerful': 1, 'color': 2, 'cathedral': 7, 'pretty': 1, 'individually': 11, 'outskirts': 2, 'fine': 5, 'german': 4, 'links': 7, 'gerold': 1, 'transport': 7, 'varied': 7, 'sauna': 27, 'public': 22, 'quietly': 2, 'sunny': 1, 'paderborn': 1, 'prk': 1, 'waters': 3, 'curahealth': 1, 'jax': 1, '22': 13, 'aberto': 6, '49': 3, 'ust': 1, 'northeast': 1, 'creek': 6, 'mandarin': 1, 'dog': 3, 'julington': 1, 'kijiji': 1, 'craig': 1, 'bartram': 1, 'shrine': 1, 'crabtree': 2, 'wood': 9, 'mayo': 2, 'avenues': 1, 'clube': 1, \"john's\": 1, 'pastelaria': 2, 'falling': 1, 'augustine': 2, 'começar': 3, 'morocco': 1, 'executive': 4, 'pond': 2, 'clinic': 2, 'champions': 2, 'jacksonville': 2, 'unf': 1, 'crg': 1, 'johns': 1, 'southside': 1, 'capital': 5, 'jumping': 1, 'liveliest': 1, 'le': 8, '45': 12, 'paris': 6, 'cinemas': 1, 'jardin': 5, 'plantes': 3, 'quarter': 5, 'gobelins': 1, 'renovated': 5, 'seminar': 1, 'panthéon': 2, 'hôtel': 9, 'bustling': 1, 'experiencing': 1, 'cozy': 9, 'care': 2, 'means': 1, 'latin': 1, 'seeing': 3, 'student': 1, 'french': 6, 'separate': 15, 'chair': 7, 'homewood': 3, 'institute': 3, 'neighborhood': 3, 'breath': 2, 'chicago': 5, \"chicago's\": 1, 'pour': 1, 'living': 11, 'hilton': 14, '43': 5, 'loop': 2, 'fulton': 3, 'beer': 4, 'flexible': 2, 'hdtv': 1, 'city’s': 4, 'tap': 2, '200': 4, 'millennium': 3, 'residence': 6, 'encontra': 5, 'recebidos': 3, '212': 1, 'poderão': 8, 'dubai': 4, 'serão': 3, 'funcionais': 1, 'intercontinental': 4, 'sofisticado': 1, 'átrio': 1, 'alojamento': 4, 'existem': 3, 'visitantes': 1, 'berço': 3, 'f': 4, 'manter': 1, 'irão': 2, 'servidas': 1, '\\xa0e': 1, 'infelizmente': 2, 'graças': 2, 'possam': 3, 'aparthotel': 5, 'deliciar': 1, 'ideais': 1, 'viajantes': 2, 'permitidos': 2, 'pedir': 2, 'atualizados': 1, 'incomodados': 1, 'encontrar': 3, 'imóvel': 3, 'ficam': 3, 'entrada': 9, 'vez': 3, 'clientes': 2, 'conveniência': 1, 'tipos': 2, 'delicious': 8, 'fichtelberg': 1, 'bio': 2, 'routes': 1, 'cabin': 1, 'peaceful': 6, 'promise': 1, 'finnish': 3, 'schöneblick': 1, 'children’s': 6, 'afternoons': 2, 'filled': 3, 'pamper': 4, 'playground': 6, 'infrared': 1, 'cozily': 1, 'fichtelgebirge': 1, 'amid': 2, 'franconian': 1, 'miami': 2, 'prime': 10, 'certain': 9, 'lummus': 1, 'fisher': 1, 'need': 9, 'elevator': 10, 'ca': 3, 'reliable': 3, \"night's\": 6, 'apartel': 1, 'mirror': 4, 'restful': 2, 'perfectly': 4, 'sleep': 6, 'angeles': 2, 'caters': 4, 'metropolitan': 4, 'professional': 6, 'diplomat': 1, 'looking': 4, 'horse': 2, 'applies': 2, 'racing': 1, 'allowing': 3, 'person': 4, 'individuals': 2, 'hallandale': 1, 'advised': 1, 'feeling': 1, 'casinos': 2, 'please': 7, '4th': 1, '3rd': 1, 'knightsinn': 1, 'into': 10, 'insight': 1, 'archaeological': 2, 'past': 2, 'buried': 1, 'arrange': 4, 'eruption': 1, 'joya': 1, 'lives': 1, 'cerén': 1, 'populations': 1, 'under': 4, 'pre': 1, 'was': 7, 'volcanic': 2, 'hispanic': 1, 'preserved': 1, 'farming': 1, 'been': 8, 'something': 3, 'last': 2, '8am': 2, 'premise': 1, 'onsite': 42, 'foodie': 1, 'peloton': 1, 'plant': 2, 'inspired': 6, '28': 8, 'rim': 1, 'hosted': 1, 'fare': 3, 'session': 2, 'facility': 6, 'bento': 1, 'distilleries': 1, 'healthy': 4, 'join': 1, 'accepted': 1, 'hart': 1, 'enthusiast': 1, 'vibe': 1, 'classes': 2, 'few': 7, 'pounds': 1, 'tax': 4, 'picking': 1, 'feel': 7, 'pleasure': 4, 'senses': 2, 'brunch': 2, 'goods': 1, 'weeks': 1, 'winning': 9, \"you're\": 6, '30am': 1, '10pm': 3, 'skyline': 3, 'washer': 1, 'tuesday': 3, 'marketplace': 3, 'treadmills': 2, 'hand': 3, 'creates': 1, 'towel': 1, 'walkable': 1, 'essentials': 1, 'ceiling': 7, '5pm': 1, 'sunday': 2, 'uninterrupted': 2, 'goals': 1, 'floor': 13, 'events': 8, 'must': 3, 'bentoliving': 1, 'destination': 2, 'whether': 10, 'changing': 2, 'workouts': 1, 'max': 1, 'lined': 2, 'chestnut': 1, 'windows': 6, '2pm': 1, 'sweeping': 2, 'opening': 1, 'cocktails': 11, 'meet': 3, 'quick': 2, 'bootcamp': 1, 'friday': 3, 'bodega': 1, 'live': 12, 'award': 11, 'centered': 1, 'yoga': 1, 'strength': 1, 'nashville': 1, 'sweat': 1, 'per': 8, 'thoughtfully': 2, 'curated': 1, 'thursday': 1, 'dryer': 8, 'grocery': 3, 'handcrafted': 1, '9pm': 1, 'traveling': 4, 'instructors': 1, 'closed': 2, 'panoramic': 6, 'engage': 1, 'produce': 3, 'entire': 4, 'rooftop': 10, 'eat': 8, 'pets': 4, 'bikes': 5, 'mondays': 1, 'pacific': 3, 'frozen': 1, 'weekly': 3, '11pm': 1, 'nestled': 8, 'atrium': 1, '11am': 1, 'filtered': 1, 'nordictrack': 1, 'galleries': 3, 'alike': 4, 'wedding': 6, 'breathtaking': 5, 'vacation': 5, 'spectacular': 8, 'moments': 3, 'steps': 7, 'flagler': 1, 'lightner': 1, 'government': 2, 'colony': 1, 'order': 9, 'cooked': 5, 'encargos': 4, 'profissional': 1, 'menos': 5, 'antecedência': 5, 'anos': 5, 'aplica': 3, 'panama': 2, 'abre': 3, 'pais': 2, 'incluímos': 4, 'limitado': 3, 'deve': 1, 'externa': 5, 'culturais': 2, 'conforme': 2, 'cobrança': 1, 'mandatory': 4, 'utiliza': 1, 'contidas': 5, 'após': 5, 'variar': 2, '109': 1, 'realiza': 2, 'incluindo': 6, 'smart': 6, 'nos': 10, 'quando': 4, '10h': 1, 'primeira': 2, '16h00': 1, 'cobranças': 4, 'forneceu': 4, '465': 1, 'break': 3, 'planejando': 2, 'março': 1, 'privilégios': 1, '17h00': 3, 'devem': 7, 'ano': 1, 'varia': 1, 'sobre': 1, 'lock': 1, 'sujeito': 1, 'fornecidas': 3, 'instruções': 5, 'responsável': 3, 'tardio': 1, '47': 4, 'deverá': 5, '01': 1, 'dados': 1, 'abril': 1, 'essa': 2, 'listadas': 2, 'todas': 5, 'existentes': 3, 'conferência': 2, 'país': 2, 'idade': 2, 'guardiães': 2, 'feito': 1, 'coberto': 1, 'churrasqueiras': 2, 'eles': 2, 'unidade': 1, 'seguintes': 5, 'detalhes': 4, 'gratuita': 2, 'pagar': 4, 'pela': 12, '9h00': 1, 'esta': 6, 'quem': 3, 'administrativa': 1, 'normas': 2, 'políticas': 2, 'spring': 3, 'ocupam': 1, 'horário': 5, 'imposto': 3, 'lit': 2, 'printing': 3, 'coin': 7, 'wilderness': 1, 'dfw': 1, 'worth': 3, 'picnic': 8, 'trails': 3, 'grapevine': 1, 'completely': 5, 'photocopy': 1, 'eating': 2, '228': 1, 'result': 2, 'moby': 1, 'hotspot': 2, 'desserts': 1, 'beautiful': 20, 'breezes': 1, 'compete': 1, 'italian': 10, 'welcomes': 1, 'motorized': 1, 'coastal': 2, 'kids’': 1, 'still': 4, 'shaded': 1, 'receive': 2, \"we're\": 1, 'impromptu': 1, 'lane': 3, 'games': 4, 'does': 2, 'mexican': 3, 'further': 6, 'enormous': 1, 'very': 5, 'experienced': 1, 'leader': 1, 'reconnect': 1, 'eateries': 2, 'lobster': 1, \"royal's\": 1, 'overlooking': 17, 'buzz': 1, 'relief': 1, 'shrimp': 1, 'bingo': 1, 'heroes': 1, 'cheer': 1, 'ages': 2, 'note': 5, 'drinking': 2, 'failure': 1, 'themed': 1, 'safely': 1, 'evenings': 3, 'lots': 2, 'outstanding': 1, 'board': 10, 'average': 1, 'italiano': 1, 'tastefully': 3, 'oysters': 1, 'grown': 1, 'dinners': 4, 'love': 1, 'complemented': 1, 'corner': 4, 'select': 15, 'langosta': 1, 'specialties': 9, 'literally': 1, 'older': 1, 'late': 2, 'grounds': 7, 'directly': 10, 'shady': 1, 'ever': 1, \"you've\": 1, 'vita': 2, 'always': 1, 'bracelets': 1, 'young': 1, \"it's\": 2, 'premier': 5, 'djs': 2, 'mean': 2, 'nightly': 3, 'endless': 2, 'kids': 6, 'constantly': 1, 'gratuities': 1, 'menu': 14, 'years': 4, 'position': 2, 'leave': 4, 'veranda': 2, 'stretch': 1, 'regular': 1, 'eaters': 1, 'carefully': 3, 'charming': 8, 'chill': 1, 'different': 7, 'vacations': 1, 'butcher': 1, 'stocking': 1, 'complement': 1, 'aware': 1, 'expresso': 3, 'adult': 1, 'crabs': 1, 'land': 2, 'had': 1, 'dick': 1, 'plenty': 2, \"there's\": 4, 'wallet': 1, 'rotating': 1, 'bracing': 1, 'crafts': 2, 'storm': 2, 'automatic': 1, 'focal': 1, 'happening': 1, 'dolce': 1, 'tracks': 1, 'never': 2, 'exclusions': 1, 'locked': 1, 'due': 2, 'laying': 1, 'pay': 7, 'contained': 1, 'relaxing': 13, 'brain': 1, 'fantastic': 1, 'ixtapa': 3, 'goes': 1, 'confirm': 1, 'afternoon': 4, 'shot': 1, 'child': 1, 'developed': 1, 'finicky': 1, 'chefs': 1, 'pub': 3, 'refreshments': 3, 'programs': 2, 'piled': 1, 'host': 3, 'exceptional': 2, 'change': 2, 'plan': 3, 'considered': 1, 'back': 9, '91': 4, 'inframassan': 1, 'rotebro': 1, 'lift': 3, 'bite': 6, 'infra': 1, 'sitting': 7, 'stinsen': 1, 'kitchenettes': 4, 'sollentuna': 1, 'subject': 6, 'stovetops': 4, 'handicap': 2, 'design': 5, 'varieties': 1, 'incredible': 1, 'helpful': 2, 'since': 3, 'shea': 1, 'enjoyable': 3, 'chinatown': 1, 'flushing': 1, 'infuses': 1, 'ensuring': 3, 'committed': 1, '262': 1, 'bryggen': 1, 'vågen': 1, 'fløyen': 1, 'food': 12, 'scandic': 1, 'light': 12, 'wharf': 1, 'transformed': 1, 'neptun': 1, 'fløibanen': 1, 'fjord': 1, 'torgallmenningen': 1, 'torget': 1, 'bergen': 1, 'bergen’s': 1, 'mount': 4, 'furnicular': 1, 'tayrona': 1, 'nacional': 8, 'dê': 12, 'brizzamar': 1, 'catedral': 6, 'rodadero': 1, 'simon': 1, 'blanca': 1, 'bahía': 1, 'marta': 1, 'dios': 1, 'antiguo': 2, 'smr': 1, 'aquário': 2, 'petiscar': 7, 'juan': 3, 'quiser': 6, 'nabusimake': 1, 'bello': 2, 'mundo': 2, 'existe': 1, 'bolivar': 3, 'novios': 1, 'ementa': 6, 'arrecife': 1, 'zazué': 1, 'magdalena': 1, 'horizonte': 1, 'marino': 1, 'rodeo': 1, '86': 2, 'alternativa': 7, 'fios': 11, '160': 1, '53': 1, 'yavapai': 1, 'sharlot': 1, 'whiskey': 1, '1301': 1, 'bebida': 5, 'courthouse': 1, 'gateway': 2, 'prescott': 1, 'ctw': 1, 'termine': 5, 'prc': 1, 'arizona': 3, 'mails': 6, \"buckey's\": 1, 'preparados': 2, 'watson': 1, 'smoki': 1, 'cottonwood': 1, 'frontier': 1, 'row': 1, 'refrescante': 5, 'whipple': 1, 'pelos': 6, 'county': 7, 'whitewater': 1, 'furnishings': 8, 'skywalk': 1, 'kingman': 1, 'touring': 2, '66': 5, '122': 2, 'canyon': 1, 'hualapai': 1, 'rafting': 1, 'riverfront': 2, 'gift': 10, 'speak': 1, \"area's\": 3, 'northtown': 1, 'reading': 3, 'deluxe': 5, 'eagles': 1, 'baked': 1, 'malls': 2, 'material': 1, 'king': 6, 'courtyard': 11, 'cookies': 1, 'spokane': 1, 'va': 2, 'gonzaga': 1, 'holy': 1, 'mt': 1, 'operated': 6, 'whitworth': 1, 'oyo': 2, 'manito': 1, 'rena': 1, 'heads': 1, 'spanish': 2, 'practical': 1, 'spartanburg': 1, 'sirrine': 1, 'speaking': 2, 'english': 8, 'bulgarian': 1, 'bon': 1, 'greenville': 1, 'boasting': 3, 'peace': 3, 'secours': 1, 'bolivariana': 1, 'pueblito': 1, 'gomez': 1, 'ii': 1, 'toros': 1, 'disponibiliza': 1, 'parques': 1, 'lleras': 1, 'cordova': 1, 'río': 1, 'universidad': 1, 'metropolitano': 1, 'laureles': 1, 'aéreo': 1, 'pablo': 1, 'congressos': 4, 'descalzos': 1, 'belen': 1, 'gutierrez': 1, 'ciudadela': 1, 'públicas': 2, 'giradot': 1, 'carlos': 2, 'atanasio': 1, 'mayor': 2, 'biblioteca': 4, 'unicentro': 1, 'paisa': 1, 'covention': 1, 'pies': 2, 'medellín': 1, 'vieco': 1, 'botero': 1, 'coral': 2, 'medellin': 1, 'epm': 1, 'mde': 1, 'molinos': 1, 'jose': 2, 'macarena': 1, 'thomasville': 1, 'alabama': 3, 'southwest': 3, 'hjotel': 1, 'tarifas': 1, 'oz': 1, 'beira': 2, 'proporciona': 2, 'lunapark': 1, 'aquapark': 2, 'mar': 7, 'sealanya': 1, 'sarapsa': 1, 'ulas': 1, 'i̇ncekum': 1, 'fortaleza': 2, 'satélite': 14, 'milli': 1, 'egemenlik': 1, 'mesquita': 2, 'praça': 10, 'bebidas': 2, 'palmiye': 1, 'aplicar': 1, 'computadores': 4, 'bazaar': 3, 'relógio': 2, 'cleópatra': 1, 'regime': 2, 'alara': 1, 'localizados': 1, 'plajı': 1, 'plaj': 1, 'konakli': 1, 'han': 1, 'via': 22, 'pratos': 3, 'incluído': 1, 'alaettinoglu': 1, 'certas': 1, 'suplementares': 1, 'apertar': 1, 'ulus': 1, 'custos': 1, '358': 1, 'hani': 1, 'alanya': 2, 'halk': 1, 'alayna': 1, 'castelo': 3, 'man': 1, 'arnaldo': 1, 'pomodoro': 1, 'sixth': 1, 'savory': 3, 'ray': 1, 'genova': 1, 'sweet': 4, 'milan': 3, 'navigli': 1, 'dalì': 1, 'paintings': 1, 'large': 21, 'display': 1, 'turkish': 7, 'artworks': 1, 'boutiques': 2, 'porta': 2, 'sculptures': 1, 'garage': 3, 'artists': 2, 'timberview': 1, 'waffles': 3, 'carpeted': 5, 'floors': 11, 'mccarthy': 1, 'marysville': 1, 'warmly': 7, 'lookout': 2, 'computer': 10, 'alfresco': 3, 'weather': 6, 'permitting': 2, 'pick': 4, 'prinzenkopf': 1, 'mont': 3, 'vicinity': 12, 'ringhotel': 1, 'bömers': 1, 'bicycles': 6, 'alf': 1, 'vulkaneifel': 1, 'mosellandhotel': 1, 'thermal': 1, 'sure': 8, 'klettersteig': 1, 'calmont': 1, 'rent': 7, 'soothing': 2, 'reefs': 1, 'atoll': 2, 'reveries': 1, 'gan': 1, 'untouched': 1, 'laamu': 1, 'getaway': 2, 'sport': 4, 'interiors': 2, 'maldives': 4, 'kadhoo': 1, 'domestic': 1, 'tones': 3, 'male': 3, 'snorkeling': 5, 'assist': 3, 'costera': 1, 'pac': 1, 'esmeralda': 1, 'maracaná': 1, 'metropolitana': 1, 'pty': 1, 'hostal': 1, 'albrook': 1, 'exposições': 1, 'avenida': 2, 'merced': 1, 'independência': 1, 'mantenha': 6, 'pacífico': 1, 'através': 8, 'gelabert': 2, 'frank': 2, 'puente': 1, 'canal': 8, 'tocumen': 1, 'instituto': 1, 'estadio': 2, 'história': 2, 'ondas': 6, 'américas': 2, 'biodiversidade': 1, 'gehry': 1, 'prepare': 1, 'micro': 6, 'blb': 1, 'balboa': 1, 'smithsonian': 1, 'multiplaza': 1, 'panamá': 2, 'partilhada': 1, 'interoceânico': 1, 'marinhas': 1, 'amador': 1, 'marcos': 2, 'convenciones': 1, 'cinta': 1, 'ligação': 11, 'earthy': 1, 'wolfe': 1, 'devens': 1, 'tours': 5, 'adventures': 2, 'tail': 1, 'grill': 8, 'channel': 2, 'butterfly': 2, '37': 5, 'comfy': 1, 'storied': 1, 'hosts': 4, 'hrs': 1, 'alarm': 4, 'jfk': 2, 'stranded': 1, 'ac': 2, 'latest': 1, 'dial': 3, 'assortment': 3, '67': 3, 'menus': 4, 'call': 1, 'heater': 1, 'panel': 2, '40': 18, 'writing': 1, 'baths': 2, 'ccourteous': 1, 'mattresses': 1, 'vermelho': 1, 'ferroviário': 2, 'gyn': 1, 'genoveva': 1, 'planetário': 1, 'coralina': 1, 'feira': 2, 'às': 3, 'contemporânea': 1, 'hippie': 1, 'fé': 1, 'bandeirante': 1, 'cora': 1, 'raças': 1, 'mutirama': 1, 'goiânia': 1, 'violeiro': 1, 'três': 2, 'rio': 4, 'ufg': 1, 'araguaia': 1, 'convenções': 2, 'manor': 3, 'dating': 3, 'drayton': 1, 'lichfield': 1, 'steakhouse': 2, 'retain': 1, 'netherstowe': 1, 'spired': 1, 'snow': 1, 'tamworth': 1, 'walled': 1, 'century': 3, '12th': 1, 'brasserie': 2, 'fire': 2, 'nec': 1, 'dome': 2, 'loja': 2, '38': 4, 'míconos': 1, 'adicionalmente': 3, 'joalharia': 1, 'directa': 3, 'secador': 6, 'souvenirs': 2, 'aparelhagem': 1, 'secretariado': 1, 'terraço': 8, 'contempla': 2, 'antigo': 4, 'pátio': 2, 'aproximadamente': 6, 'novo': 3, 'ag': 2, 'espaçosos': 1, 'situa': 4, 'lugares': 1, 'quais': 2, 'regulado': 1, 'stefanos': 1, 'cofre': 9, 'compreende': 2, 'benches': 2, 'peter’s': 1, 'pass': 2, 'busses': 3, 'vatican': 1, 'green': 10, 'noi': 1, 'tra': 1, 'rome’s': 2, 'behind': 2, 'aires': 2, 'corso': 1, 'preparar': 1, 'bilhetes': 1, 'das': 9, 'apoio': 1, 'castello': 2, 'contactável': 2, 'pinacoteca': 1, 'favoritos': 1, 'excursões': 4, 'milão': 1, 'di': 2, 'complexo': 2, 'polegadas': 2, 'destaque': 1, 'independente': 1, 'buenos': 2, 'brera': 1, 'compra': 1, 'climatizados': 1, 'fogão': 1, 'sforzesco': 1, 'algumas': 1, 'pago': 3, 'escritório': 2, 'fridges': 1, 'antonio': 2, \"antonio's\": 1, 'conscious': 1, 'fuel': 1, 'story': 5, 'ingram': 1, 'econo': 4, 'lackland': 1, 'freebies': 1, '410': 1, 'bonuses': 1, 'value': 6, 'seeking': 1, 'fiesta': 4, 'option': 3, 'zoo': 11, 'alamo': 2, 'arcade': 2, '1346': 1, 'dipping': 1, 'spend': 4, \"property's\": 4, 'pools': 9, 'balconies': 18, 'scape': 1, 'designer': 5, 'ziva': 1, 'dry': 16, 'stations': 9, 'tubs': 4, 'juanillo': 1, 'cana': 1, 'comforters': 2, 'tempest': 1, 'asian': 6, 'patios': 5, '375': 1, 'establishments': 3, 'applied': 3, 'bavaro': 1, 'rates': 5, 'measuring': 6, '14488': 1, 'cap': 1, 'qoba': 1, '2007': 1, 'cairo': 1, 'established': 1, 'suburbs': 2, 'citystars': 1, '8h00': 2, 'proibida': 3, '16h00esta': 1, 'segunda': 1, 'horários': 1, 'cães': 3, 'guia': 4, 'nem': 3, 'elevador': 7, 'sábado': 1, '48': 5, 'chanute': 1, 'copying': 1, 'humboldt': 1, 'speedway': 2, 'osa': 1, 'stone': 5, 'safari': 1, 'johnson': 3, 'sante': 1, 'fe': 3, 'quarry': 1, 'kyoto': 1, 'ramen': 1, 'japanese': 2, 'interchangeably': 1, 'jr': 3, 'interchange': 1, 'shosei': 1, 'minami': 1, 'elcient': 1, 'compact': 2, 'noodle': 2, 'blancs': 1, 'les': 6, 'cerf': 1, 'régional': 1, '2133': 2, 'chênes': 1, 'pétrus': 1, 'ballons': 1, 'naturel': 1, 'coq': 1, 'du': 8, 'classic': 5, 'vosges': 2, 'fritz': 1, 'prepares': 1, 'pavillon': 1, 'lac': 1, 'gourmet': 2, 'decor': 1, 'chic': 3, \"l'assiette\": 1, 'gerardmer': 1, 'parc': 7, \"l'ane\": 1, 'adriatic': 1, 'secluded': 1, 'sunbathing': 1, 'vrboska': 1, 'labranda': 2, 'jelsa': 1, 'grad': 1, 'accessed': 1, 'forested': 1, 'stari': 1, 'ferry': 5, '2016': 1, 'acres': 4, 'stourport': 1, 'kidderminster': 1, 'bedrooms': 3, 'hold': 4, 'tourism': 1, 'worcester': 1, 'roads': 1, 'refurbished': 2, 'sheikh': 2, 'ladies': 2, 'abu': 1, 'eight': 1, 'yas': 1, 'ferrari': 1, 'cuisines': 2, 'fit': 2, 'mosque': 4, 'zayed': 1, 'beauty': 10, 'zayna': 1, 'wahda': 1, 'cardiovascular': 4, 'waterworld': 1, 'dhabi’s': 1, 'direct': 11, 'indulge': 2, 'dhabi': 1, 'treatment': 3, 'above': 4, 'pleasant': 4, 'naval': 2, 'aquarium': 7, 'charleston': 1, 'pavilion': 4, 'charlottesville': 1, 'meadowcreek': 1, 'kluge': 1, 'ruhe': 1, 'connection': 2, 'virginia': 4, 'pantry': 2, 'aboriginal': 1, 'waterway': 1, 'customer': 1, 'gorge': 2, 'neighbourhood': 1, 'inner': 2, 'burton': 1, 'penas': 2, 'boy': 1, 'exchange': 4, 'completos': 1, 'richardson': 1, 'archives': 1, 'maçónico': 1, 'privacidade': 1, 'provincial': 2, 'ballet': 1, 'canadiano': 1, 'templo': 2, 'humanos': 1, 'prove': 1, 'bell': 2, 'portage': 1, '140': 1, 'mts': 1, 'edredões': 2, 'peppermill': 1, 'armstrong': 2, 'ywg': 1, 'edifício': 4, 'iguarias': 1, 'permanecer': 1, 'ecossustentável': 1, 'cummings': 1, 'direitos': 1, 'aposentos': 1, 'winnipeg': 1, 'legislativo': 1, 'rbc': 1, 'americana': 1, 'manitoba': 1, 'sand': 4, '334': 1, 'riviera': 2, 'black': 5, \"resort's\": 4, 'avani': 1, 'surf': 3, 'fontana': 1, 'getting': 6, 'breeze': 6, 'estate': 1, 'abbey': 2, 'noon': 1, 'beverage': 3, 'big': 1, 'tasty': 1, 'geneva': 1, '240°': 1, '40000': 1, '3716': 1, 'baterias': 5, 'multilingue': 7, 'joy': 1, 'dhotel': 3, 'bourbon': 1, 'orleães': 1, 'audubon': 1, 'lendas': 1, 'chamadas': 5, 'saenger': 1, 'medicine': 1, 'superdome': 1, 'recarregar': 5, '07': 7, 'musicais': 1, 'decatur': 1, 'louis': 4, 'vinache': 1, 'insectarium': 1, 'assistência': 10, 'congo': 1, 'financeira': 1, 'luisiana': 1, '155': 1, 'msy': 1, 'lsu': 1, 'sciences': 2, 'orleans': 1, 'tulane': 1, 'beige': 1, 'brown': 3, 'mix': 2, 'colors': 2, 'bites': 1, '164': 3, 'konyaalti': 1, 'parquet': 1, 'antalya': 1, 'admire': 1, 'adjoining': 1, 'migros': 1, 'wooden': 5, 'albuquerque': 1, 'block': 2, '51': 3, '531': 1, 'kennedy': 1, 'rodeway': 3, 'citi': 2, 'john': 3, 'print': 1, 'chavez': 2, 'jorge': 1, 'cafes': 2, 'larcomar': 1, 'handicraft': 1, 'miraflores': 1, 'tourist': 9, 'miramar': 2, 'nrg': 1, 'hobby': 2, 'oracle': 1, 'co': 3, 'hayward': 1, 'sleepers': 1, 'oakland': 2, 'east': 7, 'coliseum': 3, 'stand': 1, 'mansion': 4, 'extended': 2, 'burgers': 1, 'daly': 1, 'pancakes': 2, 'gold': 1, 'bakery': 2, 'lost': 3, 'salads': 2, 'boasts': 5, 'showcasing': 1, 'comfortably': 1, 'perkins': 1, 'enschede': 1, 'plunge': 2, 'hectares': 2, 'woodland': 1, 'ingredients': 2, 'boekelo': 1, 'haaksbergen': 1, 'a1': 1, 'combine': 2, 'bad': 3, 'a35': 1, 'moods': 1, 'hengelo': 1, 'motorway': 5, 'smoky': 2, 'mountains': 9, 'forge': 1, 'dollywood': 1, 'pigeon': 1, 'brook': 1, 'catering': 3, 'banquet': 3, 'doubletree': 3, 'interstates': 2, 'brookfield': 1, \"oakbrook's\": 1, '88': 1, '355': 1, 'exploring': 7, 'mongkok': 1, 'dorsett': 1, 'tsui': 1, 'benchmark': 1, 'hong': 1, 'kok': 1, 'attained': 1, 'status': 2, 'imagination': 1, 'attention': 2, 'bronze': 1, 'earthcheck': 1, 'pampered': 1, 'mtr': 1, 'tai': 1, 'whirlwind': 1, 'anytime': 1, 'everywhere': 1, 'philosophy': 1, 'kowloon': 1, 'dishwasher': 4, 'expo': 4, 'fredericksburg': 2, 'waterworks': 1, 'ergonomic': 4, 'brewed': 2, 'freshly': 3, 'thomas': 1, 'winery': 5, 'teas': 1, 'coffees': 1, 'stanley': 1, 'meadow': 2, 'elgin': 1, 'pine': 3, 'thornberry': 1, 'tree': 2, 'purcell’s': 1, 'browns': 1, 'lambeau': 1, 'excitement': 2, 'classics': 2, 'austin': 3, 'wisconsin': 5, 'starbucks': 2, 'oneida': 1, 'rich': 4, 'straubel': 1, 'ocean': 14, 'luxurious': 6, 'cascais': 1, 'winter': 4, 'guincho': 1, 'taste': 1, 'salt': 3, 'atlantic': 4, 'colder': 2, 'romantic': 2, 'risotto': 1, 'trees': 3, 'restaurant’s': 1, 'hancock': 3, 'people': 8, 'harbor': 11, 'functions': 2, 'oswego': 1, 'accommodate': 6, 'syracuse': 4, 'theaters': 2, 'competitive': 1, 'ideally': 7, 'kentucky': 3, 'lakeside': 1, \"mintues'\": 1, 'lincoln': 3, 'boone': 2, 'hamburg': 1, 'rupp': 1, 'lexington': 2, 'todd': 1, 'mary': 3, 'laquinta': 1, 'tourists': 4, 'handy': 6, 'native': 1, 'wheelchair': 1, 'reasons': 5, 'should': 4, 'bankside': 1, 'guestroom': 8, 'elegantly': 8, 'necessary': 4, 'outside': 7, 'puts': 7, 'cafetaria': 3, 'terá': 1, 'encontrará': 4, 'província': 1, 'botânico': 1, 'sm': 1, 'likha': 1, 'direito': 2, 'dejavu': 1, 'baguio': 1, 'teachers': 1, 'jantares': 1, 'desdobráveis': 1, 'desfrutar': 1, 'ourivesaria': 1, 'saint': 8, 'salto': 1, 'hay': 2, 'spoon': 1, 'gruta': 1, 'especializado': 1, 'ili': 1, 'ligeiras': 1, 'lourdes': 1, 'burnham': 1, 'fusion': 2, 'subway': 2, 'sapporo': 2, 'movies': 5, 'odori': 1, 'susukino': 1, 'beds': 7, 'cepage': 1, 'humidifying': 1, 'hokkaido': 1, 'purifier': 1, 'concordia': 1, 'electrical': 1, 'barcelona': 3, 'españa': 2, 'exhibition': 10, 'barcelona’s': 4, 'fira': 3, 'rambla': 1, 'charging': 1, 'bistro': 6, 'characteristic': 1, 'triple': 1, 'poble': 1, 'journey': 1, 'sec': 1, 'cars': 2, 'placed': 3, 'mark': 2, 'yale': 1, 'twain': 1, 'mystic': 2, 'motorways': 1, 'powder': 1, 'connecticut': 1, 'seaport': 2, 'meriden': 1, 'mid': 3, 'newman': 1, 'towne': 3, 'continent': 1, 'wichita': 1, 'wardrobe': 5, 'adina': 1, 'these': 4, 'spark': 1, '500mb': 1, 'precinct': 1, 'devices': 2, 'britomart': 1, 'november': 1, 'auckland': 2, 'sky': 4, '2015': 3, 'sevilla': 1, 'madrid': 2, '328': 5, 'petit': 1, 'puerta': 1, 'artes': 2, 'availability': 1, 'alcala': 1, 'dynamic': 1, \"madrid's\": 1, 'multidisciplinary': 1, 'see': 5, 'inside': 3, 'sofía': 2, '1930s': 1, 'círculo': 1, 'reina': 1, 'what': 4, 'atocha': 1, 'bellas': 2, 'skyscraper': 1, 'palace': 13, 'emblematic': 1, '820': 3, 'prado': 1, 'thyssen': 2, 'nouveau': 2, 'laptop': 2, 'venezia': 1, 'clubs': 1, 'eurohotel': 1, 'book': 3, 'malpensa': 1, '1920s': 1, 'montenapoleone': 1, 'dates': 1, 'organize': 2, 'rolls': 2, 'quantico': 1, 'yogurt': 4, 'invited': 5, 'anna': 1, 'following': 3, 'news': 2, \"lee's\": 1, 'cinnamon': 2, 'classroom': 1, 'riverside': 2, 'cracker': 1, 'battlefields': 2, 'army': 2, 'dominion': 1, 'visiting': 11, 'kenmore': 1, \"washington's\": 1, \"soldier's\": 1, 'civil': 4, 'cnn': 1, 'southpoint': 1, 'boardroom': 1, 'espn': 3, 'fox': 2, 'corps': 1, 'accommodates': 1, 'celebrate': 1, 'hazelwild': 1, 'buffs': 1, 'monroe': 1, 'meat': 6, 'germanna': 1, 'barrel': 2, 'browsing': 1, 'war': 4, 'enthusiasts': 3, 'spotsylvania': 1, 'marine': 3, 'patriot': 1, 'zanesville': 1, 'longaberger': 1, '70': 4, 'cliff': 1, 'weekend': 2, 'array': 5, 'mansions': 1, 'newport’s': 1, 'rhode': 2, 'sunset': 2, 'newport': 3, 'popol': 1, 'nah': 1, 'posada': 2, 'steak': 1, 'flowers': 2, 'ramon': 1, 'sula': 1, 'villeda': 1, 'pedro': 2, 'churrasqueria': 1, 'copantl': 1, 'receiving': 1, 'extensive': 5, '2001': 1, 'data': 1, 'undergone': 1, 'double': 3, 'corridors': 2, 'caf': 1, 'economy': 1, 'without': 1, 'same': 4, 'hookup': 1, 'faxes': 1, 'exterior': 3, 'odessa': 1, 'ease': 1, 'ottoman': 2, 'substituted': 1, 'petroleum': 1, 'race': 2, 'renovations': 1, '131': 1, 'communications': 1, 'photocopying': 4, 'exit': 2, '250': 2, 'track': 3, 'hague': 2, 'brings': 2, 'line': 1, 'haag': 1, 'return': 1, 'scheveningen': 2, 'fletcher': 1, 'busy': 3, 'vredespaleis': 2, 'communal': 5, 'intimate': 1, 'van': 1, 'fondue': 1, 'den': 1, 'magazines': 2, 'connections': 4, 'stadshotel': 1, 'excellent': 11, 'chocolate': 1, 'speijk': 1, 'bubbles': 1, '2461': 3, 'pinellas': 1, 'pete': 1, 'dali': 1, 'hua': 1, 'readily': 1, 'cha': 1, 'suit': 3, 'wonders': 1, 'my': 1, 'hin': 1, 'guide': 5, 'through': 11, 'amongst': 4, 'minded': 5, 'colatina': 1, 'ibis': 1, 'passing': 4, 'rejuvenate': 2, 'eagan': 1, 'providing': 5, 'tcf': 1, 'paul': 5, 'minneapolis': 3, 'lakes': 3, 'omni': 1, 'viking': 1, 'chula': 1, 'eastlake': 1, 'americas': 3, 'tijuana': 1, 'depot': 1, 'amtrak': 1, 'cologne': 2, 'domstern': 1, 'lies': 4, 'buffets': 2, 'bahn': 1, 'side': 3, 'koelnmesse': 1, 'reef': 3, 'maafushi': 1, 'kefalonia': 1, 'kyriaki': 1, 'kimilia': 1, 'athéras': 1, 'agia': 1, 'dafnoudi': 1, 'efl': 1, 'foki': 1, 'agiá': 1, 'argostoli': 1, '52': 1, 'jerusalem': 1, 'myrtos': 1, 'emblisi': 1, 'fiskardo': 1, 'eliés': 1, 'farão': 2, 'alatiés': 1, '09': 2, 'vouti': 1, 'placa': 1, 'ionian': 2, 'cosy': 1, 'arriving': 1, 'ensures': 1, 'establishment': 2, 'moreover': 1, 'negra': 1, 'vehicles': 2, 'dip': 1, 'appointed': 8, 'positioned': 1, 'severo': 1, 'anyone': 1, 'fairs': 1, 'them': 4, 'travellers': 4, 'augusto': 1, 'natal': 1, 'ponta': 1, 'interesting': 1, 'baggage': 1, 'stairs': 2, 'kilometres': 1, 'estiver': 1, 'variedade': 1, 'assinatura': 1, 'assinar': 1, 'viagens': 2, 'nascimento': 1, 'caso': 1, 'mãe': 1, 'cartório': 1, 'recreativas': 8, 'balcão': 3, 'pretendem': 1, '14h00': 2, 'assinada': 1, 'incêndio': 1, 'passaporte': 1, 'consulado': 1, 'estejam': 1, 'diretrizes': 2, 'exemplo': 1, 'apresentar': 2, 'pai': 1, 'identidade': 1, 'outro': 1, 'autorização': 1, 'dispostos': 1, 'judicial': 1, 'seca': 3, 'consultar': 1, 'viajando': 1, 'aplicável': 1, 'certidão': 1, 'criança': 1, 'brasileiro': 1, 'turista': 1, 'extintor': 1, 'reconhecimento': 1, 'necessária': 1, 'será': 2, 'carta': 1, 'cdc': 2, 'brasil': 2, 'ocupa': 1, 'desfrute': 2, 'protegido': 1, 'orly': 2, 'notre': 2, '182': 1, 'gare': 2, 'italie': 1, 'berços': 3, 'bois': 1, 'ory': 2, 'bastilha': 2, 'arrondissement': 1, 'dame': 3, 'luxembourg': 2, 'gaulle': 3, 'hôpital': 3, 'universidade': 5, 'rua': 3, 'roissy': 3, 'catacumbas': 1, 'automática': 1, '13e': 1, 'b': 4, 'versailles': 1, 'salpétrière': 2, 'vincennes': 1, 'pitié': 2, 'examens': 1, 'rocherau': 1, 'seine': 1, 'denfert': 1, 'accorhotels': 2, 'venda': 1, 'ópera': 4, \"d'italie\": 1, 'charles': 3, \"d'austerlitz\": 1, 'arr': 1, 'choisy': 2, 'sorbonne': 1, 'máquina': 2, 'maison': 1, 'ivry': 1, 'mouffetard': 2, 'porte': 2, 'louvre': 2, 'bercy': 2, 'cdg': 3, 'foi': 3, 'exercitar': 1, 'compreendem': 1, 'inaugurado': 2, 'privativa': 2, 'poucos': 3, '1973': 1, 'imediações': 2, '333': 1, 'zurique': 1, 'conjunto': 1, 'engomar': 4, 'independencia': 2, 'batista': 1, 'praca': 1, 'joao': 1, 'quadrado': 1, 'tancredo': 1, 'neves': 1, 'infant': 2, 'minibars': 5, 'cribs': 2, 'trancoso': 1, 'sao': 2, 'calypso': 1, 'ft²': 1, '2011': 2, 'trier': 1, 'rhineland': 1, 'nells': 1, 'nord': 1, 'palatinate': 1, 'received': 1, 'saunas': 1, 'beers': 3, 'year': 3, 'moselle': 1, 'transfer': 7, 'charlotte': 3, 'uptown': 2, 'douglas': 2, 'choose': 5, 'teton': 1, 'valley': 11, 'inspiring': 1, 'america’s': 1, 'jackson': 1, 'rugged': 1, 'runs': 1, 'hole': 4, 'alpine': 2, 'celebrated': 1, 'peaks': 1, 'verdant': 1, 'unforgettable': 6, 'heating': 6, 'combines': 4, 'broadway': 2, 'ny': 1, 'lovely': 5, 'ambiance': 5, 'writer': 1, 'literary': 1, 'beaux': 1, 'rouen': 1, 'bw': 2, 'honor': 1, 'musée': 3, 'flaubert': 1, 'littéraire': 1, 'noter': 1, 'kindarena': 1, 'gustave': 1, 'wvi': 1, 'cafeteiras': 3, 'portáteis': 3, 'trademark': 1, 'patent': 1, 'adobe': 1, 'capacidade': 3, 'cesar': 1, 'mineta': 1, 'picchu': 1, 'bules': 3, 'califórnia': 1, 'silicon': 1, 'macchu': 1, 'sjc': 1, 'tech': 2, 'câmara': 6, '73': 1, 'montgomery': 1, 'clariana': 1, 'norman': 1, 'interactive': 2, 'watsonville': 1, 'impressive': 3, 'spindles': 1, 'dover': 1, 'crossings': 1, 'folkestone': 1, 'france': 5, 'burstin': 1, 'ballroom': 2, 'victorian': 3, 'specials': 2, 'formal': 1, 'maritime': 2, 'cabarets': 1, 'terminals': 2, 'duncan': 1, 'lucky': 1, 'eagle': 3, 'kicakpoo': 1, 'border': 2, 'obregón': 1, 'thoroughfare': 1, 'divided': 1, 'amsterdam': 3, '747': 1, 'urban': 2, 'badhoevedorp': 1, '298': 1, 'corendon': 1, 'skybar': 1, '680': 2, 'boeing': 1, 'tickets': 2, 'bazar': 2, 'schiphol': 2, '207': 1, 'bangna': 1, 'amarin': 1, 'trade': 4, 'embassy': 2, 'mega': 2, 'lumpini': 1, 'sirikit': 1, 'bitec': 1, 'emporium': 1, 'bizotel': 1, 'suvarnabhumi': 2, 'montreal': 1, 'darlington': 1, 'summer': 7, 'montréal’s': 1, 'javeriana': 1, 'ignacio': 1, 'chapinero': 1, 'bogota': 2, 'monserrate': 1, 'olimpo': 1, 'appetite': 4, 'genoan': 1, 'piazza': 2, 'principe': 2, 'galata': 2, 'genoa’s': 1, 'cruise': 1, 'seneca': 2, 'williamsville': 1, 'riverview': 2, \"tony's\": 1, 'society': 3, \"hartley's\": 1, 'massachusetts': 2, '104': 2, 'ewb': 1, 'battleship': 3, 'pork': 1, 'historical': 7, 'bedford': 2, 'npt': 1, 'providence': 1, 'uss': 2, 'lafayette': 1, 'cove': 3, \"anne's\": 1, 'logan': 2, 'durfee': 1, 'williams': 1, 'lizzie': 1, 'roger': 1, 'quonset': 1, 'fall': 1, 'nco': 1, 'steward': 1, 'management': 1, 'fallriver': 1, '54': 1, 'somerset': 1, 'kingstown': 1, 'greater': 3, 'ri': 1, 'pvd': 1, 'pain': 1, 'bos': 1, 'borden': 1, 'control': 1, '87': 1, 'narrows': 1, 'ramblas': 1, 'pedrera': 1, 'antibes': 2, 'familia': 1, 'eixample': 2, 'sagrada': 1, 'monumental': 1, 'gaudí’s': 1, 'gluten': 1, 'batlló': 1, 'antibes’s': 1, 'acta': 1, 'catalunya': 2, 'keurig®': 1, '81': 2, 'armory': 1, 'shades': 1, 'gifford': 1, 'rosamond': 1, 'blocking': 1, 'waterford': 1, 'springhill': 3, 'mohegan': 1, 'aviation': 1, \"trott's\": 1, 'domain': 1, 'regency': 3, \"ashburton's\": 1, \"motel's\": 1, 'ashburton': 1, 'laurentina': 1, 'warmer': 1, 'aran': 1, 'monuments': 2, 'months': 1, 'arranges': 1, 'garbatella': 1, 'interested': 2, 'lay': 1, 'termini': 1, 'landmarks': 3, 'occidental': 1, 'euros': 1, 'ancient': 2, 'specialities': 1, 'eur': 5, 'raceway': 2, 'pirates': 1, 'jacinto': 1, 'baytown': 1, 'half': 10, 'powell': 1, 'roland': 1, 'seashore': 1, 'salisbury': 3, 'oceanfront': 2, 'boardwalk': 2, 'assateague': 1, 'saving': 1, 'wicomico': 2, 'nobis': 1, 'hotels™': 1, 'clara': 2, 'stockholm': 1, 'bothin': 1, 'drottninggatan': 1, 'noveau': 1, 'hötorget': 1, 'swedish': 1, 'tile': 1, 'stockholm’s': 2, 'bathrobes': 3, 'limestone': 2, 'clara’s': 1, 'lyon': 1, 'cortinados': 1, 'rivoli': 1, 'opacos': 1, 'campos': 1, 'boulevards': 1, 'midi': 2, 'picasso': 3, 'cité': 1, 'elísios': 1, 'rue': 3, 'nation': 2, 'cortinas': 1, 'grands': 2, 'île': 1, 'bastille': 1, 'bbva': 1, 'william': 2, 'pasadena': 1, 'toyota': 1, 'dynamo': 1, 'oven': 7, 'neoclassical': 1, 'atmosphere': 5, 'exude': 1, 'typical': 2, 'architectural': 1, 'corfu': 1, 'lush': 1, 'colours': 1, 'kapodistrias': 1, 'regulated': 1, 'younger': 2, 'gouvia': 1, 'corfiot': 1, 'danillia': 1, 'ioannis': 1, 'comprises': 2, 'approximately': 4, 'calm': 2, 'ramada': 4, 'molières': 1, 'truffle': 1, 'roucous': 1, 'blagnac': 1, 'toulouse': 2, 'aiguillons': 1, 'waechter': 1, 'montauban': 1, 'dunn': 1, 'averasboro': 1, 'deserved': 2, 'malabanas': 1, 'retiring': 2, 'enjoyment': 2, \"guest's\": 1, 'rest': 5, 'winds': 2, 'hohai': 1, 'palácio': 4, 'chaotian': 1, 'sofitel': 1, 'separados': 3, 'nanjing': 1, 'pharmaceutical': 1, 'xuanwu': 1, '352': 1, 'xuan': 1, 'china': 1, 'muralhas': 1, 'temple': 4, 'lukou': 1, 'tecnologia': 1, 'nkg': 1, 'normal': 1, 'jiangsu': 1, 'galaxy': 1, 'wu': 1, 'qingliangshan': 1, 'tambor': 1, 'jiming': 1, 'suning': 1, '1800': 2, 'sudeste': 1, 'soaking': 3, 'hippodrome': 1, 'yarmouth': 2, 'swanvale': 1, 'broads': 1, 'norfolk': 1, 'circus': 1, 'combinations': 3, 'deep': 3, 'plush': 2, 'twin': 5, 'singapore': 1, 'luxuriously': 2, 'houses': 1, 'l200': 1, 'axis': 2, 'fares': 1, 'trattoria': 1, 'accessibility': 2, 'straits': 1, 'bahru': 1, 'johor': 1, 'w135': 1, 'sizes': 1, 'changi': 1, 'pillow': 3, 'makan': 1, 'sentral': 1, 'vast': 2, 'x': 1, 'causeway': 1, 'supporting': 1, 'senai': 1, 'tosca': 1, 'omaha': 2, 'ia': 1, 'ameritrade': 1, 'td': 1, 'bluffs': 1, 'airfield': 1, 'able': 2, 'eppley': 1, 'deseja': 1, 'opção': 1, 'oferecemos': 1, '\\rterá': 1, 'simples': 1, 'gastá': 1, 'energias': 1, 'maior': 1, 'desfrutando': 1, 'passeios': 1, 'bolos': 1, 'certeza': 1, 'temos': 1, 'pequena': 1, 'salgados': 1, 'afinal': 1, 'aqui': 1, 'suco': 1, 'aptº': 1, 'tranquilidade': 1, 'feliz': 1, 'especial': 1, 'cada': 4, 'facilidade': 1, 'frutas': 1, 'preço': 1, 'justo': 1, 'frios': 1, '\\r\\ro': 2, 'vaga': 2, 'luxo': 1, 'pois': 1, 'locomoção': 1, 'visitar': 1, 'infraestrutura': 2, 'garantindo': 1, 'cheio': 1, 'somos': 1, 'proposta': 1, 'ter': 2, 'sério': 1, 'descansar': 1, 'agradável': 2, '\\r\\restaconamento': 1, 'ótima': 2, 'lojas': 2, 'pães': 1, 'quer': 1, '\\r\\rcafé': 1, 'automóvel': 1, 'pernoitar': 1, 'ms': 2, 'tornar': 3, 'compromisso': 1, 'bonito': 1, 'mesmo': 1, 'precisar': 1, 'needle': 1, 'muckleshoot': 1, 'pike': 1, 'wyndham': 13, 'tacoma': 1, 'kent': 1, 'menlo': 1, 'especially': 2, 'exchanged': 1, 'stovetop': 2, 'woodbridge': 1, 'pillows': 2, 'raritan': 1, 'upgraded': 1, 'edison': 1, '525': 1, 'a4': 1, 'hoofddorp': 1, 'amsterdam’s': 1, 'boxes': 3, 'superior': 1, \"gasthof's\": 1, 'marienthaler': 1, 'issel': 1, 'marienthal': 1, 'hohe': 1, 'forests': 2, 'beside': 2, 'gasthof': 1, 'stands': 2, 'monastery': 3, 'hamminkeln': 1, 'fields': 1, 'onondaga': 1, 'fireside': 1, 'craftsman': 1, 'dark': 4, 'bidet': 3, 'halal': 1, 'emiri': 1, 'billiards': 3, 'diwan': 1, 'amt': 1, 'qatar': 1, 'doha': 1, 'souq': 1, 'mena': 1, 'currency': 3, 'waqif': 1, 'playing': 1, 'neighborhoods': 1, 'navigate': 1, 'scheduling': 1, 'jet': 2, 'biscayne': 1, 'skis': 1, 'ftx': 1, 'degree': 1, 'reserving': 1, '360': 1, 'bayside': 1, 'districts': 2, 'bay’s': 1, 'much': 2, '39': 4, 'arsen': 1, 'arsin': 1, 'region': 8, 'sumela': 1, 'organizations': 1, 'tastes': 1, 'trabzon': 1, 'rochelle': 1, \"appart'city\": 1, '105': 2, 'expositions': 1, 'itália': 1, 'brazilian': 1, 'alcazar': 1, 'gran': 4, 'republica': 1, 'reflexu': 1, 'attached': 2, 'onto': 1, 'face': 1, 'kensington': 2, 'banks': 1, 'olympia': 1, 'ft': 6, 'registrados': 1, 'reservas': 1, 'visita': 1, 'piscinas': 2, 'estilo': 2, 'reservar': 1, 'entrando': 2, 'contra': 1, 'higienizada': 1, 'feitas': 1, 'cama': 3, 'meia': 3, 'internas': 1, 'concluído': 1, '23h30': 1, 'teste': 1, 'comprovação': 1, 'curtir': 1, 'necessário': 1, 'lacradas': 1, 'try': 3, 'especialista': 1, 'fornecido': 4, 'relativos': 1, 'turismo': 3, 'dobrável': 2, 'piquenique': 2, 'spray': 1, 'pessoa': 4, 'presenteie': 1, 'vacinação': 1, 'aplicam': 1, 'adjacentes': 2, 'ciclo': 1, 'certificação': 1, 'portas': 1, 'pcr': 1, 'contatando': 1, '300': 2, 'conectados': 2, 'ecolab': 1, 'seguro': 2, 'massagem': 1, 'completo': 2, 'massagens': 3, 'eletroestático': 1, 'sistema': 3, 'turquia': 1, 'permitido': 2, 'tratamentos': 1, 'certamente': 1, 'solicitados': 2, 'terceiro': 1, 'número': 3, 'programa': 2, 'deverão': 1, 'bonita': 1, 'tamiami': 1, '41': 3, 'ortus': 1, 'naples': 2, 'bohol': 1, 'makes': 5, 'arabelle': 1, 'cuba': 2, 'address': 2, 'varadero': 1, 'hairdresser': 1, 'jacuzzi': 4, 'carretera': 1, 'supermarket': 1, 'miniclub': 1, 'historia': 2, 'hagia': 1, 'eminönü': 1, 'fatih': 1, 'sabiha': 1, 'spice': 1, 'saw': 1, 'sultanahmet': 1, 'yenikapı': 1, 'túmulo': 1, 'ahmet': 1, 'termas': 2, 'prala': 1, 'istambul': 1, 'column': 1, 'gokcen': 1, 'cemberlitas': 1, 'çemberlitas': 1, 'azul': 1, 'sophia': 3, 'florin': 1, 'sultão': 1, 'turca': 1, 'ist': 1, 'beyazıt': 1, 'constantine': 1, 'islâmica': 1, 'hamami': 1, 'cisterna': 1, 'suleymaniye': 1, 'sofia': 1, 'bainbridge': 1, 'limits': 1, 'outer': 1, 'zone': 3, 'dove': 2, 'calories': 1, 'given': 1, 'burn': 1, 'then': 3, 'começa': 1, 'tire': 2, 'puros': 1, 'partir': 2, 'partido': 2, 'várias': 4, 'soberbas': 1, 'açoteia': 1, 'descontração': 1, 'contemplar': 1, 'aceitam': 1, 'sleeper': 4, 'riding': 5, 'rock': 6, 'golfing': 4, 'cross': 2, 'dells': 1, 'affordable': 1, 'halls': 2, 'horseback': 4, 'mauston': 1, 'canoeing': 2, 'snowmobile': 1, 'interior': 4, 'biking': 4, 'truck': 3, 'oregon': 2, 'devils': 1, 'chinook': 1, 'serene': 4, 'doing': 1, 'protected': 2, 'lazy': 2, 'hendaye': 1, '110': 1, 'orhoïtza': 1, 'atout': 1, 'desenvolvimento': 1, 'devido': 3, 'classificação': 1, 'chá': 1, 'frança': 1, 'esse': 2, 'reduções': 2, 'recebeu': 1, 'transações': 3, 'chegar': 2, 'vazio': 1, 'agência': 1, 'pagamento': 1, '19h00': 2, 'jantar': 3, '11h00': 1, 'exceder': 3, 'planeja': 2, 'regulamentação': 3, 'multilíngue': 1, 'cobrado': 2, 'avançado': 1, 'aprecie': 5, '1000': 2, 'cobra': 2, 'terças': 1, 'permanece': 1, 'isenções': 2, 'quartas': 1, 'mínimo': 1, 'ingressos': 3, 'fechadas': 1, 'espécie': 1, 'alimentar': 1, 'observe': 2, 'esquis': 1, 'arenito': 1, 'fmo': 1, 'nöttler': 1, 'sasse': 1, 'emsflower': 1, 'bentheim': 1, 'bargerveen': 1, 'hollich': 1, 'steinfurt': 1, 'naturagart': 1, 'bourtanger': 1, 'penhascos': 1, 'osnabrück': 2, 'moinho': 1, 'suren': 1, 'haddorfer': 1, 'motas': 1, 'münster': 1, 'caça': 1, 'moor': 2, 'emsbueren': 1, 'hoerstel': 1, 'terra': 1, 'berg': 1, 'doerenther': 1, 'altıeylül': 1, 'balıkesir': 1, 'ataturk': 2, 'mártires': 1, 'bzi': 1, 'pasha': 1, 'iconic': 2, 'night’s': 1, 'sleeps': 1, 'nyc': 1, 'amazing': 2, 'baymont': 1, 'biloxi': 1, 'hills': 4, 'hard': 1, 'paso': 1, 'hsia': 1, \"manager's\": 2, 'bedroom': 3, 'share': 5, '6am': 1, 'wednesday': 2, 'idaho': 1, 'greets': 1, 'casual': 3, 'indian': 4, '84': 2, 'monday': 2, 'steaks': 1, 'chef’s': 1, 'boise': 1, 'week': 3, 'delights': 1, 'ultimate': 3, 'ambience': 1, 'themselves': 2, 'mere': 1, 'delightful': 3, 'setting': 7, 'charm': 4, 'sit': 1, 'opposite': 4, 'beautifully': 3, 'impressed': 2, 'greeting': 2, 'campo': 3, 'swing': 1, 'casamento': 1, 'rayón': 1, 'pratique': 1, 'reunião': 1, 'aproximado': 1, 'mas': 3, 'adultos': 2, 'contendo': 1, 'mxn': 1, '13h': 2, '15h': 1, '150': 3, 'ixtlahuaca': 1, 'valor': 1, '18h': 1, 'things': 4, 'enhance': 5, 'matter': 1, 'silver': 1, 'estes': 1, 'saddle': 1, 'instantly': 1, 'staffed': 2, \"bojangles'\": 1, 'ovens': 3, 'mint': 1, 'randolph': 1, 'greenleafe': 1, 'libertyville': 1, 'drop': 2, 'bacon': 1, 'grove': 1, 'gurnee': 1, 'ftiness': 1, 'abilene': 1, 'retail': 2, 'snyder': 1, 'sage': 1, 'hunters': 1, 'purple': 1, 'kennels': 1, \"king's\": 2, 'trafalgar': 1, 'soho': 3, 'queens': 2, 'mandeville': 1, 'buckingham': 1, 'arenal': 1, 'venado': 1, 'alojar': 3, 'abajo': 1, 'escobas': 1, 'toro': 1, 'peninsula': 1, 'venao': 1, 'frente': 1, 'azuero': 1, 'guánico': 1, 'destiladeros': 1, 'dselina': 1, 'kfc': 1, 'yum': 1, 'candlewood': 3, 'ne': 1, '97': 1, 'louisville': 2, 'consist': 2, 'cedar': 3, \"crowley's\": 1, 'l': 1, 'rv': 2, 'forrest': 1, 'trumann': 1, 'craighead': 1, 'functional': 2, 'adorned': 1, 'energetic': 1, 'fashionably': 1, 'atenea': 1, 'yet': 1, 'fairgrounds': 1, 'networks': 1, 'exceptionally': 1, 'prepared': 2, 'measure': 1, 'calabria’s': 1, 'distinguished': 1, 'plaça': 1, 'calabria': 1, 'sizable': 1, 'currently': 2, 'lifestyle': 2, 'renovation': 1, 'indianapolis': 1, 'clay': 1, 'carmel': 1, 'omelets': 1, 'march': 1, '2023': 2, 'palm': 2, \"florida's\": 1, 'attending': 1, '118': 1, 'lanchonete': 2, 'mantém': 2, 'delicatessen': 1, 'frigobares': 1, 'merdeka': 1, 'lumpur': 1, 'escrivaninhas': 2, 'scholars': 1, 'apresenta': 2, 'torres': 1, 'arrumação': 2, 'petronas': 1, 'keramat': 1, 'alimentação': 3, 'datuk': 1, 'eatatlevelsix': 1, 'conectado': 2, 'kampung': 1, 'disso': 4, 'deliciosas': 1, 'programas': 2, 'putra': 1, 'diversão': 2, 'kuala': 1, 'toalete': 2, 'towers': 1, 'kirdar': 1, 'konagi': 1, \"princes'\": 1, 'istiklal': 1, 'naumpasa': 1, 'anthony': 1, '2017': 2, 'lutfu': 1, 'i̇stanbul': 1, 'dolmabahce': 1, 'istanbul': 1, 'taksim': 1, 'padua': 1, 'advice': 1, \"visitors'\": 1, 'havana': 1, 'embassies': 1, 'styles': 1, 'ecological': 1, 'blend': 1, 'sits': 3, 'harmonious': 1, 'places': 2, 'pio': 1, 'lindora': 1, 'momentum': 1, 'forum': 1, 'ana': 1, 'knights': 1, 'ellis': 1, 'dix': 1, 'standards': 2, '210': 1, 'fresno': 1, 'chaffee': 1, 'hometowne': 1, 'sundays': 1, 'opens': 1, 'brightly': 3, 'reserved': 1, 'tuesdays': 1, 'saturdays': 1, 'women': 1, 'hohenzollern': 1, 'exclusively': 2, 'hire': 3, 'ladson': 1, 'magnolia': 1, 'championship': 2, 'round': 7, 'stereo': 1, 'cod': 1, 'sleeping': 2, 'townhomes': 1, 'wet': 3, 'cape': 2, 'townhouse': 1, 'easton': 1, 'towneplace': 1, 'columbus': 3, 'video': 2, 'depending': 1, 'mnac': 1, 'controlled': 2, 'vilamarí’s': 1, 'season': 4, 'espanya': 1, 'magic': 1, 'versions': 1, 'fountains': 2, 'vilamarí': 1, 'catalan': 1, 'gimpo': 1, 'lobby’s': 1, 'men': 1, 'cinema': 3, 'incheon': 1, 'ramid': 1, 'stasio': 1, 'coex': 1, 'korea': 1, 'grizzly': 1, 'giant': 1, \"park's\": 1, 'wolf': 2, 'paddle': 1, 'weston': 1, 'crawley': 1, 'takes': 2, 'counties': 1, 'waterfall': 2, 'morgan’s': 1, 'term': 1, 'packages': 1, 'brighton': 1, 'trains': 1, 'famed': 1, 'hearty': 1, 'soundproof': 1, 'celebrating': 1, 'arora': 1, 'shows': 1, 'sussex': 2, 'transfers': 2, 'napa': 1, 'rosa': 1, 'lazeaway': 1, 'intense': 1, 'group': 3, 'flamingo': 1, 'everyday': 1, 'landscaped': 3, 'lap': 1, 'sonoma': 1, 'haven': 3, 'bustle': 1, 'revel': 1, 'mauritius': 1, 'affords': 3, 'splendour': 1, 'discerning': 2, 'eager': 1, 'traveller': 2, 'lying': 2, 'picture': 1, 'unrivalled': 1, 'entertaining': 1, 'exquisite': 3, 'tranquillity': 1, 'tempt': 1, 'amidst': 2, 'pleasanton': 1, '580': 1, 'stonebridge': 1, 'wall': 1, 'andtable': 1, 'chichester': 1, 'reopen': 1, 'arundel': 1, 'prep': 1, 'now': 4, 'relaxed': 2, 'georgian': 1, 'originally': 1, 'southampton': 1, 'former': 1, 'panels': 1, 'boys': 1, 'names': 1, 'avisford': 1, '89': 3, 'croquet': 1, 'opt': 1, 'parkland': 1, 'tables': 1, 'engraved': 1, 'phenicia’s': 1, 'dubai’s': 1, 'baniyas': 1, 'deira': 1, 'phenicia': 1, 'vendome': 1, 'façade': 1, 'noted': 4, 'magasins': 1, 'questions': 1, 'sumptuous': 3, 'answer': 1, 'artwork': 2, '82': 1, 'exhibitions': 1, 'await': 2, 'paix': 1, 'agenda': 1, 'vie': 1, 'seven': 1, 'madeleine': 1, 'garnier': 1, 'astra': 1, 'exotic': 5, 'serena': 1, 'fruits': 1, \"32''\": 1, 'briza': 1, 'erik': 1, 'whitehorse': 1, 'cup': 2, 'midnight': 1, 'nielsen': 1, 'multi': 2, 'cascada': 1, 'spent': 1, 'caracol': 1, 'barcelo': 1, \"kid's\": 2, 'palmer': 1, 'sip': 1, 'fan': 1, 'dundas': 1, 'yonge': 1, 'filmores': 1, 'eaton': 1, 'dancing': 2, 'billy': 2, 'ground': 3, 'bishop': 1, \"gentleman's\": 1, 'unrestricted': 1, 'voucher': 1, 'gently': 1, '437': 1, 'seafront': 2, 'guarantee': 1, 'collected': 1, '1896': 1, 'but': 3, 'discount': 1, 'eastbourne’s': 1, 'sloping': 1, 'verandah': 1, 'algarve': 2, 'facing': 1, 'amizing': 1, 'portimao': 1, 'rocha': 1, 'october': 3, 'attitude': 1, 'brand': 2, 'hojoko': 1, 'touches': 2, 'timeless': 1, 'finishing': 1, 'scene': 1, 'soon': 2, 'become': 1, 'might': 1, 'boston': 1, '1271': 1, 'way': 3, '1959': 1, 'cushman': 1, 'buzzing': 1, 'don’t': 1, 'vehicle': 1, 'fenway’s': 1, 'bands': 1, 'checkin': 1, '93': 1, 'putting': 1, 'verb': 1, 'legendary': 1, 'coming': 1, 'fenway': 1, 'excited': 1, 'tim': 1, 'boylston': 1, 'doors': 2, 'began': 1, 'lodging': 2, 'exciting': 3, 'cr': 1, '535': 1, \"world's\": 1, \"orlando's\": 1, 'abundant': 1, 'compras': 1, 'syntagma': 1, 'apreciados': 1, 'omonoia': 1, 'lanches': 1, 'já': 1, 'venizélos': 1, 'panorâmicas': 1, 'moderno': 2, 'situado': 2, 'athens': 3, 'ermou': 1, 'todo': 3, 'comodidade': 1, 'atenas': 1, 'elefthérios': 1, 'cafés': 2, 'lagoon': 4, 'lhaviyani': 1, 'spreads': 1, 'retreat': 4, 'flood': 1, 'dock': 1, 'squash': 1, 'cowry': 1, 'semi': 1, 'kanuhura': 1, 'grilled': 3, 'veli': 1, 'jehunuhura': 1, 'crystal': 3, 'seaplane': 2, 'pasta': 1, 'mano': 1, '1939': 1, 'baranof': 1, 'alaska’s': 1, 'juneau': 1, 'resorts': 2, 'hospitable': 1, 'achieved': 1, 'environment': 2, 'desired': 1, 'pristine': 1, 'archipelago': 1, 'nothing': 1, 'expanses': 1, 'topical': 1, 'turquoise': 1, 'recognized': 2, 'islamic': 1, 'presidential': 2, 'recent': 1, 'idyllic': 1, 'paradise': 2, 'attraction': 1, 'enchanting': 1, 'mesmerising': 1, '34km': 1, 'speedboat': 1, 'planned': 2, 'villa': 4, 'solitude': 1, 'drawing': 1, \"dolphin'\": 1, \"black'\": 1, 'loren': 1, '‘a': 1, 'elli': 1, '‘boy': 1, 'girl': 1, 'films': 1, 'specimen': 1, 'labeti': 1, 'staring': 1, 'kingsport': 1, 'ridgefields': 1, 'warriors’': 1, 'path': 1, 'jemaa': 1, 'wrap': 4, 'rhoul': 1, 'marrakech': 2, 'fnaa': 1, 'bahia': 1, 'eps': 3, 'agdal': 2, 'palais': 2, 'marrakesh': 2, 'limo': 4, 'maiores': 1, 'vg': 1, 'comparado': 1, '\\r\\resta': 1, 'quintino\\rproprietário\\r': 1, 'tanto': 1, 'salão': 2, 'jogos': 1, 'garagem': 1, 'iguatemi': 1, 'geladeira': 1, 'mobiliadas': 1, 'proprietário': 1, '55': 1, 'vgfunbeachfront': 1, 'compartilhado': 1, '\\r\\rno': 1, 'cortezia': 1, 'favor': 1, 'custo': 1, '999156666\\r': 1, 'distância': 1, 'vale': 2, 'livre': 3, 'cooktop': 1, 'abaixo': 1, 'varandas': 1, 'condo': 2, '\\r\\r\\ratenciosamente': 1, 'agua': 1, 'sabonetes': 1, 'talheres': 1, '\\r\\rpara': 1, 'quanto': 1, 'martins': 1, 'completa': 2, 'avaliada': 1, 'castelão': 1, 'contactar': 1, '\\rrafael': 1, 'apartamento': 1, 'residencial': 1, 'aquecida': 1, 'bem': 3, 'etc': 2, 'condomínio': 1, 'privativos': 1, 'fechado': 1, 'redes': 1, 'benefício': 1, 'cave': 2, 'ürgüp': 1, 'güzeller': 1, 'üç': 1, 'cappadocia': 1, 'hallacdere': 1, 'konak': 1, 'ligeira': 2, 'urgup': 1, 'chaleiras': 1, 'kültür': 1, 'desejos': 1, 'elétricas': 1, 'manzara': 1, 'nav': 1, 'goreme': 1, 'nevsehir': 1, 'saborear': 3, 'rosas': 1, 'sunak': 1, 'gomeda': 1, 'temenni': 1, 'ortahisar': 1, 'individualizada': 1, 'poço': 1, 'pancarlık': 1, 'aynalı': 1, 'göreme': 1, 'asmalı': 1, 've': 1, 'turasan': 1, 'wishing': 1, 'touristic': 1, 'wells': 1, 'me': 2, 'promises': 1, 'cottages': 2, 'whaling': 1, 'millicent': 1, 'fairhaven': 1, 'robe': 1, 'furnishing': 1, 'meer': 1, 'reichshof': 1, 'und': 1, 'welcoming': 1, 'alt': 1, 'zillestube': 1, 'romantik': 1, 'rustic': 2, 'norden': 1, 'pedestrian': 1, 'slippers': 3, 'choices': 1, 'reichshof’s': 1, 'refresh': 1, 'bauernstube': 1, 'basilique': 1, 'sextant': 1, 'sernin': 1, 'september': 1, 'inter': 1, 'sud': 1, 'labège': 1, 'traveler': 2, 'window': 1, 'condé': 1, 'finest': 2, 'orleans’': 1, 'windsor': 1, 'either': 2, 'mississippi': 2, 'harrah’s': 1, 'unusually': 1, 'nast': 1, 'ranked': 1, 'consistently': 1, 'southernmost': 1, '1148': 1, 'hemingway': 1, 'cheese': 1, 'duval': 1, 'ernest': 1, 'conservatory': 1, 'key': 3, 'stora': 1, 'saxnäs': 1, 'farjestaden': 1, 'kalmar': 1, 'strandhagen': 1, 'vida': 1, 'ror': 1, 'ekerum': 1, 'pensionat': 1, 'length': 1, 'date': 2, 'you’ll': 2, 'colombian': 1, 'citizens': 1, 'atlantis': 1, 'exceptions': 1, 'it’s': 2, 'retiro': 1, 'brands': 1, 'departure': 1, 'least': 1, 'andino': 1, 'regardless': 1, 'another': 1, 'visa': 1, 'exclusive': 2, 'boheme': 1, 'exempt': 1, 'squeezed': 1, 'consecutive': 1, 'nh': 1, 'hardwood': 2, 'bogotá': 1, 'connecting': 2, 'fragrant': 1, 'foreigners': 1, 'surround': 1, 'delicacies': 2, 'yost': 1, 'ann': 1, 'arbor': 1, 'detroit': 1, 'crisler': 1, 'michigan': 3, 'miniature': 2, 'fenwick': 1, 'thunder': 1, 'leading': 1, 'avignon': 1, 'a9': 1, 'montpellier': 1, 'nimes': 1, 'villeneuve': 2, 'marseille': 1, 'loungers': 2, 'carnegie': 2, 'willow': 1, 'freedom': 1, 'alliance': 1, 'haynes': 1, 'skatecenter': 1, 'athletics': 1, 'tipton': 1, 'tweetsie': 2, 'states': 2, 'haw': 1, 'tri': 1, 'wallabies': 1, '139': 1, 'cities': 2, 'yee': 1, 'knobs': 1, 'trailhead': 1, 'tannery': 1, 'woods': 3, 'brewing': 1, 'úteis': 1, 'cookware': 2, 'edventure': 1, 'columbia': 2, 'size': 3, 'dishware': 1, 'oakdale': 1, 'ascend': 1, 'tavern': 3, 'traditions': 1, 'binghamton': 1, 'airy': 1, 'colmar': 1, 'moschenross': 1, 'mulhouse': 1, 'thann': 1, 'alsace': 1, 'dakota': 1, 'americinn': 2, 'wesleyan': 1, 'corn': 1, 'mitchell': 2, 'interconnected': 1, 'hurricane': 1, 'globe': 1, 'opotiki': 1, 'vacinados': 1, 'máscara': 1, '11h': 2, '10h00': 2, '2h00': 1, 'usar': 1, 'fio': 1, 'count': 2, 'relaxe': 2, '83': 1, 'noturna': 1, 'oferecida': 1, 'chandler': 2, 'tempe': 2, 'pueblo': 1, 'phoenix': 2, 'diablo': 1, 'intel': 1, 'sundeck': 2, 'dewey': 1, 'heat': 1, 'dunes': 2, 'maid': 1, 'rehoboth': 1, 'tryp': 1, 'reminiscent': 1, 'tatami': 1, 'computers': 1, 'mori': 1, 'duty': 1, 'kita': 1, 'sangaitaki': 1, 'toyako': 1, 'straw': 1, 'woven': 1, 'toya': 1, 'kitayuzawa': 1, 'monbetsu': 1, 'soraniwa': 1, 'karaoke': 1, 'shikotsu': 1, 'chitose': 1, 'yuzawa': 1, 'whalers': 1, 'lahaina': 1, 'honokowai': 1, 'kaanapali': 1, 'railroad': 2, 'sanford': 1, 'appalachian': 1, 'schaefer': 1, 'toast': 1, 'soft': 3, 'offerings': 1, 'ranging': 1, 'sandwiches': 1, 'coolers': 1, 'middle': 3, 'moving': 1, 'laguardia': 2, 'arthur': 1, 'image': 1, 'ashe': 1, 'gantry': 1, 'princess': 3, 'managed': 1, 'fairmont': 1, \"bermuda's\": 1, 'royal’s': 1, 'ullevi': 2, 'staircase': 1, 'create': 1, 'gothenburg': 2, 'gothenburg’s': 1, 'curtains': 2, 'liseberg': 2, 'painted': 2, 'carpets': 1, 'read': 1, 'decorative': 1, 'patterned': 1, 'persian': 1, 'cake': 1, '1852': 1, 'armchairs': 2, 'homemade': 2, 'avenyn': 1, \"r'cif\": 1, 'medersa': 1, 'jnane': 1, 'bottled': 6, 'sbile': 1, 'talisman': 1, 'riad': 1, 'seffarine': 1, 'fes': 1, 'mv': 1, 'rockport': 1, 'tauber': 1, 'altes': 1, 'der': 1, 'scenic': 3, 'brauhaus': 1, 'ob': 1, \"brauhaus's\": 1, 'rothenburg': 1, '1698': 1, 'aqua': 1, 'palmeraie': 1, 'olive': 1, 'menara': 1, 'atlas': 1, 'savor': 3, 'copier': 1, 'steep': 1, \"doesn't\": 1, 'anne': 1, 'benefits': 2, 'damrak': 1, 'kalverstraat': 1, 'urbano': 2, 'museografico': 1, 'complejo': 1, 'amerian': 1, 'poggi': 1, 'rafaela': 1, 'bristol': 1, 'completamente': 1, 'outros': 2, 'umarizal': 1, 'confortável': 2, 'memorável': 1, 'belém': 1, 'estada': 1, 'região': 2, 'turísticos': 1, 'jetted': 2, 'celaque': 1, 'lenca': 1, 'camino': 1, 'gracias': 1, 'boats': 2, 'sorrento': 1, 'lucia': 2, 'april': 1, 'vesuvio': 1, '9th': 1, 'capri': 1, 'castel': 1, 'caruso': 1, 'trainer': 1, 'prestigious': 3, 'vesuvius': 1, \"dell'ovo\": 1, 'busch': 1, 'oyster': 2, 'dom': 1, 'vii': 1, 'lisbon': 1, 'lights': 1, 'gulbenkian': 1, 'stocked': 1, 'bedside': 1, 'pombal': 1, 'eduardo': 1, 'marquês': 1, 'liberty’s': 1, 'liberdade’s': 1, 'lt': 2, 'pins': 1, 'croisette': 1, 'gazagnaire': 1, 'cote': 2, 'tipo': 2, 'antipolis': 1, 'apos': 1, 'cannes': 1, 'abrial': 1, 'exflora': 1, 'gt': 2, 'macé': 1, 'palestre': 1, 'forville': 1, 'strong': 1, 'azur': 1, 'provençal': 1, 'nce': 1, 'festivais': 1, 'castre': 1, 'diverse': 2, 'getaways': 1, 'backstage': 1, 'weddings': 1, 'expectations': 1, 'reflecting': 1, 'acts': 1, 'humphreys': 1, 'maintain': 1, 'innovative': 1, 'renowned': 1, 'tranquil': 1, \"diego's\": 1, 'shelter': 2, 'impeccable': 1, \"america's\": 1, 'exceed': 1, 'isle': 1, 'series': 1, 'moon': 2, 'hawaiian': 2, 'reputation': 2, 'concert': 1, 'works': 1, 'tirelessly': 1, 'strolling': 1, 'nationally': 1, 'countless': 2, 'strives': 1, 'stage': 1, 'conferences': 1, 'framed': 2, 'florianopolis': 1, 'werner': 1, 'richey': 1, 'hudson': 1, 'boyce': 1, 'nopparathara': 1, 'ben’s': 1, 'motorbike': 1, 'krabi': 1, 'nang': 1, 'house’s': 1, \"d'eau\": 1, 'elispace': 1, 'iris': 1, 'nacre': 1, 'hez': 1, 'chateau': 1, 'beauvais': 1, 'clermont': 1, 'airports': 2, 'departmental': 1, 'mithe': 1, 'samson': 1, 'bva': 1, 'carrière': 1, 'henri': 1, 'oise': 1, 'heillou': 1, 'felix': 1, 'asterix': 1, 'chatellier': 1, 'chantilly': 1, 'pierre': 2, 'musee': 1, 'froidmont': 1, 'tapestry': 1, 'et': 2, 'canada': 2, 'manège': 1, 'tabletterie': 1, 'miparis': 1, '8h': 1, 'adicional': 1, '20h': 1, 'ida': 1, 'volta': 1, 'veículo': 1, 'dobráveis': 1, 'atrações': 1, 'asterion': 1, 'vikelaia': 1, 'morosini': 1, 'manos': 1, 'kornaros': 1, 'iráclio': 1, 'cnossos': 1, 'eleftherias': 1, 'batalha': 1, 'agios': 3, 'hatzidakis': 1, 'technology': 2, 'arqueológico': 1, 'kazantzakis': 1, 'loggia': 2, 'anglon': 1, 'muros': 1, 'heraklion': 2, 'leões': 1, 'financeiro': 2, 'creta': 1, 'bembo': 1, 'fonte': 1, 'resistência': 1, 'vênetos': 1, 'her': 1, 'nikos': 1, 'titos': 1, 'bringing': 1, 'manhattan': 2, 'energy': 3, 'nespresso': 1, 'knightsbridge': 1, 'harrods': 1, 'marbles': 1, 'revelry': 1, 'tube': 1, 'hangout': 1, 'independently': 1, 'sette': 1, 'heady': 1, 'detailing': 1, 'bulgari': 1, 'crafted': 1, '‘the': 1, 'night’': 1, 'scarpetta': 1, 'authentic': 2, 'housed': 2, 'nolita': 1, 'lighthearted': 1, 'creating': 1, 'below': 1, 'perch': 1, 'keys': 1, 'slides': 1, 'separated': 1, 'thrilling': 1, 'wind': 1, \"parrot's\": 1, 'dump': 1, 'sq': 1, '000': 1, 'bucket': 1, 'coco': 1, 'gallon': 1, 'unlock': 1, 'friends': 1, 'chat': 1, 'want': 1, 'optimal': 1, 'kaster': 1, 'infrastructure': 1, 'gramado': 1, 'package': 1, '494': 1, 'fly': 1, 'cloud': 1, 'alexandria': 1, 'andes': 2, 'thoroughbred': 1, 'fayette': 1, 'bluegrass': 1, 'keeneland': 1, 'juice': 2, 'joyful': 1, 'lounger': 1, 'vegetables': 1, 'seawater': 2, 'milatos': 1, 'alcoholic': 1, 'nikolaos': 1, 'zorna': 1, 'decks': 1, 'parasols': 1, 'football': 2, 'aperitif': 1, 'tournaments': 1, 'participate': 1, 'pula': 1, 'poreč': 1, 'aquaerobic': 1, 'preserves': 1, 'marte': 1, 'rooftops': 1, 'florence': 2, 'emma': 1, 'fujairah': 2, 'spread': 1, 'friend': 1, 'aqah': 1, 'backdrop': 2, 'hammam': 1, 'gatherings': 1, 'pampering': 1, 'beneath': 1, 'expansive': 2, 'worldly': 1, 'hajjar': 1, 'pits': 1, 'flame': 1, 'touch': 1, 'active': 1, 'wonderfully': 1, 'teens': 1, 'truly': 2, 'aged': 1, 'couples’': 1, '190': 1, 'add': 2, 'bespoke': 1, 'junior': 1, \"l'occitane\": 1, 'shoreline': 1, 'recommend': 1, 'wollestraat': 1, 'leopold': 1, 'types': 2, 'zeebrugge': 1, 'belfry': 1, 'flats': 1, 'blankenberge': 1, 'bruges': 1, 'ghent': 1, 'medieval': 1, 'bluff': 2, 'blissfully': 1, 'maintains': 1, 'mangosas': 1, '2km': 1, 'delivered': 2, 'characterized': 1, 'caribbean': 2, 'butlers': 1, '74': 1, 'stopping': 1, 'beaches—glorious': 1, 'unobtrusive': 1, 'glamorous': 1, 'sanctuary': 3, 'granting': 1, 'hands': 1, '110km': 1, 'extraordinary': 1, '1950’s': 1, 'coves': 1, 'bask': 1, 'taxies': 1, 'jamaica': 1, 'sangster': 1, 'shimmering': 1, 'stellar': 1, 'inns': 1, 'mode': 1, 'soaring': 2, 'jamaica’s': 1, 'sipping': 1, 'usually': 1, 'meena': 1, 'fahidi': 1, 'bastakiya': 1, 'raintree': 1, 'burjuman': 1, 'rolla': 1, 'burj': 2, 'khalifa': 1, 'carowinds': 1, 'using': 3, 'spectrum': 1, 'cajun': 1, 'routine': 1, 'breweries': 1, 'lynx': 1, 'embrace': 1, 'taking': 3, 'homelike': 1, \"lowe's\": 1, 'jersey': 2, 'sesame': 1, 'bordentown': 1, 'trenton': 1, 'heidelberg': 1, 'luise': 1, 'orchestra': 2, 'neckarwiese': 1, 'bergheim': 1, 'boardinghouse': 1, 'disabilities': 1, 'graduate': 1, 'brattleboro': 1, 'contact': 2, 'listed': 1, 'examine': 1, 'requiring': 1, 'website': 1, 'marlboro': 1, 'specific': 1, 'section': 2, 'lefkas': 1, 'commodities': 1, 'immediate': 1, 'regions': 1, 'villages': 1, 'pantip': 1, 'pho': 1, 'buddha': 1, 'pratunam': 1, 'nook': 1, 'tiles': 1, '18th': 1, 'metrobus': 1, 'talavera': 1, 'rain': 2, 'decoration': 1, 'turibus': 1, 'privileged': 1, 'zócalo': 1, 'colegio': 1, 'ildefonso': 1, 'sustainable': 1, 'oil': 1, 'policy': 1, 'ash': 1, 'sharon': 1, 'richmond': 3, 'madison': 3, 'bryant': 2, 'casamia': 1, 'k': 1, 'jacob': 1, \"macy's\": 1, 'penn': 1, 'javits': 1, 'times': 3, 'corniche': 2, 'adagio': 1, 'residents': 1, 'robins': 1, 'warner': 1, 'pontiac': 1, 'janesville': 1, 'microtel': 2, 'zihuatanejo': 1, 'jalapeño': 1, 'gear': 2, 'qualton': 1, 'villalinda': 1, 'wadi': 1, 'dxb': 1, 'arab': 1, 'wild': 2, 'jumeirah': 1, '278': 1, 'andares': 1, 'salgada': 1, 'vários': 2, 'ampla': 2, 'basquetebol': 2, 'turística': 1, 'anexos': 1, 'cabeleireiro': 1, 'mesma': 1, 'korcula': 1, 'seleccionar': 1, 'balnear': 2, 'ofertas': 2, 'dubrovnik': 1, 'jogar': 1, 'esplanada': 1, 'baía': 1, 'chapéus': 1, 'padrão': 1, 'minimercado': 1, 'edifícios': 1, 'ténis': 2, 'pensão': 1, 'próxima': 3, 'pinhal': 1, 'facilmente': 2, 'minigolfe': 1, 'espreguiçadeiras': 1, 'alcançáveis': 1, 'estadas': 1, 'usufruir': 1, 'h': 2, 'basques': 1, 'georges': 1, \"fishermen's\": 1, 'vi': 1, 'sob': 1, 'localiza': 1, 'câmbio': 1, 'voleibol': 1, 'ligado': 1, 'ilhas': 1, 'contemplam': 1, 'terão': 1, 'antiga': 1, 'monetário': 1, 'barco': 1, 'declarado': 1, 'aldeia': 1, 'andebol': 1, 'duplos': 1, 'aquático': 1, 'vela': 1, 'futebol': 1, 'estabelecimentos': 1, 'gaivota': 1, 'primosten': 1, 'mundial': 1, 'duche': 2, 'ugorje': 1, 'seget': 1, 'optar': 1, 'kornati': 1, 'belíssimas': 1, 'banana': 1, 'bra': 1, 'unesco': 1, 'boccia': 1, 'organiza': 1, 'aquáticos': 1, 'comerciais': 1, 'sibenik': 1, 'sagrado': 1, 'krka': 1, 'casal': 1, 'possibilidades': 1, 'autocarro': 1, 'praticar': 1, '2005': 1, 'trogir': 1, 'caminho': 1, 'piscatória': 1, 'aperitivos': 1, 'património': 1, 'mergulho': 1, 'desportos': 1, 'barcos': 1, 'krknjasi': 1, 'vranjica': 1, 'bilhar': 1, \"mark's\": 2, 'mark’s': 1, 'vaporetto': 1, '492': 1, 'zaccaria': 1, 'doges': 1, 'useful': 1, \"venice's\": 1, 'trovatore': 1, 'healthcare': 2, 'rowan': 1, 'vineland': 1, \"wetland's\": 1, 'reeds': 1, 'bird': 1, 'sinks': 1, 'science': 2, 'dishwashers': 1, 'iowa': 1, 'disposals': 1, 'scanner': 1, 'mainstay': 1, 'toasters': 1, 'cellular': 1, 'brucemore': 1, 'printer': 2, 'tvc': 1, 'posto': 1, 'dennos': 1, 'munson': 1, 'commons': 1, 'playhouse': 2, 'ferros': 2, 'traverse': 1, 'clinch': 1, 'tábuas': 2, 'cherry': 1, 'bayshore': 1, 'larios': 1, 'miwith': 2, 'mirador': 1, 'invisible': 1, 'atarazanas': 1, 'agp': 1, 'episcopal': 1, 'corte': 1, 'vino': 1, 'freezer': 1, 'málaga': 1, 'calle': 1, 'aduana': 1, 'amphitheatre': 1, 'constitucion': 1, 'carmen': 1, 'malaga': 1, 'ingles': 1, 'mimma': 1, 'cristina': 1, 'janeiro': 1, 'encore': 1, 'ribalta': 1, 'galeao': 1, 'tijuca': 1, 'recreio': 1, 'barra': 1, 'sarabia': 1, '102': 1, 'noas': 1, 'conviver': 1, 'arocena': 1, 'milex': 1, 'nazas': 1, 'fransicso': 1, 'venustiano': 1, 'revolución': 1, 'trc': 1, 'bosque': 1, '505': 1, 'gómez': 1, 'armas': 1, 'coahuila': 1, 'juarez': 1, 'torreón': 1, 'torreon': 1, 'carranza': 1, 'cristo': 2, 'paseo': 1, '167': 1, 'r': 2, \"harb'\": 1, \"rushton's\": 1, 'confederation': 1, 'newsstands': 4, 'wentworth': 1, 'manila': 3, 'souvenir': 1, 'naia': 1, 'asiatel': 1, 'pasay': 1, 'security': 3, 'fjords': 1, 'windsong': 1, 'sealife': 1, 'seward': 1, 'alaska': 1, 'kenai': 1, 'pnc': 1, 'asia': 1, 'basie': 1, 'pearl': 1, 'flavored': 1, 'circuit': 1, 'bbc': 1, 'michelin': 1, 'fregate': 1, 'liouquet': 1, 'ricard': 1, \"ciotat's\": 1, 'aqualand': 1, 'indiana': 1, 'drapes': 2, '1995': 1, 'lighthouse': 1, 'chip': 1, 'blackout': 2, 'ozark': 1, 'norfork': 1, 'stretching': 1, \"island's\": 1, 'learning': 1, 'rangali': 1, 'cellar': 1, 'rewarding': 1, 'packed': 1, 'conrad': 1, 'bottles': 1, 'creature': 1, \"maldives'\": 1, 'spas': 1, 'ithaa': 1, 'underwater': 1, 'southgate': 1, 'headquarters': 1, 'wakefield': 1, 'sprint': 1, 'alltel': 1, 'merrillville': 1, 'midway': 1, 'holland': 1, 'monocacy': 1, 'antietam': 1, 'gettysburg': 2, 'frederick': 1, 'the\\u200e': 1, 'minoru': 1, 'harold’s': 1, '240': 1, 'stores': 4, 'vancouver': 1, 'oval': 1, 'pez': 1, 'cenote': 1, 'mayan': 1, 'tulum': 1, 'ruins': 1, 'monkey': 1, 'fresh1800': 1, 'intersection': 1, 'sleek': 1, 'o’hare': 1, 'woodfield': 2, 'schaumburg': 1, 'corpus': 1, 'christi': 1, 'pianist': 1, 'plays': 1, 'quay': 1, 'courtenay': 1, 'refurbishment': 1, 'chancellor': 1, 'sojourn': 1, 'wellington': 1, '17th': 1, 'whitby’s': 1, 'lambton': 1, 'edinburgh': 3, 'iah': 1, 'tv’s': 1, 'splashtown': 1, 'barre': 1, 'maintaining': 1, 'wilkes': 1, '960': 1, 'beaver': 2, 'marsh': 1, 'boarders': 1, 'horicon': 1, 'cobblestone': 1, 'president': 1, 'landis': 1, 'wheatland': 1, 'lancaster': 1, \"buchanan's\": 1, 'dutch': 1, 'wonderland': 1, 'willing': 1, 'trophy': 1, 'southlake': 1, 'basis': 3, 'roanoke': 1, 'tattoo': 1, 'eicc': 1, 'destiny': 1, 'scotland': 2, 'washing': 2, 'transformer': 1, 'fashion': 1, 'armaria': 1, 'chapel': 1, 'power': 1, 'saúde': 2, 'gratwick': 1, 'sterling': 1, 'lutheran': 1, 'chankaska': 1, '76': 1, 'system': 2, 'betsy': 1, 'mineápolis': 1, 'mankato': 1, 'minnesota': 1, 'bethany': 1, 'blakeslee': 1, 'hiniker': 1, 'teleféricos': 1, \"tacy's\": 1, 'benson': 1, 'msp': 1, 'caswell': 1, 'sibley': 1, 'wow': 1, '59': 1, 'minneopa': 1, 'comte': 1, 'moulin': 1, 'crepier': 1, 'ecole': 1, 'brit': 1, 'freslonniere': 1, 'touche': 1, 'roazhon': 1, 'quartier': 1, 'rennes': 1, \"l'évesque\": 1, 'stade': 2, 'maitre': 1, 'bourg': 1, 'sosua': 1, 'luck': 1, 'encuentro': 1, 'fans': 1, 'knoxville': 1, 'zoon': 1, 'bearden': 1, 'palace’s': 1, 'piano': 1, 'vineyards': 2, 'hamman': 1, 'eça': 1, 'refined': 1, 'cruz': 2, 'aregos': 1, 'name': 2, 'ample': 1, 'lynn': 1, 'gambling': 1, 'gulfport': 1, 'shoppers': 1, 'stennis': 1, 'graceful': 1, 'antebellum': 1, \"nasa's\": 1, 'meadows': 1, 'curved': 1, 'rods': 1, 'diamondhead': 1, 'unparalleled': 1, 'homes': 1, 'vegas': 2, 'oaks': 2, 'hector': 1, 'fargodome': 1, 'hawley': 1, 'fargo': 1, 'piqueniques': 1, 'pessoal': 3, 'mansão': 1, 'fantásticas': 1, 'wolverhampton': 1, 'molineux': 1, 'tábua': 1, 'himley': 1, 'ferro': 1, 'inglês': 1, 'hipódromo': 1, 'cottage': 1, 'wightwick': 1, 'gaddafi': 1, 'acacia': 1, 'kibuli': 1, \"kabaka's\": 1, 'kampala': 1, 'dana': 1, 'tiled': 2, 'editory': 1, 'coloured': 1, 'aqualuz': 1, 'lagos': 1, 'boavista': 1, 'seasons': 1, 'kid': 1, 'ruidoso': 1, 'flavors': 3, 'nm': 1, \"ruidoso's\": 1, 'unwinding': 1, 'downs': 1, 'apache': 1, 'midtown': 2, 'laser': 1, 'pines': 1, 'tall': 1, 'groups': 1, 'breathe': 1, 'yaxchilan': 1, 'blocks': 2, 'wading': 1, 'palapas': 1, 'cancun': 1, 'harrisonburg': 1, 'shenandoah': 1, 'eastman': 1, 'dow': 1, 'birch': 1, 'thani': 1, 'surat': 1, 'sha': 1, 'certified': 2, 'suratthani': 1, 'rajabhat': 1, 'rajthani': 1, 'jomtien': 1, 'village’s': 1, 'costa': 1, 'teakettle': 1, 'candle': 1, '14h': 1, 'cadeira': 1, 'recuperate': 2, 'anesi': 1, 'helexpo': 1, 'metamorfosi': 1, 'attentive': 1, 'incomparable': 1, 'direction': 1, 'eagerly': 1, 'banff': 1, 'rockies': 1, 'canadian': 1, 'swiss': 1, '1974': 1, 'ticino': 1, 'bookings': 1, 'delectable': 1, 'splendor': 1, 'climate': 1, 'mountainous': 1, 'knowledgeable': 1, 'brisk': 1, 'suppliers': 1, 'outfits': 1, 'sight': 1, 'recommendations': 1, 'knotts': 1, 'bellflower': 1, 'berry': 1, 'maximum': 1, 'cerritos': 1, 'camelot': 1, 'freshwater': 1, 'offshore': 1, 'formations': 1, 'harrison’s': 1, 'cobblers': 1, 'watersports': 1, 'waterskiing': 1, 'sailing': 1, 'fabrics': 1, 'seminole': 1, 'wingate': 1, 'inviting': 1, 'avail': 1, 'assured': 1, 'mostly': 1, 'utah': 1, 'discovered': 1, '2002': 1, 'concentrated': 1, '1994': 1, 'era': 1, 'stockton': 1, 'hairdryers': 1, 'il': 1, 'demand': 1, 'vermilion': 1, 'danville': 1, 'hindelang': 1, 'allowed': 2, 'gentry': 1, 'mercantile': 1, 'paine': 1, 'líbris': 1, 'woodson': 1, 'vizinhança': 1, 'touhill': 1, 'blanche': 1, 'conhecidos': 1, 'extends': 1, 'luzmar': 1, 'kaew': 1, 'don': 1, 'kad': 1, 'chom': 1, 'kasem': 1, 'lampang': 1, 'lpt': 1, 'koi': 1, 'dhanabadee': 1, 'phra': 1, 'rollaway': 2, 'ceramic': 1, 'ta': 1, 'puangpech': 1, 'tao': 1, 'agradáveis': 2, 'vacances': 1, 'comuns': 1, 'mediterranee': 1, 'raphael': 1, 'cadeiras': 2, 'rodas': 1, 'acessíveis': 1, 'bleues': 1, 'destes': 2, '850': 1, '700': 1, 'allen': 1, 'biscuits': 1, 'aquaworld': 2, 'hersonissos': 2, 'european': 1, 'ultra': 1, 'labyrinth': 1, 'guidance': 1, 'crete': 1, '264': 1, 'sdf': 1, 'minimally': 1, 'kolymbia': 1, 'diagoras': 1, 'tsambika': 1, 'rhodes': 1, 'auberge’s': 1, 'auberge': 1, 'crossroads': 1, 'chalet': 1, 'valleys': 1, 'n90': 1, 'moutiers': 1, 'log': 1, 'savoie': 1, 'leather': 1, 'ras': 1, 'zen': 1, 'sharm': 1, 'cotton': 2, 'jets': 1, 'baron': 1, 'silky': 1, 'once': 1, 'dance': 1, '476': 1, 'bedouin': 1, 'supervised': 1, 'wraps': 1, 'nights': 1, 'platform': 1, 'mahal': 1, 'algae': 1, 'oasis': 1, 'taj': 1, 'gorgeous': 1, 'jogging': 1, 'sakia': 1, 'partially–covered': 1, 'tiran': 1, 'mohammed': 1, 'resort’s': 1, 'naama': 1, 'bonn': 1, 'forward': 2, 'carry': 1, 'brühl': 1, 'treats': 1, \"cologne's\": 1, \"rhein's\": 1, 'rhein': 1, 'look': 1, 'rhine': 1, 'a555': 1, 'wesseling': 1, 'pizzas': 1, 'phantasialand': 1, 'fultondale': 1, 'starting': 1, 'woodlands': 1, 'cacém': 1, 'sines': 1, 'andré': 1, 'enjoying': 2, 'santiago': 1, 'presented': 1, 'saltwater': 1, 'northwest': 1, 'arboretum': 1, 'citycentre': 1, 'studio': 2, 'bathed': 1, 'grenoble': 1, 'tempologis': 1, 'a41': 1, 'gunnison': 1, 'rocks': 1, 'largest': 2, 'butte': 1, 'hartman': 1, \"colorado's\": 1, 'pioneer': 1, 'crested': 1, 'nacionales': 1, 'año': 1, 'cristero': 1, 'estratégicamente': 1, 'ventaja': 1, 'reunión': 1, 'irapuato': 1, 'tiempo': 1, 'cervantino': 1, 'religioso': 1, 'sino': 1, 'día': 1, 'nosotros': 1, 'alberga': 1, 'ciudades': 1, 'cubilete': 1, 'cinco': 1, 'general': 1, 'servicio': 1, 'sin': 1, 'importante': 1, 'kilómetros': 1, 'noviembre': 1, 'localizada': 1, 'estatua': 1, 'queda': 1, 'estado': 1, 'especialmente': 1, 'variedad': 1, 'ella': 1, '\\r\\rquédate': 1, 'peregrinos': 1, 'guanajuato': 1, 'nunca': 1, 'aprovechar': 1, 'animamos': 1, 'león': 1, 'coronado': 1, '\\r\\rel': 1, 'encierra': 1, 'sialo': 1, 'méxico': 1, 'cerro': 1, 'rey': 1, 'compañías': 1, 'inicio': 1, 'motors': 1, 'también': 1, 'batalla': 1, '\\r\\rla': 1, 'uno': 1, 'visites': 1, 'destinos': 1, 'bienvenida': 1, 'bajío': 1, 'escaparte': 1, 'visitan': 1, 'cuando': 1, 'une': 1, '\\r\\rsilao': 1, 'otras': 1, 'silao': 1, 'crucero': 1, 'fábrica': 1, 'internacionales': 1, 'hermosa': 1, 'sacrificar': 1, 'otra': 1, 'traslados': 1, 'résidence': 1, 'père': 1, 'internationale': 1, 'bagnolet': 1, 'cemetery': 1, 'montreuil': 1, 'allow': 1, 'lachaise': 1, 'arrive': 1, 'mão': 1, 'satisfeitas': 1, 'empresariais': 1, 'exclusivamente': 1, 'zonas': 1, 'cobrada': 1, 'concebido': 1, 'chegam': 1, 'experimentar': 1, 'restauração': 1, 'oferta': 1, 'entreter': 1, 'aproveitar': 2, 'encantador': 1, 'necessidades': 1, 'salinas': 1, 'totalmente': 1, 'sejam': 1, 'interesse': 1, 'edificado': 1, 'deste': 1, 'aceder': 1, 'bergstrom': 1, 'parmer': 1, 'furnish': 1, 'coffeemaker': 1, 'mining': 1, 'platteville': 1, 'carlson': 1, '2789': 1, 'viejo': 1, 'hospedium': 1, 'andean': 1, '193': 1, 'consoles': 1, 'kleopatra': 1, 'archeological': 1, 'canastota': 1, 'fame': 1, 'verona': 1, 'lassen': 1, 'win': 1, 'rolling': 1, 'drag': 1, 'salmon': 1, 'annually': 1, 'sacramento': 1, 'hunting': 2, 'shasta': 1, 'camping': 1, 'sale': 1, 'tip': 1, 'caverns': 1, 'bull': 1, 'gelding': 1, 'telephones': 1, 'hookups': 1, 'inland': 1, 'races': 1, 'card': 1, 'turn': 1, 'twice': 1, 'shoeshine': 1, 'overnight': 1, 'chocolates': 1, '2113': 1, '1585': 1, 'belge': 1, 'iroquois': 1, 'findel': 1, 'amnéville': 1, 'soleil': 1, 'wilson': 1, 'napoleon': 1, 'thermapolis': 1, 'etz': 1, 'metz': 1, 'patinoire': 1, 'pompei': 1, 'thionville': 1, 'thermes': 1, 'snowhall': 1, 'velo': 1, '57': 1, 'traces': 1, 'suburbana': 1, 'lorraine': 1, 'nancy': 1, 'galaxie': 1, 'moto': 1, 'roi': 1, 'lux': 1, 'aventures': 1, \"d'amnéville\": 1, 'walygator': 1, 'amneville': 1, 'iut': 1, 'kayaking': 1, 'chesapeake': 2, 'asylum': 1, 'marie': 1, 'pickering': 1, 'antoinette': 1, 'pennsylvania': 2, 'bradford': 1, 'antler': 1, 'sundry': 1, 'towanda': 1, 'motorcycle': 1, 'stratosphere': 1, 'bellagio': 1, 'strip': 1, 'harry': 1, 'allergy': 1, 'reid': 1, 'nóbrega': 1, 'brooklin': 1, 'ibirapuera': 1, 'citibank': 1, 'julho': 1, 'monaca': 1, 'pa': 1, 'gives': 1, 'howard': 1, 'rosario’s': 1, 'flag': 1, 'planetarium': 1, 'bellingrath': 1, 'mobile': 1, 'kem’s': 1, '7500': 1, \"rockin'\": 1, 'meow': 1, '697': 1, '209': 1, 'rollers': 1, 'theaterwork': 1, 'departures': 1, 'taverna': 1, 'elounda': 1, \"boats'\": 1, 'spinalonga': 1, 'playgrounds': 1, 'frequent': 1, 'botanic': 1, 'manukau': 1, 'ellerslie': 1, 'asb': 1, 'showgrounds': 1, 'racecourse': 2, '1990': 1, 'palermo': 1, 'device': 1, 'dyers': 1, 'leaving': 1, 'toad': 1, 'suck': 1, 'settlement': 1, \"conway's\": 1, 'prior': 1, 'recharge': 1, 'ask': 1, 'success™': 1, 'j': 1, 'clinton': 1, 'early': 1, 'bag': 1, 'symphony': 1, 'performs': 1, 'usb': 1, 'verizon': 1, 'occasion': 1, 'cadron': 1, 'conway': 1, 'electronic': 1, 'beaverfork': 1, 'orangeburg': 1, 'palmetto': 1, 'surcharges': 1, \"guardian's\": 1, 'ul': 1, 'know': 1, 'linderhof': 1, 'rating': 1, 'confirmation': 1, 'contacting': 1, 'parent': 1, 'bavaria': 1, 'holl': 1, 'hohenschwangau': 1, 'bring': 1, 'crib': 1, 'starts': 1, 'benefit': 1, 'deposits': 1, 'existing': 2, 'ettal': 1, 'li': 1, 'pm': 1, 'occupying': 1, 'neuschwanstein': 1, 'customers': 1, 'based': 1, 'schongau': 1, 'recupere': 1, 'passeio': 1, 'secretária': 1, 'proximidade': 1, 'públicos': 1, 'proveite': 1, 'amável': 1, 'reduzida': 1, 'roby': 1, 'hospedar': 1, 'liverpool': 1, 'experiência': 1, 'espaços': 1, 'liverpooltem': 1, 'inteiro': 1, 'razões': 1, 'sintam': 1, 'decorados': 1, 'mobilidade': 1, 'elisabeth': 1, 'słodowa': 1, 'fórum': 1, 'arqueologia': 1, 'sinagoga': 1, 'branca': 1, 'denominations': 1, 'wroclaw': 1, 'sleepwalker': 1, 'ossolineum': 1, 'współczesny': 1, 'wrocław': 1, 'cegonha': 1, 'música': 1, 'madalena': 1, 'wro': 1, 'lychnostatis': 1, 'elalia': 1, 'sarakino': 1, 'kedrodasos': 1, 'krios': 1, 'falassarna': 1, 'venetian': 2, 'kissamos': 1, 'vólakas': 1, 'kendrodasos': 1, 'trochaloú': 1, 'chryssoskalitissa': 1, 'psilós': 1, 'naiads': 1, 'elafonissi': 1, 'acritans': 1, 'kalámia': 1, 'kriós': 1, 'palaiochora': 1, 'bela': 1, 'glykeria': 1, 'pink': 1, 'europe': 1, 'banheiros': 1, 'ascension': 1, 'holly': 1, 'poidist': 1, 'monte': 1, 'valu': 1, 'genesys': 1, 'geladeiras': 1, 'bicentennial': 1, '58': 1, 'possuem': 1, 'blanc': 1, \"captain's\": 1, 'creasey': 1, 'clabolo': 1, 'estates': 1, 'airpark': 1, 'moriarty': 1, 'sandia': 1, 'peak': 1, 'coronavirus': 1, 'protect': 1, 'notice': 1, 'reduced': 1, 'unavailable': 1, 'winchester': 1, 'pump': 1, 'venice': 1, 'arsenal': 1, 'ampb': 1, 'mia': 1, 'quota': 1, 'rialto': 1, 'hastings': 1, \"hawkes'\": 1, 'planet': 1, 'trailers': 1, 'blankets': 1, 'portmans': 1, 'approved': 1, 'wrote': 1, 'indeed': 1, 'passage': 1, 'inspiration': 1, 'his': 1, 'abounding': 1, 'he': 1, 'recounts': 1, 'milton': 1, 'stroll': 1, 'salons': 1, 'author': 1, 'undeniable': 1, 'belonging': 1, \"florence's\": 1, 'noble': 1, 'baroque': 1, 'dish': 1, 'reflected': 1, 'fingertips': 1, 'accommodated': 1, 'tuscany': 1, 'centuries': 1, 'florentine': 1, 'gaddi': 1, 'novella': 1, 'masterpiece': 1, 'step': 1, 'palazzo': 1, 'wapakoneta': 1, 'perks': 1, 'caldwell': 1, 'brotherhood': 1, 'pedic': 1, 'palaia': 1, 'babcock': 1, 'ipads': 1, 'tempur': 1, 'kristi': 1, 'sheets': 1, \"breakfast's\": 1, 'colombia': 1, 'corferias': 1, 'cundinamarca': 1, 'kerkira': 1, 'island’s': 1, 'gordios': 1, 'owners': 1, 'tavernas': 1, \"sebastian's\": 1, 'hobs': 1, 'bloomington': 1, 'gun': 1, 'felt': 1, 'homey': 1, 'highlights': 1, 'thanks': 1, \"minnesota's\": 1, 'mn': 1, 'cumberland': 1, 'dickinson': 1, 'carlisle': 1, '2101': 1, 'persons': 1, \"beach's\": 1, 'usa': 1, 'used': 1, 'forget': 1, '29577': 1, 'radio': 1, 'myrtle': 1, 'della': 1, 'impression': 1, 'vecchio': 1, 'warmth': 1, 'enveloped': 1, 'recently': 1, 'performed': 1, 'duomo': 1, 'restored': 1, 'frescoed': 1, 'ponte': 1, 'signoria': 1, 'familiarity': 1, 'birmingham': 1, 'shuttlesworth': 1, 'samford': 1, 'rights': 1, 'bjcc': 1, 'vulcan': 1, 'legion': 1, 'mcwane': 1, 'sprayer': 1, 'guimarães': 1, 'anti': 1, 'allergic': 1, 'roari': 1, 'cuiabá': 1, 'rondon': 1, 'hose': 1, 'marechal': 1, 'chapada': 1, 'scottsdale': 1, '115': 1, 'az': 1, 'separadas': 1, 'rose': 1, 'phx': 1, 'falcon': 1, 'hale': 1, 'mormon': 1, 'golfland': 1, '149': 1, 'scf': 1, 'hohokam': 1, 'aza': 1, 'msc': 1, 'sunsplash': 1, 'sloan': 1, 'preparado': 1, 'chd': 1, 'anfiteatro': 1, 'rogers': 1, 'oklahoma': 1, 'midwest': 1, 'mauroy': 1, 'lille': 1, \"d'ascq\": 1, 'citadel': 1, 'kyriad': 1, 'designated': 1, 'lange': 1, 'noordeinde': 1, 'mauritshuis': 1, 'experiences': 1, 'blueblood': 1, 'together': 1, 'mesdag': 1, 'door': 1, 'connect': 1, '1476': 1, 'voorhout': 1, 'atmospheric': 1, 'administration': 1, 'baltimore': 1, 'oceanic': 1, 'loudoun': 1, 'stati': 1, 'ashburn': 1, 'fittings': 1, 'östermalmstorg': 1, 'mineral': 1, 'stureplan': 1, 'hub': 1, 'textiles': 1, 'backyard': 1, \"stockholm's\": 1, 'ling': 1, 'chosen': 1, 'argentino': 1, 'kelta': 1, 'contemplate': 1, 'calafate': 1, 'patagonia': 1, 'moyano': 1, 'landscape': 1, 'hostería': 1, 'province': 1, 'combination': 1, 'medford': 1, 'running': 1, 'worldmark': 1, 'rogue': 1, 'favell': 1, 'klamath': 1, 'clothes': 1, '78': 1, 'evangélica': 1, 'jcb': 1, 'kirst': 1, 'thermas': 1, 'paróquia': 1, 'luterana': 1, 'joacaba': 1, 'terezinha': 1, 'confissão': 1, 'machadinho': 1, 'marcelino': 1, 'ramos': 1, 'catarina': 1, 'piratuba': 1, 'mission': 1, 'barbara': 1, 'expanded': 1, 'waverley': 1, 'camera': 1, 'attractively': 1, 'hanover': 1, 'obscura': 1, 'illusions': 1, '71': 1, 'irish': 1})\n",
            "500\n",
            "{'the': 1, 'and': 2, 'a': 3, 'is': 4, 'in': 5, 'de': 6, 'hotel': 7, 'mi': 8, 'of': 9, 'km': 10, 'this': 11, 'with': 12, 'from': 13, 'available': 14, 'at': 15, 'e': 16, '1': 17, 'br': 18, 'as': 19, 'to': 20, 'are': 21, 'rooms': 22, 'free': 23, '2': 24, '0': 25, 'not': 26, 'en': 27, 'information': 28, 'selected': 29, 'language': 30, 'sorry': 31, 'shown': 32, 'center': 33, '5': 34, '3': 35, 'h3': 36, '4': 37, 'for': 38, 'guests': 39, 'can': 40, 'an': 41, '6': 42, 'on': 43, '7': 44, 'located': 45, 'com': 46, 'offers': 47, 'airport': 48, 'em': 49, 'uma': 50, 'room': 51, '8': 52, 'o': 53, 'also': 54, 'inn': 55, 'breakfast': 56, 'away': 57, 'miles': 58, 'pool': 59, 'include': 60, '9': 61, 'access': 62, 'all': 63, 'um': 64, 'tv': 65, 'amenities': 66, 'complimentary': 67, 'private': 68, 'facilities': 69, 'para': 70, '24': 71, 'park': 72, 'or': 73, 'do': 74, 'property': 75, 'bar': 76, 'business': 77, 'no': 78, 'you': 79, 'internet': 80, 'wi': 81, 'fi': 82, 'features': 83, 'area': 84, 'enjoy': 85, 'suites': 86, 'da': 87, 'minute': 88, 'desk': 89, 'by': 90, 'drive': 91, 'restaurant': 92, 'your': 93, 'city': 94, 'screen': 95, 'grátis': 96, 'flat': 97, 'be': 98, 'beach': 99, 'à': 100, 'comodidades': 101, 'within': 102, 'parking': 103, 'coffee': 104, 'has': 105, 'os': 106, 'air': 107, 'provided': 108, 'local': 109, 'quartos': 110, 'site': 111, 'service': 112, 'hour': 113, 'each': 114, 'have': 115, 'stay': 116, 'walk': 117, 'cable': 118, '10': 119, 'outdoor': 120, 'just': 121, 'se': 122, 'check': 123, 'wireless': 124, 'guest': 125, 'wifi': 126, 'fitness': 127, 'international': 128, 'will': 129, 'bathroom': 130, 'daily': 131, 'equipped': 132, 'minutes': 133, 'dos': 134, 'it': 135, 'museum': 136, 'mais': 137, 'la': 138, 'one': 139, 'well': 140, 'featuring': 141, 'propriedade': 142, 'ao': 143, 'incluem': 144, 'são': 145, 'lounge': 146, 'services': 147, '15': 148, 'make': 149, 'indoor': 150, 'front': 151, 'buffet': 152, 'every': 153, 'dining': 154, 'aeroporto': 155, 'university': 156, 'house': 157, 'este': 158, 'hot': 159, 'conditioned': 160, 'station': 161, 'spa': 162, 'some': 163, 'views': 164, 'including': 165, 'feature': 166, 'garden': 167, 'resort': 168, 'shopping': 169, 'while': 170, 'por': 171, 'hóspedes': 172, 'feet': 173, 'terrace': 174, 'entre': 175, '20': 176, 'other': 177, 'que': 178, 'star': 179, 'entertainment': 180, 'golf': 181, 'modern': 182, 'está': 183, 'na': 184, '00': 185, 'which': 186, 'podem': 187, 'offer': 188, '30': 189, 'restaurants': 190, 'home': 191, 'estão': 192, 'laundry': 193, 'downtown': 194, 'location': 195, 'é': 196, 'shuttle': 197, 'bathrooms': 198, 'estacionamento': 199, 'continental': 200, 'provides': 201, 'microwave': 202, 'casa': 203, 'lobby': 204, 'close': 205, 'served': 206, 'comfort': 207, '11': 208, 'club': 209, 'minutes’': 210, 'featured': 211, 'toiletries': 212, 'take': 213, 'serves': 214, 'próximo': 215, 'há': 216, '12': 217, 'guestrooms': 218, 'accommodations': 219, 'localização': 220, 'that': 221, 'work': 222, 'ou': 223, 'swimming': 224, 'bed': 225, 'mall': 226, 'não': 227, 'limpeza': 228, 'dia': 229, 'out': 230, 'express': 231, 'satellite': 232, 'day': 233, 'lt': 234, 'gt': 235, 'spacious': 236, 'hairdryer': 237, 'shower': 238, 'horas': 239, 'san': 240, 'tea': 241, 'included': 242, 'nearby': 243, 'state': 244, 'nearest': 245, 'water': 246, 'yourself': 247, 'offered': 248, 'conditioning': 249, 'estabelecimento': 250, 'connected': 251, 'estadia': 252, 'outras': 253, 'refrigerator': 254, 'use': 255, 'square': 256, 'central': 257, 'ironing': 258, 'holiday': 259, 'tub': 260, \"you'll\": 261, 'negócios': 262, 'full': 263, 'conveniences': 264, 'great': 265, 'place': 266, 'seating': 267, 'sinta': 268, 'serviço': 269, 'our': 270, 'provide': 271, 'sem': 272, 'onsite': 273, 'historic': 274, 'banho': 275, 'convenience': 276, 'refeições': 277, 'motel': 278, 'best': 279, 'district': 280, 'such': 281, 'num': 282, 'principais': 283, 'south': 284, 'new': 285, 'only': 286, 'there': 287, 'accommodation': 288, 'channels': 289, 'centro': 290, 'distâncias': 291, 'apresentadas': 292, 'milha': 293, 'quilómetro': 294, 'acesso': 295, 'decorated': 296, 'premium': 297, 'areas': 298, 'high': 299, 'p': 300, 'relax': 301, 'morning': 302, '18': 303, 'near': 304, 'minutos': 305, 'casas': 306, 'ainda': 307, 'town': 308, 'find': 309, 'cuisine': 310, 'mini': 311, 'gym': 312, 'sauna': 313, 'balcony': 314, 'mediante': 315, 'santa': 316, 'polibã': 317, 'programming': 318, 'contato': 319, 'dinner': 320, 'street': 321, 'throughout': 322, 'includes': 323, 'staff': 324, 'island': 325, 'ar': 326, 'hair': 327, 'art': 328, 'comfortable': 329, '13': 330, \"hotel's\": 331, 'drink': 332, 'el': 333, 'convention': 334, 'ficará': 335, 'seleção': 336, 'canais': 337, 'refrigerators': 338, 'self': 339, 'variety': 340, 'attractions': 341, 'keeps': 342, 'western': 343, 'am': 344, 'hours': 345, 'national': 346, 'lcd': 347, 'assista': 348, 'st': 349, 'televisions': 350, 'taxas': 351, 'up': 352, 'west': 353, 'fridge': 354, '25': 355, 'stadium': 356, 'grand': 357, 'their': 358, '19': 359, 'north': 360, 'furnished': 361, 'additional': 362, 'view': 363, '14': 364, 'river': 365, 'sobretaxa': 366, 'during': 367, 'come': 368, 'drinks': 369, 'casino': 370, 'off': 371, 'oferece': 372, 'activities': 373, 'making': 374, 'american': 375, 'kitchen': 376, 'condicionado': 377, 'many': 378, 'museu': 379, 'final': 380, 'friendly': 381, 'meeting': 382, 'set': 383, 'they': 384, 'travelers': 385, 'momento': 386, 'sea': 387, 'plaza': 388, 'bath': 389, 'advantage': 390, 'lunch': 391, 'dishes': 392, 'surcharge': 393, 'car': 394, 'carro': 395, 'style': 396, 'family': 397, 'praia': 398, 'lhe': 399, 'contacto': 400, 'artigos': 401, 'higiene': 402, 'apartments': 403, 'distance': 404, 'como': 405, 'rule': 406, '16': 407, 'niagara': 408, 'cabelo': 409, 'convenient': 410, 'hilton': 411, 'internacional': 412, 'easy': 413, 'choice': 414, 'extras': 415, 'lake': 416, 'newspapers': 417, 'options': 418, 'course': 419, 'showers': 420, '21': 421, 'televisor': 422, 'municipal': 423, 'permite': 424, 'makers': 425, 'recreational': 426, 'units': 427, 'dryers': 428, 'café': 429, 'adicionais': 430, 'television': 431, 'reception': 432, 'offering': 433, \"minutes'\": 434, 'train': 435, 'safe': 436, 'fee': 437, 'than': 438, 'wired': 439, 'tennis': 440, 'interstate': 441, 'concierge': 442, 'animais': 443, 'medidas': 444, 'receção': 445, 'village': 446, 'regional': 447, 'popular': 448, 'luggage': 449, 'storage': 450, 'mile': 451, 'ficar': 452, 'sempre': 453, 'dispõem': 454, 'marriott': 455, 'comes': 456, 'acomodação': 457, 'recepção': 458, 'del': 459, 'maker': 460, 'área': 461, 'shop': 462, 'housekeeping': 463, 'its': 464, 'b': 465, 'fitted': 466, 'mountain': 467, 'old': 468, 'like': 469, 's': 470, 'cabo': 471, 'cocktail': 472, 'serve': 473, 'calls': 474, 'less': 475, 'disponível': 476, 'ser': 477, 'fully': 478, 'public': 479, 'both': 480, 'fresh': 481, 'short': 482, 'privativas': 483, 'vista': 484, 'diariamente': 485, 'microwaves': 486, 'limited': 487, 'aberta': 488, 'days': 489, 'secadores': 490, 'wyndham': 491, 'range': 492, 'around': 493, 'tour': 494, 'parque': 495, 'request': 496, 'shops': 497, 'sports': 498, 'speed': 499, 'fees': 500, 'taxa': 501, 'cartão': 502, 'aceita': 503, 'desks': 504, 'banheira': 505, 'proximity': 506, 'large': 507, 'bars': 508, 'royal': 509, 'piscina': 510, 'almoços': 511, 'conference': 512, 'metro': 513, 'falls': 514, 'cortesia': 515, 'instructions': 516, 'incorrer': 517, 'solicitações': 518, 'las': 519, 'over': 520, 'mesa': 521, 'gardens': 522, 'bay': 523, 'via': 524, 'ocean': 525, '35': 526, 'seu': 527, 'walking': 528, 'seasonal': 529, 'fax': 530, 'heart': 531, 'inch': 532, 'reserva': 533, 'antes': 534, '17': 535, 'cidade': 536, 'meals': 537, 'small': 538, 'pequenos': 539, 'box': 540, 'comercial': 541, 'secretárias': 542, 'opportunities': 543, 'extra': 544, 'estimação': 545, 'most': 546, 'red': 547, 'where': 548, 'country': 549, 'super': 550, 'hampton': 551, 'rec': 552, 'open': 553, 'per': 554, 'beautiful': 555, '40': 556, 'along': 557, 'deposit': 558, 'minuto': 559, 'centre': 560, 'heated': 561, 'irons': 562, 'boards': 563, 'several': 564, 'usando': 565, 'informações': 566, 'confirmação': 567, 'vigor': 568, 'covid': 569, 'crianças': 570, 'world': 571, 'houston': 572, 'lodge': 573, 'snacks': 574, 'york': 575, 'inclusive': 576, 'fios': 577, 'ride': 578, 'after': 579, 'towels': 580, 'roundtrip': 581, '26': 582, 'apartment': 583, 'more': 584, 'porto': 585, 'minibar': 586, 'when': 587, 'enjoyed': 588, 'may': 589, 'tvs': 590, 'go': 591, 'swim': 592, '–': 593, 'special': 594, 'dispõe': 595, 'total': 596, 'sofa': 597, 'fairfield': 598, 'décor': 599, 'pé': 600, 'grab': 601, 'sua': 602, 'telefone': 603, 'além': 604, 'praça': 605, 'balconies': 606, 'court': 607, 'traditional': 608, 'favorite': 609, 'market': 610, 'building': 611, 'college': 612, 'cleaning': 613, 'tower': 614, 'sun': 615, 'copy': 616, 'conveniently': 617, '50': 618, 'estar': 619, 'nesta': 620, 'dinheiro': 621, 'neste': 622, 'welcome': 623, 'texas': 624, 'surrounded': 625, 'alguns': 626, 'pequeno': 627, 'port': 628, 'suite': 629, 'designed': 630, 'perfect': 631, 'paris': 632, 'le': 633, 'overlooking': 634, 'courtyard': 635, 'harbor': 636, 'unique': 637, 'safety': 638, 'hiking': 639, 'arts': 640, 'hospital': 641, 'quinta': 642, 'próximos': 643, 'jardim': 644, 'non': 645, 'quality': 646, 'surrounding': 647, 'arena': 648, 'night': 649, 'cofres': 650, 'pet': 651, 'table': 652, 'fica': 653, 'seus': 654, 'leisure': 655, 'elegant': 656, 'music': 657, 'london': 658, 'charge': 659, 'point': 660, 'visit': 661, '22': 662, 'separate': 663, 'dry': 664, 'main': 665, 'des': 666, 'evening': 667, 'hall': 668, 'plus': 669, 'carte': 670, 'restaurante': 671, 'conta': 672, 'recreation': 673, 'ticket': 674, 'quench': 675, 'thirst': 676, 'contemporary': 677, 'principal': 678, 'equipadas': 679, 'efetuada': 680, 'armazenamento': 681, 'bagagem': 682, 'right': 683, 'aeroportos': 684, 'lençóis': 685, 'quarto': 686, 'rápido': 687, 'dvd': 688, 'fireplace': 689, 'stylish': 690, '100': 691, 'smoking': 692, 'appreciate': 693, 'manobrista': 694, 'funcionários': 695, 'viagem': 696, 'age': 697, 'playa': 698, 'al': 699, 'florida': 700, 'good': 701, 'snack': 702, 'massage': 703, 'almoço': 704, 'machine': 705, 'hill': 706, 'coast': 707, 'hotel’s': 708, 'aproveite': 709, 'three': 710, 'select': 711, 'menu': 712, 'nanjing': 713, 'eps': 714, 'breakfasts': 715, 'fruit': 716, 'linen': 717, 'centrally': 718, 'diária': 719, 'seco': 720, 'wine': 721, 'melhor': 722, 'phones': 723, 'kitchenette': 724, 'upon': 725, '32': 726, 'serviços': 727, 'até': 728, 'presentes': 729, 'segurança': 730, 'depósito': 731, 'chegada': 732, 'serving': 733, 'points': 734, 'y': 735, 'reached': 736, 'children': 737, 'simply': 738, 'safes': 739, 'long': 740, 'standard': 741, 'time': 742, 'todos': 743, '27': 744, 'frigorífico': 745, 'explore': 746, 'live': 747, 'floor': 748, 'satélite': 749, 'vicinity': 750, 'green': 751, 'saint': 752, 'palace': 753, 'valley': 754, 'eur': 755, 'fort': 756, 'tropical': 757, 'assistance': 758, 'meal': 759, 'theater': 760, 'ihg': 761, 'we': 762, 'camas': 763, 'event': 764, 'castle': 765, 'america': 766, 'temperatura': 767, '60': 768, 'pessoas': 769, 'oficial': 770, 'foto': 771, 'requisitos': 772, 'shared': 773, 'bathtubs': 774, 'ideal': 775, 'sheraton': 776, 'theatre': 777, 'boutique': 778, 'metros': 779, 'common': 780, 'você': 781, 'instalações': 782, 'complete': 783, 'health': 784, 'tampa': 785, 'ecrã': 786, 'plano': 787, 'pela': 788, 'relaxing': 789, 'light': 790, 'dê': 791, 'winnipeg': 792, 'visiting': 793, 'through': 794, 'charlotte': 795, 'half': 796, 'edinburgh': 797, 'furniture': 798, 'barbecue': 799, 'collection': 800, 'carolina': 801, 'james': 802, 'across': 803, 'experience': 804, 'meters': 805, 'between': 806, 'quiet': 807, 'bus': 808, 'two': 809, 'washington': 810, 'fishing': 811, 'complex': 812, 'hbo': 813, 'usd': 814, 'disponíveis': 815, 'manhã': 816, 'crédito': 817, 'especiais': 818, 'disponibilidade': 819, 'viajar': 820, 'fumantes': 821, 'requested': 822, 'memorial': 823, 'buffalo': 824, 'museo': 825, 'natural': 826, 'theme': 827, 'start': 828, 'number': 829, '31': 830, 'suas': 831, 'refreshing': 832, 'needs': 833, 'conforto': 834, 'situated': 835, 'fun': 836, 'beverages': 837, 'bright': 838, 'villas': 839, 'nature': 840, 'hôtel': 841, '45': 842, 'poderão': 843, 'residence': 844, 'prime': 845, 'award': 846, 'ixtapa': 847, 'italian': 848, 'food': 849, 'jose': 850, 'du': 851, 'assistência': 852, 'fredericksburg': 853, 'li': 854, 'selection': 855, 'found': 856, 'various': 857, 'ski': 858, 'eventos': 859, 'teatro': 860, 'library': 861, 'pelo': 862, 'registo': 863, 'transporte': 864, 'waterfront': 865, 'space': 866, 'hotels': 867, 'jornais': 868, 'entrar': 869, 'individual': 870, 'variam': 871, 'dependendo': 872, 'política': 873, 'documento': 874, 'identificação': 875, 'débito': 876, 'exigidos': 877, 'despesas': 878, 'sujeitas': 879, 'essas': 880, 'garantidas': 881, 'viaje': 882, 'surpresas': 883, 'confira': 884, 'recentes': 885, 'relacionados': 886, 'destino': 887, 'receber': 888, 'minimum': 889, 'interest': 890, 'about': 891, 'game': 892, 'cerca': 893, 'arlington': 894, 'get': 895, 'amusement': 896, 'wellness': 897, 'ipod': 898, 'luxury': 899, '33': 900, 'servido': 901, 'medical': 902, 'vending': 903, 'massages': 904, 'contam': 905, 'stunning': 906, 'if': 907, 'min': 908, 'unidades': 909, 'adjacent': 910, 'durante': 911, 'workout': 912, 'store': 913, \"children's\": 914, 'surroundings': 915, 'everything': 916, 'warm': 917, 'individually': 918, 'living': 919, 'rooftop': 920, 'whether': 921, 'cocktails': 922, 'devem': 923, 'floors': 924, 'panamá': 925, 'canal': 926, 'ligação': 927, 'cofre': 928, 'zoo': 929, 'direct': 930, 'east': 931, 'exhibition': 932, 'excellent': 933, 'setting': 934, 'next': 935, 'também': 936, 'keep': 937, 'patio': 938, 'foot': 939, 'motor': 940, 'semarang': 941, 'igreja': 942, 'pode': 943, 'peça': 944, 'favorito': 945, 'saída': 946, 'field': 947, 'stop': 948, 'base': 949, 'lounges': 950, 'newspaper': 951, 'exercise': 952, 'policies': 953, 'organizar': 954, 'vai': 955, 'white': 956, 'nonsmoking': 957, 'marina': 958, \"guests'\": 959, 'clock': 960, 'docking': 961, 'grande': 962, 'possible': 963, '29': 964, 'combinação': 965, 'manhãs': 966, 'forma': 967, 'roof': 968, 'mediterranean': 969, 'george': 970, 'steam': 971, 'courts': 972, 'hospitality': 973, 'list': 974, 'poolside': 975, 'history': 976, 'varanda': 977, 'cafe': 978, 'passos': 979, 'aos': 980, 'discovery': 981, 'dubai': 982, 'alojamento': 983, 'miami': 984, 'elevator': 985, 'into': 986, 'nos': 987, 'back': 988, 'board': 989, 'directly': 990, 'spokane': 991, 'gift': 992, 'sure': 993, 'computer': 994, 'maldives': 995, 'terraço': 996, 'antonio': 997, 'parc': 998, 'beauty': 999, 'baguio': 1000, 'six': 1001, 'underground': 1002, 'famous': 1003, 'cycling': 1004, 'satisfying': 1005, 'lavandaria': 1006, 'southern': 1007, 'stays': 1008, 'us': 1009, 'beaches': 1010, 'zona': 1011, 'estrelas': 1012, 'douro': 1013, 'cozinha': 1014, 'onde': 1015, 'junto': 1016, 'kitchens': 1017, 'players': 1018, 'help': 1019, 'plantation': 1020, 'own': 1021, 'springs': 1022, 'sightseeing': 1023, 'raleigh': 1024, 'four': 1025, 'museums': 1026, 'proteção': 1027, 'social': 1028, 'opções': 1029, 'railway': 1030, 'addition': 1031, 'ciudad': 1032, 'entrance': 1033, 'conferências': 1034, 'quadrados': 1035, 'highway': 1036, 'machines': 1037, 'accessible': 1038, 'outlets': 1039, 'community': 1040, 'treatments': 1041, 'i': 1042, 'diving': 1043, 'until': 1044, 'hamilton': 1045, 'gallery': 1046, 'apenas': 1047, 'hyatt': 1048, 'estádio': 1049, 'semana': 1050, '06': 1051, 'unwind': 1052, 'jacksonville': 1053, 'wood': 1054, 'cozy': 1055, 'chicago': 1056, 'fulton': 1057, 'entrada': 1058, 'delicious': 1059, 'certain': 1060, 'need': 1061, 'please': 1062, 'winning': 1063, 'order': 1064, 'esta': 1065, 'contidas': 1066, 'specialties': 1067, 'pay': 1068, 'nacional': 1069, 'prescott': 1070, 'mar': 1071, 'das': 1072, 'stations': 1073, 'pools': 1074, 'tourist': 1075, 'mountains': 1076, 'austin': 1077, 'syracuse': 1078, 'people': 1079, 'universidade': 1080, 'richmond': 1081, 'malaga': 1082, 'cost': 1083, 'trail': 1084, 'eggs': 1085, 'atm': 1086, 'coração': 1087, 'vila': 1088, 'restaurantes': 1089, 'locais': 1090, 'lazer': 1091, 'play': 1092, 'cultural': 1093, 'run': 1094, 'm': 1095, 'savannah': 1096, 'wonderful': 1097, 'torre': 1098, '23': 1099, 'têm': 1100, 'catch': 1101, 'planning': 1102, 'bathtub': 1103, 'enjoys': 1104, 'bedding': 1105, 'top': 1106, 'outlet': 1107, 'major': 1108, 'premises': 1109, 'movie': 1110, 'wake': 1111, 'corporate': 1112, 'mail': 1113, 'optional': 1114, 'lista': 1115, 'acima': 1116, 'incompleta': 1117, 'depósitos': 1118, 'incluir': 1119, 'impostos': 1120, 'sujeitos': 1121, 'mudanças': 1122, 'estadias': 1123, 'distanciamento': 1124, 'foram': 1125, 'implementadas': 1126, 'áreas': 1127, 'five': 1128, 'whirlpool': 1129, 'colonial': 1130, 'here': 1131, 'first': 1132, 'parks': 1133, 'transportation': 1134, 'dine': 1135, '34': 1136, 'preferencial': 1137, 'comece': 1138, 'comum': 1139, 'led': 1140, 'player': 1141, 'beachfront': 1142, 'gulf': 1143, 'billings': 1144, 'little': 1145, 'pousada': 1146, '44': 1147, 'telephone': 1148, 'noite': 1149, 'sites': 1150, 'sandy': 1151, 'been': 1152, 'dryer': 1153, 'nestled': 1154, 'events': 1155, 'eat': 1156, '28': 1157, 'spectacular': 1158, 'vacation': 1159, 'anos': 1160, 'picnic': 1161, 'charming': 1162, 'different': 1163, 'arizona': 1164, 'furnishings': 1165, 'english': 1166, 'através': 1167, 'grill': 1168, 'aproximadamente': 1169, 'value': 1170, 'elevador': 1171, 'johnson': 1172, 'aquarium': 1173, 'winery': 1174, 'guestroom': 1175, 'elegantly': 1176, 'beds': 1177, 'newport': 1178, 'appointed': 1179, 'recreativas': 1180, 'summer': 1181, 'springhill': 1182, 'ramada': 1183, 'region': 1184, 'strong': 1185, 'bluff': 1186, 'wide': 1187, 'end': 1188, 'dayton': 1189, 'cereal': 1190, 'blue': 1191, 'electric': 1192, 'hostel': 1193, 'multilingual': 1194, 'bank': 1195, 'olympic': 1196, 'kong': 1197, 'mercado': 1198, 'real': 1199, 'olhos': 1200, 'solicitar': 1201, '656': 1202, 'part': 1203, 'cook': 1204, 'ilha': 1205, '2625': 1206, 'cold': 1207, 'families': 1208, 'added': 1209, 'forest': 1210, 'aprimorada': 1211, 'atualmente': 1212, 'feita': 1213, 'desinfetante': 1214, 'superfícies': 1215, 'tocadas': 1216, 'regularmente': 1217, 'desinfetadas': 1218, 'nas': 1219, 'refeição': 1220, 'afirma': 1221, 'segue': 1222, 'orientações': 1223, 'higienização': 1224, 'bike': 1225, 'rental': 1226, 'midland': 1227, 'charges': 1228, 'una': 1229, 'los': 1230, 'sol': 1231, 'split': 1232, 'adults': 1233, 'so': 1234, 'flags': 1235, 'saturday': 1236, 'diego': 1237, 'decoração': 1238, 'dirija': 1239, 'planeia': 1240, 'evento': 1241, 'sala': 1242, 'items': 1243, 'staying': 1244, 'babysitting': 1245, 'volleyball': 1246, 'travelodge': 1247, 'lauderdale': 1248, 'eastbourne': 1249, 'council': 1250, '90': 1251, 'coloca': 1252, 'nova': 1253, 'plasma': 1254, 'ligue': 1255, 'espreitadela': 1256, 'mills': 1257, 'tem': 1258, 'dias': 1259, 'built': 1260, 'buildings': 1261, 'tennessee': 1262, 'life': 1263, 'cathedral': 1264, 'varied': 1265, 'transport': 1266, 'links': 1267, 'jardin': 1268, 'french': 1269, 'chair': 1270, 'aparthotel': 1271, 'intercontinental': 1272, 'children’s': 1273, 'was': 1274, 'few': 1275, 'feel': 1276, 'panoramic': 1277, 'ceiling': 1278, 'steps': 1279, 'incluindo': 1280, 'deverá': 1281, 'seguintes': 1282, 'imposto': 1283, 'coin': 1284, \"there's\": 1285, 'premier': 1286, 'grounds': 1287, 'sitting': 1288, 'mount': 1289, 'marta': 1290, 'petiscar': 1291, 'county': 1292, 'alternativa': 1293, 'king': 1294, 'alanya': 1295, 'turkish': 1296, 'warmly': 1297, 'rent': 1298, 'rio': 1299, 'stone': 1300, 'pleasant': 1301, 'virginia': 1302, 'black': 1303, 'breeze': 1304, 'louis': 1305, '07': 1306, 'multilingue': 1307, 'rodeway': 1308, 'doubletree': 1309, 'exploring': 1310, 'wisconsin': 1311, 'luxurious': 1312, 'ideally': 1313, 'lexington': 1314, 'puts': 1315, 'outside': 1316, 'barcelona': 1317, 'bistro': 1318, 'auckland': 1319, 'transfer': 1320, 'eagle': 1321, 'historical': 1322, 'oven': 1323, 'ft': 1324, 'try': 1325, 'rock': 1326, 'aprecie': 1327, 'round': 1328, 'columbus': 1329, 'michigan': 1330, 'fujairah': 1331, 'traverse': 1332, 'vegas': 1333, 'gunnison': 1334, 'wroclaw': 1335, 'barbara': 1336, 'nice': 1337, 'avenue': 1338, 'iron': 1339, 'hyde': 1340, 'doorstep': 1341, 'reach': 1342, 'relaxation': 1343, 'skiing': 1344, 'possui': 1345, 'apartamentos': 1346, 'seafood': 1347, 'u': 1348, 'staybridge': 1349, 'performing': 1350, 'office': 1351, 'opened': 1352, 'simple': 1353, 'numa': 1354, 'senhora': 1355, 'francisco': 1356, '42': 1357, 'colchões': 1358, 'terminal': 1359, 'discover': 1360, 'seattle': 1361, 'closet': 1362, 'prague': 1363, 'numerous': 1364, 'tram': 1365, 'studios': 1366, 'oak': 1367, 'c': 1368, 'visitors': 1369, 'specialty': 1370, 'equipment': 1371, 'weekday': 1372, 'traslado': 1373, 'lavanderia': 1374, 'toalhas': 1375, 'utilizam': 1376, 'equipamento': 1377, 'recebem': 1378, 'álcool': 1379, 'gel': 1380, 'funcionário': 1381, 'meio': 1382, 'aplicadas': 1383, 'apply': 1384, 'mexico': 1385, 'california': 1386, 'monumento': 1387, 'familiar': 1388, '500': 1389, 'church': 1390, 'class': 1391, 'charged': 1392, '1640': 1393, 'bowling': 1394, 'bicycle': 1395, 'wat': 1396, 'produtos': 1397, 'hidromassagem': 1398, 'activity': 1399, 'facials': 1400, 'tudo': 1401, 'body': 1402, 'destinations': 1403, 'harbour': 1404, 'gatwick': 1405, 'before': 1406, 'civic': 1407, 'waterpark': 1408, 'adventure': 1409, 'pillowtop': 1410, 'digitais': 1411, 'exclusivos': 1412, 'pedido': 1413, 'ridge': 1414, 'easily': 1415, 'ensure': 1416, 'venue': 1417, 'creek': 1418, 'aberto': 1419, 'quarter': 1420, 'renovated': 1421, 'homewood': 1422, '43': 1423, 'encontra': 1424, 'peaceful': 1425, 'playground': 1426, 'metropolitan': 1427, \"night's\": 1428, 'sleep': 1429, 'professional': 1430, 'facility': 1431, \"you're\": 1432, 'inspired': 1433, 'windows': 1434, 'tuesday': 1435, 'wedding': 1436, 'horário': 1437, 'todas': 1438, 'antecedência': 1439, 'detalhes': 1440, 'smart': 1441, 'further': 1442, 'very': 1443, 'kids': 1444, 'years': 1445, 'afternoon': 1446, 'note': 1447, 'bite': 1448, 'subject': 1449, 'catedral': 1450, 'quiser': 1451, 'ementa': 1452, 'pelos': 1453, 'mails': 1454, 'operated': 1455, 'greenville': 1456, 'castelo': 1457, 'milan': 1458, 'bicycles': 1459, 'weather': 1460, 'micro': 1461, 'ondas': 1462, 'mantenha': 1463, 'secador': 1464, 'excursões': 1465, 'econo': 1466, 'story': 1467, 'rates': 1468, 'asian': 1469, 'measuring': 1470, 'guia': 1471, 'fe': 1472, 'les': 1473, 'labranda': 1474, 'getting': 1475, 'accommodate': 1476, 'handy': 1477, 'sapporo': 1478, 'barcelona’s': 1479, 'see': 1480, 'civil': 1481, 'war': 1482, 'meat': 1483, 'extensive': 1484, 'travellers': 1485, 'heating': 1486, 'unforgettable': 1487, 'câmara': 1488, 'france': 1489, 'fall': 1490, 'johor': 1491, 'omaha': 1492, 'bluffs': 1493, 'vacinação': 1494, 'riding': 1495, 'soho': 1496, 'villa': 1497, 'columbia': 1498, 'chandler': 1499, 'bottled': 1500, 'iráclio': 1501, 'ruidoso': 1502, 'fultondale': 1503, 'platteville': 1504, 'birmingham': 1505, 'soundproofed': 1506, 'yards': 1507, 'juices': 1508, 'elizabeth': 1509, 'among': 1510, 'bares': 1511, 'entretenimento': 1512, 'hospedagem': 1513, 'contain': 1514, 'others': 1515, 'botanical': 1516, 'quito': 1517, 'rainfall': 1518, 'showerheads': 1519, 'kilometer': 1520, 'school': 1521, 'basilica': 1522, 'maria': 1523, 'georgia': 1524, 'who': 1525, 'splash': 1526, 'travel': 1527, 'poderá': 1528, 'weekdays': 1529, 'made': 1530, 'being': 1531, 'valet': 1532, 'toilet': 1533, 'waffle': 1534, 'd': 1535, 'ice': 1536, 'courses': 1537, 'voice': 1538, 'academia': 1539, 'opera': 1540, 'diretamente': 1541, 'lavados': 1542, 'mínima': 1543, '°c': 1544, 'verificações': 1545, 'conduzidas': 1546, 'periodicamente': 1547, 'radisson': 1548, 'heritage': 1549, 'ranch': 1550, 'zoológico': 1551, 'es': 1552, 'corona': 1553, 'orlando': 1554, 'disney': 1555, '95': 1556, 'taxes': 1557, 'dallas': 1558, 'toruń': 1559, 'picturesque': 1560, 'islands': 1561, 'golfe': 1562, 'personalizada': 1563, 'espaço': 1564, 'chairs': 1565, 'satisfy': 1566, 'launderette': 1567, 'mingle': 1568, 'held': 1569, 'dulles': 1570, 'gratuito': 1571, '80': 1572, '85': 1573, 'niágara': 1574, 'bridge': 1575, 'down': 1576, 'inclui': 1577, 'independence': 1578, 'pittsburgh': 1579, 'wa': 1580, 'televisão': 1581, 'thoughtful': 1582, 'egyptian': 1583, 'comforts': 1584, 'fins': 1585, 'digital': 1586, 'lago': 1587, 'fine': 1588, 'german': 1589, 'happy': 1590, 'capital': 1591, 'beer': 1592, 'f': 1593, 'imóvel': 1594, 'viajantes': 1595, 'mirror': 1596, 'bikes': 1597, 'friday': 1598, 'pets': 1599, 'tax': 1600, 'breathtaking': 1601, 'cooked': 1602, 'externa': 1603, 'panama': 1604, 'spring': 1605, 'pais': 1606, 'após': 1607, 'menos': 1608, 'instruções': 1609, 'completely': 1610, 'corner': 1611, 'child': 1612, 'design': 1613, 'yavapai': 1614, 'termine': 1615, 'bebida': 1616, 'refrescante': 1617, '66': 1618, 'deluxe': 1619, 'biblioteca': 1620, 'congressos': 1621, 'carpeted': 1622, 'snorkeling': 1623, 'tours': 1624, '37': 1625, 'jfk': 1626, 'manor': 1627, 'situa': 1628, 'antigo': 1629, '38': 1630, 'pass': 1631, 'patios': 1632, 'designer': 1633, '48': 1634, 'kyoto': 1635, 'classic': 1636, 'ferry': 1637, 'mosque': 1638, 'pavilion': 1639, \"resort's\": 1640, 'chamadas': 1641, 'recarregar': 1642, 'baterias': 1643, 'wooden': 1644, 'hobby': 1645, 'boasts': 1646, 'mansion': 1647, 'motorway': 1648, 'ergonomic': 1649, 'hancock': 1650, 'lincoln': 1651, 'reasons': 1652, 'movies': 1653, 'wardrobe': 1654, '328': 1655, 'invited': 1656, 'array': 1657, 'hague': 1658, 'communal': 1659, 'colatina': 1660, 'minded': 1661, 'guide': 1662, 'lakes': 1663, 'providing': 1664, 'paul': 1665, 'minibars': 1666, 'choose': 1667, 'lovely': 1668, 'ambiance': 1669, 'cove': 1670, 'salisbury': 1671, 'atmosphere': 1672, 'rest': 1673, 'yarmouth': 1674, 'twin': 1675, 'cada': 1676, 'gran': 1677, 'pessoa': 1678, 'makes': 1679, 'zone': 1680, 'golfing': 1681, 'ingressos': 1682, 'share': 1683, 'boise': 1684, 'enhance': 1685, 'candlewood': 1686, 'louisville': 1687, 'fresno': 1688, 'now': 1689, 'exotic': 1690, 'crystal': 1691, 'marrakech': 1692, 'key': 1693, 'cannes': 1694, 'humphreys': 1695, 'agios': 1696, 'knightsbridge': 1697, 'using': 1698, 'torreon': 1699, 'manila': 1700, 'costa': 1701, 'savoie': 1702, 'amneville': 1703, '1969': 1704, 'booked': 1705, \"earl's\": 1706, 'lively': 1707, 'localizado': 1708, 'paulo': 1709, 'perto': 1710, 'salas': 1711, 'selina': 1712, 'distances': 1713, 'displayed': 1714, 'craft': 1715, 'basílica': 1716, 'culture': 1717, 'kings': 1718, 'company': 1719, 'indonesia': 1720, 'rosario': 1721, 'those': 1722, 'nossa': 1723, 'chuveiro': 1724, 'fixo': 1725, 'continentais': 1726, 'signature': 1727, 'sized': 1728, 'camden': 1729, 'kettle': 1730, '2953': 1731, 'apart': 1732, 'residential': 1733, 'bbq': 1734, 'smoke': 1735, 'longer': 1736, 'tanger': 1737, 'commercial': 1738, 'financial': 1739, 'arranged': 1740, 'force': 1741, 'route': 1742, 'boating': 1743, 'businesses': 1744, 'interna': 1745, 'restrições': 1746, 'possibilidade': 1747, 'indicadas': 1748, 'detector': 1749, 'qualquer': 1750, 'generator': 1751, 'dc': 1752, 'rail': 1753, 'farm': 1754, 'chetumal': 1755, 'pescador': 1756, 'palacio': 1757, 'laguna': 1758, 'água': 1759, 'leque': 1760, 'oferecidas': 1761, 'lucas': 1762, 'punta': 1763, 'con': 1764, 'metres': 1765, 'guesthouse': 1766, '65': 1767, 'seaworld': 1768, 'unlimited': 1769, 'copernicus': 1770, '2297': 1771, 'nightclub': 1772, 'sights': 1773, 'golden': 1774, 'rai': 1775, 'unit': 1776, \"city's\": 1777, 'solarium': 1778, 'boat': 1779, 'guachipas': 1780, 'martin': 1781, '72': 1782, 'sede': 1783, 'reuniões': 1784, 'bidets': 1785, 'guarda': 1786, 'equipe': 1787, 'venues': 1788, '75': 1789, 'ohio': 1790, 'cincinnati': 1791, 'bangkok': 1792, 'childcare': 1793, 'single': 1794, '984': 1795, 'biarritz': 1796, 'countryside': 1797, 'guests’': 1798, 'wines': 1799, 'greek': 1800, 'according': 1801, 'any': 1802, 'weights': 1803, 'cardio': 1804, 'deck': 1805, 'yellowstone': 1806, 'banheiro': 1807, 'fallsview': 1808, 'queen': 1809, 'toronto': 1810, 'algodão': 1811, 'egípcio': 1812, 'bush': 1813, 'driving': 1814, 'watch': 1815, 'oferecer': 1816, 'glass': 1817, 'looks': 1818, 'northern': 1819, 'centers': 1820, 'chattanooga': 1821, 't': 1822, 'petersburg': 1823, 'clearwater': 1824, 'dois': 1825, 'barbados': 1826, 'vibrant': 1827, 'alentejo': 1828, 'dam': 1829, 'meetings': 1830, 'ready': 1831, 'mayo': 1832, 'clinic': 1833, 'executive': 1834, 'city’s': 1835, 'neighborhood': 1836, '200': 1837, 'millennium': 1838, 'ficam': 1839, 'pamper': 1840, 'finnish': 1841, 'perfectly': 1842, 'ca': 1843, 'caters': 1844, 'looking': 1845, 'person': 1846, 'arrange': 1847, 'under': 1848, 'nashville': 1849, 'chestnut': 1850, 'traveling': 1851, 'pleasure': 1852, 'something': 1853, 'must': 1854, 'alike': 1855, 'weekly': 1856, '5pm': 1857, '11pm': 1858, 'entire': 1859, 'hand': 1860, 'healthy': 1861, 'mandatory': 1862, 'pagar': 1863, 'encargos': 1864, '47': 1865, 'incluímos': 1866, 'cobranças': 1867, 'forneceu': 1868, 'quando': 1869, 'políticas': 1870, '17h00': 1871, 'responsável': 1872, 'grapevine': 1873, 'trails': 1874, 'lane': 1875, 'plan': 1876, 'games': 1877, 'nightly': 1878, 'leave': 1879, 'host': 1880, 'dinners': 1881, 'plenty': 1882, 'still': 1883, 'expresso': 1884, 'pub': 1885, '91': 1886, 'kitchenettes': 1887, 'stovetops': 1888, 'scandic': 1889, 'aquário': 1890, 'juan': 1891, 'carlos': 1892, 'alabama': 1893, 'bazaar': 1894, 'mesquita': 1895, 'fortaleza': 1896, 'computadores': 1897, 'sweet': 1898, 'pick': 1899, 'sport': 1900, 'amador': 1901, 'hosts': 1902, 'alarm': 1903, 'menus': 1904, 'goiânia': 1905, 'araguaia': 1906, 'feira': 1907, 'às': 1908, 'adicionalmente': 1909, 'fiesta': 1910, 'cana': 1911, 'tubs': 1912, 'spend': 1913, \"property's\": 1914, 'jr': 1915, 'acres': 1916, 'bedrooms': 1917, 'hold': 1918, 'wahda': 1919, 'abu': 1920, 'above': 1921, 'cardiovascular': 1922, 'sheikh': 1923, 'exchange': 1924, 'edifício': 1925, 'sand': 1926, 'orleans': 1927, 'co': 1928, 'bad': 1929, 'dishwasher': 1930, 'expo': 1931, 'rich': 1932, 'cascais': 1933, 'salt': 1934, 'atlantic': 1935, 'winter': 1936, 'kentucky': 1937, 'boone': 1938, 'mary': 1939, 'tourists': 1940, 'necessary': 1941, 'should': 1942, 'encontrará': 1943, 'seaport': 1944, 'wichita': 1945, 'these': 1946, 'sky': 1947, 'what': 1948, 'fox': 1949, 'news': 1950, 'yogurt': 1951, 'marine': 1952, '70': 1953, 'double': 1954, 'same': 1955, 'photocopying': 1956, 'fletcher': 1957, 'connections': 1958, 'amongst': 1959, 'passing': 1960, 'chula': 1961, 'cologne': 1962, 'lies': 1963, 'maafushi': 1964, 'them': 1965, 'seca': 1966, 'apresentar': 1967, 'criança': 1968, 'brasil': 1969, 'porte': 1970, 'ópera': 1971, 'foi': 1972, 'engomar': 1973, 'nells': 1974, 'trier': 1975, 'hole': 1976, 'broadway': 1977, 'combines': 1978, 'musée': 1979, 'burstin': 1980, 'amsterdam': 1981, 'bazar': 1982, 'trade': 1983, 'appetite': 1984, 'massachusetts': 1985, 'bedford': 1986, 'regency': 1987, 'picasso': 1988, 'pasadena': 1989, 'approximately': 1990, 'toulouse': 1991, 'temple': 1992, 'palácio': 1993, 'bahru': 1994, 'ia': 1995, 'ter': 1996, 'dark': 1997, '39': 1998, 'rochelle': 1999, 'massagens': 2000, 'fornecido': 2001, 'deverão': 2002, 'comprovação': 2003, 'ciclo': 2004, 'contra': 2005, 'turismo': 2006, 'naples': 2007, '41': 2008, 'jacuzzi': 2009, 'bainbridge': 2010, 'várias': 2011, 'horseback': 2012, 'interior': 2013, 'sleeper': 2014, 'biking': 2015, 'serene': 2016, 'transações': 2017, '19h00': 2018, 'balıkesir': 2019, 'hills': 2020, 'paso': 2021, 'indian': 2022, 'opposite': 2023, 'charm': 2024, 'mxn': 2025, '150': 2026, 'things': 2027, 'venao': 2028, 'cedar': 2029, 'indianapolis': 2030, 'palm': 2031, 'kuala': 2032, 'lumpur': 2033, 'disso': 2034, 'season': 2035, 'noted': 2036, 'october': 2037, 'athens': 2038, 'retreat': 2039, 'lagoon': 2040, 'wrap': 2041, 'limo': 2042, 'condo': 2043, 'vale': 2044, 'cottages': 2045, 'mitchell': 2046, 'americinn': 2047, 'rehoboth': 2048, 'dunes': 2049, 'toast': 2050, 'princess': 2051, 'aqua': 2052, 'oyster': 2053, 'moon': 2054, 'shelter': 2055, 'ben’s': 2056, 'bulgari': 2057, 'alexandria': 2058, 'taking': 2059, 'bordentown': 2060, 'jersey': 2061, 'heidelberg': 2062, 'times': 2063, 'warner': 2064, 'robins': 2065, 'janesville': 2066, 'microtel': 2067, 'vineland': 2068, 'iowa': 2069, 'janeiro': 2070, 'torreón': 2071, 'newsstands': 2072, 'conrad': 2073, 'vancouver': 2074, 'stores': 2075, 'tulum': 2076, 'beaver': 2077, 'lancaster': 2078, 'system': 2079, 'sosua': 2080, 'knoxville': 2081, 'certified': 2082, 'baron': 2083, 'mobile': 2084, 'ul': 2085, 'palazzo': 2086, 'gaddi': 2087, 'wapakoneta': 2088, 'oklahoma': 2089, 'lille': 2090, 'ville': 2091, 'vieux': 2092, 'spaces': 2093, 'advance': 2094, 'albert': 2095, 'oxford': 2096, 'pastries': 2097, 'colorado': 2098, 'mercure': 2099, 'ex': 2100, 'grandes': 2101, 'variados': 2102, 'eastern': 2103, 'nordic': 2104, 'pizza': 2105, 'paid': 2106, 'foch': 2107, 'preferred': 2108, 'miamisburg': 2109, 'attractive': 2110, 'campus': 2111, 'wildlife': 2112, 'trip': 2113, 'lamego': 2114, 'rural': 2115, 'mosteiro': 2116, '69': 2117, 'roupa': 2118, 'vistas': 2119, 'específicas': 2120, 'calgary': 2121, 'eco': 2122, '120': 2123, 'freezers': 2124, 'miss': 2125, 'operates': 2126, 'arkansas': 2127, 'consists': 2128, 'arrangements': 2129, 'organized': 2130, 'pubs': 2131, 'reachable': 2132, 'soltigua': 2133, 'ups': 2134, 'products': 2135, 'alley': 2136, 'sunshine': 2137, 'cooking': 2138, 'program': 2139, 'weight': 2140, 'training': 2141, 'beyond': 2142, 'luz': 2143, 'camp': 2144, 'antique': 2145, 'soccer': 2146, 'corporations': 2147, 'saguão': 2148, 'pegar': 2149, 'nosso': 2150, 'equipamentos': 2151, 'individuais': 2152, 'vão': 2153, 'painel': 2154, 'protetor': 2155, 'acrílico': 2156, 'verificação': 2157, 'individualmente': 2158, 'global': 2159, 'recursos': 2160, 'fumaça': 2161, 'janelas': 2162, '15h00': 2163, 'ottawa': 2164, 'auditorium': 2165, 'kansas': 2166, 'spirit': 2167, 'faro': 2168, 'santuario': 2169, 'dr': 2170, 'engarrafada': 2171, 'solo': 2172, 'hora': 2173, 'aeropuerto': 2174, 'un': 2175, 'te': 2176, 'ambiente': 2177, 'galerías': 2178, 'arte': 2179, 'buena': 2180, 'walt': 2181, 'nightlife': 2182, 'phone': 2183, '600': 2184, 'yard': 2185, 'original': 2186, 'panorama': 2187, 'marble': 2188, 'chef': 2189, 'salon': 2190, 'chiang': 2191, 'pra': 2192, 'luang': 2193, 'agustin': 2194, 'internal': 2195, 'linens': 2196, 'rentals': 2197, 'reservation': 2198, 'pontos': 2199, 'reservoir': 2200, 'styled': 2201, 'treat': 2202, 'privilegiada': 2203, 'nossos': 2204, 'graham': 2205, 'mercedes': 2206, 'benz': 2207, 'franklin': 2208, 'flooring': 2209, 'samui': 2210, 'boxing': 2211, 'soak': 2212, 'fin': 2213, 'lb': 2214, 'windsurfing': 2215, 'scuba': 2216, 'road': 2217, 'independent': 2218, 'rate': 2219, 'cancel': 2220, 'even': 2221, 'pier': 2222, 'military': 2223, 'treasure': 2224, 'head': 2225, 'personal': 2226, 'laundromat': 2227, '36': 2228, 'battlefield': 2229, 'barreirinhas': 2230, 'privativo': 2231, 'escape': 2232, 'cataratas': 2233, 'iag': 2234, 'dispor': 2235, 'mp3': 2236, 'aluguer': 2237, 'limusinas': 2238, 'brookshire': 2239, 'rivers': 2240, 'racetrack': 2241, 'homestead': 2242, 'facilidades': 2243, 'aquecimento': 2244, 'excelente': 2245, 'disabled': 2246, 'illinois': 2247, 'dekalb': 2248, 'grills': 2249, 'upper': 2250, 'fl': 2251, 'tomar': 2252, 'copo': 2253, 'dedos': 2254, 'conversa': 2255, 'strategically': 2256, 'magnificent': 2257, 'montargil': 2258, 'waters': 2259, 'pond': 2260, 'dog': 2261, '49': 2262, 'começar': 2263, 'care': 2264, 'plantes': 2265, 'seeing': 2266, 'loop': 2267, 'institute': 2268, 'clientes': 2269, 'encontrar': 2270, 'recebidos': 2271, 'existem': 2272, 'possam': 2273, 'berço': 2274, 'serão': 2275, 'vez': 2276, 'filled': 2277, 'bio': 2278, 'reliable': 2279, 'allowing': 2280, 'bentoliving': 2281, 'skyline': 2282, 'galleries': 2283, 'lined': 2284, 'meet': 2285, 'essentials': 2286, 'grocery': 2287, 'marketplace': 2288, 'produce': 2289, '8am': 2290, 'pacific': 2291, 'fare': 2292, 'senses': 2293, '2pm': 2294, '10pm': 2295, 'moments': 2296, 'limitado': 2297, 'quem': 2298, 'break': 2299, 'aplica': 2300, 'idade': 2301, 'conforme': 2302, 'existentes': 2303, 'fornecidas': 2304, 'abre': 2305, 'worth': 2306, 'printing': 2307, 'tastefully': 2308, 'mexican': 2309, \"it's\": 2310, 'crafts': 2311, 'refreshments': 2312, 'veranda': 2313, 'evenings': 2314, 'always': 2315, 'carefully': 2316, 'vita': 2317, 'late': 2318, 'langosta': 2319, 'lots': 2320, 'rotebro': 2321, 'lift': 2322, 'flushing': 2323, 'since': 2324, 'ensuring': 2325, 'enjoyable': 2326, 'torget': 2327, 'bergen': 2328, 'rodadero': 2329, 'mundo': 2330, 'bello': 2331, 'bolivar': 2332, 'canyon': 2333, 'oyo': 2334, 'va': 2335, \"area's\": 2336, 'reading': 2337, 'boasting': 2338, 'peace': 2339, 'medellin': 2340, 'medellín': 2341, 'mayor': 2342, 'thomasville': 2343, 'southwest': 2344, 'i̇ncekum': 2345, 'plajı': 2346, 'alara': 2347, 'relógio': 2348, 'bebidas': 2349, 'pratos': 2350, 'navigli': 2351, 'porta': 2352, 'savory': 2353, 'garage': 2354, 'marysville': 2355, 'waffles': 2356, 'mont': 2357, 'alfresco': 2358, 'tones': 2359, 'assist': 2360, 'male': 2361, 'estadio': 2362, 'avenida': 2363, 'devens': 2364, 'dial': 2365, '67': 2366, 'assortment': 2367, 'ferroviário': 2368, 'planetário': 2369, 'netherstowe': 2370, 'dating': 2371, 'century': 2372, 'novo': 2373, 'directa': 2374, 'tra': 2375, 'noi': 2376, 'busses': 2377, 'buenos': 2378, 'aires': 2379, 'castello': 2380, 'pago': 2381, 'option': 2382, 'establishments': 2383, 'applied': 2384, 'proibida': 2385, 'cães': 2386, '8h00': 2387, 'nem': 2388, 'chanute': 2389, 'speedway': 2390, 'chic': 2391, 'stourport': 2392, 'dhabi': 2393, 'treatment': 2394, 'charleston': 2395, 'naval': 2396, 'charlottesville': 2397, 'gorge': 2398, 'bell': 2399, 'manitoba': 2400, 'templo': 2401, 'armstrong': 2402, 'surf': 2403, 'beverage': 2404, 'dhotel': 2405, '164': 2406, 'brown': 2407, 'john': 2408, '51': 2409, 'miramar': 2410, 'coliseum': 2411, 'extended': 2412, 'lost': 2413, 'banquet': 2414, 'catering': 2415, 'kowloon': 2416, 'mongkok': 2417, 'hong': 2418, 'thomas': 2419, 'freshly': 2420, 'pine': 2421, 'tree': 2422, 'trees': 2423, 'cafetaria': 2424, 'subway': 2425, 'concordia': 2426, 'españa': 2427, 'fira': 2428, 'placed': 2429, 'mystic': 2430, 'mid': 2431, 'towne': 2432, '2015': 2433, 'inside': 2434, '820': 2435, 'madrid': 2436, 'bellas': 2437, 'artes': 2438, 'book': 2439, 'spotsylvania': 2440, 'battlefields': 2441, 'espn': 2442, 'following': 2443, 'enthusiasts': 2444, 'rhode': 2445, 'pedro': 2446, 'posada': 2447, 'exterior': 2448, 'track': 2449, '2461': 2450, 'busy': 2451, 'cha': 2452, 'suit': 2453, 'ibis': 2454, 'omni': 2455, 'viking': 2456, 'minneapolis': 2457, 'eastlake': 2458, 'americas': 2459, 'side': 2460, 'domstern': 2461, 'reef': 2462, 'dafnoudi': 2463, 'ionian': 2464, 'balcão': 2465, 'viagens': 2466, 'autorização': 2467, 'gare': 2468, 'dame': 2469, 'hôpital': 2470, 'rua': 2471, 'roissy': 2472, 'charles': 2473, 'gaulle': 2474, 'cdg': 2475, 'berços': 2476, 'poucos': 2477, 'beers': 2478, 'year': 2479, 'uptown': 2480, 'douglas': 2481, 'rouen': 2482, 'interactive': 2483, 'capacidade': 2484, 'portáteis': 2485, 'cafeteiras': 2486, 'bules': 2487, 'victorian': 2488, 'specials': 2489, 'impressive': 2490, 'schiphol': 2491, 'bizotel': 2492, 'montreal': 2493, 'piazza': 2494, 'galata': 2495, 'riverview': 2496, 'uss': 2497, 'battleship': 2498, 'greater': 2499, 'society': 2500, 'antibes': 2501, 'waterford': 2502, 'ashburton': 2503, 'landmarks': 2504, 'baytown': 2505, 'boardwalk': 2506, 'stockholm': 2507, 'bathrobes': 2508, 'rue': 2509, 'dunn': 2510, 'winds': 2511, 'separados': 2512, 'combinations': 2513, 'deep': 2514, 'soaking': 2515, 'pillow': 2516, 'plush': 2517, 'bonito': 2518, '\\r\\ro': 2519, 'tornar': 2520, 'edison': 2521, 'boxes': 2522, 'monastery': 2523, 'marienthaler': 2524, 'amt': 2525, 'mena': 2526, 'currency': 2527, 'bidet': 2528, 'billiards': 2529, 'biscayne': 2530, 'attached': 2531, 'kensington': 2532, 'cama': 2533, 'número': 2534, 'completo': 2535, 'sistema': 2536, 'meia': 2537, 'arabelle': 2538, 'istambul': 2539, 'termas': 2540, 'sophia': 2541, 'then': 2542, 'truck': 2543, 'oregon': 2544, 'exceder': 2545, 'devido': 2546, 'regulamentação': 2547, 'jantar': 2548, 'ataturk': 2549, 'biloxi': 2550, 'bedroom': 2551, 'week': 2552, 'casual': 2553, 'delightful': 2554, 'ultimate': 2555, 'beautifully': 2556, 'campo': 2557, 'mas': 2558, 'ovens': 2559, 'libertyville': 2560, 'alojar': 2561, 'trumann': 2562, 'rv': 2563, 'alimentação': 2564, 'lanchonete': 2565, 'sits': 2566, 'brightly': 2567, 'hohenzollern': 2568, 'hire': 2569, 'wet': 2570, 'towneplace': 2571, 'cinema': 2572, 'crawley': 2573, 'landscaped': 2574, 'group': 2575, 'haven': 2576, 'discerning': 2577, 'exquisite': 2578, 'affords': 2579, 'pleasanton': 2580, '89': 2581, 'sumptuous': 2582, 'serena': 2583, 'ground': 2584, 'but': 2585, 'algarve': 2586, 'way': 2587, 'fenway': 2588, 'exciting': 2589, 'todo': 2590, 'grilled': 2591, 'kingsport': 2592, 'marrakesh': 2593, 'livre': 2594, 'bem': 2595, 'completa': 2596, 'saborear': 2597, 'slippers': 2598, 'mississippi': 2599, 'southernmost': 2600, 'bogotá': 2601, 'colombian': 2602, 'fenwick': 2603, 'villeneuve': 2604, 'carnegie': 2605, 'woods': 2606, 'tri': 2607, 'cities': 2608, 'size': 2609, 'traditions': 2610, 'tavern': 2611, 'moschenross': 2612, 'dakota': 2613, 'relaxe': 2614, 'phoenix': 2615, 'soft': 2616, 'middle': 2617, 'gothenburg': 2618, 'riad': 2619, 'scenic': 2620, 'savor': 2621, 'damrak': 2622, 'rafaela': 2623, 'urbano': 2624, 'região': 2625, 'prestigious': 2626, 'dom': 2627, \"diego's\": 2628, 'et': 2629, 'beauvais': 2630, 'heraklion': 2631, 'energy': 2632, 'florence': 2633, 'sanctuary': 2634, 'caribbean': 2635, 'section': 2636, 'madison': 2637, 'bryant': 2638, 'qualton': 2639, 'próxima': 2640, 'ténis': 2641, \"mark's\": 2642, 'clinch': 2643, 'barra': 2644, 'cristo': 2645, 'security': 2646, 'seward': 2647, 'rangali': 2648, 'holland': 2649, 'frederick': 2650, 'woodfield': 2651, 'wellington': 2652, 'lambton': 2653, 'basis': 2654, 'mankato': 2655, 'minnesota': 2656, 'hawley': 2657, 'pessoal': 2658, 'lagos': 2659, 'midtown': 2660, 'flavors': 2661, 'blocks': 2662, 'harrisonburg': 2663, 'rajthani': 2664, 'sha': 2665, 'surat': 2666, 'thani': 2667, 'seminole': 2668, 'stockton': 2669, 'kad': 2670, 'ta': 2671, 'phra': 2672, 'vacances': 2673, 'bleues': 2674, 'mediterranee': 2675, 'crete': 2676, 'hersonissos': 2677, 'rhodes': 2678, 'auberge': 2679, 'sharm': 2680, 'resort’s': 2681, 'tempologis': 2682, 'guanajuato': 2683, 'salinas': 2684, 'pa': 2685, 'conway': 2686, 'rating': 2687, 'liverpool': 2688, 'venetian': 2689, 'winchester': 2690, 'portmans': 2691, 'hastings': 2692, 'gordios': 2693, 'carlisle': 2694, 'myrtle': 2695, 'persons': 2696, 'midwest': 2697, \"nice's\": 2698, 'lakmi': 2699, 'promenade': 2700, 'cannot': 2701, 'madame': 2702, 'tussauds': 2703, 'hd': 2704, 'mornings': 2705, 'cereals': 2706, 'stops': 2707, 'clark': 2708, 'owned': 2709, 'autograph': 2710, 'empresas': 2711, 'excelentes': 2712, 'acolhedores': 2713, 'trabalho': 2714, '\\r': 2715, 'emerald': 2716, 'network': 2717, 'pot': 2718, 'pattaya': 2719, 'mariscal': 2720, 'vow': 2721, 'ecuador': 2722, 'catholic': 2723, 'pontificia': 2724, 'kaya': 2725, 'post': 2726, 'akademi': 2727, 'kepolisian': 2728, 'ciputra': 2729, 'lima': 2730, '64': 2731, 'locations': 2732, 'member': 2733, 'technical': 2734, 'newly': 2735, 'trips': 2736, 'duoro': 2737, 'joão': 2738, 'baptista': 2739, '63': 2740, 'viscoelástico': 2741, 'qualidade': 2742, 'apreciar': 2743, 'preferir': 2744, 'dar': 2745, 'peter': 2746, 'kilometers': 2747, 'weekends': 2748, 'stylishly': 2749, 'catered': 2750, 'eiffel': 2751, 'excursions': 2752, 'wineries': 2753, 'shuttles': 2754, 'mind': 2755, 'let': 2756, 'donaldsonville': 2757, 'money': 2758, 'joseph': 2759, 'burner': 2760, 'utensils': 2761, 'rewards': 2762, 'florianópolis': 2763, 'belgian': 2764, 'muffins': 2765, 'suitable': 2766, 'clarion': 2767, 'pointe': 2768, 'southeastern': 2769, 'baptist': 2770, 'factory': 2771, 'arenas': 2772, 'definition': 2773, 'atividades': 2774, 'recreação': 2775, 'isentos': 2776, 'somente': 2777, 'máscaras': 2778, 'embaladas': 2779, 'protocolo': 2780, 'grades': 2781, 'vegetarian': 2782, 'prairie': 2783, 'stock': 2784, 'cultura': 2785, 'maya': 2786, 'payo': 2787, 'obispo': 2788, 'marítimo': 2789, 'bidé': 2790, 'ventoinhas': 2791, 'media': 2792, 'lo': 2793, 'baja': 2794, 'si': 2795, 'tienes': 2796, 'unos': 2797, 'kayaks': 2798, 'quedarte': 2799, 'turístico': 2800, 'así': 2801, 'norte': 2802, 'josé': 2803, 'sur': 2804, 'baska': 2805, 'voda': 2806, 'civljak': 2807, 'disposal': 2808, '400': 2809, 'scheduled': 2810, 'universal': 2811, 'parkside': 2812, 'grille': 2813, 'southwestern': 2814, 'appetizers': 2815, 'elements': 2816, 'boast': 2817, 'created': 2818, 'important': 2819, 'united': 2820, 'nai': 2821, 'suan': 2822, 'overlook': 2823, 'streets': 2824, 'sessions': 2825, 'santo': 2826, 'quebrada': 2827, 'cafayate': 2828, 'valle': 2829, 'lerma': 2830, 'referência': 2831, 'cabra': 2832, 'corral': 2833, 'coronel': 2834, 'moldes': 2835, 'iglesia': 2836, 'saciar': 2837, 'descontrair': 2838, '08': 2839, '450': 2840, '290': 2841, 'clear': 2842, 'conhecer': 2843, '\\rtemos': 2844, 'atender': 2845, 'mola': 2846, 'frigobar': 2847, 'chuveiros': 2848, 'moderna': 2849, 'clean': 2850, 'parintinense': 2851, 'mobília': 2852, 'familiares': 2853, 'máximo': 2854, 'alamance': 2855, 'stove': 2856, 'willowbrook': 2857, 'thai': 2858, 'festival': 2859, 'mimizan': 2860, 'plage': 2861, 'overlooks': 2862, 'bordeaux': 2863, 'delivery': 2864, 'architecture': 2865, 'accompanied': 2866, 'vary': 2867, 'basketball': 2868, 'boulevard': 2869, 'hollywood': 2870, '900': 2871, 'favourite': 2872, 'reviews': 2873, 'arrival': 2874, 'price': 2875, 'booking': 2876, 'lawn': 2877, 'fortress': 2878, 'princes': 2879, 'colored': 2880, 'center’s': 2881, 'loft': 2882, 'montana': 2883, 'yegen': 2884, '68': 2885, 'raio': 2886, 'acomodações': 2887, 'tela': 2888, 'plana': 2889, 'traditionally': 2890, \"nordick's\": 2891, 'spot': 2892, 'glen': 2893, 'clifton': 2894, 'desfiladeiro': 2895, 'dinosaur': 2896, \"ripley's\": 2897, 'believe': 2898, 'wax': 2899, '77': 2900, 'buf': 2901, 'leitor': 2902, 'fazer': 2903, 'organizada': 2904, 'katy': 2905, 'adams': 2906, 'bridgeville': 2907, 'flight': 2908, 'lynden': 2909, 'gama': 2910, 'garantir': 2911, 'momentos': 2912, 'espera': 2913, 'nada': 2914, 'projetados': 2915, 'oferecem': 2916, 'diversas': 2917, 'oportunidades': 2918, 'relaxar': 2919, 'storeys': 2920, 'sparkling': 2921, 'raymond': 2922, 'riverwalk': 2923, 'brewery': 2924, 'sands': 2925, 'grange': 2926, 'blackpool': 2927, 'comprehensive': 2928, 'awaits': 2929, 'give': 2930, 'quietly': 2931, 'outskirts': 2932, 'paderborn': 2933, 'gerold': 2934, 'color': 2935, 'bartram': 2936, 'prk': 2937, 'avenues': 2938, \"john's\": 2939, 'johns': 2940, 'mandarin': 2941, 'champions': 2942, 'crabtree': 2943, 'augustine': 2944, 'pastelaria': 2945, 'panthéon': 2946, 'breath': 2947, 'tap': 2948, 'flexible': 2949, 'tipos': 2950, 'graças': 2951, 'infelizmente': 2952, 'pedir': 2953, 'permitidos': 2954, 'irão': 2955, 'amid': 2956, 'afternoons': 2957, 'apartel': 2958, 'angeles': 2959, 'restful': 2960, 'individuals': 2961, 'casinos': 2962, 'horse': 2963, 'applies': 2964, 'volcanic': 2965, 'archaeological': 2966, 'past': 2967, 'classes': 2968, 'uninterrupted': 2969, 'thoughtfully': 2970, 'sweeping': 2971, 'destination': 2972, 'changing': 2973, 'quick': 2974, 'treadmills': 2975, 'session': 2976, 'thursday': 2977, 'bodega': 2978, 'last': 2979, 'goods': 2980, 'hart': 2981, 'plant': 2982, 'opening': 2983, '11am': 2984, 'sunday': 2985, 'brunch': 2986, 'closed': 2987, 'government': 2988, 'churrasqueiras': 2989, 'conferência': 2990, 'planejando': 2991, 'sujeito': 2992, 'essa': 2993, 'gratuita': 2994, 'guardiães': 2995, 'normas': 2996, 'culturais': 2997, 'variar': 2998, 'país': 2999, 'listadas': 3000, 'realiza': 3001, 'eles': 3002, 'primeira': 3003, 'dfw': 3004, 'lit': 3005, 'coastal': 3006, 'land': 3007, 'does': 3008, 'programs': 3009, 'eating': 3010, 'drinking': 3011, 'exceptional': 3012, 'position': 3013, 'mean': 3014, 'storm': 3015, 'hotspot': 3016, 'eateries': 3017, 'italiano': 3018, 'never': 3019, 'endless': 3020, 'chill': 3021, 'djs': 3022, 'adult': 3023, 'buzz': 3024, 'due': 3025, 'ages': 3026, 'receive': 3027, 'result': 3028, 'change': 3029, 'sollentuna': 3030, 'shea': 3031, 'handicap': 3032, 'helpful': 3033, 'bryggen': 3034, 'magdalena': 3035, 'marino': 3036, 'antiguo': 3037, \"buckey's\": 3038, 'whiskey': 3039, 'row': 3040, 'frontier': 3041, 'gateway': 3042, '86': 3043, 'preparados': 3044, 'hualapai': 3045, 'touring': 3046, '122': 3047, 'riverfront': 3048, 'malls': 3049, 'speaking': 3050, 'spanish': 3051, 'coral': 3052, 'aéreo': 3053, 'pablo': 3054, 'ii': 3055, 'parques': 3056, 'río': 3057, 'públicas': 3058, 'pies': 3059, 'beira': 3060, 'cleópatra': 3061, 'aquapark': 3062, 'konakli': 3063, 'proporciona': 3064, 'regime': 3065, 'boutiques': 3066, 'artists': 3067, 'lookout': 3068, 'permitting': 3069, 'atoll': 3070, 'reveries': 3071, 'getaway': 3072, 'soothing': 3073, 'interiors': 3074, 'hostal': 3075, 'maracaná': 3076, 'américas': 3077, 'história': 3078, 'frank': 3079, 'balboa': 3080, 'marcos': 3081, 'gelabert': 3082, 'adventures': 3083, 'channel': 3084, 'butterfly': 3085, 'baths': 3086, 'panel': 3087, 'hrs': 3088, 'ac': 3089, 'hippie': 3090, 'convenções': 3091, 'três': 3092, 'steakhouse': 3093, 'brasserie': 3094, 'fire': 3095, 'dome': 3096, 'ag': 3097, 'contempla': 3098, 'loja': 3099, 'souvenirs': 3100, 'compreende': 3101, 'pátio': 3102, 'quais': 3103, 'behind': 3104, 'peter’s': 3105, 'benches': 3106, 'rome’s': 3107, 'corso': 3108, 'complexo': 3109, 'di': 3110, 'polegadas': 3111, 'contactável': 3112, 'escritório': 3113, 'alamo': 3114, 'comforters': 3115, 'arcade': 3116, 'suburbs': 3117, 'elcient': 3118, 'compact': 3119, 'noodle': 3120, 'japanese': 3121, 'vosges': 3122, 'gourmet': 3123, '2133': 3124, 'stari': 3125, 'grad': 3126, 'refurbished': 3127, 'indulge': 3128, 'fit': 3129, 'ladies': 3130, 'cuisines': 3131, 'connection': 3132, 'pantry': 3133, 'inner': 3134, 'mts': 3135, 'rbc': 3136, 'provincial': 3137, 'edredões': 3138, 'penas': 3139, 'fontana': 3140, 'abbey': 3141, 'riviera': 3142, 'vinache': 3143, 'orleães': 3144, 'bourbon': 3145, 'superdome': 3146, 'sciences': 3147, 'mix': 3148, 'colors': 3149, 'block': 3150, 'albuquerque': 3151, 'citi': 3152, 'cafes': 3153, 'chavez': 3154, 'oakland': 3155, 'hayward': 3156, 'bakery': 3157, 'pancakes': 3158, 'salads': 3159, 'boekelo': 3160, 'hectares': 3161, 'combine': 3162, 'ingredients': 3163, 'plunge': 3164, 'smoky': 3165, 'brook': 3166, 'interstates': 3167, 'dorsett': 3168, 'status': 3169, 'attention': 3170, 'meadow': 3171, 'brewed': 3172, 'elgin': 3173, 'straubel': 3174, 'starbucks': 3175, 'classics': 3176, 'excitement': 3177, 'oneida': 3178, 'guincho': 3179, 'romantic': 3180, 'colder': 3181, 'theaters': 3182, 'functions': 3183, 'native': 3184, 'bankside': 3185, 'burnham': 3186, 'sm': 3187, 'província': 3188, 'hay': 3189, 'direito': 3190, 'susukino': 3191, 'fusion': 3192, 'sec': 3193, 'cars': 3194, 'rambla': 3195, 'meriden': 3196, 'mark': 3197, 'adina': 3198, 'britomart': 3199, 'devices': 3200, \"madrid's\": 3201, 'sofía': 3202, 'thyssen': 3203, 'venezia': 3204, 'nouveau': 3205, 'laptop': 3206, 'organize': 3207, 'southpoint': 3208, 'army': 3209, 'cinnamon': 3210, 'rolls': 3211, 'riverside': 3212, 'barrel': 3213, 'zanesville': 3214, 'weekend': 3215, 'sunset': 3216, 'copantl': 3217, 'flowers': 3218, 'corridors': 3219, 'ottoman': 3220, '250': 3221, 'exit': 3222, 'race': 3223, 'stadshotel': 3224, 'den': 3225, 'haag': 3226, 'line': 3227, 'vredespaleis': 3228, 'brings': 3229, 'scheveningen': 3230, 'magazines': 3231, 'pinellas': 3232, 'my': 3233, 'rejuvenate': 3234, 'buffets': 3235, 'kefalonia': 3236, 'kimilia': 3237, 'emblisi': 3238, 'jerusalem': 3239, 'agia': 3240, 'farão': 3241, '09': 3242, 'stairs': 3243, 'vehicles': 3244, 'establishment': 3245, 'kilometres': 3246, 'natal': 3247, 'desfrute': 3248, 'viajando': 3249, 'certidão': 3250, 'nascimento': 3251, 'identidade': 3252, 'caso': 3253, 'será': 3254, 'diretrizes': 3255, 'cdc': 3256, '14h00': 3257, 'choisy': 3258, \"d'austerlitz\": 3259, \"d'italie\": 3260, 'arr': 3261, 'notre': 3262, 'louvre': 3263, 'pitié': 3264, 'salpétrière': 3265, 'bercy': 3266, 'accorhotels': 3267, 'mouffetard': 3268, 'luxembourg': 3269, 'bastilha': 3270, 'orly': 3271, 'ory': 3272, 'máquina': 3273, 'imediações': 3274, 'inaugurado': 3275, 'privativa': 3276, 'sao': 3277, 'independencia': 3278, 'cribs': 3279, 'infant': 3280, 'nord': 3281, '2011': 3282, 'alpine': 3283, 'ny': 3284, 'gustave': 3285, 'flaubert': 3286, 'bw': 3287, 'silicon': 3288, 'patent': 3289, 'trademark': 3290, 'tech': 3291, 'watsonville': 3292, 'folkestone': 3293, 'dover': 3294, 'maritime': 3295, 'ballroom': 3296, 'terminals': 3297, 'border': 3298, 'obregón': 3299, 'corendon': 3300, '680': 3301, 'urban': 3302, 'tickets': 3303, 'mega': 3304, 'embassy': 3305, 'suvarnabhumi': 3306, 'bogota': 3307, 'principe': 3308, 'seneca': 3309, 'narrows': 3310, \"anne's\": 3311, 'logan': 3312, '54': 3313, '104': 3314, 'acta': 3315, 'eixample': 3316, 'catalunya': 3317, '81': 3318, 'occidental': 3319, 'aran': 3320, 'interested': 3321, 'monuments': 3322, 'ancient': 3323, 'jacinto': 3324, 'raceway': 3325, 'oceanfront': 3326, 'wicomico': 3327, 'clara': 3328, 'limestone': 3329, 'stockholm’s': 3330, 'midi': 3331, 'île': 3332, 'nation': 3333, 'grands': 3334, 'william': 3335, 'corfu': 3336, 'comprises': 3337, 'typical': 3338, 'calm': 3339, 'younger': 3340, 'waechter': 3341, 'enjoyment': 3342, 'retiring': 3343, 'deserved': 3344, 'sofitel': 3345, 'galaxy': 3346, 'suning': 3347, 'china': 3348, 'pharmaceutical': 3349, 'tambor': 3350, 'normal': 3351, '1800': 3352, 'luxuriously': 3353, 'vast': 3354, 'axis': 3355, 'accessibility': 3356, 'able': 3357, 'ótima': 3358, 'infraestrutura': 3359, 'ms': 3360, 'lojas': 3361, 'agradável': 3362, 'vaga': 3363, 'kent': 3364, 'especially': 3365, 'stovetop': 3366, 'pillows': 3367, 'stands': 3368, 'beside': 3369, 'gasthof': 3370, 'forests': 3371, 'craftsman': 3372, 'districts': 3373, 'jet': 3374, 'much': 3375, 'arsen': 3376, '105': 3377, 'piscinas': 3378, 'piquenique': 3379, 'estilo': 3380, 'dobrável': 3381, 'permitido': 3382, 'necessário': 3383, 'reservar': 3384, 'conectados': 3385, 'adjacentes': 3386, 'solicitados': 3387, 'entrando': 3388, 'relativos': 3389, 'aplicam': 3390, 'concluído': 3391, 'teste': 3392, '300': 3393, 'programa': 3394, 'seguro': 3395, 'bohol': 3396, 'address': 3397, 'cuba': 3398, 'suleymaniye': 3399, 'historia': 3400, 'dove': 3401, 'tire': 3402, 'partido': 3403, 'partir': 3404, 'mauston': 3405, 'cross': 3406, 'canoeing': 3407, 'halls': 3408, 'protected': 3409, 'hendaye': 3410, 'lazy': 3411, 'esquis': 3412, 'recebeu': 3413, 'classificação': 3414, 'agência': 3415, 'desenvolvimento': 3416, 'frança': 3417, 'atout': 3418, 'multilíngue': 3419, 'chá': 3420, 'cobrado': 3421, 'observe': 3422, 'isenções': 3423, 'reduções': 3424, 'cobra': 3425, 'esse': 3426, '1000': 3427, 'planeja': 3428, 'chegar': 3429, 'sasse': 3430, 'terra': 3431, 'penhascos': 3432, 'doerenther': 3433, 'suren': 3434, 'haddorfer': 3435, 'moor': 3436, 'bentheim': 3437, 'münster': 3438, 'osnabrück': 3439, 'mártires': 3440, 'iconic': 3441, 'amazing': 3442, 'baymont': 3443, \"manager's\": 3444, 'wednesday': 3445, '84': 3446, 'monday': 3447, 'themselves': 3448, 'greeting': 3449, 'impressed': 3450, 'adultos': 3451, '13h': 3452, 'estes': 3453, 'silver': 3454, 'saddle': 3455, 'staffed': 3456, 'drop': 3457, 'purple': 3458, 'sage': 3459, 'retail': 3460, 'queens': 3461, \"king's\": 3462, 'peninsula': 3463, 'azuero': 3464, 'toro': 3465, 'arenal': 3466, 'consist': 3467, 'atenea': 3468, 'calabria': 3469, 'functional': 3470, 'prepared': 3471, 'carmel': 3472, 'lifestyle': 3473, 'currently': 3474, '2023': 3475, 'scholars': 3476, 'petronas': 3477, 'mantém': 3478, 'conectado': 3479, 'programas': 3480, 'diversão': 3481, 'apresenta': 3482, 'toalete': 3483, 'escrivaninhas': 3484, 'arrumação': 3485, 'naumpasa': 3486, 'konagi': 3487, '2017': 3488, 'places': 3489, 'forum': 3490, 'standards': 3491, 'hometowne': 3492, 'exclusively': 3493, 'magnolia': 3494, 'championship': 3495, 'cape': 3496, 'sleeping': 3497, 'video': 3498, 'controlled': 3499, 'fountains': 3500, 'ramid': 3501, 'weston': 3502, 'wolf': 3503, 'transfers': 3504, 'arora': 3505, 'waterfall': 3506, 'sussex': 3507, 'takes': 3508, 'lying': 3509, 'amidst': 3510, 'splendour': 3511, 'traveller': 3512, 'avisford': 3513, 'former': 3514, 'relaxed': 3515, 'deira': 3516, 'artwork': 3517, 'await': 3518, 'midnight': 3519, 'whitehorse': 3520, 'cup': 3521, 'barcelo': 3522, 'multi': 3523, \"kid's\": 3524, 'filmores': 3525, 'dancing': 3526, 'billy': 3527, 'seafront': 3528, 'verb': 3529, 'doors': 3530, 'soon': 3531, 'brand': 3532, 'touches': 3533, 'lodging': 3534, 'moderno': 3535, 'cafés': 3536, 'situado': 3537, 'kanuhura': 3538, 'seaplane': 3539, 'resorts': 3540, 'paradise': 3541, 'recognized': 3542, 'presidential': 3543, 'planned': 3544, 'environment': 3545, 'staring': 3546, 'palais': 3547, 'agdal': 3548, 'vg': 3549, 'etc': 3550, 'salão': 3551, 'apartamento': 3552, 'cave': 3553, 'göreme': 3554, 'turasan': 3555, 'ürgüp': 3556, 'temenni': 3557, 'ligeira': 3558, 'wells': 3559, 'me': 3560, 'fairhaven': 3561, 'whaling': 3562, 'pedestrian': 3563, 'norden': 3564, 'rustic': 3565, 'inter': 3566, 'sud': 3567, 'sextant': 3568, 'finest': 3569, 'traveler': 3570, 'either': 3571, 'nh': 3572, 'boheme': 3573, 'exclusive': 3574, 'you’ll': 3575, 'hardwood': 3576, 'it’s': 3577, 'connecting': 3578, 'delicacies': 3579, 'foreigners': 3580, 'date': 3581, 'exempt': 3582, 'ann': 3583, 'arbor': 3584, 'miniature': 3585, 'avignon': 3586, 'loungers': 3587, 'yee': 3588, 'haw': 3589, 'brewing': 3590, 'tannery': 3591, 'knobs': 3592, 'states': 3593, 'tweetsie': 3594, 'cookware': 3595, 'ascend': 3596, 'binghamton': 3597, 'opotiki': 3598, '10h00': 3599, 'count': 3600, '11h': 3601, 'sundeck': 3602, 'tempe': 3603, 'shikotsu': 3604, 'kitayuzawa': 3605, 'mori': 3606, 'soraniwa': 3607, 'whalers': 3608, 'railroad': 3609, 'laguardia': 3610, 'homemade': 3611, 'curtains': 3612, 'painted': 3613, 'armchairs': 3614, 'liseberg': 3615, 'ullevi': 3616, 'rockport': 3617, 'altes': 3618, 'benefits': 3619, 'complejo': 3620, 'museografico': 3621, 'poggi': 3622, 'confortável': 3623, 'outros': 3624, 'jetted': 3625, 'vesuvio': 3626, 'capri': 3627, 'lucia': 3628, 'boats': 3629, 'liberty’s': 3630, 'abrial': 3631, 'croisette': 3632, 'apos': 3633, 'cote': 3634, 'tipo': 3635, 'hawaiian': 3636, 'framed': 3637, \"america's\": 3638, 'diverse': 3639, 'reputation': 3640, 'countless': 3641, 'concert': 3642, 'florianopolis': 3643, 'hez': 3644, 'froidmont': 3645, 'clermont': 3646, 'pierre': 3647, 'canada': 3648, 'airports': 3649, 'bva': 3650, 'iris': 3651, 'felix': 3652, 'atrações': 3653, '20h': 3654, 'financeiro': 3655, 'fonte': 3656, 'arqueológico': 3657, 'technology': 3658, 'loggia': 3659, 'sette': 3660, 'housed': 3661, 'authentic': 3662, 'manhattan': 3663, 'coco': 3664, 'kaster': 3665, 'andes': 3666, 'juice': 3667, 'seawater': 3668, 'football': 3669, 'emma': 3670, 'backdrop': 3671, 'expansive': 3672, 'truly': 3673, 'add': 3674, 'flats': 3675, 'leopold': 3676, 'bruges': 3677, 'types': 3678, 'soaring': 3679, 'delivered': 3680, 'raintree': 3681, 'rolla': 3682, 'burj': 3683, 'lynx': 3684, 'carowinds': 3685, 'spectrum': 3686, \"lowe's\": 3687, 'breweries': 3688, 'routine': 3689, 'orchestra': 3690, 'contact': 3691, 'rain': 3692, 'ash': 3693, 'casamia': 3694, 'adagio': 3695, 'corniche': 3696, 'gear': 3697, 'wild': 3698, 'facilmente': 3699, 'balnear': 3700, 'vários': 3701, 'h': 3702, 'ampla': 3703, 'basquetebol': 3704, 'ofertas': 3705, 'seget': 3706, 'trogir': 3707, 'duplos': 3708, 'duche': 3709, 'trovatore': 3710, 'healthcare': 3711, 'science': 3712, 'printer': 3713, 'bayshore': 3714, 'playhouse': 3715, 'ferros': 3716, 'tábuas': 3717, 'calle': 3718, 'larios': 3719, 'amphitheatre': 3720, 'miwith': 3721, 'tijuca': 3722, 'encore': 3723, 'ribalta': 3724, 'paseo': 3725, 'milex': 3726, 'revolución': 3727, 'bosque': 3728, 'r': 3729, 'asiatel': 3730, 'naia': 3731, 'pasay': 3732, 'blackout': 3733, 'drapes': 3734, 'gettysburg': 3735, 'pez': 3736, 'schaumburg': 3737, 'quay': 3738, 'whitby’s': 3739, 'sojourn': 3740, 'trophy': 3741, 'roanoke': 3742, 'scotland': 3743, 'washing': 3744, 'saúde': 3745, 'wow': 3746, 'hiniker': 3747, 'stade': 3748, 'rennes': 3749, 'vineyards': 3750, 'cruz': 3751, 'name': 3752, 'oaks': 3753, 'wolverhampton': 3754, 'aqualuz': 3755, 'editory': 3756, 'tiled': 3757, 'nm': 3758, 'cancun': 3759, 'recuperate': 3760, 'bellflower': 3761, 'cobblers': 3762, 'wingate': 3763, 'danville': 3764, 'allowed': 3765, 'luzmar': 3766, 'rollaway': 3767, 'kaew': 3768, 'don': 3769, 'tao': 3770, 'dhanabadee': 3771, 'ceramic': 3772, 'kasem': 3773, 'lampang': 3774, 'agradáveis': 3775, 'cadeiras': 3776, 'destes': 3777, 'aquaworld': 3778, 'cotton': 3779, 'bonn': 3780, 'forward': 3781, 'enjoying': 3782, 'santiago': 3783, 'cacém': 3784, 'studio': 3785, 'crested': 3786, 'butte': 3787, 'largest': 3788, 'silao': 3789, 'león': 3790, 'tiempo': 3791, 'rey': 3792, 'méxico': 3793, 'visites': 3794, 'résidence': 3795, 'internationale': 3796, 'concebido': 3797, 'aproveitar': 3798, 'necessidades': 3799, 'oferta': 3800, 'restauração': 3801, 'parmer': 3802, 'hospedium': 3803, 'canastota': 3804, 'sacramento': 3805, 'hunting': 3806, 'iroquois': 3807, 'turn': 3808, 'amnéville': 3809, 'moto': 3810, 'velo': 3811, 'metz': 3812, 'towanda': 3813, 'pennsylvania': 3814, 'chesapeake': 3815, 'ibirapuera': 3816, 'howard': 3817, 'kem’s': 3818, 'elounda': 3819, 'ellerslie': 3820, 'racecourse': 3821, 'palermo': 3822, 'palmetto': 3823, 'holl': 3824, 'existing': 3825, 'deposits': 3826, 'roby': 3827, 'denominations': 3828, 'arqueologia': 3829, 'sinagoga': 3830, 'cegonha': 3831, 'branca': 3832, 'wrocław': 3833, 'elafonissi': 3834, 'chryssoskalitissa': 3835, 'falassarna': 3836, 'pink': 3837, 'sandia': 3838, 'venice': 3839, 'ampb': 3840, 'quota': 3841, 'mia': 3842, 'arsenal': 3843, 'rialto': 3844, 'noble': 3845, 'florentine': 3846, \"sebastian's\": 3847, 'bloomington': 3848, 'recently': 3849, 'roari': 3850, 'cuiabá': 3851, 'sloan': 3852, 'hohokam': 3853, \"d'ascq\": 3854, 'loudoun': 3855, 'hostería': 3856, 'kelta': 3857, 'calafate': 3858, 'running': 3859, 'kirst': 3860, 'paróquia': 3861, 'catarina': 3862, 'evangélica': 3863, 'confissão': 3864, 'luterana': 3865, 'marcelino': 3866, 'ramos': 3867, 'hanover': 3868, '71': 3869, 'jean': 3870, 'medecin': 3871, 'leads': 3872, 'massena': 3873, 'etoile': 3874, 'wrought': 3875, 'anglais': 3876, \"london's\": 3877, 'bayswater': 3878, '215': 3879, 'queensway': 3880, 'leafy': 3881, 'croissants': 3882, 'paddington': 3883, 'couple': 3884, 'lewis': 3885, 'meats': 3886, 'locally': 3887, 'shoppes': 3888, 'bluewood': 3889, 'collins': 3890, 'hughes': 3891, 'cheyenne': 3892, '46': 3893, 'sp': 3894, 'olimpia': 3895, 'caesar': 3896, 'centros': 3897, 'financeiros': 3898, 'importantes': 3899, 'shoppings': 3900, 'inspirados': 3901, 'culinária': 3902, 'brasileira': 3903, 'confortáveis': 3904, 'sociais': 3905, 'corporativos': 3906, 'diferenciais': 3907, 'existência': 3908, 'heliponto': 3909, 'pouso': 3910, 'decolagem': 3911, 'agendamento': 3912, 'prévio': 3913, 'sattahip': 3914, 'cartoon': 3915, 'amazone': 3916, 'ping': 3917, 'pong': 3918, 'nong': 3919, 'nooch': 3920, 'ramayana': 3921, 'tapao': 3922, 'rayong': 3923, '62': 3924, 'gabriela': 3925, 'mistral': 3926, 'mindalae': 3927, 'multicentro': 3928, 'trude': 3929, 'sojka': 3930, 'comedias': 3931, 'polytechnic': 3932, 'pontifical': 3933, 'educador': 3934, 'ecuadorian': 3935, 'agora': 3936, 'uio': 3937, 'sucre': 3938, 'intl': 3939, 'atahualpa': 3940, 'shaker': 3941, 'benjamin': 3942, 'marian': 3943, 'schuster': 3944, 'walden': 3945, 'ponds': 3946, 'riverscape': 3947, 'cox': 3948, 'candiland': 3949, 'simpang': 3950, 'kariadi': 3951, 'dp': 3952, 'lawang': 3953, 'sewu': 3954, 'gereja': 3955, 'perawan': 3956, 'ratu': 3957, 'suci': 3958, 'randusari': 3959, 'katedral': 3960, 'paragon': 3961, 'sam': 3962, 'poo': 3963, 'mesjid': 3964, 'besar': 3965, 'kota': 3966, 'lama': 3967, 'marabunta': 3968, 'srg': 3969, 'ahmad': 3970, 'yani': 3971, 'moment': 3972, 'treated': 3973, 'gsu': 3974, 'education': 3975, 'ogeechee': 3976, 'aquatic': 3977, 'boro': 3978, 'tybee': 3979, 'imagine': 3980, 'whenever': 3981, 'pacheca': 3982, 'alameda': 3983, 'capitães': 3984, 'paroquial': 3985, 'peso': 3986, 'régua': 3987, 'eufémia': 3988, 'menagem': 3989, 'adega': 3990, 'dourocaves': 3991, 'remédios': 3992, 'capela': 3993, 'domingos': 3994, 'sé': 3995, 'salzedas': 3996, 'fluvial': 3997, 'fornelos': 3998, 'opo': 3999, 'sá': 4000, 'carneiro': 4001, '101': 4002, 'vrl': 4003, 'viseu': 4004, 'vse': 4005, 'alta': 4006, 'deleite': 4007, 'portuguesa': 4008, 'quedar': 4009, 'aconchego': 4010, 'cardápio': 4011, 'cruzeiros': 4012, 'true': 4013, 'lakeview': 4014, 'lougheed': 4015, 'sunridge': 4016, 'stampede': 4017, 'scotiabank': 4018, 'saddledome': 4019, \"don't\": 4020, '1350': 4021, '125': 4022, 'consisting': 4023, 'minigolf': 4024, 'goodwin': 4025, 'vltava': 4026, 'petřínské': 4027, 'sady': 4028, 'toaster': 4029, 'malostranská': 4030, '3117': 4031, 'petřín': 4032, 'called': 4033, 'ujezd': 4034, 'mendoza': 4035, 'covered': 4036, 'secure': 4037, 'gabrielli': 4038, 'branded': 4039, 'improved': 4040, 'cleanliness': 4041, 'protocols': 4042, 'suburban': 4043, 'gonzales': 4044, 'confidence': 4045, 'save': 4046, 'houmas': 4047, 'tops': 4048, 'earn': 4049, 'privileges': 4050, 'beiramar': 4051, 'guest´s': 4052, 'entry': 4053, '1312': 4054, 'hercílio': 4055, 'gods': 4056, 'andrews': 4057, 'maryland': 4058, 'branch': 4059, 'theological': 4060, 'seminary': 4061, 'soccerplex': 4062, 'durham': 4063, 'triangle': 4064, 'wral': 4065, 'flextronics': 4066, 'powersecure': 4067, 'novozymes': 4068, 'emergency': 4069, 'centurylink': 4070, 'inc': 4071, 'chaplains': 4072, 'perca': 4073, 'lareira': 4074, 'carona': 4075, 'milhas': 4076, 'lavagem': 4077, 'animal': 4078, 'determinados': 4079, 'sobretaxas': 4080, 'detalhadas': 4081, 'seção': 4082, 'luvas': 4083, 'travels': 4084, 'wttc': 4085, 'safestay': 4086, 'ahla': 4087, 'eua': 4088, 'monóxido': 4089, 'carbono': 4090, 'phillips': 4091, 'vegan': 4092, 'dairy': 4093, 'vietnam': 4094, 'veterans': 4095, 'ronald': 4096, 'reagan': 4097, 'baker': 4098, 'shadeland': 4099, 'recliners': 4100, 'nintendo': 4101, 'systems': 4102, 'mulas': 4103, 'fuente': 4104, 'explanada': 4105, 'bandera': 4106, 'gobierno': 4107, 'manati': 4108, 'alfredo': 4109, 'barrera': 4110, 'marin': 4111, 'othón': 4112, 'blanco': 4113, 'ruínas': 4114, 'oxtankah': 4115, 'milagros': 4116, 'manatíes': 4117, 'quintana': 4118, 'roo': 4119, 'ctm': 4120, 'corozal': 4121, 'czh': 4122, 'teto': 4123, 'poca': 4124, 'distancia': 4125, 'impresionante': 4126, 'puerto': 4127, 'médano': 4128, 'además': 4129, 'estamos': 4130, 'ubicados': 4131, 'tan': 4132, 'verdadero': 4133, 'paraíso': 4134, 'aquí': 4135, 'podrás': 4136, 'disfrutar': 4137, 'unas': 4138, 'playas': 4139, 'bellísimas': 4140, 'otros': 4141, 'espectáculos': 4142, 'naturales': 4143, 'son': 4144, '“arco”': 4145, 'península': 4146, 'llegar': 4147, 'puedes': 4148, 'contratar': 4149, 'taxi': 4150, 'acuático': 4151, 'lancha': 4152, 'fondo': 4153, 'cristal': 4154, 'espíritu': 4155, 'aventura': 4156, 'sugerimos': 4157, 'rentar': 4158, 'cual': 4159, 'permitirá': 4160, 'observar': 4161, 'muy': 4162, 'leones': 4163, 'marinos': 4164, 'refugian': 4165, '“los': 4166, 'frailes': 4167, '”': 4168, '¿prefieres': 4169, 'tranquila': 4170, 'más': 4171, 'bonitas': 4172, 'encuentran': 4173, 'chileno': 4174, 'ubicada': 4175, 'corredor': 4176, 'amor': 4177, 'ir': 4178, 'tu': 4179, 'pareja': 4180, 'treinta': 4181, 'caracteriza': 4182, 'mercados': 4183, 'artesanales': 4184, 'espectaculares': 4185, 'quédate': 4186, 'disfruta': 4187, 'mejor': 4188, 'pebbly': 4189, 'nicholas': 4190, 'neighbor': 4191, 'blues': 4192, 'epcot': 4193, 'millennia': 4194, 'slide': 4195, \"lot's\": 4196, 'sheduled': 4197, 'world®': 4198, 'shore': 4199, 'wisła': 4200, 'planty': 4201, 'leaning': 4202, 'vistula': 4203, 'hairdressing': 4204, 'miasto': 4205, 'federal': 4206, 'gate': 4207, 'warfield': 4208, 'nations': 4209, 'orpheum': 4210, 'sing': 4211, 'mae': 4212, 'fah': 4213, 'cartagena': 4214, 'indias': 4215, 'domingo': 4216, 'bocagrande': 4217, 'castillo': 4218, 'rafael': 4219, 'nuñez': 4220, 'needed': 4221, 'circundantes': 4222, 'figura': 4223, 'barragem': 4224, 'salta': 4225, 'sla': 4226, 'miguel': 4227, 'guemes': 4228, '117': 4229, 'refreshment': 4230, 'hunger': 4231, 'purchases': 4232, 'reliant': 4233, 'brookhollow': 4234, 'authority': 4235, 'coleridge': 4236, 'valletta': 4237, 'manoel': 4238, \"paul's\": 4239, 'anglican': 4240, 'crowne': 4241, 'standout': 4242, 'convidado': 4243, 'icamiabas': 4244, 'parintins': 4245, 'charmosa': 4246, 'bumbódromo': 4247, 'supermercados': 4248, 'farmácias': 4249, 'estrutura': 4250, 'empreendimento': 4251, 'suporte': 4252, 'malas': 4253, 'elétricos': 4254, 'pressurizador': 4255, 'isso': 4256, 'adicionado': 4257, 'arquitetura': 4258, 'aproveita': 4259, 'claridade': 4260, 'atmosfera': 4261, 'amplos': 4262, 'bom': 4263, 'gosto': 4264, 'dão': 4265, 'toque': 4266, 'ares': 4267, 'reunido': 4268, 'profissionalismo': 4269, 'simpatia': 4270, 'hospitalidade': 4271, 'proporcionar': 4272, 'battleground': 4273, 'parsippany': 4274, 'morristown': 4275, 'offices': 4276, 'merrill': 4277, 'lynch': 4278, 'prepackaged': 4279, 'muffin': 4280, 'danish': 4281, 'granola': 4282, 'whole': 4283, 'piece': 4284, 'bottle': 4285, 'supplied': 4286, 'sonesta': 4287, 'rockaway': 4288, 'intestate': 4289, 'vinyl': 4290, 'koh': 4291, 'phetch': 4292, 'buncha': 4293, 'chaweng': 4294, 'current': 4295, 'tnt': 4296, 'sunbathe': 4297, 'aureilhan': 4298, 'cd': 4299, \"peloponnese's\": 4300, 'attended': 4301, 'corinthian': 4302, 'combined': 4303, 'minimal': 4304, 'lines': 4305, 'sets': 4306, 'secretarial': 4307, 'gastronomic': 4308, 'labels': 4309, 'seaside': 4310, 'proposes': 4311, 'canoe': 4312, 'ormond': 4313, 'a1a': 4314, 'galleria': 4315, 'olas': 4316, 'sovereign': 4317, 'borough': 4318, 'purchase': 4319, 'refundable': 4320, 'amendable': 4321, 'congress': 4322, 'bandstand': 4323, 'lawns': 4324, 'devonshire': 4325, 'redoubt': 4326, 'beachy': 4327, 'boldly': 4328, 'sheraton’s': 4329, \"chagall's\": 4330, 'chedoke': 4331, 'pompeys': 4332, 'pillar': 4333, 'bighorn': 4334, 'monument': 4335, 'situada': 4336, 'cais': 4337, 'prefeitura': 4338, 'artesanato': 4339, 'balsa': 4340, 'splashwater': 4341, 'kingdom': 4342, \"porreca's\": 4343, 'empress': 4344, 'famílias': 4345, 'rainbow': 4346, 'victoria': 4347, 'greg': 4348, 'frewin': 4349, 'skylon': 4350, 'roda': 4351, 'gigante': 4352, 'upside': 4353, 'movieland': 4354, 'nightmares': 4355, 'fear': 4356, 'ontário': 4357, 'yyz': 4358, 'pearson': 4359, '124': 4360, 'escutar': 4361, 'músicas': 4362, 'favoritas': 4363, 'novos': 4364, 'contactos': 4365, 'arrowhead': 4366, 'chiefs': 4367, 'baseball': 4368, 'team': 4369, 'missouri': 4370, 'coffeemakers': 4371, 'truman': 4372, 'dunkin': 4373, 'guys': 4374, 'blaza': 4375, 'jackalope': 4376, 'burghs': 4377, 'wings': 4378, \"beez's\": 4379, 'bella': 4380, 'bean': 4381, 'roadhouse': 4382, 'topgolf': 4383, 'southpointe': 4384, 'fairview': 4385, 'woodville': 4386, 'trampoline': 4387, 'vasta': 4388, 'regalias': 4389, 'inesquecíveis': 4390, 'composto': 4391, 'altamente': 4392, 'eficientes': 4393, 'estará': 4394, 'falte': 4395, 'selecionados': 4396, 'despertador': 4397, 'boa': 4398, 'sono': 4399, 'escolha': 4400, 'descobrir': 4401, 'simplesmente': 4402, 'recuperar': 4403, 'agitados': 4404, 'orient': 4405, 'purpose': 4406, 'dominated': 4407, 'remarkable': 4408, 'ahead': 4409, 'relation': 4410, 'sporting': 4411, 'particularly': 4412, 'seconds': 4413, 'ellwood': 4414, 'finley': 4415, 'creative': 4416, 'hca': 4417, 'rocky': 4418, 'ben': 4419, 'davis': 4420, 'cypress': 4421, 'westshore': 4422, 'cigar': 4423, 'steinbrenner': 4424, 'lopez': 4425, \"joseph's\": 4426, \"women's\": 4427, 'tpa': 4428, 'petersburgo': 4429, 'pie': 4430, 'tpf': 4431, 'knight': 4432, 'whitted': 4433, 'spg': 4434, '442': 4435, 'formerly': 4436, 'known': 4437, 'houndshill': 4438, 'waxworks': 4439, 'impart': 4440, 'sensation': 4441, 'harmony': 4442, 'appealing': 4443, 'portugal': 4444, 'aim': 4445, 'memories': 4446, 'unspoiled': 4447, 'affording': 4448, 'modernity': 4449, 'congresses': 4450, 'entirely': 4451, 'kind': 4452, 'done': 4453, 'leisurely': 4454, 'pleasurable': 4455, 'manner': 4456, 'arms': 4457, 'genuine': 4458, 'cheerful': 4459, 'scheme': 4460, 'sunny': 4461, 'pretty': 4462, 'southside': 4463, 'falling': 4464, 'clube': 4465, 'julington': 4466, 'kijiji': 4467, 'curahealth': 4468, 'morocco': 4469, 'shrine': 4470, 'unf': 4471, 'jax': 4472, 'crg': 4473, 'craig': 4474, 'ust': 4475, 'northeast': 4476, 'latin': 4477, 'bustling': 4478, 'student': 4479, 'liveliest': 4480, 'gobelins': 4481, 'seminar': 4482, 'cinemas': 4483, 'means': 4484, 'jumping': 4485, 'experiencing': 4486, 'hdtv': 4487, \"chicago's\": 4488, 'pour': 4489, 'sofisticado': 4490, '212': 4491, 'conveniência': 4492, 'manter': 4493, 'atualizados': 4494, 'átrio': 4495, 'incomodados': 4496, 'visitantes': 4497, 'deliciar': 4498, 'servidas': 4499, '\\xa0e': 4500, 'funcionais': 4501, 'ideais': 4502, 'fichtelgebirge': 4503, 'fichtelberg': 4504, 'franconian': 4505, 'schöneblick': 4506, 'cozily': 4507, 'routes': 4508, 'promise': 4509, 'infrared': 4510, 'cabin': 4511, 'fisher': 4512, 'lummus': 4513, 'knightsinn': 4514, 'diplomat': 4515, 'hallandale': 4516, 'racing': 4517, 'feeling': 4518, 'advised': 4519, '3rd': 4520, '4th': 4521, 'joya': 4522, 'cerén': 4523, 'pre': 4524, 'hispanic': 4525, 'farming': 4526, 'buried': 4527, 'eruption': 4528, 'preserved': 4529, 'insight': 4530, 'lives': 4531, 'populations': 4532, 'weeks': 4533, 'washer': 4534, 'yoga': 4535, 'curated': 4536, 'enthusiast': 4537, 'foodie': 4538, 'walkable': 4539, 'distilleries': 4540, 'bootcamp': 4541, 'workouts': 4542, 'towel': 4543, 'filtered': 4544, 'goals': 4545, 'strength': 4546, 'peloton': 4547, 'nordictrack': 4548, 'sweat': 4549, 'join': 4550, 'hosted': 4551, 'instructors': 4552, 'handcrafted': 4553, 'picking': 4554, 'premise': 4555, 'bento': 4556, 'frozen': 4557, '9pm': 4558, 'centered': 4559, 'rim': 4560, 'atrium': 4561, 'creates': 4562, 'vibe': 4563, 'engage': 4564, '30am': 4565, 'mondays': 4566, 'max': 4567, 'pounds': 4568, 'accepted': 4569, 'lightner': 4570, 'colony': 4571, 'flagler': 4572, '465': 4573, 'cobrança': 4574, '01': 4575, 'março': 4576, 'abril': 4577, '109': 4578, 'ano': 4579, 'varia': 4580, 'unidade': 4581, 'coberto': 4582, 'privilégios': 4583, 'tardio': 4584, 'administrativa': 4585, 'ocupam': 4586, 'utiliza': 4587, 'profissional': 4588, '9h00': 4589, 'sobre': 4590, 'lock': 4591, 'dados': 4592, 'deve': 4593, 'feito': 4594, '16h00': 4595, '10h': 4596, 'photocopy': 4597, 'wilderness': 4598, 'developed': 4599, 'contained': 4600, 'relief': 4601, 'average': 4602, 'stretch': 4603, '228': 4604, 'fantastic': 4605, 'enormous': 4606, 'welcomes': 4607, \"we're\": 4608, 'leader': 4609, 'outstanding': 4610, 'young': 4611, 'bingo': 4612, 'kids’': 4613, 'heroes': 4614, 'grown': 4615, 'gratuities': 4616, 'motorized': 4617, \"you've\": 4618, 'ever': 4619, 'experienced': 4620, 'literally': 4621, 'wallet': 4622, 'locked': 4623, 'safely': 4624, 'focal': 4625, 'piled': 4626, 'finicky': 4627, 'eaters': 4628, 'chefs': 4629, 'stocking': 4630, 'butcher': 4631, 'constantly': 4632, 'themed': 4633, 'impromptu': 4634, 'brain': 4635, 'bracing': 4636, \"royal's\": 4637, 'shaded': 4638, 'complemented': 4639, 'shrimp': 4640, 'lobster': 4641, 'oysters': 4642, 'crabs': 4643, 'vacations': 4644, 'had': 4645, 'complement': 4646, 'rotating': 4647, 'compete': 4648, 'desserts': 4649, 'dolce': 4650, 'goes': 4651, 'shot': 4652, 'reconnect': 4653, 'cheer': 4654, 'happening': 4655, 'laying': 4656, 'tracks': 4657, 'love': 4658, 'moby': 4659, 'dick': 4660, 'shady': 4661, 'breezes': 4662, 'older': 4663, 'considered': 4664, 'regular': 4665, 'aware': 4666, 'confirm': 4667, 'bracelets': 4668, 'failure': 4669, 'automatic': 4670, 'exclusions': 4671, 'infra': 4672, 'inframassan': 4673, 'stinsen': 4674, 'infuses': 4675, 'chinatown': 4676, 'incredible': 4677, 'varieties': 4678, 'committed': 4679, 'vågen': 4680, 'fjord': 4681, 'fløyen': 4682, 'wharf': 4683, 'bergen’s': 4684, 'transformed': 4685, 'neptun': 4686, 'torgallmenningen': 4687, '262': 4688, 'fløibanen': 4689, 'furnicular': 4690, 'brizzamar': 4691, 'tayrona': 4692, 'arrecife': 4693, 'nabusimake': 4694, 'blanca': 4695, 'horizonte': 4696, 'zazué': 4697, 'dios': 4698, 'bahía': 4699, 'novios': 4700, 'smr': 4701, 'simon': 4702, 'existe': 4703, 'smoki': 4704, 'courthouse': 4705, 'sharlot': 4706, 'rodeo': 4707, 'watson': 4708, 'whipple': 4709, 'prc': 4710, 'cottonwood': 4711, 'ctw': 4712, '53': 4713, '160': 4714, '1301': 4715, 'whitewater': 4716, 'rafting': 4717, 'kingman': 4718, 'skywalk': 4719, 'gonzaga': 4720, 'northtown': 4721, 'manito': 4722, 'whitworth': 4723, 'eagles': 4724, 'rena': 4725, 'holy': 4726, 'mt': 4727, 'heads': 4728, 'baked': 4729, 'cookies': 4730, 'material': 4731, 'speak': 4732, 'bon': 4733, 'secours': 4734, 'sirrine': 4735, 'bulgarian': 4736, 'practical': 4737, 'spartanburg': 4738, 'laureles': 4739, 'botero': 4740, 'lleras': 4741, 'universidad': 4742, 'bolivariana': 4743, 'molinos': 4744, 'ciudadela': 4745, 'unicentro': 4746, 'belen': 4747, 'atanasio': 4748, 'giradot': 4749, 'toros': 4750, 'macarena': 4751, 'covention': 4752, 'metropolitano': 4753, 'gutierrez': 4754, 'gomez': 4755, 'vieco': 4756, 'epm': 4757, 'descalzos': 4758, 'pueblito': 4759, 'paisa': 4760, 'mde': 4761, 'cordova': 4762, 'disponibiliza': 4763, 'hjotel': 4764, 'oz': 4765, 'sealanya': 4766, 'han': 4767, 'alaettinoglu': 4768, 'sarapsa': 4769, 'hani': 4770, 'ulus': 4771, 'ulas': 4772, 'halk': 4773, 'plaj': 4774, 'alayna': 4775, 'lunapark': 4776, 'palmiye': 4777, 'milli': 4778, 'egemenlik': 4779, '358': 4780, 'incluído': 4781, 'tarifas': 4782, 'localizados': 4783, 'aplicar': 4784, 'custos': 4785, 'suplementares': 4786, 'certas': 4787, 'apertar': 4788, 'sculptures': 4789, 'paintings': 4790, 'genova': 4791, 'artworks': 4792, 'arnaldo': 4793, 'pomodoro': 4794, 'dalì': 4795, 'man': 4796, 'ray': 4797, 'display': 4798, 'sixth': 4799, 'timberview': 4800, 'mccarthy': 4801, 'alf': 4802, 'ringhotel': 4803, 'bömers': 4804, 'mosellandhotel': 4805, 'prinzenkopf': 4806, 'calmont': 4807, 'klettersteig': 4808, 'vulkaneifel': 4809, 'thermal': 4810, 'gan': 4811, 'laamu': 4812, 'untouched': 4813, 'reefs': 4814, 'kadhoo': 4815, 'domestic': 4816, 'albrook': 4817, 'cinta': 4818, 'costera': 4819, 'multiplaza': 4820, 'exposições': 4821, 'marinhas': 4822, 'instituto': 4823, 'smithsonian': 4824, 'convenciones': 4825, 'puente': 4826, 'merced': 4827, 'metropolitana': 4828, 'esmeralda': 4829, 'interoceânico': 4830, 'biodiversidade': 4831, 'gehry': 4832, 'independência': 4833, 'pty': 4834, 'tocumen': 4835, 'pac': 4836, 'blb': 4837, 'pacífico': 4838, 'prepare': 4839, 'partilhada': 4840, 'wolfe': 4841, 'earthy': 4842, 'tail': 4843, 'storied': 4844, 'latest': 4845, 'mattresses': 4846, 'stranded': 4847, 'call': 4848, 'ccourteous': 4849, 'comfy': 4850, 'heater': 4851, 'writing': 4852, 'fé': 4853, 'ufg': 4854, 'mutirama': 4855, 'contemporânea': 4856, 'bandeirante': 4857, 'cora': 4858, 'coralina': 4859, 'vermelho': 4860, 'violeiro': 4861, 'raças': 4862, 'gyn': 4863, 'genoveva': 4864, 'lichfield': 4865, 'spired': 4866, '12th': 4867, 'walled': 4868, 'retain': 4869, 'drayton': 4870, 'nec': 4871, 'tamworth': 4872, 'snow': 4873, 'stefanos': 4874, 'míconos': 4875, 'joalharia': 4876, 'lugares': 4877, 'secretariado': 4878, 'espaçosos': 4879, 'regulado': 4880, 'aparelhagem': 4881, 'vatican': 4882, 'milão': 4883, 'sforzesco': 4884, 'pinacoteca': 4885, 'brera': 4886, 'climatizados': 4887, 'fogão': 4888, 'preparar': 4889, 'favoritos': 4890, 'independente': 4891, 'algumas': 4892, 'destaque': 4893, 'apoio': 4894, 'compra': 4895, 'bilhetes': 4896, 'freebies': 4897, 'conscious': 4898, 'seeking': 4899, 'fridges': 4900, 'fuel': 4901, '410': 4902, 'ingram': 4903, 'lackland': 4904, \"antonio's\": 4905, 'bonuses': 4906, 'ziva': 4907, 'cap': 4908, 'juanillo': 4909, 'scape': 4910, 'bavaro': 4911, '375': 4912, 'dipping': 4913, 'tempest': 4914, '14488': 4915, '1346': 4916, 'cairo': 4917, 'established': 4918, '2007': 4919, 'citystars': 4920, 'qoba': 4921, 'horários': 4922, 'segunda': 4923, 'sábado': 4924, '16h00esta': 4925, 'osa': 4926, 'safari': 4927, 'copying': 4928, 'sante': 4929, 'quarry': 4930, 'humboldt': 4931, 'shosei': 4932, 'minami': 4933, 'interchange': 4934, 'ramen': 4935, 'interchangeably': 4936, 'naturel': 4937, 'régional': 4938, 'ballons': 4939, 'decor': 4940, \"l'assiette\": 4941, 'coq': 4942, \"l'ane\": 4943, 'cerf': 4944, 'prepares': 4945, 'pavillon': 4946, 'pétrus': 4947, 'fritz': 4948, 'lac': 4949, 'gerardmer': 4950, 'chênes': 4951, 'blancs': 4952, '2016': 4953, 'secluded': 4954, 'forested': 4955, 'adriatic': 4956, 'vrboska': 4957, 'jelsa': 4958, 'sunbathing': 4959, 'accessed': 4960, 'kidderminster': 4961, 'roads': 4962, 'worcester': 4963, 'tourism': 4964, 'dhabi’s': 4965, 'zayna': 4966, 'eight': 4967, 'zayed': 4968, 'ferrari': 4969, 'yas': 4970, 'waterworld': 4971, 'kluge': 4972, 'ruhe': 4973, 'aboriginal': 4974, 'meadowcreek': 4975, 'neighbourhood': 4976, 'waterway': 4977, 'customer': 4978, 'ecossustentável': 4979, 'canadiano': 4980, 'direitos': 4981, 'humanos': 4982, 'portage': 4983, 'archives': 4984, 'ballet': 4985, 'legislativo': 4986, 'maçónico': 4987, 'boy': 4988, 'burton': 4989, 'cummings': 4990, 'ywg': 4991, 'richardson': 4992, '140': 4993, 'prove': 4994, 'iguarias': 4995, 'americana': 4996, 'peppermill': 4997, 'permanecer': 4998, 'privacidade': 4999, 'aposentos': 5000, 'completos': 5001, 'avani': 5002, 'geneva': 5003, 'estate': 5004, 'big': 5005, '334': 5006, '240°': 5007, 'tasty': 5008, 'noon': 5009, '40000': 5010, '3716': 5011, 'financeira': 5012, 'joy': 5013, 'saenger': 5014, 'tulane': 5015, 'medicine': 5016, 'lendas': 5017, 'musicais': 5018, 'decatur': 5019, 'congo': 5020, 'audubon': 5021, 'insectarium': 5022, 'lsu': 5023, 'luisiana': 5024, 'msy': 5025, '155': 5026, 'konyaalti': 5027, 'adjoining': 5028, 'parquet': 5029, 'beige': 5030, 'admire': 5031, 'bites': 5032, 'antalya': 5033, 'migros': 5034, 'kennedy': 5035, 'print': 5036, '531': 5037, 'miraflores': 5038, 'handicraft': 5039, 'larcomar': 5040, 'jorge': 5041, 'nrg': 5042, 'sleepers': 5043, 'stand': 5044, 'oracle': 5045, 'gold': 5046, 'comfortably': 5047, 'showcasing': 5048, 'perkins': 5049, 'burgers': 5050, 'daly': 5051, 'woodland': 5052, 'a35': 5053, 'moods': 5054, 'enschede': 5055, 'haaksbergen': 5056, 'hengelo': 5057, 'a1': 5058, 'pigeon': 5059, 'forge': 5060, 'dollywood': 5061, \"oakbrook's\": 5062, 'brookfield': 5063, '88': 5064, '355': 5065, 'whirlwind': 5066, 'tai': 5067, 'kok': 5068, 'tsui': 5069, 'mtr': 5070, 'attained': 5071, 'bronze': 5072, 'benchmark': 5073, 'earthcheck': 5074, 'philosophy': 5075, 'anytime': 5076, 'everywhere': 5077, 'pampered': 5078, 'imagination': 5079, 'waterworks': 5080, 'coffees': 5081, 'teas': 5082, 'stanley': 5083, 'purcell’s': 5084, 'thornberry': 5085, 'browns': 5086, 'lambeau': 5087, 'taste': 5088, 'risotto': 5089, 'restaurant’s': 5090, 'oswego': 5091, 'competitive': 5092, 'hamburg': 5093, \"mintues'\": 5094, 'rupp': 5095, 'laquinta': 5096, 'lakeside': 5097, 'todd': 5098, 'wheelchair': 5099, 'dejavu': 5100, 'ili': 5101, 'likha': 5102, 'ourivesaria': 5103, 'teachers': 5104, 'botânico': 5105, 'gruta': 5106, 'lourdes': 5107, 'desdobráveis': 5108, 'salto': 5109, 'spoon': 5110, 'especializado': 5111, 'jantares': 5112, 'desfrutar': 5113, 'ligeiras': 5114, 'terá': 5115, 'humidifying': 5116, 'purifier': 5117, 'odori': 5118, 'hokkaido': 5119, 'cepage': 5120, 'triple': 5121, 'characteristic': 5122, 'electrical': 5123, 'charging': 5124, 'poble': 5125, 'journey': 5126, 'connecticut': 5127, 'powder': 5128, 'motorways': 5129, 'yale': 5130, 'twain': 5131, 'continent': 5132, 'newman': 5133, 'november': 5134, 'spark': 5135, '500mb': 5136, 'precinct': 5137, '1930s': 5138, 'skyscraper': 5139, 'emblematic': 5140, 'petit': 5141, 'alcala': 5142, 'puerta': 5143, 'availability': 5144, 'círculo': 5145, 'multidisciplinary': 5146, 'dynamic': 5147, 'prado': 5148, 'reina': 5149, 'sevilla': 5150, 'atocha': 5151, 'eurohotel': 5152, 'montenapoleone': 5153, 'dates': 5154, '1920s': 5155, 'clubs': 5156, 'malpensa': 5157, 'germanna': 5158, 'hazelwild': 5159, 'celebrate': 5160, 'patriot': 5161, 'cnn': 5162, 'accommodates': 5163, 'boardroom': 5164, 'classroom': 5165, 'dominion': 5166, 'corps': 5167, 'quantico': 5168, \"lee's\": 5169, 'anna': 5170, 'buffs': 5171, \"soldier's\": 5172, 'kenmore': 5173, \"washington's\": 5174, 'monroe': 5175, 'browsing': 5176, 'cracker': 5177, 'longaberger': 5178, 'newport’s': 5179, 'mansions': 5180, 'cliff': 5181, 'sula': 5182, 'churrasqueria': 5183, 'steak': 5184, 'popol': 5185, 'nah': 5186, 'ramon': 5187, 'villeda': 5188, 'undergone': 5189, 'renovations': 5190, '2001': 5191, 'ease': 5192, 'economy': 5193, 'data': 5194, 'without': 5195, 'substituted': 5196, 'receiving': 5197, 'faxes': 5198, 'hookup': 5199, '131': 5200, 'odessa': 5201, 'petroleum': 5202, 'caf': 5203, 'communications': 5204, 'intimate': 5205, 'van': 5206, 'speijk': 5207, 'return': 5208, 'chocolate': 5209, 'fondue': 5210, 'bubbles': 5211, 'pete': 5212, 'dali': 5213, 'wonders': 5214, 'hua': 5215, 'hin': 5216, 'readily': 5217, 'eagan': 5218, 'tcf': 5219, 'depot': 5220, 'amtrak': 5221, 'tijuana': 5222, 'koelnmesse': 5223, 'bahn': 5224, 'fiskardo': 5225, 'foki': 5226, 'alatiés': 5227, 'myrtos': 5228, 'agiá': 5229, 'eliés': 5230, 'kyriaki': 5231, 'vouti': 5232, 'athéras': 5233, 'argostoli': 5234, 'efl': 5235, '52': 5236, 'placa': 5237, 'baggage': 5238, 'arriving': 5239, 'ensures': 5240, 'dip': 5241, 'ponta': 5242, 'negra': 5243, 'cosy': 5244, 'anyone': 5245, 'interesting': 5246, 'positioned': 5247, 'fairs': 5248, 'moreover': 5249, 'augusto': 5250, 'severo': 5251, 'variedade': 5252, 'passaporte': 5253, 'exemplo': 5254, 'estiver': 5255, 'carta': 5256, 'assinada': 5257, 'outro': 5258, 'pai': 5259, 'mãe': 5260, 'reconhecimento': 5261, 'assinatura': 5262, 'cartório': 5263, 'aplicável': 5264, 'estejam': 5265, 'dispostos': 5266, 'assinar': 5267, 'necessária': 5268, 'judicial': 5269, 'pretendem': 5270, 'consultar': 5271, 'consulado': 5272, 'brasileiro': 5273, 'ocupa': 5274, 'turista': 5275, 'protegido': 5276, 'extintor': 5277, 'incêndio': 5278, 'italie': 5279, 'ivry': 5280, 'seine': 5281, '13e': 5282, 'arrondissement': 5283, 'versailles': 5284, 'maison': 5285, 'examens': 5286, 'bois': 5287, 'vincennes': 5288, 'catacumbas': 5289, 'denfert': 5290, 'rocherau': 5291, 'sorbonne': 5292, '182': 5293, 'venda': 5294, 'automática': 5295, 'zurique': 5296, '1973': 5297, '333': 5298, 'conjunto': 5299, 'compreendem': 5300, 'exercitar': 5301, 'calypso': 5302, 'trancoso': 5303, 'quadrado': 5304, 'joao': 5305, 'batista': 5306, 'tancredo': 5307, 'neves': 5308, 'praca': 5309, 'moselle': 5310, 'ft²': 5311, 'saunas': 5312, 'received': 5313, 'rhineland': 5314, 'palatinate': 5315, 'jackson': 5316, 'verdant': 5317, 'america’s': 5318, 'rugged': 5319, 'peaks': 5320, 'celebrated': 5321, 'runs': 5322, 'inspiring': 5323, 'teton': 5324, 'littéraire': 5325, 'literary': 5326, 'honor': 5327, 'writer': 5328, 'kindarena': 5329, 'noter': 5330, 'beaux': 5331, 'clariana': 5332, 'macchu': 5333, 'picchu': 5334, 'cesar': 5335, 'montgomery': 5336, 'adobe': 5337, 'califórnia': 5338, 'sjc': 5339, 'norman': 5340, 'mineta': 5341, 'wvi': 5342, '73': 5343, 'formal': 5344, 'spindles': 5345, 'cabarets': 5346, 'crossings': 5347, 'duncan': 5348, 'kicakpoo': 5349, 'lucky': 5350, 'thoroughfare': 5351, 'badhoevedorp': 5352, 'divided': 5353, '207': 5354, 'skybar': 5355, '298': 5356, 'boeing': 5357, '747': 5358, 'bangna': 5359, 'bitec': 5360, 'emporium': 5361, 'sirikit': 5362, 'lumpini': 5363, 'amarin': 5364, 'darlington': 5365, 'montréal’s': 5366, 'olimpo': 5367, 'chapinero': 5368, 'javeriana': 5369, 'ignacio': 5370, 'monserrate': 5371, 'genoa’s': 5372, 'cruise': 5373, 'genoan': 5374, 'williamsville': 5375, 'somerset': 5376, 'roger': 5377, 'williams': 5378, \"tony's\": 5379, 'lizzie': 5380, 'borden': 5381, \"hartley's\": 5382, 'pork': 5383, 'fallriver': 5384, 'lafayette': 5385, 'durfee': 5386, 'pain': 5387, 'management': 5388, 'steward': 5389, 'control': 5390, 'bos': 5391, '87': 5392, 'providence': 5393, 'pvd': 5394, 'ewb': 5395, 'npt': 5396, 'kingstown': 5397, 'ri': 5398, 'nco': 5399, 'quonset': 5400, 'sagrada': 5401, 'familia': 5402, 'antibes’s': 5403, 'gluten': 5404, 'gaudí’s': 5405, 'batlló': 5406, 'pedrera': 5407, 'ramblas': 5408, 'monumental': 5409, 'keurig®': 5410, 'blocking': 5411, 'shades': 5412, 'armory': 5413, 'rosamond': 5414, 'gifford': 5415, 'mohegan': 5416, \"ashburton's\": 5417, 'domain': 5418, 'aviation': 5419, \"trott's\": 5420, \"motel's\": 5421, 'lay': 5422, 'specialities': 5423, 'warmer': 5424, 'months': 5425, 'laurentina': 5426, 'termini': 5427, 'arranges': 5428, 'garbatella': 5429, 'euros': 5430, 'pirates': 5431, 'assateague': 5432, 'seashore': 5433, 'saving': 5434, 'roland': 5435, 'powell': 5436, 'drottninggatan': 5437, 'nobis': 5438, 'hotels™': 5439, 'noveau': 5440, 'tile': 5441, 'swedish': 5442, 'clara’s': 5443, 'hötorget': 5444, 'bothin': 5445, 'lyon': 5446, 'campos': 5447, 'elísios': 5448, 'bastille': 5449, 'rivoli': 5450, 'cité': 5451, 'boulevards': 5452, 'cortinas': 5453, 'cortinados': 5454, 'opacos': 5455, 'toyota': 5456, 'bbva': 5457, 'dynamo': 5458, 'danillia': 5459, 'gouvia': 5460, 'ioannis': 5461, 'kapodistrias': 5462, 'corfiot': 5463, 'architectural': 5464, 'neoclassical': 5465, 'lush': 5466, 'colours': 5467, 'exude': 5468, 'regulated': 5469, 'molières': 5470, 'aiguillons': 5471, 'roucous': 5472, 'montauban': 5473, 'truffle': 5474, 'blagnac': 5475, 'averasboro': 5476, 'malabanas': 5477, \"guest's\": 5478, 'hohai': 5479, 'qingliangshan': 5480, 'jiangsu': 5481, 'sudeste': 5482, 'muralhas': 5483, 'jiming': 5484, 'tecnologia': 5485, 'xuanwu': 5486, 'xuan': 5487, 'wu': 5488, 'chaotian': 5489, 'nkg': 5490, 'lukou': 5491, '352': 5492, 'swanvale': 5493, 'hippodrome': 5494, 'circus': 5495, 'norfolk': 5496, 'broads': 5497, 'singapore': 5498, 'causeway': 5499, 'makan': 5500, 'fares': 5501, 'tosca': 5502, 'trattoria': 5503, 'straits': 5504, 'houses': 5505, 'supporting': 5506, 'sizes': 5507, 'w135': 5508, 'x': 5509, 'l200': 5510, 'sentral': 5511, 'senai': 5512, 'changi': 5513, 'td': 5514, 'ameritrade': 5515, 'eppley': 5516, 'airfield': 5517, 'proposta': 5518, 'oferecemos': 5519, 'simples': 5520, 'temos': 5521, 'luxo': 5522, 'somos': 5523, 'opção': 5524, 'quer': 5525, 'passeios': 5526, 'mesmo': 5527, 'deseja': 5528, 'preço': 5529, 'justo': 5530, 'pernoitar': 5531, 'descansar': 5532, 'maior': 5533, 'facilidade': 5534, 'locomoção': 5535, '\\rterá': 5536, 'visitar': 5537, 'desfrutando': 5538, 'pequena': 5539, 'sério': 5540, 'compromisso': 5541, 'garantindo': 5542, '\\r\\rcafé': 5543, 'especial': 5544, 'cheio': 5545, 'energias': 5546, 'afinal': 5547, 'precisar': 5548, 'pois': 5549, 'certeza': 5550, 'gastá': 5551, 'aqui': 5552, 'frutas': 5553, 'frios': 5554, 'salgados': 5555, 'pães': 5556, 'bolos': 5557, 'suco': 5558, 'feliz': 5559, '\\r\\restaconamento': 5560, 'automóvel': 5561, 'tranquilidade': 5562, 'aptº': 5563, 'tacoma': 5564, 'needle': 5565, 'pike': 5566, 'muckleshoot': 5567, 'raritan': 5568, 'upgraded': 5569, 'exchanged': 5570, 'menlo': 5571, 'woodbridge': 5572, 'amsterdam’s': 5573, 'a4': 5574, 'hoofddorp': 5575, '525': 5576, 'superior': 5577, 'hamminkeln': 5578, 'issel': 5579, 'marienthal': 5580, \"gasthof's\": 5581, 'fields': 5582, 'hohe': 5583, 'fireside': 5584, 'onondaga': 5585, 'doha': 5586, 'souq': 5587, 'waqif': 5588, 'halal': 5589, 'playing': 5590, 'qatar': 5591, 'diwan': 5592, 'emiri': 5593, 'bay’s': 5594, 'ftx': 5595, '360': 5596, 'degree': 5597, 'navigate': 5598, 'neighborhoods': 5599, 'scheduling': 5600, 'reserving': 5601, 'skis': 5602, 'bayside': 5603, 'tastes': 5604, 'organizations': 5605, 'sumela': 5606, 'arsin': 5607, 'trabzon': 5608, \"appart'city\": 5609, 'expositions': 5610, 'republica': 5611, 'itália': 5612, 'alcazar': 5613, 'brazilian': 5614, 'reflexu': 5615, 'banks': 5616, 'olympia': 5617, 'face': 5618, 'onto': 5619, 'presenteie': 5620, 'visita': 5621, 'certamente': 5622, 'curtir': 5623, 'internas': 5624, '23h30': 5625, 'massagem': 5626, 'tratamentos': 5627, 'reservas': 5628, 'feitas': 5629, 'contatando': 5630, 'registrados': 5631, 'higienizada': 5632, 'spray': 5633, 'eletroestático': 5634, 'portas': 5635, 'lacradas': 5636, 'pcr': 5637, 'certificação': 5638, 'turquia': 5639, 'ecolab': 5640, 'especialista': 5641, 'terceiro': 5642, 'ortus': 5643, 'bonita': 5644, 'tamiami': 5645, 'miniclub': 5646, 'supermarket': 5647, 'hairdresser': 5648, 'carretera': 5649, 'varadero': 5650, 'florin': 5651, 'azul': 5652, 'sofia': 5653, 'beyazıt': 5654, 'yenikapı': 5655, 'column': 5656, 'constantine': 5657, 'cemberlitas': 5658, 'çemberlitas': 5659, 'hamami': 5660, 'hagia': 5661, 'fatih': 5662, 'prala': 5663, 'sultanahmet': 5664, 'turca': 5665, 'islâmica': 5666, 'túmulo': 5667, 'sultão': 5668, 'ahmet': 5669, 'spice': 5670, 'eminönü': 5671, 'cisterna': 5672, 'ist': 5673, 'sabiha': 5674, 'gokcen': 5675, 'saw': 5676, 'outer': 5677, 'limits': 5678, 'burn': 5679, 'calories': 5680, 'given': 5681, 'puros': 5682, 'descontração': 5683, 'contemplar': 5684, 'soberbas': 5685, 'açoteia': 5686, 'aceitam': 5687, 'começa': 5688, 'snowmobile': 5689, 'dells': 5690, 'affordable': 5691, 'chinook': 5692, 'devils': 5693, '110': 5694, 'orhoïtza': 5695, 'doing': 5696, 'fechadas': 5697, 'terças': 5698, 'quartas': 5699, 'pagamento': 5700, 'espécie': 5701, 'avançado': 5702, 'alimentar': 5703, 'permanece': 5704, 'vazio': 5705, 'mínimo': 5706, '11h00': 5707, 'hoerstel': 5708, 'motas': 5709, 'emsflower': 5710, 'emsbueren': 5711, 'naturagart': 5712, 'steinfurt': 5713, 'bourtanger': 5714, 'bargerveen': 5715, 'moinho': 5716, 'hollich': 5717, 'arenito': 5718, 'caça': 5719, 'nöttler': 5720, 'berg': 5721, 'fmo': 5722, 'pasha': 5723, 'altıeylül': 5724, 'bzi': 5725, 'nyc': 5726, 'night’s': 5727, 'sleeps': 5728, 'hard': 5729, '6am': 5730, 'hsia': 5731, 'idaho': 5732, 'steaks': 5733, 'chef’s': 5734, 'greets': 5735, 'mere': 5736, 'delights': 5737, 'ambience': 5738, 'sit': 5739, 'pratique': 5740, 'swing': 5741, 'casamento': 5742, 'contendo': 5743, 'reunião': 5744, 'ixtlahuaca': 5745, 'rayón': 5746, 'valor': 5747, 'aproximado': 5748, '15h': 5749, '18h': 5750, 'matter': 5751, 'instantly': 5752, 'greenleafe': 5753, \"bojangles'\": 5754, 'mint': 5755, 'randolph': 5756, 'bacon': 5757, 'grove': 5758, 'gurnee': 5759, 'ftiness': 5760, 'snyder': 5761, 'hunters': 5762, 'kennels': 5763, 'abilene': 5764, 'mandeville': 5765, 'trafalgar': 5766, 'buckingham': 5767, 'escobas': 5768, 'venado': 5769, 'frente': 5770, 'destiladeros': 5771, 'guánico': 5772, 'abajo': 5773, 'dselina': 5774, 'ne': 5775, 'kfc': 5776, 'yum': 5777, '97': 5778, 'forrest': 5779, 'l': 5780, \"crowley's\": 5781, 'craighead': 5782, 'yet': 5783, 'distinguished': 5784, 'plaça': 5785, 'energetic': 5786, 'fairgrounds': 5787, 'networks': 5788, 'calabria’s': 5789, 'fashionably': 5790, 'measure': 5791, 'sizable': 5792, 'exceptionally': 5793, 'adorned': 5794, 'omelets': 5795, 'clay': 5796, 'renovation': 5797, 'march': 5798, \"florida's\": 5799, 'attending': 5800, 'kampung': 5801, 'datuk': 5802, 'keramat': 5803, 'towers': 5804, 'torres': 5805, 'putra': 5806, 'merdeka': 5807, '118': 5808, 'frigobares': 5809, 'deliciosas': 5810, 'eatatlevelsix': 5811, 'delicatessen': 5812, 'i̇stanbul': 5813, 'istiklal': 5814, 'taksim': 5815, 'anthony': 5816, 'padua': 5817, \"princes'\": 5818, 'dolmabahce': 5819, 'advice': 5820, 'lutfu': 5821, 'kirdar': 5822, 'istanbul': 5823, 'havana': 5824, 'embassies': 5825, 'ecological': 5826, 'harmonious': 5827, 'blend': 5828, 'styles': 5829, \"visitors'\": 5830, 'pio': 5831, 'ana': 5832, 'momentum': 5833, 'lindora': 5834, 'knights': 5835, 'dix': 5836, 'ellis': 5837, '210': 5838, 'chaffee': 5839, 'opens': 5840, 'saturdays': 5841, 'sundays': 5842, 'tuesdays': 5843, 'reserved': 5844, 'women': 5845, 'ladson': 5846, 'cod': 5847, 'townhomes': 5848, 'townhouse': 5849, 'stereo': 5850, 'easton': 5851, 'vilamarí': 5852, 'espanya': 5853, 'vilamarí’s': 5854, 'depending': 5855, 'mnac': 5856, 'magic': 5857, 'versions': 5858, 'catalan': 5859, 'korea': 5860, 'men': 5861, 'stasio': 5862, 'lobby’s': 5863, 'coex': 5864, 'gimpo': 5865, 'incheon': 5866, \"park's\": 5867, 'grizzly': 5868, 'paddle': 5869, 'giant': 5870, 'trains': 5871, 'soundproof': 5872, 'term': 5873, 'packages': 5874, 'celebrating': 5875, 'counties': 5876, 'famed': 5877, 'morgan’s': 5878, 'shows': 5879, 'hearty': 5880, 'brighton': 5881, 'rosa': 5882, 'sonoma': 5883, 'napa': 5884, 'flamingo': 5885, 'lap': 5886, 'intense': 5887, 'lazeaway': 5888, 'everyday': 5889, 'mauritius': 5890, 'eager': 5891, 'bustle': 5892, 'picture': 5893, 'entertaining': 5894, 'revel': 5895, 'tranquillity': 5896, 'tempt': 5897, 'unrivalled': 5898, '580': 5899, 'stonebridge': 5900, 'originally': 5901, 'georgian': 5902, 'parkland': 5903, 'chichester': 5904, 'arundel': 5905, 'southampton': 5906, 'croquet': 5907, 'andtable': 5908, 'tables': 5909, 'prep': 5910, 'names': 5911, 'boys': 5912, 'engraved': 5913, 'wall': 5914, 'panels': 5915, 'opt': 5916, 'reopen': 5917, 'dubai’s': 5918, 'phenicia': 5919, 'phenicia’s': 5920, 'baniyas': 5921, 'seven': 5922, 'astra': 5923, 'garnier': 5924, 'madeleine': 5925, 'magasins': 5926, 'vendome': 5927, 'paix': 5928, 'exhibitions': 5929, 'façade': 5930, 'vie': 5931, '82': 5932, 'agenda': 5933, 'answer': 5934, 'questions': 5935, 'fruits': 5936, \"32''\": 5937, 'briza': 5938, 'erik': 5939, 'nielsen': 5940, 'palmer': 5941, 'spent': 5942, 'sip': 5943, 'caracol': 5944, 'cascada': 5945, 'yonge': 5946, 'dundas': 5947, \"gentleman's\": 5948, 'fan': 5949, 'eaton': 5950, 'bishop': 5951, '437': 5952, 'gently': 5953, 'sloping': 5954, '1896': 5955, 'eastbourne’s': 5956, 'verandah': 5957, 'discount': 5958, 'voucher': 5959, 'collected': 5960, 'unrestricted': 5961, 'guarantee': 5962, 'facing': 5963, 'amizing': 5964, 'rocha': 5965, 'portimao': 5966, 'don’t': 5967, 'become': 5968, 'legendary': 5969, 'bands': 5970, 'attitude': 5971, 'timeless': 5972, 'fenway’s': 5973, 'buzzing': 5974, 'scene': 5975, 'began': 5976, '1959': 5977, '1271': 5978, 'boylston': 5979, '93': 5980, 'boston': 5981, 'coming': 5982, 'hojoko': 5983, 'tim': 5984, 'cushman': 5985, 'putting': 5986, 'finishing': 5987, 'excited': 5988, 'might': 5989, 'checkin': 5990, 'vehicle': 5991, 'cr': 5992, '535': 5993, \"orlando's\": 5994, 'abundant': 5995, \"world's\": 5996, 'atenas': 5997, 'omonoia': 5998, 'syntagma': 5999, 'panorâmicas': 6000, 'comodidade': 6001, 'lanches': 6002, 'apreciados': 6003, 'compras': 6004, 'ermou': 6005, 'já': 6006, 'elefthérios': 6007, 'venizélos': 6008, 'lhaviyani': 6009, 'dock': 6010, 'semi': 6011, 'flood': 6012, 'squash': 6013, 'mano': 6014, 'spreads': 6015, 'pasta': 6016, 'cowry': 6017, 'veli': 6018, 'jehunuhura': 6019, 'juneau': 6020, 'baranof': 6021, '1939': 6022, 'alaska’s': 6023, 'pristine': 6024, 'topical': 6025, 'enchanting': 6026, 'archipelago': 6027, 'recent': 6028, 'achieved': 6029, 'attraction': 6030, 'expanses': 6031, 'idyllic': 6032, '34km': 6033, 'speedboat': 6034, 'mesmerising': 6035, 'turquoise': 6036, 'islamic': 6037, 'nothing': 6038, 'desired': 6039, 'hospitable': 6040, 'solitude': 6041, 'specimen': 6042, 'drawing': 6043, 'films': 6044, '‘boy': 6045, \"dolphin'\": 6046, 'loren': 6047, '‘a': 6048, 'girl': 6049, \"black'\": 6050, 'elli': 6051, 'labeti': 6052, 'warriors’': 6053, 'path': 6054, 'ridgefields': 6055, 'rhoul': 6056, 'bahia': 6057, 'jemaa': 6058, 'fnaa': 6059, 'privativos': 6060, 'condomínio': 6061, 'residencial': 6062, 'fechado': 6063, 'tanto': 6064, 'quanto': 6065, 'varandas': 6066, 'mobiliadas': 6067, 'redes': 6068, 'geladeira': 6069, 'cooktop': 6070, 'talheres': 6071, 'agua': 6072, 'aquecida': 6073, 'sabonetes': 6074, 'cortezia': 6075, '\\r\\rno': 6076, 'compartilhado': 6077, 'jogos': 6078, 'garagem': 6079, 'iguatemi': 6080, 'castelão': 6081, 'martins': 6082, 'distância': 6083, '\\r\\resta': 6084, 'avaliada': 6085, 'custo': 6086, 'benefício': 6087, 'comparado': 6088, '\\r\\rpara': 6089, 'maiores': 6090, 'favor': 6091, 'contactar': 6092, 'proprietário': 6093, 'abaixo': 6094, '\\r\\r\\ratenciosamente': 6095, '\\rrafael': 6096, 'quintino\\rproprietário\\r': 6097, '55': 6098, '999156666\\r': 6099, 'vgfunbeachfront': 6100, 'sunak': 6101, 'urgup': 6102, 'goreme': 6103, 'asmalı': 6104, 'konak': 6105, 'wishing': 6106, 'poço': 6107, 'desejos': 6108, 'pancarlık': 6109, 'üç': 6110, 'güzeller': 6111, 'hallacdere': 6112, 'manzara': 6113, 've': 6114, 'kültür': 6115, 'aynalı': 6116, 'gomeda': 6117, 'ortahisar': 6118, 'rosas': 6119, 'nevsehir': 6120, 'nav': 6121, 'cappadocia': 6122, 'individualizada': 6123, 'chaleiras': 6124, 'elétricas': 6125, 'touristic': 6126, 'promises': 6127, 'millicent': 6128, 'romantik': 6129, 'reichshof': 6130, 'welcoming': 6131, 'furnishing': 6132, 'reichshof’s': 6133, 'meer': 6134, 'und': 6135, 'refresh': 6136, 'robe': 6137, 'zillestube': 6138, 'bauernstube': 6139, 'alt': 6140, 'choices': 6141, 'labège': 6142, 'september': 6143, 'basilique': 6144, 'sernin': 6145, 'harrah’s': 6146, 'consistently': 6147, 'ranked': 6148, 'condé': 6149, 'nast': 6150, 'windsor': 6151, 'orleans’': 6152, 'unusually': 6153, 'window': 6154, 'duval': 6155, 'cheese': 6156, 'conservatory': 6157, 'ernest': 6158, 'hemingway': 6159, '1148': 6160, 'pensionat': 6161, 'strandhagen': 6162, 'farjestaden': 6163, 'stora': 6164, 'ror': 6165, 'ekerum': 6166, 'vida': 6167, 'kalmar': 6168, 'saxnäs': 6169, 'andino': 6170, 'retiro': 6171, 'atlantis': 6172, 'brands': 6173, 'fragrant': 6174, 'squeezed': 6175, 'surround': 6176, 'citizens': 6177, 'regardless': 6178, 'length': 6179, 'least': 6180, 'consecutive': 6181, 'departure': 6182, 'visa': 6183, 'another': 6184, 'exceptions': 6185, 'yost': 6186, 'crisler': 6187, 'detroit': 6188, 'thunder': 6189, 'marseille': 6190, 'a9': 6191, 'leading': 6192, 'nimes': 6193, 'montpellier': 6194, 'alliance': 6195, 'athletics': 6196, 'skatecenter': 6197, 'freedom': 6198, 'trailhead': 6199, 'tipton': 6200, 'haynes': 6201, 'willow': 6202, 'wallabies': 6203, '139': 6204, 'úteis': 6205, 'edventure': 6206, 'dishware': 6207, 'oakdale': 6208, 'thann': 6209, 'alsace': 6210, 'airy': 6211, 'mulhouse': 6212, 'colmar': 6213, 'wesleyan': 6214, 'corn': 6215, 'globe': 6216, 'interconnected': 6217, 'hurricane': 6218, 'fio': 6219, 'vacinados': 6220, 'usar': 6221, 'máscara': 6222, '2h00': 6223, '83': 6224, 'noturna': 6225, 'oferecida': 6226, 'pueblo': 6227, 'diablo': 6228, 'intel': 6229, 'heat': 6230, 'maid': 6231, 'dewey': 6232, 'tryp': 6233, 'toya': 6234, 'kita': 6235, 'yuzawa': 6236, 'reminiscent': 6237, 'monbetsu': 6238, 'chitose': 6239, 'tatami': 6240, 'woven': 6241, 'straw': 6242, 'karaoke': 6243, 'computers': 6244, 'duty': 6245, 'toyako': 6246, 'sangaitaki': 6247, 'lahaina': 6248, 'honokowai': 6249, 'kaanapali': 6250, 'appalachian': 6251, 'sanford': 6252, 'schaefer': 6253, 'sandwiches': 6254, 'offerings': 6255, 'ranging': 6256, 'coolers': 6257, 'gantry': 6258, 'moving': 6259, 'image': 6260, 'arthur': 6261, 'ashe': 6262, 'fairmont': 6263, 'managed': 6264, \"bermuda's\": 6265, '1852': 6266, 'cake': 6267, 'persian': 6268, 'carpets': 6269, 'decorative': 6270, 'royal’s': 6271, 'create': 6272, 'patterned': 6273, 'staircase': 6274, 'read': 6275, 'avenyn': 6276, 'gothenburg’s': 6277, 'mv': 6278, 'fes': 6279, \"r'cif\": 6280, 'seffarine': 6281, 'medersa': 6282, 'talisman': 6283, 'jnane': 6284, 'sbile': 6285, 'rothenburg': 6286, 'ob': 6287, 'der': 6288, 'tauber': 6289, 'brauhaus': 6290, '1698': 6291, \"brauhaus's\": 6292, 'atlas': 6293, 'palmeraie': 6294, 'olive': 6295, 'menara': 6296, 'copier': 6297, \"doesn't\": 6298, 'steep': 6299, 'kalverstraat': 6300, 'anne': 6301, 'amerian': 6302, 'completamente': 6303, 'bristol': 6304, 'umarizal': 6305, 'estada': 6306, 'memorável': 6307, 'belém': 6308, 'turísticos': 6309, 'gracias': 6310, 'camino': 6311, 'lenca': 6312, 'celaque': 6313, 'vesuvius': 6314, 'trainer': 6315, 'april': 6316, 'caruso': 6317, '9th': 6318, 'castel': 6319, \"dell'ovo\": 6320, 'sorrento': 6321, 'busch': 6322, 'liberdade’s': 6323, 'bedside': 6324, 'lights': 6325, 'stocked': 6326, 'marquês': 6327, 'pombal': 6328, 'eduardo': 6329, 'vii': 6330, 'gulbenkian': 6331, 'lisbon': 6332, 'antipolis': 6333, 'festivais': 6334, 'macé': 6335, 'provençal': 6336, 'forville': 6337, 'castre': 6338, 'gazagnaire': 6339, 'palestre': 6340, 'pins': 6341, 'exflora': 6342, 'nce': 6343, 'azur': 6344, 'isle': 6345, 'tranquil': 6346, 'conferences': 6347, 'weddings': 6348, 'getaways': 6349, 'works': 6350, 'tirelessly': 6351, 'maintain': 6352, 'impeccable': 6353, 'strives': 6354, 'exceed': 6355, 'expectations': 6356, 'strolling': 6357, 'innovative': 6358, 'reflecting': 6359, 'backstage': 6360, 'series': 6361, 'nationally': 6362, 'renowned': 6363, 'acts': 6364, 'stage': 6365, 'richey': 6366, 'hudson': 6367, 'werner': 6368, 'boyce': 6369, 'nang': 6370, 'nopparathara': 6371, 'motorbike': 6372, 'house’s': 6373, 'krabi': 6374, 'carrière': 6375, 'henri': 6376, 'heillou': 6377, 'samson': 6378, 'chatellier': 6379, 'musee': 6380, 'nacre': 6381, 'tabletterie': 6382, 'elispace': 6383, 'oise': 6384, 'departmental': 6385, 'tapestry': 6386, 'manège': 6387, \"d'eau\": 6388, 'miparis': 6389, 'mithe': 6390, 'chateau': 6391, 'chantilly': 6392, 'asterix': 6393, 'veículo': 6394, 'ida': 6395, 'volta': 6396, 'dobráveis': 6397, 'adicional': 6398, '8h': 6399, 'asterion': 6400, 'bembo': 6401, 'cnossos': 6402, 'muros': 6403, 'vênetos': 6404, 'batalha': 6405, 'creta': 6406, 'resistência': 6407, 'eleftherias': 6408, 'anglon': 6409, 'titos': 6410, 'vikelaia': 6411, 'leões': 6412, 'kornaros': 6413, 'morosini': 6414, 'manos': 6415, 'hatzidakis': 6416, 'her': 6417, 'nikos': 6418, 'kazantzakis': 6419, 'harrods': 6420, 'tube': 6421, 'nespresso': 6422, 'marbles': 6423, 'detailing': 6424, 'scarpetta': 6425, 'independently': 6426, 'nolita': 6427, 'hangout': 6428, 'bringing': 6429, '‘the': 6430, 'night’': 6431, 'heady': 6432, 'crafted': 6433, 'creating': 6434, 'lighthearted': 6435, 'revelry': 6436, 'unlock': 6437, 'keys': 6438, '000': 6439, 'sq': 6440, 'thrilling': 6441, 'slides': 6442, 'wind': 6443, 'below': 6444, \"parrot's\": 6445, 'perch': 6446, 'separated': 6447, 'gallon': 6448, 'dump': 6449, 'bucket': 6450, 'infrastructure': 6451, 'want': 6452, 'gramado': 6453, 'optimal': 6454, 'chat': 6455, 'friends': 6456, '494': 6457, 'fly': 6458, 'package': 6459, 'cloud': 6460, 'keeneland': 6461, 'thoroughbred': 6462, 'fayette': 6463, 'bluegrass': 6464, 'milatos': 6465, 'lounger': 6466, 'joyful': 6467, 'alcoholic': 6468, 'vegetables': 6469, 'nikolaos': 6470, 'zorna': 6471, 'decks': 6472, 'parasols': 6473, 'aperitif': 6474, 'aquaerobic': 6475, 'participate': 6476, 'tournaments': 6477, 'poreč': 6478, 'preserves': 6479, 'pula': 6480, 'rooftops': 6481, 'marte': 6482, 'shoreline': 6483, 'aqah': 6484, 'beneath': 6485, 'hajjar': 6486, 'spread': 6487, '190': 6488, 'flame': 6489, 'worldly': 6490, 'pits': 6491, 'touch': 6492, 'friend': 6493, 'gatherings': 6494, 'bespoke': 6495, 'wonderfully': 6496, 'pampering': 6497, \"l'occitane\": 6498, 'couples’': 6499, 'hammam': 6500, 'active': 6501, 'teens': 6502, 'junior': 6503, 'aged': 6504, 'medieval': 6505, 'belfry': 6506, 'recommend': 6507, 'wollestraat': 6508, 'blankenberge': 6509, 'zeebrugge': 6510, 'ghent': 6511, 'glamorous': 6512, '1950’s': 6513, 'characterized': 6514, 'extraordinary': 6515, 'maintains': 6516, 'stellar': 6517, 'jamaica’s': 6518, 'inns': 6519, 'shimmering': 6520, 'granting': 6521, '74': 6522, 'stopping': 6523, 'bask': 6524, 'blissfully': 6525, 'beaches—glorious': 6526, 'coves': 6527, 'sipping': 6528, 'mangosas': 6529, 'hands': 6530, 'unobtrusive': 6531, 'butlers': 6532, 'jamaica': 6533, '2km': 6534, 'sangster': 6535, '110km': 6536, 'taxies': 6537, 'usually': 6538, 'mode': 6539, 'fahidi': 6540, 'khalifa': 6541, 'meena': 6542, 'bastakiya': 6543, 'burjuman': 6544, 'embrace': 6545, 'cajun': 6546, 'homelike': 6547, 'sesame': 6548, 'trenton': 6549, 'boardinghouse': 6550, 'luise': 6551, 'bergheim': 6552, 'neckarwiese': 6553, 'brattleboro': 6554, 'marlboro': 6555, 'graduate': 6556, 'disabilities': 6557, 'requiring': 6558, 'examine': 6559, 'specific': 6560, 'listed': 6561, 'website': 6562, 'lefkas': 6563, 'immediate': 6564, 'villages': 6565, 'regions': 6566, 'commodities': 6567, 'nook': 6568, 'pratunam': 6569, 'pantip': 6570, 'buddha': 6571, 'pho': 6572, '18th': 6573, 'talavera': 6574, 'tiles': 6575, 'decoration': 6576, 'colegio': 6577, 'ildefonso': 6578, 'privileged': 6579, 'metrobus': 6580, 'zócalo': 6581, 'turibus': 6582, 'oil': 6583, 'sustainable': 6584, 'policy': 6585, 'sharon': 6586, \"macy's\": 6587, 'penn': 6588, 'jacob': 6589, 'k': 6590, 'javits': 6591, 'residents': 6592, 'pontiac': 6593, 'zihuatanejo': 6594, 'jalapeño': 6595, 'villalinda': 6596, 'dxb': 6597, 'arab': 6598, 'wadi': 6599, 'jumeirah': 6600, 'baía': 6601, 'korcula': 6602, 'turística': 6603, 'alcançáveis': 6604, 'dubrovnik': 6605, 'pinhal': 6606, 'edifícios': 6607, 'anexos': 6608, 'andares': 6609, '278': 6610, 'cabeleireiro': 6611, 'minimercado': 6612, 'esplanada': 6613, 'usufruir': 6614, 'padrão': 6615, 'salgada': 6616, 'mesma': 6617, 'espreguiçadeiras': 6618, 'chapéus': 6619, 'jogar': 6620, 'minigolfe': 6621, 'seleccionar': 6622, 'estadas': 6623, 'pensão': 6624, 'georges': 6625, 'vi': 6626, \"fishermen's\": 6627, 'basques': 6628, 'vranjica': 6629, 'declarado': 6630, 'património': 6631, 'mundial': 6632, 'unesco': 6633, 'localiza': 6634, 'ligado': 6635, 'antiga': 6636, 'aldeia': 6637, 'piscatória': 6638, 'caminho': 6639, 'estabelecimentos': 6640, 'comerciais': 6641, '2005': 6642, 'sob': 6643, 'câmbio': 6644, 'monetário': 6645, 'aperitivos': 6646, 'terão': 6647, 'possibilidades': 6648, 'contemplam': 6649, 'casal': 6650, 'optar': 6651, 'bilhar': 6652, 'boccia': 6653, 'voleibol': 6654, 'futebol': 6655, 'andebol': 6656, 'praticar': 6657, 'desportos': 6658, 'aquáticos': 6659, 'banana': 6660, 'vela': 6661, 'mergulho': 6662, 'aquático': 6663, 'barco': 6664, 'gaivota': 6665, 'organiza': 6666, 'barcos': 6667, 'belíssimas': 6668, 'ilhas': 6669, 'kornati': 6670, 'bra': 6671, 'krknjasi': 6672, 'autocarro': 6673, 'sibenik': 6674, 'primosten': 6675, 'krka': 6676, 'sagrado': 6677, 'ugorje': 6678, '492': 6679, 'mark’s': 6680, 'zaccaria': 6681, 'vaporetto': 6682, 'doges': 6683, 'useful': 6684, \"venice's\": 6685, 'rowan': 6686, 'reeds': 6687, \"wetland's\": 6688, 'bird': 6689, 'mainstay': 6690, 'cellular': 6691, 'brucemore': 6692, 'dishwashers': 6693, 'toasters': 6694, 'sinks': 6695, 'disposals': 6696, 'scanner': 6697, 'dennos': 6698, 'posto': 6699, 'munson': 6700, 'commons': 6701, 'tvc': 6702, 'cherry': 6703, 'freezer': 6704, 'atarazanas': 6705, 'mimma': 6706, 'constitucion': 6707, 'carmen': 6708, 'episcopal': 6709, 'invisible': 6710, 'vino': 6711, 'corte': 6712, 'ingles': 6713, 'aduana': 6714, 'mirador': 6715, 'cristina': 6716, 'agp': 6717, 'málaga': 6718, 'recreio': 6719, 'galeao': 6720, 'venustiano': 6721, 'carranza': 6722, 'nazas': 6723, 'juarez': 6724, 'arocena': 6725, 'armas': 6726, 'gómez': 6727, 'noas': 6728, 'coahuila': 6729, 'trc': 6730, 'fransicso': 6731, 'sarabia': 6732, '102': 6733, 'conviver': 6734, '505': 6735, \"harb'\": 6736, 'wentworth': 6737, \"rushton's\": 6738, 'confederation': 6739, '167': 6740, 'souvenir': 6741, 'windsong': 6742, 'kenai': 6743, 'fjords': 6744, 'alaska': 6745, 'sealife': 6746, 'basie': 6747, 'pearl': 6748, 'flavored': 6749, 'asia': 6750, 'pnc': 6751, 'liouquet': 6752, \"ciotat's\": 6753, 'fregate': 6754, 'aqualand': 6755, 'michelin': 6756, 'bbc': 6757, 'circuit': 6758, 'ricard': 6759, 'indiana': 6760, 'lighthouse': 6761, 'chip': 6762, '1995': 6763, 'ozark': 6764, 'norfork': 6765, 'underwater': 6766, 'ithaa': 6767, 'spas': 6768, 'stretching': 6769, \"island's\": 6770, 'packed': 6771, 'creature': 6772, 'rewarding': 6773, 'learning': 6774, \"maldives'\": 6775, 'bottles': 6776, 'cellar': 6777, 'southgate': 6778, 'wakefield': 6779, 'alltel': 6780, 'sprint': 6781, 'headquarters': 6782, 'merrillville': 6783, 'midway': 6784, 'monocacy': 6785, 'antietam': 6786, 'harold’s': 6787, '240': 6788, 'minoru': 6789, 'the\\u200e': 6790, 'oval': 6791, 'mayan': 6792, 'ruins': 6793, 'cenote': 6794, 'monkey': 6795, 'intersection': 6796, 'fresh1800': 6797, 'sleek': 6798, 'o’hare': 6799, 'corpus': 6800, 'christi': 6801, 'courtenay': 6802, 'refurbishment': 6803, 'chancellor': 6804, '17th': 6805, 'pianist': 6806, 'plays': 6807, 'iah': 6808, 'tv’s': 6809, 'splashtown': 6810, 'maintaining': 6811, 'wilkes': 6812, 'barre': 6813, 'boarders': 6814, 'cobblestone': 6815, 'horicon': 6816, 'marsh': 6817, '960': 6818, 'president': 6819, \"buchanan's\": 6820, 'wheatland': 6821, 'willing': 6822, 'landis': 6823, 'dutch': 6824, 'wonderland': 6825, 'southlake': 6826, 'destiny': 6827, 'eicc': 6828, 'tattoo': 6829, 'sterling': 6830, 'fashion': 6831, 'gratwick': 6832, 'power': 6833, 'transformer': 6834, 'armaria': 6835, 'chapel': 6836, 'teleféricos': 6837, 'bethany': 6838, 'lutheran': 6839, 'betsy': 6840, \"tacy's\": 6841, 'caswell': 6842, 'sibley': 6843, 'blakeslee': 6844, 'benson': 6845, 'minneopa': 6846, 'chankaska': 6847, 'mineápolis': 6848, 'msp': 6849, '76': 6850, '59': 6851, 'brit': 6852, 'quartier': 6853, 'bourg': 6854, \"l'évesque\": 6855, 'touche': 6856, 'moulin': 6857, 'comte': 6858, 'roazhon': 6859, 'ecole': 6860, 'maitre': 6861, 'crepier': 6862, 'freslonniere': 6863, 'encuentro': 6864, 'fans': 6865, 'luck': 6866, 'bearden': 6867, 'zoon': 6868, 'eça': 6869, 'refined': 6870, 'palace’s': 6871, 'piano': 6872, 'hamman': 6873, 'aregos': 6874, 'gulfport': 6875, 'shoppers': 6876, \"nasa's\": 6877, 'stennis': 6878, 'lynn': 6879, 'meadows': 6880, 'unparalleled': 6881, 'graceful': 6882, 'antebellum': 6883, 'homes': 6884, 'gambling': 6885, 'diamondhead': 6886, 'curved': 6887, 'rods': 6888, 'ample': 6889, 'fargo': 6890, 'fargodome': 6891, 'hector': 6892, 'cottage': 6893, 'mansão': 6894, 'wightwick': 6895, 'himley': 6896, 'molineux': 6897, 'hipódromo': 6898, 'ferro': 6899, 'tábua': 6900, 'fantásticas': 6901, 'piqueniques': 6902, 'inglês': 6903, 'kampala': 6904, 'dana': 6905, 'kibuli': 6906, \"kabaka's\": 6907, 'gaddafi': 6908, 'acacia': 6909, 'coloured': 6910, 'boavista': 6911, 'apache': 6912, 'downs': 6913, 'kid': 6914, \"ruidoso's\": 6915, 'tall': 6916, 'pines': 6917, 'seasons': 6918, 'breathe': 6919, 'unwinding': 6920, 'laser': 6921, 'groups': 6922, 'yaxchilan': 6923, 'palapas': 6924, 'wading': 6925, 'shenandoah': 6926, 'eastman': 6927, 'dow': 6928, 'birch': 6929, 'suratthani': 6930, 'rajabhat': 6931, 'jomtien': 6932, 'teakettle': 6933, 'candle': 6934, 'village’s': 6935, 'cadeira': 6936, '14h': 6937, 'anesi': 6938, 'metamorfosi': 6939, 'helexpo': 6940, 'incomparable': 6941, 'canadian': 6942, 'rockies': 6943, 'brisk': 6944, 'climate': 6945, 'ticino': 6946, 'delectable': 6947, 'swiss': 6948, '1974': 6949, 'mountainous': 6950, 'splendor': 6951, 'direction': 6952, 'knowledgeable': 6953, 'attentive': 6954, 'eagerly': 6955, 'recommendations': 6956, 'sight': 6957, 'bookings': 6958, 'banff': 6959, 'outfits': 6960, 'suppliers': 6961, 'knotts': 6962, 'berry': 6963, 'maximum': 6964, 'cerritos': 6965, 'watersports': 6966, 'sailing': 6967, 'waterskiing': 6968, 'freshwater': 6969, 'fabrics': 6970, 'camelot': 6971, 'offshore': 6972, 'harrison’s': 6973, 'formations': 6974, 'inviting': 6975, 'avail': 6976, 'assured': 6977, 'discovered': 6978, '2002': 6979, 'concentrated': 6980, 'mostly': 6981, 'utah': 6982, '1994': 6983, 'era': 6984, 'hairdryers': 6985, 'demand': 6986, 'il': 6987, 'vermilion': 6988, 'hindelang': 6989, 'conhecidos': 6990, 'líbris': 6991, 'woodson': 6992, 'paine': 6993, 'gentry': 6994, 'blanche': 6995, 'touhill': 6996, 'vizinhança': 6997, 'mercantile': 6998, 'extends': 6999, 'chom': 7000, 'koi': 7001, 'lpt': 7002, 'puangpech': 7003, 'raphael': 7004, 'comuns': 7005, 'acessíveis': 7006, 'rodas': 7007, 'allen': 7008, '850': 7009, '700': 7010, 'biscuits': 7011, 'labyrinth': 7012, 'european': 7013, 'ultra': 7014, 'guidance': 7015, '264': 7016, 'sdf': 7017, 'kolymbia': 7018, 'tsambika': 7019, 'minimally': 7020, 'diagoras': 7021, 'moutiers': 7022, 'crossroads': 7023, 'valleys': 7024, 'chalet': 7025, 'auberge’s': 7026, 'log': 7027, 'leather': 7028, 'n90': 7029, 'gorgeous': 7030, 'silky': 7031, '476': 7032, 'platform': 7033, 'partially–covered': 7034, 'jets': 7035, 'once': 7036, 'tiran': 7037, 'taj': 7038, 'mahal': 7039, 'zen': 7040, 'dance': 7041, 'nights': 7042, 'bedouin': 7043, 'sakia': 7044, 'oasis': 7045, 'algae': 7046, 'wraps': 7047, 'jogging': 7048, 'supervised': 7049, 'ras': 7050, 'mohammed': 7051, 'naama': 7052, 'wesseling': 7053, \"cologne's\": 7054, 'phantasialand': 7055, 'brühl': 7056, 'rhine': 7057, 'rhein': 7058, 'a555': 7059, 'carry': 7060, 'look': 7061, \"rhein's\": 7062, 'pizzas': 7063, 'treats': 7064, 'starting': 7065, 'woodlands': 7066, 'sines': 7067, 'saltwater': 7068, 'presented': 7069, 'andré': 7070, 'northwest': 7071, 'citycentre': 7072, 'arboretum': 7073, 'grenoble': 7074, 'bathed': 7075, 'a41': 7076, 'pioneer': 7077, \"colorado's\": 7078, 'hartman': 7079, 'rocks': 7080, 'cinco': 7081, 'bajío': 7082, 'servicio': 7083, 'ciudades': 7084, 'ventaja': 7085, 'especialmente': 7086, 'cuando': 7087, 'aprovechar': 7088, 'día': 7089, 'sin': 7090, 'sacrificar': 7091, 'traslados': 7092, 'reunión': 7093, 'otra': 7094, '\\r\\rsilao': 7095, 'estratégicamente': 7096, 'localizada': 7097, 'crucero': 7098, 'une': 7099, 'irapuato': 7100, 'sino': 7101, 'también': 7102, 'alberga': 7103, 'variedad': 7104, 'compañías': 7105, 'nacionales': 7106, 'internacionales': 7107, 'fábrica': 7108, 'general': 7109, 'motors': 7110, 'otras': 7111, '\\r\\rel': 7112, 'cerro': 7113, 'cubilete': 7114, 'coronado': 7115, 'estatua': 7116, 'kilómetros': 7117, 'uno': 7118, 'destinos': 7119, 'religioso': 7120, 'importante': 7121, 'noviembre': 7122, 'peregrinos': 7123, 'visitan': 7124, 'cristero': 7125, '\\r\\rla': 7126, 'hermosa': 7127, 'queda': 7128, 'escaparte': 7129, 'nunca': 7130, 'estado': 7131, 'ella': 7132, 'animamos': 7133, 'encierra': 7134, 'inicio': 7135, 'batalla': 7136, 'año': 7137, 'bienvenida': 7138, 'cervantino': 7139, '\\r\\rquédate': 7140, 'nosotros': 7141, 'sialo': 7142, 'père': 7143, 'lachaise': 7144, 'cemetery': 7145, 'bagnolet': 7146, 'montreuil': 7147, 'allow': 7148, 'arrive': 7149, 'exclusivamente': 7150, 'encantador': 7151, 'aceder': 7152, 'interesse': 7153, 'zonas': 7154, 'edificado': 7155, 'empresariais': 7156, 'sejam': 7157, 'totalmente': 7158, 'satisfeitas': 7159, 'chegam': 7160, 'experimentar': 7161, 'mão': 7162, 'deste': 7163, 'entreter': 7164, 'cobrada': 7165, 'furnish': 7166, 'bergstrom': 7167, 'coffeemaker': 7168, 'carlson': 7169, 'mining': 7170, '2789': 7171, 'andean': 7172, 'viejo': 7173, 'kleopatra': 7174, 'archeological': 7175, '193': 7176, 'consoles': 7177, 'fame': 7178, 'verona': 7179, 'tip': 7180, 'win': 7181, 'rolling': 7182, 'shasta': 7183, 'caverns': 7184, 'camping': 7185, 'lassen': 7186, 'inland': 7187, 'salmon': 7188, 'annually': 7189, 'bull': 7190, 'gelding': 7191, 'sale': 7192, 'drag': 7193, 'races': 7194, 'hookups': 7195, 'telephones': 7196, '1585': 7197, 'belge': 7198, 'chocolates': 7199, 'card': 7200, 'twice': 7201, 'overnight': 7202, 'shoeshine': 7203, '2113': 7204, 'roi': 7205, 'soleil': 7206, 'thermes': 7207, 'suburbana': 7208, 'aventures': 7209, 'thermapolis': 7210, 'galaxie': 7211, 'pompei': 7212, 'snowhall': 7213, \"d'amnéville\": 7214, 'patinoire': 7215, 'walygator': 7216, 'traces': 7217, 'iut': 7218, 'thionville': 7219, 'napoleon': 7220, 'wilson': 7221, 'etz': 7222, 'nancy': 7223, 'lorraine': 7224, 'findel': 7225, 'lux': 7226, '57': 7227, 'motorcycle': 7228, 'sundry': 7229, 'bradford': 7230, 'antler': 7231, 'pickering': 7232, 'marie': 7233, 'antoinette': 7234, 'asylum': 7235, 'kayaking': 7236, 'stratosphere': 7237, 'strip': 7238, 'allergy': 7239, 'bellagio': 7240, 'harry': 7241, 'reid': 7242, 'nóbrega': 7243, 'brooklin': 7244, 'julho': 7245, 'citibank': 7246, 'monaca': 7247, 'gives': 7248, 'rosario’s': 7249, 'flag': 7250, 'planetarium': 7251, 'bellingrath': 7252, 'theaterwork': 7253, 'meow': 7254, \"rockin'\": 7255, 'rollers': 7256, '209': 7257, '7500': 7258, '697': 7259, 'taverna': 7260, 'playgrounds': 7261, 'frequent': 7262, \"boats'\": 7263, 'departures': 7264, 'spinalonga': 7265, '1990': 7266, 'botanic': 7267, 'manukau': 7268, 'asb': 7269, 'showgrounds': 7270, \"conway's\": 7271, 'beaverfork': 7272, 'cadron': 7273, 'settlement': 7274, 'toad': 7275, 'suck': 7276, 'verizon': 7277, 'j': 7278, 'clinton': 7279, 'symphony': 7280, 'performs': 7281, 'leaving': 7282, 'early': 7283, 'success™': 7284, 'bag': 7285, 'prior': 7286, 'dyers': 7287, 'electronic': 7288, 'recharge': 7289, 'device': 7290, 'usb': 7291, 'occasion': 7292, 'ask': 7293, 'orangeburg': 7294, 'starts': 7295, 'pm': 7296, 'schongau': 7297, 'bavaria': 7298, 'hohenschwangau': 7299, 'neuschwanstein': 7300, 'ettal': 7301, 'linderhof': 7302, 'benefit': 7303, 'customers': 7304, 'based': 7305, 'know': 7306, 'occupying': 7307, 'parent': 7308, \"guardian's\": 7309, 'bring': 7310, 'contacting': 7311, 'confirmation': 7312, 'surcharges': 7313, 'crib': 7314, 'experiência': 7315, 'mobilidade': 7316, 'reduzida': 7317, 'espaços': 7318, 'públicos': 7319, 'decorados': 7320, 'sintam': 7321, 'secretária': 7322, 'recupere': 7323, 'inteiro': 7324, 'passeio': 7325, 'proveite': 7326, 'amável': 7327, 'proximidade': 7328, 'liverpooltem': 7329, 'razões': 7330, 'hospedar': 7331, 'sleepwalker': 7332, 'współczesny': 7333, 'elisabeth': 7334, 'fórum': 7335, 'música': 7336, 'madalena': 7337, 'ossolineum': 7338, 'słodowa': 7339, 'wro': 7340, 'elalia': 7341, 'lychnostatis': 7342, 'sarakino': 7343, 'glykeria': 7344, 'kissamos': 7345, 'kedrodasos': 7346, 'kendrodasos': 7347, 'krios': 7348, 'kriós': 7349, 'acritans': 7350, 'europe': 7351, 'palaiochora': 7352, 'kalámia': 7353, 'psilós': 7354, 'vólakas': 7355, 'trochaloú': 7356, 'naiads': 7357, 'bela': 7358, 'blanc': 7359, 'poidist': 7360, 'valu': 7361, 'ascension': 7362, 'genesys': 7363, 'creasey': 7364, 'bicentennial': 7365, \"captain's\": 7366, 'monte': 7367, 'holly': 7368, '58': 7369, 'geladeiras': 7370, 'banheiros': 7371, 'possuem': 7372, 'clabolo': 7373, 'airpark': 7374, 'estates': 7375, 'moriarty': 7376, 'peak': 7377, 'notice': 7378, 'coronavirus': 7379, 'protect': 7380, 'reduced': 7381, 'unavailable': 7382, 'pump': 7383, 'blankets': 7384, 'trailers': 7385, 'approved': 7386, \"hawkes'\": 7387, 'planet': 7388, 'accommodated': 7389, 'belonging': 7390, 'recounts': 7391, 'passage': 7392, 'centuries': 7393, 'step': 7394, 'indeed': 7395, 'author': 7396, 'milton': 7397, 'inspiration': 7398, 'his': 7399, 'masterpiece': 7400, 'he': 7401, 'wrote': 7402, 'reflected': 7403, 'novella': 7404, 'abounding': 7405, 'stroll': 7406, \"florence's\": 7407, 'undeniable': 7408, 'fingertips': 7409, 'salons': 7410, 'baroque': 7411, 'tuscany': 7412, 'dish': 7413, 'perks': 7414, 'caldwell': 7415, 'brotherhood': 7416, 'kristi': 7417, 'babcock': 7418, 'palaia': 7419, 'ipads': 7420, 'tempur': 7421, 'pedic': 7422, 'sheets': 7423, 'corferias': 7424, 'colombia': 7425, 'cundinamarca': 7426, \"breakfast's\": 7427, 'hobs': 7428, 'tavernas': 7429, 'island’s': 7430, 'kerkira': 7431, 'owners': 7432, \"minnesota's\": 7433, 'felt': 7434, 'mn': 7435, 'thanks': 7436, 'homey': 7437, 'highlights': 7438, 'gun': 7439, 'cumberland': 7440, 'dickinson': 7441, \"beach's\": 7442, 'forget': 7443, 'radio': 7444, 'used': 7445, '2101': 7446, '29577': 7447, 'usa': 7448, 'warmth': 7449, 'familiarity': 7450, 'restored': 7451, 'impression': 7452, 'enveloped': 7453, 'duomo': 7454, 'della': 7455, 'signoria': 7456, 'ponte': 7457, 'vecchio': 7458, 'frescoed': 7459, 'performed': 7460, 'legion': 7461, 'samford': 7462, 'vulcan': 7463, 'bjcc': 7464, 'mcwane': 7465, 'rights': 7466, 'shuttlesworth': 7467, 'anti': 7468, 'allergic': 7469, 'hose': 7470, 'sprayer': 7471, 'marechal': 7472, 'rondon': 7473, 'chapada': 7474, 'guimarães': 7475, 'rose': 7476, 'golfland': 7477, 'sunsplash': 7478, 'mormon': 7479, 'anfiteatro': 7480, 'hale': 7481, 'phx': 7482, 'msc': 7483, 'falcon': 7484, 'az': 7485, 'chd': 7486, 'aza': 7487, 'scottsdale': 7488, 'scf': 7489, '149': 7490, 'separadas': 7491, 'preparado': 7492, '115': 7493, 'rogers': 7494, 'kyriad': 7495, 'mauroy': 7496, 'citadel': 7497, 'designated': 7498, 'mesdag': 7499, 'door': 7500, 'noordeinde': 7501, '1476': 7502, 'blueblood': 7503, 'together': 7504, 'connect': 7505, 'experiences': 7506, 'mauritshuis': 7507, 'lange': 7508, 'voorhout': 7509, 'ashburn': 7510, 'oceanic': 7511, 'atmospheric': 7512, 'administration': 7513, 'stati': 7514, 'baltimore': 7515, \"stockholm's\": 7516, 'östermalmstorg': 7517, 'mineral': 7518, 'textiles': 7519, 'fittings': 7520, 'chosen': 7521, 'ling': 7522, 'backyard': 7523, 'stureplan': 7524, 'hub': 7525, 'province': 7526, 'patagonia': 7527, 'contemplate': 7528, 'argentino': 7529, 'moyano': 7530, 'landscape': 7531, 'combination': 7532, 'klamath': 7533, 'clothes': 7534, 'favell': 7535, 'rogue': 7536, 'medford': 7537, 'worldmark': 7538, 'piratuba': 7539, 'thermas': 7540, 'machadinho': 7541, 'joacaba': 7542, 'jcb': 7543, 'terezinha': 7544, '78': 7545, 'mission': 7546, 'expanded': 7547, 'attractively': 7548, 'irish': 7549, 'camera': 7550, 'obscura': 7551, 'illusions': 7552, 'waverley': 7553}\n"
          ]
        }
      ],
      "source": [
        "from collections import OrderedDict\n",
        "# A dictionary of words and their counts.\n",
        "word_counts = t.word_counts\n",
        "sorted_words = OrderedDict(sorted(word_counts.items(), key=lambda x: x[1], reverse=True))\n",
        "top_30_words = list(sorted_words.items())[:30]\n",
        "print(\"top30 palavras mais recorrentes:\")\n",
        "for word, count in top_30_words:\n",
        "    print(f\"{word}: {count}\")\n",
        "\n",
        "\n",
        "#print(t.word_counts.sorted())\n",
        "\n",
        "# A dictionary of words and how many documents each appeared in.\n",
        "print(t.word_docs)\n",
        "\n",
        "# An integer count of the total number of documents that were used to fit the Tokenizer (i.e. total number of documents)\n",
        "print(t.document_count)\n",
        "\n",
        "# A dictionary of words and their uniquely assigned integers.\n",
        "print(t.word_index)"
      ]
    },
    {
      "cell_type": "code",
      "execution_count": null,
      "id": "f589841c-38ac-41a2-8e19-2eecd3b444e1",
      "metadata": {
        "collapsed": true,
        "jupyter": {
          "outputs_hidden": true
        },
        "tags": [],
        "id": "f589841c-38ac-41a2-8e19-2eecd3b444e1",
        "outputId": "1021c6a8-50a8-4e90-bd9e-c9ccb83d59c2"
      },
      "outputs": [
        {
          "name": "stdout",
          "output_type": "stream",
          "text": [
            "Requirement already satisfied: pip in c:\\users\\jgjoa\\anaconda3\\lib\\site-packages (21.2.4)\n",
            "Collecting pip\n",
            "  Downloading pip-23.1.2-py3-none-any.whl (2.1 MB)\n",
            "Installing collected packages: pip\n",
            "  Attempting uninstall: pip\n",
            "    Found existing installation: pip 21.2.4\n",
            "    Uninstalling pip-21.2.4:\n",
            "      Successfully uninstalled pip-21.2.4\n",
            "Successfully installed pip-23.1.2\n"
          ]
        },
        {
          "name": "stderr",
          "output_type": "stream",
          "text": [
            "WARNING: Ignoring invalid distribution -rotobuf (c:\\users\\jgjoa\\anaconda3\\lib\\site-packages)\n",
            "WARNING: Ignoring invalid distribution -ensorflow-intel (c:\\users\\jgjoa\\anaconda3\\lib\\site-packages)\n",
            "WARNING: Ignoring invalid distribution -rotobuf (c:\\users\\jgjoa\\anaconda3\\lib\\site-packages)\n",
            "WARNING: Ignoring invalid distribution -ensorflow-intel (c:\\users\\jgjoa\\anaconda3\\lib\\site-packages)\n",
            "WARNING: Ignoring invalid distribution -rotobuf (c:\\users\\jgjoa\\anaconda3\\lib\\site-packages)\n",
            "WARNING: Ignoring invalid distribution -ensorflow-intel (c:\\users\\jgjoa\\anaconda3\\lib\\site-packages)\n",
            "    WARNING: Ignoring invalid distribution -rotobuf (c:\\users\\jgjoa\\anaconda3\\lib\\site-packages)\n",
            "    WARNING: Ignoring invalid distribution -ensorflow-intel (c:\\users\\jgjoa\\anaconda3\\lib\\site-packages)\n",
            "WARNING: Ignoring invalid distribution -rotobuf (c:\\users\\jgjoa\\anaconda3\\lib\\site-packages)\n",
            "WARNING: Ignoring invalid distribution -ensorflow-intel (c:\\users\\jgjoa\\anaconda3\\lib\\site-packages)\n",
            "WARNING: Ignoring invalid distribution -rotobuf (c:\\users\\jgjoa\\anaconda3\\lib\\site-packages)\n",
            "WARNING: Ignoring invalid distribution -ensorflow-intel (c:\\users\\jgjoa\\anaconda3\\lib\\site-packages)\n",
            "WARNING: Ignoring invalid distribution -rotobuf (c:\\users\\jgjoa\\anaconda3\\lib\\site-packages)\n",
            "WARNING: Ignoring invalid distribution -ensorflow-intel (c:\\users\\jgjoa\\anaconda3\\lib\\site-packages)\n",
            "WARNING: Ignoring invalid distribution -rotobuf (c:\\users\\jgjoa\\anaconda3\\lib\\site-packages)\n",
            "WARNING: Ignoring invalid distribution -ensorflow-intel (c:\\users\\jgjoa\\anaconda3\\lib\\site-packages)\n"
          ]
        },
        {
          "name": "stdout",
          "output_type": "stream",
          "text": [
            "Requirement already satisfied: Pillow in c:\\users\\jgjoa\\anaconda3\\lib\\site-packages (9.0.1)\n",
            "Collecting Pillow\n",
            "  Downloading Pillow-9.5.0-cp39-cp39-win_amd64.whl (2.5 MB)\n",
            "     ---------------------------------------- 2.5/2.5 MB 12.5 MB/s eta 0:00:00\n",
            "Installing collected packages: Pillow\n",
            "  Attempting uninstall: Pillow"
          ]
        },
        {
          "name": "stderr",
          "output_type": "stream",
          "text": [
            "WARNING: Ignoring invalid distribution -ensorflow-intel (c:\\users\\jgjoa\\anaconda3\\lib\\site-packages)\n",
            "WARNING: Ignoring invalid distribution -rotobuf (c:\\users\\jgjoa\\anaconda3\\lib\\site-packages)\n",
            "WARNING: Ignoring invalid distribution -ensorflow-intel (c:\\users\\jgjoa\\anaconda3\\lib\\site-packages)\n",
            "WARNING: Ignoring invalid distribution -rotobuf (c:\\users\\jgjoa\\anaconda3\\lib\\site-packages)\n"
          ]
        },
        {
          "name": "stdout",
          "output_type": "stream",
          "text": [
            "\n",
            "    Found existing installation: Pillow 9.0.1\n",
            "    Uninstalling Pillow-9.0.1:\n",
            "      Successfully uninstalled Pillow-9.0.1\n",
            "Successfully installed Pillow-9.5.0\n"
          ]
        }
      ],
      "source": [
        "!pip install --upgrade pip\n",
        "\n",
        "!pip install --upgrade Pillow"
      ]
    },
    {
      "cell_type": "code",
      "execution_count": 15,
      "id": "6a718018-faa2-4fc9-83f5-9c72856731e1",
      "metadata": {
        "colab": {
          "base_uri": "https://localhost:8080/",
          "height": 422
        },
        "id": "6a718018-faa2-4fc9-83f5-9c72856731e1",
        "outputId": "29155165-40cd-4775-8c52-be4906e6571f"
      },
      "outputs": [
        {
          "output_type": "display_data",
          "data": {
            "text/plain": [
              "<Figure size 1000x500 with 1 Axes>"
            ],
            "image/png": "[encoded data removed]"
          },
          "metadata": {}
        }
      ],
      "source": [
        "import matplotlib.pyplot as plt\n",
        "from wordcloud import WordCloud\n",
        "\n",
        "word_counts = t.word_counts\n",
        "\n",
        "# Criar um dicionário de palavras para a nuvem\n",
        "wordcloud_dict = {word: count for word, count in list(sorted_words.items())[:50]}\n",
        "\n",
        "# Criar a nuvem de palavras\n",
        "wordcloud = WordCloud(width=800, height=400, background_color='white').generate_from_frequencies(wordcloud_dict)\n",
        "\n",
        "# Plotar a nuvem de palavras\n",
        "plt.figure(figsize=(10, 5))\n",
        "plt.imshow(wordcloud, interpolation='bilinear')\n",
        "plt.axis('off')\n",
        "plt.show()\n"
      ]
    },
    {
      "cell_type": "code",
      "execution_count": null,
      "id": "234fda62-fc5d-43cf-abda-fe051848f96e",
      "metadata": {
        "id": "234fda62-fc5d-43cf-abda-fe051848f96e",
        "outputId": "0d8b957d-9589-4460-9962-a7a2f34e83b1"
      },
      "outputs": [
        {
          "name": "stdout",
          "output_type": "stream",
          "text": [
            "Found 7553 unique tokens.\n"
          ]
        }
      ],
      "source": [
        "print('Found %s unique tokens.' % len(t.word_index))"
      ]
    },
    {
      "cell_type": "markdown",
      "id": "90231070-4b66-4302-a353-73d457c5c422",
      "metadata": {
        "id": "90231070-4b66-4302-a353-73d457c5c422"
      },
      "source": [
        "Tokenization: Padronizando os textos(aplicação de letra minuscula,retirada de caracteres especiais)\n",
        "- Remoção de pontuação e caracteres especiais.\n",
        "- Textos em sequências de palavras separadas por espaço em letras minúsculas.\n",
        "- Divisão das sequencias em tokens.\n",
        "- char_level=False : cada palavra será tratada como um token diferente de caractere.\n",
        "- As listas de tokens são indexadas e vetorizadas.\n"
      ]
    },
    {
      "cell_type": "code",
      "execution_count": null,
      "id": "e3dc5436-7629-43ba-9758-e0588a64667b",
      "metadata": {
        "id": "e3dc5436-7629-43ba-9758-e0588a64667b"
      },
      "outputs": [],
      "source": [
        "# Tokenization\n",
        "t = Tokenizer(num_words=None, filters='!\"#$%&()*+,-./:;<=>?@[\\\\]^_`{|}~\\t\\n', lower=True, split=' ', char_level=False, oov_token=None, document_count=0)\n",
        "\n",
        "def get_sequence_of_tokens(corpus):\n",
        "    t.fit_on_texts(corpus)\n",
        "    total_words = len(t.word_index) + 1\n",
        "    \n",
        "    input_sequences = []\n",
        "    for line in corpus:\n",
        "        token_list = t.texts_to_sequences([line])[0]\n",
        "        for i in range(1, len(token_list)):\n",
        "            n_gram_sequence = token_list[:i+1]\n",
        "            input_sequences.append(n_gram_sequence)\n",
        "            \n",
        "    return input_sequences, total_words"
      ]
    },
    {
      "cell_type": "code",
      "execution_count": null,
      "id": "1656b3ce-9473-41f0-855f-7da4ed880a93",
      "metadata": {
        "id": "1656b3ce-9473-41f0-855f-7da4ed880a93"
      },
      "outputs": [],
      "source": [
        "input_sequences, total_words = get_sequence_of_tokens(corpus)\n"
      ]
    },
    {
      "cell_type": "markdown",
      "id": "eae5adba-c924-454c-b7b7-6dac945650fe",
      "metadata": {
        "id": "eae5adba-c924-454c-b7b7-6dac945650fe"
      },
      "source": [
        "As frases passam a ser representadas por números."
      ]
    },
    {
      "cell_type": "markdown",
      "id": "d34639cc-04b1-413d-8ef4-e876757f8a5c",
      "metadata": {
        "id": "d34639cc-04b1-413d-8ef4-e876757f8a5c"
      },
      "source": [
        "\"Located(45) in Nice's city center, Best Western Hotel Lakmi Nice is located(45) on Avenue Jean Medecin\" é representado pela sequencia abaixo:"
      ]
    },
    {
      "cell_type": "code",
      "execution_count": null,
      "id": "6a40b8d7-5075-49cc-88c3-cf48fad2f937",
      "metadata": {
        "id": "6a40b8d7-5075-49cc-88c3-cf48fad2f937",
        "outputId": "b28acb26-3cb6-47d7-fb81-471730f1731e"
      },
      "outputs": [
        {
          "data": {
            "text/plain": [
              "[[45, 5],\n",
              " [45, 5, 2698],\n",
              " [45, 5, 2698, 94],\n",
              " [45, 5, 2698, 94, 33],\n",
              " [45, 5, 2698, 94, 33, 279],\n",
              " [45, 5, 2698, 94, 33, 279, 343],\n",
              " [45, 5, 2698, 94, 33, 279, 343, 7],\n",
              " [45, 5, 2698, 94, 33, 279, 343, 7, 2699],\n",
              " [45, 5, 2698, 94, 33, 279, 343, 7, 2699, 1337],\n",
              " [45, 5, 2698, 94, 33, 279, 343, 7, 2699, 1337, 4],\n",
              " [45, 5, 2698, 94, 33, 279, 343, 7, 2699, 1337, 4, 45],\n",
              " [45, 5, 2698, 94, 33, 279, 343, 7, 2699, 1337, 4, 45, 43],\n",
              " [45, 5, 2698, 94, 33, 279, 343, 7, 2699, 1337, 4, 45, 43, 1338],\n",
              " [45, 5, 2698, 94, 33, 279, 343, 7, 2699, 1337, 4, 45, 43, 1338, 3870],\n",
              " [45, 5, 2698, 94, 33, 279, 343, 7, 2699, 1337, 4, 45, 43, 1338, 3870, 3871]]"
            ]
          },
          "execution_count": 49,
          "metadata": {},
          "output_type": "execute_result"
        }
      ],
      "source": [
        "input_sequences[:15]"
      ]
    },
    {
      "cell_type": "code",
      "execution_count": null,
      "id": "8d7ba2b8-227b-4a28-b8f6-b4ebc8c5c686",
      "metadata": {
        "id": "8d7ba2b8-227b-4a28-b8f6-b4ebc8c5c686",
        "outputId": "9749768c-eba7-4d65-da2d-ff8881373754"
      },
      "outputs": [
        {
          "data": {
            "text/plain": [
              "[\"Located in Nice's city center, Best Western Hotel Lakmi Nice is located on Avenue Jean Medecin, Nice's main shopping street which leads to Place Massena. It is next to Nice Etoile Shopping Center and is just 1969 feet from Nice- Ville Train Station. Each spacious air-conditioned guest room has a flat- screen TV and a private bathroom fitted with a hairdryer. Some of the soundproofed rooms feature wrought iron furniture and some rooms offer a balcony. WiFi access is available throughout the hotel. A buffet breakfast is served every morning in the breakfast room at the Best Western Hotel Lakmi Nice. Newspapers are available for guests and there is also a bar on site. The Promenade des Anglais is a 13-minute walk from the hotel and Vieux Nice, the historic district, is a 15-minute walk away. Six private parking spaces are available on site at an additional cost, which cannot be booked in advance. ((* Sorry, this information is not available in the selected language and is shown in EN).\"]"
            ]
          },
          "execution_count": 48,
          "metadata": {},
          "output_type": "execute_result"
        }
      ],
      "source": [
        "corpus[:1]"
      ]
    },
    {
      "cell_type": "code",
      "execution_count": null,
      "id": "b97bf274-e644-46b8-b246-a5d7a5660b39",
      "metadata": {
        "id": "b97bf274-e644-46b8-b246-a5d7a5660b39",
        "outputId": "7852a6f3-b8bf-4453-c750-0c1b9e767abe"
      },
      "outputs": [
        {
          "data": {
            "text/plain": [
              "7554"
            ]
          },
          "execution_count": 53,
          "metadata": {},
          "output_type": "execute_result"
        }
      ],
      "source": [
        "total_words"
      ]
    },
    {
      "cell_type": "markdown",
      "id": "987b1103-6e77-4255-87da-28eef8beef51",
      "metadata": {
        "id": "987b1103-6e77-4255-87da-28eef8beef51"
      },
      "source": [
        "Deixando as sequences com o mesmo comprimento, transformando numeros inteiros em uma matriz 2D (num_samples,maxlen)"
      ]
    },
    {
      "cell_type": "code",
      "execution_count": null,
      "id": "9be0e937-77a9-44ac-810f-62adcb2f7723",
      "metadata": {
        "id": "9be0e937-77a9-44ac-810f-62adcb2f7723"
      },
      "outputs": [],
      "source": [
        "# pad sequences \n",
        "def generate_padded_sequences(input_sequences):\n",
        "    max_sequence_len = max([len(x) for x in input_sequences])\n",
        "    input_sequences = np.array(pad_sequences(input_sequences, maxlen = max_sequence_len, padding = 'pre'))\n",
        "    predictors, label = input_sequences[:,:-1],input_sequences[:,-1]\n",
        "    label = ku.to_categorical(label, num_classes = total_words)\n",
        "    \n",
        "    return predictors, label, max_sequence_len\n",
        "\n",
        "predictors, label, max_sequence_len = generate_padded_sequences(input_sequences)"
      ]
    },
    {
      "cell_type": "markdown",
      "id": "6bfb3280-6767-4057-a3d3-afbd5275ff40",
      "metadata": {
        "id": "6bfb3280-6767-4057-a3d3-afbd5275ff40"
      },
      "source": [
        "Criando o Modelo:\n",
        "- Modelo LSTM com 100 unidades de memória\n",
        "- Dropout com probalidade de 10.\n",
        "- Problema de classificação de palavra com 7553 classes.\n",
        "- Camada de saída Dense com ativação em softmax.\n",
        "- Uso de otimização ADAM para velocidade"
      ]
    },
    {
      "cell_type": "code",
      "execution_count": null,
      "id": "80f1667d-39b0-4e9f-aadc-734a1ffd238f",
      "metadata": {
        "id": "80f1667d-39b0-4e9f-aadc-734a1ffd238f",
        "outputId": "111ce24f-e6dc-478c-c86c-11a34131e836"
      },
      "outputs": [
        {
          "name": "stdout",
          "output_type": "stream",
          "text": [
            "Model: \"sequential\"\n",
            "_________________________________________________________________\n",
            " Layer (type)                Output Shape              Param #   \n",
            "=================================================================\n",
            " embedding (Embedding)       (None, 727, 10)           75540     \n",
            "                                                                 \n",
            " lstm (LSTM)                 (None, 100)               44400     \n",
            "                                                                 \n",
            " dropout (Dropout)           (None, 100)               0         \n",
            "                                                                 \n",
            " dense (Dense)               (None, 7554)              762954    \n",
            "                                                                 \n",
            "=================================================================\n",
            "Total params: 882,894\n",
            "Trainable params: 882,894\n",
            "Non-trainable params: 0\n",
            "_________________________________________________________________\n"
          ]
        }
      ],
      "source": [
        "def create_model(max_sequence_len, total_words):\n",
        "    model = Sequential()\n",
        "    \n",
        "    # Add Input Embedding Layer\n",
        "    model.add(Embedding(total_words, 10, input_length=max_sequence_len - 1))\n",
        "    \n",
        "    # Add Hidden Layer 1 - LSTM Layer\n",
        "    model.add(LSTM(100))\n",
        "    model.add(Dropout(0.1))\n",
        "    \n",
        "    # Add Output Layer\n",
        "    model.add(Dense(total_words, activation='softmax'))\n",
        "\n",
        "    model.compile(loss='categorical_crossentropy', optimizer='adam')\n",
        "    \n",
        "    return model\n",
        "\n",
        "model = create_model(max_sequence_len, total_words)\n",
        "model.summary()"
      ]
    },
    {
      "cell_type": "code",
      "execution_count": null,
      "id": "47fc0133-f247-40aa-8044-08c4edefa55d",
      "metadata": {
        "id": "47fc0133-f247-40aa-8044-08c4edefa55d",
        "outputId": "cc986352-f24d-4d2a-c2a3-0ce9d3d33da9"
      },
      "outputs": [
        {
          "name": "stdout",
          "output_type": "stream",
          "text": [
            "Epoch 1/10\n",
            "Epoch 2/10\n",
            "Epoch 3/10\n",
            "Epoch 4/10\n",
            "Epoch 5/10\n",
            "Epoch 6/10\n",
            "Epoch 7/10\n",
            "Epoch 8/10\n",
            "Epoch 9/10\n",
            "Epoch 10/10\n"
          ]
        },
        {
          "data": {
            "text/plain": [
              "<keras.callbacks.History at 0x166f4f57310>"
            ]
          },
          "execution_count": 56,
          "metadata": {},
          "output_type": "execute_result"
        }
      ],
      "source": [
        "model.fit(predictors, label, epochs=10, verbose=5)"
      ]
    },
    {
      "cell_type": "code",
      "execution_count": null,
      "id": "0c1d3338-6c89-4c6b-a131-156f9853ec9c",
      "metadata": {
        "id": "0c1d3338-6c89-4c6b-a131-156f9853ec9c"
      },
      "outputs": [],
      "source": [
        "def generate_text(seed_text, next_words, model, max_seq_len):\n",
        "    for _ in range(next_words):\n",
        "        token_list = t.texts_to_sequences([seed_text])[0]\n",
        "        token_list = pad_sequences([token_list], maxlen=max_seq_len-1, padding='pre')\n",
        "        \n",
        "        #predicted = model.predict_classes(token_list, verbose=0)\n",
        "        predicted = np.argmax(model.predict(token_list, verbose=0), axis=-1)\n",
        "        output_word = ''\n",
        "        \n",
        "        for word,index in t.word_index.items():\n",
        "            if index == predicted:\n",
        "                output_word = word\n",
        "                break\n",
        "                \n",
        "        seed_text = seed_text + \" \" + output_word\n",
        "        \n",
        "    return seed_text.title()"
      ]
    },
    {
      "cell_type": "code",
      "execution_count": null,
      "id": "92ebeeda-e359-47f2-91dd-66b3221c4a5f",
      "metadata": {
        "id": "92ebeeda-e359-47f2-91dd-66b3221c4a5f",
        "outputId": "5f5ecca4-a10d-4ac2-c83a-660dfad305c4"
      },
      "outputs": [
        {
          "name": "stdout",
          "output_type": "stream",
          "text": [
            "Hilton Seattle Downtown Hotel Is Located In The Heart Of The Historic Of The Hotel In The Heart Of The Heart Of The Heart Of The Hotel The Hotel Is Within Walking Distance Of The Hotel And The Beach Of The Hotel The Hotel Is Within Walking Distance Of The Hotel And The Hotel Is Just Minutes Away From The Hotel And The Hotel Is A Short Drive Away The Hotel Is A Short Drive Away And A Variety Of The Hotel The Hotel Offers A Variety Of The Hotel In The Hotel In The Hotel In The Heart Of The Heart Of\n"
          ]
        }
      ],
      "source": [
        "print(generate_text(\"hilton seattle downtown\", 100, model, max_sequence_len))\n"
      ]
    },
    {
      "cell_type": "code",
      "execution_count": null,
      "id": "d2c73b94-43ab-4932-be33-311d2fe5e3b3",
      "metadata": {
        "id": "d2c73b94-43ab-4932-be33-311d2fe5e3b3",
        "outputId": "5bde2eb5-bc70-45a5-88c3-b79d97370eb5"
      },
      "outputs": [
        {
          "name": "stdout",
          "output_type": "stream",
          "text": [
            "Holiday Inn Express - New York City, City-Center Hotel, Walk To Madison Square Garden By Wyndham Wapakoneta Is A Short Drive From The Beach Of The Beach The Hotel Is Just A Short Drive From The Hotel And The Beach Of The City Of The Hotel The Hotel Is Just Close From The Historic Of The The Conditioned And The Hotel The Hotel Is Just Minutes From The Historic Of The Hotel The Hotel Is Within Walking Distance Of The Hotel The Hotel Is Just A Short Drive Away And A Variety Of The Hotel The Hotel Offers A Variety Of The Hotel In The Hotel In The Hotel In The Hotel In The\n"
          ]
        }
      ],
      "source": [
        "print(generate_text(\"Holiday Inn Express - New York City, City-center hotel, walk to Madison Square Garden\", 100, model, max_sequence_len))"
      ]
    },
    {
      "cell_type": "code",
      "execution_count": null,
      "id": "bf086394-7385-48eb-b8c6-9a0253fabe00",
      "metadata": {
        "id": "bf086394-7385-48eb-b8c6-9a0253fabe00"
      },
      "outputs": [],
      "source": []
    },
    {
      "cell_type": "code",
      "execution_count": null,
      "id": "ba24d3c5-bf3b-48e4-ac66-26ff2dee0ef5",
      "metadata": {
        "id": "ba24d3c5-bf3b-48e4-ac66-26ff2dee0ef5"
      },
      "outputs": [],
      "source": []
    },
    {
      "cell_type": "code",
      "execution_count": null,
      "id": "3ea47249-7e5d-464e-8691-45a26dc45e56",
      "metadata": {
        "id": "3ea47249-7e5d-464e-8691-45a26dc45e56"
      },
      "outputs": [],
      "source": []
    },
    {
      "cell_type": "markdown",
      "id": "f8ab2e75-77e4-4dc3-8e88-606702deef0e",
      "metadata": {
        "tags": [],
        "id": "f8ab2e75-77e4-4dc3-8e88-606702deef0e"
      },
      "source": [
        "# Teste 2 - Apenas Hoteis Brasileiros (Descrição em português)"
      ]
    },
    {
      "cell_type": "markdown",
      "id": "c597906a-9c9b-4c5f-911e-62d80c80f470",
      "metadata": {
        "id": "c597906a-9c9b-4c5f-911e-62d80c80f470"
      },
      "source": [
        "- Identificação do idioma das descrições, visando otimizar o modelo.\n",
        "- Utilização da Descrição curta e aumanto das camadas de teste."
      ]
    },
    {
      "cell_type": "code",
      "execution_count": 23,
      "id": "0530f596-ed2b-45f6-8eae-b5dc6754848b",
      "metadata": {
        "id": "0530f596-ed2b-45f6-8eae-b5dc6754848b"
      },
      "outputs": [],
      "source": [
        "data = pd.read_json('/content/gdrive/My Drive/Colab Notebooks/inventory_hotel_BR_pt.json')\n",
        "data = data[['short_description','description']]\n"
      ]
    },
    {
      "cell_type": "code",
      "execution_count": null,
      "id": "ab0a37dc-3540-4f22-8ecb-da4708645aeb",
      "metadata": {
        "id": "ab0a37dc-3540-4f22-8ecb-da4708645aeb"
      },
      "outputs": [],
      "source": [
        "data['idioma'] = ''\n",
        "\n",
        "\n",
        "for i in range(len(data['description'])):\n",
        "    description = str(data['description'][i])\n",
        "    if description.strip() and len(description) > 3:\n",
        "        data.at[i, 'idioma'] = langdetect.detect(description)\n",
        "    else:\n",
        "        data.at[i, 'idioma'] = 'Desconhecido'\n",
        "\n",
        "data"
      ]
    },
    {
      "cell_type": "code",
      "execution_count": null,
      "id": "44f52e31-10a5-4ee5-b1c9-882eded981a5",
      "metadata": {
        "id": "44f52e31-10a5-4ee5-b1c9-882eded981a5",
        "outputId": "73c1a096-49f2-4ad9-a95b-b7c2044b45ff"
      },
      "outputs": [
        {
          "name": "stdout",
          "output_type": "stream",
          "text": [
            "╒════╤══════════════╤════════════╤══════════════╕\n",
            "│    │ Nome         │   Contagem │   Percentual │\n",
            "╞════╪══════════════╪════════════╪══════════════╡\n",
            "│  0 │ en           │      88571 │         86.9 │\n",
            "├────┼──────────────┼────────────┼──────────────┤\n",
            "│  1 │ pt           │      12572 │         12.3 │\n",
            "├────┼──────────────┼────────────┼──────────────┤\n",
            "│  2 │ es           │        344 │          0.3 │\n",
            "├────┼──────────────┼────────────┼──────────────┤\n",
            "│  3 │ Desconhecido │        303 │          0.3 │\n",
            "├────┼──────────────┼────────────┼──────────────┤\n",
            "│  4 │ tr           │         41 │          0   │\n",
            "├────┼──────────────┼────────────┼──────────────┤\n",
            "│  5 │ ro           │         25 │          0   │\n",
            "├────┼──────────────┼────────────┼──────────────┤\n",
            "│  6 │ fr           │         12 │          0   │\n",
            "├────┼──────────────┼────────────┼──────────────┤\n",
            "│  7 │ de           │          3 │          0   │\n",
            "├────┼──────────────┼────────────┼──────────────┤\n",
            "│  8 │ ca           │          3 │          0   │\n",
            "├────┼──────────────┼────────────┼──────────────┤\n",
            "│  9 │ th           │          1 │          0   │\n",
            "├────┼──────────────┼────────────┼──────────────┤\n",
            "│ 10 │ hr           │          1 │          0   │\n",
            "├────┼──────────────┼────────────┼──────────────┤\n",
            "│ 11 │ id           │          1 │          0   │\n",
            "├────┼──────────────┼────────────┼──────────────┤\n",
            "│ 12 │ it           │          1 │          0   │\n",
            "╘════╧══════════════╧════════════╧══════════════╛\n"
          ]
        }
      ],
      "source": [
        "name_counts = data['idioma'].value_counts()\n",
        "name_counts_df = pd.DataFrame({'Nome': name_counts.index, 'Contagem': name_counts.values})\n",
        "total = name_counts_df['Contagem'].sum()\n",
        "name_counts_df['Percentual'] = (name_counts_df['Contagem'] / total * 100).round(1)\n",
        "table = tabulate(name_counts_df, headers='keys', tablefmt='fancy_grid')\n",
        "print(table)"
      ]
    },
    {
      "cell_type": "code",
      "execution_count": null,
      "id": "3e55a69b-a712-4ebd-b159-20c20d398647",
      "metadata": {
        "id": "3e55a69b-a712-4ebd-b159-20c20d398647"
      },
      "outputs": [],
      "source": [
        "hotelBR_df= data[data['idioma']=='pt']\n",
        "hotelBR_df.reset_index(inplace = True)\n",
        "hotelBR_df = hotelBR_df[0:300]"
      ]
    },
    {
      "cell_type": "code",
      "execution_count": null,
      "id": "db85b904-68dd-424b-ac8c-8ede4187fa21",
      "metadata": {
        "id": "db85b904-68dd-424b-ac8c-8ede4187fa21",
        "outputId": "42a79cb7-8905-4685-acdf-a41b0b5904c8"
      },
      "outputs": [
        {
          "data": {
            "text/html": [
              "<div>\n",
              "<style scoped>\n",
              "    .dataframe tbody tr th:only-of-type {\n",
              "        vertical-align: middle;\n",
              "    }\n",
              "\n",
              "    .dataframe tbody tr th {\n",
              "        vertical-align: top;\n",
              "    }\n",
              "\n",
              "    .dataframe thead th {\n",
              "        text-align: right;\n",
              "    }\n",
              "</style>\n",
              "<table border=\"1\" class=\"dataframe\">\n",
              "  <thead>\n",
              "    <tr style=\"text-align: right;\">\n",
              "      <th></th>\n",
              "      <th>index</th>\n",
              "      <th>short_description</th>\n",
              "      <th>description</th>\n",
              "      <th>idioma</th>\n",
              "    </tr>\n",
              "  </thead>\n",
              "  <tbody>\n",
              "    <tr>\n",
              "      <th>0</th>\n",
              "      <td>4</td>\n",
              "      <td>Localizado no coração de São Paulo, o Grand Me...</td>\n",
              "      <td>Localizado no coração de São Paulo, o Grand Me...</td>\n",
              "      <td>pt</td>\n",
              "    </tr>\n",
              "    <tr>\n",
              "      <th>1</th>\n",
              "      <td>8</td>\n",
              "      <td>Com uma estadia Candiland Apartment em Semaran...</td>\n",
              "      <td>&lt;h3&gt;Localização Do Estabelecimento&lt;/h3&gt;\\nCom u...</td>\n",
              "      <td>pt</td>\n",
              "    </tr>\n",
              "    <tr>\n",
              "      <th>2</th>\n",
              "      <td>10</td>\n",
              "      <td>Deleite-se com uma ida ao spa, que oferece mas...</td>\n",
              "      <td>&lt;h3&gt;Localização Do Estabelecimento&lt;/h3&gt;\\nEm La...</td>\n",
              "      <td>pt</td>\n",
              "    </tr>\n",
              "    <tr>\n",
              "      <th>3</th>\n",
              "      <td>21</td>\n",
              "      <td>Este agradável hotel encontra-se em Norco Area...</td>\n",
              "      <td>Não perca as atividades de recreação, como uma...</td>\n",
              "      <td>pt</td>\n",
              "    </tr>\n",
              "    <tr>\n",
              "      <th>4</th>\n",
              "      <td>24</td>\n",
              "      <td>Em Chetumal, Hotel Mexico ficará a 2 minuto(s)...</td>\n",
              "      <td>&lt;h3&gt;Localização Do Estabelecimento&lt;/h3&gt;\\nEm Ch...</td>\n",
              "      <td>pt</td>\n",
              "    </tr>\n",
              "    <tr>\n",
              "      <th>...</th>\n",
              "      <td>...</td>\n",
              "      <td>...</td>\n",
              "      <td>...</td>\n",
              "      <td>...</td>\n",
              "    </tr>\n",
              "    <tr>\n",
              "      <th>295</th>\n",
              "      <td>2190</td>\n",
              "      <td>Tradição e hospitalidade\\n\\nCom mais de 40 ano...</td>\n",
              "      <td>Tradição e hospitalidade\\n\\nCom mais de 40 ano...</td>\n",
              "      <td>pt</td>\n",
              "    </tr>\n",
              "    <tr>\n",
              "      <th>296</th>\n",
              "      <td>2192</td>\n",
              "      <td>Estilo e conforto completam as 172 acomodações...</td>\n",
              "      <td>Estilo e conforto completam as 172 acomodações...</td>\n",
              "      <td>pt</td>\n",
              "    </tr>\n",
              "    <tr>\n",
              "      <th>297</th>\n",
              "      <td>2195</td>\n",
              "      <td>Contemple fantásticas vistas a partir da açote...</td>\n",
              "      <td>Aprecie a vista em um terraço e um jardim e ap...</td>\n",
              "      <td>pt</td>\n",
              "    </tr>\n",
              "    <tr>\n",
              "      <th>298</th>\n",
              "      <td>2222</td>\n",
              "      <td>Algumas das comodidades e serviços em destaque...</td>\n",
              "      <td>Aproveite a conveniência de comodidades, como ...</td>\n",
              "      <td>pt</td>\n",
              "    </tr>\n",
              "    <tr>\n",
              "      <th>299</th>\n",
              "      <td>2235</td>\n",
              "      <td>Participe nas várias atividades recreativas do...</td>\n",
              "      <td>Participe nas várias atividades recreativas do...</td>\n",
              "      <td>pt</td>\n",
              "    </tr>\n",
              "  </tbody>\n",
              "</table>\n",
              "<p>300 rows × 4 columns</p>\n",
              "</div>"
            ],
            "text/plain": [
              "     index                                  short_description  \\\n",
              "0        4  Localizado no coração de São Paulo, o Grand Me...   \n",
              "1        8  Com uma estadia Candiland Apartment em Semaran...   \n",
              "2       10  Deleite-se com uma ida ao spa, que oferece mas...   \n",
              "3       21  Este agradável hotel encontra-se em Norco Area...   \n",
              "4       24  Em Chetumal, Hotel Mexico ficará a 2 minuto(s)...   \n",
              "..     ...                                                ...   \n",
              "295   2190  Tradição e hospitalidade\\n\\nCom mais de 40 ano...   \n",
              "296   2192  Estilo e conforto completam as 172 acomodações...   \n",
              "297   2195  Contemple fantásticas vistas a partir da açote...   \n",
              "298   2222  Algumas das comodidades e serviços em destaque...   \n",
              "299   2235  Participe nas várias atividades recreativas do...   \n",
              "\n",
              "                                           description idioma  \n",
              "0    Localizado no coração de São Paulo, o Grand Me...     pt  \n",
              "1    <h3>Localização Do Estabelecimento</h3>\\nCom u...     pt  \n",
              "2    <h3>Localização Do Estabelecimento</h3>\\nEm La...     pt  \n",
              "3    Não perca as atividades de recreação, como uma...     pt  \n",
              "4    <h3>Localização Do Estabelecimento</h3>\\nEm Ch...     pt  \n",
              "..                                                 ...    ...  \n",
              "295  Tradição e hospitalidade\\n\\nCom mais de 40 ano...     pt  \n",
              "296  Estilo e conforto completam as 172 acomodações...     pt  \n",
              "297  Aprecie a vista em um terraço e um jardim e ap...     pt  \n",
              "298  Aproveite a conveniência de comodidades, como ...     pt  \n",
              "299  Participe nas várias atividades recreativas do...     pt  \n",
              "\n",
              "[300 rows x 4 columns]"
            ]
          },
          "execution_count": 19,
          "metadata": {},
          "output_type": "execute_result"
        }
      ],
      "source": [
        "hotelBR_df"
      ]
    },
    {
      "cell_type": "code",
      "execution_count": null,
      "id": "59811359-b50c-4222-a900-7c0fd8367b9d",
      "metadata": {
        "id": "59811359-b50c-4222-a900-7c0fd8367b9d",
        "outputId": "b859f788-3a11-45b7-81bc-7255412621c4"
      },
      "outputs": [
        {
          "data": {
            "text/html": [
              "<div>\n",
              "<style scoped>\n",
              "    .dataframe tbody tr th:only-of-type {\n",
              "        vertical-align: middle;\n",
              "    }\n",
              "\n",
              "    .dataframe tbody tr th {\n",
              "        vertical-align: top;\n",
              "    }\n",
              "\n",
              "    .dataframe thead th {\n",
              "        text-align: right;\n",
              "    }\n",
              "</style>\n",
              "<table border=\"1\" class=\"dataframe\">\n",
              "  <thead>\n",
              "    <tr style=\"text-align: right;\">\n",
              "      <th></th>\n",
              "      <th>index</th>\n",
              "    </tr>\n",
              "  </thead>\n",
              "  <tbody>\n",
              "    <tr>\n",
              "      <th>count</th>\n",
              "      <td>384.000000</td>\n",
              "    </tr>\n",
              "    <tr>\n",
              "      <th>mean</th>\n",
              "      <td>506.278646</td>\n",
              "    </tr>\n",
              "    <tr>\n",
              "      <th>std</th>\n",
              "      <td>292.383762</td>\n",
              "    </tr>\n",
              "    <tr>\n",
              "      <th>min</th>\n",
              "      <td>2.000000</td>\n",
              "    </tr>\n",
              "    <tr>\n",
              "      <th>25%</th>\n",
              "      <td>232.750000</td>\n",
              "    </tr>\n",
              "    <tr>\n",
              "      <th>50%</th>\n",
              "      <td>514.000000</td>\n",
              "    </tr>\n",
              "    <tr>\n",
              "      <th>75%</th>\n",
              "      <td>768.750000</td>\n",
              "    </tr>\n",
              "    <tr>\n",
              "      <th>max</th>\n",
              "      <td>1001.000000</td>\n",
              "    </tr>\n",
              "  </tbody>\n",
              "</table>\n",
              "</div>"
            ],
            "text/plain": [
              "             index\n",
              "count   384.000000\n",
              "mean    506.278646\n",
              "std     292.383762\n",
              "min       2.000000\n",
              "25%     232.750000\n",
              "50%     514.000000\n",
              "75%     768.750000\n",
              "max    1001.000000"
            ]
          },
          "execution_count": 32,
          "metadata": {},
          "output_type": "execute_result"
        }
      ],
      "source": [
        "all_descriptionsBR = list(hotelBR_df['short_description'].values)\n",
        "\n",
        "hotelBR_df.describe()"
      ]
    },
    {
      "cell_type": "code",
      "execution_count": null,
      "id": "449c0233-b602-4d0b-bf73-bf69955f9b19",
      "metadata": {
        "id": "449c0233-b602-4d0b-bf73-bf69955f9b19",
        "outputId": "5f5b2cd6-036c-4679-c490-ab4f2ca6a07d"
      },
      "outputs": [
        {
          "data": {
            "text/plain": [
              "Index(['index', 'name', 'short_description', 'idioma'], dtype='object')"
            ]
          },
          "execution_count": 33,
          "metadata": {},
          "output_type": "execute_result"
        }
      ],
      "source": [
        "hotelBR_df.columns"
      ]
    },
    {
      "cell_type": "code",
      "execution_count": null,
      "id": "eccdc651-ae63-48e6-8160-c17941cc206d",
      "metadata": {
        "id": "eccdc651-ae63-48e6-8160-c17941cc206d"
      },
      "outputs": [],
      "source": [
        "#hotelBR_df[['name','price_currency','possible_integrators','description','short_description','small_description']]"
      ]
    },
    {
      "cell_type": "code",
      "execution_count": null,
      "id": "9b74a625-9511-4a62-a835-dd94b3c413b5",
      "metadata": {
        "id": "9b74a625-9511-4a62-a835-dd94b3c413b5",
        "outputId": "16cc63b7-2048-457b-ae9b-373ec55105e7"
      },
      "outputs": [
        {
          "data": {
            "text/plain": [
              "['Há várias opções de lazer e entretenimento ao seu dispor, incluindo uma piscina interior, uma banheira de hidromassagem e uma sala de fitness. As facilidades adicionais incluem Wi-fi grátis, armazenamento de esquis e uma loja de presentes/quiosque de']"
            ]
          },
          "execution_count": 36,
          "metadata": {},
          "output_type": "execute_result"
        }
      ],
      "source": [
        "corpusBR = [x for x in all_descriptionsBR]\n",
        "corpusBR[:1]\n"
      ]
    },
    {
      "cell_type": "code",
      "execution_count": null,
      "id": "bee74eac-057e-4190-b161-bd97c69d0cd0",
      "metadata": {
        "id": "bee74eac-057e-4190-b161-bd97c69d0cd0"
      },
      "outputs": [],
      "source": [
        "tBR = Tokenizer(num_words=None, filters='!\"#$%&()*+,-./:;<=>?@[\\\\]^_`{|}~\\t\\n', lower=True, split=' ', char_level=False, oov_token=None, document_count=0)\n",
        "tBR.fit_on_texts(corpusBR)"
      ]
    },
    {
      "cell_type": "code",
      "execution_count": null,
      "id": "32e9b56f-3572-4c48-a5a4-28a43bd7d061",
      "metadata": {
        "collapsed": true,
        "jupyter": {
          "outputs_hidden": true
        },
        "tags": [],
        "id": "32e9b56f-3572-4c48-a5a4-28a43bd7d061",
        "outputId": "a4226dfe-039f-4298-e1a6-e9942f70319e"
      },
      "outputs": [
        {
          "name": "stdout",
          "output_type": "stream",
          "text": [
            "OrderedDict([('há', 11), ('várias', 181), ('opções', 45), ('de', 876), ('lazer', 102), ('e', 765), ('entretenimento', 98), ('ao', 182), ('seu', 143), ('dispor', 143), ('incluindo', 189), ('uma', 478), ('piscina', 153), ('interior', 67), ('banheira', 42), ('hidromassagem', 46), ('sala', 117), ('fitness', 101), ('as', 160), ('facilidades', 72), ('adicionais', 86), ('incluem', 87), ('wi', 278), ('fi', 276), ('grátis', 259), ('armazenamento', 7), ('esquis', 7), ('loja', 32), ('presentes', 32), ('quiosque', 29), ('localizado', 14), ('no', 103), ('coração', 2), ('são', 39), ('paulo', 2), ('o', 164), ('grand', 2), ('mercure', 1), ('sp', 2), ('vila', 2), ('olimpia', 1), ('ex', 2), ('caesar', 1), ('business', 1), ('está', 30), ('próximo', 4), ('a', 239), ('grandes', 1), ('centros', 1), ('financeiros', 1), ('importantes', 1), ('empresas', 1), ('por', 16), ('perto', 1), ('também', 49), ('excelentes', 1), ('bares', 3), ('restaurantes', 4), ('shoppings', 1), ('variados', 2), ('locais', 5), ('entreteni', 1), ('alivie', 3), ('stress', 3), ('com', 88), ('massagens', 49), ('tratamentos', 74), ('corporais', 37), ('faciais', 37), ('entre', 48), ('propostas', 27), ('para', 171), ('suas', 8), ('férias', 5), ('contam', 35), ('se', 110), ('3', 14), ('piscinas', 10), ('exteriores', 9), ('aberta', 30), ('24', 35), ('horas', 35), ('aluguer', 13), ('bicicletas', 15), ('facil', 1), ('estadia', 9), ('candiland', 1), ('apartment', 2), ('em', 94), ('semarang', 3), ('ficará', 10), ('5', 16), ('minutos', 22), ('carro', 12), ('indonesia', 2), ('kaya', 1), ('park', 4), ('old', 1), ('post', 1), ('office', 1), ('este', 77), ('hotel', 106), ('2', 38), ('km', 48), ('1', 14), ('mi', 20), ('akademi', 1), ('kepolisian', 1), ('ciputra', 1), ('mall', 1), ('deleite', 17), ('ida', 31), ('spa', 35), ('que', 32), ('oferece', 64), ('adega', 2), ('gráti', 1), ('aproveite', 32), ('atividades', 78), ('pode', 7), ('ainda', 53), ('ensaiar', 4), ('aquela', 4), ('tacada', 5), ('perfeita', 6), ('campo', 16), ('golfe', 9), ('do', 137), ('local', 46), ('jornais', 28), ('área', 42), ('não', 56), ('perca', 40), ('recreativas', 70), ('entretimento', 28), ('espaço', 121), ('um', 117), ('televisor', 51), ('comum', 49), ('apoio', 41), ('excursões', 39), ('compra', 35), ('bi', 1), ('agradável', 7), ('encontra', 8), ('norco', 1), ('area', 8), ('country', 1), ('inn', 8), ('suites', 4), ('by', 4), ('radisson', 1), ('asheville', 1), ('westga', 1), ('dispõe', 32), ('total', 7), ('94', 1), ('quartos', 17), ('inclui', 28), ('ligação', 10), ('à', 53), ('internet', 10), ('todas', 2), ('áreas', 16), ('públicas', 4), ('unidades', 9), ('alojamento', 9), ('receção', 9), ('abe', 2), ('desfrute', 71), ('das', 183), ('sua', 27), ('disposição', 23), ('disponibiliza', 19), ('máquina', 14), ('venda', 13), ('automática', 11), ('chetumal', 1), ('mexico', 1), ('minuto', 5), ('s', 8), ('museo', 4), ('la', 4), ('cultura', 2), ('maya', 1), ('6', 11), ('jardim', 68), ('zoológico', 1), ('payo', 1), ('obispo', 1), ('ciudad', 1), ('del', 3), ('faro', 1), ('ceda', 15), ('irresistível', 15), ('tentação', 15), ('tire', 100), ('partido', 100), ('outras', 17), ('discoteca', 4), ('campos', 4), ('ténis', 10), ('pi', 1), ('contemple', 24), ('fantásticas', 59), ('vistas', 98), ('partir', 98), ('da', 95), ('açoteia', 69), ('ou', 119), ('comodidades', 117), ('serviços', 201), ('concierge', 82), ('piqueniques', 36), ('serviço', 25), ('completo', 6), ('depois', 7), ('praticar', 2), ('tacadas', 2), ('descubra', 13), ('deste', 6), ('health', 12), ('club', 13), ('aberto', 2), ('exterior', 90), ('você', 3), ('é', 8), ('nosso', 2), ('convidado', 1), ('conhecer', 2), ('icamiabas', 1), ('parintins', 1), ('localização', 19), ('privilegiada', 4), ('100', 1), ('metros', 5), ('charmosa', 1), ('igreja', 2), ('josé', 1), ('500', 1), ('bumbódromo', 1), ('fica', 21), ('supermercados', 1), ('farmácias', 1), ('hospital', 3), ('\\rtemos', 1), ('melhor', 2), ('estru', 1), ('lareira', 14), ('lobby', 14), ('contemplar', 22), ('soberbas', 36), ('terraço', 11), ('algumas', 64), ('c', 3), ('sazonal', 22), ('casamentos', 24), ('dispo', 2), ('situada', 1), ('barreirinhas', 2), ('cais', 1), ('prefeitura', 1), ('pousada', 4), ('raio', 1), ('sol', 3), ('acomodações', 1), ('estacionamento', 3), ('privativo', 3), ('gratuito', 4), ('propriedade', 4), ('cerca', 8), ('7', 8), ('casa', 3), ('artesanato', 1), ('destaque', 32), ('supervisionadas', 1), ('crianças', 1), ('leque', 12), ('figuram', 4), ('estilo', 4), ('vitorianoum', 1), ('lynden', 1), ('wa', 1), ('homestead', 1), ('resort', 4), ('apenas', 5), ('alguns', 3), ('passos', 4), ('tud', 1), ('imersão', 7), ('revitalizante', 4), ('numa', 8), ('experimente', 23), ('algo', 5), ('diferente', 3), ('exemplo', 3), ('quiosqu', 1), ('participe', 14), ('nas', 29), ('aprecie', 16), ('sofisticado', 1), ('aparthotel', 3), ('dubai', 2), ('os', 20), ('clientes', 2), ('poderão', 1), ('encontrar', 5), ('aeroporto', 5), ('0', 20), ('estabelecimento', 15), ('porto', 3), ('estão', 3), ('disponíveis', 12), ('intercontinental', 1), ('residence', 2), ('f', 1), ('212', 1), ('hóspedes', 13), ('conve', 1), ('sauna', 39), ('bilhetes', 28), ('lojas', 9), ('nada', 1), ('terminar', 1), ('dia', 8), ('tentando', 1), ('sorte', 1), ('casino', 3), ('ad', 2), ('mime', 11), ('retemperante', 3), ('interiores', 3), ('dar', 7), ('salto', 5), ('até', 5), ('praia', 14), ('privada', 7), ('estar', 4), ('santa', 2), ('fé', 1), ('goiânia', 1), ('norte', 1), ('ferroviário', 1), ('10', 4), ('pé', 10), ('araguaia', 2), ('shopping', 2), ('centro', 11), ('comercial', 2), ('feira', 1), ('hippie', 1), ('8', 7), ('planetário', 1), ('situa', 6), ('ag', 1), ('stefanos', 1), ('400', 1), ('m', 3), ('principal', 1), ('4', 14), ('cidade', 7), ('míconos', 1), ('antigo', 1), ('novo', 2), ('aproximadamente', 3), ('contempla', 1), ('pequenos', 1), ('al', 1), ('milan', 1), ('rental', 1), ('central', 2), ('milão', 1), ('15', 3), ('corso', 2), ('como', 6), ('buenos', 3), ('aires', 3), ('complexo', 1), ('apartamentos', 4), ('castello', 1), ('sforzesco', 1), ('banheiras', 4), ('trabalhar', 1), ('bronz', 1), ('fumadores', 11), ('relaxe', 4), ('recobrar', 1), ('energias', 1), ('após', 1), ('intenso', 1), ('montanhas', 3), ('baby', 10), ('sitter', 9), ('porque', 3), ('desfrutar', 4), ('churrasqueiras', 18), ('neste', 13), ('utilização', 4), ('imediações', 6), ('desconto', 4), ('h', 2), ('notting', 1), ('hill', 2), ('possui', 2), ('75', 1), ('acolhedoras', 2), ('ano', 1), ('construção', 1), ('imóvel', 9), ('remonta', 1), ('2018', 1), ('podem', 6), ('contact', 1), ('salão', 12), ('baile', 2), ('bil', 1), ('cabeleireiro', 4), ('ibis', 2), ('colatina', 3), ('velha', 1), ('zurique', 1), ('poucos', 7), ('viagem', 2), ('foi', 4), ('inaugurado', 1), ('1973', 1), ('conta', 5), ('333', 1), ('bar', 2), ('café', 3), ('salas', 1), ('conferências', 1), ('jogos', 8), ('sobretaxa', 11), ('procura', 19), ('poderá', 15), ('contar', 14), ('d', 4), ('churrasq', 1), ('circuitos', 2), ('caminhadas', 2), ('bicicleta', 3), ('festas', 2), ('encontrará', 6), ('banho', 2), ('turco', 2), ('automátic', 1), ('proposta', 1), ('hospedagem', 3), ('oferecemos', 1), ('simples', 2), ('conforto', 1), ('ótima', 3), ('temos', 1), ('luxo', 1), ('nossa', 2), ('infraestrutura', 2), ('somos', 1), ('opção', 1), ('ideal', 2), ('quem', 3), ('quer', 1), ('durante', 1), ('dias', 1), ('passeios', 2), ('automáti', 1), ('comod', 2), ('ba', 1), ('festa', 1), ('h3', 14), ('rayong', 1), ('suanson', 1), ('paragon', 1), ('green', 1), ('suan', 1), ('son', 1), ('beach', 3), ('rim', 1), ('pae', 1), ('16', 1), ('mae', 2), ('rumphung', 1), ('18', 2), ('9', 10), ('laem', 1), ('p', 1), ('comp', 1), ('karaoke', 1), ('autocarro', 5), ('permite', 4), ('lhe', 4), ('che', 1), ('kuala', 3), ('lumpur', 2), ('na', 14), ('kampung', 1), ('datuk', 1), ('keramat', 1), ('the', 3), ('regency', 1), ('scholars', 1), ('petronas', 2), ('twin', 1), ('towers', 1), ('torres', 1), ('pavilion', 2), ('lump', 1), ('despretensioso', 1), ('city', 1), ('existem', 1), ('80', 1), ('knights', 1), ('jacksonville', 1), ('baymeadows', 1), ('todos', 6), ('ficam', 7), ('usufruir', 2), ('u', 2), ('atenas', 1), ('praça', 2), ('omonoia', 1), ('breeze', 1), ('boutique', 2), ('athens', 1), ('decoração', 1), ('moderna', 1), ('lanchonete', 1), ('recepção', 2), ('syntagma', 1), ('fortaleza', 4), ('20', 1), ('vg', 1), ('fun', 1), ('front', 1), ('privativos', 1), ('condomínio', 1), ('residencial', 3), ('fechado', 1), ('ar', 4), ('livre', 2), ('bem', 4), ('esta', 3), ('acomodação', 2), ('completa', 2), ('ofere', 1), ('adicion', 2), ('adic', 1), ('baymont', 1), ('lake', 1), ('of', 2), ('ozarks', 1), ('osage', 1), ('be', 1), ('tem', 4), ('seja', 1), ('negócios', 2), ('fabulosas', 3), ('bed', 1), ('breakfast', 1), ('fontes', 2), ('termais', 2), ('co', 3), ('relaxa', 4), ('completamente', 1), ('moderno', 1), ('confortável', 5), ('bristol', 1), ('umarizal', 1), ('excelente', 3), ('tornar', 1), ('estada', 1), ('memorável', 1), ('região', 2), ('belém', 1), ('outros', 2), ('pontos', 3), ('turísticos', 1), ('reg', 1), ('bilhe', 1), ('apanhe', 2), ('visitar', 2), ('principais', 7), ('pon', 1), ('acolhedor', 2), ('alexandria', 1), ('disponível', 1), ('apreciarão', 2), ('comuns', 3), ('adequadas', 1), ('pessoas', 1), ('n', 1), ('beleza', 2), ('areal', 2), ('uns', 2), ('mergulhos', 2), ('junto', 1), ('baía', 1), ('ilha', 2), ('korcula', 1), ('dos', 8), ('mais', 6), ('próximos', 1), ('zona', 2), ('turística', 1), ('mar', 4), ('próxima', 1), ('facilmente', 2), ('alcançáv', 1), ('ensaie', 1), ('dolce', 1), ('far', 1), ('niente', 1), ('conci', 1), ('construiu', 2), ('1995', 1), ('par', 1), ('adicio', 1), ('danville', 1), ('instalações', 4), ('56', 2), ('acolhedores', 2), ('totalmente', 1), ('remodelado', 2), ('2006', 2), ('rece', 1), ('airport', 1), ('dois', 1), ('conhecidos', 1), ('líbris', 1), ('st', 2), ('louis', 1), ('woodson', 1), ('terrace', 1), ('paine', 1), ('gentry', 1), ('house', 1), ('blanche', 1), ('touhill', 1), ('performing', 1), ('arts', 1), ('center', 3), ('motel', 3), ('vizinhança', 1), ('raphael', 1), ('50', 2), ('agradáveis', 1), ('vacances', 1), ('bleues', 1), ('le', 1), ('mediterranee', 1), ('crete', 1), ('golf', 3), ('lúdicas', 1), ('magnífico', 1), ('passe', 2), ('acesso', 6), ('direto', 2), ('às', 2), ('pistas', 3), ('esqui', 3), ('adicionai', 1), ('encantador', 2), ('exclusivo', 1), ('adultos', 1), ('clara', 1), ('situado', 3), ('aceder', 2), ('interesse', 2), ('zonas', 2), ('parque', 2), ('aquático', 2), ('máqu', 1), ('palermo', 3), ('fácil', 1), ('tudo', 2), ('destino', 1), ('oferecer', 1), ('entret', 1), ('atrações', 3), ('curta', 1), ('disponibilizad', 1), ('blanc', 1), ('quality', 2), ('poidist', 1), ('minutes', 1), ('valu', 1), ('ascension', 1), ('genesys', 1), ('creasey', 1), ('bicentennial', 1), ('l', 1), ('andar', 1), ('edifício', 2), ('espa', 1), ('distribuição', 1), ('versátil', 1), ('seus', 2), ('52', 1), ('individuais', 1), ('duplos', 1), ('triplos', 1), ('suítes', 1), ('embajador', 1), ('atendimento', 1), ('diferenciado', 1), ('personalizado', 1), ('torna', 1), ('tanto', 1), ('viagens', 1), ('quanto', 1), ('negócio', 1), ('singita', 1), ('sasakwa', 2), ('lodge', 3), ('encostas', 1), ('1930', 1), ('banquetes', 5), ('facilidad', 1), ('augusta', 1), ('40', 2), ('além', 2), ('existe', 1), ('sem', 3), ('fios', 2), ('acessível', 1), ('rodeway', 1), ('rodew', 1), ('van', 2), ('horn', 2), ('super', 2), ('wyndham', 3), ('aqueles', 2), ('estabelecimen', 1), ('depósito', 1), ('vitoria', 1), ('catavento', 1), ('inspirada', 1), ('pelo', 2), ('rústico', 1), ('valorizando', 1), ('simplicidade', 1), ('hospitalidade', 1), ('frente', 1), ('flecheiras', 1), ('trairí', 1), ('litoral', 1), ('oeste', 1), ('cearense', 1), ('distante', 1), ('130', 1), ('200', 2), ('jericoacoara', 1), ('pertinho', 1), ('bilhete', 1), ('jeffersonville', 1), ('hawthorn', 1), ('louisville', 2), ('north', 1), ('kfc', 1), ('yum', 1), ('fourth', 1), ('street', 1), ('live', 1), ('slugger', 1), ('museum', 2), ('uni', 1), ('figu', 1), ('charlottenburg', 1), ('metro', 1), ('irão', 1), ('ligações', 1), ('transporte', 1), ('vão', 1), ('permitir', 1), ('explorem', 1), ('consiste', 1), ('36', 1), ('sofreu', 1), ('renovações', 1), ('piq', 1), ('hôtel', 1), ('nova', 2), ('coloca', 1), ('montpellier', 2), ('tour', 1), ('babotte', 1), ('saint', 1), ('côme', 1), ('place', 1), ('comedie', 1), ('opéra', 1), ('orchestre', 1), ('national', 1), ('trabalhe', 1), ('bronze', 1), ('west', 3), ('byp', 2), ('conveniência', 2), ('disso', 1), ('oferecido', 1), ('econo', 1), ('receb', 1), ('hot', 2), ('fa', 1), ('birmingham', 2), ('60', 1), ('2016', 1), ('travelodge', 1), ('maypole', 1), ('pública', 1), ('comodid', 1), ('manassas', 1), ('número', 1), ('158', 1), ('gostam', 1), ('animais', 3), ('vez', 2), ('estimação', 2), ('porteiro', 1), ('paquete', 1), ('literalmente', 1), ('porta', 1), ('disponívei', 1), ('hortolândia', 1), ('telles', 1), ('tv', 1), ('tela', 1), ('plana', 1), ('cabo', 1), ('banheiro', 1), ('\\r\\rum', 1), ('buffet', 1), ('manhã', 2), ('servido', 1), ('diariamente', 1), ('propried', 1), ('criado', 1), ('2011', 1), ('descontrair', 1), ('confortavelmente', 1), ('num', 1), ('142', 1), ('pisos', 1), ('comodamente', 1), ('acessíveis', 1), ('elevador', 1), ('pelas', 1), ('escadas', 1), ('bengaleiro', 1), ('cofre', 1), ('tornarão', 1), ('muito', 2), ('vindos', 1), ('pitinga', 1), ('000m2', 2), ('terreno', 1), ('beira', 1), ('coqueiros', 1), ('árvores', 1), ('frutíferas', 1), ('bromélias', 1), ('orquídeas', 1), ('espécies', 1), ('originárias', 1), ('mata', 1), ('atlântica', 1), ('integração', 1), ('baiana', 1), ('visível', 1), ('disp', 2), ('visita', 1), ('brasil', 1), ('tropical', 2), ('meireles', 1), ('local\\rde', 1), ('maior', 2), ('concentração', 1), ('\\rmodernos', 1), ('brasi', 1), ('serv', 1), ('refugio', 1), ('inca', 1), ('salta', 2), ('valle', 1), ('lerma', 1), ('museu', 2), ('belas', 1), ('artes', 1), ('arqueológico', 1), ('alta', 1), ('montaña', 1), ('maam', 1), ('câmara', 1), ('municip', 1), ('curitiba', 1), ('150m', 1), ('cacb', 1), ('cooperativa', 1), ('agrícola', 1), ('capão', 2), ('bonito', 2), ('rua', 1), ('yoiti', 1), ('ikeda', 1), ('av', 1), ('plácido', 1), ('batista', 1), ('silveira', 1), ('restaurante', 1), ('equipados', 1), ('apartments', 1), ('kruc', 1), ('zagreb', 1), ('nama', 1), ('galeria', 1), ('miroslav', 1), ('kraljević', 1), ('apartamento', 1), ('desportivo', 1), ('recreio', 1), ('salata', 1), ('mestrovic', 1), ('home', 1), ('soho', 1), ('plaza', 3), ('italia', 1), ('estrelas', 1), ('teatro', 1), ('colón', 1), ('palau', 1), ('güell', 1), ('construído', 1), ('arquitecto', 1), ('catalã', 1), ('mundialmente', 1), ('famoso', 1), ('antoni', 1), ('gaudí', 1), ('emblemáticas', 1), ('las', 1), ('ramblas', 1), ('real', 1), ('nesta', 2), ('downtown', 1), ('61', 1), ('possível', 1), ('todo', 1), ('informações', 1), ('sobre', 1), ('vend', 1), ('nixa', 2), ('springfield', 1), ('stained', 1), ('glass', 1), ('theatre', 1), ('lester', 1), ('cox', 1), ('medical', 1), ('south', 1), ('14', 2), ('bass', 1), ('pro', 1), ('shops', 1), ('outdoor', 1), ('world', 1), ('11', 2), ('missouri', 1), ('stat', 1), ('disponíve', 1), ('adi', 1), ('matarazzo', 1), ('capivari', 2), ('temporada', 1), ('localizada', 1), ('jordão', 1), ('800', 2), ('belvedere', 1), ('vista', 2), ('chinesa', 1), ('comodidade', 1), ('gratu', 1), ('alg', 1), ('hospede', 1), ('cindy', 1), ('kelly', 1), ('maravilhas', 1), ('subic', 1), ('zambales', 1), ('lista', 1), ('dearborn', 1), ('infelizmente', 1), ('permitidos', 1), ('allen', 1), ('colonial', 1), ('eagle', 2), ('river', 1), ('gypsum', 1), ('creek', 2), ('course', 2), ('45', 1), ('vail', 1), ('ski', 1), ('glenwood', 1), ('springs', 1), ('sin', 1), ('memphis', 1), ('119', 1), ('contactar', 1), ('qualquer', 1), ('hora', 1), ('serviç', 1), ('vilarejo', 1), ('preá', 2), ('nasce', 1), ('paixão', 1), ('primeira', 1), ('pela', 1), ('pôr', 1), ('kitesurf', 1), ('preparado', 1), ('carinho', 1), ('sinta', 1), ('natureza', 1), ('tranquilidade', 1), ('possuimos', 1), ('charmosos', 1), ('aconchegantes', 1), ('ban', 1), ('facilida', 1), ('disponib', 1), ('ho', 1), ('700', 1), ('brasília', 2), ('el', 1), ('pilar', 1), ('fio', 1), ('condicionado', 1), ('esplanada', 1), ('ministérios', 1), ('internacional', 1), ('gosta', 2), ('arriscar', 2), ('alternativa', 2), ('relaxante', 2), ('madrid', 1), ('hostal', 1), ('casanova', 1), ('puerta', 1), ('gran', 1), ('vía', 1), ('mayor', 1), ('prado', 1), ('qualifica', 1), ('genius', 1), ('itapemar', 1), ('ilhabela', 1), ('economizar', 1), ('basta', 1), ('fazer', 1), ('login', 1), ('sofisticação', 1), ('tranqüilidade', 1), ('ambiente', 1), ('800m', 1), ('bela', 1), ('coldwater', 1), ('tuscumbia', 2), ('alabama', 1), ('music', 1), ('hall', 1), ('fame', 1), ('spring', 2), ('railway', 1), ('chiang', 2), ('khong', 2), ('sawadee', 1), ('homestay', 1), ('at', 1), ('54', 1), ('wat', 1), ('phra', 1), ('kaew', 1), ('crown', 1), ('prince', 1), ('ferry', 1), ('travessia', 1), ('fronteira', 1), ('tailandesa', 1), ('k', 1), ('escorrega', 1), ('elevada', 1), ('qualidade', 1), ('orleães', 1), ('alcançará', 1), ('french', 1), ('quarter', 1), ('renovado', 1), ('2005', 1), ('andares', 1), ('86', 1), ('aos', 1), ('hós', 1), ('esquiadores', 1), ('natos', 1), ('encontrarão', 1), ('aqui', 1), ('paraíso', 1), ('mas', 1), ('for', 1), ('amante', 1), ('modalidade', 1), ('sempre', 1), ('experimentar', 1)])\n",
            "defaultdict(<class 'int'>, {'armazenamento': 7, 'banheira': 42, 'dispor': 143, 'as': 138, 'seu': 143, 'uma': 248, 'opções': 45, 'há': 11, 'fitness': 98, 'wi': 278, 'e': 347, 'interior': 67, 'piscina': 148, 'várias': 181, 'hidromassagem': 46, 'adicionais': 86, 'lazer': 102, 'quiosque': 29, 'ao': 170, 'entretenimento': 98, 'loja': 32, 'fi': 276, 'de': 339, 'esquis': 7, 'facilidades': 72, 'incluem': 84, 'sala': 112, 'presentes': 32, 'incluindo': 189, 'grátis': 257, 'coração': 2, 'também': 49, 'variados': 2, 'está': 27, 'paulo': 2, 'próximo': 4, 'entreteni': 1, 'empresas': 1, 'no': 101, 'restaurantes': 4, 'shoppings': 1, 'perto': 1, 'locais': 5, 'olimpia': 1, 'centros': 1, 'bares': 3, 'business': 1, 'o': 129, 'por': 16, 'financeiros': 1, 'excelentes': 1, 'são': 39, 'mercure': 1, 'a': 155, 'grand': 2, 'caesar': 1, 'localizado': 14, 'sp': 2, 'importantes': 1, 'grandes': 1, 'vila': 2, 'ex': 2, 'corporais': 37, 'piscinas': 10, 'se': 96, 'exteriores': 9, 'horas': 35, 'massagens': 49, 'contam': 35, 'aluguer': 13, 'suas': 8, 'com': 85, 'tratamentos': 38, 'entre': 46, 'propostas': 27, '3': 14, 'para': 152, 'faciais': 37, 'facil': 1, 'bicicletas': 14, 'aberta': 30, 'alivie': 3, 'stress': 3, '24': 35, 'férias': 5, 'kepolisian': 1, 'em': 84, 'apartment': 2, '2': 24, 'carro': 12, '1': 8, 'ficará': 10, '5': 12, 'mall': 1, 'este': 69, 'old': 1, 'candiland': 1, 'minutos': 19, 'estadia': 9, 'hotel': 88, 'post': 1, 'indonesia': 1, 'office': 1, 'ciputra': 1, 'km': 26, 'mi': 11, 'kaya': 1, 'semarang': 1, 'akademi': 1, 'park': 4, 'gráti': 1, 'deleite': 17, 'ida': 31, 'adega': 2, 'spa': 35, 'que': 27, 'oferece': 63, 'jornais': 28, 'aproveite': 32, 'golfe': 9, 'ainda': 53, 'área': 42, 'tacada': 5, 'campo': 16, 'perfeita': 6, 'atividades': 78, 'aquela': 4, 'pode': 7, 'ensaiar': 4, 'local': 45, 'do': 118, 'apoio': 41, 'não': 54, 'compra': 35, 'comum': 49, 'um': 102, 'perca': 40, 'excursões': 39, 'espaço': 102, 'bi': 1, 'recreativas': 70, 'entretimento': 28, 'televisor': 51, 'by': 4, 'inclui': 28, 'áreas': 15, 'country': 1, 'encontra': 7, 'abe': 2, '94': 1, 'receção': 9, 'asheville': 1, 'alojamento': 9, 'quartos': 15, 'agradável': 7, 'públicas': 4, 'total': 7, 'westga': 1, 'internet': 10, 'area': 8, 'suites': 4, 'dispõe': 32, 'radisson': 1, 'unidades': 9, 'todas': 2, 'inn': 8, 'à': 50, 'norco': 1, 'ligação': 10, 'das': 168, 'desfrute': 70, 'disponibiliza': 19, 'venda': 13, 'disposição': 23, 'máquina': 14, 'sua': 27, 'automática': 11, 'jardim': 68, '6': 9, 'ciudad': 1, 'cultura': 2, 'chetumal': 1, 'mexico': 1, 's': 6, 'payo': 1, 'obispo': 1, 'la': 2, 'museo': 2, 'zoológico': 1, 'minuto': 3, 'faro': 1, 'del': 3, 'maya': 1, 'pi': 1, 'irresistível': 15, 'partido': 100, 'campos': 4, 'ceda': 15, 'discoteca': 4, 'outras': 17, 'ténis': 10, 'tire': 100, 'tentação': 15, 'contemple': 24, 'fantásticas': 59, 'concierge': 82, 'ou': 118, 'da': 89, 'vistas': 98, 'comodidades': 113, 'serviços': 162, 'partir': 98, 'açoteia': 69, 'piqueniques': 36, 'completo': 6, 'club': 13, 'descubra': 13, 'health': 12, 'serviço': 23, 'tacadas': 2, 'aberto': 2, 'deste': 6, 'praticar': 2, 'exterior': 88, 'depois': 7, 'parintins': 1, 'bumbódromo': 1, 'nosso': 2, 'privilegiada': 4, 'josé': 1, 'fica': 17, 'convidado': 1, 'conhecer': 2, 'icamiabas': 1, '\\rtemos': 1, 'metros': 3, 'estru': 1, 'você': 3, 'é': 8, 'igreja': 2, '500': 1, 'hospital': 3, 'localização': 15, 'farmácias': 1, 'supermercados': 1, 'charmosa': 1, '100': 1, 'melhor': 2, 'lareira': 14, 'lobby': 14, 'soberbas': 36, 'contemplar': 22, 'terraço': 11, 'algumas': 62, 'c': 3, 'sazonal': 22, 'casamentos': 24, 'dispo': 2, 'propriedade': 4, '7': 7, 'barreirinhas': 1, 'acomodações': 1, 'sol': 3, 'raio': 1, 'cais': 1, 'situada': 1, 'estacionamento': 3, 'prefeitura': 1, 'privativo': 3, 'casa': 2, 'pousada': 4, 'cerca': 6, 'gratuito': 4, 'artesanato': 1, 'estilo': 4, 'leque': 12, 'vitorianoum': 1, 'supervisionadas': 1, 'figuram': 4, 'crianças': 1, 'destaque': 32, 'tud': 1, 'resort': 4, 'apenas': 5, 'wa': 1, 'passos': 4, 'lynden': 1, 'homestead': 1, 'alguns': 3, 'quiosqu': 1, 'algo': 5, 'exemplo': 3, 'revitalizante': 4, 'diferente': 3, 'imersão': 7, 'experimente': 23, 'numa': 8, 'participe': 14, 'aprecie': 16, 'nas': 29, 'encontrar': 5, '0': 8, 'hóspedes': 10, 'aparthotel': 3, 'os': 18, 'intercontinental': 1, 'aeroporto': 5, 'conve': 1, 'clientes': 2, 'porto': 2, 'sofisticado': 1, 'estão': 3, 'disponíveis': 12, 'estabelecimento': 14, 'residence': 2, 'f': 1, '212': 1, 'dubai': 1, 'poderão': 1, 'sauna': 39, 'bilhetes': 28, 'lojas': 9, 'terminar': 1, 'nada': 1, 'ad': 2, 'sorte': 1, 'casino': 3, 'tentando': 1, 'dia': 8, 'retemperante': 3, 'privada': 7, 'mime': 11, 'salto': 5, 'até': 5, 'praia': 13, 'interiores': 3, 'dar': 7, 'estar': 4, 'fé': 1, 'hippie': 1, 'pé': 9, 'comercial': 2, 'feira': 1, 'santa': 2, 'shopping': 2, 'centro': 10, '8': 7, '10': 4, 'planetário': 1, 'goiânia': 1, 'norte': 1, 'araguaia': 1, 'ferroviário': 1, 'cidade': 7, 'situa': 6, 'novo': 2, 'míconos': 1, '4': 12, 'stefanos': 1, 'contempla': 1, 'antigo': 1, 'principal': 1, '400': 1, 'aproximadamente': 3, 'ag': 1, 'm': 3, 'pequenos': 1, 'al': 1, 'milão': 1, 'apartamentos': 4, 'aires': 2, 'corso': 1, 'milan': 1, 'rental': 1, 'castello': 1, 'central': 2, '15': 3, 'sforzesco': 1, 'buenos': 2, 'complexo': 1, 'como': 6, 'bronz': 1, 'banheiras': 4, 'trabalhar': 1, 'fumadores': 11, 'sitter': 9, 'relaxe': 4, 'recobrar': 1, 'intenso': 1, 'montanhas': 3, 'baby': 10, 'após': 1, 'energias': 1, 'desfrutar': 4, 'porque': 3, 'churrasqueiras': 18, 'neste': 13, 'imediações': 6, 'desconto': 4, 'utilização': 4, 'h': 2, 'possui': 2, 'construção': 1, 'ano': 1, '75': 1, 'notting': 1, 'hill': 2, 'contact': 1, 'acolhedoras': 2, 'imóvel': 7, '2018': 1, 'remonta': 1, 'podem': 6, 'baile': 2, 'salão': 12, 'bil': 1, 'cabeleireiro': 4, 'colatina': 1, 'ibis': 2, 'velha': 1, 'poucos': 5, 'salas': 1, 'bar': 2, '333': 1, 'viagem': 2, 'café': 3, 'conta': 5, 'inaugurado': 1, 'zurique': 1, '1973': 1, 'foi': 4, 'conferências': 1, 'jogos': 8, 'sobretaxa': 11, 'contar': 14, 'poderá': 15, 'procura': 19, 'd': 4, 'churrasq': 1, 'circuitos': 2, 'caminhadas': 2, 'bicicleta': 3, 'festas': 2, 'encontrará': 6, 'turco': 2, 'banho': 2, 'automátic': 1, 'temos': 1, 'hospedagem': 1, 'luxo': 1, 'proposta': 1, 'conforto': 1, 'somos': 1, 'passeios': 2, 'infraestrutura': 2, 'ótima': 3, 'nossa': 2, 'oferecemos': 1, 'quer': 1, 'opção': 1, 'durante': 1, 'simples': 2, 'dias': 1, 'ideal': 2, 'quem': 3, 'automáti': 1, 'comod': 2, 'ba': 1, 'festa': 1, '16': 1, 'suanson': 1, 'h3': 6, 'rayong': 1, 'rumphung': 1, 'mae': 1, '9': 8, 'laem': 1, 'rim': 1, 'green': 1, '18': 2, 'pae': 1, 'paragon': 1, 'p': 1, 'suan': 1, 'son': 1, 'beach': 2, 'comp': 1, 'permite': 4, 'che': 1, 'autocarro': 5, 'lhe': 3, 'karaoke': 1, 'kampung': 1, 'keramat': 1, 'pavilion': 2, 'torres': 1, 'lumpur': 1, 'datuk': 1, 'lump': 1, 'scholars': 1, 'the': 3, 'petronas': 1, 'regency': 1, 'kuala': 1, 'towers': 1, 'twin': 1, 'na': 13, 'todos': 6, 'knights': 1, 'usufruir': 2, 'ficam': 7, '80': 1, 'baymeadows': 1, 'jacksonville': 1, 'existem': 1, 'despretensioso': 1, 'city': 1, 'u': 2, 'moderna': 1, 'syntagma': 1, 'decoração': 1, 'atenas': 1, 'recepção': 2, 'praça': 1, 'boutique': 2, 'omonoia': 1, 'lanchonete': 1, 'athens': 1, 'breeze': 1, 'acomodação': 2, 'bem': 4, 'fun': 1, 'fortaleza': 3, 'fechado': 1, 'completa': 2, 'residencial': 3, 'esta': 3, 'front': 1, 'privativos': 1, 'ofere': 1, 'vg': 1, 'condomínio': 1, 'ar': 4, 'livre': 2, '20': 1, 'adicion': 2, 'adic': 1, 'baymont': 1, 'be': 1, 'negócios': 2, 'tem': 4, 'seja': 1, 'osage': 1, 'ozarks': 1, 'lake': 1, 'of': 2, 'bed': 1, 'breakfast': 1, 'fabulosas': 3, 'fontes': 2, 'termais': 2, 'co': 3, 'relaxa': 4, 'outros': 2, 'tornar': 1, 'pontos': 3, 'belém': 1, 'região': 2, 'bristol': 1, 'moderno': 1, 'reg': 1, 'umarizal': 1, 'excelente': 3, 'turísticos': 1, 'memorável': 1, 'confortável': 5, 'estada': 1, 'completamente': 1, 'bilhe': 1, 'principais': 7, 'apanhe': 2, 'pon': 1, 'visitar': 2, 'comuns': 3, 'apreciarão': 2, 'alexandria': 1, 'pessoas': 1, 'disponível': 1, 'adequadas': 1, 'n': 1, 'acolhedor': 2, 'mergulhos': 2, 'areal': 2, 'beleza': 2, 'uns': 2, 'alcançáv': 1, 'ilha': 2, 'mais': 5, 'facilmente': 2, 'turística': 1, 'mar': 4, 'junto': 1, 'próxima': 1, 'dos': 7, 'korcula': 1, 'baía': 1, 'zona': 2, 'próximos': 1, 'ensaie': 1, 'far': 1, 'niente': 1, 'conci': 1, 'dolce': 1, '1995': 1, 'construiu': 2, 'par': 1, 'adicio': 1, 'remodelado': 2, 'rece': 1, 'acolhedores': 2, 'instalações': 4, '56': 2, 'danville': 1, '2006': 2, 'totalmente': 1, 'arts': 1, 'líbris': 1, 'blanche': 1, 'motel': 3, 'terrace': 1, 'st': 2, 'paine': 1, 'dois': 1, 'vizinhança': 1, 'center': 3, 'airport': 1, 'woodson': 1, 'conhecidos': 1, 'touhill': 1, 'performing': 1, 'louis': 1, 'house': 1, 'gentry': 1, 'agradáveis': 1, 'raphael': 1, 'vacances': 1, 'le': 1, 'bleues': 1, '50': 2, 'mediterranee': 1, 'crete': 1, 'lúdicas': 1, 'magnífico': 1, 'golf': 3, 'acesso': 6, 'direto': 2, 'esqui': 3, 'passe': 2, 'às': 2, 'pistas': 3, 'adicionai': 1, 'clara': 1, 'interesse': 2, 'aceder': 2, 'adultos': 1, 'exclusivo': 1, 'encantador': 2, 'situado': 3, 'zonas': 2, 'parque': 2, 'aquático': 2, 'máqu': 1, 'entret': 1, 'tudo': 2, 'destino': 1, 'oferecer': 1, 'palermo': 2, 'fácil': 1, 'disponibilizad': 1, 'atrações': 3, 'curta': 1, 'genesys': 1, 'blanc': 1, 'minutes': 1, 'poidist': 1, 'creasey': 1, 'bicentennial': 1, 'valu': 1, 'ascension': 1, 'quality': 2, 'l': 1, 'edifício': 2, 'andar': 1, 'espa': 1, 'tanto': 1, 'negócio': 1, '52': 1, 'triplos': 1, 'suítes': 1, 'diferenciado': 1, 'viagens': 1, 'seus': 2, 'distribuição': 1, 'embajador': 1, 'quanto': 1, 'duplos': 1, 'atendimento': 1, 'versátil': 1, 'personalizado': 1, 'torna': 1, 'individuais': 1, 'sasakwa': 1, 'singita': 1, 'encostas': 1, 'lodge': 3, '1930': 1, 'banquetes': 5, 'facilidad': 1, 'rodeway': 1, 'augusta': 1, 'rodew': 1, 'além': 2, 'acessível': 1, '40': 2, 'fios': 2, 'existe': 1, 'sem': 3, 'aqueles': 2, 'horn': 1, 'van': 1, 'wyndham': 3, 'estabelecimen': 1, 'super': 2, 'depósito': 1, 'vitoria': 1, 'rústico': 1, 'pelo': 2, 'cearense': 1, 'trairí': 1, 'inspirada': 1, 'distante': 1, 'frente': 1, '200': 2, '130': 1, 'oeste': 1, 'flecheiras': 1, 'simplicidade': 1, 'litoral': 1, 'hospitalidade': 1, 'jericoacoara': 1, 'catavento': 1, 'valorizando': 1, 'pertinho': 1, 'bilhete': 1, 'yum': 1, 'live': 1, 'museum': 2, 'north': 1, 'slugger': 1, 'jeffersonville': 1, 'louisville': 1, 'kfc': 1, 'street': 1, 'hawthorn': 1, 'fourth': 1, 'uni': 1, 'figu': 1, '36': 1, 'metro': 1, 'charlottenburg': 1, 'vão': 1, 'sofreu': 1, 'transporte': 1, 'permitir': 1, 'irão': 1, 'explorem': 1, 'ligações': 1, 'renovações': 1, 'consiste': 1, 'piq': 1, 'orchestre': 1, 'tour': 1, 'opéra': 1, 'place': 1, 'national': 1, 'babotte': 1, 'hôtel': 1, 'saint': 1, 'côme': 1, 'coloca': 1, 'montpellier': 1, 'nova': 2, 'comedie': 1, 'bronze': 1, 'trabalhe': 1, 'byp': 1, 'west': 2, 'receb': 1, 'oferecido': 1, 'conveniência': 2, 'disso': 1, 'econo': 1, 'hot': 2, 'fa': 1, 'maypole': 1, 'travelodge': 1, '60': 1, '2016': 1, 'pública': 1, 'birmingham': 1, 'comodid': 1, 'estimação': 2, 'animais': 2, '158': 1, 'gostam': 1, 'vez': 2, 'manassas': 1, 'número': 1, 'porteiro': 1, 'paquete': 1, 'disponívei': 1, 'porta': 1, 'literalmente': 1, 'plana': 1, '\\r\\rum': 1, 'propried': 1, 'banheiro': 1, 'telles': 1, 'hortolândia': 1, 'servido': 1, 'manhã': 2, 'diariamente': 1, 'tv': 1, 'cabo': 1, 'tela': 1, 'buffet': 1, 'bengaleiro': 1, 'muito': 2, 'escadas': 1, 'cofre': 1, 'criado': 1, 'acessíveis': 1, '142': 1, 'confortavelmente': 1, 'pisos': 1, 'tornarão': 1, 'num': 1, '2011': 1, 'descontrair': 1, 'comodamente': 1, 'elevador': 1, 'pelas': 1, 'beira': 1, 'coqueiros': 1, 'vindos': 1, 'atlântica': 1, 'frutíferas': 1, 'pitinga': 1, 'terreno': 1, '000m2': 1, 'bromélias': 1, 'orquídeas': 1, 'espécies': 1, 'integração': 1, 'baiana': 1, 'árvores': 1, 'mata': 1, 'originárias': 1, 'visível': 1, 'disp': 2, 'local\\rde': 1, 'brasil': 1, 'maior': 2, 'visita': 1, 'brasi': 1, 'meireles': 1, 'tropical': 2, 'concentração': 1, '\\rmodernos': 1, 'serv': 1, 'montaña': 1, 'alta': 1, 'arqueológico': 1, 'lerma': 1, 'inca': 1, 'artes': 1, 'belas': 1, 'salta': 1, 'museu': 2, 'municip': 1, 'câmara': 1, 'refugio': 1, 'maam': 1, 'valle': 1, '150m': 1, 'av': 1, 'rua': 1, 'ikeda': 1, 'curitiba': 1, 'restaurante': 1, 'agrícola': 1, 'capão': 1, 'plácido': 1, 'equipados': 1, 'silveira': 1, 'batista': 1, 'cooperativa': 1, 'yoiti': 1, 'cacb': 1, 'bonito': 1, 'nama': 1, 'miroslav': 1, 'kraljević': 1, 'kruc': 1, 'recreio': 1, 'mestrovic': 1, 'galeria': 1, 'desportivo': 1, 'apartamento': 1, 'apartments': 1, 'salata': 1, 'zagreb': 1, 'colón': 1, 'soho': 1, 'estrelas': 1, 'italia': 1, 'plaza': 3, 'home': 1, 'teatro': 1, 'catalã': 1, 'mundialmente': 1, 'emblemáticas': 1, 'famoso': 1, 'güell': 1, 'gaudí': 1, 'real': 1, 'antoni': 1, 'construído': 1, 'las': 1, 'arquitecto': 1, 'palau': 1, 'ramblas': 1, 'nesta': 2, 'possível': 1, 'todo': 1, '61': 1, 'downtown': 1, 'sobre': 1, 'informações': 1, 'vend': 1, 'missouri': 1, 'theatre': 1, 'cox': 1, '14': 2, 'glass': 1, 'pro': 1, 'bass': 1, 'outdoor': 1, 'lester': 1, 'south': 1, 'nixa': 1, 'medical': 1, 'springfield': 1, 'stat': 1, '11': 2, 'shops': 1, 'world': 1, 'stained': 1, 'disponíve': 1, 'adi': 1, 'comodidade': 1, 'temporada': 1, 'belvedere': 1, 'jordão': 1, 'gratu': 1, 'matarazzo': 1, '800': 1, 'capivari': 1, 'chinesa': 1, 'localizada': 1, 'vista': 2, 'alg': 1, 'kelly': 1, 'subic': 1, 'zambales': 1, 'lista': 1, 'hospede': 1, 'maravilhas': 1, 'cindy': 1, 'allen': 1, 'infelizmente': 1, 'permitidos': 1, 'dearborn': 1, 'colonial': 1, '45': 1, 'ski': 1, 'river': 1, 'glenwood': 1, 'springs': 1, 'sin': 1, 'eagle': 1, 'gypsum': 1, 'course': 2, 'vail': 1, 'creek': 2, 'contactar': 1, 'hora': 1, '119': 1, 'qualquer': 1, 'memphis': 1, 'serviç': 1, 'ban': 1, 'preá': 1, 'natureza': 1, 'aconchegantes': 1, 'paixão': 1, 'nasce': 1, 'charmosos': 1, 'tranquilidade': 1, 'carinho': 1, 'pôr': 1, 'pela': 1, 'preparado': 1, 'sinta': 1, 'vilarejo': 1, 'primeira': 1, 'possuimos': 1, 'kitesurf': 1, 'facilida': 1, 'disponib': 1, 'ho': 1, 'internacional': 1, 'fio': 1, 'condicionado': 1, '700': 1, 'el': 1, 'ministérios': 1, 'brasília': 1, 'pilar': 1, 'esplanada': 1, 'arriscar': 2, 'gosta': 2, 'alternativa': 2, 'relaxante': 2, 'puerta': 1, 'casanova': 1, 'prado': 1, 'mayor': 1, 'gran': 1, 'vía': 1, 'hostal': 1, 'madrid': 1, 'login': 1, 'sofisticação': 1, 'fazer': 1, 'bela': 1, 'basta': 1, 'genius': 1, 'tranqüilidade': 1, 'itapemar': 1, 'ilhabela': 1, '800m': 1, 'ambiente': 1, 'economizar': 1, 'qualifica': 1, 'railway': 1, 'coldwater': 1, 'alabama': 1, 'music': 1, 'spring': 1, 'hall': 1, 'fame': 1, 'tuscumbia': 1, 'homestay': 1, 'sawadee': 1, 'crown': 1, 'travessia': 1, 'khong': 1, 'ferry': 1, 'at': 1, 'kaew': 1, 'chiang': 1, 'k': 1, 'prince': 1, 'tailandesa': 1, 'wat': 1, '54': 1, 'fronteira': 1, 'phra': 1, 'escorrega': 1, 'alcançará': 1, 'aos': 1, 'qualidade': 1, '2005': 1, 'french': 1, 'renovado': 1, 'elevada': 1, 'hós': 1, 'orleães': 1, '86': 1, 'andares': 1, 'quarter': 1, 'modalidade': 1, 'natos': 1, 'mas': 1, 'encontrarão': 1, 'sempre': 1, 'paraíso': 1, 'amante': 1, 'aqui': 1, 'esquiadores': 1, 'experimentar': 1, 'for': 1})\n",
            "384\n",
            "{'de': 1, 'e': 2, 'uma': 3, 'wi': 4, 'fi': 5, 'grátis': 6, 'a': 7, 'serviços': 8, 'incluindo': 9, 'das': 10, 'ao': 11, 'várias': 12, 'para': 13, 'o': 14, 'as': 15, 'piscina': 16, 'seu': 17, 'dispor': 18, 'do': 19, 'espaço': 20, 'ou': 21, 'sala': 22, 'um': 23, 'comodidades': 24, 'se': 25, 'hotel': 26, 'no': 27, 'lazer': 28, 'fitness': 29, 'tire': 30, 'partido': 31, 'entretenimento': 32, 'vistas': 33, 'partir': 34, 'da': 35, 'em': 36, 'exterior': 37, 'com': 38, 'incluem': 39, 'adicionais': 40, 'concierge': 41, 'atividades': 42, 'este': 43, 'tratamentos': 44, 'facilidades': 45, 'desfrute': 46, 'recreativas': 47, 'açoteia': 48, 'jardim': 49, 'interior': 50, 'oferece': 51, 'algumas': 52, 'fantásticas': 53, 'não': 54, 'ainda': 55, 'à': 56, 'televisor': 57, 'também': 58, 'massagens': 59, 'comum': 60, 'entre': 61, 'km': 62, 'hidromassagem': 63, 'local': 64, 'opções': 65, 'banheira': 66, 'área': 67, 'apoio': 68, 'perca': 69, 'são': 70, 'excursões': 71, 'sauna': 72, '2': 73, 'corporais': 74, 'faciais': 75, 'piqueniques': 76, 'soberbas': 77, 'contam': 78, '24': 79, 'horas': 80, 'spa': 81, 'compra': 82, 'loja': 83, 'presentes': 84, 'que': 85, 'aproveite': 86, 'dispõe': 87, 'destaque': 88, 'ida': 89, 'está': 90, 'aberta': 91, 'quiosque': 92, 'nas': 93, 'jornais': 94, 'entretimento': 95, 'inclui': 96, 'bilhetes': 97, 'propostas': 98, 'sua': 99, 'serviço': 100, 'contemple': 101, 'casamentos': 102, 'disposição': 103, 'experimente': 104, 'minutos': 105, 'contemplar': 106, 'sazonal': 107, 'fica': 108, 'mi': 109, 'os': 110, '0': 111, 'disponibiliza': 112, 'localização': 113, 'procura': 114, 'churrasqueiras': 115, 'deleite': 116, 'quartos': 117, 'outras': 118, 'por': 119, '5': 120, 'campo': 121, 'áreas': 122, 'aprecie': 123, 'bicicletas': 124, 'ceda': 125, 'irresistível': 126, 'tentação': 127, 'estabelecimento': 128, 'poderá': 129, 'localizado': 130, '3': 131, '1': 132, 'máquina': 133, 'lareira': 134, 'lobby': 135, 'participe': 136, 'praia': 137, '4': 138, 'contar': 139, 'h3': 140, 'na': 141, 'aluguer': 142, 'venda': 143, 'descubra': 144, 'club': 145, 'hóspedes': 146, 'neste': 147, 'carro': 148, 'health': 149, 'leque': 150, 'disponíveis': 151, 'salão': 152, 'há': 153, 'automática': 154, '6': 155, 'terraço': 156, 'mime': 157, 'centro': 158, 'fumadores': 159, 'sobretaxa': 160, 'piscinas': 161, 'ficará': 162, 'ligação': 163, 'internet': 164, 'ténis': 165, 'pé': 166, 'baby': 167, '9': 168, 'exteriores': 169, 'estadia': 170, 'golfe': 171, 'unidades': 172, 'alojamento': 173, 'receção': 174, 'lojas': 175, 'sitter': 176, 'imóvel': 177, 'suas': 178, 'encontra': 179, 'area': 180, 'inn': 181, 's': 182, 'é': 183, 'cerca': 184, '7': 185, 'numa': 186, 'dia': 187, 'jogos': 188, 'dos': 189, 'armazenamento': 190, 'esquis': 191, 'pode': 192, 'agradável': 193, 'total': 194, 'depois': 195, 'imersão': 196, 'dar': 197, 'privada': 198, '8': 199, 'cidade': 200, 'poucos': 201, 'ficam': 202, 'principais': 203, 'perfeita': 204, 'completo': 205, 'deste': 206, 'situa': 207, 'como': 208, 'imediações': 209, 'podem': 210, 'encontrará': 211, 'todos': 212, 'mais': 213, 'acesso': 214, 'locais': 215, 'férias': 216, 'tacada': 217, 'minuto': 218, 'metros': 219, 'apenas': 220, 'algo': 221, 'encontrar': 222, 'aeroporto': 223, 'salto': 224, 'até': 225, 'conta': 226, 'autocarro': 227, 'confortável': 228, 'banquetes': 229, 'próximo': 230, 'restaurantes': 231, 'park': 232, 'ensaiar': 233, 'aquela': 234, 'suites': 235, 'by': 236, 'públicas': 237, 'museo': 238, 'la': 239, 'discoteca': 240, 'campos': 241, 'privilegiada': 242, 'pousada': 243, 'gratuito': 244, 'propriedade': 245, 'figuram': 246, 'estilo': 247, 'resort': 248, 'passos': 249, 'revitalizante': 250, 'estar': 251, '10': 252, 'apartamentos': 253, 'banheiras': 254, 'relaxe': 255, 'desfrutar': 256, 'utilização': 257, 'desconto': 258, 'cabeleireiro': 259, 'foi': 260, 'd': 261, 'permite': 262, 'lhe': 263, 'fortaleza': 264, 'ar': 265, 'bem': 266, 'tem': 267, 'relaxa': 268, 'mar': 269, 'instalações': 270, 'bares': 271, 'alivie': 272, 'stress': 273, 'semarang': 274, 'del': 275, 'você': 276, 'hospital': 277, 'c': 278, 'sol': 279, 'estacionamento': 280, 'privativo': 281, 'casa': 282, 'alguns': 283, 'diferente': 284, 'exemplo': 285, 'aparthotel': 286, 'porto': 287, 'estão': 288, 'casino': 289, 'retemperante': 290, 'interiores': 291, 'm': 292, 'aproximadamente': 293, '15': 294, 'buenos': 295, 'aires': 296, 'montanhas': 297, 'porque': 298, 'colatina': 299, 'café': 300, 'bicicleta': 301, 'hospedagem': 302, 'ótima': 303, 'quem': 304, 'beach': 305, 'kuala': 306, 'the': 307, 'residencial': 308, 'esta': 309, 'fabulosas': 310, 'co': 311, 'excelente': 312, 'pontos': 313, 'comuns': 314, 'center': 315, 'motel': 316, 'golf': 317, 'pistas': 318, 'esqui': 319, 'situado': 320, 'palermo': 321, 'atrações': 322, 'lodge': 323, 'sem': 324, 'wyndham': 325, 'west': 326, 'animais': 327, 'plaza': 328, 'coração': 329, 'paulo': 330, 'grand': 331, 'sp': 332, 'vila': 333, 'ex': 334, 'variados': 335, 'apartment': 336, 'indonesia': 337, 'adega': 338, 'todas': 339, 'abe': 340, 'cultura': 341, 'praticar': 342, 'tacadas': 343, 'aberto': 344, 'nosso': 345, 'conhecer': 346, 'igreja': 347, 'melhor': 348, 'dispo': 349, 'barreirinhas': 350, 'dubai': 351, 'clientes': 352, 'residence': 353, 'ad': 354, 'santa': 355, 'araguaia': 356, 'shopping': 357, 'comercial': 358, 'novo': 359, 'central': 360, 'corso': 361, 'h': 362, 'hill': 363, 'possui': 364, 'acolhedoras': 365, 'baile': 366, 'ibis': 367, 'viagem': 368, 'bar': 369, 'circuitos': 370, 'caminhadas': 371, 'festas': 372, 'banho': 373, 'turco': 374, 'simples': 375, 'nossa': 376, 'infraestrutura': 377, 'ideal': 378, 'passeios': 379, 'comod': 380, 'mae': 381, '18': 382, 'lumpur': 383, 'petronas': 384, 'pavilion': 385, 'usufruir': 386, 'u': 387, 'praça': 388, 'boutique': 389, 'recepção': 390, 'livre': 391, 'acomodação': 392, 'completa': 393, 'adicion': 394, 'of': 395, 'negócios': 396, 'fontes': 397, 'termais': 398, 'região': 399, 'outros': 400, 'apanhe': 401, 'visitar': 402, 'acolhedor': 403, 'apreciarão': 404, 'beleza': 405, 'areal': 406, 'uns': 407, 'mergulhos': 408, 'ilha': 409, 'zona': 410, 'facilmente': 411, 'construiu': 412, '56': 413, 'acolhedores': 414, 'remodelado': 415, '2006': 416, 'st': 417, '50': 418, 'passe': 419, 'direto': 420, 'às': 421, 'encantador': 422, 'aceder': 423, 'interesse': 424, 'zonas': 425, 'parque': 426, 'aquático': 427, 'tudo': 428, 'quality': 429, 'edifício': 430, 'seus': 431, 'sasakwa': 432, '40': 433, 'além': 434, 'fios': 435, 'van': 436, 'horn': 437, 'super': 438, 'aqueles': 439, 'pelo': 440, '200': 441, 'louisville': 442, 'museum': 443, 'nova': 444, 'montpellier': 445, 'byp': 446, 'conveniência': 447, 'hot': 448, 'birmingham': 449, 'vez': 450, 'estimação': 451, 'manhã': 452, 'muito': 453, '000m2': 454, 'disp': 455, 'tropical': 456, 'maior': 457, 'salta': 458, 'museu': 459, 'capão': 460, 'bonito': 461, 'nesta': 462, 'nixa': 463, '14': 464, '11': 465, 'capivari': 466, '800': 467, 'vista': 468, 'eagle': 469, 'creek': 470, 'course': 471, 'preá': 472, 'brasília': 473, 'gosta': 474, 'arriscar': 475, 'alternativa': 476, 'relaxante': 477, 'tuscumbia': 478, 'spring': 479, 'chiang': 480, 'khong': 481, 'mercure': 482, 'olimpia': 483, 'caesar': 484, 'business': 485, 'grandes': 486, 'centros': 487, 'financeiros': 488, 'importantes': 489, 'empresas': 490, 'perto': 491, 'excelentes': 492, 'shoppings': 493, 'entreteni': 494, 'facil': 495, 'candiland': 496, 'kaya': 497, 'old': 498, 'post': 499, 'office': 500, 'akademi': 501, 'kepolisian': 502, 'ciputra': 503, 'mall': 504, 'gráti': 505, 'bi': 506, 'norco': 507, 'country': 508, 'radisson': 509, 'asheville': 510, 'westga': 511, '94': 512, 'chetumal': 513, 'mexico': 514, 'maya': 515, 'zoológico': 516, 'payo': 517, 'obispo': 518, 'ciudad': 519, 'faro': 520, 'pi': 521, 'convidado': 522, 'icamiabas': 523, 'parintins': 524, '100': 525, 'charmosa': 526, 'josé': 527, '500': 528, 'bumbódromo': 529, 'supermercados': 530, 'farmácias': 531, '\\rtemos': 532, 'estru': 533, 'situada': 534, 'cais': 535, 'prefeitura': 536, 'raio': 537, 'acomodações': 538, 'artesanato': 539, 'supervisionadas': 540, 'crianças': 541, 'vitorianoum': 542, 'lynden': 543, 'wa': 544, 'homestead': 545, 'tud': 546, 'quiosqu': 547, 'sofisticado': 548, 'poderão': 549, 'intercontinental': 550, 'f': 551, '212': 552, 'conve': 553, 'nada': 554, 'terminar': 555, 'tentando': 556, 'sorte': 557, 'fé': 558, 'goiânia': 559, 'norte': 560, 'ferroviário': 561, 'feira': 562, 'hippie': 563, 'planetário': 564, 'ag': 565, 'stefanos': 566, '400': 567, 'principal': 568, 'míconos': 569, 'antigo': 570, 'contempla': 571, 'pequenos': 572, 'al': 573, 'milan': 574, 'rental': 575, 'milão': 576, 'complexo': 577, 'castello': 578, 'sforzesco': 579, 'trabalhar': 580, 'bronz': 581, 'recobrar': 582, 'energias': 583, 'após': 584, 'intenso': 585, 'notting': 586, '75': 587, 'ano': 588, 'construção': 589, 'remonta': 590, '2018': 591, 'contact': 592, 'bil': 593, 'velha': 594, 'zurique': 595, 'inaugurado': 596, '1973': 597, '333': 598, 'salas': 599, 'conferências': 600, 'churrasq': 601, 'automátic': 602, 'proposta': 603, 'oferecemos': 604, 'conforto': 605, 'temos': 606, 'luxo': 607, 'somos': 608, 'opção': 609, 'quer': 610, 'durante': 611, 'dias': 612, 'automáti': 613, 'ba': 614, 'festa': 615, 'rayong': 616, 'suanson': 617, 'paragon': 618, 'green': 619, 'suan': 620, 'son': 621, 'rim': 622, 'pae': 623, '16': 624, 'rumphung': 625, 'laem': 626, 'p': 627, 'comp': 628, 'karaoke': 629, 'che': 630, 'kampung': 631, 'datuk': 632, 'keramat': 633, 'regency': 634, 'scholars': 635, 'twin': 636, 'towers': 637, 'torres': 638, 'lump': 639, 'despretensioso': 640, 'city': 641, 'existem': 642, '80': 643, 'knights': 644, 'jacksonville': 645, 'baymeadows': 646, 'atenas': 647, 'omonoia': 648, 'breeze': 649, 'athens': 650, 'decoração': 651, 'moderna': 652, 'lanchonete': 653, 'syntagma': 654, '20': 655, 'vg': 656, 'fun': 657, 'front': 658, 'privativos': 659, 'condomínio': 660, 'fechado': 661, 'ofere': 662, 'adic': 663, 'baymont': 664, 'lake': 665, 'ozarks': 666, 'osage': 667, 'be': 668, 'seja': 669, 'bed': 670, 'breakfast': 671, 'completamente': 672, 'moderno': 673, 'bristol': 674, 'umarizal': 675, 'tornar': 676, 'estada': 677, 'memorável': 678, 'belém': 679, 'turísticos': 680, 'reg': 681, 'bilhe': 682, 'pon': 683, 'alexandria': 684, 'disponível': 685, 'adequadas': 686, 'pessoas': 687, 'n': 688, 'junto': 689, 'baía': 690, 'korcula': 691, 'próximos': 692, 'turística': 693, 'próxima': 694, 'alcançáv': 695, 'ensaie': 696, 'dolce': 697, 'far': 698, 'niente': 699, 'conci': 700, '1995': 701, 'par': 702, 'adicio': 703, 'danville': 704, 'totalmente': 705, 'rece': 706, 'airport': 707, 'dois': 708, 'conhecidos': 709, 'líbris': 710, 'louis': 711, 'woodson': 712, 'terrace': 713, 'paine': 714, 'gentry': 715, 'house': 716, 'blanche': 717, 'touhill': 718, 'performing': 719, 'arts': 720, 'vizinhança': 721, 'raphael': 722, 'agradáveis': 723, 'vacances': 724, 'bleues': 725, 'le': 726, 'mediterranee': 727, 'crete': 728, 'lúdicas': 729, 'magnífico': 730, 'adicionai': 731, 'exclusivo': 732, 'adultos': 733, 'clara': 734, 'máqu': 735, 'fácil': 736, 'destino': 737, 'oferecer': 738, 'entret': 739, 'curta': 740, 'disponibilizad': 741, 'blanc': 742, 'poidist': 743, 'minutes': 744, 'valu': 745, 'ascension': 746, 'genesys': 747, 'creasey': 748, 'bicentennial': 749, 'l': 750, 'andar': 751, 'espa': 752, 'distribuição': 753, 'versátil': 754, '52': 755, 'individuais': 756, 'duplos': 757, 'triplos': 758, 'suítes': 759, 'embajador': 760, 'atendimento': 761, 'diferenciado': 762, 'personalizado': 763, 'torna': 764, 'tanto': 765, 'viagens': 766, 'quanto': 767, 'negócio': 768, 'singita': 769, 'encostas': 770, '1930': 771, 'facilidad': 772, 'augusta': 773, 'existe': 774, 'acessível': 775, 'rodeway': 776, 'rodew': 777, 'estabelecimen': 778, 'depósito': 779, 'vitoria': 780, 'catavento': 781, 'inspirada': 782, 'rústico': 783, 'valorizando': 784, 'simplicidade': 785, 'hospitalidade': 786, 'frente': 787, 'flecheiras': 788, 'trairí': 789, 'litoral': 790, 'oeste': 791, 'cearense': 792, 'distante': 793, '130': 794, 'jericoacoara': 795, 'pertinho': 796, 'bilhete': 797, 'jeffersonville': 798, 'hawthorn': 799, 'north': 800, 'kfc': 801, 'yum': 802, 'fourth': 803, 'street': 804, 'live': 805, 'slugger': 806, 'uni': 807, 'figu': 808, 'charlottenburg': 809, 'metro': 810, 'irão': 811, 'ligações': 812, 'transporte': 813, 'vão': 814, 'permitir': 815, 'explorem': 816, 'consiste': 817, '36': 818, 'sofreu': 819, 'renovações': 820, 'piq': 821, 'hôtel': 822, 'coloca': 823, 'tour': 824, 'babotte': 825, 'saint': 826, 'côme': 827, 'place': 828, 'comedie': 829, 'opéra': 830, 'orchestre': 831, 'national': 832, 'trabalhe': 833, 'bronze': 834, 'disso': 835, 'oferecido': 836, 'econo': 837, 'receb': 838, 'fa': 839, '60': 840, '2016': 841, 'travelodge': 842, 'maypole': 843, 'pública': 844, 'comodid': 845, 'manassas': 846, 'número': 847, '158': 848, 'gostam': 849, 'porteiro': 850, 'paquete': 851, 'literalmente': 852, 'porta': 853, 'disponívei': 854, 'hortolândia': 855, 'telles': 856, 'tv': 857, 'tela': 858, 'plana': 859, 'cabo': 860, 'banheiro': 861, '\\r\\rum': 862, 'buffet': 863, 'servido': 864, 'diariamente': 865, 'propried': 866, 'criado': 867, '2011': 868, 'descontrair': 869, 'confortavelmente': 870, 'num': 871, '142': 872, 'pisos': 873, 'comodamente': 874, 'acessíveis': 875, 'elevador': 876, 'pelas': 877, 'escadas': 878, 'bengaleiro': 879, 'cofre': 880, 'tornarão': 881, 'vindos': 882, 'pitinga': 883, 'terreno': 884, 'beira': 885, 'coqueiros': 886, 'árvores': 887, 'frutíferas': 888, 'bromélias': 889, 'orquídeas': 890, 'espécies': 891, 'originárias': 892, 'mata': 893, 'atlântica': 894, 'integração': 895, 'baiana': 896, 'visível': 897, 'visita': 898, 'brasil': 899, 'meireles': 900, 'local\\rde': 901, 'concentração': 902, '\\rmodernos': 903, 'brasi': 904, 'serv': 905, 'refugio': 906, 'inca': 907, 'valle': 908, 'lerma': 909, 'belas': 910, 'artes': 911, 'arqueológico': 912, 'alta': 913, 'montaña': 914, 'maam': 915, 'câmara': 916, 'municip': 917, 'curitiba': 918, '150m': 919, 'cacb': 920, 'cooperativa': 921, 'agrícola': 922, 'rua': 923, 'yoiti': 924, 'ikeda': 925, 'av': 926, 'plácido': 927, 'batista': 928, 'silveira': 929, 'restaurante': 930, 'equipados': 931, 'apartments': 932, 'kruc': 933, 'zagreb': 934, 'nama': 935, 'galeria': 936, 'miroslav': 937, 'kraljević': 938, 'apartamento': 939, 'desportivo': 940, 'recreio': 941, 'salata': 942, 'mestrovic': 943, 'home': 944, 'soho': 945, 'italia': 946, 'estrelas': 947, 'teatro': 948, 'colón': 949, 'palau': 950, 'güell': 951, 'construído': 952, 'arquitecto': 953, 'catalã': 954, 'mundialmente': 955, 'famoso': 956, 'antoni': 957, 'gaudí': 958, 'emblemáticas': 959, 'las': 960, 'ramblas': 961, 'real': 962, 'downtown': 963, '61': 964, 'possível': 965, 'todo': 966, 'informações': 967, 'sobre': 968, 'vend': 969, 'springfield': 970, 'stained': 971, 'glass': 972, 'theatre': 973, 'lester': 974, 'cox': 975, 'medical': 976, 'south': 977, 'bass': 978, 'pro': 979, 'shops': 980, 'outdoor': 981, 'world': 982, 'missouri': 983, 'stat': 984, 'disponíve': 985, 'adi': 986, 'matarazzo': 987, 'temporada': 988, 'localizada': 989, 'jordão': 990, 'belvedere': 991, 'chinesa': 992, 'comodidade': 993, 'gratu': 994, 'alg': 995, 'hospede': 996, 'cindy': 997, 'kelly': 998, 'maravilhas': 999, 'subic': 1000, 'zambales': 1001, 'lista': 1002, 'dearborn': 1003, 'infelizmente': 1004, 'permitidos': 1005, 'allen': 1006, 'colonial': 1007, 'river': 1008, 'gypsum': 1009, '45': 1010, 'vail': 1011, 'ski': 1012, 'glenwood': 1013, 'springs': 1014, 'sin': 1015, 'memphis': 1016, '119': 1017, 'contactar': 1018, 'qualquer': 1019, 'hora': 1020, 'serviç': 1021, 'vilarejo': 1022, 'nasce': 1023, 'paixão': 1024, 'primeira': 1025, 'pela': 1026, 'pôr': 1027, 'kitesurf': 1028, 'preparado': 1029, 'carinho': 1030, 'sinta': 1031, 'natureza': 1032, 'tranquilidade': 1033, 'possuimos': 1034, 'charmosos': 1035, 'aconchegantes': 1036, 'ban': 1037, 'facilida': 1038, 'disponib': 1039, 'ho': 1040, '700': 1041, 'el': 1042, 'pilar': 1043, 'fio': 1044, 'condicionado': 1045, 'esplanada': 1046, 'ministérios': 1047, 'internacional': 1048, 'madrid': 1049, 'hostal': 1050, 'casanova': 1051, 'puerta': 1052, 'gran': 1053, 'vía': 1054, 'mayor': 1055, 'prado': 1056, 'qualifica': 1057, 'genius': 1058, 'itapemar': 1059, 'ilhabela': 1060, 'economizar': 1061, 'basta': 1062, 'fazer': 1063, 'login': 1064, 'sofisticação': 1065, 'tranqüilidade': 1066, 'ambiente': 1067, '800m': 1068, 'bela': 1069, 'coldwater': 1070, 'alabama': 1071, 'music': 1072, 'hall': 1073, 'fame': 1074, 'railway': 1075, 'sawadee': 1076, 'homestay': 1077, 'at': 1078, '54': 1079, 'wat': 1080, 'phra': 1081, 'kaew': 1082, 'crown': 1083, 'prince': 1084, 'ferry': 1085, 'travessia': 1086, 'fronteira': 1087, 'tailandesa': 1088, 'k': 1089, 'escorrega': 1090, 'elevada': 1091, 'qualidade': 1092, 'orleães': 1093, 'alcançará': 1094, 'french': 1095, 'quarter': 1096, 'renovado': 1097, '2005': 1098, 'andares': 1099, '86': 1100, 'aos': 1101, 'hós': 1102, 'esquiadores': 1103, 'natos': 1104, 'encontrarão': 1105, 'aqui': 1106, 'paraíso': 1107, 'mas': 1108, 'for': 1109, 'amante': 1110, 'modalidade': 1111, 'sempre': 1112, 'experimentar': 1113}\n"
          ]
        }
      ],
      "source": [
        "# A dictionary of words and their counts.\n",
        "print(tBR.word_counts)\n",
        "\n",
        "# A dictionary of words and how many documents each appeared in.\n",
        "print(tBR.word_docs)\n",
        "\n",
        "# An integer count of the total number of documents that were used to fit the Tokenizer (i.e. total number of documents)\n",
        "print(tBR.document_count)\n",
        "\n",
        "# A dictionary of words and their uniquely assigned integers.\n",
        "print(tBR.word_index)"
      ]
    },
    {
      "cell_type": "code",
      "execution_count": null,
      "id": "0b2e04de-139a-4a0c-be27-be23b575dab1",
      "metadata": {
        "id": "0b2e04de-139a-4a0c-be27-be23b575dab1",
        "outputId": "9effffb4-9968-4567-bd34-cad9a5f44ac9"
      },
      "outputs": [
        {
          "name": "stdout",
          "output_type": "stream",
          "text": [
            "Found 1113 unique tokens.\n"
          ]
        }
      ],
      "source": [
        "print('Found %s unique tokens.' % len(tBR.word_index))"
      ]
    },
    {
      "cell_type": "code",
      "execution_count": null,
      "id": "8054c915-4f6b-4780-966f-1e92d5fc8251",
      "metadata": {
        "id": "8054c915-4f6b-4780-966f-1e92d5fc8251"
      },
      "outputs": [],
      "source": [
        "# Tokenization\n",
        "tBR = Tokenizer(num_words=None, filters='!\"#$%&()*+,-./:;<=>?@[\\\\]^_`{|}~\\t\\n', lower=True, split=' ', char_level=False, oov_token=None, document_count=0)\n",
        "\n",
        "def get_sequence_of_tokensBR(corpusBR):\n",
        "    tBR.fit_on_texts(corpusBR)\n",
        "    total_wordsBR = len(tBR.word_index) + 1\n",
        "    \n",
        "    input_sequencesBR = []\n",
        "    for line in corpusBR:\n",
        "        token_list = tBR.texts_to_sequences([line])[0]\n",
        "        for i in range(1, len(token_list)):\n",
        "            n_gram_sequence = token_list[:i+1]\n",
        "            input_sequencesBR.append(n_gram_sequence)\n",
        "            \n",
        "    return input_sequencesBR, total_wordsBR"
      ]
    },
    {
      "cell_type": "code",
      "execution_count": null,
      "id": "872ec82e-cb0a-4304-8048-74149aa16877",
      "metadata": {
        "id": "872ec82e-cb0a-4304-8048-74149aa16877"
      },
      "outputs": [],
      "source": [
        "input_sequencesBR, total_wordsBR = get_sequence_of_tokensBR(corpusBR)\n"
      ]
    },
    {
      "cell_type": "code",
      "execution_count": null,
      "id": "e41cae6c-6cd9-45e8-856b-f1b9c68ba5cf",
      "metadata": {
        "id": "e41cae6c-6cd9-45e8-856b-f1b9c68ba5cf",
        "outputId": "761101fc-739a-4491-b0f9-6b059347f83f"
      },
      "outputs": [
        {
          "data": {
            "text/plain": [
              "[[153, 12],\n",
              " [153, 12, 65],\n",
              " [153, 12, 65, 1],\n",
              " [153, 12, 65, 1, 28],\n",
              " [153, 12, 65, 1, 28, 2],\n",
              " [153, 12, 65, 1, 28, 2, 32],\n",
              " [153, 12, 65, 1, 28, 2, 32, 11],\n",
              " [153, 12, 65, 1, 28, 2, 32, 11, 17],\n",
              " [153, 12, 65, 1, 28, 2, 32, 11, 17, 18],\n",
              " [153, 12, 65, 1, 28, 2, 32, 11, 17, 18, 9]]"
            ]
          },
          "execution_count": 43,
          "metadata": {},
          "output_type": "execute_result"
        }
      ],
      "source": [
        "input_sequencesBR[:10]"
      ]
    },
    {
      "cell_type": "code",
      "execution_count": null,
      "id": "ba73d978-ef6a-44cf-b63c-6ad99ab99356",
      "metadata": {
        "id": "ba73d978-ef6a-44cf-b63c-6ad99ab99356",
        "outputId": "55be374f-2cb0-470b-8e96-f0839a057d31"
      },
      "outputs": [
        {
          "data": {
            "text/plain": [
              "1114"
            ]
          },
          "execution_count": 44,
          "metadata": {},
          "output_type": "execute_result"
        }
      ],
      "source": [
        "total_wordsBR"
      ]
    },
    {
      "cell_type": "code",
      "execution_count": null,
      "id": "50058892-c57a-4711-a4d4-bd8ca4229e37",
      "metadata": {
        "id": "50058892-c57a-4711-a4d4-bd8ca4229e37"
      },
      "outputs": [],
      "source": [
        "# pad sequences \n",
        "def generate_padded_sequencesBR(input_sequencesBR):\n",
        "    max_sequence_lenBR = max([len(x) for x in input_sequencesBR])\n",
        "    input_sequencesBR = np.array(pad_sequences(input_sequencesBR, maxlen = max_sequence_lenBR, padding = 'pre'))\n",
        "    predictorsBR, labelBR = input_sequencesBR[:,:-1],input_sequencesBR[:,-1]\n",
        "    labelBR = ku.to_categorical(labelBR, num_classes = total_wordsBR)\n",
        "    \n",
        "    return predictorsBR, labelBR, max_sequence_lenBR\n",
        "\n",
        "predictorsBR, labelBR, max_sequence_lenBR = generate_padded_sequencesBR(input_sequencesBR)"
      ]
    },
    {
      "cell_type": "code",
      "execution_count": null,
      "id": "5077a563-2da9-43a8-8cf1-4720919b653f",
      "metadata": {
        "id": "5077a563-2da9-43a8-8cf1-4720919b653f",
        "outputId": "b36e8442-c60a-49c0-da45-d278c7a441a6"
      },
      "outputs": [
        {
          "name": "stdout",
          "output_type": "stream",
          "text": [
            "Model: \"sequential\"\n",
            "_________________________________________________________________\n",
            " Layer (type)                Output Shape              Param #   \n",
            "=================================================================\n",
            " embedding (Embedding)       (None, 55, 10)            11140     \n",
            "                                                                 \n",
            " lstm (LSTM)                 (None, 100)               44400     \n",
            "                                                                 \n",
            " dropout (Dropout)           (None, 100)               0         \n",
            "                                                                 \n",
            " dense (Dense)               (None, 1114)              112514    \n",
            "                                                                 \n",
            "=================================================================\n",
            "Total params: 168,054\n",
            "Trainable params: 168,054\n",
            "Non-trainable params: 0\n",
            "_________________________________________________________________\n"
          ]
        }
      ],
      "source": [
        "def create_modelBR(max_sequence_lenBR, total_wordsBR):\n",
        "    modelBR = Sequential()\n",
        "    \n",
        "    # Add Input Embedding Layer\n",
        "    modelBR.add(Embedding(total_wordsBR, 10, input_length=max_sequence_lenBR - 1))\n",
        "    \n",
        "    # Add Hidden Layer 1 - LSTM Layer\n",
        "    modelBR.add(LSTM(100))\n",
        "    modelBR.add(Dropout(0.1))\n",
        "    \n",
        "    # Add Output Layer\n",
        "    modelBR.add(Dense(total_wordsBR, activation='softmax'))\n",
        "\n",
        "    modelBR.compile(loss='categorical_crossentropy', optimizer='adam')\n",
        "    \n",
        "    return modelBR\n",
        "\n",
        "modelBR = create_modelBR(max_sequence_lenBR, total_wordsBR)\n",
        "modelBR.summary()"
      ]
    },
    {
      "cell_type": "code",
      "execution_count": null,
      "id": "a6bc776d-70d0-4546-9f5c-9e08119abe4f",
      "metadata": {
        "id": "a6bc776d-70d0-4546-9f5c-9e08119abe4f",
        "outputId": "b5fddfa9-a2dd-4c31-deda-32afc3c09f0f"
      },
      "outputs": [
        {
          "name": "stdout",
          "output_type": "stream",
          "text": [
            "Epoch 1/50\n",
            "386/386 [==============================] - 21s 42ms/step - loss: 5.3071\n",
            "Epoch 2/50\n",
            "386/386 [==============================] - 10s 25ms/step - loss: 4.6266\n",
            "Epoch 3/50\n",
            "386/386 [==============================] - 11s 29ms/step - loss: 3.9561\n",
            "Epoch 4/50\n",
            "386/386 [==============================] - 15s 38ms/step - loss: 3.3992\n",
            "Epoch 5/50\n",
            "386/386 [==============================] - 21s 54ms/step - loss: 2.9787\n",
            "Epoch 6/50\n",
            "386/386 [==============================] - 21s 55ms/step - loss: 2.6547\n",
            "Epoch 7/50\n",
            "386/386 [==============================] - 21s 53ms/step - loss: 2.3988\n",
            "Epoch 8/50\n",
            "386/386 [==============================] - 21s 54ms/step - loss: 2.1856\n",
            "Epoch 9/50\n",
            "386/386 [==============================] - 21s 55ms/step - loss: 2.0177\n",
            "Epoch 10/50\n",
            "386/386 [==============================] - 21s 54ms/step - loss: 1.8658\n",
            "Epoch 11/50\n",
            "386/386 [==============================] - 21s 54ms/step - loss: 1.7378\n",
            "Epoch 12/50\n",
            "386/386 [==============================] - 22s 56ms/step - loss: 1.6259\n",
            "Epoch 13/50\n",
            "386/386 [==============================] - 21s 54ms/step - loss: 1.5261\n",
            "Epoch 14/50\n",
            "386/386 [==============================] - 21s 54ms/step - loss: 1.4404\n",
            "Epoch 15/50\n",
            "386/386 [==============================] - 22s 58ms/step - loss: 1.3609\n",
            "Epoch 16/50\n",
            "386/386 [==============================] - 23s 61ms/step - loss: 1.2833\n",
            "Epoch 17/50\n",
            "386/386 [==============================] - 23s 59ms/step - loss: 1.2139\n",
            "Epoch 18/50\n",
            "386/386 [==============================] - 24s 62ms/step - loss: 1.1499\n",
            "Epoch 19/50\n",
            "386/386 [==============================] - 24s 62ms/step - loss: 1.0911\n",
            "Epoch 20/50\n",
            "386/386 [==============================] - 24s 62ms/step - loss: 1.0384\n",
            "Epoch 21/50\n",
            "386/386 [==============================] - 24s 62ms/step - loss: 0.9881\n",
            "Epoch 22/50\n",
            "386/386 [==============================] - 23s 60ms/step - loss: 0.9409\n",
            "Epoch 23/50\n",
            "386/386 [==============================] - 22s 56ms/step - loss: 1.0855\n",
            "Epoch 24/50\n",
            "386/386 [==============================] - 22s 56ms/step - loss: 0.8747\n",
            "Epoch 25/50\n",
            "386/386 [==============================] - 22s 57ms/step - loss: 0.8242\n",
            "Epoch 26/50\n",
            "386/386 [==============================] - 22s 56ms/step - loss: 0.7912\n",
            "Epoch 27/50\n",
            "386/386 [==============================] - 21s 55ms/step - loss: 0.7571\n",
            "Epoch 28/50\n",
            "386/386 [==============================] - 21s 55ms/step - loss: 0.7296\n",
            "Epoch 29/50\n",
            "386/386 [==============================] - 22s 56ms/step - loss: 0.7021\n",
            "Epoch 30/50\n",
            "386/386 [==============================] - 22s 56ms/step - loss: 0.6766\n",
            "Epoch 31/50\n",
            "386/386 [==============================] - 21s 55ms/step - loss: 0.6503\n",
            "Epoch 32/50\n",
            "386/386 [==============================] - 22s 56ms/step - loss: 0.6298\n",
            "Epoch 33/50\n",
            "386/386 [==============================] - 22s 56ms/step - loss: 0.6036\n",
            "Epoch 34/50\n",
            "386/386 [==============================] - 21s 55ms/step - loss: 0.5816\n",
            "Epoch 35/50\n",
            "386/386 [==============================] - 22s 56ms/step - loss: 0.5658\n",
            "Epoch 36/50\n",
            "386/386 [==============================] - 22s 56ms/step - loss: 0.5435\n",
            "Epoch 37/50\n",
            "386/386 [==============================] - 21s 55ms/step - loss: 0.5381\n",
            "Epoch 38/50\n",
            "386/386 [==============================] - 22s 57ms/step - loss: 0.5132\n",
            "Epoch 39/50\n",
            "386/386 [==============================] - 22s 56ms/step - loss: 0.5009\n",
            "Epoch 40/50\n",
            "386/386 [==============================] - 21s 55ms/step - loss: 0.4803\n",
            "Epoch 41/50\n",
            "386/386 [==============================] - 22s 57ms/step - loss: 0.4720\n",
            "Epoch 42/50\n",
            "386/386 [==============================] - 22s 56ms/step - loss: 0.4581\n",
            "Epoch 43/50\n",
            "386/386 [==============================] - 22s 56ms/step - loss: 0.4459\n",
            "Epoch 44/50\n",
            "386/386 [==============================] - 22s 57ms/step - loss: 0.4326\n",
            "Epoch 45/50\n",
            "386/386 [==============================] - 21s 56ms/step - loss: 0.4237\n",
            "Epoch 46/50\n",
            "386/386 [==============================] - 22s 56ms/step - loss: 0.4144\n",
            "Epoch 47/50\n",
            "386/386 [==============================] - 22s 57ms/step - loss: 0.4015\n",
            "Epoch 48/50\n",
            "386/386 [==============================] - 22s 57ms/step - loss: 0.3994\n",
            "Epoch 49/50\n",
            "386/386 [==============================] - 22s 57ms/step - loss: 0.3802\n",
            "Epoch 50/50\n",
            "386/386 [==============================] - 22s 56ms/step - loss: 0.3765\n"
          ]
        },
        {
          "data": {
            "text/plain": [
              "<keras.callbacks.History at 0x1e574992760>"
            ]
          },
          "execution_count": 48,
          "metadata": {},
          "output_type": "execute_result"
        }
      ],
      "source": [
        "modelBR.fit(predictorsBR, labelBR, epochs=50, verbose=1)"
      ]
    },
    {
      "cell_type": "code",
      "execution_count": null,
      "id": "bafc81da-b357-458b-bb2f-565cc0882ecd",
      "metadata": {
        "id": "bafc81da-b357-458b-bb2f-565cc0882ecd"
      },
      "outputs": [],
      "source": [
        "def generate_textBR(seed_textBR, next_wordsBR, modelBR, max_seq_lenBR):\n",
        "    for _ in range(next_wordsBR):\n",
        "        token_listBR = tBR.texts_to_sequences([seed_textBR])[0]\n",
        "        token_listBR = pad_sequences([token_listBR], maxlen=max_seq_lenBR-1, padding='pre')\n",
        "        \n",
        "        #predicted = model.predict_classes(token_list, verbose=0)\n",
        "        predicted = np.argmax(modelBR.predict(token_listBR, verbose=0), axis=-1)\n",
        "        output_word = ''\n",
        "        \n",
        "        for word,index in tBR.word_index.items():\n",
        "            if index == predicted:\n",
        "                output_word = word\n",
        "                break\n",
        "                \n",
        "        seed_textBR = seed_textBR + \" \" + output_word\n",
        "        \n",
        "    return seed_textBR.title()"
      ]
    },
    {
      "cell_type": "code",
      "execution_count": null,
      "id": "1a708779-14e8-408d-a1a4-ea17d6a0408f",
      "metadata": {
        "id": "1a708779-14e8-408d-a1a4-ea17d6a0408f",
        "outputId": "57713e91-1d55-452b-9b26-b2d886f973bd"
      },
      "outputs": [
        {
          "name": "stdout",
          "output_type": "stream",
          "text": [
            "Buzios Beach Localizado Em Buzios Atenas A Apenas 20 Metros Da Praia Não Temos Luxo Do Local Este Hotel Foi Totalmente Remodelado Em 36 Quartos À Internet Sem Fios Acessível O Alojamento O Hotel Oferece Ligação De Internet Por Wi Fi No Local Os Hóspedes Podem Contact Apreciarão A Receção Aberta 24 Horas Por Dia As Áreas Comuns São Adequadas Para Pessoas E N A Pontos De Artesanato Os Quartos E Os Aeroporto Os Quartos Os Hóspedes Podem Usufruir Da Ligação É Quartos Por Wi Fi Nas Áreas Para Bicicletas No Hotel Wi Fi Grátis Serviços De Negócio Todos Os Variados Locais De N Podem\n"
          ]
        }
      ],
      "source": [
        "print(generate_textBR(\"Buzios Beach localizado em Buzios\", 100, modelBR, max_sequence_lenBR))"
      ]
    },
    {
      "cell_type": "code",
      "execution_count": null,
      "id": "0f3304e3-0a46-4ef5-b1f7-b86f0c033446",
      "metadata": {
        "id": "0f3304e3-0a46-4ef5-b1f7-b86f0c033446",
        "outputId": "48027783-14d8-4d57-da61-cc40d210ff89"
      },
      "outputs": [
        {
          "name": "stdout",
          "output_type": "stream",
          "text": [
            "Hotel Localizado Em Copacabana Serviço De Hospedagem Simples Com Conforto E Ótima Localização Não Temos Luxo E De Lazer Em Nossa Infraestrutura Somos Uma Opção De Hospedagem Ideal Para Quem Quer Durante Os Dias Conhecer Os Passeios De Alojamento Wi Fi Nas Áreas Comuns Os Hóspedes Podem Contactar A Receção A Qualquer Hora Do Dia O Imóvel E A Receção A Qualquer Hora A Interesse Do Jardim Do Jardim E A Propriedade Oferece Oferece Receção 24 Horas E Os Local Os Hóspedes Podem Contact E A 7 5 Km Da Km Da Artesanato Fica A Cerca De Barreirinhas A 2 2 Km Da Casa\n"
          ]
        }
      ],
      "source": [
        "print(generate_textBR(\"Hotel localizado em Copacabana\", 100, modelBR, max_sequence_lenBR))"
      ]
    },
    {
      "cell_type": "code",
      "execution_count": null,
      "id": "f2ed3b1c-d42a-4af6-b42e-62aec3f553be",
      "metadata": {
        "id": "f2ed3b1c-d42a-4af6-b42e-62aec3f553be"
      },
      "outputs": [],
      "source": [
        "total_wordsBR"
      ]
    },
    {
      "cell_type": "code",
      "execution_count": null,
      "id": "98f1504a-28d8-4057-91ca-e032c986768a",
      "metadata": {
        "id": "98f1504a-28d8-4057-91ca-e032c986768a"
      },
      "outputs": [],
      "source": []
    },
    {
      "cell_type": "code",
      "execution_count": null,
      "id": "73b0c1ed-b6be-4621-9b8c-d704bf237bbc",
      "metadata": {
        "id": "73b0c1ed-b6be-4621-9b8c-d704bf237bbc"
      },
      "outputs": [],
      "source": []
    },
    {
      "cell_type": "markdown",
      "id": "0a1c90b2-6e23-452a-80db-3152445a4363",
      "metadata": {
        "jp-MarkdownHeadingCollapsed": true,
        "tags": [],
        "id": "0a1c90b2-6e23-452a-80db-3152445a4363"
      },
      "source": [
        "# Teste com descrições em Inglês"
      ]
    },
    {
      "cell_type": "code",
      "execution_count": null,
      "id": "7d22cba6-0b22-41f9-a98c-98da56c7b4bf",
      "metadata": {
        "id": "7d22cba6-0b22-41f9-a98c-98da56c7b4bf"
      },
      "outputs": [],
      "source": [
        "hotelUS = pd.read_json(r'C:/Users/jgjoa/Desktop/FGV/inventory_hotel_BR_pt.json')\n",
        "#hotelBR_df = hotelBR_df[hotelBR_df['country']=='Brasil']\n",
        "\n",
        "hotelUS  = hotelUS[hotelUS['description']!='']\n",
        "hotelUS = hotelUS[0:300]"
      ]
    },
    {
      "cell_type": "code",
      "execution_count": null,
      "id": "d6eff3a4-fb6e-48b9-893a-622e445eee00",
      "metadata": {
        "id": "d6eff3a4-fb6e-48b9-893a-622e445eee00",
        "outputId": "1f84001f-6fdc-48f7-c1f4-1bf324dfd1d2"
      },
      "outputs": [
        {
          "data": {
            "text/plain": [
              "0      Nice, France. ((* Sorry, this information is n...\n",
              "1      Notting Hill - Paddington Station Area. ((* So...\n",
              "2      Há várias opções de lazer e entretenimento ao ...\n",
              "3      Fort Collins North. ((* Sorry, this informatio...\n",
              "4      Localizado no coração de São Paulo, o Grand Me...\n",
              "                             ...                        \n",
              "295    Johnson City. ((* Sorry, this information is n...\n",
              "296    Desfrute de fantásticas vistas a partir da aço...\n",
              "297    Se procura lazer e entretenimento, poderá cont...\n",
              "298    Arlington - Grand Prairie. ((* Sorry, this inf...\n",
              "299    Property LocationWith a stay at Island View Ho...\n",
              "Name: small_description, Length: 300, dtype: object"
            ]
          },
          "execution_count": 78,
          "metadata": {},
          "output_type": "execute_result"
        }
      ],
      "source": [
        "hotelUS['small_description']"
      ]
    },
    {
      "cell_type": "code",
      "execution_count": null,
      "id": "4ed1c09b-cdab-481b-9cf1-409caa0020bb",
      "metadata": {
        "id": "4ed1c09b-cdab-481b-9cf1-409caa0020bb",
        "outputId": "a108a104-bafc-4440-a249-661883659f6b"
      },
      "outputs": [
        {
          "data": {
            "text/plain": [
              "'en'"
            ]
          },
          "execution_count": 88,
          "metadata": {},
          "output_type": "execute_result"
        }
      ],
      "source": [
        "langdetect.detect(str(hotelUS['description'][2]))"
      ]
    },
    {
      "cell_type": "code",
      "execution_count": null,
      "id": "25162489-7c29-4cfd-a01d-27bd13bbdd50",
      "metadata": {
        "id": "25162489-7c29-4cfd-a01d-27bd13bbdd50",
        "outputId": "a5163512-3a64-4d0a-e7bc-f0f28c6ad936"
      },
      "outputs": [
        {
          "data": {
            "text/html": [
              "<div>\n",
              "<style scoped>\n",
              "    .dataframe tbody tr th:only-of-type {\n",
              "        vertical-align: middle;\n",
              "    }\n",
              "\n",
              "    .dataframe tbody tr th {\n",
              "        vertical-align: top;\n",
              "    }\n",
              "\n",
              "    .dataframe thead th {\n",
              "        text-align: right;\n",
              "    }\n",
              "</style>\n",
              "<table border=\"1\" class=\"dataframe\">\n",
              "  <thead>\n",
              "    <tr style=\"text-align: right;\">\n",
              "      <th></th>\n",
              "      <th>index</th>\n",
              "      <th>name</th>\n",
              "      <th>description</th>\n",
              "      <th>idioma</th>\n",
              "    </tr>\n",
              "  </thead>\n",
              "  <tbody>\n",
              "    <tr>\n",
              "      <th>0</th>\n",
              "      <td>0</td>\n",
              "      <td>Best Western Hôtel New York Nice</td>\n",
              "      <td>Located in Nice's city center, Best Western Ho...</td>\n",
              "      <td>en</td>\n",
              "    </tr>\n",
              "    <tr>\n",
              "      <th>1</th>\n",
              "      <td>1</td>\n",
              "      <td>Comfort Inn Hyde Park</td>\n",
              "      <td>In London's Bayswater district, the Comfort In...</td>\n",
              "      <td>en</td>\n",
              "    </tr>\n",
              "    <tr>\n",
              "      <th>2</th>\n",
              "      <td>2</td>\n",
              "      <td>Best Western Plus Dayton Hotel &amp; Suites</td>\n",
              "      <td>Breakfast is offered daily and rooms feature f...</td>\n",
              "      <td>en</td>\n",
              "    </tr>\n",
              "    <tr>\n",
              "      <th>3</th>\n",
              "      <td>3</td>\n",
              "      <td>The Elizabeth Hotel, Autograph Collection</td>\n",
              "      <td>The Elizabeth Hotel, Autograph Collection feat...</td>\n",
              "      <td>en</td>\n",
              "    </tr>\n",
              "    <tr>\n",
              "      <th>4</th>\n",
              "      <td>4</td>\n",
              "      <td>Grand Mercure Vila Olímpia</td>\n",
              "      <td>Localizado no coração de São Paulo, o Grand Me...</td>\n",
              "      <td>pt</td>\n",
              "    </tr>\n",
              "    <tr>\n",
              "      <th>...</th>\n",
              "      <td>...</td>\n",
              "      <td>...</td>\n",
              "      <td>...</td>\n",
              "      <td>...</td>\n",
              "    </tr>\n",
              "    <tr>\n",
              "      <th>295</th>\n",
              "      <td>295</td>\n",
              "      <td>Traditions at the Glen Resort and Hotel</td>\n",
              "      <td>Featuring an 18-hole golf course, this New Yor...</td>\n",
              "      <td>en</td>\n",
              "    </tr>\n",
              "    <tr>\n",
              "      <th>296</th>\n",
              "      <td>296</td>\n",
              "      <td>Restaurant Le Moschenross</td>\n",
              "      <td>Located in the center of Thann, Hôtel Restaura...</td>\n",
              "      <td>en</td>\n",
              "    </tr>\n",
              "    <tr>\n",
              "      <th>297</th>\n",
              "      <td>297</td>\n",
              "      <td>AmericInn Lodge &amp; Suites Mitchell</td>\n",
              "      <td>Serving a daily continental breakfast, this Mi...</td>\n",
              "      <td>en</td>\n",
              "    </tr>\n",
              "    <tr>\n",
              "      <th>298</th>\n",
              "      <td>298</td>\n",
              "      <td>Courtyard Dallas Arlington/Entertainment District</td>\n",
              "      <td>This hotel is located less than 15 minutes’ wa...</td>\n",
              "      <td>en</td>\n",
              "    </tr>\n",
              "    <tr>\n",
              "      <th>299</th>\n",
              "      <td>299</td>\n",
              "      <td>Island View Holiday Park</td>\n",
              "      <td>Set in a prime location of Opotiki, Island Vie...</td>\n",
              "      <td>en</td>\n",
              "    </tr>\n",
              "  </tbody>\n",
              "</table>\n",
              "<p>300 rows × 4 columns</p>\n",
              "</div>"
            ],
            "text/plain": [
              "     index                                               name  \\\n",
              "0        0                   Best Western Hôtel New York Nice   \n",
              "1        1                              Comfort Inn Hyde Park   \n",
              "2        2            Best Western Plus Dayton Hotel & Suites   \n",
              "3        3          The Elizabeth Hotel, Autograph Collection   \n",
              "4        4                         Grand Mercure Vila Olímpia   \n",
              "..     ...                                                ...   \n",
              "295    295            Traditions at the Glen Resort and Hotel   \n",
              "296    296                          Restaurant Le Moschenross   \n",
              "297    297                  AmericInn Lodge & Suites Mitchell   \n",
              "298    298  Courtyard Dallas Arlington/Entertainment District   \n",
              "299    299                           Island View Holiday Park   \n",
              "\n",
              "                                           description idioma  \n",
              "0    Located in Nice's city center, Best Western Ho...     en  \n",
              "1    In London's Bayswater district, the Comfort In...     en  \n",
              "2    Breakfast is offered daily and rooms feature f...     en  \n",
              "3    The Elizabeth Hotel, Autograph Collection feat...     en  \n",
              "4    Localizado no coração de São Paulo, o Grand Me...     pt  \n",
              "..                                                 ...    ...  \n",
              "295  Featuring an 18-hole golf course, this New Yor...     en  \n",
              "296  Located in the center of Thann, Hôtel Restaura...     en  \n",
              "297  Serving a daily continental breakfast, this Mi...     en  \n",
              "298  This hotel is located less than 15 minutes’ wa...     en  \n",
              "299  Set in a prime location of Opotiki, Island Vie...     en  \n",
              "\n",
              "[300 rows x 4 columns]"
            ]
          },
          "execution_count": 89,
          "metadata": {},
          "output_type": "execute_result"
        }
      ],
      "source": [
        "hotelUS = hotelUS[['name','description']]\n",
        "\n",
        "hotelUS['idioma'] = ''\n",
        "hotelUS.reset_index(inplace= True)\n",
        "\n",
        "for i in range(len(hotelUS['description'])):\n",
        "    description = str(hotelUS['description'][i])\n",
        "    if description.strip() and len(description) > 5:\n",
        "        hotelUS.at[i, 'idioma'] = langdetect.detect(description)\n",
        "    else:\n",
        "        hotelUS.at[i, 'idioma'] = 'Desconhecido'\n",
        "\n",
        "hotelUS"
      ]
    },
    {
      "cell_type": "code",
      "execution_count": null,
      "id": "d35ba768-ee68-41d7-8edc-77afbae75036",
      "metadata": {
        "id": "d35ba768-ee68-41d7-8edc-77afbae75036"
      },
      "outputs": [],
      "source": [
        "hotelUS= hotelUS[hotelUS['idioma']=='en']"
      ]
    },
    {
      "cell_type": "code",
      "execution_count": null,
      "id": "2c92ca0c-a881-4382-8f0e-d9b0a9ba0a63",
      "metadata": {
        "id": "2c92ca0c-a881-4382-8f0e-d9b0a9ba0a63",
        "outputId": "c585e897-4980-4f07-80e5-b884ac067951"
      },
      "outputs": [
        {
          "data": {
            "text/html": [
              "<div>\n",
              "<style scoped>\n",
              "    .dataframe tbody tr th:only-of-type {\n",
              "        vertical-align: middle;\n",
              "    }\n",
              "\n",
              "    .dataframe tbody tr th {\n",
              "        vertical-align: top;\n",
              "    }\n",
              "\n",
              "    .dataframe thead th {\n",
              "        text-align: right;\n",
              "    }\n",
              "</style>\n",
              "<table border=\"1\" class=\"dataframe\">\n",
              "  <thead>\n",
              "    <tr style=\"text-align: right;\">\n",
              "      <th></th>\n",
              "      <th>level_0</th>\n",
              "      <th>index</th>\n",
              "      <th>name</th>\n",
              "      <th>description</th>\n",
              "      <th>idioma</th>\n",
              "    </tr>\n",
              "  </thead>\n",
              "  <tbody>\n",
              "    <tr>\n",
              "      <th>0</th>\n",
              "      <td>0</td>\n",
              "      <td>0</td>\n",
              "      <td>Best Western Hôtel New York Nice</td>\n",
              "      <td>Located in Nice's city center, Best Western Ho...</td>\n",
              "      <td>en</td>\n",
              "    </tr>\n",
              "    <tr>\n",
              "      <th>1</th>\n",
              "      <td>1</td>\n",
              "      <td>1</td>\n",
              "      <td>Comfort Inn Hyde Park</td>\n",
              "      <td>In London's Bayswater district, the Comfort In...</td>\n",
              "      <td>en</td>\n",
              "    </tr>\n",
              "    <tr>\n",
              "      <th>2</th>\n",
              "      <td>2</td>\n",
              "      <td>2</td>\n",
              "      <td>Best Western Plus Dayton Hotel &amp; Suites</td>\n",
              "      <td>Breakfast is offered daily and rooms feature f...</td>\n",
              "      <td>en</td>\n",
              "    </tr>\n",
              "    <tr>\n",
              "      <th>3</th>\n",
              "      <td>3</td>\n",
              "      <td>3</td>\n",
              "      <td>The Elizabeth Hotel, Autograph Collection</td>\n",
              "      <td>The Elizabeth Hotel, Autograph Collection feat...</td>\n",
              "      <td>en</td>\n",
              "    </tr>\n",
              "    <tr>\n",
              "      <th>4</th>\n",
              "      <td>5</td>\n",
              "      <td>5</td>\n",
              "      <td>Bang Sarey Nordic Resort</td>\n",
              "      <td>Located in Sattahip, 15 miles from Eastern Sta...</td>\n",
              "      <td>en</td>\n",
              "    </tr>\n",
              "    <tr>\n",
              "      <th>...</th>\n",
              "      <td>...</td>\n",
              "      <td>...</td>\n",
              "      <td>...</td>\n",
              "      <td>...</td>\n",
              "      <td>...</td>\n",
              "    </tr>\n",
              "    <tr>\n",
              "      <th>245</th>\n",
              "      <td>295</td>\n",
              "      <td>295</td>\n",
              "      <td>Traditions at the Glen Resort and Hotel</td>\n",
              "      <td>Featuring an 18-hole golf course, this New Yor...</td>\n",
              "      <td>en</td>\n",
              "    </tr>\n",
              "    <tr>\n",
              "      <th>246</th>\n",
              "      <td>296</td>\n",
              "      <td>296</td>\n",
              "      <td>Restaurant Le Moschenross</td>\n",
              "      <td>Located in the center of Thann, Hôtel Restaura...</td>\n",
              "      <td>en</td>\n",
              "    </tr>\n",
              "    <tr>\n",
              "      <th>247</th>\n",
              "      <td>297</td>\n",
              "      <td>297</td>\n",
              "      <td>AmericInn Lodge &amp; Suites Mitchell</td>\n",
              "      <td>Serving a daily continental breakfast, this Mi...</td>\n",
              "      <td>en</td>\n",
              "    </tr>\n",
              "    <tr>\n",
              "      <th>248</th>\n",
              "      <td>298</td>\n",
              "      <td>298</td>\n",
              "      <td>Courtyard Dallas Arlington/Entertainment District</td>\n",
              "      <td>This hotel is located less than 15 minutes’ wa...</td>\n",
              "      <td>en</td>\n",
              "    </tr>\n",
              "    <tr>\n",
              "      <th>249</th>\n",
              "      <td>299</td>\n",
              "      <td>299</td>\n",
              "      <td>Island View Holiday Park</td>\n",
              "      <td>Set in a prime location of Opotiki, Island Vie...</td>\n",
              "      <td>en</td>\n",
              "    </tr>\n",
              "  </tbody>\n",
              "</table>\n",
              "<p>250 rows × 5 columns</p>\n",
              "</div>"
            ],
            "text/plain": [
              "     level_0  index                                               name  \\\n",
              "0          0      0                   Best Western Hôtel New York Nice   \n",
              "1          1      1                              Comfort Inn Hyde Park   \n",
              "2          2      2            Best Western Plus Dayton Hotel & Suites   \n",
              "3          3      3          The Elizabeth Hotel, Autograph Collection   \n",
              "4          5      5                           Bang Sarey Nordic Resort   \n",
              "..       ...    ...                                                ...   \n",
              "245      295    295            Traditions at the Glen Resort and Hotel   \n",
              "246      296    296                          Restaurant Le Moschenross   \n",
              "247      297    297                  AmericInn Lodge & Suites Mitchell   \n",
              "248      298    298  Courtyard Dallas Arlington/Entertainment District   \n",
              "249      299    299                           Island View Holiday Park   \n",
              "\n",
              "                                           description idioma  \n",
              "0    Located in Nice's city center, Best Western Ho...     en  \n",
              "1    In London's Bayswater district, the Comfort In...     en  \n",
              "2    Breakfast is offered daily and rooms feature f...     en  \n",
              "3    The Elizabeth Hotel, Autograph Collection feat...     en  \n",
              "4    Located in Sattahip, 15 miles from Eastern Sta...     en  \n",
              "..                                                 ...    ...  \n",
              "245  Featuring an 18-hole golf course, this New Yor...     en  \n",
              "246  Located in the center of Thann, Hôtel Restaura...     en  \n",
              "247  Serving a daily continental breakfast, this Mi...     en  \n",
              "248  This hotel is located less than 15 minutes’ wa...     en  \n",
              "249  Set in a prime location of Opotiki, Island Vie...     en  \n",
              "\n",
              "[250 rows x 5 columns]"
            ]
          },
          "execution_count": 91,
          "metadata": {},
          "output_type": "execute_result"
        }
      ],
      "source": [
        "hotelUS.reset_index(inplace= True)\n",
        "hotelUS"
      ]
    },
    {
      "cell_type": "code",
      "execution_count": null,
      "id": "c05ea75c-dd4b-4b65-8b5e-b4d9b695e56e",
      "metadata": {
        "id": "c05ea75c-dd4b-4b65-8b5e-b4d9b695e56e",
        "outputId": "a80fa273-20fc-4d1a-dfa0-2b41e8b71745"
      },
      "outputs": [
        {
          "data": {
            "text/html": [
              "<div>\n",
              "<style scoped>\n",
              "    .dataframe tbody tr th:only-of-type {\n",
              "        vertical-align: middle;\n",
              "    }\n",
              "\n",
              "    .dataframe tbody tr th {\n",
              "        vertical-align: top;\n",
              "    }\n",
              "\n",
              "    .dataframe thead th {\n",
              "        text-align: right;\n",
              "    }\n",
              "</style>\n",
              "<table border=\"1\" class=\"dataframe\">\n",
              "  <thead>\n",
              "    <tr style=\"text-align: right;\">\n",
              "      <th></th>\n",
              "      <th>level_0</th>\n",
              "      <th>index</th>\n",
              "    </tr>\n",
              "  </thead>\n",
              "  <tbody>\n",
              "    <tr>\n",
              "      <th>count</th>\n",
              "      <td>250.000000</td>\n",
              "      <td>250.000000</td>\n",
              "    </tr>\n",
              "    <tr>\n",
              "      <th>mean</th>\n",
              "      <td>152.392000</td>\n",
              "      <td>152.392000</td>\n",
              "    </tr>\n",
              "    <tr>\n",
              "      <th>std</th>\n",
              "      <td>87.175804</td>\n",
              "      <td>87.175804</td>\n",
              "    </tr>\n",
              "    <tr>\n",
              "      <th>min</th>\n",
              "      <td>0.000000</td>\n",
              "      <td>0.000000</td>\n",
              "    </tr>\n",
              "    <tr>\n",
              "      <th>25%</th>\n",
              "      <td>76.500000</td>\n",
              "      <td>76.500000</td>\n",
              "    </tr>\n",
              "    <tr>\n",
              "      <th>50%</th>\n",
              "      <td>151.500000</td>\n",
              "      <td>151.500000</td>\n",
              "    </tr>\n",
              "    <tr>\n",
              "      <th>75%</th>\n",
              "      <td>229.500000</td>\n",
              "      <td>229.500000</td>\n",
              "    </tr>\n",
              "    <tr>\n",
              "      <th>max</th>\n",
              "      <td>299.000000</td>\n",
              "      <td>299.000000</td>\n",
              "    </tr>\n",
              "  </tbody>\n",
              "</table>\n",
              "</div>"
            ],
            "text/plain": [
              "          level_0       index\n",
              "count  250.000000  250.000000\n",
              "mean   152.392000  152.392000\n",
              "std     87.175804   87.175804\n",
              "min      0.000000    0.000000\n",
              "25%     76.500000   76.500000\n",
              "50%    151.500000  151.500000\n",
              "75%    229.500000  229.500000\n",
              "max    299.000000  299.000000"
            ]
          },
          "execution_count": 93,
          "metadata": {},
          "output_type": "execute_result"
        }
      ],
      "source": [
        "all_descriptionsUS = list(hotelUS['description'].values)\n",
        "\n",
        "hotelUS.describe()"
      ]
    },
    {
      "cell_type": "code",
      "execution_count": null,
      "id": "b7c1a1c4-3835-45c0-bc85-334d21d1439a",
      "metadata": {
        "id": "b7c1a1c4-3835-45c0-bc85-334d21d1439a",
        "outputId": "1588a13b-c1df-4431-a800-ad7c00503cbc"
      },
      "outputs": [
        {
          "data": {
            "text/plain": [
              "[\"Located in Nice's city center, Best Western Hotel Lakmi Nice is located on Avenue Jean Medecin, Nice's main shopping street which leads to Place Massena. It is next to Nice Etoile Shopping Center and is just 1969 feet from Nice- Ville Train Station. Each spacious air-conditioned guest room has a flat- screen TV and a private bathroom fitted with a hairdryer. Some of the soundproofed rooms feature wrought iron furniture and some rooms offer a balcony. WiFi access is available throughout the hotel. A buffet breakfast is served every morning in the breakfast room at the Best Western Hotel Lakmi Nice. Newspapers are available for guests and there is also a bar on site. The Promenade des Anglais is a 13-minute walk from the hotel and Vieux Nice, the historic district, is a 15-minute walk away. Six private parking spaces are available on site at an additional cost, which cannot be booked in advance. ((* Sorry, this information is not available in the selected language and is shown in EN).\"]"
            ]
          },
          "execution_count": 94,
          "metadata": {},
          "output_type": "execute_result"
        }
      ],
      "source": [
        "corpusUS = [x for x in all_descriptionsUS]\n",
        "corpusUS[:1]"
      ]
    },
    {
      "cell_type": "code",
      "execution_count": null,
      "id": "fbfbae1d-7707-47b7-9b66-572ef045da1b",
      "metadata": {
        "id": "fbfbae1d-7707-47b7-9b66-572ef045da1b"
      },
      "outputs": [],
      "source": [
        "tUS = Tokenizer(num_words=None, filters='!\"#$%&()*+,-./:;<=>?@[\\\\]^_`{|}~\\t\\n', lower=True, split=' ', char_level=False, oov_token=None, document_count=0)\n",
        "tUS.fit_on_texts(corpusUS)"
      ]
    },
    {
      "cell_type": "code",
      "execution_count": null,
      "id": "1e2719de-3ffb-40e1-b5c5-994c0b8fcd01",
      "metadata": {
        "collapsed": true,
        "jupyter": {
          "outputs_hidden": true
        },
        "tags": [],
        "id": "1e2719de-3ffb-40e1-b5c5-994c0b8fcd01",
        "outputId": "0797368c-ef3c-424f-be52-4ba887431601"
      },
      "outputs": [
        {
          "name": "stdout",
          "output_type": "stream",
          "text": [
            "OrderedDict([('located', 176), ('in', 1022), (\"nice's\", 2), ('city', 72), ('center', 207), ('best', 32), ('western', 25), ('hotel', 512), ('lakmi', 2), ('nice', 5), ('is', 1305), ('on', 179), ('avenue', 2), ('jean', 1), ('medecin', 1), ('main', 11), ('shopping', 45), ('street', 16), ('which', 38), ('leads', 1), ('to', 296), ('place', 22), ('massena', 1), ('it', 59), ('next', 6), ('etoile', 1), ('and', 1743), ('just', 82), ('1969', 2), ('feet', 46), ('from', 418), ('ville', 1), ('train', 19), ('station', 48), ('each', 79), ('spacious', 29), ('air', 84), ('conditioned', 46), ('guest', 71), ('room', 159), ('has', 84), ('a', 1277), ('flat', 91), ('screen', 94), ('tv', 134), ('private', 110), ('bathroom', 63), ('fitted', 17), ('with', 441), ('hairdryer', 32), ('some', 47), ('of', 486), ('the', 1781), ('soundproofed', 3), ('rooms', 292), ('feature', 40), ('wrought', 1), ('iron', 5), ('furniture', 4), ('offer', 41), ('balcony', 21), ('wifi', 65), ('access', 122), ('available', 412), ('throughout', 21), ('buffet', 38), ('breakfast', 147), ('served', 41), ('every', 51), ('morning', 26), ('at', 369), ('newspapers', 15), ('are', 313), ('for', 188), ('guests', 204), ('there', 26), ('also', 150), ('bar', 102), ('site', 85), ('promenade', 2), ('des', 7), ('anglais', 1), ('13', 11), ('minute', 106), ('walk', 88), ('vieux', 2), ('historic', 23), ('district', 26), ('15', 41), ('away', 143), ('six', 6), ('parking', 85), ('spaces', 3), ('an', 172), ('additional', 21), ('cost', 6), ('cannot', 2), ('be', 84), ('booked', 4), ('advance', 2), ('sorry', 248), ('this', 450), ('information', 255), ('not', 253), ('selected', 255), ('language', 249), ('shown', 248), ('en', 250), (\"london's\", 1), ('bayswater', 1), ('comfort', 38), ('inn', 128), ('hyde', 4), ('park', 98), ('within', 87), ('215', 1), ('yards', 5), ('both', 15), ('queensway', 1), ('underground', 7), ('leafy', 1), ('free', 299), ('wi', 76), ('fi', 75), ('30', 14), ('madame', 2), ('tussauds', 2), ('20', 29), ('ride', 12), (\"earl's\", 4), ('court', 10), ('modern', 43), ('features', 101), ('hd', 2), ('work', 33), ('desk', 88), ('safe', 18), ('tea', 31), ('coffee', 84), ('making', 22), ('facilities', 124), ('shower', 30), ('have', 62), ('mornings', 2), ('traditional', 10), ('continental', 34), ('breakfasts', 4), ('fresh', 17), ('croissants', 1), ('fruit', 8), ('selection', 9), ('cereals', 2), ('lunch', 18), ('evening', 9), ('meals', 18), ('wide', 5), ('range', 14), ('restaurants', 41), ('bars', 13), ('can', 182), ('found', 6), (\"hotel's\", 16), ('doorstep', 6), ('paddington', 1), ('10', 54), ('reach', 5), ('royal', 15), ('albert', 1), ('hall', 5), ('after', 10), ('along', 12), ('famous', 5), ('oxford', 2), ('lively', 3), ('west', 18), ('end', 3), ('couple', 1), ('stops', 2), ('offered', 26), ('daily', 52), ('indoor', 49), ('pool', 129), ('hot', 47), ('tub', 30), ('relaxation', 1), ('lewis', 1), ('clark', 2), ('trail', 5), ('state', 23), ('9', 36), ('5', 75), ('miles', 143), ('satellite', 25), ('plus', 12), ('dayton', 7), ('microwave', 37), ('small', 12), ('fridge', 22), ('included', 28), ('cereal', 4), ('pastries', 3), ('eggs', 4), ('meats', 1), ('various', 8), ('juices', 4), ('fitness', 62), ('business', 95), ('use', 27), ('barbecue', 7), ('24', 84), ('hour', 76), ('front', 42), ('provided', 74), ('unique', 8), ('locally', 1), ('owned', 1), ('short', 16), ('blue', 2), ('mountain', 6), ('skiing', 4), ('25', 8), ('village', 10), ('shoppes', 1), ('minutes’', 30), ('property', 116), ('ski', 5), ('bluewood', 1), ('minutes', 62), ('elizabeth', 2), ('autograph', 2), ('collection', 12), ('terrace', 46), ('restaurant', 102), ('fort', 12), ('collins', 1), ('among', 3), ('service', 81), ('provides', 36), ('entertainment', 37), ('atm', 3), ('à', 4), ('la', 43), ('carte', 7), ('american', 20), ('options', 18), ('colorado', 1), ('university', 38), ('1', 73), ('2', 79), ('while', 44), ('hughes', 1), ('stadium', 17), ('nearest', 22), ('airport', 144), ('cheyenne', 1), ('regional', 13), ('46', 1), ('accommodation', 22), ('sattahip', 1), ('eastern', 2), ('star', 36), ('golf', 43), ('course', 18), ('nordic', 3), ('tropical', 9), ('resort', 42), ('accommodations', 31), ('outdoor', 73), ('swimming', 36), ('garden', 43), ('around', 13), ('18', 9), ('emerald', 1), ('3', 71), ('8', 49), ('cartoon', 1), ('network', 1), ('amazone', 1), ('water', 23), ('enjoy', 101), ('pizza', 3), ('seafood', 5), ('dishes', 21), ('or', 108), ('drink', 19), ('equipped', 56), ('conditioning', 32), ('seating', 24), ('area', 104), ('cable', 79), ('channels', 26), ('kitchen', 21), ('dining', 51), ('safety', 8), ('deposit', 10), ('box', 11), ('toiletries', 26), ('electric', 4), ('pot', 1), ('contain', 4), ('others', 3), ('views', 35), ('includes', 22), ('bed', 27), ('linen', 8), ('towels', 12), ('you', 90), ('play', 6), ('ping', 1), ('pong', 1), ('popular', 13), ('hiking', 11), ('cycling', 8), ('nong', 1), ('nooch', 1), ('botanical', 2), ('4', 67), ('ramayana', 1), ('6', 44), ('u', 4), ('tapao', 1), ('rayong', 1), ('pattaya', 1), ('international', 61), ('12', 16), ('offers', 174), ('paid', 3), ('shuttle', 34), ('recreation', 9), ('amenities', 105), ('such', 20), ('as', 111), ('take', 26), ('view', 18), ('hostel', 2), ('complimentary', 108), ('wireless', 59), ('internet', 76), ('tour', 11), ('ticket', 8), ('assistance', 7), ('selina', 3), ('quito', 5), ('satisfying', 6), ('meal', 9), ('quench', 6), ('your', 76), ('thirst', 6), ('favorite', 8), ('lounge', 40), ('local', 40), ('cuisine', 26), ('7', 44), ('00', 16), ('am', 18), ('fee', 8), ('featured', 30), ('include', 130), ('multilingual', 5), ('staff', 21), ('luggage', 13), ('storage', 13), ('roundtrip', 7), ('surcharge', 15), ('hours', 13), ('make', 45), ('yourself', 22), ('home', 32), ('one', 56), ('62', 1), ('guestrooms', 29), ('keep', 5), ('connected', 20), ('bathrooms', 28), ('showers', 12), ('rainfall', 1), ('showerheads', 1), ('distances', 1), ('displayed', 1), ('0', 41), ('mile', 16), ('kilometer', 1), ('gabriela', 1), ('mistral', 1), ('square', 26), ('km', 48), ('mi', 121), ('foch', 3), ('mindalae', 1), ('museum', 44), ('centro', 1), ('comercial', 1), ('multicentro', 1), ('carolina', 10), ('trude', 1), ('sojka', 1), ('cultural', 4), ('house', 35), ('mariscal', 2), ('craft', 4), ('market', 7), ('basílica', 1), ('national', 14), ('vow', 2), ('patio', 6), ('de', 15), ('comedias', 1), ('theater', 8), ('polytechnic', 1), ('school', 2), ('ecuador', 2), ('central', 19), ('bank', 4), ('pontifical', 1), ('catholic', 2), ('pontificia', 1), ('educador', 1), ('ecuadorian', 1), ('culture', 1), ('teatro', 1), ('el', 13), ('agora', 1), ('preferred', 1), ('uio', 1), ('sucre', 1), ('intl', 1), ('35', 7), ('21', 3), ('stay', 66), (\"you'll\", 18), ('centrally', 9), ('11', 20), ('by', 81), ('foot', 4), ('basilica', 2), ('atahualpa', 1), ('olympic', 3), ('near', 24), ('miamisburg', 3), ('26', 3), ('kings', 3), ('island', 20), ('staybridge', 6), ('suites', 73), ('ihg', 3), ('shaker', 1), ('run', 5), ('club', 31), ('convention', 16), ('benjamin', 1), ('marian', 1), ('schuster', 1), ('performing', 2), ('arts', 4), ('motor', 2), ('car', 18), ('company', 1), ('14', 7), ('walden', 1), ('ponds', 1), ('contemporary', 10), ('riverscape', 1), ('james', 2), ('m', 2), ('cox', 1), ('our', 22), ('southern', 5), ('style', 17), ('right', 7), ('across', 6), ('georgia', 4), ('locations', 2), ('town', 22), ('who', 3), ('stays', 7), ('us', 5), ('their', 23), ('moment', 1), ('will', 65), ('treated', 1), ('like', 16), ('family', 16), ('member', 2), ('we', 8), ('many', 20), ('attractive', 3), ('nearby', 33), ('gsu', 1), ('campus', 2), ('library', 7), ('wildlife', 2), ('education', 1), ('ogeechee', 1), ('technical', 2), ('college', 7), ('newly', 2), ('opened', 4), ('aquatic', 1), ('splash', 3), ('boro', 1), ('those', 4), ('day', 27), ('trips', 2), ('trip', 1), ('savannah', 1), ('beaches', 5), ('tybee', 1), ('simple', 4), ('south', 20), ('wonderful', 4), ('more', 12), ('than', 21), ('imagine', 1), ('whenever', 1), ('travel', 4), ('discover', 6), ('true', 1), ('seattle', 6), ('experience', 6), ('marriott', 9), ('waterfront', 9), ('when', 9), ('lakeview', 1), ('signature', 4), ('calgary', 3), ('drive', 91), ('peter', 1), ('lougheed', 1), ('centre', 9), ('sunridge', 1), ('mall', 29), ('eco', 2), ('friendly', 19), ('stampede', 1), ('scotiabank', 1), ('saddledome', 1), ('120', 1), ('featuring', 48), ('kitchens', 5), ('full', 28), ('sized', 2), ('refrigerators', 17), ('freezers', 2), ('microwaves', 13), ('wired', 15), ('dvd', 8), ('players', 5), ('programming', 15), ('provide', 22), ('conveniences', 18), ('makers', 14), ('well', 57), ('phones', 6), ('calls', 14), (\"don't\", 1), ('miss', 3), ('out', 27), ('recreational', 17), ('opportunities', 12), ('including', 47), ('spa', 42), ('tennis', 18), ('fireplace', 8), ('lobby', 31), ('catch', 4), ('operates', 1), ('kilometers', 1), ('weekdays', 4), ('weekends', 2), ('planning', 3), ('event', 5), ('1350', 1), ('125', 1), ('meters', 4), ('space', 7), ('consisting', 1), ('conference', 13), ('meeting', 20), ('during', 16), ('limited', 11), ('camden', 4), ('closet', 3), ('minigolf', 1), ('arkansas', 1), ('goodwin', 1), ('field', 4), ('prague', 6), ('between', 7), ('vltava', 1), ('river', 7), ('petřínské', 1), ('sady', 1), ('apartments', 17), ('set', 23), ('building', 10), ('stylishly', 1), ('decorated', 24), ('all', 139), ('self', 18), ('catered', 1), ('units', 16), ('come', 22), ('kitchenette', 6), ('kettle', 3), ('toaster', 1), ('apartment', 6), ('consists', 2), ('bathtub', 8), ('cleaning', 8), ('made', 3), ('comes', 15), ('arrangements', 2), ('upon', 11), ('request', 12), ('organized', 2), ('enjoys', 4), ('easy', 25), ('malostranská', 1), ('3117', 1), ('petřín', 1), ('tower', 12), ('called', 1), ('eiffel', 1), ('2953', 4), ('castle', 6), ('old', 12), ('numerous', 3), ('pubs', 3), ('shops', 8), ('reachable', 2), ('tram', 3), ('stop', 8), ('ujezd', 1), ('656', 6), ('soltigua', 3), ('apart', 2), ('quiet', 10), ('residential', 4), ('mendoza', 1), ('walking', 15), ('distance', 20), ('seasonal', 15), ('sun', 13), ('bbq', 3), ('choice', 19), ('bedding', 3), ('ups', 3), ('they', 19), ('drinks', 22), ('enjoyed', 12), ('covered', 1), ('extra', 12), ('excursions', 1), ('wineries', 2), ('secure', 1), ('shuttles', 1), ('gabrielli', 1), ('being', 2), ('top', 6), ('mind', 1), ('branded', 1), ('hotels', 8), ('may', 10), ('variety', 26), ('new', 22), ('improved', 1), ('cleanliness', 1), ('protocols', 1), ('products', 3), ('let', 1), ('smoke', 3), ('suburban', 1), ('studios', 5), ('donaldsonville', 2), ('gonzales', 1), ('help', 6), ('confidence', 1), ('save', 1), ('money', 2), ('longer', 4), ('houmas', 1), ('plantation', 6), ('oak', 3), ('alley', 3), ('tanger', 4), ('outlet', 5), ('st', 15), ('joseph', 1), ('sunshine', 2), ('casino', 14), ('san', 21), ('francisco', 4), ('copy', 11), ('fax', 12), ('services', 50), ('that', 37), ('part', 5), ('burner', 1), ('cook', 2), ('tops', 1), ('cooking', 2), ('utensils', 2), ('earn', 1), ('rewards', 2), ('privileges', 1), ('program', 2), ('porto', 6), ('da', 10), ('ilha', 5), ('stylish', 11), ('heart', 9), ('florianópolis', 2), ('2625', 7), ('bus', 7), ('beiramar', 1), ('close', 29), ('major', 6), ('commercial', 3), ('financial', 4), ('valet', 3), ('mini', 23), ('toilet', 2), ('extras', 4), ('other', 35), ('arranged', 4), ('guest´s', 1), ('convenience', 20), ('entry', 1), ('weight', 2), ('training', 2), ('beyond', 3), ('gym', 26), ('1312', 1), ('premises', 4), ('hercílio', 1), ('luz', 1), ('100', 7), ('non', 13), ('smoking', 11), ('quality', 9), ('gods', 1), ('off', 23), ('interstate', 20), ('heated', 9), ('own', 7), ('belgian', 1), ('waffle', 2), ('cold', 4), ('muffins', 2), ('hair', 17), ('dryers', 13), ('irons', 9), ('ironing', 26), ('boards', 9), ('lcd', 13), ('tvs', 9), ('premium', 19), ('movie', 6), ('two', 5), ('suitable', 1), ('families', 4), ('laundry', 30), ('added', 2), ('conveniently', 12), ('less', 19), ('andrews', 1), ('force', 3), ('base', 7), ('camp', 1), ('springs', 5), ('maryland', 1), ('attractions', 23), ('washington', 11), ('d', 3), ('c', 3), ('only', 27), ('holiday', 20), ('express', 25), ('sightseeing', 4), ('go', 14), ('swim', 13), ('branch', 1), ('metro', 16), ('areas', 24), ('clarion', 2), ('pointe', 2), ('wake', 4), ('forest', 3), ('–', 13), ('raleigh', 5), ('north', 17), ('route', 4), ('downtown', 37), ('southeastern', 2), ('baptist', 1), ('theological', 1), ('seminary', 1), ('factory', 1), ('ice', 4), ('soccerplex', 1), ('four', 4), ('durham', 1), ('triangle', 1), ('visitors', 3), ('boating', 3), ('fishing', 7), ('falls', 6), ('lake', 13), ('several', 11), ('courses', 5), ('antique', 1), ('specialty', 3), ('cocktail', 11), ('lounges', 6), ('surrounding', 10), ('museums', 6), ('sports', 16), ('arenas', 2), ('wral', 1), ('soccer', 2), ('complex', 9), ('businesses', 4), ('corporations', 3), ('flextronics', 1), ('powersecure', 1), ('novozymes', 1), ('emergency', 1), ('equipment', 3), ('centurylink', 1), ('inc', 1), ('corporate', 4), ('chaplains', 1), ('america', 8), ('weekday', 4), ('newspaper', 6), ('exercise', 4), ('travelers', 14), ('appreciate', 8), ('high', 21), ('speed', 10), ('voice', 3), ('mail', 3), ('32', 5), ('inch', 11), ('televisions', 16), ('definition', 2), ('hbo', 8), ('phillips', 1), ('generator', 4), ('dc', 4), ('shared', 7), ('find', 26), ('serving', 10), ('vegetarian', 1), ('vegan', 1), ('dairy', 1), ('requested', 5), ('bike', 3), ('rental', 6), ('white', 7), ('vietnam', 1), ('veterans', 1), ('memorial', 3), ('ronald', 1), ('reagan', 1), ('ottawa', 3), ('municipal', 7), ('auditorium', 2), ('midland', 5), ('railway', 5), ('heritage', 1), ('baker', 1), ('kansas', 3), ('points', 5), ('interest', 4), ('prairie', 1), ('spirit', 3), ('rail', 2), ('shadeland', 1), ('stock', 2), ('farm', 3), ('buffalo', 4), ('ranch', 3), ('about', 3), ('five', 8), ('desks', 6), ('recliners', 1), ('television', 18), ('nintendo', 1), ('game', 8), ('systems', 1), ('charges', 4), ('apply', 2), ('addition', 7), ('whirlpool', 4), ('bathtubs', 4), ('nonsmoking', 7), ('500', 2), ('metres', 4), ('pebbly', 1), ('beach', 64), ('baska', 2), ('voda', 2), ('guesthouse', 3), ('civljak', 2), ('here', 3), ('fully', 16), ('furnished', 16), (\"guests'\", 7), ('disposal', 1), ('most', 14), ('nicholas', 1), ('church', 4), ('400', 1), ('reached', 8), ('split', 3), ('65', 2), ('welcome', 12), ('orlando', 5), ('buena', 3), ('vista', 7), ('florida', 6), ('first', 6), ('class', 5), ('walt', 3), ('disney', 5), ('world', 8), ('good', 12), ('neighbor', 1), ('entrance', 7), ('scheduled', 2), ('theme', 7), ('parks', 7), ('blues', 1), ('nightlife', 2), ('epcot', 1), ('sea', 16), ('universal', 2), ('millennia', 1), ('ideal', 8), ('children', 10), ('adults', 6), ('so', 5), ('start', 8), ('great', 33), ('natural', 5), ('slide', 1), (\"lot's\", 1), ('95', 4), ('taxes', 5), ('charged', 4), ('sheduled', 1), ('transportation', 6), ('world®', 1), ('seaworld', 4), ('unlimited', 3), ('phone', 3), ('arlington', 10), ('texas', 11), ('dallas', 4), ('sheraton', 8), ('dine', 6), ('parkside', 2), ('grille', 2), ('southwestern', 2), ('appetizers', 1), ('get', 8), ('snack', 7), ('maker', 19), ('flags', 5), ('over', 14), ('amusement', 3), ('copernicus', 3), ('toruń', 5), ('shore', 1), ('wisła', 1), ('picturesque', 4), ('planty', 1), ('1640', 1), ('600', 2), ('yard', 2), ('leaning', 1), ('2297', 3), ('original', 2), ('wellness', 9), ('panorama', 2), ('vistula', 1), ('marble', 2), ('elements', 2), ('boast', 1), ('bowling', 3), ('nightclub', 2), ('created', 1), ('chef', 2), ('hairdressing', 1), ('salon', 1), ('surrounded', 12), ('number', 7), ('important', 1), ('sights', 4), ('miasto', 1), ('federal', 1), ('golden', 1), ('gate', 1), ('theatre', 6), ('warfield', 1), ('united', 1), ('nations', 1), ('plaza', 12), ('orpheum', 1), ('clock', 8), ('chiang', 3), ('rai', 4), ('nai', 2), ('suan', 2), ('unit', 2), ('bicycle', 6), ('saturday', 7), ('night', 10), ('wat', 1), ('pra', 1), ('sing', 1), ('mae', 1), ('fah', 1), ('luang', 1), ('casa', 6), ('agustin', 3), ('cartagena', 1), ('indias', 1), ('colonial', 4), ('ipod', 6), ('docking', 6), ('internal', 2), ('overlook', 2), (\"city's\", 3), ('streets', 2), ('luxury', 5), ('linens', 2), ('relax', 26), ('solarium', 2), ('massage', 11), ('sessions', 2), ('rentals', 2), ('santo', 1), ('domingo', 1), ('diego', 4), ('bocagrande', 1), ('castillo', 1), ('grande', 5), ('rosario', 1), ('islands', 2), ('50', 4), ('boat', 1), ('rafael', 1), ('nuñez', 1), ('possible', 4), ('location', 32), ('reservation', 2), ('needed', 1), ('pet', 8), ('houston', 12), ('refreshing', 9), ('highway', 7), ('290', 1), ('medical', 5), ('simply', 11), ('styled', 3), ('red', 9), ('roof', 7), ('activity', 6), ('table', 8), ('chairs', 5), ('refreshment', 1), ('refrigerator', 29), ('satisfy', 2), ('hunger', 1), ('purchases', 1), ('shop', 15), ('vending', 9), ('machines', 8), ('launderette', 4), ('accessible', 4), ('needs', 9), ('reliant', 1), ('brookhollow', 1), ('port', 8), ('authority', 1), ('coleridge', 1), ('valletta', 1), ('manoel', 1), ('mediterranean', 6), ('proximity', 13), ('george', 6), (\"paul's\", 1), ('anglican', 1), ('minibar', 2), ('items', 5), ('keeps', 13), ('bidets', 2), ('safes', 7), ('housekeeping', 10), ('treat', 1), ('massages', 7), ('facials', 5), ('concierge', 15), ('mingle', 3), ('reception', 20), ('held', 3), ('common', 7), ('dulles', 2), ('crowne', 1), ('clear', 2), ('standout', 1), ('offering', 14), ('graham', 3), ('outlets', 4), ('venues', 3), ('machine', 8), ('sofa', 13), ('alamance', 2), ('community', 5), ('battleground', 1), ('80', 2), ('parsippany', 1), ('morristown', 1), ('offices', 1), ('merrill', 1), ('lynch', 1), ('mercedes', 1), ('benz', 1), ('complete', 9), ('stove', 2), ('prepackaged', 1), ('muffin', 1), ('danish', 1), ('granola', 1), ('whole', 1), ('piece', 1), ('bottle', 1), ('supplied', 1), ('sonesta', 1), ('es', 1), ('staying', 5), ('rockaway', 1), ('willowbrook', 1), ('intestate', 1), ('75', 3), ('franklin', 2), ('ohio', 4), ('motel', 28), ('vinyl', 1), ('flooring', 2), ('17', 9), ('cincinnati', 1), ('koh', 1), ('samui', 3), ('bangkok', 3), ('hospital', 5), ('phetch', 1), ('buncha', 1), ('thai', 2), ('boxing', 2), ('chaweng', 1), ('festival', 1), ('where', 9), ('body', 4), ('treatments', 7), ('soak', 3), ('up', 20), ('steam', 6), ('babysitting', 4), ('childcare', 3), ('destinations', 2), ('single', 3), ('fin', 3), ('lodge', 12), ('984', 2), ('mimizan', 2), ('plage', 1), ('overlooks', 1), ('current', 1), ('tnt', 1), ('sunbathe', 1), ('aureilhan', 1), ('biarritz', 1), ('bordeaux', 2), ('countryside', 3), ('hill', 10), ('health', 7), ('fairfield', 4), ('i', 6), ('85', 2), ('suite', 9), ('media', 1), ('cd', 1), ('player', 6), ('serves', 36), ('dinner', 21), ('delivery', 1), ('situated', 10), ('country', 9), ('leisure', 8), ('activities', 22), ('volleyball', 4), ('beachfront', 4), (\"peloponnese's\", 1), ('stunning', 7), ('coast', 10), ('its', 15), ('courts', 9), ('elegant', 11), ('attended', 1), ('gardens', 9), ('corinthian', 1), ('gulf', 2), ('architecture', 2), ('combined', 1), ('minimal', 1), ('lines', 1), ('sets', 1), ('décor', 10), ('long', 9), ('music', 9), ('check', 17), ('guests’', 1), ('hospitality', 4), ('secretarial', 1), ('lb', 3), ('gastronomic', 1), ('accompanied', 2), ('wines', 3), ('labels', 1), ('seaside', 1), ('greek', 2), ('proposes', 1), ('hotel’s', 8), ('canoe', 1), ('windsurfing', 1), ('scuba', 2), ('diving', 5), ('vary', 1), ('basketball', 1), ('ormond', 1), ('road', 1), ('a1a', 1), ('travelodge', 5), ('lauderdale', 7), ('galleria', 1), ('bath', 17), ('las', 5), ('olas', 1), ('boulevard', 2), ('art', 23), ('hollywood', 2), ('h3', 14), ('sovereign', 1), ('harbour', 2), ('eastbourne', 7), ('borough', 1), ('council', 7), ('900', 1), ('london', 12), ('gatwick', 6), ('33', 3), ('favourite', 1), ('according', 3), ('independent', 1), ('reviews', 1), ('standard', 13), ('rate', 3), ('cancel', 3), ('charge', 10), ('until', 9), ('days', 17), ('before', 3), ('arrival', 2), ('total', 4), ('price', 2), ('if', 7), ('purchase', 1), ('booking', 1), ('refundable', 1), ('amendable', 1), ('even', 3), ('any', 2), ('time', 7), ('min', 11), ('pier', 3), ('congress', 1), ('bandstand', 1), ('lawns', 1), ('devonshire', 1), ('lawn', 2), ('redoubt', 1), ('fortress', 2), ('military', 2), ('treasure', 2), ('princes', 1), ('31', 3), ('beachy', 1), ('head', 2), ('hamilton', 8), ('boldly', 1), ('colored', 2), ('weights', 1), ('cardio', 3), ('personal', 2), ('sheraton’s', 1), ('deck', 3), ('center’s', 2), (\"chagall's\", 1), ('snacks', 13), ('loft', 2), ('gallery', 5), ('chedoke', 1), ('civic', 1), ('90', 2), ('billings', 4), ('montana', 2), ('yellowstone', 3), ('comfortable', 22), ('laundromat', 2), ('yegen', 1), ('pompeys', 1), ('pillar', 1), ('36', 1), ('little', 2), ('bighorn', 1), ('battlefield', 2), ('monument', 1), ('68', 1), ('escape', 2), ('splashwater', 1), ('kingdom', 1), (\"minutes'\", 19), ('traditionally', 2), (\"nordick's\", 2), (\"porreca's\", 1), ('wine', 9), ('list', 7), ('poolside', 6), ('fun', 5), ('spot', 2), ('glen', 2), ('brookshire', 3), ('katy', 2), ('mills', 4), ('grab', 11), ('super', 14), ('ridge', 5), ('bush', 1), ('arrowhead', 1), ('chiefs', 1), ('baseball', 1), ('team', 1), ('independence', 5), ('missouri', 1), ('coffeemakers', 1), ('adjacent', 7), ('driving', 3), ('explore', 6), ('truman', 1), ('adams', 1), ('point', 6), ('do', 3), ('hampton', 10), ('bridgeville', 2), ('beverages', 7), ('dunkin', 1), ('guys', 1), ('blaza', 1), ('watch', 2), ('jackalope', 1), ('burghs', 1), ('wings', 1), (\"beez's\", 1), ('cafe', 6), ('bella', 1), ('bean', 1), ('roadhouse', 1), ('topgolf', 1), ('pittsburgh', 1), ('southpointe', 1), ('rivers', 1), ('racetrack', 1), ('fairview', 1), ('woodville', 1), ('flight', 2), ('trampoline', 1), ('orient', 1), ('disabled', 3), ('purpose', 1), ('built', 4), ('dominated', 1), ('glass', 3), ('three', 9), ('storeys', 2), ('remarkable', 1), ('looks', 2), ('ahead', 1), ('relation', 1), ('buildings', 5), ('sporting', 1), ('sparkling', 1), ('particularly', 1), ('bright', 7), ('seconds', 1), ('northern', 1), ('illinois', 3), ('dekalb', 3), ('thoughtful', 5), ('egyptian', 1), ('ellwood', 1), ('centers', 4), ('comforts', 3), ('chattanooga', 4), ('tennessee', 3), ('sites', 6), ('finley', 1), ('workout', 7), ('store', 7), ('advantage', 14), ('grills', 2), ('easily', 3), (\"children's\", 6), ('creative', 1), ('discovery', 4), ('sands', 2), ('barbados', 2), ('sandy', 6), ('vibrant', 4), ('inclusive', 12), ('formerly', 1), ('known', 1), ('grange', 2), ('blackpool', 2), ('houndshill', 1), ('waxworks', 1), ('life', 7), ('digital', 3), ('rec', 8), ('convenient', 18), ('designed', 10), ('impart', 1), ('sensation', 1), ('perfect', 10), ('harmony', 1), ('strategically', 3), ('appealing', 1), ('portugal', 1), ('comprehensive', 1), ('alentejo', 3), ('aim', 1), ('ensure', 3), ('memories', 1), ('visit', 8), ('unspoiled', 1), ('surroundings', 7), ('affording', 1), ('magnificent', 3), ('reservoir', 1), ('montargil', 3), ('dam', 1), ('lago', 2), ('villas', 7), ('unwind', 4), ('nature', 5), ('modernity', 1), ('venue', 3), ('congresses', 1), ('meetings', 3), ('ready', 4), ('entirely', 1), ('kind', 1), ('everything', 10), ('done', 1), ('leisurely', 1), ('pleasurable', 1), ('manner', 1), ('awaits', 1), ('open', 14), ('arms', 1), ('give', 2), ('warm', 5), ('genuine', 1), ('quietly', 2), ('outskirts', 2), ('paderborn', 2), ('sauna', 26), ('public', 13), ('gerold', 2), ('cathedral', 4), ('individually', 5), ('cheerful', 1), ('color', 2), ('scheme', 1), ('varied', 5), ('fine', 4), ('german', 5), ('sunny', 1), ('pretty', 1), ('happy', 5), ('transport', 3), ('links', 4), ('latin', 1), ('quarter', 2), ('bustling', 1), ('student', 1), ('cozy', 7), ('liveliest', 1), ('paris', 2), ('le', 13), ('grand', 20), ('hôtel', 7), ('gobelins', 1), ('45', 8), ('renovated', 3), ('care', 3), ('seminar', 1), ('jardin', 2), ('plantes', 1), ('panthéon', 1), ('cinemas', 1), ('means', 1), ('jumping', 1), ('seeing', 1), ('experiencing', 1), ('french', 5), ('capital', 2), ('city’s', 3), ('loop', 3), ('neighborhood', 4), ('chicago', 7), ('homewood', 4), ('hilton', 18), ('43', 2), ('hdtv', 1), ('separate', 9), ('living', 6), ('chair', 6), ('breath', 1), ('fulton', 2), ('beer', 4), ('tap', 2), (\"chicago's\", 1), ('pour', 1), ('200', 2), ('flexible', 1), ('millennium', 3), ('institute', 1), ('amid', 2), ('fichtelgebirge', 1), ('fichtelberg', 1), ('delicious', 6), ('franconian', 1), ('schöneblick', 1), ('cozily', 1), ('peaceful', 2), ('rural', 2), ('routes', 1), ('children’s', 6), ('playground', 4), ('promise', 1), ('filled', 2), ('afternoons', 1), ('pamper', 2), ('finnish', 3), ('bio', 3), ('infrared', 1), ('cabin', 1), ('miami', 10), ('prime', 11), ('certain', 4), ('fisher', 1), ('lummus', 1), ('metropolitan', 4), ('apartel', 2), ('perfectly', 3), ('los', 1), ('angeles', 2), ('ca', 1), ('need', 8), (\"night's\", 4), ('sleep', 4), ('elevator', 5), ('mirror', 4), ('restful', 1), ('reliable', 2), ('professional', 4), ('caters', 3), ('knightsinn', 1), ('diplomat', 1), ('individuals', 1), ('looking', 4), ('clean', 1), ('hallandale', 1), ('casinos', 1), ('horse', 1), ('dog', 2), ('racing', 1), ('allowing', 2), ('feeling', 1), ('please', 7), ('advised', 1), ('person', 3), ('applies', 1), ('3rd', 1), ('4th', 1), ('arrange', 2), ('joya', 1), ('cerén', 1), ('pre', 1), ('hispanic', 1), ('farming', 1), ('was', 3), ('buried', 1), ('under', 3), ('volcanic', 1), ('eruption', 1), ('archaeological', 1), ('been', 4), ('preserved', 1), ('insight', 1), ('into', 7), ('lives', 1), ('past', 1), ('populations', 1), ('live', 7), ('nashville', 4), ('few', 4), ('weeks', 1), ('bentoliving', 3), ('chestnut', 4), ('boutique', 5), ('washer', 1), ('dryer', 5), ('onsite', 22), ('classes', 2), ('yoga', 1), ('rooftop', 8), ('uninterrupted', 1), ('whether', 5), ('traveling', 2), ('pleasure', 3), ('something', 3), ('thoughtfully', 2), ('curated', 1), ('feel', 6), ('sweeping', 2), ('skyline', 3), ('nestled', 4), ('must', 4), ('destination', 2), ('enthusiast', 1), ('foodie', 1), ('alike', 3), ('walkable', 1), ('award', 6), ('winning', 4), ('distilleries', 1), ('galleries', 1), ('café', 7), ('lined', 3), ('weekly', 3), ('bootcamp', 1), ('workouts', 1), ('changing', 2), ('towel', 1), ('filtered', 1), ('meet', 3), ('goals', 1), ('essentials', 3), ('quick', 2), ('facility', 4), ('strength', 1), ('peloton', 1), ('bikes', 4), ('nordictrack', 1), ('treadmills', 1), ('sweat', 1), ('solo', 1), ('join', 1), ('session', 1), ('hosted', 1), ('instructors', 1), ('panoramic', 5), ('handcrafted', 1), ('cocktails', 5), ('events', 3), ('thursday', 2), ('5pm', 4), ('11pm', 4), ('friday', 5), ('bodega', 2), (\"you're\", 3), ('picking', 1), ('last', 2), ('entire', 3), ('grocery', 2), ('premise', 1), ('marketplace', 2), ('hand', 3), ('goods', 2), ('produce', 3), ('bento', 1), ('frozen', 1), ('eat', 4), ('8am', 2), ('9pm', 1), ('hart', 2), ('centered', 1), ('pacific', 2), ('rim', 1), ('inspired', 4), ('fare', 2), ('healthy', 4), ('plant', 1), ('atrium', 1), ('floor', 6), ('ceiling', 2), ('windows', 1), ('opening', 2), ('creates', 1), ('vibe', 1), ('engage', 1), ('senses', 3), ('11am', 2), ('tuesday', 5), ('sunday', 2), ('brunch', 2), ('30am', 1), ('2pm', 3), ('10pm', 2), ('closed', 2), ('mondays', 1), ('per', 13), ('max', 1), ('pets', 1), ('60', 3), ('pounds', 1), ('accepted', 1), ('28', 3), ('tax', 4), ('spectacular', 3), ('breathtaking', 2), ('niagara', 6), ('wedding', 3), ('vacation', 5), ('moments', 1), ('augustine', 1), ('steps', 2), ('government', 1), ('lightner', 1), ('colony', 1), ('flagler', 1), ('cooked', 2), ('order', 5), ('completely', 4), ('worth', 1), ('dfw', 2), ('grapevine', 4), ('lit', 2), ('printing', 2), ('photocopy', 1), ('coin', 5), ('wilderness', 1), ('trails', 3), ('picnic', 2), ('developed', 1), ('tastefully', 3), ('contained', 1), ('ixtapa', 8), ('relief', 1), ('average', 1), ('coastal', 1), ('stretch', 1), ('marina', 4), ('land', 1), (\"there's\", 6), ('charming', 4), ('mexican', 2), ('further', 5), ('very', 3), ('228', 1), ('fantastic', 1), (\"it's\", 3), ('lane', 2), ('enormous', 1), ('crafts', 2), ('back', 7), ('premier', 3), ('welcomes', 1), ('corner', 3), ('plan', 3), ('no', 8), ('does', 1), (\"we're\", 1), ('leader', 1), ('outstanding', 1), ('kids', 3), ('refreshments', 2), ('programs', 2), ('young', 1), ('bingo', 1), ('kids’', 1), ('heroes', 1), ('games', 2), ('grown', 1), ('gratuities', 1), ('motorized', 1), ('select', 11), ('nightly', 2), ('relaxing', 9), (\"you've\", 1), ('ever', 1), ('experienced', 1), ('literally', 1), ('grounds', 3), ('leave', 4), ('wallet', 1), ('locked', 1), ('safely', 1), ('eating', 1), ('drinking', 1), ('veranda', 3), ('focal', 1), ('host', 3), ('exceptional', 2), ('piled', 1), ('finicky', 1), ('eaters', 1), ('chefs', 1), ('mexico', 3), ('years', 4), ('position', 2), ('stocking', 1), ('butcher', 1), ('board', 8), ('constantly', 1), ('themed', 1), ('evenings', 3), ('mean', 2), ('dinners', 2), ('always', 3), ('different', 7), ('plenty', 4), ('impromptu', 1), ('brain', 1), ('storm', 1), ('pescador', 3), ('bracing', 1), (\"royal's\", 1), ('afternoon', 4), ('hotspot', 1), ('beautiful', 8), ('shaded', 1), ('overlooking', 9), ('eateries', 2), ('complemented', 1), ('menu', 8), ('shrimp', 1), ('lobster', 1), ('oysters', 1), ('crabs', 1), ('vacations', 1), ('italiano', 2), ('real', 3), ('never', 2), ('had', 1), ('italian', 7), ('specialties', 6), ('carefully', 2), ('complement', 1), ('rotating', 1), ('compete', 1), ('endless', 1), ('desserts', 1), ('dolce', 1), ('vita', 1), ('still', 3), ('goes', 1), ('shot', 1), ('expresso', 1), ('pub', 3), ('reconnect', 1), ('cheer', 1), ('chill', 2), ('late', 3), ('happening', 1), ('djs', 1), ('laying', 1), ('tracks', 1), ('love', 1), ('adult', 2), ('moby', 1), ('dick', 1), ('shady', 1), ('breezes', 1), ('langosta', 3), ('lots', 2), ('buzz', 2), ('note', 5), ('fees', 5), ('child', 5), ('age', 4), ('pay', 6), ('older', 1), ('considered', 1), ('regular', 1), ('aware', 1), ('due', 1), ('directly', 6), ('confirm', 1), ('ages', 1), ('receive', 2), ('bracelets', 1), ('failure', 1), ('result', 1), ('automatic', 1), ('change', 1), ('exclusions', 1), ('sollentuna', 2), ('rotebro', 3), ('infra', 1), ('inframassan', 1), ('stinsen', 1), ('91', 3), ('kitchenettes', 3), ('stovetops', 2), ('sitting', 4), ('bite', 3), ('lift', 2), ('subject', 4), ('flushing', 3), ('shea', 2), ('infuses', 1), ('design', 2), ('chinatown', 1), ('incredible', 1), ('since', 2), ('varieties', 1), ('handicap', 1), ('committed', 1), ('ensuring', 3), ('enjoyable', 1), ('helpful', 2), ('vågen', 1), ('fjord', 1), ('mount', 5), ('fløyen', 1), ('scandic', 4), ('torget', 3), ('bergen', 3), ('bryggen', 2), ('wharf', 1), ('bergen’s', 1), ('transformed', 1), ('food', 8), ('light', 6), ('neptun', 1), ('torgallmenningen', 1), ('262', 1), ('fløibanen', 1), ('furnicular', 1), ('66', 3), ('canyon', 3), ('furnishings', 4), ('hualapai', 2), ('whitewater', 1), ('rafting', 1), ('touring', 1), ('kingman', 1), ('skywalk', 1), ('122', 1), ('oyo', 3), ('spokane', 10), ('gonzaga', 1), ('wa', 3), ('northtown', 1), ('manito', 1), ('riverfront', 2), ('whitworth', 1), ('arena', 9), ('eagles', 1), ('rena', 1), ('holy', 1), ('va', 3), ('mt', 1), ('heads', 1), ('executive', 1), ('king', 4), ('deluxe', 3), ('queen', 3), ('operated', 3), (\"area's\", 3), ('malls', 2), ('baked', 1), ('cookies', 1), ('courtyard', 9), ('reading', 2), ('material', 1), ('gift', 3), ('speak', 1), ('boasting', 2), ('hyatt', 6), ('greenville', 6), ('peace', 2), ('bon', 1), ('secours', 1), ('sirrine', 1), ('speaking', 1), ('bulgarian', 1), ('english', 2), ('spanish', 1), ('practical', 1), ('county', 2), ('spartanburg', 1), ('thomasville', 3), ('hjotel', 1), ('southwest', 2), ('alabama', 1), ('navigli', 3), ('milan', 5), ('sculptures', 1), ('paintings', 1), ('boutiques', 1), ('via', 5), ('porta', 3), ('genova', 1), ('large', 13), ('sweet', 3), ('savory', 3), ('garage', 2), ('turkish', 6), ('artworks', 1), ('artists', 1), ('arnaldo', 1), ('pomodoro', 1), ('dalì', 1), ('man', 1), ('ray', 1), ('display', 1), ('sixth', 1), ('marysville', 3), ('waffles', 2), ('warmly', 5), ('carpeted', 3), ('floors', 7), ('timberview', 1), ('mccarthy', 1), ('alf', 1), ('ringhotel', 1), ('bömers', 1), ('mosellandhotel', 1), ('vicinity', 5), ('prinzenkopf', 1), ('lookout', 1), ('calmont', 1), ('klettersteig', 1), ('vulkaneifel', 1), ('thermal', 1), ('mont', 3), ('34', 2), ('sure', 7), ('bicycles', 3), ('rent', 2), ('alfresco', 1), ('weather', 3), ('permitting', 1), ('computer', 4), ('pick', 2), ('gan', 1), ('laamu', 1), ('atoll', 2), ('reveries', 2), ('maldives', 8), ('getaway', 2), ('untouched', 1), ('coral', 1), ('reefs', 1), ('soothing', 2), ('tones', 2), ('interiors', 2), ('snorkeling', 2), ('assist', 2), ('sport', 2), ('kadhoo', 1), ('domestic', 1), ('male', 2), ('devens', 3), ('wolfe', 1), ('adventures', 2), ('tours', 2), ('earthy', 1), ('37', 2), ('channel', 2), ('tail', 1), ('butterfly', 2), ('grill', 7), ('storied', 1), ('hosts', 3), ('baths', 2), ('40', 9), ('panel', 1), ('latest', 1), ('mattresses', 1), ('hrs', 2), ('stranded', 1), ('jfk', 5), ('dial', 2), ('67', 2), ('call', 1), ('terminal', 3), ('ccourteous', 1), ('comfy', 1), ('ac', 1), ('heater', 1), ('alarm', 4), ('writing', 1), ('assortment', 2), ('menus', 2), ('york', 9), ('netherstowe', 3), ('lichfield', 1), ('spired', 1), ('dating', 1), ('12th', 1), ('century', 1), ('steakhouse', 2), ('brasserie', 2), ('fire', 1), ('walled', 1), ('retain', 1), ('drayton', 1), ('manor', 5), ('nec', 1), ('tamworth', 1), ('snow', 1), ('dome', 2), ('tra', 3), ('noi', 3), ('behind', 1), ('vatican', 1), ('peter’s', 2), ('green', 10), ('benches', 1), ('busses', 2), ('rome’s', 2), ('pass', 5), ('freebies', 1), ('econo', 3), ('antonio', 5), ('option', 2), ('value', 7), ('conscious', 1), ('seeking', 1), ('story', 4), ('fridges', 1), ('fuel', 1), ('410', 1), ('alamo', 1), ('riverwalk', 1), ('fiesta', 2), ('zoo', 6), ('ingram', 1), ('lackland', 1), (\"antonio's\", 1), ('bonuses', 1), ('ziva', 1), ('cap', 1), ('cana', 4), ('punta', 3), ('juanillo', 1), ('scape', 1), ('16', 8), ('bavaro', 1), ('375', 1), ('stations', 4), ('pillowtop', 2), ('down', 1), ('comforters', 1), ('balconies', 8), ('patios', 3), ('designer', 1), ('dipping', 1), ('pools', 6), ('tubs', 2), ('spend', 2), ('arcade', 1), ('rates', 3), ('establishments', 2), ('applied', 2), ('special', 2), ('asian', 4), ('tempest', 1), (\"property's\", 4), ('dry', 6), ('measuring', 2), ('14488', 1), ('1346', 1), ('suburbs', 1), ('cairo', 1), ('established', 1), ('2007', 1), ('citystars', 1), ('qoba', 1), ('martin', 1), ('osa', 1), ('johnson', 1), ('safari', 1), ('chanute', 3), ('copying', 1), ('sante', 1), ('fe', 2), ('quarry', 1), ('stone', 1), ('humboldt', 1), ('speedway', 1), ('jr', 2), ('kyoto', 5), ('elcient', 2), ('compact', 2), ('shosei', 1), ('minami', 1), ('interchange', 1), ('ramen', 1), ('noodle', 2), ('japanese', 1), ('interchangeably', 1), ('parc', 4), ('naturel', 1), ('régional', 1), ('ballons', 1), ('vosges', 1), ('classic', 2), ('decor', 1), (\"l'assiette\", 1), ('du', 1), ('coq', 1), (\"l'ane\", 1), ('cerf', 1), ('prepares', 1), ('gourmet', 1), ('pavillon', 1), ('pétrus', 1), ('chic', 1), ('fritz', 1), ('lac', 1), ('gerardmer', 1), ('2133', 2), ('les', 3), ('chênes', 1), ('blancs', 1), ('2016', 1), ('labranda', 2), ('secluded', 1), ('forested', 1), ('bay', 14), ('adriatic', 1), ('vrboska', 1), ('jelsa', 1), ('stari', 2), ('grad', 2), ('sunbathing', 1), ('accessed', 1), ('ferry', 5), ('stourport', 3), ('refurbished', 2), ('23', 2), ('acres', 2), ('bedrooms', 4), ('kidderminster', 1), ('roads', 1), ('worcester', 1), ('hold', 4), ('tourism', 1), ('al', 4), ('wahda', 4), ('abu', 4), ('dhabi', 3), ('direct', 6), ('above', 1), ('dhabi’s', 1), ('smart', 3), ('indulge', 1), ('beauty', 7), ('treatment', 2), ('zayna', 1), ('fit', 1), ('cardiovascular', 1), ('ladies', 2), ('eight', 1), ('cuisines', 2), ('sheikh', 1), ('zayed', 1), ('mosque', 3), ('ferrari', 1), ('yas', 1), ('waterworld', 1), ('pleasant', 5), ('aquarium', 3), ('charleston', 3), ('naval', 1), ('64', 1), ('charlottesville', 3), ('mp3', 2), ('connection', 1), ('virginia', 5), ('pavilion', 2), ('pantry', 1), ('kluge', 1), ('ruhe', 1), ('aboriginal', 1), ('meadowcreek', 1), ('neighbourhood', 1), ('gorge', 1), ('waterway', 1), ('inner', 1), ('customer', 1), ('fontana', 2), ('abbey', 1), ('avani', 1), ('geneva', 1), ('black', 4), ('estate', 1), ('big', 1), ('riviera', 1), ('334', 1), ('getting', 5), ('surf', 2), ('sand', 2), ('breeze', 3), ('240°', 1), (\"resort's\", 2), ('break', 2), ('tasty', 1), ('beverage', 2), ('noon', 1), ('40000', 1), ('3716', 1), ('164', 2), ('konyaalti', 1), ('adjoining', 1), ('wooden', 3), ('parquet', 1), ('mix', 1), ('beige', 1), ('brown', 1), ('colors', 1), ('admire', 1), ('bites', 1), ('antalya', 1), ('migros', 1), ('block', 1), ('albuquerque', 2), ('rio', 1), ('history', 3), ('rodeway', 5), ('john', 1), ('f', 2), ('kennedy', 1), ('51', 1), ('print', 1), ('531', 1), ('citi', 1), ('miraflores', 1), ('handicraft', 1), ('tourist', 7), ('miramar', 3), ('cafes', 1), ('larcomar', 1), ('lima', 1), ('jorge', 1), ('chavez', 1), ('hobby', 5), ('nrg', 1), ('oakland', 2), ('hayward', 2), ('sleepers', 1), ('led', 2), ('stand', 1), ('o', 1), ('co', 3), ('coliseum', 3), ('oracle', 1), ('california', 2), ('east', 5), ('gold', 1), ('boasts', 3), ('comfortably', 1), ('showcasing', 1), ('extended', 3), ('perkins', 1), ('bakery', 1), ('pancakes', 2), ('burgers', 1), ('salads', 1), ('daly', 1), ('mansion', 1), ('lost', 2), ('22', 4), ('bad', 2), ('boekelo', 2), ('hectares', 1), ('woodland', 1), ('a35', 1), ('motorway', 2), ('combine', 1), ('moods', 1), ('ingredients', 1), ('plunge', 1), ('enschede', 1), ('haaksbergen', 1), ('hengelo', 1), ('a1', 1), ('pigeon', 1), ('forge', 1), ('dollywood', 1), ('smoky', 1), ('mountains', 2), (\"oakbrook's\", 1), ('doubletree', 7), ('brook', 2), ('banquet', 2), ('catering', 3), ('brookfield', 1), ('interstates', 1), ('88', 1), ('355', 1), ('exploring', 4), ('whirlwind', 1), ('kowloon', 3), ('tai', 1), ('kok', 1), ('tsui', 1), ('mongkok', 3), ('mtr', 1), ('dorsett', 2), ('hong', 3), ('kong', 3), ('attained', 1), ('bronze', 1), ('benchmark', 1), ('status', 2), ('earthcheck', 1), ('philosophy', 1), ('anytime', 1), ('everywhere', 1), ('pampered', 1), ('attention', 2), ('imagination', 1), ('dishwasher', 4), ('fredericksburg', 12), ('expo', 2), ('waterworks', 1), ('meadow', 1), ('winery', 1), ('thomas', 3), ('ergonomic', 3), ('freshly', 3), ('brewed', 1), ('coffees', 1), ('teas', 1), ('elgin', 2), ('stanley', 1), ('wisconsin', 3), ('austin', 2), ('straubel', 2), ('starbucks', 1), ('radisson', 2), ('pine', 2), ('tree', 3), ('classics', 1), ('purcell’s', 1), ('excitement', 1), ('oneida', 2), ('thornberry', 1), ('creek', 2), ('rich', 1), ('browns', 1), ('lambeau', 1), ('cascais', 4), ('guincho', 2), ('luxurious', 4), ('senhora', 3), ('guia', 3), ('trees', 1), ('salt', 1), ('taste', 1), ('risotto', 1), ('restaurant’s', 1), ('atlantic', 2), ('ocean', 17), ('romantic', 1), ('colder', 1), ('winter', 2), ('ideally', 4), ('oswego', 1), ('harbor', 8), ('syracuse', 6), ('hancock', 5), ('theaters', 2), ('accommodate', 1), ('people', 6), ('functions', 1), ('competitive', 1), ('quinta', 9), ('lexington', 2), ('hamburg', 1), (\"mintues'\", 1), ('kentucky', 2), ('rupp', 1), ('boone', 1), ('laquinta', 1), ('lakeside', 1), ('mary', 3), ('todd', 1), ('lincoln', 4), ('19', 3), ('native', 2), ('bankside', 2), ('puts', 4), ('outside', 6), ('tourists', 2), ('necessary', 2), ('wheelchair', 1), ('guestroom', 1), ('elegantly', 2), ('handy', 1), ('reasons', 4), ('should', 3), ('susukino', 2), ('sapporo', 5), ('mercure', 2), ('subway', 2), ('humidifying', 1), ('purifier', 1), ('beds', 4), ('movies', 1), ('odori', 1), ('fusion', 2), ('hokkaido', 1), ('cepage', 1), ('concordia', 3), ('barcelona', 7), ('españa', 3), ('fira', 3), ('exhibition', 8), ('barcelona’s', 6), ('bistro', 3), ('triple', 1), ('sec', 2), ('characteristic', 1), ('electrical', 1), ('cars', 1), ('charging', 1), ('poble', 1), ('journey', 1), ('rambla', 2), ('meriden', 2), ('connecticut', 1), ('placed', 1), ('powder', 1), ('motorways', 1), ('yale', 1), ('mystic', 3), ('seaport', 4), ('mark', 2), ('twain', 1), ('wichita', 4), ('mid', 3), ('continent', 1), ('towne', 2), ('newman', 1), ('november', 1), ('2015', 3), ('adina', 2), ('auckland', 4), ('britomart', 2), ('spark', 1), ('500mb', 1), ('devices', 1), ('wardrobe', 3), ('these', 2), ('precinct', 1), ('sky', 1), ('inside', 2), ('1930s', 1), ('skyscraper', 1), (\"madrid's\", 2), ('emblematic', 1), ('petit', 1), ('palace', 7), ('alcala', 1), ('820', 3), ('puerta', 1), ('del', 1), ('sol', 1), ('availability', 1), ('what', 2), ('see', 3), ('madrid', 3), ('328', 3), ('círculo', 1), ('bellas', 1), ('artes', 1), ('multidisciplinary', 1), ('dynamic', 1), ('prado', 1), ('reina', 1), ('sofía', 1), ('thyssen', 1), ('sevilla', 1), ('atocha', 1), ('eurohotel', 1), ('venezia', 2), ('montenapoleone', 1), ('nouveau', 1), ('dates', 1), ('1920s', 1), ('laptop', 1), ('organize', 1), ('book', 2), ('clubs', 1), ('malpensa', 1), ('southpoint', 2), ('germanna', 1), ('spotsylvania', 3), ('civil', 3), ('war', 3), ('battlefields', 2), ('hazelwild', 1), ('celebrate', 1), ('patriot', 1), ('p', 2), ('army', 1), ('espn', 2), ('cnn', 1), ('fox', 1), ('news', 1), ('following', 2), ('invited', 2), ('accommodates', 1), ('boardroom', 1), ('classroom', 1), ('meat', 3), ('yogurt', 1), ('cinnamon', 2), ('rolls', 2), ('dominion', 1), ('marine', 2), ('corps', 1), ('quantico', 1), (\"lee's\", 1), ('anna', 1), ('riverside', 1), ('buffs', 1), ('visiting', 7), (\"soldier's\", 1), ('kenmore', 1), (\"washington's\", 1), ('monroe', 1), ('enthusiasts', 1), ('browsing', 1), ('cracker', 1), ('barrel', 2), ('zanesville', 2), ('70', 1), ('longaberger', 1), ('newport', 3), ('rhode', 1), ('array', 4), ('weekend', 1), ('newport’s', 1), ('sunset', 1), ('mansions', 1), ('cliff', 1), ('copantl', 2), ('pedro', 1), ('sula', 1), ('churrasqueria', 1), ('steak', 1), ('posada', 3), ('popol', 1), ('nah', 1), ('flowers', 2), ('ramon', 1), ('villeda', 1), ('undergone', 1), ('extensive', 5), ('renovations', 1), ('2001', 1), ('exterior', 1), ('corridors', 1), ('ease', 1), ('economy', 1), ('double', 4), ('ottoman', 1), ('data', 1), ('same', 3), ('without', 1), ('substituted', 1), ('photocopying', 1), ('receiving', 1), ('faxes', 1), ('hookup', 1), ('250', 1), ('exit', 1), ('131', 1), ('serve', 1), ('odessa', 1), ('race', 1), ('track', 1), ('petroleum', 1), ('caf', 1), ('communications', 1), ('intimate', 1), ('fletcher', 4), ('hague', 2), ('communal', 2), ('stadshotel', 2), ('den', 2), ('haag', 2), ('excellent', 5), ('connections', 2), ('van', 1), ('speijk', 1), ('line', 2), ('vredespaleis', 1), ('2461', 2), ('brings', 1), ('scheveningen', 1), ('busy', 2), ('return', 1), ('magazines', 2), ('chocolate', 1), ('fondue', 1), ('bubbles', 1), ('tampa', 1), ('pinellas', 2), ('clearwater', 3), ('pete', 1), ('dali', 1), ('petersburg', 2), ('cha', 3), ('my', 2), ('wonders', 1), ('hua', 1), ('hin', 1), ('suit', 2), ('individual', 4), ('readily', 1), ('ibis', 3), ('colatina', 5), ('amongst', 1), ('passing', 1), ('through', 4), ('minded', 3), ('guide', 3), ('rejuvenate', 1), ('eagan', 1), ('omni', 3), ('viking', 3), ('lakes', 4), ('providing', 1), ('s', 2), ('tcf', 1), ('minneapolis', 1), ('saint', 1), ('paul', 1), ('chula', 4), ('eastlake', 3), ('americas', 2), ('santa', 3), ('depot', 1), ('amtrak', 1), ('tijuana', 1), ('cologne', 3), ('lies', 2), ('side', 3), ('domstern', 3), ('buffets', 2), ('koelnmesse', 1), ('bahn', 1), ('maafushi', 4), ('reef', 1), ('travellers', 6), ('upper', 1), ('stairs', 1), ('baggage', 1), ('arriving', 1), ('vehicles', 1), ('them', 2), ('establishment', 2), ('appointed', 5), ('ensures', 1), ('dip', 1), ('ponta', 1), ('negra', 1), ('kilometres', 2), ('natal', 2), ('cosy', 1), ('anyone', 1), ('interesting', 1), ('positioned', 1), ('fairs', 1), ('moreover', 1), ('augusto', 1), ('severo', 1), ('pousada', 3), ('calypso', 1), ('trancoso', 1), ('quadrado', 1), ('sao', 1), ('joao', 1), ('batista', 1), ('tancredo', 1), ('neves', 1), ('praca', 1), ('independencia', 1), ('minibars', 2), ('cribs', 2), ('infant', 1), ('nells', 4), ('trier', 4), ('nord', 2), ('beers', 1), ('moselle', 1), ('ft²', 1), ('saunas', 1), ('received', 1), ('year', 2), ('2011', 1), ('rhineland', 1), ('palatinate', 1), ('77', 1), ('charlotte', 5), ('uptown', 1), ('douglas', 1), ('transfer', 3), ('adventure', 1), ('jackson', 1), ('hole', 3), ('choose', 4), ('verdant', 1), ('valley', 2), ('alpine', 1), ('america’s', 1), ('rugged', 1), ('peaks', 1), ('celebrated', 1), ('runs', 1), ('inspiring', 1), ('teton', 1), ('broadway', 3), ('ny', 2), ('plasma', 4), ('heating', 5), ('combines', 1), ('lovely', 1), ('ambiance', 2), ('unforgettable', 2), ('rouen', 3), ('littéraire', 1), ('gustave', 2), ('flaubert', 2), ('bw', 2), ('literary', 1), ('honor', 1), ('writer', 1), ('kindarena', 1), ('noter', 1), ('dame', 1), ('musée', 1), ('beaux', 1), ('folkestone', 2), ('burstin', 4), ('dover', 2), ('victorian', 3), ('specials', 3), ('formal', 1), ('maritime', 1), ('spindles', 1), ('impressive', 3), ('ballroom', 1), ('cabarets', 1), ('terminals', 2), ('crossings', 1), ('france', 2), ('duncan', 1), ('eagle', 5), ('border', 2), ('kicakpoo', 1), ('lucky', 1), ('thoroughfare', 1), ('ciudad', 2), ('obregón', 2), ('schiphol', 3), ('corendon', 2), ('amsterdam', 3), ('badhoevedorp', 1), ('680', 2), ('divided', 1), ('urban', 1), ('207', 1), ('bazar', 2), ('skybar', 1), ('298', 1), ('boeing', 1), ('747', 1), ('tickets', 1), ('mega', 1), ('bangna', 1), ('trade', 1), ('bitec', 1), ('bizotel', 3), ('emporium', 1), ('sirikit', 1), ('lumpini', 1), ('embassy', 1), ('amarin', 1), ('suvarnabhumi', 1), ('montreal', 3), ('darlington', 1), ('summer', 5), ('montréal’s', 1), ('olimpo', 1), ('bogota', 1), ('chapinero', 1), ('javeriana', 1), ('ignacio', 1), ('monserrate', 1), ('bolivar', 1), ('appetite', 1), ('genoa’s', 1), ('piazza', 1), ('principe', 2), ('cruise', 1), ('galata', 3), ('genoan', 1), ('williamsville', 1), ('seneca', 1), ('acta', 2), ('antibes', 2), ('eixample', 2), ('sagrada', 1), ('familia', 1), ('antibes’s', 1), ('gluten', 1), ('gaudí’s', 1), ('batlló', 1), ('pedrera', 1), ('catalunya', 2), ('ramblas', 1), ('monumental', 1), ('81', 1), ('keurig®', 1), ('blocking', 1), ('shades', 1), ('armory', 1), ('rosamond', 1), ('gifford', 1), ('waterford', 3), ('springhill', 3), ('dinosaur', 1), ('mohegan', 1), ('ashburton', 3), (\"ashburton's\", 1), ('regency', 1), ('domain', 1), ('aviation', 1), (\"trott's\", 1), (\"motel's\", 1), ('occidental', 2), ('aran', 2), ('eur', 2), ('lay', 1), ('specialities', 1), ('warmer', 1), ('months', 1), ('laurentina', 1), ('termini', 1), ('arranges', 1), ('garbatella', 1), ('interested', 1), ('monuments', 2), ('ancient', 1), ('landmarks', 1), ('euros', 1), ('baytown', 3), ('pirates', 1), ('battleship', 1), ('jacinto', 2), ('raceway', 1), ('half', 5), ('boardwalk', 2), ('assateague', 1), ('seashore', 1), ('saving', 1), (\"ripley's\", 1), ('believe', 1), ('roland', 1), ('e', 1), ('powell', 1), ('oceanfront', 2), ('salisbury', 3), ('wicomico', 2), ('drottninggatan', 1), ('stockholm', 3), ('bathrobes', 2), ('clara', 1), ('nobis', 1), ('hotels™', 1), ('noveau', 1), ('limestone', 2), ('tile', 1), ('swedish', 1), ('clara’s', 1), ('hötorget', 1), ('stockholm’s', 1), ('bothin', 1), ('pasadena', 4), ('oven', 3), ('toyota', 1), ('bbva', 1), ('dynamo', 1), ('william', 1), ('danillia', 1), ('corfu', 2), ('gouvia', 1), ('ioannis', 1), ('kapodistrias', 1), ('approximately', 1), ('comprises', 2), ('typical', 1), ('corfiot', 1), ('architectural', 1), ('neoclassical', 1), ('lush', 1), ('colours', 1), ('exude', 1), ('calm', 2), ('atmosphere', 2), ('telephone', 3), ('regulated', 1), ('aparthotel', 5), ('younger', 1), ('ramada', 6), ('molières', 1), ('aiguillons', 1), ('roucous', 1), ('waechter', 2), ('montauban', 1), ('truffle', 1), ('toulouse', 4), ('blagnac', 1), ('47', 1), ('dunn', 3), ('averasboro', 1), ('winds', 3), ('malabanas', 1), (\"guest's\", 1), ('enjoyment', 1), ('retiring', 1), ('deserved', 1), ('rest', 3), ('swanvale', 1), ('yarmouth', 5), ('hippodrome', 1), ('circus', 1), ('norfolk', 1), ('broads', 1), ('combinations', 2), ('deep', 2), ('soaking', 1), ('johor', 6), ('singapore', 1), ('causeway', 1), ('bahru', 4), ('luxuriously', 2), ('pillow', 2), ('plush', 1), ('makan', 1), ('vast', 2), ('fares', 1), ('tosca', 1), ('trattoria', 1), ('straits', 1), ('axis', 2), ('houses', 1), ('supporting', 1), ('accessibility', 1), ('twin', 1), ('sizes', 1), ('w135', 1), ('x', 1), ('l200', 1), ('sentral', 1), ('senai', 1), ('changi', 1), ('omaha', 5), ('bluffs', 6), ('ia', 4), ('able', 1), ('td', 1), ('ameritrade', 1), ('eppley', 1), ('airfield', 1), ('tacoma', 1), ('wyndham', 6), ('kent', 2), ('needle', 1), ('pike', 1), ('muckleshoot', 1), ('edison', 3), ('raritan', 1), ('especially', 2), ('stovetop', 1), ('upgraded', 1), ('pillows', 1), ('exchanged', 1), ('menlo', 1), ('woodbridge', 1), ('amsterdam’s', 1), ('historical', 4), ('boxes', 1), ('a4', 1), ('hoofddorp', 1), ('525', 1), ('superior', 1), ('hamminkeln', 1), ('stands', 2), ('beside', 1), ('issel', 1), ('marienthal', 1), ('monastery', 2), ('marienthaler', 3), ('gasthof', 2), (\"gasthof's\", 1), ('fields', 1), ('forests', 1), ('hohe', 1), ('craftsman', 2), ('dark', 2), ('wood', 3), ('fireside', 1), ('onondaga', 1), ('doha', 1), ('souq', 1), ('waqif', 1), ('amt', 3), ('mena', 3), ('currency', 2), ('exchange', 2), ('bidet', 1), ('halal', 1), ('playing', 1), ('billiards', 1), ('qatar', 1), ('diwan', 1), ('emiri', 1), ('biscayne', 3), ('bay’s', 1), ('districts', 2), ('ftx', 1), ('360', 1), ('degree', 1), ('navigate', 1), ('neighborhoods', 1), ('scheduling', 1), ('reserving', 1), ('jet', 1), ('skis', 1), ('much', 1), ('bayside', 1), ('region', 4), ('arsen', 2), ('tastes', 1), ('organizations', 1), ('sumela', 1), ('39', 2), ('arsin', 1), ('trabzon', 1), (\"appart'city\", 1), ('rochelle', 4), ('expositions', 1), ('temple', 1), ('105', 1), ('gran', 3), ('corona', 2), ('republica', 1), ('são', 2), ('paulo', 2), ('edifício', 1), ('itália', 1), ('alcazar', 1), ('brazilian', 1), ('reflexu', 1), ('attached', 2), ('banks', 1), ('kensington', 2), ('ft', 2), ('olympia', 1), ('face', 1), ('onto', 1), ('ortus', 1), ('bonita', 1), ('naples', 2), ('41', 1), ('tamiami', 1), ('bohol', 2), ('arabelle', 3), ('makes', 3), ('jacuzzi', 1), ('miniclub', 1), ('supermarket', 1), ('hairdresser', 1), ('address', 1), ('carretera', 1), ('varadero', 1), ('cuba', 1), ('bainbridge', 4), ('outer', 1), ('limits', 1), ('zone', 3), ('then', 2), ('dove', 2), ('burn', 1), ('calories', 1), ('given', 1), ('mauston', 2), ('riding', 3), ('rock', 2), ('snowmobile', 1), ('cross', 1), ('horseback', 2), ('canoeing', 2), ('golfing', 2), ('dells', 1), ('affordable', 1), ('interior', 2), ('halls', 2), ('sleeper', 3), ('chinook', 1), ('devils', 1), ('truck', 2), ('biking', 2), ('oregon', 2), ('protected', 1), ('110', 1), ('hendaye', 2), ('orhoïtza', 1), ('serene', 2), ('doing', 1), ('lazy', 1), ('nyc', 1), ('iconic', 2), ('amazing', 1), ('night’s', 1), ('sleeps', 1), ('baymont', 2), ('biloxi', 3), ('hard', 1), ('hills', 1), ('paso', 4), (\"manager's\", 1), ('wednesday', 1), ('bedroom', 2), ('share', 3), ('6am', 1), ('hsia', 1), ('tech', 1), ('sciences', 1), ('84', 2), ('idaho', 1), ('boise', 5), ('steaks', 1), ('chef’s', 1), ('week', 2), ('casual', 2), ('monday', 2), ('greets', 1), ('indian', 2), ('setting', 6), ('opposite', 3), ('seguro', 1), ('mere', 1), ('themselves', 1), ('delights', 1), ('greeting', 1), ('charm', 1), ('delightful', 3), ('ultimate', 2), ('beautifully', 1), ('ambience', 1), ('impressed', 2), ('sit', 1), ('estes', 2), ('silver', 2), ('saddle', 2), ('things', 3), ('enhance', 3), ('matter', 1), ('instantly', 1), ('greenleafe', 1), ('ovens', 1), (\"bojangles'\", 1), ('mint', 1), ('randolph', 1), ('staffed', 1), ('libertyville', 3), ('bacon', 1), ('drop', 1), ('grove', 1), ('gurnee', 1), ('ftiness', 1), ('purple', 2), ('sage', 2), ('snyder', 1), ('hunters', 1), ('kennels', 1), ('retail', 1), ('abilene', 1), ('soho', 2), ('mandeville', 1), ('queens', 1), ('trafalgar', 1), (\"king's\", 1), ('buckingham', 1), ('candlewood', 1), ('louisville', 3), ('ne', 1), ('champions', 1), ('kfc', 1), ('yum', 1), ('97', 1), ('trumann', 3), ('ar', 1), ('cedar', 3), ('forrest', 1), ('l', 1), (\"crowley's\", 1), ('craighead', 1), ('consist', 1), ('rv', 1), ('yet', 1), ('atenea', 2), ('calabria', 2), ('distinguished', 1), ('plaça', 1), ('energetic', 1), ('fairgrounds', 1), ('networks', 1), ('calabria’s', 1), ('fashionably', 1), ('measure', 1), ('sizable', 1), ('exceptionally', 1), ('adorned', 1), ('functional', 1), ('prepared', 1), ('carmel', 2), ('indianapolis', 4), ('omelets', 1), ('clay', 1), ('lifestyle', 2), ('currently', 1), ('renovation', 1), ('march', 1), ('2023', 2), ('palm', 4), (\"florida's\", 1), ('attending', 1), ('naumpasa', 2), ('konagi', 2), ('i̇stanbul', 1), ('istiklal', 1), ('taksim', 1), ('2017', 1), ('anthony', 1), ('padua', 1), (\"princes'\", 1), ('dolmabahce', 1), ('advice', 1), ('lutfu', 1), ('kirdar', 1), ('ataturk', 1), ('istanbul', 1), ('havana', 1), ('embassies', 1), ('sits', 2), ('ecological', 1), ('harmonious', 1), ('blend', 1), ('styles', 1), (\"visitors'\", 1), ('places', 1), ('pio', 1), ('ana', 1), ('canal', 3), ('forum', 2), ('momentum', 1), ('lindora', 1), ('knights', 1), ('jacksonville', 1), ('dix', 1), ('ellis', 1), ('210', 1), ('standards', 1), ('hometowne', 2), ('fresno', 5), ('waterpark', 1), ('chaffee', 1), ('osnabrück', 1), ('brightly', 1), ('hohenzollern', 3), ('opens', 1), ('saturdays', 1), ('sundays', 1), ('tuesdays', 1), ('reserved', 1), ('exclusively', 1), ('women', 1), ('hire', 1), ('ladson', 1), ('magnolia', 2), ('championship', 1), ('cape', 1), ('cod', 1), ('round', 1), ('massachusetts', 1), ('townhomes', 1), ('cove', 2), ('townhouse', 1), ('sleeping', 1), ('wet', 1), ('stereo', 1), ('towneplace', 3), ('easton', 1), ('video', 1), ('columbus', 2), ('brewery', 1), ('vilamarí', 1), ('espanya', 1), ('vilamarí’s', 1), ('controlled', 1), ('depending', 1), ('season', 2), ('mnac', 1), ('magic', 1), ('fountains', 1), ('versions', 1), ('catalan', 1), ('ramid', 2), ('korea', 1), ('men', 1), ('cinema', 1), ('stasio', 1), ('lobby’s', 1), ('coex', 1), ('gimpo', 1), ('incheon', 1), (\"park's\", 1), ('weston', 2), ('grizzly', 1), ('wolf', 1), ('paddle', 1), ('giant', 1), ('transfers', 2), ('crawley', 3), ('trains', 1), ('arora', 2), ('waterfall', 1), ('soundproof', 1), ('term', 1), ('packages', 1), ('celebrating', 1), ('sussex', 2), ('counties', 1), ('famed', 1), ('morgan’s', 1), ('shows', 1), ('hearty', 1), ('takes', 1), ('brighton', 1), ('landscaped', 1), ('rosa', 1), ('sonoma', 1), ('napa', 1), ('flamingo', 1), ('lap', 1), ('group', 1), ('intense', 1), ('lazeaway', 1), ('everyday', 1), ('choisy', 1), ('mauritius', 1), ('lying', 1), ('haven', 2), ('eager', 1), ('bustle', 1), ('discerning', 2), ('picture', 1), ('amidst', 1), ('splendour', 2), ('entertaining', 1), ('revel', 1), ('tranquillity', 1), ('exquisite', 1), ('tempt', 1), ('traveller', 2), ('affords', 1), ('unrivalled', 1), ('pleasanton', 3), ('580', 1), ('stonebridge', 1), ('originally', 1), ('georgian', 1), ('avisford', 2), ('89', 1), ('parkland', 1), ('chichester', 1), ('arundel', 1), ('southampton', 1), ('croquet', 1), ('andtable', 1), ('tables', 1), ('former', 2), ('prep', 1), ('names', 1), ('boys', 1), ('engraved', 1), ('wall', 1), ('panels', 1), ('opt', 1), ('relaxed', 1), ('now', 3), ('reopen', 1), ('dubai’s', 1), ('deira', 2), ('dubai', 2), ('phenicia', 1), ('phenicia’s', 1), ('baniyas', 1), ('seven', 1), ('astra', 1), ('opera', 2), ('garnier', 1), ('madeleine', 1), ('grands', 1), ('magasins', 1), ('vendome', 1), ('rue', 1), ('paix', 1), ('sumptuous', 1), ('noted', 1), ('artwork', 1), ('exhibitions', 1), ('façade', 1), ('vie', 1), ('82', 1), ('await', 1), ('agenda', 1), ('answer', 1), ('questions', 1), ('serena', 3), ('fruits', 1), (\"32''\", 1), ('briza', 1), ('exotic', 2), ('midnight', 2), ('whitehorse', 2), ('cup', 1), ('erik', 1), ('nielsen', 1), ('palmer', 1), ('barcelo', 2), ('multi', 1), (\"kid's\", 1), ('spent', 1), ('sip', 1), ('caracol', 1), ('cascada', 1), ('yonge', 1), ('dundas', 1), ('filmores', 2), ('toronto', 3), ('dancing', 1), (\"gentleman's\", 1), ('ground', 1), ('fan', 1), ('eaton', 1), ('billy', 1), ('bishop', 1), ('seafront', 1), ('437', 1), ('gently', 1), ('sloping', 1), ('1896', 1), ('eastbourne’s', 1), ('verandah', 1), ('discount', 1), ('voucher', 1), ('collected', 1), ('unrestricted', 1), ('but', 2), ('guarantee', 1), ('algarve', 1), ('facing', 1), ('amizing', 1), ('praia', 1), ('rocha', 1), ('portimao', 1), ('don’t', 1), ('become', 1), ('legendary', 1), ('bands', 1), ('attitude', 1), ('timeless', 1), ('verb', 2), ('fenway’s', 1), ('buzzing', 1), ('scene', 1), ('began', 1), ('way', 1), ('1959', 1), ('fenway', 3), ('doors', 1), ('1271', 1), ('boylston', 1), ('93', 1), ('boston', 1), ('coming', 1), ('soon', 1), ('brand', 1), ('hojoko', 1), ('tim', 1), ('cushman', 1), ('putting', 1), ('finishing', 1), ('touches', 1), ('excited', 1), ('might', 1), ('checkin', 1), ('october', 2), ('vehicle', 1), ('lodging', 1), ('cr', 1), ('535', 1), (\"orlando's\", 1), ('abundant', 1), ('exciting', 1), (\"world's\", 1), ('lhaviyani', 1), ('kanuhura', 2), ('retreat', 2), ('crystal', 1), ('lagoon', 2), ('dock', 1), ('semi', 1), ('seaplane', 1), ('flood', 1), ('squash', 1), ('mano', 1), ('spreads', 1), ('pasta', 1), ('grilled', 1), ('cowry', 1), ('veli', 1), ('jehunuhura', 1), ('juneau', 1), ('baranof', 1), ('1939', 1), ('alaska’s', 1), ('resorts', 1), ('pristine', 1), ('topical', 1), ('paradise', 1), ('enchanting', 1), ('archipelago', 1), ('recent', 1), ('achieved', 1), ('recognized', 1), ('attraction', 1), ('expanses', 1), ('idyllic', 1), ('nation', 1), ('34km', 1), ('speedboat', 1), ('mesmerising', 1), ('turquoise', 1), ('waters', 1), ('islamic', 1), ('presidential', 1), ('planned', 1), ('nothing', 1), ('desired', 1), ('hospitable', 1), ('environment', 1), ('solitude', 1), ('villa', 1), ('specimen', 1), ('drawing', 1), ('films', 1), ('‘boy', 1), (\"dolphin'\", 1), ('staring', 2), ('sophia', 1), ('loren', 1), ('‘a', 1), ('girl', 1), (\"black'\", 1), ('elli', 1), ('labeti', 1), ('kingsport', 3), ('warriors’', 1), ('path', 1), ('ridgefields', 1), ('eps', 5), ('palais', 1), ('rhoul', 1), ('marrakech', 1), ('marrakesh', 1), ('bahia', 1), ('jemaa', 1), ('fnaa', 1), ('agdal', 1), ('wrap', 1), ('limo', 1), ('touristic', 1), ('wells', 2), ('cottages', 2), ('promises', 1), ('me', 1), ('fairhaven', 2), ('millicent', 1), ('bedford', 2), ('whaling', 2), ('pedestrian', 2), ('norden', 2), ('romantik', 1), ('reichshof', 1), ('welcoming', 1), ('furnishing', 1), ('reichshof’s', 1), ('meer', 1), ('und', 1), ('moor', 1), ('refresh', 1), ('robe', 1), ('slippers', 1), ('zillestube', 1), ('rustic', 1), ('bauernstube', 1), ('alt', 1), ('choices', 1), ('inter', 2), ('sud', 2), ('sextant', 2), ('labège', 1), ('september', 1), ('basilique', 1), ('sernin', 1), ('harrah’s', 1), ('finest', 1), ('consistently', 1), ('ranked', 1), ('condé', 1), ('nast', 1), ('traveler', 1), ('windsor', 1), ('orleans’', 1), ('unusually', 1), ('either', 1), ('window', 1), ('mississippi', 1), ('key', 2), ('duval', 1), ('southernmost', 3), ('cheese', 1), ('conservatory', 1), ('ernest', 1), ('hemingway', 1), ('1148', 1), ('pensionat', 1), ('strandhagen', 1), ('farjestaden', 1), ('stora', 1), ('ror', 1), ('ekerum', 1), ('vida', 1), ('kalmar', 1), ('saxnäs', 1), ('nh', 2), ('bogotá', 3), ('boheme', 2), ('exclusive', 1), ('zona', 1), ('t', 2), ('you’ll', 1), ('andino', 1), ('retiro', 1), ('atlantis', 1), ('colombian', 3), ('brands', 1), ('hardwood', 2), ('it’s', 1), ('connecting', 1), ('fragrant', 1), ('squeezed', 1), ('surround', 1), ('delicacies', 1), ('citizens', 1), ('regardless', 1), ('length', 1), ('foreigners', 2), ('least', 1), ('consecutive', 1), ('date', 1), ('departure', 1), ('visa', 1), ('exempt', 2), ('another', 1), ('exceptions', 1), ('ann', 2), ('arbor', 2), ('michigan', 1), ('yost', 1), ('crisler', 1), ('detroit', 1), ('fenwick', 3), ('miniature', 1), ('thunder', 1), ('villeneuve', 1), ('avignon', 2), ('loungers', 1), ('marseille', 1), ('a9', 1), ('leading', 1), ('nimes', 1), ('montpellier', 1), ('edventure', 1), ('columbia', 5), ('size', 1), ('cookware', 1), ('dishware', 1), ('oakdale', 1), ('traditions', 3), ('ascend', 2), ('tavern', 1), ('binghamton', 2), ('greater', 1), ('thann', 1), ('moschenross', 3), ('alsace', 1), ('airy', 1), ('mulhouse', 1), ('colmar', 1), ('27', 1), ('mitchell', 3), ('dakota', 3), ('wesleyan', 1), ('americinn', 2), ('corn', 1), ('globe', 1), ('interconnected', 1), ('hurricane', 1), ('opotiki', 2)])\n",
            "defaultdict(<class 'int'>, {'etoile': 1, 'en': 248, 'main': 7, 'has': 63, 'sorry': 248, 'morning': 26, 'bar': 77, '15': 38, 'minute': 76, 'served': 40, 'avenue': 2, 'fitted': 14, 'screen': 94, 'flat': 91, 'street': 13, 'from': 192, 'bathroom': 60, 'the': 250, 'breakfast': 126, 'of': 192, 'additional': 19, \"nice's\": 1, 'this': 248, 'is': 250, 'which': 32, 'spaces': 3, 'nice': 1, 'away': 102, 'at': 181, 'offer': 33, 'throughout': 21, 'vieux': 2, 'anglais': 1, 'access': 83, 'some': 42, 'district': 23, 'just': 70, 'located': 142, 'it': 55, 'selected': 248, 'lakmi': 1, 'on': 114, 'a': 243, 'language': 248, 'medecin': 1, 'in': 249, '13': 8, 'every': 45, 'des': 5, 'conditioned': 45, 'air': 79, 'guest': 55, 'rooms': 160, 'shown': 248, 'walk': 61, 'ville': 1, 'next': 6, 'feet': 34, 'jean': 1, 'and': 249, 'with': 195, 'parking': 78, 'leads': 1, 'promenade': 2, 'wrought': 1, 'newspapers': 12, '1969': 2, 'shopping': 39, 'hairdryer': 32, 'place': 17, 'private': 84, 'available': 248, 'historic': 22, 'best': 16, 'are': 161, 'be': 71, 'soundproofed': 3, 'spacious': 28, 'there': 24, 'furniture': 4, 'hotel': 193, 'not': 248, 'massena': 1, 'an': 119, 'train': 14, 'city': 51, 'room': 120, 'center': 136, 'western': 13, 'cost': 5, 'cannot': 2, 'iron': 5, 'to': 150, 'buffet': 36, 'booked': 4, 'advance': 2, 'guests': 140, 'site': 70, 'each': 69, 'tv': 130, 'feature': 39, 'six': 6, 'wifi': 63, 'station': 39, 'information': 248, 'also': 110, 'for': 121, 'balcony': 21, 'bayswater': 1, \"london's\": 1, 'reach': 5, 'tea': 29, 'fruit': 8, 'traditional': 10, 'hyde': 2, 'leafy': 1, 'couple': 1, 'have': 55, 'comfort': 24, 'meals': 16, 'breakfasts': 4, 'restaurants': 39, 'fresh': 14, 'lunch': 16, \"hotel's\": 15, 'tussauds': 2, 'end': 2, 'famous': 5, 'wide': 5, 'modern': 36, 'hall': 5, 'inn': 63, 'wi': 72, 'hd': 2, 'yards': 5, 'queensway': 1, 'can': 122, 'court': 7, 'shower': 30, 'paddington': 1, 'evening': 9, 'royal': 9, 'lively': 3, '20': 26, 'stops': 2, 'doorstep': 6, 'work': 29, '30': 14, 'free': 179, 'selection': 9, 'both': 15, 'facilities': 91, 'coffee': 76, 'after': 9, 'found': 6, 'underground': 4, 'making': 22, 'continental': 34, 'albert': 1, \"earl's\": 2, 'safe': 18, 'park': 68, 'fi': 71, 'desk': 70, '10': 50, 'within': 72, 'features': 88, 'range': 12, 'bars': 12, 'along': 11, 'ride': 11, 'mornings': 2, '215': 1, 'oxford': 2, 'madame': 2, 'croissants': 1, 'cereals': 2, 'west': 10, 'indoor': 47, 'eggs': 4, 'hour': 64, 'short': 15, 'cereal': 4, 'daily': 42, 'plus': 7, '5': 57, 'shoppes': 1, 'tub': 30, 'offered': 23, 'bluewood': 1, 'microwave': 37, 'fitness': 58, 'trail': 5, 'barbecue': 7, 'fridge': 21, 'skiing': 4, '25': 7, 'business': 78, 'ski': 5, '9': 26, 'meats': 1, 'front': 39, 'minutes': 49, 'unique': 8, 'lewis': 1, 'satellite': 25, 'pastries': 3, 'relaxation': 1, 'clark': 2, 'hot': 41, 'locally': 1, 'use': 24, 'dayton': 3, 'various': 8, 'juices': 4, '24': 69, 'pool': 108, 'owned': 1, 'included': 28, 'property': 74, 'state': 23, 'mountain': 6, 'miles': 63, 'small': 12, 'village': 7, 'blue': 2, 'minutes’': 21, 'provided': 60, 'university': 29, 'fort': 6, 'carte': 6, 'cheyenne': 1, 'à': 4, 'provides': 35, 'la': 20, 'regional': 12, 'hughes': 1, 'accommodation': 21, '1': 43, 'autograph': 1, 'collection': 8, 'airport': 89, 'while': 41, 'service': 68, 'entertainment': 30, '2': 58, 'restaurant': 81, 'nearest': 22, 'terrace': 40, 'elizabeth': 1, 'atm': 3, '46': 1, 'collins': 1, 'stadium': 14, 'among': 3, 'american': 20, 'options': 18, 'colorado': 1, 'channels': 24, 'drink': 19, 'cycling': 8, 'u': 4, 'water': 19, 'sattahip': 1, '18': 9, 'nooch': 1, 'tropical': 5, 'contain': 4, 'deposit': 10, 'shuttle': 28, 'area': 73, 'swimming': 31, 'paid': 3, 'kitchen': 19, 'conditioning': 32, 'star': 28, 'around': 11, 'linen': 8, 'tapao': 1, '8': 34, 'seafood': 5, 'electric': 4, 'seating': 24, 'garden': 35, 'offers': 124, 'dishes': 20, 'cartoon': 1, 'pot': 1, '6': 33, 'play': 6, 'pizza': 2, 'outdoor': 69, 'toiletries': 26, 'box': 11, 'botanical': 2, 'nordic': 1, 'amazone': 1, 'views': 28, 'or': 77, 'ping': 1, 'others': 3, 'bed': 23, 'pattaya': 1, 'enjoy': 83, 'safety': 8, 'resort': 20, 'network': 1, 'rayong': 1, '12': 14, 'accommodations': 29, 'eastern': 2, 'includes': 20, 'equipped': 50, 'golf': 35, 'pong': 1, 'you': 64, 'dining': 46, 'emerald': 1, 'cable': 78, 'international': 50, 'hiking': 11, '4': 49, 'popular': 13, 'towels': 12, 'ramayana': 1, '3': 52, 'course': 17, 'nong': 1, 'teatro': 1, 'surcharge': 11, 'theater': 7, 'polytechnic': 1, 'luggage': 13, 'rainfall': 1, 'tour': 11, 'olympic': 3, 'basilica': 2, '7': 35, 'distances': 1, 'basílica': 1, 'mindalae': 1, 'catholic': 1, 'make': 40, 'by': 55, 'cuisine': 25, 'atahualpa': 1, 'lounge': 39, 'internet': 51, 'storage': 13, 'showers': 12, 'hostel': 1, 'meal': 9, 'pontifical': 1, 'include': 88, 'local': 33, 'connected': 20, 'comedias': 1, 'pontificia': 1, 'agora': 1, 'quito': 1, 'near': 23, 'preferred': 1, 'such': 18, 'home': 29, 'featured': 28, 'mariscal': 1, 'mistral': 1, 'centrally': 9, 'your': 44, 'amenities': 57, 'roundtrip': 7, '00': 7, 'displayed': 1, 'square': 18, 'showerheads': 1, 'bathrooms': 28, 'foot': 4, 'complimentary': 51, 'school': 2, '0': 18, 'thirst': 6, 'mile': 14, 'museum': 35, 'multicentro': 1, 'yourself': 20, 'km': 19, 'educador': 1, 'recreation': 9, 'sucre': 1, 'as': 62, 'one': 49, 'house': 25, 'multilingual': 5, 'satisfying': 6, 'patio': 6, 'craft': 4, 'intl': 1, 'market': 7, \"you'll\": 17, 'uio': 1, 'ecuador': 1, 'stay': 47, 'wireless': 40, 'foch': 1, 'vow': 1, 'favorite': 8, 'ecuadorian': 1, 'gabriela': 1, 'fee': 8, 'take': 22, 'mi': 55, 'de': 12, 'culture': 1, 'bank': 3, 'guestrooms': 29, 'keep': 5, '35': 7, 'central': 17, 'comercial': 1, 'ticket': 8, 'cultural': 4, 'selina': 1, 'national': 12, 'carolina': 8, 'centro': 1, 'trude': 1, 'quench': 6, 'staff': 21, 'kilometer': 1, '11': 17, 'sojka': 1, 'view': 17, 'hours': 13, '21': 3, 'assistance': 7, '62': 1, 'el': 5, 'am': 7, '26': 3, 'walden': 1, 'ponds': 1, 'riverscape': 1, 'staybridge': 3, 'contemporary': 10, 'island': 15, 'kings': 3, 'suites': 38, 'miamisburg': 1, 'ihg': 2, 'schuster': 1, 'performing': 2, 'car': 17, 'club': 26, 'motor': 2, '14': 7, 'benjamin': 1, 'cox': 1, 'convention': 15, 'm': 2, 'company': 1, 'arts': 3, 'shaker': 1, 'marian': 1, 'james': 2, 'run': 5, 'moment': 1, 'our': 17, 'splash': 3, 'family': 14, 'we': 6, 'more': 11, 'will': 52, 'trips': 2, 'campus': 2, 'stays': 7, 'beaches': 5, 'trip': 1, 'gsu': 1, 'south': 17, 'treated': 1, 'across': 6, 'many': 18, 'whenever': 1, 'simple': 4, 'town': 18, 'member': 2, 'attractive': 3, 'than': 19, 'aquatic': 1, 'opened': 3, 'wildlife': 2, 'education': 1, 'locations': 1, 'day': 23, 'technical': 2, 'nearby': 30, 'library': 7, 'style': 15, 'wonderful': 4, 'right': 6, 'travel': 4, 'georgia': 2, 'like': 14, 'college': 7, 'us': 5, 'tybee': 1, 'savannah': 1, 'southern': 2, 'their': 22, 'who': 3, 'imagine': 1, 'boro': 1, 'ogeechee': 1, 'newly': 2, 'those': 4, 'waterfront': 7, 'seattle': 2, 'marriott': 5, 'experience': 6, 'true': 1, 'discover': 6, 'saddledome': 1, 'during': 15, 'operates': 1, 'sunridge': 1, 'phones': 6, 'calgary': 1, 'signature': 4, 'drive': 70, 'eco': 2, 'provide': 21, 'out': 23, 'consisting': 1, 'programming': 15, 'catch': 4, 'weekends': 2, 'space': 6, 'tennis': 13, 'kitchens': 5, 'lakeview': 1, 'wired': 13, 'freezers': 2, 'spa': 26, 'conveniences': 18, 'meeting': 20, 'miss': 2, '120': 1, 'players': 5, 'calls': 14, 'scotiabank': 1, '125': 1, 'centre': 7, 'featuring': 48, 'opportunities': 12, 'conference': 12, 'friendly': 18, 'lougheed': 1, 'full': 24, 'fireplace': 8, 'lobby': 29, 'stampede': 1, 'sized': 2, 'kilometers': 1, 'recreational': 17, \"don't\": 1, 'meters': 4, 'weekdays': 4, 'event': 5, 'including': 40, 'peter': 1, 'planning': 3, 'dvd': 8, '1350': 1, 'well': 49, 'limited': 11, 'microwaves': 13, 'when': 9, 'makers': 13, 'mall': 27, 'refrigerators': 17, 'goodwin': 1, 'field': 4, 'minigolf': 1, 'arkansas': 1, 'closet': 3, 'camden': 1, 'decorated': 24, 'building': 9, 'shops': 8, '2953': 3, 'tower': 9, 'pubs': 3, 'set': 22, 'enjoys': 3, 'made': 3, 'petřín': 1, 'apartments': 9, 'river': 7, 'easy': 20, 'kitchenette': 6, 'apartment': 5, 'malostranská': 1, 'castle': 5, 'ujezd': 1, 'toaster': 1, 'cleaning': 8, 'bathtub': 8, 'kettle': 3, 'tram': 2, 'prague': 1, 'catered': 1, 'comes': 15, 'consists': 2, 'sady': 1, '3117': 1, '656': 6, 'vltava': 1, 'self': 17, 'units': 14, 'arrangements': 2, 'upon': 11, 'organized': 2, 'eiffel': 1, 'numerous': 3, 'between': 7, 'request': 12, 'stylishly': 1, 'all': 98, 'petřínské': 1, 'called': 1, 'stop': 7, 'old': 10, 'reachable': 2, 'come': 22, 'enjoyed': 12, 'soltigua': 1, 'walking': 15, 'apart': 1, 'shuttles': 1, 'mendoza': 1, 'residential': 4, 'quiet': 10, 'secure': 1, 'ups': 3, 'they': 13, 'excursions': 1, 'wineries': 2, 'bedding': 3, 'extra': 11, 'sun': 11, 'distance': 20, 'gabrielli': 1, 'seasonal': 15, 'drinks': 18, 'bbq': 3, 'choice': 17, 'covered': 1, 'help': 5, 'branded': 1, 'being': 2, 'utensils': 2, 'fax': 12, 'protocols': 1, 'donaldsonville': 1, 'smoke': 3, 'program': 2, 'may': 8, 'top': 6, 'confidence': 1, 'hotels': 7, 'cook': 2, 'francisco': 3, 'outlet': 5, 'mind': 1, 'new': 16, 'services': 45, 'tanger': 4, 'improved': 1, 'privileges': 1, 'houmas': 1, 'casino': 12, 'cleanliness': 1, 'earn': 1, 'let': 1, 'cooking': 2, 'variety': 23, 'plantation': 3, 'suburban': 1, 'longer': 4, 'rewards': 1, 'part': 4, 'products': 3, 'copy': 11, 'alley': 3, 'st': 9, 'oak': 2, 'money': 2, 'that': 29, 'joseph': 1, 'burner': 1, 'studios': 3, 'san': 9, 'tops': 1, 'save': 1, 'gonzales': 1, 'sunshine': 2, 'stylish': 11, 'major': 6, 'other': 28, 'mini': 23, 'ilha': 1, '2625': 7, 'valet': 3, '1312': 1, 'training': 2, 'beiramar': 1, 'extras': 4, 'premises': 4, 'gym': 26, 'bus': 7, 'toilet': 2, 'guest´s': 1, 'commercial': 3, 'financial': 4, 'convenience': 20, 'da': 4, 'weight': 2, 'porto': 2, 'florianópolis': 1, 'hercílio': 1, 'entry': 1, 'heart': 8, 'close': 27, 'luz': 1, 'beyond': 2, 'arranged': 4, 'boards': 9, 'belgian': 1, 'added': 2, 'two': 5, 'tvs': 9, 'lcd': 13, 'hair': 17, 'dryers': 13, 'own': 6, 'muffins': 2, 'irons': 9, '100': 7, 'cold': 3, 'laundry': 30, 'smoking': 11, 'families': 4, 'ironing': 26, 'interstate': 20, 'quality': 8, 'heated': 9, 'non': 12, 'movie': 6, 'suitable': 1, 'waffle': 2, 'gods': 1, 'off': 23, 'premium': 19, 'go': 14, 'areas': 24, 'only': 25, 'force': 2, 'branch': 1, 'holiday': 11, 'washington': 5, 'less': 17, 'springs': 3, 'd': 3, 'swim': 12, 'c': 3, 'camp': 1, 'conveniently': 11, 'maryland': 1, 'andrews': 1, 'metro': 13, 'sightseeing': 4, 'base': 7, 'attractions': 18, 'express': 17, 'corporate': 4, 'durham': 1, 'centurylink': 1, 'clarion': 2, 'several': 9, 'route': 4, 'high': 20, 'courses': 5, 'raleigh': 2, 'inch': 11, 'arenas': 2, 'businesses': 4, 'voice': 3, 'wake': 2, 'hbo': 8, 'wral': 1, 'flextronics': 1, 'fishing': 7, 'complex': 9, 'surrounding': 10, 'mail': 3, 'lounges': 6, 'powersecure': 1, 'equipment': 3, 'definition': 2, 'soccer': 2, 'north': 13, 'factory': 1, 'emergency': 1, 'speed': 10, 'weekday': 4, 'pointe': 2, 'america': 7, 'triangle': 1, 'falls': 5, '–': 11, 'televisions': 16, 'baptist': 1, 'cocktail': 10, 'inc': 1, 'novozymes': 1, 'exercise': 4, 'boating': 3, 'southeastern': 1, 'chaplains': 1, 'theological': 1, 'four': 4, 'downtown': 25, 'museums': 6, 'sports': 15, 'newspaper': 6, 'ice': 4, 'visitors': 3, 'antique': 1, 'specialty': 3, 'corporations': 3, 'travelers': 14, 'appreciate': 8, 'lake': 10, '32': 5, 'soccerplex': 1, 'forest': 2, 'seminary': 1, 'veterans': 1, 'find': 25, 'white': 5, 'generator': 1, 'rental': 5, 'shared': 7, 'vegan': 1, 'vietnam': 1, 'memorial': 3, 'dc': 1, 'bike': 3, 'vegetarian': 1, 'phillips': 1, 'serving': 10, 'reagan': 1, 'dairy': 1, 'requested': 5, 'ronald': 1, 'apply': 2, 'systems': 1, 'stock': 2, 'points': 5, 'five': 8, 'ranch': 3, 'whirlpool': 4, 'railway': 4, 'prairie': 1, 'shadeland': 1, 'interest': 4, 'midland': 2, 'recliners': 1, 'charges': 4, 'rail': 2, 'heritage': 1, 'addition': 7, 'farm': 2, 'about': 3, 'bathtubs': 4, 'baker': 1, 'nintendo': 1, 'spirit': 3, 'municipal': 6, 'desks': 6, 'kansas': 2, 'game': 8, 'auditorium': 2, 'nonsmoking': 7, 'buffalo': 2, 'television': 17, 'ottawa': 1, 'beach': 37, '65': 2, 'metres': 2, 'baska': 1, '500': 1, 'nicholas': 1, 'here': 3, \"guests'\": 7, 'civljak': 1, 'fully': 15, 'reached': 8, 'voda': 1, 'furnished': 16, '400': 1, 'split': 2, 'pebbly': 1, 'church': 4, 'disposal': 1, 'most': 12, 'guesthouse': 1, 'millennia': 1, 'nightlife': 2, 'sea': 12, 'walt': 2, 'ideal': 8, 'charged': 3, 'disney': 2, 'entrance': 6, 'sheduled': 1, 'first': 6, 'blues': 1, 'start': 8, 'parks': 6, 'transportation': 6, 'scheduled': 2, 'adults': 4, 'epcot': 1, 'so': 4, 'universal': 1, '95': 4, 'orlando': 2, 'good': 12, 'neighbor': 1, 'slide': 1, 'taxes': 3, 'unlimited': 2, 'children': 3, 'seaworld': 3, 'buena': 2, 'natural': 5, 'welcome': 9, 'world®': 1, 'vista': 3, 'florida': 5, 'phone': 3, \"lot's\": 1, 'class': 3, 'great': 25, 'theme': 6, 'world': 6, 'appetizers': 1, 'get': 8, 'dallas': 3, 'maker': 18, 'southwestern': 2, 'amusement': 3, 'sheraton': 3, 'dine': 6, 'snack': 7, 'arlington': 2, 'flags': 5, 'parkside': 1, 'grille': 2, 'texas': 8, 'over': 14, 'vistula': 1, 'yard': 2, 'nightclub': 2, 'sights': 4, '600': 2, 'copernicus': 1, 'marble': 2, 'original': 1, 'hairdressing': 1, 'wellness': 9, 'picturesque': 4, 'important': 1, 'surrounded': 12, 'salon': 1, 'leaning': 1, '2297': 3, 'boast': 1, 'toruń': 1, 'planty': 1, 'wisła': 1, 'panorama': 2, 'elements': 2, '1640': 1, 'chef': 2, 'created': 1, 'number': 7, 'miasto': 1, 'bowling': 3, 'shore': 1, 'golden': 1, 'orpheum': 1, 'warfield': 1, 'theatre': 5, 'gate': 1, 'plaza': 10, 'united': 1, 'nations': 1, 'federal': 1, 'clock': 8, 'wat': 1, 'night': 7, 'suan': 1, 'unit': 2, 'chiang': 1, 'saturday': 3, 'fah': 1, 'luang': 1, 'bicycle': 6, 'rai': 2, 'pra': 1, 'mae': 1, 'sing': 1, 'nai': 1, 'relax': 25, 'indias': 1, 'sessions': 2, 'overlook': 2, 'domingo': 1, 'reservation': 2, '50': 4, 'colonial': 3, 'santo': 1, 'luxury': 5, 'ipod': 6, 'linens': 2, 'agustin': 1, 'rosario': 1, 'docking': 6, 'location': 30, \"city's\": 2, 'solarium': 2, 'needed': 1, 'cartagena': 1, 'possible': 4, 'boat': 1, 'rafael': 1, 'streets': 2, 'bocagrande': 1, 'casa': 3, 'internal': 2, 'islands': 2, 'rentals': 2, 'massage': 11, 'castillo': 1, 'diego': 2, 'grande': 4, 'nuñez': 1, 'satisfy': 2, 'shop': 13, 'needs': 8, 'medical': 5, 'chairs': 5, 'highway': 7, 'refreshment': 1, 'simply': 11, 'brookhollow': 1, 'port': 8, 'table': 8, 'hunger': 1, 'houston': 4, 'refrigerator': 29, 'authority': 1, 'styled': 3, 'activity': 6, 'pet': 6, 'refreshing': 8, 'red': 6, 'reliant': 1, '290': 1, 'vending': 9, 'roof': 4, 'launderette': 4, 'accessible': 4, 'purchases': 1, 'machines': 7, 'valletta': 1, 'mingle': 3, 'bidets': 2, 'facials': 5, 'items': 5, 'proximity': 13, \"paul's\": 1, 'treat': 1, 'manoel': 1, 'george': 4, 'anglican': 1, 'held': 3, 'mediterranean': 6, 'coleridge': 1, 'safes': 7, 'common': 6, 'concierge': 15, 'minibar': 2, 'keeps': 13, 'reception': 18, 'housekeeping': 9, 'massages': 7, 'dulles': 1, 'standout': 1, 'clear': 2, 'crowne': 1, 'graham': 1, 'battleground': 1, 'offering': 13, 'alamance': 1, 'community': 5, 'machine': 8, 'venues': 3, 'sofa': 13, 'outlets': 4, 'danish': 1, 'willowbrook': 1, 'whole': 1, 'parsippany': 1, 'prepackaged': 1, 'muffin': 1, 'mercedes': 1, 'bottle': 1, 'piece': 1, 'merrill': 1, 'granola': 1, 'lynch': 1, 'complete': 9, 'morristown': 1, 'staying': 5, 'sonesta': 1, 'offices': 1, '80': 2, 'benz': 1, 'rockaway': 1, 'es': 1, 'stove': 2, 'supplied': 1, 'ohio': 4, 'motel': 12, 'intestate': 1, 'cincinnati': 1, 'vinyl': 1, 'flooring': 2, '75': 3, 'franklin': 1, '17': 9, 'babysitting': 4, 'samui': 1, 'up': 15, 'bangkok': 2, 'destinations': 2, 'steam': 6, 'buncha': 1, 'hospital': 5, 'boxing': 1, 'body': 4, 'chaweng': 1, 'treatments': 7, 'phetch': 1, 'childcare': 3, 'thai': 1, 'festival': 1, 'soak': 3, 'where': 9, 'koh': 1, 'mimizan': 1, 'fin': 1, 'sunbathe': 1, 'single': 1, 'biarritz': 1, 'current': 1, 'lodge': 5, 'countryside': 3, 'tnt': 1, 'aureilhan': 1, 'overlooks': 1, 'plage': 1, 'bordeaux': 2, '984': 2, 'suite': 8, 'i': 5, 'situated': 10, 'delivery': 1, 'country': 9, 'health': 7, 'player': 6, 'activities': 21, 'volleyball': 4, 'media': 1, 'leisure': 8, 'cd': 1, 'hill': 4, 'dinner': 20, 'fairfield': 2, 'serves': 35, '85': 1, 'long': 6, 'hotel’s': 8, 'proposes': 1, 'stunning': 7, 'diving': 4, 'basketball': 1, 'seaside': 1, 'architecture': 2, 'courts': 9, 'vary': 1, 'lb': 1, 'music': 4, 'gastronomic': 1, 'gardens': 9, 'décor': 10, 'check': 12, 'attended': 1, 'lines': 1, 'secretarial': 1, 'windsurfing': 1, 'canoe': 1, 'combined': 1, 'its': 15, 'elegant': 11, 'guests’': 1, 'wines': 3, 'scuba': 2, 'gulf': 2, 'beachfront': 4, 'accompanied': 2, \"peloponnese's\": 1, 'greek': 1, 'minimal': 1, 'corinthian': 1, 'coast': 7, 'sets': 1, 'labels': 1, 'hospitality': 4, 'road': 1, 'a1a': 1, 'ormond': 1, 'travelodge': 2, 'galleria': 1, 'boulevard': 2, 'lauderdale': 1, 'art': 20, 'olas': 1, 'bath': 16, 'hollywood': 2, 'las': 5, 'price': 1, 'charge': 10, 'arrival': 1, '31': 3, '900': 1, 'reviews': 1, 'any': 2, 'harbour': 2, 'standard': 13, 'booking': 1, 'min': 2, 'princes': 1, 'fortress': 2, 'according': 3, 'if': 5, 'treasure': 2, 'refundable': 1, 'pier': 3, 'rate': 2, 'london': 7, 'before': 2, 'borough': 1, 'cancel': 1, 'devonshire': 1, 'head': 2, 'redoubt': 1, 'lawns': 1, '33': 3, 'bandstand': 1, 'total': 3, 'even': 3, 'congress': 1, 'council': 2, 'military': 2, 'until': 4, 'h3': 2, 'lawn': 2, 'time': 6, 'amendable': 1, 'gatwick': 3, 'purchase': 1, 'favourite': 1, 'eastbourne': 1, 'days': 9, 'independent': 1, 'sovereign': 1, 'beachy': 1, 'civic': 1, 'personal': 2, 'gallery': 5, 'loft': 2, 'colored': 2, 'chedoke': 1, 'cardio': 3, 'sheraton’s': 1, 'deck': 3, 'boldly': 1, 'center’s': 2, 'weights': 1, 'snacks': 13, 'hamilton': 2, \"chagall's\": 1, 'monument': 1, 'pompeys': 1, 'bighorn': 1, 'billings': 1, 'pillar': 1, '90': 2, 'comfortable': 20, 'yegen': 1, 'montana': 2, 'little': 2, 'battlefield': 2, '36': 1, 'laundromat': 2, 'yellowstone': 2, '68': 1, 'wine': 9, 'spot': 2, \"minutes'\": 13, 'list': 6, 'fun': 5, 'traditionally': 2, 'poolside': 6, \"nordick's\": 1, 'glen': 2, 'splashwater': 1, 'escape': 2, 'kingdom': 1, \"porreca's\": 1, 'super': 7, 'bush': 1, 'ridge': 5, 'mills': 4, 'katy': 1, 'brookshire': 1, 'grab': 11, 'point': 6, 'adams': 1, 'adjacent': 7, 'arrowhead': 1, 'driving': 3, 'chiefs': 1, 'team': 1, 'missouri': 1, 'truman': 1, 'independence': 2, 'coffeemakers': 1, 'do': 3, 'baseball': 1, 'explore': 6, 'topgolf': 1, 'bean': 1, 'rivers': 1, 'fairview': 1, 'blaza': 1, 'cafe': 6, \"beez's\": 1, 'dunkin': 1, 'bridgeville': 1, 'hampton': 4, 'jackalope': 1, 'bella': 1, 'guys': 1, 'flight': 2, 'racetrack': 1, 'woodville': 1, 'pittsburgh': 1, 'watch': 2, 'southpointe': 1, 'roadhouse': 1, 'wings': 1, 'trampoline': 1, 'burghs': 1, 'beverages': 6, 'looks': 2, 'dominated': 1, 'bright': 7, 'remarkable': 1, 'buildings': 5, 'ahead': 1, 'glass': 3, 'purpose': 1, 'sporting': 1, 'particularly': 1, 'orient': 1, 'relation': 1, 'three': 8, 'sparkling': 1, 'built': 4, 'disabled': 3, 'storeys': 2, 'seconds': 1, 'ellwood': 1, 'egyptian': 1, 'centers': 4, 'northern': 1, 'thoughtful': 4, 'dekalb': 1, 'illinois': 2, \"children's\": 6, 'comforts': 3, 'discovery': 4, 'store': 7, 'workout': 7, 'grills': 2, 'easily': 3, 'finley': 1, 'creative': 1, 'advantage': 13, 'tennessee': 2, 'sites': 6, 'chattanooga': 1, 'vibrant': 4, 'formerly': 1, 'inclusive': 6, 'barbados': 1, 'known': 1, 'sandy': 5, 'sands': 2, 'houndshill': 1, 'life': 7, 'grange': 1, 'waxworks': 1, 'rec': 8, 'convenient': 17, 'digital': 3, 'blackpool': 1, 'arms': 1, 'magnificent': 3, 'aim': 1, 'impart': 1, 'comprehensive': 1, 'meetings': 3, 'nature': 5, 'sensation': 1, 'villas': 4, 'designed': 10, 'venue': 3, 'pleasurable': 1, 'kind': 1, 'appealing': 1, 'awaits': 1, 'congresses': 1, 'perfect': 9, 'strategically': 3, 'modernity': 1, 'genuine': 1, 'visit': 8, 'alentejo': 1, 'ensure': 3, 'entirely': 1, 'ready': 4, 'harmony': 1, 'lago': 1, 'affording': 1, 'done': 1, 'surroundings': 7, 'unspoiled': 1, 'memories': 1, 'dam': 1, 'everything': 10, 'open': 14, 'warm': 5, 'montargil': 1, 'give': 2, 'unwind': 4, 'leisurely': 1, 'reservoir': 1, 'manner': 1, 'portugal': 1, 'german': 4, 'public': 13, 'sauna': 16, 'gerold': 1, 'cheerful': 1, 'pretty': 1, 'scheme': 1, 'quietly': 2, 'sunny': 1, 'fine': 4, 'outskirts': 2, 'varied': 5, 'happy': 5, 'paderborn': 1, 'color': 2, 'cathedral': 4, 'links': 4, 'transport': 3, 'individually': 5, 'grand': 10, 'student': 1, 'hôtel': 4, 'latin': 1, 'cinemas': 1, 'jumping': 1, 'le': 6, 'gobelins': 1, '45': 8, 'renovated': 3, 'bustling': 1, 'jardin': 2, 'experiencing': 1, 'means': 1, 'seeing': 1, 'liveliest': 1, 'plantes': 1, 'capital': 2, 'french': 4, 'paris': 1, 'cozy': 7, 'panthéon': 1, 'quarter': 2, 'seminar': 1, 'care': 2, 'institute': 1, \"chicago's\": 1, '43': 2, 'neighborhood': 3, '200': 2, 'hdtv': 1, 'millennium': 2, 'breath': 1, 'hilton': 8, 'flexible': 1, 'living': 6, 'beer': 3, 'chair': 6, 'fulton': 1, 'chicago': 3, 'loop': 2, 'separate': 8, 'pour': 1, 'homewood': 2, 'city’s': 3, 'tap': 2, 'rural': 2, 'fichtelgebirge': 1, 'bio': 2, 'cabin': 1, 'cozily': 1, 'delicious': 5, 'pamper': 2, 'peaceful': 2, 'amid': 2, 'children’s': 5, 'infrared': 1, 'playground': 4, 'finnish': 2, 'promise': 1, 'fichtelberg': 1, 'franconian': 1, 'afternoons': 1, 'filled': 2, 'routes': 1, 'schöneblick': 1, 'prime': 9, 'lummus': 1, 'fisher': 1, 'certain': 4, 'miami': 2, 'caters': 3, 'metropolitan': 2, 'ca': 1, 'reliable': 2, 'elevator': 5, 'angeles': 2, 'los': 1, 'apartel': 1, 'restful': 1, \"night's\": 4, 'mirror': 3, 'need': 8, 'professional': 4, 'sleep': 4, 'perfectly': 3, 'dog': 2, '3rd': 1, 'casinos': 1, 'person': 3, '4th': 1, 'knightsinn': 1, 'hallandale': 1, 'looking': 4, 'horse': 1, 'racing': 1, 'applies': 1, 'feeling': 1, 'advised': 1, 'clean': 1, 'individuals': 1, 'please': 5, 'allowing': 2, 'diplomat': 1, 'past': 1, 'insight': 1, 'hispanic': 1, 'been': 4, 'into': 7, 'buried': 1, 'joya': 1, 'arrange': 2, 'eruption': 1, 'archaeological': 1, 'populations': 1, 'under': 3, 'preserved': 1, 'farming': 1, 'lives': 1, 'volcanic': 1, 'pre': 1, 'was': 3, 'cerén': 1, 'instructors': 1, 'yoga': 1, 'premise': 1, 'frozen': 1, '28': 3, 'thoughtfully': 2, 'session': 1, 'filtered': 1, 'meet': 3, 'bentoliving': 1, \"you're\": 3, 'facility': 4, 'bootcamp': 1, '10pm': 2, 'pounds': 1, '30am': 1, 'sunday': 2, 'engage': 1, 'goods': 1, 'ceiling': 2, 'opening': 1, 'fare': 2, 'panoramic': 4, 'hart': 1, 'boutique': 3, 'friday': 3, 'galleries': 1, 'classes': 2, '60': 3, 'atrium': 1, 'bikes': 4, 'floor': 5, 'workouts': 1, 'cocktails': 5, 'towel': 1, 'skyline': 3, 'live': 5, '5pm': 1, 'marketplace': 2, 'accepted': 1, '9pm': 1, 'essentials': 1, 'events': 3, 'goals': 1, 'entire': 3, 'changing': 2, 'alike': 3, 'quick': 2, 'vibe': 1, 'peloton': 1, 'last': 2, 'max': 1, 'strength': 1, 'solo': 1, 'pets': 1, 'thursday': 1, 'winning': 4, '11pm': 1, 'hosted': 1, 'rooftop': 7, 'eat': 4, 'inspired': 4, 'onsite': 20, 'join': 1, 'windows': 1, 'brunch': 2, 'tax': 3, 'bodega': 1, '8am': 1, 'nashville': 1, 'healthy': 4, 'bento': 1, 'walkable': 1, 'creates': 1, 'destination': 2, 'something': 2, 'traveling': 2, 'mondays': 1, 'foodie': 1, 'pleasure': 3, '11am': 1, '2pm': 1, 'per': 5, 'nordictrack': 1, 'curated': 1, 'produce': 3, 'grocery': 2, 'closed': 2, 'weeks': 1, 'café': 7, 'few': 4, 'distilleries': 1, 'must': 3, 'tuesday': 2, 'dryer': 5, 'treadmills': 1, 'centered': 1, 'senses': 2, 'feel': 6, 'sweeping': 2, 'award': 6, 'picking': 1, 'nestled': 4, 'sweat': 1, 'chestnut': 1, 'hand': 2, 'rim': 1, 'uninterrupted': 1, 'handcrafted': 1, 'lined': 2, 'enthusiast': 1, 'whether': 4, 'weekly': 2, 'pacific': 2, 'washer': 1, 'plant': 1, 'vacation': 3, 'niagara': 2, 'breathtaking': 2, 'wedding': 3, 'spectacular': 3, 'moments': 1, 'steps': 2, 'cooked': 2, 'government': 1, 'augustine': 1, 'lightner': 1, 'flagler': 1, 'colony': 1, 'order': 5, 'lit': 2, 'trails': 2, 'coin': 5, 'dfw': 1, 'photocopy': 1, 'printing': 2, 'picnic': 2, 'wilderness': 1, 'worth': 1, 'grapevine': 1, 'completely': 4, 'veranda': 2, 'refreshments': 2, 'exceptional': 2, 'tastefully': 3, 'expresso': 1, 'finicky': 1, 'crabs': 1, 'grown': 1, 'mexican': 2, 'ever': 1, 'charming': 4, 'leader': 1, 'does': 1, 'experienced': 1, 'position': 2, 'oysters': 1, 'developed': 1, 'aware': 1, 'no': 7, 'premier': 2, 'compete': 1, 'love': 1, 'overlooking': 9, 'chefs': 1, 'exclusions': 1, 'laying': 1, 'select': 11, 'coastal': 1, 'kids': 3, 'piled': 1, 'result': 1, 'drinking': 1, 'very': 3, 'regular': 1, 'locked': 1, 'considered': 1, 'receive': 2, 'outstanding': 1, 'vita': 1, 'bracelets': 1, 'age': 2, 'games': 2, 'themed': 1, 'impromptu': 1, 'storm': 1, 'shrimp': 1, 'lobster': 1, 'happening': 1, 'buzz': 1, 'board': 8, 'average': 1, 'programs': 2, 'years': 2, 'wallet': 1, 'dolce': 1, 'eaters': 1, 'contained': 1, '228': 1, 'bracing': 1, 'italian': 6, 'crafts': 1, 'kids’': 1, 'butcher': 1, 'fantastic': 1, 'vacations': 1, 'shady': 1, 'djs': 1, 'marina': 3, 'adult': 1, 'mean': 2, 'dinners': 2, 'ages': 1, \"we're\": 1, 'reconnect': 1, 'still': 3, 'had': 1, 'late': 2, 'note': 4, 'lots': 1, 'mexico': 3, 'host': 2, 'ixtapa': 2, 'grounds': 3, 'eating': 1, 'italiano': 1, 'enormous': 1, 'directly': 6, 'eateries': 2, 'rotating': 1, 'gratuities': 1, 'stocking': 1, 'child': 1, 'corner': 2, 'focal': 1, 'carefully': 2, 'langosta': 1, 'evenings': 3, 'further': 5, 'moby': 1, 'automatic': 1, 'stretch': 1, 'heroes': 1, 'afternoon': 2, 'complemented': 1, 'shaded': 1, 'always': 1, 'hotspot': 1, 'older': 1, 'constantly': 1, 'beautiful': 8, 'fees': 2, 'relaxing': 9, 'pay': 4, 'pescador': 1, 'young': 1, 'back': 6, 'plenty': 2, 'welcomes': 1, \"it's\": 2, 'endless': 1, 'never': 2, 'shot': 1, 'change': 1, 'desserts': 1, 'relief': 1, 'tracks': 1, 'goes': 1, 'cheer': 1, 'literally': 1, 'specialties': 6, 'bingo': 1, 'chill': 1, 'safely': 1, 'different': 6, 'motorized': 1, \"there's\": 3, 'brain': 1, 'real': 3, 'land': 1, 'nightly': 1, 'pub': 2, 'leave': 4, 'confirm': 1, 'failure': 1, 'menu': 7, 'complement': 1, \"you've\": 1, 'plan': 2, 'dick': 1, 'breezes': 1, 'due': 1, \"royal's\": 1, 'lane': 2, 'kitchenettes': 3, 'rotebro': 1, 'subject': 4, 'infra': 1, 'inframassan': 1, '91': 3, 'stinsen': 1, 'lift': 2, 'stovetops': 2, 'bite': 3, 'sollentuna': 1, 'sitting': 4, 'ensuring': 3, 'shea': 1, 'incredible': 1, 'handicap': 1, 'chinatown': 1, 'design': 2, 'flushing': 1, 'since': 2, 'committed': 1, 'enjoyable': 1, 'infuses': 1, 'varieties': 1, 'helpful': 2, 'fjord': 1, 'light': 6, 'torget': 1, 'scandic': 1, 'wharf': 1, 'torgallmenningen': 1, 'fløibanen': 1, 'bergen’s': 1, '262': 1, 'food': 8, 'bergen': 1, 'neptun': 1, 'bryggen': 1, 'vågen': 1, 'transformed': 1, 'mount': 2, 'fløyen': 1, 'furnicular': 1, 'canyon': 1, 'kingman': 1, 'touring': 1, '122': 1, 'furnishings': 4, '66': 3, 'hualapai': 1, 'skywalk': 1, 'rafting': 1, 'whitewater': 1, 'mt': 1, 'northtown': 1, 'whitworth': 1, 'king': 3, 'riverfront': 2, 'baked': 1, 'va': 2, 'cookies': 1, 'courtyard': 4, 'gonzaga': 1, 'reading': 2, \"area's\": 3, 'eagles': 1, 'rena': 1, 'queen': 3, 'manito': 1, 'speak': 1, 'gift': 3, 'spokane': 1, 'holy': 1, 'arena': 8, 'heads': 1, 'executive': 1, 'oyo': 2, 'malls': 2, 'material': 1, 'wa': 1, 'operated': 3, 'deluxe': 3, 'bulgarian': 1, 'english': 2, 'spartanburg': 1, 'county': 2, 'bon': 1, 'peace': 2, 'secours': 1, 'sirrine': 1, 'spanish': 1, 'speaking': 1, 'greenville': 1, 'hyatt': 3, 'practical': 1, 'boasting': 2, 'southwest': 2, 'hjotel': 1, 'thomasville': 1, 'alabama': 1, 'turkish': 6, 'via': 5, 'navigli': 1, 'large': 11, 'porta': 2, 'dalì': 1, 'savory': 3, 'genova': 1, 'arnaldo': 1, 'ray': 1, 'boutiques': 1, 'paintings': 1, 'milan': 2, 'garage': 2, 'artworks': 1, 'man': 1, 'sculptures': 1, 'sweet': 3, 'sixth': 1, 'pomodoro': 1, 'display': 1, 'artists': 1, 'mccarthy': 1, 'waffles': 2, 'carpeted': 3, 'floors': 7, 'timberview': 1, 'warmly': 5, 'marysville': 1, 'alf': 1, 'thermal': 1, 'pick': 2, 'vulkaneifel': 1, 'vicinity': 4, 'permitting': 1, 'prinzenkopf': 1, 'lookout': 1, 'rent': 2, 'calmont': 1, 'klettersteig': 1, '34': 2, 'bömers': 1, 'ringhotel': 1, 'alfresco': 1, 'mosellandhotel': 1, 'sure': 5, 'bicycles': 3, 'computer': 4, 'mont': 3, 'weather': 3, 'snorkeling': 2, 'kadhoo': 1, 'getaway': 2, 'gan': 1, 'reefs': 1, 'domestic': 1, 'male': 2, 'laamu': 1, 'maldives': 3, 'atoll': 2, 'soothing': 2, 'interiors': 2, 'reveries': 1, 'tones': 2, 'assist': 2, 'coral': 1, 'untouched': 1, 'sport': 2, 'earthy': 1, 'butterfly': 2, 'adventures': 2, 'tail': 1, 'devens': 1, 'tours': 2, 'wolfe': 1, 'grill': 7, '37': 2, 'channel': 2, 'latest': 1, 'writing': 1, 'call': 1, 'dial': 2, '40': 8, 'alarm': 4, '67': 2, 'ccourteous': 1, 'hrs': 1, 'jfk': 2, 'panel': 1, 'menus': 2, 'storied': 1, 'ac': 1, 'baths': 2, 'hosts': 3, 'heater': 1, 'assortment': 2, 'stranded': 1, 'mattresses': 1, 'york': 6, 'comfy': 1, 'terminal': 3, 'nec': 1, 'tamworth': 1, 'fire': 1, 'snow': 1, 'spired': 1, 'netherstowe': 1, 'manor': 3, 'dating': 1, 'lichfield': 1, '12th': 1, 'drayton': 1, 'steakhouse': 2, 'century': 1, 'brasserie': 2, 'retain': 1, 'dome': 2, 'walled': 1, 'rome’s': 2, 'pass': 2, 'green': 7, 'behind': 1, 'tra': 1, 'peter’s': 1, 'benches': 1, 'noi': 1, 'busses': 2, 'vatican': 1, 'fiesta': 2, 'fuel': 1, 'option': 2, 'lackland': 1, 'fridges': 1, 'econo': 1, 'value': 5, '410': 1, 'story': 4, 'alamo': 1, 'seeking': 1, 'riverwalk': 1, 'bonuses': 1, 'zoo': 6, 'conscious': 1, 'ingram': 1, 'antonio': 1, 'freebies': 1, \"antonio's\": 1, 'ziva': 1, 'cana': 1, 'tubs': 2, 'applied': 2, 'scape': 1, 'balconies': 8, 'stations': 4, 'dipping': 1, 'tempest': 1, 'cap': 1, 'designer': 1, \"property's\": 4, 'punta': 1, 'pillowtop': 2, 'dry': 6, '14488': 1, 'rates': 3, 'establishments': 2, 'asian': 4, '375': 1, '16': 8, 'arcade': 1, 'bavaro': 1, '1346': 1, 'pools': 6, 'juanillo': 1, 'comforters': 1, 'patios': 3, 'measuring': 2, 'down': 1, 'special': 2, 'spend': 2, 'established': 1, '2007': 1, 'suburbs': 1, 'cairo': 1, 'qoba': 1, 'citystars': 1, 'stone': 1, 'speedway': 1, 'quarry': 1, 'sante': 1, 'fe': 2, 'osa': 1, 'humboldt': 1, 'johnson': 1, 'chanute': 1, 'copying': 1, 'martin': 1, 'safari': 1, 'compact': 2, 'japanese': 1, 'elcient': 1, 'jr': 2, 'interchangeably': 1, 'minami': 1, 'interchange': 1, 'ramen': 1, 'kyoto': 1, 'noodle': 2, 'shosei': 1, 'chênes': 1, 'parc': 3, 'prepares': 1, \"l'ane\": 1, 'fritz': 1, 'lac': 1, '2133': 2, 'gourmet': 1, 'naturel': 1, 'blancs': 1, 'chic': 1, 'decor': 1, 'régional': 1, 'vosges': 1, 'coq': 1, 'pétrus': 1, 'les': 3, \"l'assiette\": 1, 'cerf': 1, 'ballons': 1, 'pavillon': 1, 'classic': 2, 'du': 1, 'gerardmer': 1, 'vrboska': 1, 'adriatic': 1, 'bay': 8, 'accessed': 1, 'labranda': 1, 'sunbathing': 1, 'stari': 1, 'jelsa': 1, 'forested': 1, 'secluded': 1, 'ferry': 5, '2016': 1, 'grad': 1, 'worcester': 1, 'stourport': 1, 'tourism': 1, 'roads': 1, 'kidderminster': 1, 'bedrooms': 3, 'refurbished': 2, 'acres': 2, '23': 2, 'hold': 4, 'cuisines': 2, 'sheikh': 1, 'al': 1, 'ladies': 2, 'wahda': 1, 'eight': 1, 'dhabi’s': 1, 'smart': 3, 'waterworld': 1, 'above': 1, 'yas': 1, 'treatment': 2, 'indulge': 1, 'mosque': 3, 'beauty': 7, 'dhabi': 1, 'zayed': 1, 'ferrari': 1, 'abu': 1, 'fit': 1, 'direct': 6, 'zayna': 1, 'cardiovascular': 1, 'naval': 1, 'aquarium': 3, 'charleston': 1, 'pleasant': 2, 'connection': 1, 'aboriginal': 1, 'kluge': 1, 'charlottesville': 1, 'pavilion': 1, 'pantry': 1, 'mp3': 2, 'meadowcreek': 1, 'ruhe': 1, '64': 1, 'virginia': 2, 'customer': 1, 'waterway': 1, 'inner': 1, 'gorge': 1, 'neighbourhood': 1, 'geneva': 1, 'riviera': 1, 'sand': 2, 'black': 3, 'fontana': 1, \"resort's\": 2, 'surf': 2, 'estate': 1, '334': 1, 'noon': 1, 'breeze': 3, 'break': 2, '240°': 1, 'getting': 5, 'beverage': 2, '3716': 1, '40000': 1, 'avani': 1, 'abbey': 1, 'big': 1, 'tasty': 1, 'migros': 1, 'konyaalti': 1, 'parquet': 1, 'wooden': 3, '164': 2, 'admire': 1, 'antalya': 1, 'brown': 1, 'mix': 1, 'colors': 1, 'beige': 1, 'bites': 1, 'adjoining': 1, 'history': 3, 'block': 1, 'rio': 1, 'albuquerque': 1, 'citi': 1, '531': 1, 'f': 2, 'john': 1, 'print': 1, '51': 1, 'rodeway': 2, 'kennedy': 1, 'miraflores': 1, 'cafes': 1, 'chavez': 1, 'handicraft': 1, 'larcomar': 1, 'jorge': 1, 'tourist': 7, 'miramar': 2, 'lima': 1, 'nrg': 1, 'hobby': 2, 'oakland': 2, 'o': 1, 'sleepers': 1, 'oracle': 1, 'co': 2, 'california': 2, 'led': 1, 'coliseum': 3, 'hayward': 1, 'east': 2, 'stand': 1, 'bakery': 1, 'mansion': 1, 'showcasing': 1, 'gold': 1, 'perkins': 1, 'lost': 2, '22': 4, 'daly': 1, 'boasts': 3, 'pancakes': 2, 'extended': 2, 'salads': 1, 'comfortably': 1, 'burgers': 1, 'plunge': 1, 'a35': 1, 'moods': 1, 'motorway': 2, 'ingredients': 1, 'hengelo': 1, 'enschede': 1, 'a1': 1, 'combine': 1, 'boekelo': 1, 'haaksbergen': 1, 'hectares': 1, 'woodland': 1, 'bad': 1, 'smoky': 1, 'mountains': 2, 'pigeon': 1, 'dollywood': 1, 'forge': 1, 'exploring': 4, 'brookfield': 1, \"oakbrook's\": 1, 'brook': 1, 'interstates': 1, 'doubletree': 3, 'banquet': 2, '88': 1, 'catering': 3, '355': 1, 'mongkok': 1, 'kong': 1, 'kowloon': 1, 'status': 2, 'whirlwind': 1, 'hong': 1, 'earthcheck': 1, 'pampered': 1, 'kok': 1, 'philosophy': 1, 'imagination': 1, 'mtr': 1, 'benchmark': 1, 'anytime': 1, 'everywhere': 1, 'attention': 2, 'attained': 1, 'bronze': 1, 'tai': 1, 'tsui': 1, 'dorsett': 1, 'dishwasher': 4, 'expo': 2, 'fredericksburg': 2, 'stanley': 1, 'ergonomic': 3, 'winery': 1, 'coffees': 1, 'freshly': 3, 'meadow': 1, 'brewed': 1, 'teas': 1, 'waterworks': 1, 'thomas': 1, 'elgin': 1, 'classics': 1, 'tree': 2, 'rich': 1, 'wisconsin': 2, 'browns': 1, 'austin': 1, 'purcell’s': 1, 'starbucks': 1, 'straubel': 1, 'lambeau': 1, 'creek': 2, 'excitement': 1, 'thornberry': 1, 'radisson': 1, 'pine': 2, 'oneida': 1, 'luxurious': 3, 'guincho': 1, 'taste': 1, 'ocean': 9, 'trees': 1, 'senhora': 1, 'risotto': 1, 'restaurant’s': 1, 'guia': 1, 'salt': 1, 'romantic': 1, 'atlantic': 2, 'cascais': 1, 'colder': 1, 'winter': 2, 'theaters': 2, 'accommodate': 1, 'hancock': 3, 'oswego': 1, 'people': 5, 'ideally': 4, 'competitive': 1, 'harbor': 6, 'functions': 1, 'syracuse': 3, 'todd': 1, 'kentucky': 2, 'lincoln': 2, 'boone': 1, 'hamburg': 1, 'quinta': 4, 'lakeside': 1, 'mary': 2, \"mintues'\": 1, 'lexington': 1, 'rupp': 1, 'laquinta': 1, '19': 3, 'should': 3, 'wheelchair': 1, 'guestroom': 1, 'puts': 4, 'outside': 6, 'necessary': 2, 'tourists': 2, 'handy': 1, 'native': 1, 'elegantly': 2, 'bankside': 1, 'reasons': 4, 'subway': 1, 'hokkaido': 1, 'susukino': 1, 'purifier': 1, 'cepage': 1, 'fusion': 2, 'mercure': 1, 'movies': 1, 'odori': 1, 'sapporo': 1, 'beds': 4, 'humidifying': 1, 'exhibition': 7, 'charging': 1, 'poble': 1, 'characteristic': 1, 'barcelona’s': 4, 'bistro': 3, 'electrical': 1, 'fira': 3, 'rambla': 1, 'journey': 1, 'sec': 1, 'concordia': 1, 'triple': 1, 'españa': 2, 'cars': 1, 'barcelona': 3, 'mystic': 2, 'mark': 2, 'seaport': 2, 'powder': 1, 'meriden': 1, 'motorways': 1, 'placed': 1, 'yale': 1, 'twain': 1, 'connecticut': 1, 'towne': 2, 'newman': 1, 'mid': 3, 'wichita': 1, 'continent': 1, 'devices': 1, 'britomart': 1, 'sky': 1, 'adina': 1, 'these': 2, '500mb': 1, 'november': 1, '2015': 3, 'wardrobe': 3, 'spark': 1, 'precinct': 1, 'auckland': 1, 'prado': 1, 'petit': 1, 'reina': 1, 'madrid': 2, '820': 3, \"madrid's\": 1, 'artes': 1, 'inside': 2, 'puerta': 1, 'bellas': 1, 'sofía': 1, 'what': 2, 'skyscraper': 1, 'dynamic': 1, 'palace': 7, 'multidisciplinary': 1, '1930s': 1, 'see': 3, 'sevilla': 1, 'thyssen': 1, 'atocha': 1, '328': 3, 'del': 1, 'emblematic': 1, 'sol': 1, 'availability': 1, 'círculo': 1, 'alcala': 1, 'clubs': 1, 'laptop': 1, 'dates': 1, '1920s': 1, 'venezia': 1, 'nouveau': 1, 'organize': 1, 'book': 2, 'eurohotel': 1, 'malpensa': 1, 'montenapoleone': 1, 'germanna': 1, 'meat': 3, 'anna': 1, \"soldier's\": 1, 'dominion': 1, 'celebrate': 1, 'enthusiasts': 1, 'barrel': 2, 'classroom': 1, 'cracker': 1, 'fox': 1, 'accommodates': 1, 'hazelwild': 1, 'quantico': 1, 'riverside': 1, 'corps': 1, 'espn': 2, 'browsing': 1, 'boardroom': 1, 'news': 1, 'civil': 1, 'patriot': 1, 'buffs': 1, 'battlefields': 1, 'spotsylvania': 1, 'yogurt': 1, 'p': 2, 'war': 1, 'army': 1, 'marine': 2, 'southpoint': 1, \"lee's\": 1, 'cinnamon': 2, 'kenmore': 1, 'monroe': 1, \"washington's\": 1, 'cnn': 1, 'visiting': 6, 'rolls': 2, 'following': 2, 'invited': 2, 'zanesville': 1, '70': 1, 'longaberger': 1, 'sunset': 1, 'cliff': 1, 'mansions': 1, 'newport’s': 1, 'newport': 1, 'array': 4, 'weekend': 1, 'rhode': 1, 'popol': 1, 'pedro': 1, 'villeda': 1, 'posada': 2, 'nah': 1, 'flowers': 2, 'ramon': 1, 'sula': 1, 'churrasqueria': 1, 'steak': 1, 'copantl': 1, 'hookup': 1, 'communications': 1, 'exit': 1, 'caf': 1, 'economy': 1, 'receiving': 1, 'undergone': 1, 'without': 1, 'petroleum': 1, 'double': 3, 'same': 3, 'track': 1, 'substituted': 1, 'faxes': 1, '2001': 1, 'serve': 1, 'photocopying': 1, '250': 1, 'corridors': 1, 'race': 1, 'ottoman': 1, 'odessa': 1, 'data': 1, 'extensive': 4, 'renovations': 1, 'ease': 1, 'exterior': 1, '131': 1, 'brings': 1, 'intimate': 1, 'scheveningen': 1, '2461': 2, 'return': 1, 'busy': 2, 'chocolate': 1, 'hague': 1, 'magazines': 2, 'van': 1, 'connections': 2, 'line': 1, 'den': 1, 'excellent': 5, 'communal': 2, 'fletcher': 1, 'speijk': 1, 'bubbles': 1, 'haag': 1, 'vredespaleis': 1, 'fondue': 1, 'stadshotel': 1, 'clearwater': 1, 'tampa': 1, 'petersburg': 1, 'pete': 1, 'pinellas': 1, 'dali': 1, 'individual': 4, 'suit': 2, 'cha': 1, 'hin': 1, 'hua': 1, 'readily': 1, 'my': 1, 'wonders': 1, 'colatina': 1, 'through': 4, 'rejuvenate': 1, 'minded': 3, 'ibis': 1, 'amongst': 1, 'guide': 3, 'passing': 1, 'tcf': 1, 'viking': 1, 'minneapolis': 1, 'eagan': 1, 'paul': 1, 's': 2, 'saint': 1, 'omni': 1, 'providing': 1, 'lakes': 2, 'chula': 1, 'amtrak': 1, 'tijuana': 1, 'eastlake': 1, 'americas': 2, 'depot': 1, 'santa': 3, 'koelnmesse': 1, 'bahn': 1, 'lies': 2, 'side': 3, 'buffets': 2, 'cologne': 1, 'domstern': 1, 'reef': 1, 'maafushi': 1, 'baggage': 1, 'stairs': 1, 'establishment': 2, 'dip': 1, 'moreover': 1, 'anyone': 1, 'interesting': 1, 'severo': 1, 'kilometres': 1, 'positioned': 1, 'upper': 1, 'negra': 1, 'natal': 1, 'appointed': 5, 'ponta': 1, 'cosy': 1, 'them': 2, 'arriving': 1, 'fairs': 1, 'ensures': 1, 'travellers': 4, 'vehicles': 1, 'augusto': 1, 'joao': 1, 'minibars': 2, 'infant': 1, 'neves': 1, 'tancredo': 1, 'pousada': 1, 'cribs': 2, 'independencia': 1, 'sao': 1, 'praca': 1, 'quadrado': 1, 'calypso': 1, 'batista': 1, 'trancoso': 1, 'trier': 1, 'beers': 1, 'rhineland': 1, 'palatinate': 1, 'year': 2, 'nord': 1, '2011': 1, 'saunas': 1, 'moselle': 1, 'nells': 1, 'ft²': 1, 'received': 1, 'charlotte': 2, 'douglas': 1, 'transfer': 3, 'uptown': 1, '77': 1, 'rugged': 1, 'valley': 2, 'teton': 1, 'alpine': 1, 'celebrated': 1, 'choose': 4, 'peaks': 1, 'jackson': 1, 'runs': 1, 'inspiring': 1, 'hole': 3, 'america’s': 1, 'verdant': 1, 'adventure': 1, 'ny': 1, 'heating': 5, 'unforgettable': 2, 'ambiance': 2, 'combines': 1, 'lovely': 1, 'broadway': 1, 'plasma': 4, 'literary': 1, 'kindarena': 1, 'gustave': 1, 'rouen': 1, 'littéraire': 1, 'noter': 1, 'flaubert': 1, 'writer': 1, 'honor': 1, 'bw': 2, 'dame': 1, 'musée': 1, 'beaux': 1, 'ballroom': 1, 'folkestone': 1, 'victorian': 3, 'impressive': 3, 'spindles': 1, 'terminals': 2, 'france': 2, 'cabarets': 1, 'formal': 1, 'burstin': 1, 'crossings': 1, 'maritime': 1, 'specials': 2, 'dover': 1, 'duncan': 1, 'kicakpoo': 1, 'eagle': 1, 'border': 2, 'lucky': 1, 'ciudad': 1, 'thoroughfare': 1, 'obregón': 1, 'schiphol': 2, 'boeing': 1, '680': 2, 'divided': 1, 'amsterdam': 2, 'tickets': 1, '298': 1, 'urban': 1, 'badhoevedorp': 1, '747': 1, 'bazar': 1, '207': 1, 'skybar': 1, 'corendon': 1, 'lumpini': 1, 'sirikit': 1, 'suvarnabhumi': 1, 'amarin': 1, 'bizotel': 1, 'trade': 1, 'emporium': 1, 'bitec': 1, 'mega': 1, 'bangna': 1, 'embassy': 1, 'montréal’s': 1, 'montreal': 1, 'darlington': 1, 'summer': 4, 'bogota': 1, 'chapinero': 1, 'monserrate': 1, 'ignacio': 1, 'bolivar': 1, 'appetite': 1, 'olimpo': 1, 'javeriana': 1, 'cruise': 1, 'piazza': 1, 'genoan': 1, 'genoa’s': 1, 'principe': 2, 'galata': 2, 'williamsville': 1, 'seneca': 1, 'batlló': 1, 'gaudí’s': 1, 'eixample': 2, 'sagrada': 1, 'monumental': 1, 'pedrera': 1, 'catalunya': 2, 'antibes': 1, 'acta': 1, 'familia': 1, 'antibes’s': 1, 'gluten': 1, 'ramblas': 1, 'blocking': 1, 'shades': 1, 'rosamond': 1, 'armory': 1, '81': 1, 'keurig®': 1, 'gifford': 1, 'mohegan': 1, 'dinosaur': 1, 'waterford': 1, 'springhill': 1, \"trott's\": 1, 'ashburton': 1, 'domain': 1, 'regency': 1, 'aviation': 1, \"motel's\": 1, \"ashburton's\": 1, 'eur': 1, 'garbatella': 1, 'laurentina': 1, 'specialities': 1, 'aran': 1, 'warmer': 1, 'months': 1, 'landmarks': 1, 'termini': 1, 'interested': 1, 'arranges': 1, 'lay': 1, 'monuments': 2, 'occidental': 1, 'euros': 1, 'ancient': 1, 'raceway': 1, 'jacinto': 1, 'baytown': 1, 'battleship': 1, 'pirates': 1, 'half': 5, 'boardwalk': 1, 'oceanfront': 2, 'assateague': 1, \"ripley's\": 1, 'roland': 1, 'saving': 1, 'e': 1, 'believe': 1, 'salisbury': 2, 'wicomico': 2, 'powell': 1, 'seashore': 1, 'swedish': 1, 'limestone': 2, 'stockholm': 1, 'clara’s': 1, 'hotels™': 1, 'drottninggatan': 1, 'bothin': 1, 'tile': 1, 'hötorget': 1, 'clara': 1, 'noveau': 1, 'stockholm’s': 1, 'bathrobes': 2, 'nobis': 1, 'william': 1, 'dynamo': 1, 'pasadena': 1, 'oven': 3, 'bbva': 1, 'toyota': 1, 'calm': 2, 'regulated': 1, 'telephone': 3, 'exude': 1, 'corfu': 1, 'ioannis': 1, 'approximately': 1, 'danillia': 1, 'corfiot': 1, 'gouvia': 1, 'architectural': 1, 'atmosphere': 2, 'younger': 1, 'aparthotel': 3, 'typical': 1, 'neoclassical': 1, 'lush': 1, 'colours': 1, 'comprises': 2, 'kapodistrias': 1, 'ramada': 3, 'toulouse': 2, 'blagnac': 1, 'aiguillons': 1, 'molières': 1, 'waechter': 1, 'montauban': 1, '47': 1, 'roucous': 1, 'truffle': 1, 'dunn': 1, 'averasboro': 1, \"guest's\": 1, 'deserved': 1, 'rest': 3, 'enjoyment': 1, 'malabanas': 1, 'retiring': 1, 'winds': 2, 'swanvale': 1, 'yarmouth': 2, 'deep': 2, 'soaking': 1, 'combinations': 2, 'circus': 1, 'broads': 1, 'hippodrome': 1, 'norfolk': 1, 'fares': 1, 'singapore': 1, 'senai': 1, 'bahru': 1, 'sentral': 1, 'luxuriously': 2, 'w135': 1, 'x': 1, 'trattoria': 1, 'l200': 1, 'axis': 2, 'tosca': 1, 'twin': 1, 'houses': 1, 'changi': 1, 'pillow': 2, 'sizes': 1, 'straits': 1, 'johor': 1, 'causeway': 1, 'makan': 1, 'vast': 2, 'supporting': 1, 'plush': 1, 'accessibility': 1, 'able': 1, 'td': 1, 'omaha': 1, 'airfield': 1, 'ia': 1, 'eppley': 1, 'ameritrade': 1, 'bluffs': 1, 'wyndham': 3, 'tacoma': 1, 'kent': 1, 'needle': 1, 'pike': 1, 'muckleshoot': 1, 'menlo': 1, 'edison': 1, 'pillows': 1, 'especially': 2, 'woodbridge': 1, 'upgraded': 1, 'exchanged': 1, 'stovetop': 1, 'raritan': 1, 'amsterdam’s': 1, 'historical': 4, 'boxes': 1, 'a4': 1, 'hoofddorp': 1, '525': 1, 'monastery': 2, 'beside': 1, 'superior': 1, 'hohe': 1, 'stands': 2, 'hamminkeln': 1, 'forests': 1, 'marienthal': 1, 'issel': 1, \"gasthof's\": 1, 'fields': 1, 'marienthaler': 1, 'gasthof': 1, 'fireside': 1, 'onondaga': 1, 'craftsman': 1, 'dark': 2, 'wood': 3, 'halal': 1, 'mena': 1, 'bidet': 1, 'billiards': 1, 'amt': 1, 'qatar': 1, 'doha': 1, 'souq': 1, 'waqif': 1, 'playing': 1, 'currency': 2, 'diwan': 1, 'exchange': 2, 'emiri': 1, '360': 1, 'bayside': 1, 'ftx': 1, 'scheduling': 1, 'biscayne': 1, 'reserving': 1, 'skis': 1, 'jet': 1, 'districts': 2, 'navigate': 1, 'bay’s': 1, 'degree': 1, 'much': 1, 'neighborhoods': 1, 'sumela': 1, 'trabzon': 1, 'region': 4, 'arsen': 1, 'tastes': 1, 'arsin': 1, 'organizations': 1, '39': 2, 'rochelle': 1, '105': 1, \"appart'city\": 1, 'expositions': 1, 'temple': 1, 'brazilian': 1, 'alcazar': 1, 'reflexu': 1, 'itália': 1, 'republica': 1, 'gran': 2, 'paulo': 1, 'são': 1, 'corona': 1, 'edifício': 1, 'attached': 1, 'face': 1, 'banks': 1, 'onto': 1, 'ft': 2, 'kensington': 1, 'olympia': 1, 'bonita': 1, '41': 1, 'ortus': 1, 'tamiami': 1, 'naples': 1, 'bohol': 1, 'arabelle': 1, 'makes': 3, 'varadero': 1, 'cuba': 1, 'carretera': 1, 'miniclub': 1, 'jacuzzi': 1, 'hairdresser': 1, 'supermarket': 1, 'address': 1, 'given': 1, 'zone': 2, 'dove': 2, 'limits': 1, 'calories': 1, 'then': 2, 'outer': 1, 'bainbridge': 1, 'burn': 1, 'mauston': 1, 'horseback': 2, 'halls': 2, 'dells': 1, 'interior': 2, 'riding': 2, 'snowmobile': 1, 'sleeper': 3, 'rock': 2, 'affordable': 1, 'canoeing': 2, 'cross': 1, 'golfing': 2, 'chinook': 1, 'devils': 1, 'biking': 2, 'oregon': 1, 'truck': 2, '110': 1, 'doing': 1, 'protected': 1, 'orhoïtza': 1, 'serene': 2, 'lazy': 1, 'hendaye': 1, 'iconic': 2, 'sleeps': 1, 'night’s': 1, 'amazing': 1, 'nyc': 1, 'hills': 1, 'baymont': 1, 'hard': 1, 'biloxi': 1, 'wednesday': 1, 'share': 3, \"manager's\": 1, 'hsia': 1, 'paso': 1, 'bedroom': 2, 'tech': 1, '6am': 1, 'sciences': 1, 'indian': 2, '84': 2, 'chef’s': 1, 'week': 2, 'monday': 2, 'steaks': 1, 'greets': 1, 'boise': 1, 'casual': 2, 'idaho': 1, 'mere': 1, 'charm': 1, 'greeting': 1, 'delightful': 3, 'ultimate': 2, 'seguro': 1, 'ambience': 1, 'sit': 1, 'impressed': 2, 'beautifully': 1, 'opposite': 3, 'delights': 1, 'setting': 4, 'themselves': 1, 'estes': 1, 'enhance': 3, 'instantly': 1, 'matter': 1, 'things': 3, 'silver': 1, 'saddle': 1, 'ovens': 1, \"bojangles'\": 1, 'greenleafe': 1, 'mint': 1, 'staffed': 1, 'randolph': 1, 'drop': 1, 'libertyville': 1, 'gurnee': 1, 'ftiness': 1, 'grove': 1, 'bacon': 1, 'purple': 1, 'sage': 1, 'retail': 1, 'hunters': 1, 'abilene': 1, 'kennels': 1, 'snyder': 1, 'trafalgar': 1, 'queens': 1, 'mandeville': 1, 'soho': 1, \"king's\": 1, 'buckingham': 1, 'louisville': 1, 'candlewood': 1, 'ne': 1, '97': 1, 'kfc': 1, 'yum': 1, 'champions': 1, 'ar': 1, 'rv': 1, \"crowley's\": 1, 'craighead': 1, 'consist': 1, 'forrest': 1, 'cedar': 2, 'trumann': 1, 'l': 1, 'networks': 1, 'exceptionally': 1, 'plaça': 1, 'atenea': 1, 'distinguished': 1, 'yet': 1, 'adorned': 1, 'fashionably': 1, 'sizable': 1, 'calabria': 1, 'functional': 1, 'measure': 1, 'fairgrounds': 1, 'prepared': 1, 'energetic': 1, 'calabria’s': 1, 'currently': 1, 'march': 1, 'indianapolis': 1, 'lifestyle': 2, 'renovation': 1, 'clay': 1, '2023': 2, 'omelets': 1, 'carmel': 1, 'palm': 2, \"florida's\": 1, 'attending': 1, 'istiklal': 1, 'lutfu': 1, 'advice': 1, '2017': 1, 'konagi': 1, 'padua': 1, 'istanbul': 1, 'ataturk': 1, 'i̇stanbul': 1, 'taksim': 1, 'dolmabahce': 1, 'naumpasa': 1, \"princes'\": 1, 'kirdar': 1, 'anthony': 1, 'sits': 2, 'embassies': 1, 'havana': 1, 'harmonious': 1, 'blend': 1, 'styles': 1, \"visitors'\": 1, 'ecological': 1, 'places': 1, 'pio': 1, 'momentum': 1, 'canal': 2, 'forum': 1, 'lindora': 1, 'ana': 1, 'jacksonville': 1, 'dix': 1, 'knights': 1, 'ellis': 1, '210': 1, 'standards': 1, 'hometowne': 1, 'fresno': 1, 'waterpark': 1, 'chaffee': 1, 'tuesdays': 1, 'hohenzollern': 1, 'exclusively': 1, 'saturdays': 1, 'women': 1, 'reserved': 1, 'brightly': 1, 'opens': 1, 'osnabrück': 1, 'sundays': 1, 'hire': 1, 'magnolia': 1, 'ladson': 1, 'cod': 1, 'cape': 1, 'round': 1, 'wet': 1, 'townhomes': 1, 'massachusetts': 1, 'cove': 1, 'townhouse': 1, 'stereo': 1, 'championship': 1, 'sleeping': 1, 'columbus': 1, 'towneplace': 1, 'easton': 1, 'video': 1, 'brewery': 1, 'controlled': 1, 'mnac': 1, 'depending': 1, 'versions': 1, 'vilamarí': 1, 'season': 2, 'catalan': 1, 'fountains': 1, 'vilamarí’s': 1, 'espanya': 1, 'magic': 1, 'coex': 1, 'men': 1, 'ramid': 1, 'lobby’s': 1, 'korea': 1, 'cinema': 1, 'gimpo': 1, 'incheon': 1, 'stasio': 1, 'wolf': 1, 'grizzly': 1, \"park's\": 1, 'giant': 1, 'paddle': 1, 'weston': 1, 'shows': 1, 'sussex': 2, 'term': 1, 'waterfall': 1, 'arora': 1, 'celebrating': 1, 'soundproof': 1, 'packages': 1, 'brighton': 1, 'transfers': 2, 'famed': 1, 'trains': 1, 'morgan’s': 1, 'takes': 1, 'counties': 1, 'crawley': 1, 'hearty': 1, 'lap': 1, 'napa': 1, 'intense': 1, 'flamingo': 1, 'group': 1, 'sonoma': 1, 'landscaped': 1, 'everyday': 1, 'lazeaway': 1, 'rosa': 1, 'tranquillity': 1, 'traveller': 2, 'picture': 1, 'tempt': 1, 'splendour': 1, 'bustle': 1, 'affords': 1, 'exquisite': 1, 'choisy': 1, 'discerning': 1, 'entertaining': 1, 'lying': 1, 'unrivalled': 1, 'amidst': 1, 'mauritius': 1, 'revel': 1, 'eager': 1, 'haven': 2, 'pleasanton': 1, '580': 1, 'stonebridge': 1, 'relaxed': 1, 'now': 2, 'parkland': 1, 'originally': 1, 'former': 1, 'southampton': 1, 'tables': 1, 'arundel': 1, 'avisford': 1, 'andtable': 1, '89': 1, 'chichester': 1, 'wall': 1, 'reopen': 1, 'georgian': 1, 'prep': 1, 'engraved': 1, 'names': 1, 'panels': 1, 'opt': 1, 'croquet': 1, 'boys': 1, 'dubai': 1, 'dubai’s': 1, 'phenicia': 1, 'baniyas': 1, 'phenicia’s': 1, 'deira': 1, 'opera': 1, 'sumptuous': 1, '82': 1, 'artwork': 1, 'madeleine': 1, 'garnier': 1, 'vie': 1, 'magasins': 1, 'noted': 1, 'vendome': 1, 'agenda': 1, 'answer': 1, 'exhibitions': 1, 'astra': 1, 'grands': 1, 'await': 1, 'questions': 1, 'rue': 1, 'paix': 1, 'seven': 1, 'façade': 1, 'fruits': 1, \"32''\": 1, 'briza': 1, 'exotic': 2, 'serena': 1, 'nielsen': 1, 'cup': 1, 'whitehorse': 1, 'midnight': 1, 'erik': 1, 'barcelo': 1, 'sip': 1, 'caracol': 1, 'cascada': 1, 'palmer': 1, \"kid's\": 1, 'spent': 1, 'multi': 1, \"gentleman's\": 1, 'dundas': 1, 'filmores': 1, 'eaton': 1, 'dancing': 1, 'bishop': 1, 'yonge': 1, 'ground': 1, 'fan': 1, 'billy': 1, 'toronto': 1, 'collected': 1, 'verandah': 1, 'guarantee': 1, 'seafront': 1, 'gently': 1, '1896': 1, 'discount': 1, 'unrestricted': 1, '437': 1, 'eastbourne’s': 1, 'but': 2, 'sloping': 1, 'voucher': 1, 'algarve': 1, 'amizing': 1, 'rocha': 1, 'praia': 1, 'facing': 1, 'portimao': 1, 'vehicle': 1, 'putting': 1, 'become': 1, 'soon': 1, 'cushman': 1, 'don’t': 1, 'october': 1, '93': 1, 'brand': 1, 'might': 1, 'scene': 1, '1271': 1, 'bands': 1, 'doors': 1, 'way': 1, 'boston': 1, 'timeless': 1, 'began': 1, 'buzzing': 1, 'finishing': 1, 'verb': 1, 'legendary': 1, 'attitude': 1, 'checkin': 1, 'touches': 1, 'excited': 1, 'fenway’s': 1, '1959': 1, 'fenway': 1, 'coming': 1, 'hojoko': 1, 'boylston': 1, 'tim': 1, 'exciting': 1, '535': 1, \"world's\": 1, \"orlando's\": 1, 'lodging': 1, 'abundant': 1, 'cr': 1, 'mano': 1, 'jehunuhura': 1, 'flood': 1, 'veli': 1, 'retreat': 2, 'pasta': 1, 'dock': 1, 'cowry': 1, 'spreads': 1, 'kanuhura': 1, 'grilled': 1, 'squash': 1, 'crystal': 1, 'semi': 1, 'lhaviyani': 1, 'seaplane': 1, 'lagoon': 2, 'alaska’s': 1, '1939': 1, 'baranof': 1, 'juneau': 1, 'idyllic': 1, '34km': 1, 'speedboat': 1, 'attraction': 1, 'turquoise': 1, 'pristine': 1, 'environment': 1, 'achieved': 1, 'paradise': 1, 'enchanting': 1, 'presidential': 1, 'hospitable': 1, 'islamic': 1, 'planned': 1, 'desired': 1, 'resorts': 1, 'recognized': 1, 'waters': 1, 'topical': 1, 'nation': 1, 'recent': 1, 'nothing': 1, 'archipelago': 1, 'mesmerising': 1, 'expanses': 1, 'solitude': 1, 'villa': 1, 'girl': 1, \"black'\": 1, 'sophia': 1, '‘a': 1, 'films': 1, 'loren': 1, \"dolphin'\": 1, 'drawing': 1, '‘boy': 1, 'staring': 1, 'labeti': 1, 'elli': 1, 'specimen': 1, 'path': 1, 'warriors’': 1, 'kingsport': 1, 'ridgefields': 1, 'limo': 1, 'jemaa': 1, 'palais': 1, 'marrakesh': 1, 'agdal': 1, 'eps': 1, 'bahia': 1, 'marrakech': 1, 'wrap': 1, 'fnaa': 1, 'rhoul': 1, 'promises': 1, 'touristic': 1, 'me': 1, 'wells': 1, 'cottages': 1, 'millicent': 1, 'whaling': 1, 'fairhaven': 1, 'bedford': 1, 'romantik': 1, 'slippers': 1, 'pedestrian': 1, 'bauernstube': 1, 'furnishing': 1, 'meer': 1, 'robe': 1, 'alt': 1, 'norden': 1, 'reichshof': 1, 'rustic': 1, 'choices': 1, 'welcoming': 1, 'refresh': 1, 'zillestube': 1, 'und': 1, 'moor': 1, 'reichshof’s': 1, 'inter': 1, 'labège': 1, 'september': 1, 'sernin': 1, 'sextant': 1, 'sud': 1, 'basilique': 1, 'mississippi': 1, 'window': 1, 'harrah’s': 1, 'ranked': 1, 'nast': 1, 'unusually': 1, 'traveler': 1, 'finest': 1, 'windsor': 1, 'consistently': 1, 'orleans’': 1, 'either': 1, 'condé': 1, 'hemingway': 1, 'cheese': 1, 'duval': 1, 'ernest': 1, 'conservatory': 1, 'southernmost': 1, '1148': 1, 'key': 1, 'vida': 1, 'pensionat': 1, 'strandhagen': 1, 'saxnäs': 1, 'stora': 1, 'farjestaden': 1, 'kalmar': 1, 'ekerum': 1, 'ror': 1, 'foreigners': 1, 'citizens': 1, 'brands': 1, 't': 2, 'colombian': 1, 'hardwood': 2, 'andino': 1, 'zona': 1, 'visa': 1, 'regardless': 1, 'consecutive': 1, 'exclusive': 1, 'fragrant': 1, 'length': 1, 'surround': 1, 'it’s': 1, 'you’ll': 1, 'atlantis': 1, 'exceptions': 1, 'date': 1, 'squeezed': 1, 'delicacies': 1, 'another': 1, 'boheme': 1, 'nh': 1, 'exempt': 1, 'bogotá': 1, 'retiro': 1, 'connecting': 1, 'departure': 1, 'least': 1, 'detroit': 1, 'arbor': 1, 'ann': 1, 'yost': 1, 'michigan': 1, 'crisler': 1, 'miniature': 1, 'fenwick': 1, 'thunder': 1, 'villeneuve': 1, 'montpellier': 1, 'a9': 1, 'nimes': 1, 'leading': 1, 'marseille': 1, 'loungers': 1, 'avignon': 1, 'columbia': 1, 'dishware': 1, 'size': 1, 'edventure': 1, 'cookware': 1, 'ascend': 1, 'oakdale': 1, 'tavern': 1, 'greater': 1, 'binghamton': 1, 'traditions': 1, 'moschenross': 1, 'colmar': 1, 'thann': 1, 'alsace': 1, 'mulhouse': 1, '27': 1, 'airy': 1, 'wesleyan': 1, 'americinn': 1, 'dakota': 1, 'corn': 1, 'mitchell': 1, 'globe': 1, 'hurricane': 1, 'interconnected': 1, 'opotiki': 1})\n",
            "250\n",
            "{'the': 1, 'and': 2, 'is': 3, 'a': 4, 'in': 5, 'hotel': 6, 'of': 7, 'this': 8, 'with': 9, 'from': 10, 'available': 11, 'at': 12, 'are': 13, 'free': 14, 'to': 15, 'rooms': 16, 'information': 17, 'selected': 18, 'not': 19, 'en': 20, 'language': 21, 'sorry': 22, 'shown': 23, 'center': 24, 'guests': 25, 'for': 26, 'can': 27, 'on': 28, 'located': 29, 'offers': 30, 'an': 31, 'room': 32, 'also': 33, 'breakfast': 34, 'airport': 35, 'away': 36, 'miles': 37, 'all': 38, 'tv': 39, 'include': 40, 'pool': 41, 'inn': 42, 'facilities': 43, 'access': 44, 'mi': 45, 'property': 46, 'as': 47, 'private': 48, 'or': 49, 'complimentary': 50, 'minute': 51, 'amenities': 52, 'area': 53, 'bar': 54, 'restaurant': 55, 'features': 56, 'enjoy': 57, 'park': 58, 'business': 59, 'screen': 60, 'flat': 61, 'drive': 62, 'you': 63, 'walk': 64, 'desk': 65, 'within': 66, 'site': 67, 'parking': 68, 'air': 69, 'has': 70, 'be': 71, 'coffee': 72, '24': 73, 'just': 74, 'service': 75, 'by': 76, 'each': 77, '2': 78, 'cable': 79, 'wi': 80, 'hour': 81, 'internet': 82, 'your': 83, 'fi': 84, '5': 85, 'provided': 86, '1': 87, 'outdoor': 88, 'suites': 89, 'city': 90, 'guest': 91, '3': 92, '4': 93, 'stay': 94, 'wifi': 95, 'will': 96, 'beach': 97, 'bathroom': 98, 'have': 99, 'fitness': 100, 'minutes': 101, 'international': 102, 'it': 103, 'wireless': 104, 'well': 105, 'equipped': 106, 'one': 107, '10': 108, 'daily': 109, 'every': 110, 'dining': 111, 'services': 112, 'indoor': 113, '8': 114, 'station': 115, 'km': 116, 'featuring': 117, 'some': 118, 'hot': 119, 'including': 120, 'feet': 121, 'conditioned': 122, 'terrace': 123, 'shopping': 124, 'make': 125, 'while': 126, '6': 127, '7': 128, 'museum': 129, 'modern': 130, 'la': 131, 'golf': 132, 'garden': 133, 'front': 134, 'resort': 135, 'spa': 136, 'offer': 137, 'served': 138, '15': 139, 'restaurants': 140, '0': 141, 'feature': 142, 'lounge': 143, 'local': 144, 'which': 145, 'buffet': 146, 'comfort': 147, 'university': 148, 'microwave': 149, 'entertainment': 150, 'that': 151, 'downtown': 152, '9': 153, 'provides': 154, 'star': 155, 'swimming': 156, 'serves': 157, 'views': 158, 'house': 159, 'other': 160, 'continental': 161, 'shuttle': 162, 'work': 163, 'nearby': 164, 'great': 165, 'best': 166, 'hairdryer': 167, 'conditioning': 168, 'home': 169, 'location': 170, 'tea': 171, 'accommodations': 172, 'club': 173, 'lobby': 174, 'shower': 175, 'tub': 176, 'minutes’': 177, 'featured': 178, 'laundry': 179, 'spacious': 180, '20': 181, 'guestrooms': 182, 'mall': 183, 'close': 184, 'refrigerator': 185, 'included': 186, 'bathrooms': 187, 'full': 188, 'motel': 189, 'use': 190, 'bed': 191, 'day': 192, 'out': 193, 'only': 194, 'morning': 195, 'there': 196, 'district': 197, 'offered': 198, 'channels': 199, 'toiletries': 200, 'take': 201, 'cuisine': 202, 'square': 203, 'variety': 204, 'gym': 205, 'ironing': 206, 'find': 207, 'relax': 208, 'sauna': 209, 'western': 210, 'satellite': 211, 'easy': 212, 'express': 213, 'seating': 214, 'near': 215, 'decorated': 216, 'areas': 217, 'historic': 218, 'state': 219, 'water': 220, 'their': 221, 'set': 222, 'mini': 223, 'off': 224, 'attractions': 225, 'art': 226, 'place': 227, 'making': 228, 'fridge': 229, 'nearest': 230, 'accommodation': 231, 'includes': 232, 'yourself': 233, 'our': 234, 'town': 235, 'provide': 236, 'come': 237, 'drinks': 238, 'new': 239, 'activities': 240, 'comfortable': 241, 'onsite': 242, 'balcony': 243, 'throughout': 244, 'additional': 245, 'dishes': 246, 'kitchen': 247, 'staff': 248, 'than': 249, 'san': 250, 'high': 251, 'dinner': 252, 'american': 253, 'such': 254, 'connected': 255, '11': 256, 'island': 257, 'many': 258, 'south': 259, 'meeting': 260, 'distance': 261, 'convenience': 262, 'interstate': 263, 'holiday': 264, 'reception': 265, 'up': 266, 'grand': 267, 'train': 268, 'drink': 269, 'central': 270, 'friendly': 271, 'choice': 272, 'they': 273, 'premium': 274, 'less': 275, 'maker': 276, \"minutes'\": 277, 'safe': 278, 'lunch': 279, 'meals': 280, 'west': 281, 'options': 282, 'course': 283, 'view': 284, 'am': 285, \"you'll\": 286, 'car': 287, 'conveniences': 288, 'tennis': 289, 'self': 290, 'television': 291, 'convenient': 292, 'hilton': 293, 'fitted': 294, 'fresh': 295, 'stadium': 296, 'style': 297, 'refrigerators': 298, 'recreational': 299, 'apartments': 300, 'hair': 301, 'north': 302, 'check': 303, 'bath': 304, 'days': 305, 'ocean': 306, 'street': 307, \"hotel's\": 308, 'short': 309, '12': 310, '00': 311, 'mile': 312, 'convention': 313, 'like': 314, 'family': 315, 'during': 316, 'units': 317, 'metro': 318, 'sports': 319, 'televisions': 320, 'fully': 321, 'furnished': 322, 'sea': 323, 'newspapers': 324, 'both': 325, 'royal': 326, 'surcharge': 327, 'de': 328, 'wired': 329, 'programming': 330, 'comes': 331, 'walking': 332, 'seasonal': 333, 'st': 334, 'shop': 335, 'concierge': 336, 'its': 337, '30': 338, 'range': 339, 'national': 340, 'makers': 341, 'calls': 342, 'casino': 343, 'go': 344, 'travelers': 345, 'most': 346, 'over': 347, 'offering': 348, 'h3': 349, 'super': 350, 'advantage': 351, 'open': 352, 'bay': 353, 'bars': 354, 'regional': 355, 'around': 356, 'popular': 357, 'luggage': 358, 'storage': 359, 'hours': 360, 'el': 361, 'microwaves': 362, 'conference': 363, 'sun': 364, 'non': 365, 'dryers': 366, 'lcd': 367, 'swim': 368, '–': 369, 'lake': 370, 'proximity': 371, 'keeps': 372, 'sofa': 373, 'standard': 374, 'snacks': 375, 'public': 376, 'le': 377, 'per': 378, 'large': 379, 'ride': 380, 'along': 381, 'plus': 382, 'small': 383, 'collection': 384, 'fort': 385, 'towels': 386, 'showers': 387, 'more': 388, 'opportunities': 389, 'request': 390, 'tower': 391, 'old': 392, 'enjoyed': 393, 'extra': 394, 'fax': 395, 'conveniently': 396, 'welcome': 397, 'good': 398, 'surrounded': 399, 'plaza': 400, 'houston': 401, 'lodge': 402, 'london': 403, 'inclusive': 404, 'fredericksburg': 405, 'main': 406, '13': 407, 'box': 408, 'hiking': 409, 'tour': 410, 'limited': 411, 'upon': 412, 'copy': 413, 'stylish': 414, 'smoking': 415, 'washington': 416, 'several': 417, 'cocktail': 418, 'inch': 419, 'texas': 420, 'massage': 421, 'simply': 422, 'elegant': 423, 'min': 424, 'grab': 425, 'prime': 426, 'select': 427, 'court': 428, 'traditional': 429, 'after': 430, 'village': 431, 'deposit': 432, 'carolina': 433, 'contemporary': 434, 'building': 435, 'quiet': 436, 'may': 437, 'da': 438, 'surrounding': 439, 'speed': 440, 'serving': 441, 'children': 442, 'arlington': 443, 'night': 444, 'housekeeping': 445, 'hill': 446, 'situated': 447, 'coast': 448, 'décor': 449, 'charge': 450, 'hampton': 451, 'designed': 452, 'perfect': 453, 'everything': 454, 'miami': 455, 'spokane': 456, 'green': 457, 'selection': 458, 'evening': 459, 'tropical': 460, '18': 461, 'recreation': 462, 'meal': 463, 'centrally': 464, 'marriott': 465, 'waterfront': 466, 'when': 467, 'centre': 468, 'heart': 469, 'quality': 470, 'heated': 471, 'irons': 472, 'boards': 473, 'tvs': 474, 'complex': 475, 'wellness': 476, 'refreshing': 477, 'red': 478, 'vending': 479, 'needs': 480, 'complete': 481, '17': 482, 'where': 483, 'suite': 484, 'country': 485, 'courts': 486, 'gardens': 487, 'long': 488, 'music': 489, 'until': 490, 'wine': 491, 'three': 492, 'separate': 493, 'relaxing': 494, 'overlooking': 495, 'arena': 496, 'courtyard': 497, '40': 498, 'york': 499, 'quinta': 500, 'fruit': 501, 'various': 502, 'unique': 503, '25': 504, 'safety': 505, 'linen': 506, 'cycling': 507, 'ticket': 508, 'favorite': 509, 'fee': 510, 'theater': 511, 'we': 512, 'dvd': 513, 'fireplace': 514, 'bathtub': 515, 'cleaning': 516, 'shops': 517, 'stop': 518, 'hotels': 519, 'america': 520, 'appreciate': 521, 'hbo': 522, 'five': 523, 'game': 524, 'reached': 525, 'world': 526, 'ideal': 527, 'start': 528, 'sheraton': 529, 'get': 530, 'clock': 531, 'pet': 532, 'table': 533, 'machines': 534, 'port': 535, 'machine': 536, 'leisure': 537, 'hotel’s': 538, 'hamilton': 539, 'rec': 540, 'visit': 541, '45': 542, 'need': 543, 'rooftop': 544, 'ixtapa': 545, 'no': 546, 'board': 547, 'beautiful': 548, 'menu': 549, 'food': 550, 'maldives': 551, '16': 552, 'balconies': 553, 'harbor': 554, 'exhibition': 555, 'des': 556, 'underground': 557, 'dayton': 558, 'barbecue': 559, 'carte': 560, 'assistance': 561, 'roundtrip': 562, 'market': 563, '35': 564, '14': 565, 'right': 566, 'stays': 567, 'library': 568, 'college': 569, 'space': 570, 'between': 571, 'river': 572, '2625': 573, 'bus': 574, '100': 575, 'own': 576, 'base': 577, 'fishing': 578, 'shared': 579, 'white': 580, 'municipal': 581, 'addition': 582, 'nonsmoking': 583, \"guests'\": 584, 'vista': 585, 'entrance': 586, 'theme': 587, 'parks': 588, 'snack': 589, 'number': 590, 'saturday': 591, 'highway': 592, 'roof': 593, 'safes': 594, 'massages': 595, 'common': 596, 'treatments': 597, 'health': 598, 'stunning': 599, 'lauderdale': 600, 'eastbourne': 601, 'council': 602, 'if': 603, 'time': 604, 'list': 605, 'adjacent': 606, 'beverages': 607, 'bright': 608, 'workout': 609, 'store': 610, 'life': 611, 'surroundings': 612, 'villas': 613, 'cozy': 614, 'hôtel': 615, 'chicago': 616, 'please': 617, 'into': 618, 'live': 619, 'café': 620, 'back': 621, 'different': 622, 'italian': 623, 'floors': 624, 'sure': 625, 'grill': 626, 'value': 627, 'beauty': 628, 'tourist': 629, 'doubletree': 630, 'barcelona': 631, 'palace': 632, 'visiting': 633, 'next': 634, 'six': 635, 'cost': 636, 'found': 637, 'doorstep': 638, 'mountain': 639, 'play': 640, 'satisfying': 641, 'quench': 642, 'thirst': 643, 'patio': 644, 'staybridge': 645, 'across': 646, 'discover': 647, 'seattle': 648, 'experience': 649, 'phones': 650, 'prague': 651, 'kitchenette': 652, 'apartment': 653, 'castle': 654, '656': 655, 'top': 656, 'help': 657, 'plantation': 658, 'porto': 659, 'major': 660, 'movie': 661, 'falls': 662, 'lounges': 663, 'museums': 664, 'newspaper': 665, 'rental': 666, 'desks': 667, 'florida': 668, 'first': 669, 'adults': 670, 'transportation': 671, 'dine': 672, 'theatre': 673, 'bicycle': 674, 'casa': 675, 'ipod': 676, 'docking': 677, 'activity': 678, 'mediterranean': 679, 'george': 680, 'steam': 681, 'i': 682, 'player': 683, 'gatwick': 684, 'poolside': 685, 'explore': 686, 'point': 687, 'cafe': 688, 'sites': 689, \"children's\": 690, 'sandy': 691, 'living': 692, 'chair': 693, 'delicious': 694, 'children’s': 695, 'feel': 696, 'award': 697, 'floor': 698, 'niagara': 699, \"there's\": 700, 'specialties': 701, 'pay': 702, 'directly': 703, 'light': 704, 'hyatt': 705, 'greenville': 706, 'turkish': 707, 'zoo': 708, 'pools': 709, 'dry': 710, 'direct': 711, 'syracuse': 712, 'people': 713, 'outside': 714, 'barcelona’s': 715, 'travellers': 716, 'ramada': 717, 'johor': 718, 'bluffs': 719, 'wyndham': 720, 'setting': 721, 'nice': 722, 'iron': 723, 'yards': 724, 'wide': 725, 'reach': 726, 'hall': 727, 'famous': 728, 'trail': 729, 'ski': 730, 'seafood': 731, 'quito': 732, 'multilingual': 733, 'keep': 734, 'run': 735, 'southern': 736, 'us': 737, 'beaches': 738, 'kitchens': 739, 'players': 740, 'event': 741, 'studios': 742, 'outlet': 743, 'part': 744, 'ilha': 745, 'two': 746, 'springs': 747, 'raleigh': 748, 'courses': 749, '32': 750, 'requested': 751, 'midland': 752, 'railway': 753, 'points': 754, 'orlando': 755, 'class': 756, 'disney': 757, 'so': 758, 'natural': 759, 'taxes': 760, 'flags': 761, 'toruń': 762, 'luxury': 763, 'grande': 764, 'medical': 765, 'chairs': 766, 'items': 767, 'facials': 768, 'community': 769, 'staying': 770, 'hospital': 771, 'diving': 772, 'travelodge': 773, 'las': 774, 'gallery': 775, 'fun': 776, 'ridge': 777, 'independence': 778, 'buildings': 779, 'thoughtful': 780, 'nature': 781, 'warm': 782, 'individually': 783, 'varied': 784, 'german': 785, 'happy': 786, 'french': 787, 'elevator': 788, 'boutique': 789, 'dryer': 790, 'whether': 791, 'panoramic': 792, 'cocktails': 793, 'friday': 794, 'tuesday': 795, 'vacation': 796, 'order': 797, 'coin': 798, 'further': 799, 'note': 800, 'fees': 801, 'child': 802, 'mount': 803, 'milan': 804, 'via': 805, 'warmly': 806, 'vicinity': 807, 'jfk': 808, 'manor': 809, 'pass': 810, 'antonio': 811, 'kyoto': 812, 'ferry': 813, 'pleasant': 814, 'virginia': 815, 'getting': 816, 'rodeway': 817, 'hobby': 818, 'east': 819, 'hancock': 820, 'sapporo': 821, 'extensive': 822, 'excellent': 823, 'colatina': 824, 'appointed': 825, 'charlotte': 826, 'heating': 827, 'eagle': 828, 'summer': 829, 'half': 830, 'aparthotel': 831, 'yarmouth': 832, 'omaha': 833, 'boise': 834, 'fresno': 835, 'eps': 836, 'columbia': 837, 'furniture': 838, 'booked': 839, 'hyde': 840, \"earl's\": 841, 'breakfasts': 842, 'cereal': 843, 'eggs': 844, 'juices': 845, 'skiing': 846, 'à': 847, 'electric': 848, 'contain': 849, 'u': 850, 'cultural': 851, 'craft': 852, 'bank': 853, 'foot': 854, 'arts': 855, 'georgia': 856, 'opened': 857, 'those': 858, 'simple': 859, 'wonderful': 860, 'travel': 861, 'signature': 862, 'catch': 863, 'weekdays': 864, 'meters': 865, 'camden': 866, 'field': 867, 'enjoys': 868, '2953': 869, 'residential': 870, 'longer': 871, 'tanger': 872, 'francisco': 873, 'financial': 874, 'extras': 875, 'arranged': 876, 'premises': 877, 'cold': 878, 'families': 879, 'sightseeing': 880, 'wake': 881, 'route': 882, 'ice': 883, 'four': 884, 'businesses': 885, 'corporate': 886, 'weekday': 887, 'exercise': 888, 'generator': 889, 'dc': 890, 'interest': 891, 'buffalo': 892, 'charges': 893, 'whirlpool': 894, 'bathtubs': 895, 'metres': 896, 'church': 897, '95': 898, 'charged': 899, 'seaworld': 900, 'dallas': 901, 'picturesque': 902, 'sights': 903, 'rai': 904, 'colonial': 905, 'diego': 906, '50': 907, 'possible': 908, 'launderette': 909, 'accessible': 910, 'outlets': 911, 'ohio': 912, 'body': 913, 'babysitting': 914, 'fairfield': 915, 'volleyball': 916, 'beachfront': 917, 'hospitality': 918, 'total': 919, 'billings': 920, 'mills': 921, 'built': 922, 'centers': 923, 'chattanooga': 924, 'discovery': 925, 'vibrant': 926, 'unwind': 927, 'ready': 928, 'cathedral': 929, 'fine': 930, 'links': 931, 'neighborhood': 932, 'homewood': 933, 'beer': 934, 'playground': 935, 'certain': 936, 'metropolitan': 937, \"night's\": 938, 'sleep': 939, 'mirror': 940, 'professional': 941, 'looking': 942, 'been': 943, 'nashville': 944, 'few': 945, 'chestnut': 946, 'nestled': 947, 'must': 948, 'winning': 949, 'facility': 950, 'bikes': 951, '5pm': 952, '11pm': 953, 'eat': 954, 'inspired': 955, 'healthy': 956, 'tax': 957, 'completely': 958, 'grapevine': 959, 'marina': 960, 'charming': 961, 'leave': 962, 'years': 963, 'plenty': 964, 'afternoon': 965, 'age': 966, 'sitting': 967, 'subject': 968, 'scandic': 969, 'furnishings': 970, 'king': 971, 'computer': 972, 'alarm': 973, 'story': 974, 'cana': 975, 'stations': 976, 'asian': 977, \"property's\": 978, 'parc': 979, 'bedrooms': 980, 'hold': 981, 'al': 982, 'wahda': 983, 'abu': 984, 'black': 985, '22': 986, 'exploring': 987, 'dishwasher': 988, 'cascais': 989, 'luxurious': 990, 'ideally': 991, 'lincoln': 992, 'puts': 993, 'reasons': 994, 'beds': 995, 'seaport': 996, 'wichita': 997, 'auckland': 998, 'array': 999, 'double': 1000, 'fletcher': 1001, 'individual': 1002, 'through': 1003, 'lakes': 1004, 'chula': 1005, 'maafushi': 1006, 'nells': 1007, 'trier': 1008, 'choose': 1009, 'plasma': 1010, 'burstin': 1011, 'pasadena': 1012, 'toulouse': 1013, 'bahru': 1014, 'ia': 1015, 'historical': 1016, 'region': 1017, 'rochelle': 1018, 'bainbridge': 1019, 'paso': 1020, 'indianapolis': 1021, 'palm': 1022, 'soundproofed': 1023, 'spaces': 1024, 'lively': 1025, 'end': 1026, 'pastries': 1027, 'among': 1028, 'atm': 1029, 'nordic': 1030, 'pizza': 1031, 'others': 1032, 'paid': 1033, 'selina': 1034, 'foch': 1035, '21': 1036, 'olympic': 1037, 'miamisburg': 1038, '26': 1039, 'kings': 1040, 'ihg': 1041, 'who': 1042, 'attractive': 1043, 'splash': 1044, 'calgary': 1045, 'miss': 1046, 'planning': 1047, 'closet': 1048, 'kettle': 1049, 'made': 1050, 'numerous': 1051, 'pubs': 1052, 'tram': 1053, 'soltigua': 1054, 'bbq': 1055, 'bedding': 1056, 'ups': 1057, 'products': 1058, 'smoke': 1059, 'oak': 1060, 'alley': 1061, 'commercial': 1062, 'valet': 1063, 'beyond': 1064, 'force': 1065, 'd': 1066, 'c': 1067, 'forest': 1068, 'visitors': 1069, 'boating': 1070, 'specialty': 1071, 'corporations': 1072, 'equipment': 1073, 'voice': 1074, 'mail': 1075, 'bike': 1076, 'memorial': 1077, 'ottawa': 1078, 'kansas': 1079, 'spirit': 1080, 'farm': 1081, 'ranch': 1082, 'about': 1083, 'guesthouse': 1084, 'here': 1085, 'split': 1086, 'buena': 1087, 'walt': 1088, 'unlimited': 1089, 'phone': 1090, 'amusement': 1091, 'copernicus': 1092, '2297': 1093, 'bowling': 1094, 'chiang': 1095, 'agustin': 1096, \"city's\": 1097, 'styled': 1098, 'mingle': 1099, 'held': 1100, 'graham': 1101, 'venues': 1102, '75': 1103, 'samui': 1104, 'bangkok': 1105, 'soak': 1106, 'childcare': 1107, 'single': 1108, 'fin': 1109, 'countryside': 1110, 'lb': 1111, 'wines': 1112, '33': 1113, 'according': 1114, 'rate': 1115, 'cancel': 1116, 'before': 1117, 'even': 1118, 'pier': 1119, '31': 1120, 'cardio': 1121, 'deck': 1122, 'yellowstone': 1123, 'brookshire': 1124, 'driving': 1125, 'do': 1126, 'disabled': 1127, 'glass': 1128, 'illinois': 1129, 'dekalb': 1130, 'comforts': 1131, 'tennessee': 1132, 'easily': 1133, 'digital': 1134, 'strategically': 1135, 'alentejo': 1136, 'ensure': 1137, 'magnificent': 1138, 'montargil': 1139, 'venue': 1140, 'meetings': 1141, 'transport': 1142, 'renovated': 1143, 'care': 1144, 'city’s': 1145, 'loop': 1146, 'millennium': 1147, 'finnish': 1148, 'bio': 1149, 'perfectly': 1150, 'caters': 1151, 'person': 1152, 'was': 1153, 'under': 1154, 'bentoliving': 1155, 'pleasure': 1156, 'something': 1157, 'skyline': 1158, 'alike': 1159, 'lined': 1160, 'weekly': 1161, 'meet': 1162, 'essentials': 1163, 'events': 1164, \"you're\": 1165, 'entire': 1166, 'hand': 1167, 'produce': 1168, 'senses': 1169, '2pm': 1170, '60': 1171, '28': 1172, 'spectacular': 1173, 'wedding': 1174, 'trails': 1175, 'tastefully': 1176, 'very': 1177, \"it's\": 1178, 'premier': 1179, 'corner': 1180, 'plan': 1181, 'kids': 1182, 'grounds': 1183, 'veranda': 1184, 'host': 1185, 'mexico': 1186, 'evenings': 1187, 'always': 1188, 'pescador': 1189, 'real': 1190, 'still': 1191, 'pub': 1192, 'late': 1193, 'langosta': 1194, 'rotebro': 1195, '91': 1196, 'kitchenettes': 1197, 'bite': 1198, 'flushing': 1199, 'ensuring': 1200, 'torget': 1201, 'bergen': 1202, '66': 1203, 'canyon': 1204, 'oyo': 1205, 'wa': 1206, 'va': 1207, 'deluxe': 1208, 'queen': 1209, 'operated': 1210, \"area's\": 1211, 'gift': 1212, 'thomasville': 1213, 'navigli': 1214, 'porta': 1215, 'sweet': 1216, 'savory': 1217, 'marysville': 1218, 'carpeted': 1219, 'mont': 1220, 'bicycles': 1221, 'weather': 1222, 'devens': 1223, 'hosts': 1224, 'terminal': 1225, 'netherstowe': 1226, 'tra': 1227, 'noi': 1228, 'econo': 1229, 'punta': 1230, 'patios': 1231, 'rates': 1232, 'chanute': 1233, 'les': 1234, 'stourport': 1235, 'dhabi': 1236, 'smart': 1237, 'mosque': 1238, 'aquarium': 1239, 'charleston': 1240, 'charlottesville': 1241, 'breeze': 1242, 'wooden': 1243, 'history': 1244, 'miramar': 1245, 'co': 1246, 'coliseum': 1247, 'boasts': 1248, 'extended': 1249, 'catering': 1250, 'kowloon': 1251, 'mongkok': 1252, 'hong': 1253, 'kong': 1254, 'thomas': 1255, 'ergonomic': 1256, 'freshly': 1257, 'wisconsin': 1258, 'tree': 1259, 'senhora': 1260, 'guia': 1261, 'mary': 1262, '19': 1263, 'should': 1264, 'concordia': 1265, 'españa': 1266, 'fira': 1267, 'bistro': 1268, 'mystic': 1269, 'mid': 1270, '2015': 1271, 'wardrobe': 1272, '820': 1273, 'see': 1274, 'madrid': 1275, '328': 1276, 'spotsylvania': 1277, 'civil': 1278, 'war': 1279, 'meat': 1280, 'newport': 1281, 'posada': 1282, 'same': 1283, 'clearwater': 1284, 'cha': 1285, 'ibis': 1286, 'minded': 1287, 'guide': 1288, 'omni': 1289, 'viking': 1290, 'eastlake': 1291, 'santa': 1292, 'cologne': 1293, 'side': 1294, 'domstern': 1295, 'pousada': 1296, 'transfer': 1297, 'hole': 1298, 'broadway': 1299, 'rouen': 1300, 'victorian': 1301, 'specials': 1302, 'impressive': 1303, 'schiphol': 1304, 'amsterdam': 1305, 'bizotel': 1306, 'montreal': 1307, 'galata': 1308, 'waterford': 1309, 'springhill': 1310, 'ashburton': 1311, 'baytown': 1312, 'salisbury': 1313, 'stockholm': 1314, 'oven': 1315, 'telephone': 1316, 'dunn': 1317, 'winds': 1318, 'rest': 1319, 'edison': 1320, 'marienthaler': 1321, 'wood': 1322, 'amt': 1323, 'mena': 1324, 'biscayne': 1325, 'gran': 1326, 'arabelle': 1327, 'makes': 1328, 'zone': 1329, 'riding': 1330, 'sleeper': 1331, 'biloxi': 1332, 'share': 1333, 'opposite': 1334, 'delightful': 1335, 'things': 1336, 'enhance': 1337, 'libertyville': 1338, 'louisville': 1339, 'trumann': 1340, 'cedar': 1341, 'canal': 1342, 'hohenzollern': 1343, 'towneplace': 1344, 'crawley': 1345, 'pleasanton': 1346, 'now': 1347, 'serena': 1348, 'toronto': 1349, 'fenway': 1350, 'kingsport': 1351, 'southernmost': 1352, 'bogotá': 1353, 'colombian': 1354, 'fenwick': 1355, 'traditions': 1356, 'moschenross': 1357, 'mitchell': 1358, 'dakota': 1359, \"nice's\": 1360, 'lakmi': 1361, 'avenue': 1362, '1969': 1363, 'promenade': 1364, 'vieux': 1365, 'cannot': 1366, 'advance': 1367, 'madame': 1368, 'tussauds': 1369, 'hd': 1370, 'mornings': 1371, 'cereals': 1372, 'oxford': 1373, 'stops': 1374, 'clark': 1375, 'blue': 1376, 'elizabeth': 1377, 'autograph': 1378, 'eastern': 1379, 'botanical': 1380, 'hostel': 1381, 'mariscal': 1382, 'vow': 1383, 'school': 1384, 'ecuador': 1385, 'catholic': 1386, 'basilica': 1387, 'performing': 1388, 'motor': 1389, 'james': 1390, 'm': 1391, 'locations': 1392, 'member': 1393, 'campus': 1394, 'wildlife': 1395, 'technical': 1396, 'newly': 1397, 'trips': 1398, 'eco': 1399, 'sized': 1400, 'freezers': 1401, 'weekends': 1402, 'consists': 1403, 'arrangements': 1404, 'organized': 1405, 'reachable': 1406, 'apart': 1407, 'wineries': 1408, 'being': 1409, 'donaldsonville': 1410, 'money': 1411, 'sunshine': 1412, 'cook': 1413, 'cooking': 1414, 'utensils': 1415, 'rewards': 1416, 'program': 1417, 'florianópolis': 1418, 'toilet': 1419, 'weight': 1420, 'training': 1421, 'waffle': 1422, 'muffins': 1423, 'added': 1424, 'clarion': 1425, 'pointe': 1426, 'southeastern': 1427, 'arenas': 1428, 'soccer': 1429, 'definition': 1430, 'auditorium': 1431, 'rail': 1432, 'stock': 1433, 'apply': 1434, '500': 1435, 'baska': 1436, 'voda': 1437, 'civljak': 1438, '65': 1439, 'scheduled': 1440, 'nightlife': 1441, 'universal': 1442, 'parkside': 1443, 'grille': 1444, 'southwestern': 1445, '600': 1446, 'yard': 1447, 'original': 1448, 'panorama': 1449, 'marble': 1450, 'elements': 1451, 'nightclub': 1452, 'chef': 1453, 'nai': 1454, 'suan': 1455, 'unit': 1456, 'internal': 1457, 'overlook': 1458, 'streets': 1459, 'linens': 1460, 'solarium': 1461, 'sessions': 1462, 'rentals': 1463, 'islands': 1464, 'reservation': 1465, 'satisfy': 1466, 'minibar': 1467, 'bidets': 1468, 'dulles': 1469, 'clear': 1470, 'alamance': 1471, '80': 1472, 'stove': 1473, 'franklin': 1474, 'flooring': 1475, 'thai': 1476, 'boxing': 1477, 'destinations': 1478, '984': 1479, 'mimizan': 1480, 'bordeaux': 1481, '85': 1482, 'gulf': 1483, 'architecture': 1484, 'accompanied': 1485, 'greek': 1486, 'scuba': 1487, 'boulevard': 1488, 'hollywood': 1489, 'harbour': 1490, 'arrival': 1491, 'price': 1492, 'any': 1493, 'lawn': 1494, 'fortress': 1495, 'military': 1496, 'treasure': 1497, 'head': 1498, 'colored': 1499, 'personal': 1500, 'center’s': 1501, 'loft': 1502, '90': 1503, 'montana': 1504, 'laundromat': 1505, 'little': 1506, 'battlefield': 1507, 'escape': 1508, 'traditionally': 1509, \"nordick's\": 1510, 'spot': 1511, 'glen': 1512, 'katy': 1513, 'bridgeville': 1514, 'watch': 1515, 'flight': 1516, 'storeys': 1517, 'looks': 1518, 'grills': 1519, 'sands': 1520, 'barbados': 1521, 'grange': 1522, 'blackpool': 1523, 'lago': 1524, 'give': 1525, 'quietly': 1526, 'outskirts': 1527, 'paderborn': 1528, 'gerold': 1529, 'color': 1530, 'quarter': 1531, 'paris': 1532, 'jardin': 1533, 'capital': 1534, '43': 1535, 'fulton': 1536, 'tap': 1537, '200': 1538, 'amid': 1539, 'peaceful': 1540, 'rural': 1541, 'filled': 1542, 'pamper': 1543, 'apartel': 1544, 'angeles': 1545, 'reliable': 1546, 'dog': 1547, 'allowing': 1548, 'arrange': 1549, 'classes': 1550, 'traveling': 1551, 'thoughtfully': 1552, 'sweeping': 1553, 'destination': 1554, 'changing': 1555, 'quick': 1556, 'thursday': 1557, 'bodega': 1558, 'last': 1559, 'grocery': 1560, 'marketplace': 1561, 'goods': 1562, '8am': 1563, 'hart': 1564, 'pacific': 1565, 'fare': 1566, 'ceiling': 1567, 'opening': 1568, '11am': 1569, 'sunday': 1570, 'brunch': 1571, '10pm': 1572, 'closed': 1573, 'breathtaking': 1574, 'steps': 1575, 'cooked': 1576, 'dfw': 1577, 'lit': 1578, 'printing': 1579, 'picnic': 1580, 'mexican': 1581, 'lane': 1582, 'crafts': 1583, 'refreshments': 1584, 'programs': 1585, 'games': 1586, 'nightly': 1587, 'exceptional': 1588, 'position': 1589, 'mean': 1590, 'dinners': 1591, 'eateries': 1592, 'italiano': 1593, 'never': 1594, 'carefully': 1595, 'chill': 1596, 'adult': 1597, 'lots': 1598, 'buzz': 1599, 'receive': 1600, 'sollentuna': 1601, 'stovetops': 1602, 'lift': 1603, 'shea': 1604, 'design': 1605, 'since': 1606, 'helpful': 1607, 'bryggen': 1608, 'hualapai': 1609, 'riverfront': 1610, 'malls': 1611, 'reading': 1612, 'boasting': 1613, 'peace': 1614, 'english': 1615, 'county': 1616, 'southwest': 1617, 'garage': 1618, 'waffles': 1619, '34': 1620, 'rent': 1621, 'pick': 1622, 'atoll': 1623, 'reveries': 1624, 'getaway': 1625, 'soothing': 1626, 'tones': 1627, 'interiors': 1628, 'snorkeling': 1629, 'assist': 1630, 'sport': 1631, 'male': 1632, 'adventures': 1633, 'tours': 1634, '37': 1635, 'channel': 1636, 'butterfly': 1637, 'baths': 1638, 'hrs': 1639, 'dial': 1640, '67': 1641, 'assortment': 1642, 'menus': 1643, 'steakhouse': 1644, 'brasserie': 1645, 'dome': 1646, 'peter’s': 1647, 'busses': 1648, 'rome’s': 1649, 'option': 1650, 'fiesta': 1651, 'pillowtop': 1652, 'tubs': 1653, 'spend': 1654, 'establishments': 1655, 'applied': 1656, 'special': 1657, 'measuring': 1658, 'fe': 1659, 'jr': 1660, 'elcient': 1661, 'compact': 1662, 'noodle': 1663, 'classic': 1664, '2133': 1665, 'labranda': 1666, 'stari': 1667, 'grad': 1668, 'refurbished': 1669, '23': 1670, 'acres': 1671, 'treatment': 1672, 'ladies': 1673, 'cuisines': 1674, 'mp3': 1675, 'pavilion': 1676, 'fontana': 1677, 'surf': 1678, 'sand': 1679, \"resort's\": 1680, 'break': 1681, 'beverage': 1682, '164': 1683, 'albuquerque': 1684, 'f': 1685, 'oakland': 1686, 'hayward': 1687, 'led': 1688, 'california': 1689, 'pancakes': 1690, 'lost': 1691, 'bad': 1692, 'boekelo': 1693, 'motorway': 1694, 'mountains': 1695, 'brook': 1696, 'banquet': 1697, 'dorsett': 1698, 'status': 1699, 'attention': 1700, 'expo': 1701, 'elgin': 1702, 'austin': 1703, 'straubel': 1704, 'radisson': 1705, 'pine': 1706, 'oneida': 1707, 'creek': 1708, 'guincho': 1709, 'atlantic': 1710, 'winter': 1711, 'theaters': 1712, 'lexington': 1713, 'kentucky': 1714, 'native': 1715, 'bankside': 1716, 'tourists': 1717, 'necessary': 1718, 'elegantly': 1719, 'susukino': 1720, 'mercure': 1721, 'subway': 1722, 'fusion': 1723, 'sec': 1724, 'rambla': 1725, 'meriden': 1726, 'mark': 1727, 'towne': 1728, 'adina': 1729, 'britomart': 1730, 'these': 1731, 'inside': 1732, \"madrid's\": 1733, 'what': 1734, 'venezia': 1735, 'book': 1736, 'southpoint': 1737, 'battlefields': 1738, 'p': 1739, 'espn': 1740, 'following': 1741, 'invited': 1742, 'cinnamon': 1743, 'rolls': 1744, 'marine': 1745, 'barrel': 1746, 'zanesville': 1747, 'copantl': 1748, 'flowers': 1749, 'hague': 1750, 'communal': 1751, 'stadshotel': 1752, 'den': 1753, 'haag': 1754, 'connections': 1755, 'line': 1756, '2461': 1757, 'busy': 1758, 'magazines': 1759, 'pinellas': 1760, 'petersburg': 1761, 'my': 1762, 'suit': 1763, 's': 1764, 'americas': 1765, 'lies': 1766, 'buffets': 1767, 'them': 1768, 'establishment': 1769, 'kilometres': 1770, 'natal': 1771, 'minibars': 1772, 'cribs': 1773, 'nord': 1774, 'year': 1775, 'valley': 1776, 'ny': 1777, 'ambiance': 1778, 'unforgettable': 1779, 'gustave': 1780, 'flaubert': 1781, 'bw': 1782, 'folkestone': 1783, 'dover': 1784, 'terminals': 1785, 'france': 1786, 'border': 1787, 'ciudad': 1788, 'obregón': 1789, 'corendon': 1790, '680': 1791, 'bazar': 1792, 'principe': 1793, 'acta': 1794, 'antibes': 1795, 'eixample': 1796, 'catalunya': 1797, 'occidental': 1798, 'aran': 1799, 'eur': 1800, 'monuments': 1801, 'jacinto': 1802, 'boardwalk': 1803, 'oceanfront': 1804, 'wicomico': 1805, 'bathrobes': 1806, 'limestone': 1807, 'corfu': 1808, 'comprises': 1809, 'calm': 1810, 'atmosphere': 1811, 'waechter': 1812, 'combinations': 1813, 'deep': 1814, 'luxuriously': 1815, 'pillow': 1816, 'vast': 1817, 'axis': 1818, 'kent': 1819, 'especially': 1820, 'stands': 1821, 'monastery': 1822, 'gasthof': 1823, 'craftsman': 1824, 'dark': 1825, 'currency': 1826, 'exchange': 1827, 'districts': 1828, 'arsen': 1829, '39': 1830, 'corona': 1831, 'são': 1832, 'paulo': 1833, 'attached': 1834, 'kensington': 1835, 'ft': 1836, 'naples': 1837, 'bohol': 1838, 'then': 1839, 'dove': 1840, 'mauston': 1841, 'rock': 1842, 'horseback': 1843, 'canoeing': 1844, 'golfing': 1845, 'interior': 1846, 'halls': 1847, 'truck': 1848, 'biking': 1849, 'oregon': 1850, 'hendaye': 1851, 'serene': 1852, 'iconic': 1853, 'baymont': 1854, 'bedroom': 1855, '84': 1856, 'week': 1857, 'casual': 1858, 'monday': 1859, 'indian': 1860, 'ultimate': 1861, 'impressed': 1862, 'estes': 1863, 'silver': 1864, 'saddle': 1865, 'purple': 1866, 'sage': 1867, 'soho': 1868, 'atenea': 1869, 'calabria': 1870, 'carmel': 1871, 'lifestyle': 1872, '2023': 1873, 'naumpasa': 1874, 'konagi': 1875, 'sits': 1876, 'forum': 1877, 'hometowne': 1878, 'magnolia': 1879, 'cove': 1880, 'columbus': 1881, 'season': 1882, 'ramid': 1883, 'weston': 1884, 'transfers': 1885, 'arora': 1886, 'sussex': 1887, 'haven': 1888, 'discerning': 1889, 'splendour': 1890, 'traveller': 1891, 'avisford': 1892, 'former': 1893, 'deira': 1894, 'dubai': 1895, 'opera': 1896, 'exotic': 1897, 'midnight': 1898, 'whitehorse': 1899, 'barcelo': 1900, 'filmores': 1901, 'but': 1902, 'verb': 1903, 'october': 1904, 'kanuhura': 1905, 'retreat': 1906, 'lagoon': 1907, 'staring': 1908, 'wells': 1909, 'cottages': 1910, 'fairhaven': 1911, 'bedford': 1912, 'whaling': 1913, 'pedestrian': 1914, 'norden': 1915, 'inter': 1916, 'sud': 1917, 'sextant': 1918, 'key': 1919, 'nh': 1920, 'boheme': 1921, 't': 1922, 'hardwood': 1923, 'foreigners': 1924, 'exempt': 1925, 'ann': 1926, 'arbor': 1927, 'avignon': 1928, 'ascend': 1929, 'binghamton': 1930, 'americinn': 1931, 'opotiki': 1932, 'jean': 1933, 'medecin': 1934, 'leads': 1935, 'massena': 1936, 'etoile': 1937, 'ville': 1938, 'wrought': 1939, 'anglais': 1940, \"london's\": 1941, 'bayswater': 1942, '215': 1943, 'queensway': 1944, 'leafy': 1945, 'croissants': 1946, 'paddington': 1947, 'albert': 1948, 'couple': 1949, 'relaxation': 1950, 'lewis': 1951, 'meats': 1952, 'locally': 1953, 'owned': 1954, 'shoppes': 1955, 'bluewood': 1956, 'collins': 1957, 'colorado': 1958, 'hughes': 1959, 'cheyenne': 1960, '46': 1961, 'sattahip': 1962, 'emerald': 1963, 'cartoon': 1964, 'network': 1965, 'amazone': 1966, 'pot': 1967, 'ping': 1968, 'pong': 1969, 'nong': 1970, 'nooch': 1971, 'ramayana': 1972, 'tapao': 1973, 'rayong': 1974, 'pattaya': 1975, '62': 1976, 'rainfall': 1977, 'showerheads': 1978, 'distances': 1979, 'displayed': 1980, 'kilometer': 1981, 'gabriela': 1982, 'mistral': 1983, 'mindalae': 1984, 'centro': 1985, 'comercial': 1986, 'multicentro': 1987, 'trude': 1988, 'sojka': 1989, 'basílica': 1990, 'comedias': 1991, 'polytechnic': 1992, 'pontifical': 1993, 'pontificia': 1994, 'educador': 1995, 'ecuadorian': 1996, 'culture': 1997, 'teatro': 1998, 'agora': 1999, 'preferred': 2000, 'uio': 2001, 'sucre': 2002, 'intl': 2003, 'atahualpa': 2004, 'shaker': 2005, 'benjamin': 2006, 'marian': 2007, 'schuster': 2008, 'company': 2009, 'walden': 2010, 'ponds': 2011, 'riverscape': 2012, 'cox': 2013, 'moment': 2014, 'treated': 2015, 'gsu': 2016, 'education': 2017, 'ogeechee': 2018, 'aquatic': 2019, 'boro': 2020, 'trip': 2021, 'savannah': 2022, 'tybee': 2023, 'imagine': 2024, 'whenever': 2025, 'true': 2026, 'lakeview': 2027, 'peter': 2028, 'lougheed': 2029, 'sunridge': 2030, 'stampede': 2031, 'scotiabank': 2032, 'saddledome': 2033, '120': 2034, \"don't\": 2035, 'operates': 2036, 'kilometers': 2037, '1350': 2038, '125': 2039, 'consisting': 2040, 'minigolf': 2041, 'arkansas': 2042, 'goodwin': 2043, 'vltava': 2044, 'petřínské': 2045, 'sady': 2046, 'stylishly': 2047, 'catered': 2048, 'toaster': 2049, 'malostranská': 2050, '3117': 2051, 'petřín': 2052, 'called': 2053, 'eiffel': 2054, 'ujezd': 2055, 'mendoza': 2056, 'covered': 2057, 'excursions': 2058, 'secure': 2059, 'shuttles': 2060, 'gabrielli': 2061, 'mind': 2062, 'branded': 2063, 'improved': 2064, 'cleanliness': 2065, 'protocols': 2066, 'let': 2067, 'suburban': 2068, 'gonzales': 2069, 'confidence': 2070, 'save': 2071, 'houmas': 2072, 'joseph': 2073, 'burner': 2074, 'tops': 2075, 'earn': 2076, 'privileges': 2077, 'beiramar': 2078, 'guest´s': 2079, 'entry': 2080, '1312': 2081, 'hercílio': 2082, 'luz': 2083, 'gods': 2084, 'belgian': 2085, 'suitable': 2086, 'andrews': 2087, 'camp': 2088, 'maryland': 2089, 'branch': 2090, 'baptist': 2091, 'theological': 2092, 'seminary': 2093, 'factory': 2094, 'soccerplex': 2095, 'durham': 2096, 'triangle': 2097, 'antique': 2098, 'wral': 2099, 'flextronics': 2100, 'powersecure': 2101, 'novozymes': 2102, 'emergency': 2103, 'centurylink': 2104, 'inc': 2105, 'chaplains': 2106, 'phillips': 2107, 'vegetarian': 2108, 'vegan': 2109, 'dairy': 2110, 'vietnam': 2111, 'veterans': 2112, 'ronald': 2113, 'reagan': 2114, 'heritage': 2115, 'baker': 2116, 'prairie': 2117, 'shadeland': 2118, 'recliners': 2119, 'nintendo': 2120, 'systems': 2121, 'pebbly': 2122, 'disposal': 2123, 'nicholas': 2124, '400': 2125, 'neighbor': 2126, 'blues': 2127, 'epcot': 2128, 'millennia': 2129, 'slide': 2130, \"lot's\": 2131, 'sheduled': 2132, 'world®': 2133, 'appetizers': 2134, 'shore': 2135, 'wisła': 2136, 'planty': 2137, '1640': 2138, 'leaning': 2139, 'vistula': 2140, 'boast': 2141, 'created': 2142, 'hairdressing': 2143, 'salon': 2144, 'important': 2145, 'miasto': 2146, 'federal': 2147, 'golden': 2148, 'gate': 2149, 'warfield': 2150, 'united': 2151, 'nations': 2152, 'orpheum': 2153, 'wat': 2154, 'pra': 2155, 'sing': 2156, 'mae': 2157, 'fah': 2158, 'luang': 2159, 'cartagena': 2160, 'indias': 2161, 'santo': 2162, 'domingo': 2163, 'bocagrande': 2164, 'castillo': 2165, 'rosario': 2166, 'boat': 2167, 'rafael': 2168, 'nuñez': 2169, 'needed': 2170, '290': 2171, 'refreshment': 2172, 'hunger': 2173, 'purchases': 2174, 'reliant': 2175, 'brookhollow': 2176, 'authority': 2177, 'coleridge': 2178, 'valletta': 2179, 'manoel': 2180, \"paul's\": 2181, 'anglican': 2182, 'treat': 2183, 'crowne': 2184, 'standout': 2185, 'battleground': 2186, 'parsippany': 2187, 'morristown': 2188, 'offices': 2189, 'merrill': 2190, 'lynch': 2191, 'mercedes': 2192, 'benz': 2193, 'prepackaged': 2194, 'muffin': 2195, 'danish': 2196, 'granola': 2197, 'whole': 2198, 'piece': 2199, 'bottle': 2200, 'supplied': 2201, 'sonesta': 2202, 'es': 2203, 'rockaway': 2204, 'willowbrook': 2205, 'intestate': 2206, 'vinyl': 2207, 'cincinnati': 2208, 'koh': 2209, 'phetch': 2210, 'buncha': 2211, 'chaweng': 2212, 'festival': 2213, 'plage': 2214, 'overlooks': 2215, 'current': 2216, 'tnt': 2217, 'sunbathe': 2218, 'aureilhan': 2219, 'biarritz': 2220, 'media': 2221, 'cd': 2222, 'delivery': 2223, \"peloponnese's\": 2224, 'attended': 2225, 'corinthian': 2226, 'combined': 2227, 'minimal': 2228, 'lines': 2229, 'sets': 2230, 'guests’': 2231, 'secretarial': 2232, 'gastronomic': 2233, 'labels': 2234, 'seaside': 2235, 'proposes': 2236, 'canoe': 2237, 'windsurfing': 2238, 'vary': 2239, 'basketball': 2240, 'ormond': 2241, 'road': 2242, 'a1a': 2243, 'galleria': 2244, 'olas': 2245, 'sovereign': 2246, 'borough': 2247, '900': 2248, 'favourite': 2249, 'independent': 2250, 'reviews': 2251, 'purchase': 2252, 'booking': 2253, 'refundable': 2254, 'amendable': 2255, 'congress': 2256, 'bandstand': 2257, 'lawns': 2258, 'devonshire': 2259, 'redoubt': 2260, 'princes': 2261, 'beachy': 2262, 'boldly': 2263, 'weights': 2264, 'sheraton’s': 2265, \"chagall's\": 2266, 'chedoke': 2267, 'civic': 2268, 'yegen': 2269, 'pompeys': 2270, 'pillar': 2271, '36': 2272, 'bighorn': 2273, 'monument': 2274, '68': 2275, 'splashwater': 2276, 'kingdom': 2277, \"porreca's\": 2278, 'bush': 2279, 'arrowhead': 2280, 'chiefs': 2281, 'baseball': 2282, 'team': 2283, 'missouri': 2284, 'coffeemakers': 2285, 'truman': 2286, 'adams': 2287, 'dunkin': 2288, 'guys': 2289, 'blaza': 2290, 'jackalope': 2291, 'burghs': 2292, 'wings': 2293, \"beez's\": 2294, 'bella': 2295, 'bean': 2296, 'roadhouse': 2297, 'topgolf': 2298, 'pittsburgh': 2299, 'southpointe': 2300, 'rivers': 2301, 'racetrack': 2302, 'fairview': 2303, 'woodville': 2304, 'trampoline': 2305, 'orient': 2306, 'purpose': 2307, 'dominated': 2308, 'remarkable': 2309, 'ahead': 2310, 'relation': 2311, 'sporting': 2312, 'sparkling': 2313, 'particularly': 2314, 'seconds': 2315, 'northern': 2316, 'egyptian': 2317, 'ellwood': 2318, 'finley': 2319, 'creative': 2320, 'formerly': 2321, 'known': 2322, 'houndshill': 2323, 'waxworks': 2324, 'impart': 2325, 'sensation': 2326, 'harmony': 2327, 'appealing': 2328, 'portugal': 2329, 'comprehensive': 2330, 'aim': 2331, 'memories': 2332, 'unspoiled': 2333, 'affording': 2334, 'reservoir': 2335, 'dam': 2336, 'modernity': 2337, 'congresses': 2338, 'entirely': 2339, 'kind': 2340, 'done': 2341, 'leisurely': 2342, 'pleasurable': 2343, 'manner': 2344, 'awaits': 2345, 'arms': 2346, 'genuine': 2347, 'cheerful': 2348, 'scheme': 2349, 'sunny': 2350, 'pretty': 2351, 'latin': 2352, 'bustling': 2353, 'student': 2354, 'liveliest': 2355, 'gobelins': 2356, 'seminar': 2357, 'plantes': 2358, 'panthéon': 2359, 'cinemas': 2360, 'means': 2361, 'jumping': 2362, 'seeing': 2363, 'experiencing': 2364, 'hdtv': 2365, 'breath': 2366, \"chicago's\": 2367, 'pour': 2368, 'flexible': 2369, 'institute': 2370, 'fichtelgebirge': 2371, 'fichtelberg': 2372, 'franconian': 2373, 'schöneblick': 2374, 'cozily': 2375, 'routes': 2376, 'promise': 2377, 'afternoons': 2378, 'infrared': 2379, 'cabin': 2380, 'fisher': 2381, 'lummus': 2382, 'los': 2383, 'ca': 2384, 'restful': 2385, 'knightsinn': 2386, 'diplomat': 2387, 'individuals': 2388, 'clean': 2389, 'hallandale': 2390, 'casinos': 2391, 'horse': 2392, 'racing': 2393, 'feeling': 2394, 'advised': 2395, 'applies': 2396, '3rd': 2397, '4th': 2398, 'joya': 2399, 'cerén': 2400, 'pre': 2401, 'hispanic': 2402, 'farming': 2403, 'buried': 2404, 'volcanic': 2405, 'eruption': 2406, 'archaeological': 2407, 'preserved': 2408, 'insight': 2409, 'lives': 2410, 'past': 2411, 'populations': 2412, 'weeks': 2413, 'washer': 2414, 'yoga': 2415, 'uninterrupted': 2416, 'curated': 2417, 'enthusiast': 2418, 'foodie': 2419, 'walkable': 2420, 'distilleries': 2421, 'galleries': 2422, 'bootcamp': 2423, 'workouts': 2424, 'towel': 2425, 'filtered': 2426, 'goals': 2427, 'strength': 2428, 'peloton': 2429, 'nordictrack': 2430, 'treadmills': 2431, 'sweat': 2432, 'solo': 2433, 'join': 2434, 'session': 2435, 'hosted': 2436, 'instructors': 2437, 'handcrafted': 2438, 'picking': 2439, 'premise': 2440, 'bento': 2441, 'frozen': 2442, '9pm': 2443, 'centered': 2444, 'rim': 2445, 'plant': 2446, 'atrium': 2447, 'windows': 2448, 'creates': 2449, 'vibe': 2450, 'engage': 2451, '30am': 2452, 'mondays': 2453, 'max': 2454, 'pets': 2455, 'pounds': 2456, 'accepted': 2457, 'moments': 2458, 'augustine': 2459, 'government': 2460, 'lightner': 2461, 'colony': 2462, 'flagler': 2463, 'worth': 2464, 'photocopy': 2465, 'wilderness': 2466, 'developed': 2467, 'contained': 2468, 'relief': 2469, 'average': 2470, 'coastal': 2471, 'stretch': 2472, 'land': 2473, '228': 2474, 'fantastic': 2475, 'enormous': 2476, 'welcomes': 2477, 'does': 2478, \"we're\": 2479, 'leader': 2480, 'outstanding': 2481, 'young': 2482, 'bingo': 2483, 'kids’': 2484, 'heroes': 2485, 'grown': 2486, 'gratuities': 2487, 'motorized': 2488, \"you've\": 2489, 'ever': 2490, 'experienced': 2491, 'literally': 2492, 'wallet': 2493, 'locked': 2494, 'safely': 2495, 'eating': 2496, 'drinking': 2497, 'focal': 2498, 'piled': 2499, 'finicky': 2500, 'eaters': 2501, 'chefs': 2502, 'stocking': 2503, 'butcher': 2504, 'constantly': 2505, 'themed': 2506, 'impromptu': 2507, 'brain': 2508, 'storm': 2509, 'bracing': 2510, \"royal's\": 2511, 'hotspot': 2512, 'shaded': 2513, 'complemented': 2514, 'shrimp': 2515, 'lobster': 2516, 'oysters': 2517, 'crabs': 2518, 'vacations': 2519, 'had': 2520, 'complement': 2521, 'rotating': 2522, 'compete': 2523, 'endless': 2524, 'desserts': 2525, 'dolce': 2526, 'vita': 2527, 'goes': 2528, 'shot': 2529, 'expresso': 2530, 'reconnect': 2531, 'cheer': 2532, 'happening': 2533, 'djs': 2534, 'laying': 2535, 'tracks': 2536, 'love': 2537, 'moby': 2538, 'dick': 2539, 'shady': 2540, 'breezes': 2541, 'older': 2542, 'considered': 2543, 'regular': 2544, 'aware': 2545, 'due': 2546, 'confirm': 2547, 'ages': 2548, 'bracelets': 2549, 'failure': 2550, 'result': 2551, 'automatic': 2552, 'change': 2553, 'exclusions': 2554, 'infra': 2555, 'inframassan': 2556, 'stinsen': 2557, 'infuses': 2558, 'chinatown': 2559, 'incredible': 2560, 'varieties': 2561, 'handicap': 2562, 'committed': 2563, 'enjoyable': 2564, 'vågen': 2565, 'fjord': 2566, 'fløyen': 2567, 'wharf': 2568, 'bergen’s': 2569, 'transformed': 2570, 'neptun': 2571, 'torgallmenningen': 2572, '262': 2573, 'fløibanen': 2574, 'furnicular': 2575, 'whitewater': 2576, 'rafting': 2577, 'touring': 2578, 'kingman': 2579, 'skywalk': 2580, '122': 2581, 'gonzaga': 2582, 'northtown': 2583, 'manito': 2584, 'whitworth': 2585, 'eagles': 2586, 'rena': 2587, 'holy': 2588, 'mt': 2589, 'heads': 2590, 'executive': 2591, 'baked': 2592, 'cookies': 2593, 'material': 2594, 'speak': 2595, 'bon': 2596, 'secours': 2597, 'sirrine': 2598, 'speaking': 2599, 'bulgarian': 2600, 'spanish': 2601, 'practical': 2602, 'spartanburg': 2603, 'hjotel': 2604, 'alabama': 2605, 'sculptures': 2606, 'paintings': 2607, 'boutiques': 2608, 'genova': 2609, 'artworks': 2610, 'artists': 2611, 'arnaldo': 2612, 'pomodoro': 2613, 'dalì': 2614, 'man': 2615, 'ray': 2616, 'display': 2617, 'sixth': 2618, 'timberview': 2619, 'mccarthy': 2620, 'alf': 2621, 'ringhotel': 2622, 'bömers': 2623, 'mosellandhotel': 2624, 'prinzenkopf': 2625, 'lookout': 2626, 'calmont': 2627, 'klettersteig': 2628, 'vulkaneifel': 2629, 'thermal': 2630, 'alfresco': 2631, 'permitting': 2632, 'gan': 2633, 'laamu': 2634, 'untouched': 2635, 'coral': 2636, 'reefs': 2637, 'kadhoo': 2638, 'domestic': 2639, 'wolfe': 2640, 'earthy': 2641, 'tail': 2642, 'storied': 2643, 'panel': 2644, 'latest': 2645, 'mattresses': 2646, 'stranded': 2647, 'call': 2648, 'ccourteous': 2649, 'comfy': 2650, 'ac': 2651, 'heater': 2652, 'writing': 2653, 'lichfield': 2654, 'spired': 2655, 'dating': 2656, '12th': 2657, 'century': 2658, 'fire': 2659, 'walled': 2660, 'retain': 2661, 'drayton': 2662, 'nec': 2663, 'tamworth': 2664, 'snow': 2665, 'behind': 2666, 'vatican': 2667, 'benches': 2668, 'freebies': 2669, 'conscious': 2670, 'seeking': 2671, 'fridges': 2672, 'fuel': 2673, '410': 2674, 'alamo': 2675, 'riverwalk': 2676, 'ingram': 2677, 'lackland': 2678, \"antonio's\": 2679, 'bonuses': 2680, 'ziva': 2681, 'cap': 2682, 'juanillo': 2683, 'scape': 2684, 'bavaro': 2685, '375': 2686, 'down': 2687, 'comforters': 2688, 'designer': 2689, 'dipping': 2690, 'arcade': 2691, 'tempest': 2692, '14488': 2693, '1346': 2694, 'suburbs': 2695, 'cairo': 2696, 'established': 2697, '2007': 2698, 'citystars': 2699, 'qoba': 2700, 'martin': 2701, 'osa': 2702, 'johnson': 2703, 'safari': 2704, 'copying': 2705, 'sante': 2706, 'quarry': 2707, 'stone': 2708, 'humboldt': 2709, 'speedway': 2710, 'shosei': 2711, 'minami': 2712, 'interchange': 2713, 'ramen': 2714, 'japanese': 2715, 'interchangeably': 2716, 'naturel': 2717, 'régional': 2718, 'ballons': 2719, 'vosges': 2720, 'decor': 2721, \"l'assiette\": 2722, 'du': 2723, 'coq': 2724, \"l'ane\": 2725, 'cerf': 2726, 'prepares': 2727, 'gourmet': 2728, 'pavillon': 2729, 'pétrus': 2730, 'chic': 2731, 'fritz': 2732, 'lac': 2733, 'gerardmer': 2734, 'chênes': 2735, 'blancs': 2736, '2016': 2737, 'secluded': 2738, 'forested': 2739, 'adriatic': 2740, 'vrboska': 2741, 'jelsa': 2742, 'sunbathing': 2743, 'accessed': 2744, 'kidderminster': 2745, 'roads': 2746, 'worcester': 2747, 'tourism': 2748, 'above': 2749, 'dhabi’s': 2750, 'indulge': 2751, 'zayna': 2752, 'fit': 2753, 'cardiovascular': 2754, 'eight': 2755, 'sheikh': 2756, 'zayed': 2757, 'ferrari': 2758, 'yas': 2759, 'waterworld': 2760, 'naval': 2761, '64': 2762, 'connection': 2763, 'pantry': 2764, 'kluge': 2765, 'ruhe': 2766, 'aboriginal': 2767, 'meadowcreek': 2768, 'neighbourhood': 2769, 'gorge': 2770, 'waterway': 2771, 'inner': 2772, 'customer': 2773, 'abbey': 2774, 'avani': 2775, 'geneva': 2776, 'estate': 2777, 'big': 2778, 'riviera': 2779, '334': 2780, '240°': 2781, 'tasty': 2782, 'noon': 2783, '40000': 2784, '3716': 2785, 'konyaalti': 2786, 'adjoining': 2787, 'parquet': 2788, 'mix': 2789, 'beige': 2790, 'brown': 2791, 'colors': 2792, 'admire': 2793, 'bites': 2794, 'antalya': 2795, 'migros': 2796, 'block': 2797, 'rio': 2798, 'john': 2799, 'kennedy': 2800, '51': 2801, 'print': 2802, '531': 2803, 'citi': 2804, 'miraflores': 2805, 'handicraft': 2806, 'cafes': 2807, 'larcomar': 2808, 'lima': 2809, 'jorge': 2810, 'chavez': 2811, 'nrg': 2812, 'sleepers': 2813, 'stand': 2814, 'o': 2815, 'oracle': 2816, 'gold': 2817, 'comfortably': 2818, 'showcasing': 2819, 'perkins': 2820, 'bakery': 2821, 'burgers': 2822, 'salads': 2823, 'daly': 2824, 'mansion': 2825, 'hectares': 2826, 'woodland': 2827, 'a35': 2828, 'combine': 2829, 'moods': 2830, 'ingredients': 2831, 'plunge': 2832, 'enschede': 2833, 'haaksbergen': 2834, 'hengelo': 2835, 'a1': 2836, 'pigeon': 2837, 'forge': 2838, 'dollywood': 2839, 'smoky': 2840, \"oakbrook's\": 2841, 'brookfield': 2842, 'interstates': 2843, '88': 2844, '355': 2845, 'whirlwind': 2846, 'tai': 2847, 'kok': 2848, 'tsui': 2849, 'mtr': 2850, 'attained': 2851, 'bronze': 2852, 'benchmark': 2853, 'earthcheck': 2854, 'philosophy': 2855, 'anytime': 2856, 'everywhere': 2857, 'pampered': 2858, 'imagination': 2859, 'waterworks': 2860, 'meadow': 2861, 'winery': 2862, 'brewed': 2863, 'coffees': 2864, 'teas': 2865, 'stanley': 2866, 'starbucks': 2867, 'classics': 2868, 'purcell’s': 2869, 'excitement': 2870, 'thornberry': 2871, 'rich': 2872, 'browns': 2873, 'lambeau': 2874, 'trees': 2875, 'salt': 2876, 'taste': 2877, 'risotto': 2878, 'restaurant’s': 2879, 'romantic': 2880, 'colder': 2881, 'oswego': 2882, 'accommodate': 2883, 'functions': 2884, 'competitive': 2885, 'hamburg': 2886, \"mintues'\": 2887, 'rupp': 2888, 'boone': 2889, 'laquinta': 2890, 'lakeside': 2891, 'todd': 2892, 'wheelchair': 2893, 'guestroom': 2894, 'handy': 2895, 'humidifying': 2896, 'purifier': 2897, 'movies': 2898, 'odori': 2899, 'hokkaido': 2900, 'cepage': 2901, 'triple': 2902, 'characteristic': 2903, 'electrical': 2904, 'cars': 2905, 'charging': 2906, 'poble': 2907, 'journey': 2908, 'connecticut': 2909, 'placed': 2910, 'powder': 2911, 'motorways': 2912, 'yale': 2913, 'twain': 2914, 'continent': 2915, 'newman': 2916, 'november': 2917, 'spark': 2918, '500mb': 2919, 'devices': 2920, 'precinct': 2921, 'sky': 2922, '1930s': 2923, 'skyscraper': 2924, 'emblematic': 2925, 'petit': 2926, 'alcala': 2927, 'puerta': 2928, 'del': 2929, 'sol': 2930, 'availability': 2931, 'círculo': 2932, 'bellas': 2933, 'artes': 2934, 'multidisciplinary': 2935, 'dynamic': 2936, 'prado': 2937, 'reina': 2938, 'sofía': 2939, 'thyssen': 2940, 'sevilla': 2941, 'atocha': 2942, 'eurohotel': 2943, 'montenapoleone': 2944, 'nouveau': 2945, 'dates': 2946, '1920s': 2947, 'laptop': 2948, 'organize': 2949, 'clubs': 2950, 'malpensa': 2951, 'germanna': 2952, 'hazelwild': 2953, 'celebrate': 2954, 'patriot': 2955, 'army': 2956, 'cnn': 2957, 'fox': 2958, 'news': 2959, 'accommodates': 2960, 'boardroom': 2961, 'classroom': 2962, 'yogurt': 2963, 'dominion': 2964, 'corps': 2965, 'quantico': 2966, \"lee's\": 2967, 'anna': 2968, 'riverside': 2969, 'buffs': 2970, \"soldier's\": 2971, 'kenmore': 2972, \"washington's\": 2973, 'monroe': 2974, 'enthusiasts': 2975, 'browsing': 2976, 'cracker': 2977, '70': 2978, 'longaberger': 2979, 'rhode': 2980, 'weekend': 2981, 'newport’s': 2982, 'sunset': 2983, 'mansions': 2984, 'cliff': 2985, 'pedro': 2986, 'sula': 2987, 'churrasqueria': 2988, 'steak': 2989, 'popol': 2990, 'nah': 2991, 'ramon': 2992, 'villeda': 2993, 'undergone': 2994, 'renovations': 2995, '2001': 2996, 'exterior': 2997, 'corridors': 2998, 'ease': 2999, 'economy': 3000, 'ottoman': 3001, 'data': 3002, 'without': 3003, 'substituted': 3004, 'photocopying': 3005, 'receiving': 3006, 'faxes': 3007, 'hookup': 3008, '250': 3009, 'exit': 3010, '131': 3011, 'serve': 3012, 'odessa': 3013, 'race': 3014, 'track': 3015, 'petroleum': 3016, 'caf': 3017, 'communications': 3018, 'intimate': 3019, 'van': 3020, 'speijk': 3021, 'vredespaleis': 3022, 'brings': 3023, 'scheveningen': 3024, 'return': 3025, 'chocolate': 3026, 'fondue': 3027, 'bubbles': 3028, 'tampa': 3029, 'pete': 3030, 'dali': 3031, 'wonders': 3032, 'hua': 3033, 'hin': 3034, 'readily': 3035, 'amongst': 3036, 'passing': 3037, 'rejuvenate': 3038, 'eagan': 3039, 'providing': 3040, 'tcf': 3041, 'minneapolis': 3042, 'saint': 3043, 'paul': 3044, 'depot': 3045, 'amtrak': 3046, 'tijuana': 3047, 'koelnmesse': 3048, 'bahn': 3049, 'reef': 3050, 'upper': 3051, 'stairs': 3052, 'baggage': 3053, 'arriving': 3054, 'vehicles': 3055, 'ensures': 3056, 'dip': 3057, 'ponta': 3058, 'negra': 3059, 'cosy': 3060, 'anyone': 3061, 'interesting': 3062, 'positioned': 3063, 'fairs': 3064, 'moreover': 3065, 'augusto': 3066, 'severo': 3067, 'calypso': 3068, 'trancoso': 3069, 'quadrado': 3070, 'sao': 3071, 'joao': 3072, 'batista': 3073, 'tancredo': 3074, 'neves': 3075, 'praca': 3076, 'independencia': 3077, 'infant': 3078, 'beers': 3079, 'moselle': 3080, 'ft²': 3081, 'saunas': 3082, 'received': 3083, '2011': 3084, 'rhineland': 3085, 'palatinate': 3086, '77': 3087, 'uptown': 3088, 'douglas': 3089, 'adventure': 3090, 'jackson': 3091, 'verdant': 3092, 'alpine': 3093, 'america’s': 3094, 'rugged': 3095, 'peaks': 3096, 'celebrated': 3097, 'runs': 3098, 'inspiring': 3099, 'teton': 3100, 'combines': 3101, 'lovely': 3102, 'littéraire': 3103, 'literary': 3104, 'honor': 3105, 'writer': 3106, 'kindarena': 3107, 'noter': 3108, 'dame': 3109, 'musée': 3110, 'beaux': 3111, 'formal': 3112, 'maritime': 3113, 'spindles': 3114, 'ballroom': 3115, 'cabarets': 3116, 'crossings': 3117, 'duncan': 3118, 'kicakpoo': 3119, 'lucky': 3120, 'thoroughfare': 3121, 'badhoevedorp': 3122, 'divided': 3123, 'urban': 3124, '207': 3125, 'skybar': 3126, '298': 3127, 'boeing': 3128, '747': 3129, 'tickets': 3130, 'mega': 3131, 'bangna': 3132, 'trade': 3133, 'bitec': 3134, 'emporium': 3135, 'sirikit': 3136, 'lumpini': 3137, 'embassy': 3138, 'amarin': 3139, 'suvarnabhumi': 3140, 'darlington': 3141, 'montréal’s': 3142, 'olimpo': 3143, 'bogota': 3144, 'chapinero': 3145, 'javeriana': 3146, 'ignacio': 3147, 'monserrate': 3148, 'bolivar': 3149, 'appetite': 3150, 'genoa’s': 3151, 'piazza': 3152, 'cruise': 3153, 'genoan': 3154, 'williamsville': 3155, 'seneca': 3156, 'sagrada': 3157, 'familia': 3158, 'antibes’s': 3159, 'gluten': 3160, 'gaudí’s': 3161, 'batlló': 3162, 'pedrera': 3163, 'ramblas': 3164, 'monumental': 3165, '81': 3166, 'keurig®': 3167, 'blocking': 3168, 'shades': 3169, 'armory': 3170, 'rosamond': 3171, 'gifford': 3172, 'dinosaur': 3173, 'mohegan': 3174, \"ashburton's\": 3175, 'regency': 3176, 'domain': 3177, 'aviation': 3178, \"trott's\": 3179, \"motel's\": 3180, 'lay': 3181, 'specialities': 3182, 'warmer': 3183, 'months': 3184, 'laurentina': 3185, 'termini': 3186, 'arranges': 3187, 'garbatella': 3188, 'interested': 3189, 'ancient': 3190, 'landmarks': 3191, 'euros': 3192, 'pirates': 3193, 'battleship': 3194, 'raceway': 3195, 'assateague': 3196, 'seashore': 3197, 'saving': 3198, \"ripley's\": 3199, 'believe': 3200, 'roland': 3201, 'e': 3202, 'powell': 3203, 'drottninggatan': 3204, 'clara': 3205, 'nobis': 3206, 'hotels™': 3207, 'noveau': 3208, 'tile': 3209, 'swedish': 3210, 'clara’s': 3211, 'hötorget': 3212, 'stockholm’s': 3213, 'bothin': 3214, 'toyota': 3215, 'bbva': 3216, 'dynamo': 3217, 'william': 3218, 'danillia': 3219, 'gouvia': 3220, 'ioannis': 3221, 'kapodistrias': 3222, 'approximately': 3223, 'typical': 3224, 'corfiot': 3225, 'architectural': 3226, 'neoclassical': 3227, 'lush': 3228, 'colours': 3229, 'exude': 3230, 'regulated': 3231, 'younger': 3232, 'molières': 3233, 'aiguillons': 3234, 'roucous': 3235, 'montauban': 3236, 'truffle': 3237, 'blagnac': 3238, '47': 3239, 'averasboro': 3240, 'malabanas': 3241, \"guest's\": 3242, 'enjoyment': 3243, 'retiring': 3244, 'deserved': 3245, 'swanvale': 3246, 'hippodrome': 3247, 'circus': 3248, 'norfolk': 3249, 'broads': 3250, 'soaking': 3251, 'singapore': 3252, 'causeway': 3253, 'plush': 3254, 'makan': 3255, 'fares': 3256, 'tosca': 3257, 'trattoria': 3258, 'straits': 3259, 'houses': 3260, 'supporting': 3261, 'accessibility': 3262, 'twin': 3263, 'sizes': 3264, 'w135': 3265, 'x': 3266, 'l200': 3267, 'sentral': 3268, 'senai': 3269, 'changi': 3270, 'able': 3271, 'td': 3272, 'ameritrade': 3273, 'eppley': 3274, 'airfield': 3275, 'tacoma': 3276, 'needle': 3277, 'pike': 3278, 'muckleshoot': 3279, 'raritan': 3280, 'stovetop': 3281, 'upgraded': 3282, 'pillows': 3283, 'exchanged': 3284, 'menlo': 3285, 'woodbridge': 3286, 'amsterdam’s': 3287, 'boxes': 3288, 'a4': 3289, 'hoofddorp': 3290, '525': 3291, 'superior': 3292, 'hamminkeln': 3293, 'beside': 3294, 'issel': 3295, 'marienthal': 3296, \"gasthof's\": 3297, 'fields': 3298, 'forests': 3299, 'hohe': 3300, 'fireside': 3301, 'onondaga': 3302, 'doha': 3303, 'souq': 3304, 'waqif': 3305, 'bidet': 3306, 'halal': 3307, 'playing': 3308, 'billiards': 3309, 'qatar': 3310, 'diwan': 3311, 'emiri': 3312, 'bay’s': 3313, 'ftx': 3314, '360': 3315, 'degree': 3316, 'navigate': 3317, 'neighborhoods': 3318, 'scheduling': 3319, 'reserving': 3320, 'jet': 3321, 'skis': 3322, 'much': 3323, 'bayside': 3324, 'tastes': 3325, 'organizations': 3326, 'sumela': 3327, 'arsin': 3328, 'trabzon': 3329, \"appart'city\": 3330, 'expositions': 3331, 'temple': 3332, '105': 3333, 'republica': 3334, 'edifício': 3335, 'itália': 3336, 'alcazar': 3337, 'brazilian': 3338, 'reflexu': 3339, 'banks': 3340, 'olympia': 3341, 'face': 3342, 'onto': 3343, 'ortus': 3344, 'bonita': 3345, '41': 3346, 'tamiami': 3347, 'jacuzzi': 3348, 'miniclub': 3349, 'supermarket': 3350, 'hairdresser': 3351, 'address': 3352, 'carretera': 3353, 'varadero': 3354, 'cuba': 3355, 'outer': 3356, 'limits': 3357, 'burn': 3358, 'calories': 3359, 'given': 3360, 'snowmobile': 3361, 'cross': 3362, 'dells': 3363, 'affordable': 3364, 'chinook': 3365, 'devils': 3366, 'protected': 3367, '110': 3368, 'orhoïtza': 3369, 'doing': 3370, 'lazy': 3371, 'nyc': 3372, 'amazing': 3373, 'night’s': 3374, 'sleeps': 3375, 'hard': 3376, 'hills': 3377, \"manager's\": 3378, 'wednesday': 3379, '6am': 3380, 'hsia': 3381, 'tech': 3382, 'sciences': 3383, 'idaho': 3384, 'steaks': 3385, 'chef’s': 3386, 'greets': 3387, 'seguro': 3388, 'mere': 3389, 'themselves': 3390, 'delights': 3391, 'greeting': 3392, 'charm': 3393, 'beautifully': 3394, 'ambience': 3395, 'sit': 3396, 'matter': 3397, 'instantly': 3398, 'greenleafe': 3399, 'ovens': 3400, \"bojangles'\": 3401, 'mint': 3402, 'randolph': 3403, 'staffed': 3404, 'bacon': 3405, 'drop': 3406, 'grove': 3407, 'gurnee': 3408, 'ftiness': 3409, 'snyder': 3410, 'hunters': 3411, 'kennels': 3412, 'retail': 3413, 'abilene': 3414, 'mandeville': 3415, 'queens': 3416, 'trafalgar': 3417, \"king's\": 3418, 'buckingham': 3419, 'candlewood': 3420, 'ne': 3421, 'champions': 3422, 'kfc': 3423, 'yum': 3424, '97': 3425, 'ar': 3426, 'forrest': 3427, 'l': 3428, \"crowley's\": 3429, 'craighead': 3430, 'consist': 3431, 'rv': 3432, 'yet': 3433, 'distinguished': 3434, 'plaça': 3435, 'energetic': 3436, 'fairgrounds': 3437, 'networks': 3438, 'calabria’s': 3439, 'fashionably': 3440, 'measure': 3441, 'sizable': 3442, 'exceptionally': 3443, 'adorned': 3444, 'functional': 3445, 'prepared': 3446, 'omelets': 3447, 'clay': 3448, 'currently': 3449, 'renovation': 3450, 'march': 3451, \"florida's\": 3452, 'attending': 3453, 'i̇stanbul': 3454, 'istiklal': 3455, 'taksim': 3456, '2017': 3457, 'anthony': 3458, 'padua': 3459, \"princes'\": 3460, 'dolmabahce': 3461, 'advice': 3462, 'lutfu': 3463, 'kirdar': 3464, 'ataturk': 3465, 'istanbul': 3466, 'havana': 3467, 'embassies': 3468, 'ecological': 3469, 'harmonious': 3470, 'blend': 3471, 'styles': 3472, \"visitors'\": 3473, 'places': 3474, 'pio': 3475, 'ana': 3476, 'momentum': 3477, 'lindora': 3478, 'knights': 3479, 'jacksonville': 3480, 'dix': 3481, 'ellis': 3482, '210': 3483, 'standards': 3484, 'waterpark': 3485, 'chaffee': 3486, 'osnabrück': 3487, 'brightly': 3488, 'opens': 3489, 'saturdays': 3490, 'sundays': 3491, 'tuesdays': 3492, 'reserved': 3493, 'exclusively': 3494, 'women': 3495, 'hire': 3496, 'ladson': 3497, 'championship': 3498, 'cape': 3499, 'cod': 3500, 'round': 3501, 'massachusetts': 3502, 'townhomes': 3503, 'townhouse': 3504, 'sleeping': 3505, 'wet': 3506, 'stereo': 3507, 'easton': 3508, 'video': 3509, 'brewery': 3510, 'vilamarí': 3511, 'espanya': 3512, 'vilamarí’s': 3513, 'controlled': 3514, 'depending': 3515, 'mnac': 3516, 'magic': 3517, 'fountains': 3518, 'versions': 3519, 'catalan': 3520, 'korea': 3521, 'men': 3522, 'cinema': 3523, 'stasio': 3524, 'lobby’s': 3525, 'coex': 3526, 'gimpo': 3527, 'incheon': 3528, \"park's\": 3529, 'grizzly': 3530, 'wolf': 3531, 'paddle': 3532, 'giant': 3533, 'trains': 3534, 'waterfall': 3535, 'soundproof': 3536, 'term': 3537, 'packages': 3538, 'celebrating': 3539, 'counties': 3540, 'famed': 3541, 'morgan’s': 3542, 'shows': 3543, 'hearty': 3544, 'takes': 3545, 'brighton': 3546, 'landscaped': 3547, 'rosa': 3548, 'sonoma': 3549, 'napa': 3550, 'flamingo': 3551, 'lap': 3552, 'group': 3553, 'intense': 3554, 'lazeaway': 3555, 'everyday': 3556, 'choisy': 3557, 'mauritius': 3558, 'lying': 3559, 'eager': 3560, 'bustle': 3561, 'picture': 3562, 'amidst': 3563, 'entertaining': 3564, 'revel': 3565, 'tranquillity': 3566, 'exquisite': 3567, 'tempt': 3568, 'affords': 3569, 'unrivalled': 3570, '580': 3571, 'stonebridge': 3572, 'originally': 3573, 'georgian': 3574, '89': 3575, 'parkland': 3576, 'chichester': 3577, 'arundel': 3578, 'southampton': 3579, 'croquet': 3580, 'andtable': 3581, 'tables': 3582, 'prep': 3583, 'names': 3584, 'boys': 3585, 'engraved': 3586, 'wall': 3587, 'panels': 3588, 'opt': 3589, 'relaxed': 3590, 'reopen': 3591, 'dubai’s': 3592, 'phenicia': 3593, 'phenicia’s': 3594, 'baniyas': 3595, 'seven': 3596, 'astra': 3597, 'garnier': 3598, 'madeleine': 3599, 'grands': 3600, 'magasins': 3601, 'vendome': 3602, 'rue': 3603, 'paix': 3604, 'sumptuous': 3605, 'noted': 3606, 'artwork': 3607, 'exhibitions': 3608, 'façade': 3609, 'vie': 3610, '82': 3611, 'await': 3612, 'agenda': 3613, 'answer': 3614, 'questions': 3615, 'fruits': 3616, \"32''\": 3617, 'briza': 3618, 'cup': 3619, 'erik': 3620, 'nielsen': 3621, 'palmer': 3622, 'multi': 3623, \"kid's\": 3624, 'spent': 3625, 'sip': 3626, 'caracol': 3627, 'cascada': 3628, 'yonge': 3629, 'dundas': 3630, 'dancing': 3631, \"gentleman's\": 3632, 'ground': 3633, 'fan': 3634, 'eaton': 3635, 'billy': 3636, 'bishop': 3637, 'seafront': 3638, '437': 3639, 'gently': 3640, 'sloping': 3641, '1896': 3642, 'eastbourne’s': 3643, 'verandah': 3644, 'discount': 3645, 'voucher': 3646, 'collected': 3647, 'unrestricted': 3648, 'guarantee': 3649, 'algarve': 3650, 'facing': 3651, 'amizing': 3652, 'praia': 3653, 'rocha': 3654, 'portimao': 3655, 'don’t': 3656, 'become': 3657, 'legendary': 3658, 'bands': 3659, 'attitude': 3660, 'timeless': 3661, 'fenway’s': 3662, 'buzzing': 3663, 'scene': 3664, 'began': 3665, 'way': 3666, '1959': 3667, 'doors': 3668, '1271': 3669, 'boylston': 3670, '93': 3671, 'boston': 3672, 'coming': 3673, 'soon': 3674, 'brand': 3675, 'hojoko': 3676, 'tim': 3677, 'cushman': 3678, 'putting': 3679, 'finishing': 3680, 'touches': 3681, 'excited': 3682, 'might': 3683, 'checkin': 3684, 'vehicle': 3685, 'lodging': 3686, 'cr': 3687, '535': 3688, \"orlando's\": 3689, 'abundant': 3690, 'exciting': 3691, \"world's\": 3692, 'lhaviyani': 3693, 'crystal': 3694, 'dock': 3695, 'semi': 3696, 'seaplane': 3697, 'flood': 3698, 'squash': 3699, 'mano': 3700, 'spreads': 3701, 'pasta': 3702, 'grilled': 3703, 'cowry': 3704, 'veli': 3705, 'jehunuhura': 3706, 'juneau': 3707, 'baranof': 3708, '1939': 3709, 'alaska’s': 3710, 'resorts': 3711, 'pristine': 3712, 'topical': 3713, 'paradise': 3714, 'enchanting': 3715, 'archipelago': 3716, 'recent': 3717, 'achieved': 3718, 'recognized': 3719, 'attraction': 3720, 'expanses': 3721, 'idyllic': 3722, 'nation': 3723, '34km': 3724, 'speedboat': 3725, 'mesmerising': 3726, 'turquoise': 3727, 'waters': 3728, 'islamic': 3729, 'presidential': 3730, 'planned': 3731, 'nothing': 3732, 'desired': 3733, 'hospitable': 3734, 'environment': 3735, 'solitude': 3736, 'villa': 3737, 'specimen': 3738, 'drawing': 3739, 'films': 3740, '‘boy': 3741, \"dolphin'\": 3742, 'sophia': 3743, 'loren': 3744, '‘a': 3745, 'girl': 3746, \"black'\": 3747, 'elli': 3748, 'labeti': 3749, 'warriors’': 3750, 'path': 3751, 'ridgefields': 3752, 'palais': 3753, 'rhoul': 3754, 'marrakech': 3755, 'marrakesh': 3756, 'bahia': 3757, 'jemaa': 3758, 'fnaa': 3759, 'agdal': 3760, 'wrap': 3761, 'limo': 3762, 'touristic': 3763, 'promises': 3764, 'me': 3765, 'millicent': 3766, 'romantik': 3767, 'reichshof': 3768, 'welcoming': 3769, 'furnishing': 3770, 'reichshof’s': 3771, 'meer': 3772, 'und': 3773, 'moor': 3774, 'refresh': 3775, 'robe': 3776, 'slippers': 3777, 'zillestube': 3778, 'rustic': 3779, 'bauernstube': 3780, 'alt': 3781, 'choices': 3782, 'labège': 3783, 'september': 3784, 'basilique': 3785, 'sernin': 3786, 'harrah’s': 3787, 'finest': 3788, 'consistently': 3789, 'ranked': 3790, 'condé': 3791, 'nast': 3792, 'traveler': 3793, 'windsor': 3794, 'orleans’': 3795, 'unusually': 3796, 'either': 3797, 'window': 3798, 'mississippi': 3799, 'duval': 3800, 'cheese': 3801, 'conservatory': 3802, 'ernest': 3803, 'hemingway': 3804, '1148': 3805, 'pensionat': 3806, 'strandhagen': 3807, 'farjestaden': 3808, 'stora': 3809, 'ror': 3810, 'ekerum': 3811, 'vida': 3812, 'kalmar': 3813, 'saxnäs': 3814, 'exclusive': 3815, 'zona': 3816, 'you’ll': 3817, 'andino': 3818, 'retiro': 3819, 'atlantis': 3820, 'brands': 3821, 'it’s': 3822, 'connecting': 3823, 'fragrant': 3824, 'squeezed': 3825, 'surround': 3826, 'delicacies': 3827, 'citizens': 3828, 'regardless': 3829, 'length': 3830, 'least': 3831, 'consecutive': 3832, 'date': 3833, 'departure': 3834, 'visa': 3835, 'another': 3836, 'exceptions': 3837, 'michigan': 3838, 'yost': 3839, 'crisler': 3840, 'detroit': 3841, 'miniature': 3842, 'thunder': 3843, 'villeneuve': 3844, 'loungers': 3845, 'marseille': 3846, 'a9': 3847, 'leading': 3848, 'nimes': 3849, 'montpellier': 3850, 'edventure': 3851, 'size': 3852, 'cookware': 3853, 'dishware': 3854, 'oakdale': 3855, 'tavern': 3856, 'greater': 3857, 'thann': 3858, 'alsace': 3859, 'airy': 3860, 'mulhouse': 3861, 'colmar': 3862, '27': 3863, 'wesleyan': 3864, 'corn': 3865, 'globe': 3866, 'interconnected': 3867, 'hurricane': 3868}\n"
          ]
        }
      ],
      "source": [
        "# A dictionary of words and their counts.\n",
        "print(tUS.word_counts)\n",
        "\n",
        "# A dictionary of words and how many documents each appeared in.\n",
        "print(tUS.word_docs)\n",
        "\n",
        "# An integer count of the total number of documents that were used to fit the Tokenizer (i.e. total number of documents)\n",
        "print(tUS.document_count)\n",
        "\n",
        "# A dictionary of words and their uniquely assigned integers.\n",
        "print(tUS.word_index)"
      ]
    },
    {
      "cell_type": "code",
      "execution_count": null,
      "id": "ec4090e6-f329-4057-baea-9376f0022389",
      "metadata": {
        "id": "ec4090e6-f329-4057-baea-9376f0022389",
        "outputId": "55f43b30-f6e6-4b5c-9272-a7296838c582"
      },
      "outputs": [
        {
          "name": "stdout",
          "output_type": "stream",
          "text": [
            "Found 3868 unique tokens.\n"
          ]
        }
      ],
      "source": [
        "print('Found %s unique tokens.' % len(tUS.word_index))"
      ]
    },
    {
      "cell_type": "code",
      "execution_count": null,
      "id": "630fa4ed-045d-44b9-992f-e4d54f57c2a0",
      "metadata": {
        "id": "630fa4ed-045d-44b9-992f-e4d54f57c2a0"
      },
      "outputs": [],
      "source": [
        "# Tokenization\n",
        "tUS = Tokenizer(num_words=None, filters='!\"#$%&()*+,-./:;<=>?@[\\\\]^_`{|}~\\t\\n0123456789', lower=True, split=' ', char_level=False, oov_token=None, document_count=0)\n",
        "\n",
        "def get_sequence_of_tokensUS(corpusUS):\n",
        "    tUS.fit_on_texts(corpusUS)\n",
        "    total_wordsUS = len(tUS.word_index) + 1\n",
        "    \n",
        "    input_sequencesUS = []\n",
        "    for line in corpusUS:\n",
        "        token_list = tUS.texts_to_sequences([line])[0]\n",
        "        for i in range(1, len(token_list)):\n",
        "            n_gram_sequence = token_list[:i+1]\n",
        "            input_sequencesUS.append(n_gram_sequence)\n",
        "            \n",
        "    return input_sequencesUS, total_wordsUS"
      ]
    },
    {
      "cell_type": "code",
      "execution_count": null,
      "id": "b52b5617-a2a0-47f4-907f-25acbeea7cd5",
      "metadata": {
        "id": "b52b5617-a2a0-47f4-907f-25acbeea7cd5"
      },
      "outputs": [],
      "source": [
        "input_sequencesUS, total_wordsUS = get_sequence_of_tokensUS(corpusUS)\n"
      ]
    },
    {
      "cell_type": "code",
      "execution_count": null,
      "id": "678ebe35-b826-4c4d-b64f-7ea2dbe8860f",
      "metadata": {
        "id": "678ebe35-b826-4c4d-b64f-7ea2dbe8860f",
        "outputId": "8604cfbd-a20e-432d-f5d4-8da2794ce83b"
      },
      "outputs": [
        {
          "data": {
            "text/plain": [
              "[[29, 5],\n",
              " [29, 5, 1310],\n",
              " [29, 5, 1310, 86],\n",
              " [29, 5, 1310, 86, 24],\n",
              " [29, 5, 1310, 86, 24, 153],\n",
              " [29, 5, 1310, 86, 24, 153, 196],\n",
              " [29, 5, 1310, 86, 24, 153, 196, 6],\n",
              " [29, 5, 1310, 86, 24, 153, 196, 6, 1311],\n",
              " [29, 5, 1310, 86, 24, 153, 196, 6, 1311, 693],\n",
              " [29, 5, 1310, 86, 24, 153, 196, 6, 1311, 693, 3]]"
            ]
          },
          "execution_count": 102,
          "metadata": {},
          "output_type": "execute_result"
        }
      ],
      "source": [
        "input_sequencesUS[:10]"
      ]
    },
    {
      "cell_type": "code",
      "execution_count": null,
      "id": "efafd441-b15a-49ef-953f-dcee969a61c4",
      "metadata": {
        "id": "efafd441-b15a-49ef-953f-dcee969a61c4"
      },
      "outputs": [],
      "source": [
        "# pad sequences \n",
        "def generate_padded_sequencesUS(input_sequencesUS):\n",
        "    max_sequence_lenUS = max([len(x) for x in input_sequencesUS])\n",
        "    input_sequencesUS = np.array(pad_sequences(input_sequencesUS, maxlen = max_sequence_lenUS, padding = 'pre'))\n",
        "    predictorsUS, labelUS = input_sequencesUS[:,:-1],input_sequencesUS[:,-1]\n",
        "    labelUS = ku.to_categorical(labelUS, num_classes = total_wordsUS)\n",
        "    \n",
        "    return predictorsUS, labelUS, max_sequence_lenUS\n",
        "\n",
        "predictorsUS, labelUS, max_sequence_lenUS = generate_padded_sequencesUS(input_sequencesUS)"
      ]
    },
    {
      "cell_type": "code",
      "execution_count": null,
      "id": "5b4f350f-07f5-4bc2-9ad8-c6daf85c58fe",
      "metadata": {
        "id": "5b4f350f-07f5-4bc2-9ad8-c6daf85c58fe",
        "outputId": "78175649-59cb-4c91-d9bc-569dda6dd1b1"
      },
      "outputs": [
        {
          "name": "stdout",
          "output_type": "stream",
          "text": [
            "Model: \"sequential_1\"\n",
            "_________________________________________________________________\n",
            " Layer (type)                Output Shape              Param #   \n",
            "=================================================================\n",
            " embedding_1 (Embedding)     (None, 720, 10)           37190     \n",
            "                                                                 \n",
            " lstm_1 (LSTM)               (None, 100)               44400     \n",
            "                                                                 \n",
            " dropout_1 (Dropout)         (None, 100)               0         \n",
            "                                                                 \n",
            " dense_1 (Dense)             (None, 3719)              375619    \n",
            "                                                                 \n",
            "=================================================================\n",
            "Total params: 457,209\n",
            "Trainable params: 457,209\n",
            "Non-trainable params: 0\n",
            "_________________________________________________________________\n"
          ]
        }
      ],
      "source": [
        "def create_modelUS(max_sequence_lenUS, total_wordsUS):\n",
        "    modelUS = Sequential()\n",
        "    \n",
        "    # Add Input Embedding Layer\n",
        "    modelUS.add(Embedding(total_wordsUS, 10, input_length=max_sequence_lenUS - 1))\n",
        "    \n",
        "    # Add Hidden Layer 1 - LSTM Layer\n",
        "    modelUS.add(LSTM(100))\n",
        "    modelUS.add(Dropout(0.1))\n",
        "    \n",
        "    # Add Output Layer\n",
        "    modelUS.add(Dense(total_wordsUS, activation='softmax'))\n",
        "\n",
        "    modelUS.compile(loss='categorical_crossentropy', optimizer='adam')\n",
        "    \n",
        "    return modelUS\n",
        "\n",
        "modelUS = create_modelUS(max_sequence_lenUS, total_wordsUS)\n",
        "modelUS.summary()"
      ]
    },
    {
      "cell_type": "code",
      "execution_count": null,
      "id": "8c92c56b-fed2-4483-9c7f-fe5d9edda509",
      "metadata": {
        "id": "8c92c56b-fed2-4483-9c7f-fe5d9edda509",
        "outputId": "29261118-4d42-42e3-88cd-7f58b99ac853"
      },
      "outputs": [
        {
          "name": "stdout",
          "output_type": "stream",
          "text": [
            "Epoch 1/50\n",
            " 988/1097 [==========================>...] - ETA: 1:50 - loss: 6.2534"
          ]
        }
      ],
      "source": [
        "modelUS.fit(predictorsUS, labelUS, epochs=50, verbose=1)"
      ]
    },
    {
      "cell_type": "code",
      "execution_count": null,
      "id": "d476b810-4cb6-4abb-8653-3c289ed5202c",
      "metadata": {
        "id": "d476b810-4cb6-4abb-8653-3c289ed5202c"
      },
      "outputs": [],
      "source": [
        "def generate_textBR(seed_textBR, next_wordsBR, modelBR, max_seq_lenBR):\n",
        "    for _ in range(next_wordsBR):\n",
        "        token_listBR = tBR.texts_to_sequences([seed_textBR])[0]\n",
        "        token_listBR = pad_sequences([token_listBR], maxlen=max_seq_lenBR-1, padding='pre')\n",
        "        \n",
        "        #predicted = model.predict_classes(token_list, verbose=0)\n",
        "        predicted = np.argmax(modelBR.predict(token_listBR, verbose=0), axis=-1)\n",
        "        output_word = ''\n",
        "        \n",
        "        for word,index in tBR.word_index.items():\n",
        "            if index == predicted:\n",
        "                output_word = word\n",
        "                break\n",
        "                \n",
        "        seed_textBR = seed_textBR + \" \" + output_word\n",
        "        \n",
        "    return seed_textBR.title()"
      ]
    },
    {
      "cell_type": "code",
      "execution_count": null,
      "id": "3954285a-6ae4-43a0-b61c-de633a08623d",
      "metadata": {
        "id": "3954285a-6ae4-43a0-b61c-de633a08623d"
      },
      "outputs": [],
      "source": [
        "print(generate_textBR(\"Buzios Beach localizado em Buzios\", 100, modelBR, max_sequence_lenBR))"
      ]
    },
    {
      "cell_type": "code",
      "execution_count": null,
      "id": "ddf748b8-6765-41d7-9c58-7077dfb3f98b",
      "metadata": {
        "id": "ddf748b8-6765-41d7-9c58-7077dfb3f98b"
      },
      "outputs": [],
      "source": []
    },
    {
      "cell_type": "markdown",
      "id": "c81cea31-ea00-4822-b67c-666bcd6dfb24",
      "metadata": {
        "id": "c81cea31-ea00-4822-b67c-666bcd6dfb24"
      },
      "source": [
        "# Description GPT2\n",
        "https://huggingface.co/gpt2"
      ]
    },
    {
      "cell_type": "markdown",
      "id": "231f5ada-c210-44ba-a29e-afdbee4a7e5c",
      "metadata": {
        "id": "231f5ada-c210-44ba-a29e-afdbee4a7e5c"
      },
      "source": [
        "https://www.kaggle.com/code/changyeop/how-to-fine-tune-gpt-2-for-beginners"
      ]
    },
    {
      "cell_type": "code",
      "execution_count": null,
      "id": "84da8ebe-34e3-46e2-9767-c80d1faa0cf9",
      "metadata": {
        "collapsed": true,
        "jupyter": {
          "outputs_hidden": true
        },
        "tags": [],
        "id": "84da8ebe-34e3-46e2-9767-c80d1faa0cf9"
      },
      "outputs": [],
      "source": [
        "!pip install transformers\n"
      ]
    },
    {
      "cell_type": "code",
      "execution_count": null,
      "id": "67b2c36d-6bf0-467f-b0bb-b4d1653b8e72",
      "metadata": {
        "collapsed": true,
        "jupyter": {
          "outputs_hidden": true
        },
        "tags": [],
        "id": "67b2c36d-6bf0-467f-b0bb-b4d1653b8e72",
        "outputId": "a8a0b9ab-f2a4-463b-9f2d-421ee7d31b08"
      },
      "outputs": [
        {
          "name": "stdout",
          "output_type": "stream",
          "text": [
            "Requirement already satisfied: torch in c:\\users\\jgjoa\\anaconda3\\lib\\site-packages (2.0.1+cu117)"
          ]
        },
        {
          "name": "stderr",
          "output_type": "stream",
          "text": [
            "WARNING: Ignoring invalid distribution -ensorflow-intel (c:\\users\\jgjoa\\anaconda3\\lib\\site-packages)\n",
            "WARNING: Ignoring invalid distribution -rotobuf (c:\\users\\jgjoa\\anaconda3\\lib\\site-packages)\n",
            "WARNING: Ignoring invalid distribution -ensorflow-intel (c:\\users\\jgjoa\\anaconda3\\lib\\site-packages)\n",
            "WARNING: Ignoring invalid distribution -rotobuf (c:\\users\\jgjoa\\anaconda3\\lib\\site-packages)\n"
          ]
        },
        {
          "name": "stdout",
          "output_type": "stream",
          "text": [
            "\n",
            "Requirement already satisfied: torchvision in c:\\users\\jgjoa\\anaconda3\\lib\\site-packages (0.15.2+cu117)\n",
            "Requirement already satisfied: torchaudio in c:\\users\\jgjoa\\anaconda3\\lib\\site-packages (2.0.2+cu117)\n",
            "Requirement already satisfied: filelock in c:\\users\\jgjoa\\anaconda3\\lib\\site-packages (from torch) (3.6.0)\n",
            "Requirement already satisfied: typing-extensions in c:\\users\\jgjoa\\anaconda3\\lib\\site-packages (from torch) (4.1.1)\n",
            "Requirement already satisfied: sympy in c:\\users\\jgjoa\\anaconda3\\lib\\site-packages (from torch) (1.10.1)\n",
            "Requirement already satisfied: networkx in c:\\users\\jgjoa\\anaconda3\\lib\\site-packages (from torch) (2.7.1)\n",
            "Requirement already satisfied: jinja2 in c:\\users\\jgjoa\\anaconda3\\lib\\site-packages (from torch) (2.11.3)\n",
            "Requirement already satisfied: numpy in c:\\users\\jgjoa\\anaconda3\\lib\\site-packages (from torchvision) (1.22.4)\n",
            "Requirement already satisfied: requests in c:\\users\\jgjoa\\anaconda3\\lib\\site-packages (from torchvision) (2.27.1)\n",
            "Requirement already satisfied: pillow!=8.3.*,>=5.3.0 in c:\\users\\jgjoa\\anaconda3\\lib\\site-packages (from torchvision) (9.5.0)\n",
            "Requirement already satisfied: MarkupSafe>=0.23 in c:\\users\\jgjoa\\anaconda3\\lib\\site-packages (from jinja2->torch) (2.0.1)\n",
            "Requirement already satisfied: urllib3<1.27,>=1.21.1 in c:\\users\\jgjoa\\anaconda3\\lib\\site-packages (from requests->torchvision) (1.26.9)\n",
            "Requirement already satisfied: certifi>=2017.4.17 in c:\\users\\jgjoa\\anaconda3\\lib\\site-packages (from requests->torchvision) (2021.10.8)\n",
            "Requirement already satisfied: charset-normalizer~=2.0.0 in c:\\users\\jgjoa\\anaconda3\\lib\\site-packages (from requests->torchvision) (2.0.4)\n",
            "Requirement already satisfied: idna<4,>=2.5 in c:\\users\\jgjoa\\anaconda3\\lib\\site-packages (from requests->torchvision) (3.3)\n",
            "Requirement already satisfied: mpmath>=0.19 in c:\\users\\jgjoa\\anaconda3\\lib\\site-packages (from sympy->torch) (1.2.1)\n"
          ]
        }
      ],
      "source": [
        "!pip3 install torch torchvision torchaudio"
      ]
    },
    {
      "cell_type": "code",
      "execution_count": null,
      "id": "4eb7d92c-d0ea-4573-aad6-f3579acb1636",
      "metadata": {
        "collapsed": true,
        "jupyter": {
          "outputs_hidden": true
        },
        "tags": [],
        "id": "4eb7d92c-d0ea-4573-aad6-f3579acb1636",
        "outputId": "6f8ce935-71ad-46f8-9b44-2d594822d8fc"
      },
      "outputs": [
        {
          "name": "stderr",
          "output_type": "stream",
          "text": [
            "WARNING: Ignoring invalid distribution -ensorflow-intel (c:\\users\\jgjoa\\anaconda3\\lib\\site-packages)\n",
            "WARNING: Ignoring invalid distribution -rotobuf (c:\\users\\jgjoa\\anaconda3\\lib\\site-packages)\n",
            "  WARNING: Retrying (Retry(total=4, connect=None, read=None, redirect=None, status=None)) after connection broken by 'NewConnectionError('<pip._vendor.urllib3.connection.HTTPSConnection object at 0x00000220843F4F10>: Failed to establish a new connection: [Errno 11002] getaddrinfo failed')': /packages/4e/15/05a18c780f152c28ce7e0f3d9673ef17fb63bd1eae97ffb408bf762a6087/torch-1.10.0-cp39-cp39-win_amd64.whl\n",
            "  WARNING: Retrying (Retry(total=3, connect=None, read=None, redirect=None, status=None)) after connection broken by 'NewConnectionError('<pip._vendor.urllib3.connection.HTTPSConnection object at 0x00000220844111C0>: Failed to establish a new connection: [Errno 11002] getaddrinfo failed')': /packages/4e/15/05a18c780f152c28ce7e0f3d9673ef17fb63bd1eae97ffb408bf762a6087/torch-1.10.0-cp39-cp39-win_amd64.whl\n",
            "  WARNING: Retrying (Retry(total=2, connect=None, read=None, redirect=None, status=None)) after connection broken by 'NewConnectionError('<pip._vendor.urllib3.connection.HTTPSConnection object at 0x0000022084411370>: Failed to establish a new connection: [Errno 11002] getaddrinfo failed')': /packages/4e/15/05a18c780f152c28ce7e0f3d9673ef17fb63bd1eae97ffb408bf762a6087/torch-1.10.0-cp39-cp39-win_amd64.whl\n",
            "  WARNING: Retrying (Retry(total=1, connect=None, read=None, redirect=None, status=None)) after connection broken by 'NewConnectionError('<pip._vendor.urllib3.connection.HTTPSConnection object at 0x0000022084411520>: Failed to establish a new connection: [Errno 11002] getaddrinfo failed')': /packages/4e/15/05a18c780f152c28ce7e0f3d9673ef17fb63bd1eae97ffb408bf762a6087/torch-1.10.0-cp39-cp39-win_amd64.whl\n",
            "  WARNING: Retrying (Retry(total=0, connect=None, read=None, redirect=None, status=None)) after connection broken by 'NewConnectionError('<pip._vendor.urllib3.connection.HTTPSConnection object at 0x00000220844116D0>: Failed to establish a new connection: [Errno 11002] getaddrinfo failed')': /packages/4e/15/05a18c780f152c28ce7e0f3d9673ef17fb63bd1eae97ffb408bf762a6087/torch-1.10.0-cp39-cp39-win_amd64.whl\n",
            "WARNING: Ignoring invalid distribution -ensorflow-intel (c:\\users\\jgjoa\\anaconda3\\lib\\site-packages)\n",
            "WARNING: Ignoring invalid distribution -rotobuf (c:\\users\\jgjoa\\anaconda3\\lib\\site-packages)\n",
            "ERROR: Could not install packages due to an OSError: [WinError 5] Acesso negado: 'C:\\\\Users\\\\jgjoa\\\\anaconda3\\\\Lib\\\\site-packages\\\\~vfuser\\\\_C.cp39-win_amd64.pyd'\n",
            "Consider using the `--user` option or check the permissions.\n",
            "\n"
          ]
        },
        {
          "name": "stdout",
          "output_type": "stream",
          "text": [
            "Collecting torch==1.10.0\n",
            "  Downloading torch-1.10.0-cp39-cp39-win_amd64.whl (226.5 MB)\n",
            "     -------------------------------------- 226.5/226.5 MB 2.9 MB/s eta 0:00:00\n",
            "Requirement already satisfied: typing-extensions in c:\\users\\jgjoa\\anaconda3\\lib\\site-packages (from torch==1.10.0) (4.1.1)\n",
            "Installing collected packages: torch\n",
            "  Attempting uninstall: torch\n",
            "    Found existing installation: torch 2.0.1+cu117\n",
            "    Uninstalling torch-2.0.1+cu117:\n",
            "      Successfully uninstalled torch-2.0.1+cu117\n"
          ]
        }
      ],
      "source": [
        "!pip install torch==1.10.0"
      ]
    },
    {
      "cell_type": "code",
      "execution_count": null,
      "id": "9fab6337-c727-460e-b71a-c77f48e892f3",
      "metadata": {
        "collapsed": true,
        "jupyter": {
          "outputs_hidden": true
        },
        "tags": [],
        "id": "9fab6337-c727-460e-b71a-c77f48e892f3",
        "outputId": "a5e9be3c-d1e6-470b-d1be-9e10a2ff047d"
      },
      "outputs": [
        {
          "name": "stdout",
          "output_type": "stream",
          "text": [
            "Requirement already satisfied: torch in c:\\users\\jgjoa\\anaconda3\\lib\\site-packages (1.10.0)Note: you may need to restart the kernel to use updated packages.\n",
            "Collecting torch\n",
            "  Downloading torch-2.0.1-cp39-cp39-win_amd64.whl (172.4 MB)\n",
            "     -------------------------------------- 172.4/172.4 MB 6.9 MB/s eta 0:00:00\n",
            "Requirement already satisfied: torchvision in c:\\users\\jgjoa\\anaconda3\\lib\\site-packages (0.15.2+cu117)\n",
            "Requirement already satisfied: filelock in c:\\users\\jgjoa\\anaconda3\\lib\\site-packages (from torch) (3.6.0)\n",
            "\n"
          ]
        },
        {
          "name": "stderr",
          "output_type": "stream",
          "text": [
            "WARNING: Ignoring invalid distribution -ensorflow-intel (c:\\users\\jgjoa\\anaconda3\\lib\\site-packages)\n",
            "WARNING: Ignoring invalid distribution -orch (c:\\users\\jgjoa\\anaconda3\\lib\\site-packages)\n",
            "WARNING: Ignoring invalid distribution -rotobuf (c:\\users\\jgjoa\\anaconda3\\lib\\site-packages)\n",
            "WARNING: Ignoring invalid distribution -ensorflow-intel (c:\\users\\jgjoa\\anaconda3\\lib\\site-packages)\n",
            "WARNING: Ignoring invalid distribution -orch (c:\\users\\jgjoa\\anaconda3\\lib\\site-packages)\n",
            "WARNING: Ignoring invalid distribution -rotobuf (c:\\users\\jgjoa\\anaconda3\\lib\\site-packages)\n"
          ]
        },
        {
          "name": "stdout",
          "output_type": "stream",
          "text": [
            "Requirement already satisfied: typing-extensions in c:\\users\\jgjoa\\anaconda3\\lib\\site-packages (from torch) (4.1.1)\n",
            "Requirement already satisfied: sympy in c:\\users\\jgjoa\\anaconda3\\lib\\site-packages (from torch) (1.10.1)\n",
            "Requirement already satisfied: networkx in c:\\users\\jgjoa\\anaconda3\\lib\\site-packages (from torch) (2.7.1)\n",
            "Requirement already satisfied: jinja2 in c:\\users\\jgjoa\\anaconda3\\lib\\site-packages (from torch) (2.11.3)\n",
            "Requirement already satisfied: numpy in c:\\users\\jgjoa\\anaconda3\\lib\\site-packages (from torchvision) (1.22.4)\n",
            "Requirement already satisfied: requests in c:\\users\\jgjoa\\anaconda3\\lib\\site-packages (from torchvision) (2.27.1)\n",
            "Requirement already satisfied: pillow!=8.3.*,>=5.3.0 in c:\\users\\jgjoa\\anaconda3\\lib\\site-packages (from torchvision) (9.5.0)\n",
            "Requirement already satisfied: MarkupSafe>=0.23 in c:\\users\\jgjoa\\anaconda3\\lib\\site-packages (from jinja2->torch) (2.0.1)\n",
            "Requirement already satisfied: urllib3<1.27,>=1.21.1 in c:\\users\\jgjoa\\anaconda3\\lib\\site-packages (from requests->torchvision) (1.26.9)\n",
            "Requirement already satisfied: certifi>=2017.4.17 in c:\\users\\jgjoa\\anaconda3\\lib\\site-packages (from requests->torchvision) (2021.10.8)\n",
            "Requirement already satisfied: charset-normalizer~=2.0.0 in c:\\users\\jgjoa\\anaconda3\\lib\\site-packages (from requests->torchvision) (2.0.4)\n",
            "Requirement already satisfied: idna<4,>=2.5 in c:\\users\\jgjoa\\anaconda3\\lib\\site-packages (from requests->torchvision) (3.3)\n",
            "Requirement already satisfied: mpmath>=0.19 in c:\\users\\jgjoa\\anaconda3\\lib\\site-packages (from sympy->torch) (1.2.1)\n",
            "Installing collected packages: torch\n",
            "  Attempting uninstall: torch\n",
            "    Found existing installation: torch 1.10.0\n",
            "    Uninstalling torch-1.10.0:\n",
            "      Successfully uninstalled torch-1.10.0\n",
            "Successfully installed torch-2.0.1\n"
          ]
        }
      ],
      "source": [
        "pip install --upgrade torch torchvision"
      ]
    },
    {
      "cell_type": "code",
      "execution_count": null,
      "id": "7d49c9d4-6d68-4a90-addb-f9b590e543ee",
      "metadata": {
        "collapsed": true,
        "jupyter": {
          "outputs_hidden": true
        },
        "tags": [],
        "id": "7d49c9d4-6d68-4a90-addb-f9b590e543ee",
        "outputId": "dea32d4f-b920-4761-de88-37c65633ceca"
      },
      "outputs": [
        {
          "name": "stdout",
          "output_type": "stream",
          "text": [
            "Requirement already satisfied: transformers[torch] in c:\\users\\jgjoa\\anaconda3\\lib\\site-packages (4.29.2)\n",
            "Requirement already satisfied: filelock in c:\\users\\jgjoa\\anaconda3\\lib\\site-packages (from transformers[torch]) (3.6.0)\n",
            "Requirement already satisfied: huggingface-hub<1.0,>=0.14.1 in c:\\users\\jgjoa\\anaconda3\\lib\\site-packages (from transformers[torch]) (0.14.1)\n",
            "Requirement already satisfied: numpy>=1.17 in c:\\users\\jgjoa\\anaconda3\\lib\\site-packages (from transformers[torch]) (1.22.4)\n",
            "Requirement already satisfied: packaging>=20.0 in c:\\users\\jgjoa\\anaconda3\\lib\\site-packages (from transformers[torch]) (21.3)\n",
            "Requirement already satisfied: pyyaml>=5.1 in c:\\users\\jgjoa\\anaconda3\\lib\\site-packages (from transformers[torch]) (5.4.1)\n",
            "Requirement already satisfied: regex!=2019.12.17 in c:\\users\\jgjoa\\anaconda3\\lib\\site-packages (from transformers[torch]) (2022.3.15)\n",
            "Requirement already satisfied: requests in c:\\users\\jgjoa\\anaconda3\\lib\\site-packages (from transformers[torch]) (2.27.1)\n",
            "Requirement already satisfied: tokenizers!=0.11.3,<0.14,>=0.11.1 in c:\\users\\jgjoa\\anaconda3\\lib\\site-packages (from transformers[torch]) (0.13.3)\n",
            "Requirement already satisfied: tqdm>=4.27 in c:\\users\\jgjoa\\anaconda3\\lib\\site-packages (from transformers[torch]) (4.64.0)\n",
            "Requirement already satisfied: torch!=1.12.0,>=1.9 in c:\\users\\jgjoa\\anaconda3\\lib\\site-packages (from transformers[torch]) (2.0.1)\n",
            "Collecting accelerate>=0.19.0 (from transformers[torch])\n",
            "  Downloading accelerate-0.19.0-py3-none-any.whl (219 kB)\n",
            "     -------------------------------------- 219.1/219.1 kB 3.3 MB/s eta 0:00:00\n",
            "Requirement already satisfied: psutil in c:\\users\\jgjoa\\anaconda3\\lib\\site-packages (from accelerate>=0.19.0->transformers[torch]) (5.8.0)\n",
            "Requirement already satisfied: fsspec in c:\\users\\jgjoa\\anaconda3\\lib\\site-packages (from huggingface-hub<1.0,>=0.14.1->transformers[torch]) (2022.2.0)\n",
            "Requirement already satisfied: typing-extensions>=3.7.4.3 in c:\\users\\jgjoa\\anaconda3\\lib\\site-packages (from huggingface-hub<1.0,>=0.14.1->transformers[torch]) (4.1.1)\n",
            "Requirement already satisfied: pyparsing!=3.0.5,>=2.0.2 in c:\\users\\jgjoa\\anaconda3\\lib\\site-packages (from packaging>=20.0->transformers[torch]) (3.0.4)\n",
            "Note: you may need to restart the kernel to use updated packages.Requirement already satisfied: sympy in c:\\users\\jgjoa\\anaconda3\\lib\\site-packages (from torch!=1.12.0,>=1.9->transformers[torch]) (1.10.1)\n",
            "Requirement already satisfied: networkx in c:\\users\\jgjoa\\anaconda3\\lib\\site-packages (from torch!=1.12.0,>=1.9->transformers[torch]) (2.7.1)\n",
            "Requirement already satisfied: jinja2 in c:\\users\\jgjoa\\anaconda3\\lib\\site-packages (from torch!=1.12.0,>=1.9->transformers[torch]) (2.11.3)\n",
            "Requirement already satisfied: colorama in c:\\users\\jgjoa\\anaconda3\\lib\\site-packages (from tqdm>=4.27->transformers[torch]) (0.4.4)\n",
            "Requirement already satisfied: urllib3<1.27,>=1.21.1 in c:\\users\\jgjoa\\anaconda3\\lib\\site-packages (from requests->transformers[torch]) (1.26.9)\n",
            "Requirement already satisfied: certifi>=2017.4.17 in c:\\users\\jgjoa\\anaconda3\\lib\\site-packages (from requests->transformers[torch]) (2021.10.8)\n",
            "Requirement already satisfied: charset-normalizer~=2.0.0 in c:\\users\\jgjoa\\anaconda3\\lib\\site-packages (from requests->transformers[torch]) (2.0.4)\n",
            "Requirement already satisfied: idna<4,>=2.5 in c:\\users\\jgjoa\\anaconda3\\lib\\site-packages (from requests->transformers[torch]) (3.3)\n",
            "Requirement already satisfied: MarkupSafe>=0.23 in c:\\users\\jgjoa\\anaconda3\\lib\\site-packages (from jinja2->torch!=1.12.0,>=1.9->transformers[torch]) (2.0.1)\n",
            "Requirement already satisfied: mpmath>=0.19 in c:\\users\\jgjoa\\anaconda3\\lib\\site-packages (from sympy->torch!=1.12.0,>=1.9->transformers[torch]) (1.2.1)\n",
            "Installing collected packages: accelerate\n",
            "Successfully installed accelerate-0.19.0\n",
            "\n"
          ]
        },
        {
          "name": "stderr",
          "output_type": "stream",
          "text": [
            "WARNING: Ignoring invalid distribution -ensorflow-intel (c:\\users\\jgjoa\\anaconda3\\lib\\site-packages)\n",
            "WARNING: Ignoring invalid distribution -orch (c:\\users\\jgjoa\\anaconda3\\lib\\site-packages)\n",
            "WARNING: Ignoring invalid distribution -rotobuf (c:\\users\\jgjoa\\anaconda3\\lib\\site-packages)\n",
            "WARNING: Ignoring invalid distribution -ensorflow-intel (c:\\users\\jgjoa\\anaconda3\\lib\\site-packages)\n",
            "WARNING: Ignoring invalid distribution -orch (c:\\users\\jgjoa\\anaconda3\\lib\\site-packages)\n",
            "WARNING: Ignoring invalid distribution -rotobuf (c:\\users\\jgjoa\\anaconda3\\lib\\site-packages)\n"
          ]
        }
      ],
      "source": [
        "pip install transformers[torch]"
      ]
    },
    {
      "cell_type": "code",
      "execution_count": null,
      "id": "25a51b8a-5c94-4a8b-bd64-d8745bd66bf9",
      "metadata": {
        "id": "25a51b8a-5c94-4a8b-bd64-d8745bd66bf9",
        "outputId": "4e6df979-bd69-4144-9492-c2c91e3f6771"
      },
      "outputs": [
        {
          "data": {
            "text/plain": [
              "'2.0.1+cu117'"
            ]
          },
          "execution_count": 91,
          "metadata": {},
          "output_type": "execute_result"
        }
      ],
      "source": [
        "torch.__version__"
      ]
    },
    {
      "cell_type": "code",
      "execution_count": 16,
      "id": "c045b7f0-5bca-45f9-a7d5-133fab59fa82",
      "metadata": {
        "colab": {
          "base_uri": "https://localhost:8080/"
        },
        "id": "c045b7f0-5bca-45f9-a7d5-133fab59fa82",
        "outputId": "5e728946-c94b-4838-e5c1-4368eea18520"
      },
      "outputs": [
        {
          "output_type": "stream",
          "name": "stdout",
          "text": [
            "No GPU available, training on CPU; consider making n_epochs very small.\n"
          ]
        }
      ],
      "source": [
        "import torch\n",
        "from torch.utils.data import TensorDataset\n",
        "train_on_gpu = torch.cuda.is_available()\n",
        "if(train_on_gpu):\n",
        "    print('Training on GPU!')\n",
        "else: \n",
        "    print('No GPU available, training on CPU; consider making n_epochs very small.')"
      ]
    },
    {
      "cell_type": "code",
      "execution_count": 19,
      "id": "415a94c3-88de-4279-a01d-cb4ef6fe1664",
      "metadata": {
        "id": "415a94c3-88de-4279-a01d-cb4ef6fe1664"
      },
      "outputs": [],
      "source": [
        "from transformers import TextDataset, DataCollatorForLanguageModeling\n",
        "from transformers import GPT2Tokenizer, GPT2LMHeadModel, TFGPT2Model,TFGPT2LMHeadModel\n",
        "from transformers import Trainer, TrainingArguments\n",
        "from transformers import TFTrainer, TFTrainingArguments\n",
        "import tensorflow as tf"
      ]
    },
    {
      "cell_type": "code",
      "execution_count": null,
      "id": "462bb180-53e6-4d3b-9e24-88591808d97c",
      "metadata": {
        "id": "462bb180-53e6-4d3b-9e24-88591808d97c",
        "outputId": "090be016-2511-4f7e-e19f-1132449adc84"
      },
      "outputs": [
        {
          "name": "stdout",
          "output_type": "stream",
          "text": [
            "tensor([[0.7969, 0.3523, 0.4319],\n",
            "        [0.8385, 0.5258, 0.4481],\n",
            "        [0.0715, 0.5836, 0.8261],\n",
            "        [0.7470, 0.7354, 0.0293],\n",
            "        [0.5381, 0.2594, 0.3680]])\n"
          ]
        }
      ],
      "source": [
        "import torch\n",
        "x = torch.rand(5, 3)\n",
        "print(x)"
      ]
    },
    {
      "cell_type": "code",
      "execution_count": 20,
      "id": "0fe3d754-a721-4589-80cf-6e721d56749e",
      "metadata": {
        "colab": {
          "base_uri": "https://localhost:8080/",
          "height": 219
        },
        "id": "0fe3d754-a721-4589-80cf-6e721d56749e",
        "outputId": "c61a1270-6f68-4995-923f-0fd5eeaf17cd"
      },
      "outputs": [
        {
          "output_type": "error",
          "ename": "NameError",
          "evalue": "ignored",
          "traceback": [
            "\u001b[0;31m---------------------------------------------------------------------------\u001b[0m",
            "\u001b[0;31mNameError\u001b[0m                                 Traceback (most recent call last)",
            "\u001b[0;32m<ipython-input-20-140ba51d1ceb>\u001b[0m in \u001b[0;36m<cell line: 1>\u001b[0;34m()\u001b[0m\n\u001b[0;32m----> 1\u001b[0;31m \u001b[0mdf_gpt\u001b[0m\u001b[0;34m=\u001b[0m \u001b[0mdata\u001b[0m\u001b[0;34m[\u001b[0m\u001b[0mdata\u001b[0m\u001b[0;34m[\u001b[0m\u001b[0;34m'idioma'\u001b[0m\u001b[0;34m]\u001b[0m\u001b[0;34m==\u001b[0m\u001b[0;34m'en'\u001b[0m\u001b[0;34m]\u001b[0m\u001b[0;34m\u001b[0m\u001b[0;34m\u001b[0m\u001b[0m\n\u001b[0m\u001b[1;32m      2\u001b[0m \u001b[0mdf_gpt\u001b[0m\u001b[0;34m=\u001b[0m \u001b[0mdf_gpt\u001b[0m\u001b[0;34m[\u001b[0m\u001b[0mdata\u001b[0m\u001b[0;34m[\u001b[0m\u001b[0;34m'description'\u001b[0m\u001b[0;34m]\u001b[0m\u001b[0;34m!=\u001b[0m\u001b[0;34m''\u001b[0m\u001b[0;34m]\u001b[0m\u001b[0;34m\u001b[0m\u001b[0;34m\u001b[0m\u001b[0m\n\u001b[1;32m      3\u001b[0m \u001b[0mdf_gpt\u001b[0m\u001b[0;34m.\u001b[0m\u001b[0mreset_index\u001b[0m\u001b[0;34m(\u001b[0m\u001b[0minplace\u001b[0m \u001b[0;34m=\u001b[0m \u001b[0;32mTrue\u001b[0m\u001b[0;34m)\u001b[0m\u001b[0;34m\u001b[0m\u001b[0;34m\u001b[0m\u001b[0m\n\u001b[1;32m      4\u001b[0m \u001b[0mdf_gpt\u001b[0m \u001b[0;34m=\u001b[0m \u001b[0mdf_gpt\u001b[0m\u001b[0;34m[\u001b[0m\u001b[0;36m0\u001b[0m\u001b[0;34m:\u001b[0m\u001b[0;36m300\u001b[0m\u001b[0;34m]\u001b[0m\u001b[0;34m\u001b[0m\u001b[0;34m\u001b[0m\u001b[0m\n",
            "\u001b[0;31mNameError\u001b[0m: name 'data' is not defined"
          ]
        }
      ],
      "source": [
        "df_gpt= data[data['idioma']=='en']\n",
        "df_gpt= df_gpt[data['description']!='']\n",
        "df_gpt.reset_index(inplace = True)\n",
        "df_gpt = df_gpt[0:300]"
      ]
    },
    {
      "cell_type": "code",
      "execution_count": null,
      "id": "a576aa85-ca9a-4c71-9268-ce30945b1a84",
      "metadata": {
        "id": "a576aa85-ca9a-4c71-9268-ce30945b1a84",
        "outputId": "03ae4f92-f02d-4ffb-d983-52cc8ec61cf8"
      },
      "outputs": [
        {
          "data": {
            "text/html": [
              "<div>\n",
              "<style scoped>\n",
              "    .dataframe tbody tr th:only-of-type {\n",
              "        vertical-align: middle;\n",
              "    }\n",
              "\n",
              "    .dataframe tbody tr th {\n",
              "        vertical-align: top;\n",
              "    }\n",
              "\n",
              "    .dataframe thead th {\n",
              "        text-align: right;\n",
              "    }\n",
              "</style>\n",
              "<table border=\"1\" class=\"dataframe\">\n",
              "  <thead>\n",
              "    <tr style=\"text-align: right;\">\n",
              "      <th></th>\n",
              "      <th>index</th>\n",
              "      <th>short_description</th>\n",
              "      <th>description</th>\n",
              "      <th>idioma</th>\n",
              "    </tr>\n",
              "  </thead>\n",
              "  <tbody>\n",
              "    <tr>\n",
              "      <th>0</th>\n",
              "      <td>0</td>\n",
              "      <td>Nice, France. ((* Sorry, this information is n...</td>\n",
              "      <td>Located in Nice's city center, Best Western Ho...</td>\n",
              "      <td>en</td>\n",
              "    </tr>\n",
              "    <tr>\n",
              "      <th>1</th>\n",
              "      <td>1</td>\n",
              "      <td>Notting Hill - Paddington Station Area. ((* So...</td>\n",
              "      <td>In London's Bayswater district, the Comfort In...</td>\n",
              "      <td>en</td>\n",
              "    </tr>\n",
              "    <tr>\n",
              "      <th>2</th>\n",
              "      <td>2</td>\n",
              "      <td>Há várias opções de lazer e entretenimento ao ...</td>\n",
              "      <td>Breakfast is offered daily and rooms feature f...</td>\n",
              "      <td>en</td>\n",
              "    </tr>\n",
              "    <tr>\n",
              "      <th>3</th>\n",
              "      <td>3</td>\n",
              "      <td>Fort Collins North. ((* Sorry, this informatio...</td>\n",
              "      <td>The Elizabeth Hotel, Autograph Collection feat...</td>\n",
              "      <td>en</td>\n",
              "    </tr>\n",
              "    <tr>\n",
              "      <th>4</th>\n",
              "      <td>5</td>\n",
              "      <td>Alivie o stress com massagens, tratamentos cor...</td>\n",
              "      <td>Located in Sattahip, 15 miles from Eastern Sta...</td>\n",
              "      <td>en</td>\n",
              "    </tr>\n",
              "    <tr>\n",
              "      <th>...</th>\n",
              "      <td>...</td>\n",
              "      <td>...</td>\n",
              "      <td>...</td>\n",
              "      <td>...</td>\n",
              "    </tr>\n",
              "    <tr>\n",
              "      <th>295</th>\n",
              "      <td>352</td>\n",
              "      <td>Downtown - Centro Historico. ((* Sorry, this i...</td>\n",
              "      <td>In the heart of Mexico City, just 10 minutes’ ...</td>\n",
              "      <td>en</td>\n",
              "    </tr>\n",
              "    <tr>\n",
              "      <th>296</th>\n",
              "      <td>353</td>\n",
              "      <td>Oil City. ((* Sorry, this information is not a...</td>\n",
              "      <td>This lovely hotel is located in Oil City. Ther...</td>\n",
              "      <td>en</td>\n",
              "    </tr>\n",
              "    <tr>\n",
              "      <th>297</th>\n",
              "      <td>354</td>\n",
              "      <td>Blue Ash. ((* Sorry, this information is not a...</td>\n",
              "      <td>Within 2 miles from Cincinnati Blue Ash Airpor...</td>\n",
              "      <td>en</td>\n",
              "    </tr>\n",
              "    <tr>\n",
              "      <th>298</th>\n",
              "      <td>355</td>\n",
              "      <td>Richmond Hill. ((* Sorry, this information is ...</td>\n",
              "      <td>The Holiday Inn Express Savannah South is conv...</td>\n",
              "      <td>en</td>\n",
              "    </tr>\n",
              "    <tr>\n",
              "      <th>299</th>\n",
              "      <td>356</td>\n",
              "      <td>Madison Square Garden - Convention Area. ((* S...</td>\n",
              "      <td>Featuring 3-star accommodations, Casamia 36 Ho...</td>\n",
              "      <td>en</td>\n",
              "    </tr>\n",
              "  </tbody>\n",
              "</table>\n",
              "<p>300 rows × 4 columns</p>\n",
              "</div>"
            ],
            "text/plain": [
              "     index                                  short_description  \\\n",
              "0        0  Nice, France. ((* Sorry, this information is n...   \n",
              "1        1  Notting Hill - Paddington Station Area. ((* So...   \n",
              "2        2  Há várias opções de lazer e entretenimento ao ...   \n",
              "3        3  Fort Collins North. ((* Sorry, this informatio...   \n",
              "4        5  Alivie o stress com massagens, tratamentos cor...   \n",
              "..     ...                                                ...   \n",
              "295    352  Downtown - Centro Historico. ((* Sorry, this i...   \n",
              "296    353  Oil City. ((* Sorry, this information is not a...   \n",
              "297    354  Blue Ash. ((* Sorry, this information is not a...   \n",
              "298    355  Richmond Hill. ((* Sorry, this information is ...   \n",
              "299    356  Madison Square Garden - Convention Area. ((* S...   \n",
              "\n",
              "                                           description idioma  \n",
              "0    Located in Nice's city center, Best Western Ho...     en  \n",
              "1    In London's Bayswater district, the Comfort In...     en  \n",
              "2    Breakfast is offered daily and rooms feature f...     en  \n",
              "3    The Elizabeth Hotel, Autograph Collection feat...     en  \n",
              "4    Located in Sattahip, 15 miles from Eastern Sta...     en  \n",
              "..                                                 ...    ...  \n",
              "295  In the heart of Mexico City, just 10 minutes’ ...     en  \n",
              "296  This lovely hotel is located in Oil City. Ther...     en  \n",
              "297  Within 2 miles from Cincinnati Blue Ash Airpor...     en  \n",
              "298  The Holiday Inn Express Savannah South is conv...     en  \n",
              "299  Featuring 3-star accommodations, Casamia 36 Ho...     en  \n",
              "\n",
              "[300 rows x 4 columns]"
            ]
          },
          "execution_count": 8,
          "metadata": {},
          "output_type": "execute_result"
        }
      ],
      "source": [
        "df_gpt"
      ]
    },
    {
      "cell_type": "code",
      "execution_count": null,
      "id": "5f73a874-fda6-4738-a895-52390152b832",
      "metadata": {
        "id": "5f73a874-fda6-4738-a895-52390152b832"
      },
      "outputs": [],
      "source": [
        "def load_dataset(dataframe, tokenizer, block_size=128):\n",
        "    texts = list(dataframe[\"description\"])\n",
        "\n",
        "    tokenizer.pad_token = tokenizer.eos_token\n",
        "    encodings = tokenizer.batch_encode_plus(\n",
        "        texts,\n",
        "        max_length=block_size,\n",
        "        truncation=True,\n",
        "        padding=\"max_length\",\n",
        "    )\n",
        "\n",
        "    input_ids = encodings[\"input_ids\"]\n",
        "    attention_mask = encodings[\"attention_mask\"]\n",
        "\n",
        "    input_ids = torch.tensor(input_ids)\n",
        "    attention_mask = torch.tensor(attention_mask)\n",
        "\n",
        "    dataset = TensorDataset(input_ids, attention_mask)\n",
        "    return dataset\n",
        "\n",
        "def load_data_collator(tokenizer, mlm=False):\n",
        "    data_collator = DataCollatorForLanguageModeling(\n",
        "        tokenizer=tokenizer,\n",
        "        mlm=mlm,\n",
        "    )\n",
        "    return data_collator\n",
        "\n",
        "def load_data_collator(tokenizer, mlm = False):\n",
        "    data_collator = DataCollatorForLanguageModeling(\n",
        "        tokenizer=tokenizer, \n",
        "        mlm=mlm,\n",
        "    )\n",
        "    return data_collator\n",
        "\n",
        "\n",
        "def train(train_dataframe, model_name,\n",
        "          output_dir,\n",
        "          overwrite_output_dir,\n",
        "          per_device_train_batch_size,\n",
        "          num_train_epochs,\n",
        "          save_steps):\n",
        "    tokenizer = GPT2Tokenizer.from_pretrained(model_name)\n",
        "    train_dataset = load_dataset(train_dataframe, tokenizer)\n",
        "    #train_dataset = torch.tensor(train_dataset)\n",
        "    data_collator = load_data_collator(tokenizer)\n",
        "\n",
        "    tokenizer.save_pretrained(output_dir)\n",
        "\n",
        "    model = GPT2LMHeadModel.from_pretrained(model_name)\n",
        "\n",
        "    model.save_pretrained(output_dir)\n",
        "\n",
        "    training_args = TrainingArguments(\n",
        "        output_dir=output_dir,\n",
        "        overwrite_output_dir=overwrite_output_dir,\n",
        "        per_device_train_batch_size=per_device_train_batch_size,\n",
        "        num_train_epochs=num_train_epochs,\n",
        "    )\n",
        "\n",
        "    trainer = Trainer(\n",
        "        model=model,\n",
        "        args=training_args,\n",
        "        data_collator=data_collator,\n",
        "        train_dataset=train_dataset,\n",
        "    )\n",
        "\n",
        "    trainer.train()\n",
        "    trainer.save_model()"
      ]
    },
    {
      "cell_type": "code",
      "execution_count": null,
      "id": "4c0eeb28-710a-43a9-aa98-9d0fde9f8f08",
      "metadata": {
        "id": "4c0eeb28-710a-43a9-aa98-9d0fde9f8f08"
      },
      "outputs": [],
      "source": [
        "# you need to set parameters \n",
        "train_dataframe = df_gpt\n",
        "model_name = 'gpt2'\n",
        "output_dir = '/content/drive/MyDrive/result'\n",
        "overwrite_output_dir = False\n",
        "per_device_train_batch_size = 8\n",
        "num_train_epochs = 5.0\n",
        "save_steps = 500"
      ]
    },
    {
      "cell_type": "code",
      "execution_count": null,
      "id": "fa87c2a5-8bf3-4573-b343-b513a0880b73",
      "metadata": {
        "id": "fa87c2a5-8bf3-4573-b343-b513a0880b73",
        "outputId": "2ae5a415-82a9-45ef-a22e-dfdcdf1ca98b"
      },
      "outputs": [
        {
          "ename": "NameError",
          "evalue": "name 'region_offset' is not defined",
          "output_type": "error",
          "traceback": [
            "\u001b[1;31m---------------------------------------------------------------------------\u001b[0m",
            "\u001b[1;31mNameError\u001b[0m                                 Traceback (most recent call last)",
            "Input \u001b[1;32mIn [56]\u001b[0m, in \u001b[0;36m<cell line: 1>\u001b[1;34m()\u001b[0m\n\u001b[1;32m----> 1\u001b[0m region_offset \u001b[38;5;241m=\u001b[39m torch\u001b[38;5;241m.\u001b[39mtensor(\u001b[43mregion_offset\u001b[49m)\u001b[38;5;241m.\u001b[39mint()\n",
            "\u001b[1;31mNameError\u001b[0m: name 'region_offset' is not defined"
          ]
        }
      ],
      "source": [
        "region_offset = torch.tensor(region_offset).int()"
      ]
    },
    {
      "cell_type": "code",
      "execution_count": null,
      "id": "2e8387c7-af88-4296-8241-644e58381127",
      "metadata": {
        "collapsed": true,
        "jupyter": {
          "outputs_hidden": true
        },
        "tags": [],
        "id": "2e8387c7-af88-4296-8241-644e58381127",
        "outputId": "06477894-9ccc-4d09-e276-70099ee86309"
      },
      "outputs": [
        {
          "name": "stdout",
          "output_type": "stream",
          "text": [
            "Note: you may need to restart the kernel to use updated packages.Requirement already satisfied: transformers in c:\\users\\jgjoa\\anaconda3\\lib\\site-packages (4.29.2)\n"
          ]
        },
        {
          "name": "stderr",
          "output_type": "stream",
          "text": [
            "WARNING: Ignoring invalid distribution -ensorflow-intel (c:\\users\\jgjoa\\anaconda3\\lib\\site-packages)\n",
            "WARNING: Ignoring invalid distribution -orch (c:\\users\\jgjoa\\anaconda3\\lib\\site-packages)\n",
            "WARNING: Ignoring invalid distribution -rotobuf (c:\\users\\jgjoa\\anaconda3\\lib\\site-packages)\n",
            "WARNING: Ignoring invalid distribution -ensorflow-intel (c:\\users\\jgjoa\\anaconda3\\lib\\site-packages)\n",
            "WARNING: Ignoring invalid distribution -orch (c:\\users\\jgjoa\\anaconda3\\lib\\site-packages)\n",
            "WARNING: Ignoring invalid distribution -rotobuf (c:\\users\\jgjoa\\anaconda3\\lib\\site-packages)\n"
          ]
        },
        {
          "name": "stdout",
          "output_type": "stream",
          "text": [
            "\n",
            "Requirement already satisfied: filelock in c:\\users\\jgjoa\\anaconda3\\lib\\site-packages (from transformers) (3.6.0)\n",
            "Requirement already satisfied: huggingface-hub<1.0,>=0.14.1 in c:\\users\\jgjoa\\anaconda3\\lib\\site-packages (from transformers) (0.14.1)\n",
            "Requirement already satisfied: numpy>=1.17 in c:\\users\\jgjoa\\anaconda3\\lib\\site-packages (from transformers) (1.22.4)\n",
            "Requirement already satisfied: packaging>=20.0 in c:\\users\\jgjoa\\anaconda3\\lib\\site-packages (from transformers) (21.3)\n",
            "Requirement already satisfied: pyyaml>=5.1 in c:\\users\\jgjoa\\anaconda3\\lib\\site-packages (from transformers) (5.4.1)\n",
            "Requirement already satisfied: regex!=2019.12.17 in c:\\users\\jgjoa\\anaconda3\\lib\\site-packages (from transformers) (2022.3.15)\n",
            "Requirement already satisfied: requests in c:\\users\\jgjoa\\anaconda3\\lib\\site-packages (from transformers) (2.27.1)\n",
            "Requirement already satisfied: tokenizers!=0.11.3,<0.14,>=0.11.1 in c:\\users\\jgjoa\\anaconda3\\lib\\site-packages (from transformers) (0.13.3)\n",
            "Requirement already satisfied: tqdm>=4.27 in c:\\users\\jgjoa\\anaconda3\\lib\\site-packages (from transformers) (4.64.0)\n",
            "Requirement already satisfied: fsspec in c:\\users\\jgjoa\\anaconda3\\lib\\site-packages (from huggingface-hub<1.0,>=0.14.1->transformers) (2022.2.0)\n",
            "Requirement already satisfied: typing-extensions>=3.7.4.3 in c:\\users\\jgjoa\\anaconda3\\lib\\site-packages (from huggingface-hub<1.0,>=0.14.1->transformers) (4.1.1)\n",
            "Requirement already satisfied: pyparsing!=3.0.5,>=2.0.2 in c:\\users\\jgjoa\\anaconda3\\lib\\site-packages (from packaging>=20.0->transformers) (3.0.4)\n",
            "Requirement already satisfied: colorama in c:\\users\\jgjoa\\anaconda3\\lib\\site-packages (from tqdm>=4.27->transformers) (0.4.4)\n",
            "Requirement already satisfied: urllib3<1.27,>=1.21.1 in c:\\users\\jgjoa\\anaconda3\\lib\\site-packages (from requests->transformers) (1.26.9)\n",
            "Requirement already satisfied: certifi>=2017.4.17 in c:\\users\\jgjoa\\anaconda3\\lib\\site-packages (from requests->transformers) (2021.10.8)\n",
            "Requirement already satisfied: charset-normalizer~=2.0.0 in c:\\users\\jgjoa\\anaconda3\\lib\\site-packages (from requests->transformers) (2.0.4)\n",
            "Requirement already satisfied: idna<4,>=2.5 in c:\\users\\jgjoa\\anaconda3\\lib\\site-packages (from requests->transformers) (3.3)\n"
          ]
        }
      ],
      "source": [
        "pip install --upgrade transformers\n"
      ]
    },
    {
      "cell_type": "code",
      "execution_count": null,
      "id": "e9062556-c18a-43f4-96fa-3e84bfa74639",
      "metadata": {
        "collapsed": true,
        "jupyter": {
          "outputs_hidden": true
        },
        "tags": [],
        "id": "e9062556-c18a-43f4-96fa-3e84bfa74639",
        "outputId": "8a8ee7c6-ba10-4dc7-e3bd-c3425fe1aaf0"
      },
      "outputs": [
        {
          "name": "stdout",
          "output_type": "stream",
          "text": [
            "Found existing installation: transformers 4.29.2\n",
            "Uninstalling transformers-4.29.2:\n",
            "  Successfully uninstalled transformers-4.29.2\n",
            "Found existing installation: accelerate 0.19.0\n",
            "Uninstalling accelerate-0.19.0:\n",
            "  Successfully uninstalled accelerate-0.19.0\n",
            "Collecting transformers\n",
            "  Using cached transformers-4.29.2-py3-none-any.whl (7.1 MB)\n",
            "Collecting accelerate\n",
            "  Using cached accelerate-0.19.0-py3-none-any.whl (219 kB)\n",
            "Requirement already satisfied: filelock in c:\\users\\jgjoa\\anaconda3\\lib\\site-packages (from transformers) (3.6.0)\n",
            "Requirement already satisfied: huggingface-hub<1.0,>=0.14.1 in c:\\users\\jgjoa\\anaconda3\\lib\\site-packages (from transformers) (0.14.1)\n",
            "Requirement already satisfied: numpy>=1.17 in c:\\users\\jgjoa\\anaconda3\\lib\\site-packages (from transformers) (1.22.4)\n",
            "Requirement already satisfied: packaging>=20.0 in c:\\users\\jgjoa\\anaconda3\\lib\\site-packages (from transformers) (21.3)\n",
            "Requirement already satisfied: pyyaml>=5.1 in c:\\users\\jgjoa\\anaconda3\\lib\\site-packages (from transformers) (5.4.1)\n",
            "Requirement already satisfied: regex!=2019.12.17 in c:\\users\\jgjoa\\anaconda3\\lib\\site-packages (from transformers) (2022.3.15)\n",
            "Requirement already satisfied: requests in c:\\users\\jgjoa\\anaconda3\\lib\\site-packages (from transformers) (2.27.1)\n",
            "Requirement already satisfied: tokenizers!=0.11.3,<0.14,>=0.11.1 in c:\\users\\jgjoa\\anaconda3\\lib\\site-packages (from transformers) (0.13.3)\n",
            "Requirement already satisfied: tqdm>=4.27 in c:\\users\\jgjoa\\anaconda3\\lib\\site-packages (from transformers) (4.64.0)\n",
            "Requirement already satisfied: psutil in c:\\users\\jgjoa\\anaconda3\\lib\\site-packages (from accelerate) (5.8.0)\n",
            "Requirement already satisfied: torch>=1.6.0 in c:\\users\\jgjoa\\anaconda3\\lib\\site-packages (from accelerate) (2.0.1)\n",
            "Requirement already satisfied: fsspec in c:\\users\\jgjoa\\anaconda3\\lib\\site-packages (from huggingface-hub<1.0,>=0.14.1->transformers) (2022.2.0)\n",
            "Requirement already satisfied: typing-extensions>=3.7.4.3 in c:\\users\\jgjoa\\anaconda3\\lib\\site-packages (from huggingface-hub<1.0,>=0.14.1->transformers) (4.1.1)\n",
            "Requirement already satisfied: pyparsing!=3.0.5,>=2.0.2 in c:\\users\\jgjoa\\anaconda3\\lib\\site-packages (from packaging>=20.0->transformers) (3.0.4)\n",
            "Requirement already satisfied: sympy in c:\\users\\jgjoa\\anaconda3\\lib\\site-packages (from torch>=1.6.0->accelerate) (1.10.1)\n",
            "Requirement already satisfied: networkx in c:\\users\\jgjoa\\anaconda3\\lib\\site-packages (from torch>=1.6.0->accelerate) (2.7.1)\n",
            "Requirement already satisfied: jinja2 in c:\\users\\jgjoa\\anaconda3\\lib\\site-packages (from torch>=1.6.0->accelerate) (2.11.3)\n",
            "Requirement already satisfied: colorama in c:\\users\\jgjoa\\anaconda3\\lib\\site-packages (from tqdm>=4.27->transformers) (0.4.4)\n",
            "Requirement already satisfied: urllib3<1.27,>=1.21.1 in c:\\users\\jgjoa\\anaconda3\\lib\\site-packages (from requests->transformers) (1.26.9)\n",
            "Requirement already satisfied: certifi>=2017.4.17 in c:\\users\\jgjoa\\anaconda3\\lib\\site-packages (from requests->transformers) (2021.10.8)\n",
            "Requirement already satisfied: charset-normalizer~=2.0.0 in c:\\users\\jgjoa\\anaconda3\\lib\\site-packages (from requests->transformers) (2.0.4)\n",
            "Requirement already satisfied: idna<4,>=2.5 in c:\\users\\jgjoa\\anaconda3\\lib\\site-packages (from requests->transformers) (3.3)\n",
            "Requirement already satisfied: MarkupSafe>=0.23 in c:\\users\\jgjoa\\anaconda3\\lib\\site-packages (from jinja2->torch>=1.6.0->accelerate) (2.0.1)\n",
            "Requirement already satisfied: mpmath>=0.19 in c:\\users\\jgjoa\\anaconda3\\lib\\site-packages (from sympy->torch>=1.6.0->accelerate) (1.2.1)\n",
            "Installing collected packages: transformers, accelerate\n",
            "Successfully installed accelerate-0.19.0 transformers-4.29.2\n"
          ]
        },
        {
          "name": "stderr",
          "output_type": "stream",
          "text": [
            "WARNING: Ignoring invalid distribution -ensorflow-intel (c:\\users\\jgjoa\\anaconda3\\lib\\site-packages)\n",
            "WARNING: Ignoring invalid distribution -orch (c:\\users\\jgjoa\\anaconda3\\lib\\site-packages)\n",
            "WARNING: Ignoring invalid distribution -rotobuf (c:\\users\\jgjoa\\anaconda3\\lib\\site-packages)\n",
            "WARNING: Ignoring invalid distribution -ensorflow-intel (c:\\users\\jgjoa\\anaconda3\\lib\\site-packages)\n",
            "WARNING: Ignoring invalid distribution -orch (c:\\users\\jgjoa\\anaconda3\\lib\\site-packages)\n",
            "WARNING: Ignoring invalid distribution -rotobuf (c:\\users\\jgjoa\\anaconda3\\lib\\site-packages)\n"
          ]
        }
      ],
      "source": [
        "!pip uninstall -y transformers accelerate\n",
        "!pip install transformers accelerate"
      ]
    },
    {
      "cell_type": "code",
      "execution_count": null,
      "id": "efe59d6e-865a-4c18-b5ff-ad05ff2c8e1e",
      "metadata": {
        "collapsed": true,
        "jupyter": {
          "outputs_hidden": true
        },
        "tags": [],
        "id": "efe59d6e-865a-4c18-b5ff-ad05ff2c8e1e",
        "outputId": "5b830595-fb20-45b5-abcb-90cfbf6698c6"
      },
      "outputs": [
        {
          "name": "stdout",
          "output_type": "stream",
          "text": [
            "Collecting git+https://github.com/huggingface/accelerate\n",
            "  Cloning https://github.com/huggingface/accelerate to c:\\users\\jgjoa\\appdata\\local\\temp\\pip-req-build-g2c23xo0\n",
            "  Resolved https://github.com/huggingface/accelerate to commit e0ffea5bc3929dc9fae9da582f3b0f94fb7c4900\n",
            "  Installing build dependencies: started\n",
            "  Installing build dependencies: finished with status 'done'\n",
            "  Getting requirements to build wheel: started\n",
            "  Getting requirements to build wheel: finished with status 'done'\n",
            "  Preparing metadata (pyproject.toml): started\n",
            "  Preparing metadata (pyproject.toml): finished with status 'done'\n",
            "Requirement already satisfied: numpy>=1.17 in c:\\users\\jgjoa\\anaconda3\\lib\\site-packages (from accelerate==0.20.0.dev0) (1.22.4)\n",
            "Requirement already satisfied: packaging>=20.0 in c:\\users\\jgjoa\\anaconda3\\lib\\site-packages (from accelerate==0.20.0.dev0) (21.3)\n",
            "Requirement already satisfied: psutil in c:\\users\\jgjoa\\anaconda3\\lib\\site-packages (from accelerate==0.20.0.dev0) (5.8.0)\n",
            "Requirement already satisfied: pyyaml in c:\\users\\jgjoa\\anaconda3\\lib\\site-packages (from accelerate==0.20.0.dev0) (5.4.1)\n",
            "Requirement already satisfied: torch>=1.6.0 in c:\\users\\jgjoa\\anaconda3\\lib\\site-packages (from accelerate==0.20.0.dev0) (2.0.1)\n",
            "Requirement already satisfied: pyparsing!=3.0.5,>=2.0.2 in c:\\users\\jgjoa\\anaconda3\\lib\\site-packages (from packaging>=20.0->accelerate==0.20.0.dev0) (3.0.4)\n",
            "Requirement already satisfied: filelock in c:\\users\\jgjoa\\anaconda3\\lib\\site-packages (from torch>=1.6.0->accelerate==0.20.0.dev0) (3.6.0)\n",
            "Requirement already satisfied: typing-extensions in c:\\users\\jgjoa\\anaconda3\\lib\\site-packages (from torch>=1.6.0->accelerate==0.20.0.dev0) (4.1.1)\n",
            "Requirement already satisfied: sympy in c:\\users\\jgjoa\\anaconda3\\lib\\site-packages (from torch>=1.6.0->accelerate==0.20.0.dev0) (1.10.1)\n",
            "Requirement already satisfied: networkx in c:\\users\\jgjoa\\anaconda3\\lib\\site-packages (from torch>=1.6.0->accelerate==0.20.0.dev0) (2.7.1)\n",
            "Requirement already satisfied: jinja2 in c:\\users\\jgjoa\\anaconda3\\lib\\site-packages (from torch>=1.6.0->accelerate==0.20.0.dev0) (2.11.3)\n",
            "Requirement already satisfied: MarkupSafe>=0.23 in c:\\users\\jgjoa\\anaconda3\\lib\\site-packages (from jinja2->torch>=1.6.0->accelerate==0.20.0.dev0) (2.0.1)Note: you may need to restart the kernel to use updated packages.\n"
          ]
        },
        {
          "name": "stderr",
          "output_type": "stream",
          "text": [
            "WARNING: Ignoring invalid distribution -ensorflow-intel (c:\\users\\jgjoa\\anaconda3\\lib\\site-packages)\n",
            "WARNING: Ignoring invalid distribution -orch (c:\\users\\jgjoa\\anaconda3\\lib\\site-packages)\n",
            "WARNING: Ignoring invalid distribution -rotobuf (c:\\users\\jgjoa\\anaconda3\\lib\\site-packages)\n",
            "  Running command git clone --filter=blob:none --quiet https://github.com/huggingface/accelerate 'C:\\Users\\jgjoa\\AppData\\Local\\Temp\\pip-req-build-g2c23xo0'\n"
          ]
        },
        {
          "name": "stdout",
          "output_type": "stream",
          "text": [
            "\n",
            "Requirement already satisfied: mpmath>=0.19 in c:\\users\\jgjoa\\anaconda3\\lib\\site-packages (from sympy->torch>=1.6.0->accelerate==0.20.0.dev0) (1.2.1)\n",
            "Building wheels for collected packages: accelerate\n",
            "  Building wheel for accelerate (pyproject.toml): started\n",
            "  Building wheel for accelerate (pyproject.toml): finished with status 'done'\n",
            "  Created wheel for accelerate: filename=accelerate-0.20.0.dev0-py3-none-any.whl size=227218 sha256=3c3ffba36fae6bbce618b399146f4022cad0c73d34781cfacaea022e7e7a62a8\n",
            "  Stored in directory: C:\\Users\\jgjoa\\AppData\\Local\\Temp\\pip-ephem-wheel-cache-dn2uawa5\\wheels\\f0\\e3\\1c\\5f57b1bee1a190bc85fa69b9ec3d3aaab6a120724e5ca00a60\n",
            "Successfully built accelerate\n",
            "Installing collected packages: accelerate\n",
            "  Attempting uninstall: accelerate\n",
            "    Found existing installation: accelerate 0.19.0\n",
            "    Uninstalling accelerate-0.19.0:\n",
            "      Successfully uninstalled accelerate-0.19.0\n",
            "Successfully installed accelerate-0.20.0.dev0\n"
          ]
        },
        {
          "name": "stderr",
          "output_type": "stream",
          "text": [
            "WARNING: Ignoring invalid distribution -ensorflow-intel (c:\\users\\jgjoa\\anaconda3\\lib\\site-packages)\n",
            "WARNING: Ignoring invalid distribution -orch (c:\\users\\jgjoa\\anaconda3\\lib\\site-packages)\n",
            "WARNING: Ignoring invalid distribution -rotobuf (c:\\users\\jgjoa\\anaconda3\\lib\\site-packages)\n"
          ]
        }
      ],
      "source": [
        "pip install git+https://github.com/huggingface/accelerate\n"
      ]
    },
    {
      "cell_type": "code",
      "execution_count": null,
      "id": "402486fa-faed-444f-9315-faac7e8a4138",
      "metadata": {
        "collapsed": true,
        "jupyter": {
          "outputs_hidden": true
        },
        "tags": [],
        "id": "402486fa-faed-444f-9315-faac7e8a4138",
        "outputId": "00781a50-3639-44b7-a4b7-a33d0426d897"
      },
      "outputs": [
        {
          "name": "stdout",
          "output_type": "stream",
          "text": [
            "Found existing installation: transformers 4.29.2\n",
            "Uninstalling transformers-4.29.2:\n",
            "  Successfully uninstalled transformers-4.29.2\n",
            "Collecting transformers==4.28.0\n",
            "  Downloading transformers-4.28.0-py3-none-any.whl (7.0 MB)\n",
            "     ---------------------------------------- 7.0/7.0 MB 6.3 MB/s eta 0:00:00\n",
            "Requirement already satisfied: filelock in c:\\users\\jgjoa\\anaconda3\\lib\\site-packages (from transformers==4.28.0) (3.6.0)\n",
            "Requirement already satisfied: huggingface-hub<1.0,>=0.11.0 in c:\\users\\jgjoa\\anaconda3\\lib\\site-packages (from transformers==4.28.0) (0.14.1)\n",
            "Requirement already satisfied: numpy>=1.17 in c:\\users\\jgjoa\\anaconda3\\lib\\site-packages (from transformers==4.28.0) (1.22.4)\n",
            "Requirement already satisfied: packaging>=20.0 in c:\\users\\jgjoa\\anaconda3\\lib\\site-packages (from transformers==4.28.0) (21.3)\n",
            "Requirement already satisfied: pyyaml>=5.1 in c:\\users\\jgjoa\\anaconda3\\lib\\site-packages (from transformers==4.28.0) (5.4.1)\n",
            "Requirement already satisfied: regex!=2019.12.17 in c:\\users\\jgjoa\\anaconda3\\lib\\site-packages (from transformers==4.28.0) (2022.3.15)\n",
            "Requirement already satisfied: requests in c:\\users\\jgjoa\\anaconda3\\lib\\site-packages (from transformers==4.28.0) (2.27.1)\n",
            "Requirement already satisfied: tokenizers!=0.11.3,<0.14,>=0.11.1 in c:\\users\\jgjoa\\anaconda3\\lib\\site-packages (from transformers==4.28.0) (0.13.3)\n",
            "Requirement already satisfied: tqdm>=4.27 in c:\\users\\jgjoa\\anaconda3\\lib\\site-packages (from transformers==4.28.0) (4.64.0)\n",
            "Requirement already satisfied: fsspec in c:\\users\\jgjoa\\anaconda3\\lib\\site-packages (from huggingface-hub<1.0,>=0.11.0->transformers==4.28.0) (2022.2.0)\n",
            "Requirement already satisfied: typing-extensions>=3.7.4.3 in c:\\users\\jgjoa\\anaconda3\\lib\\site-packages (from huggingface-hub<1.0,>=0.11.0->transformers==4.28.0) (4.1.1)\n",
            "Requirement already satisfied: pyparsing!=3.0.5,>=2.0.2 in c:\\users\\jgjoa\\anaconda3\\lib\\site-packages (from packaging>=20.0->transformers==4.28.0) (3.0.4)\n",
            "Requirement already satisfied: colorama in c:\\users\\jgjoa\\anaconda3\\lib\\site-packages (from tqdm>=4.27->transformers==4.28.0) (0.4.4)\n",
            "Requirement already satisfied: urllib3<1.27,>=1.21.1 in c:\\users\\jgjoa\\anaconda3\\lib\\site-packages (from requests->transformers==4.28.0) (1.26.9)\n",
            "Requirement already satisfied: certifi>=2017.4.17 in c:\\users\\jgjoa\\anaconda3\\lib\\site-packages (from requests->transformers==4.28.0) (2021.10.8)\n",
            "Requirement already satisfied: charset-normalizer~=2.0.0 in c:\\users\\jgjoa\\anaconda3\\lib\\site-packages (from requests->transformers==4.28.0) (2.0.4)\n",
            "Requirement already satisfied: idna<4,>=2.5 in c:\\users\\jgjoa\\anaconda3\\lib\\site-packages (from requests->transformers==4.28.0) (3.3)\n",
            "Installing collected packages: transformers\n",
            "Successfully installed transformers-4.28.0\n"
          ]
        },
        {
          "name": "stderr",
          "output_type": "stream",
          "text": [
            "WARNING: Ignoring invalid distribution -ensorflow-intel (c:\\users\\jgjoa\\anaconda3\\lib\\site-packages)\n",
            "WARNING: Ignoring invalid distribution -orch (c:\\users\\jgjoa\\anaconda3\\lib\\site-packages)\n",
            "WARNING: Ignoring invalid distribution -rotobuf (c:\\users\\jgjoa\\anaconda3\\lib\\site-packages)\n",
            "WARNING: Ignoring invalid distribution -ensorflow-intel (c:\\users\\jgjoa\\anaconda3\\lib\\site-packages)\n",
            "WARNING: Ignoring invalid distribution -orch (c:\\users\\jgjoa\\anaconda3\\lib\\site-packages)\n",
            "WARNING: Ignoring invalid distribution -rotobuf (c:\\users\\jgjoa\\anaconda3\\lib\\site-packages)\n"
          ]
        }
      ],
      "source": [
        "!pip uninstall -y transformers\n",
        "!pip install transformers==4.28.0\n"
      ]
    },
    {
      "cell_type": "code",
      "execution_count": null,
      "id": "88ebfd79-4665-4434-b755-9eea56c52dc1",
      "metadata": {
        "id": "88ebfd79-4665-4434-b755-9eea56c52dc1"
      },
      "outputs": [],
      "source": []
    },
    {
      "cell_type": "code",
      "execution_count": null,
      "id": "0d30377d-7a9f-45a1-bad9-08ba5ed2e3dd",
      "metadata": {
        "tags": [],
        "id": "0d30377d-7a9f-45a1-bad9-08ba5ed2e3dd",
        "outputId": "d3022411-a22f-47a3-db51-77fe8810a578"
      },
      "outputs": [
        {
          "ename": "TypeError",
          "evalue": "only integer tensors of a single element can be converted to an index",
          "output_type": "error",
          "traceback": [
            "\u001b[1;31m---------------------------------------------------------------------------\u001b[0m",
            "\u001b[1;31mTypeError\u001b[0m                                 Traceback (most recent call last)",
            "Input \u001b[1;32mIn [61]\u001b[0m, in \u001b[0;36m<cell line: 2>\u001b[1;34m()\u001b[0m\n\u001b[0;32m      1\u001b[0m \u001b[38;5;66;03m# It takes about 30 minutes to train in colab.\u001b[39;00m\n\u001b[1;32m----> 2\u001b[0m \u001b[43mtrain\u001b[49m\u001b[43m(\u001b[49m\n\u001b[0;32m      3\u001b[0m \u001b[43m    \u001b[49m\u001b[43mtrain_dataframe\u001b[49m\u001b[38;5;241;43m=\u001b[39;49m\u001b[43mtrain_dataframe\u001b[49m\u001b[43m,\u001b[49m\n\u001b[0;32m      4\u001b[0m \u001b[43m    \u001b[49m\u001b[43mmodel_name\u001b[49m\u001b[38;5;241;43m=\u001b[39;49m\u001b[43mmodel_name\u001b[49m\u001b[43m,\u001b[49m\n\u001b[0;32m      5\u001b[0m \u001b[43m    \u001b[49m\u001b[43moutput_dir\u001b[49m\u001b[38;5;241;43m=\u001b[39;49m\u001b[43moutput_dir\u001b[49m\u001b[43m,\u001b[49m\n\u001b[0;32m      6\u001b[0m \u001b[43m    \u001b[49m\u001b[43moverwrite_output_dir\u001b[49m\u001b[38;5;241;43m=\u001b[39;49m\u001b[43moverwrite_output_dir\u001b[49m\u001b[43m,\u001b[49m\n\u001b[0;32m      7\u001b[0m \u001b[43m    \u001b[49m\u001b[43mper_device_train_batch_size\u001b[49m\u001b[38;5;241;43m=\u001b[39;49m\u001b[43mper_device_train_batch_size\u001b[49m\u001b[43m,\u001b[49m\n\u001b[0;32m      8\u001b[0m \u001b[43m    \u001b[49m\u001b[43mnum_train_epochs\u001b[49m\u001b[38;5;241;43m=\u001b[39;49m\u001b[43mnum_train_epochs\u001b[49m\u001b[43m,\u001b[49m\n\u001b[0;32m      9\u001b[0m \u001b[43m    \u001b[49m\u001b[43msave_steps\u001b[49m\u001b[38;5;241;43m=\u001b[39;49m\u001b[43msave_steps\u001b[49m\n\u001b[0;32m     10\u001b[0m \u001b[43m)\u001b[49m\n",
            "Input \u001b[1;32mIn [60]\u001b[0m, in \u001b[0;36mtrain\u001b[1;34m(train_dataframe, model_name, output_dir, overwrite_output_dir, per_device_train_batch_size, num_train_epochs, save_steps)\u001b[0m\n\u001b[0;32m     42\u001b[0m tokenizer \u001b[38;5;241m=\u001b[39m GPT2Tokenizer\u001b[38;5;241m.\u001b[39mfrom_pretrained(model_name)\n\u001b[0;32m     43\u001b[0m train_dataset \u001b[38;5;241m=\u001b[39m load_dataset(train_dataframe, tokenizer)\n\u001b[1;32m---> 44\u001b[0m train_dataset \u001b[38;5;241m=\u001b[39m \u001b[43mtorch\u001b[49m\u001b[38;5;241;43m.\u001b[39;49m\u001b[43mtensor\u001b[49m\u001b[43m(\u001b[49m\u001b[43mtrain_dataset\u001b[49m\u001b[43m)\u001b[49m\n\u001b[0;32m     45\u001b[0m data_collator \u001b[38;5;241m=\u001b[39m load_data_collator(tokenizer)\n\u001b[0;32m     47\u001b[0m tokenizer\u001b[38;5;241m.\u001b[39msave_pretrained(output_dir)\n",
            "\u001b[1;31mTypeError\u001b[0m: only integer tensors of a single element can be converted to an index"
          ]
        }
      ],
      "source": [
        "# It takes about 30 minutes to train in colab.\n",
        "train(\n",
        "    train_dataframe=train_dataframe,\n",
        "    model_name=model_name,\n",
        "    output_dir=output_dir,\n",
        "    overwrite_output_dir=overwrite_output_dir,\n",
        "    per_device_train_batch_size=per_device_train_batch_size,\n",
        "    num_train_epochs=num_train_epochs,\n",
        "    save_steps=save_steps\n",
        ")"
      ]
    },
    {
      "cell_type": "code",
      "execution_count": null,
      "id": "fcd95012-a3c4-4c8c-a324-6e39d718b277",
      "metadata": {
        "id": "fcd95012-a3c4-4c8c-a324-6e39d718b277"
      },
      "outputs": [],
      "source": []
    },
    {
      "cell_type": "code",
      "execution_count": null,
      "id": "367fce19-7ee7-4b24-b921-067a060635a4",
      "metadata": {
        "tags": [],
        "id": "367fce19-7ee7-4b24-b921-067a060635a4"
      },
      "outputs": [],
      "source": [
        "\n"
      ]
    },
    {
      "cell_type": "code",
      "execution_count": null,
      "id": "0ac3eec6-b50a-4983-983d-42e3498e8300",
      "metadata": {
        "id": "0ac3eec6-b50a-4983-983d-42e3498e8300"
      },
      "outputs": [],
      "source": [
        "import nltk\n",
        "\n",
        "import string\n",
        "import unidecode\n",
        "import random\n",
        "import torch"
      ]
    },
    {
      "cell_type": "code",
      "execution_count": null,
      "id": "21fd1cc8-f1ff-4032-854e-fb52e1735afd",
      "metadata": {
        "tags": [],
        "id": "21fd1cc8-f1ff-4032-854e-fb52e1735afd"
      },
      "outputs": [],
      "source": [
        "df_rnn= data[data['idioma']=='en']\n",
        "df_rnn = df_rnn[0:1000]"
      ]
    },
    {
      "cell_type": "code",
      "execution_count": null,
      "id": "606cc012-b10b-47b8-bcad-a8240b2e2281",
      "metadata": {
        "id": "606cc012-b10b-47b8-bcad-a8240b2e2281",
        "outputId": "8e8faac0-cb1a-418d-93a5-af4f04c7d4b1"
      },
      "outputs": [
        {
          "data": {
            "text/plain": [
              "143090"
            ]
          },
          "execution_count": 64,
          "metadata": {},
          "output_type": "execute_result"
        }
      ],
      "source": [
        "\n",
        "text = list(df_rnn['description'])\n",
        "def joinStrings(text):\n",
        "    return ' '.join(string for string in text)\n",
        "text = joinStrings(text)\n",
        "# text = [item for sublist in author[:5].values for item in sublist]\n",
        "len(text.split())"
      ]
    },
    {
      "cell_type": "code",
      "execution_count": null,
      "id": "0642a0e7-5cb2-46b7-823f-35b362df8801",
      "metadata": {
        "id": "0642a0e7-5cb2-46b7-823f-35b362df8801"
      },
      "outputs": [],
      "source": [
        "stop = set(nltk.corpus.stopwords.words('english'))\n",
        "exclude = set(string.punctuation) \n",
        "lemma = nltk.stem.wordnet.WordNetLemmatizer()\n",
        "def clean(doc):\n",
        "        stop_free = \" \".join([i for i in doc.split() if i not in stop])\n",
        "        punc_free = \"\".join(ch for ch in stop_free if ch not in exclude)\n",
        "        normalized = \" \".join(lemma.lemmatize(word) for word in punc_free.split())\n",
        "        return normalized\n",
        "test_sentence = clean(text).lower().split()"
      ]
    },
    {
      "cell_type": "code",
      "execution_count": null,
      "id": "44021049-04a0-438e-973b-e70713c49246",
      "metadata": {
        "id": "44021049-04a0-438e-973b-e70713c49246",
        "outputId": "f0b84e8c-2aa3-4173-f55b-907427ccabc5"
      },
      "outputs": [
        {
          "name": "stdout",
          "output_type": "stream",
          "text": [
            "[(['located', 'nices'], 'city'), (['nices', 'city'], 'center'), (['city', 'center'], 'best')]\n"
          ]
        }
      ],
      "source": [
        "trigrams = [([test_sentence[i], test_sentence[i + 1]], test_sentence[i + 2])\n",
        "            for i in range(len(test_sentence) - 2)]\n",
        "chunk_len=len(trigrams)\n",
        "print(trigrams[:3])"
      ]
    },
    {
      "cell_type": "code",
      "execution_count": null,
      "id": "73316a2b-f529-4c07-acf0-6dac9463ddb4",
      "metadata": {
        "id": "73316a2b-f529-4c07-acf0-6dac9463ddb4"
      },
      "outputs": [],
      "source": [
        "vocab = set(test_sentence)\n",
        "voc_len=len(vocab)\n",
        "word_to_ix = {word: i for i, word in enumerate(vocab)}"
      ]
    },
    {
      "cell_type": "code",
      "execution_count": null,
      "id": "f352aa1a-4ce5-4233-a3aa-6247693b97e6",
      "metadata": {
        "id": "f352aa1a-4ce5-4233-a3aa-6247693b97e6"
      },
      "outputs": [],
      "source": [
        "inp=[]\n",
        "tar=[]\n",
        "for context, target in trigrams:\n",
        "        context_idxs = torch.tensor([word_to_ix[w] for w in context], dtype=torch.long)\n",
        "        inp.append(context_idxs)\n",
        "        targ = torch.tensor([word_to_ix[target]], dtype=torch.long)\n",
        "        tar.append(targ)"
      ]
    },
    {
      "cell_type": "code",
      "execution_count": null,
      "id": "edef9fa1-dd1a-41bc-af03-9f63d36b4723",
      "metadata": {
        "id": "edef9fa1-dd1a-41bc-af03-9f63d36b4723"
      },
      "outputs": [],
      "source": [
        "import torch\n",
        "import torch.nn as nn\n",
        "from torch.autograd import Variable\n",
        "\n",
        "class RNN(nn.Module):\n",
        "    def __init__(self, input_size, hidden_size, output_size, n_layers=1):\n",
        "        super(RNN, self).__init__()\n",
        "        self.input_size = input_size\n",
        "        self.hidden_size = hidden_size\n",
        "        self.output_size = output_size\n",
        "        self.n_layers = n_layers\n",
        "        \n",
        "        self.encoder = nn.Embedding(input_size, hidden_size)\n",
        "        self.gru = nn.GRU(hidden_size*2, hidden_size, n_layers,batch_first=True,\n",
        "                          bidirectional=False)\n",
        "        self.decoder = nn.Linear(hidden_size, output_size)\n",
        "    \n",
        "    def forward(self, input, hidden):\n",
        "        input = self.encoder(input.view(1, -1))\n",
        "        output, hidden = self.gru(input.view(1, 1, -1), hidden)\n",
        "        output = self.decoder(output.view(1, -1))\n",
        "        return output, hidden\n",
        "\n",
        "    def init_hidden(self):\n",
        "        return Variable(torch.zeros(self.n_layers, 1, self.hidden_size))"
      ]
    },
    {
      "cell_type": "code",
      "execution_count": null,
      "id": "91817841-b66c-4ab5-ade4-d31f4b0892ac",
      "metadata": {
        "id": "91817841-b66c-4ab5-ade4-d31f4b0892ac"
      },
      "outputs": [],
      "source": [
        "def train(inp, target):\n",
        "    hidden = decoder.init_hidden().cuda()\n",
        "    decoder.zero_grad()\n",
        "    loss = 0\n",
        "    \n",
        "    for c in range(chunk_len):\n",
        "        output, hidden = decoder(inp[c].cuda(), hidden)\n",
        "        loss += criterion(output, target[c].cuda())\n",
        "\n",
        "    loss.backward()\n",
        "    decoder_optimizer.step()\n",
        "\n",
        "    return loss.data.item() / chunk_len\n",
        "\n"
      ]
    },
    {
      "cell_type": "code",
      "execution_count": null,
      "id": "3b34a769-65cf-401c-9a97-ceb7953363ba",
      "metadata": {
        "id": "3b34a769-65cf-401c-9a97-ceb7953363ba"
      },
      "outputs": [],
      "source": [
        "import time, math\n",
        "\n",
        "def time_since(since):\n",
        "    s = time.time() - since\n",
        "    m = math.floor(s / 60)\n",
        "    s -= m * 60\n",
        "    return '%dm %ds' % (m, s)"
      ]
    },
    {
      "cell_type": "code",
      "execution_count": null,
      "id": "6d7b5009-2176-4128-9ac0-3f82d90e19f4",
      "metadata": {
        "id": "6d7b5009-2176-4128-9ac0-3f82d90e19f4"
      },
      "outputs": [],
      "source": [
        "!conda install pytorch torchvision cudatoolkit=10.1 -c pytorch\n",
        "\n"
      ]
    },
    {
      "cell_type": "code",
      "execution_count": null,
      "id": "a38493d9-ac96-4fe1-a807-a23dd4761515",
      "metadata": {
        "id": "a38493d9-ac96-4fe1-a807-a23dd4761515",
        "outputId": "2d0263f3-59ad-445b-8e96-0f63fafba483"
      },
      "outputs": [
        {
          "name": "stdout",
          "output_type": "stream",
          "text": [
            "<function is_available at 0x0000022DA453C310>\n"
          ]
        }
      ],
      "source": [
        "print(torch.cuda.is_available)\n"
      ]
    },
    {
      "cell_type": "code",
      "execution_count": null,
      "id": "aba9c984-0a36-4527-b831-e6f1fa472f71",
      "metadata": {
        "id": "aba9c984-0a36-4527-b831-e6f1fa472f71",
        "outputId": "d48a218e-ac02-428c-94b8-40eeba5a6dbc"
      },
      "outputs": [
        {
          "data": {
            "text/plain": [
              "False"
            ]
          },
          "execution_count": 80,
          "metadata": {},
          "output_type": "execute_result"
        }
      ],
      "source": [
        "torch.cuda.is_available()"
      ]
    },
    {
      "cell_type": "code",
      "execution_count": null,
      "id": "4f413ab3-72cc-4a86-ab75-33ae34f4cd94",
      "metadata": {
        "id": "4f413ab3-72cc-4a86-ab75-33ae34f4cd94",
        "outputId": "c3256c59-b3b1-4e2d-cf23-9c9b84738882"
      },
      "outputs": [
        {
          "ename": "AssertionError",
          "evalue": "Torch not compiled with CUDA enabled",
          "output_type": "error",
          "traceback": [
            "\u001b[1;31m---------------------------------------------------------------------------\u001b[0m",
            "\u001b[1;31mAssertionError\u001b[0m                            Traceback (most recent call last)",
            "Input \u001b[1;32mIn [74]\u001b[0m, in \u001b[0;36m<cell line: 17>\u001b[1;34m()\u001b[0m\n\u001b[0;32m     16\u001b[0m     decoder\u001b[38;5;241m.\u001b[39mcuda()\n\u001b[0;32m     17\u001b[0m \u001b[38;5;28;01mfor\u001b[39;00m epoch \u001b[38;5;129;01min\u001b[39;00m \u001b[38;5;28mrange\u001b[39m(\u001b[38;5;241m1\u001b[39m, n_epochs \u001b[38;5;241m+\u001b[39m \u001b[38;5;241m1\u001b[39m):\n\u001b[1;32m---> 18\u001b[0m     loss \u001b[38;5;241m=\u001b[39m \u001b[43mtrain\u001b[49m\u001b[43m(\u001b[49m\u001b[43minp\u001b[49m\u001b[43m,\u001b[49m\u001b[43mtar\u001b[49m\u001b[43m)\u001b[49m       \n\u001b[0;32m     19\u001b[0m     loss_avg \u001b[38;5;241m+\u001b[39m\u001b[38;5;241m=\u001b[39m loss\n\u001b[0;32m     21\u001b[0m     \u001b[38;5;28;01mif\u001b[39;00m epoch \u001b[38;5;241m%\u001b[39m print_every \u001b[38;5;241m==\u001b[39m \u001b[38;5;241m0\u001b[39m:\n",
            "Input \u001b[1;32mIn [70]\u001b[0m, in \u001b[0;36mtrain\u001b[1;34m(inp, target)\u001b[0m\n\u001b[0;32m      1\u001b[0m \u001b[38;5;28;01mdef\u001b[39;00m \u001b[38;5;21mtrain\u001b[39m(inp, target):\n\u001b[1;32m----> 2\u001b[0m     hidden \u001b[38;5;241m=\u001b[39m \u001b[43mdecoder\u001b[49m\u001b[38;5;241;43m.\u001b[39;49m\u001b[43minit_hidden\u001b[49m\u001b[43m(\u001b[49m\u001b[43m)\u001b[49m\u001b[38;5;241;43m.\u001b[39;49m\u001b[43mcuda\u001b[49m\u001b[43m(\u001b[49m\u001b[43m)\u001b[49m\n\u001b[0;32m      3\u001b[0m     decoder\u001b[38;5;241m.\u001b[39mzero_grad()\n\u001b[0;32m      4\u001b[0m     loss \u001b[38;5;241m=\u001b[39m \u001b[38;5;241m0\u001b[39m\n",
            "File \u001b[1;32m~\\anaconda3\\lib\\site-packages\\torch\\cuda\\__init__.py:239\u001b[0m, in \u001b[0;36m_lazy_init\u001b[1;34m()\u001b[0m\n\u001b[0;32m    235\u001b[0m     \u001b[38;5;28;01mraise\u001b[39;00m \u001b[38;5;167;01mRuntimeError\u001b[39;00m(\n\u001b[0;32m    236\u001b[0m         \u001b[38;5;124m\"\u001b[39m\u001b[38;5;124mCannot re-initialize CUDA in forked subprocess. To use CUDA with \u001b[39m\u001b[38;5;124m\"\u001b[39m\n\u001b[0;32m    237\u001b[0m         \u001b[38;5;124m\"\u001b[39m\u001b[38;5;124mmultiprocessing, you must use the \u001b[39m\u001b[38;5;124m'\u001b[39m\u001b[38;5;124mspawn\u001b[39m\u001b[38;5;124m'\u001b[39m\u001b[38;5;124m start method\u001b[39m\u001b[38;5;124m\"\u001b[39m)\n\u001b[0;32m    238\u001b[0m \u001b[38;5;28;01mif\u001b[39;00m \u001b[38;5;129;01mnot\u001b[39;00m \u001b[38;5;28mhasattr\u001b[39m(torch\u001b[38;5;241m.\u001b[39m_C, \u001b[38;5;124m'\u001b[39m\u001b[38;5;124m_cuda_getDeviceCount\u001b[39m\u001b[38;5;124m'\u001b[39m):\n\u001b[1;32m--> 239\u001b[0m     \u001b[38;5;28;01mraise\u001b[39;00m \u001b[38;5;167;01mAssertionError\u001b[39;00m(\u001b[38;5;124m\"\u001b[39m\u001b[38;5;124mTorch not compiled with CUDA enabled\u001b[39m\u001b[38;5;124m\"\u001b[39m)\n\u001b[0;32m    240\u001b[0m \u001b[38;5;28;01mif\u001b[39;00m _cudart \u001b[38;5;129;01mis\u001b[39;00m \u001b[38;5;28;01mNone\u001b[39;00m:\n\u001b[0;32m    241\u001b[0m     \u001b[38;5;28;01mraise\u001b[39;00m \u001b[38;5;167;01mAssertionError\u001b[39;00m(\n\u001b[0;32m    242\u001b[0m         \u001b[38;5;124m\"\u001b[39m\u001b[38;5;124mlibcudart functions unavailable. It looks like you have a broken build?\u001b[39m\u001b[38;5;124m\"\u001b[39m)\n",
            "\u001b[1;31mAssertionError\u001b[0m: Torch not compiled with CUDA enabled"
          ]
        }
      ],
      "source": [
        "n_epochs = 100\n",
        "print_every = 100\n",
        "plot_every = 10\n",
        "hidden_size = 100\n",
        "n_layers = 1\n",
        "lr = 0.015\n",
        "\n",
        "decoder = RNN(voc_len, hidden_size, voc_len, n_layers)\n",
        "decoder_optimizer = torch.optim.Adam(decoder.parameters(), lr=lr)\n",
        "criterion = nn.CrossEntropyLoss()\n",
        "\n",
        "start = time.time()\n",
        "all_losses = []\n",
        "loss_avg = 0\n",
        "if(train_on_gpu):\n",
        "    decoder.cuda()\n",
        "for epoch in range(1, n_epochs + 1):\n",
        "    loss = train(inp,tar)       \n",
        "    loss_avg += loss\n",
        "\n",
        "    if epoch % print_every == 0:\n",
        "        print('[%s (%d %d%%) %.4f]' % (time_since(start), epoch, epoch / n_epochs * 50, loss))\n",
        "#         print(evaluate('ge', 200), '\\n')\n",
        "\n",
        "    if epoch % plot_every == 0:\n",
        "        all_losses.append(loss_avg / plot_every)\n",
        "        loss_avg = 0\n"
      ]
    },
    {
      "cell_type": "code",
      "execution_count": null,
      "id": "f8573fb0-58f1-47a8-8731-4d6775fc48bd",
      "metadata": {
        "id": "f8573fb0-58f1-47a8-8731-4d6775fc48bd"
      },
      "outputs": [],
      "source": []
    },
    {
      "cell_type": "code",
      "execution_count": null,
      "id": "33d12855-195d-4d89-a99f-23374f510a01",
      "metadata": {
        "id": "33d12855-195d-4d89-a99f-23374f510a01"
      },
      "outputs": [],
      "source": [
        "import matplotlib.pyplot as plt\n",
        "import matplotlib.ticker as ticker\n",
        "%matplotlib inline\n",
        "\n",
        "plt.figure()\n",
        "plt.plot(all_losses)"
      ]
    },
    {
      "cell_type": "code",
      "execution_count": null,
      "id": "13f9de03-9fb3-472c-bcfb-3b32d409135f",
      "metadata": {
        "id": "13f9de03-9fb3-472c-bcfb-3b32d409135f"
      },
      "outputs": [],
      "source": [
        "def evaluate(prime_str='this process', predict_len=100, temperature=0.8):\n",
        "    hidden = decoder.init_hidden().cuda()\n",
        "\n",
        "    for p in range(predict_len):\n",
        "        \n",
        "        prime_input = torch.tensor([word_to_ix[w] for w in prime_str.split()], dtype=torch.long).cuda()\n",
        "        inp = prime_input[-2:] #last two words as input\n",
        "        output, hidden = decoder(inp, hidden)\n",
        "        \n",
        "        # Sample from the network as a multinomial distribution\n",
        "        output_dist = output.data.view(-1).div(temperature).exp()\n",
        "        top_i = torch.multinomial(output_dist, 1)[0]\n",
        "        \n",
        "        # Add predicted word to string and use as next input\n",
        "        predicted_word = list(word_to_ix.keys())[list(word_to_ix.values()).index(top_i)]\n",
        "        prime_str += \" \" + predicted_word\n",
        "#         inp = torch.tensor(word_to_ix[predicted_word], dtype=torch.long)\n",
        "\n",
        "    return prime_str"
      ]
    },
    {
      "cell_type": "code",
      "execution_count": null,
      "id": "86e78d2e-97aa-42b3-aa1d-c406fac60d75",
      "metadata": {
        "id": "86e78d2e-97aa-42b3-aa1d-c406fac60d75"
      },
      "outputs": [],
      "source": []
    },
    {
      "cell_type": "code",
      "execution_count": null,
      "id": "dc751885-f221-4d22-b001-75ab52f10bb2",
      "metadata": {
        "id": "dc751885-f221-4d22-b001-75ab52f10bb2"
      },
      "outputs": [],
      "source": []
    },
    {
      "cell_type": "code",
      "execution_count": null,
      "id": "80751631-968e-4f5c-a23f-68bafbec6922",
      "metadata": {
        "id": "80751631-968e-4f5c-a23f-68bafbec6922"
      },
      "outputs": [],
      "source": [
        "\n"
      ]
    },
    {
      "cell_type": "code",
      "execution_count": null,
      "id": "61f4e770-a9bd-4ee5-b150-a22ca1f1d4d9",
      "metadata": {
        "id": "61f4e770-a9bd-4ee5-b150-a22ca1f1d4d9"
      },
      "outputs": [],
      "source": []
    },
    {
      "cell_type": "code",
      "execution_count": null,
      "id": "d364a03d-e667-43c8-b6e0-7fc6dffbc9dc",
      "metadata": {
        "id": "d364a03d-e667-43c8-b6e0-7fc6dffbc9dc"
      },
      "outputs": [],
      "source": []
    },
    {
      "cell_type": "code",
      "execution_count": null,
      "id": "de92fd6e-e701-4c94-92c7-4929a171a12d",
      "metadata": {
        "id": "de92fd6e-e701-4c94-92c7-4929a171a12d"
      },
      "outputs": [],
      "source": []
    }
  ],
  "metadata": {
    "kernelspec": {
      "display_name": "Python 3 (ipykernel)",
      "language": "python",
      "name": "python3"
    },
    "language_info": {
      "codemirror_mode": {
        "name": "ipython",
        "version": 3
      },
      "file_extension": ".py",
      "mimetype": "text/x-python",
      "name": "python",
      "nbconvert_exporter": "python",
      "pygments_lexer": "ipython3",
      "version": "3.9.12"
    },
    "colab": {
      "provenance": [],
      "include_colab_link": true
    }
  },
  "nbformat": 4,
  "nbformat_minor": 5
}