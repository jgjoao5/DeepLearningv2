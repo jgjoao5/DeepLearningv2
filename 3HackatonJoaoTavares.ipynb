{
 "cells": [
  {
   "cell_type": "markdown",
   "id": "7f944f2d-7efa-486a-8957-ad77155b62a6",
   "metadata": {
    "tags": []
   },
   "source": [
    "## Machine Learning - 3o Hackaton\n",
    "# João Gabriel Tavares"
   ]
  },
  {
   "cell_type": "markdown",
   "id": "802d42d9-bdc1-4631-bcc1-223d43fb30aa",
   "metadata": {
    "tags": []
   },
   "source": [
    "# Pacotes:"
   ]
  },
  {
   "cell_type": "code",
   "execution_count": 136,
   "id": "8dd2fb89-14c8-4755-83ee-c010ec3ac3da",
   "metadata": {},
   "outputs": [],
   "source": [
    "import pandas as pd\n",
    "import numpy as np\n",
    "\n",
    "from sklearn import preprocessing\n",
    "from sklearn.cluster import KMeans\n",
    "from sklearn.decomposition import PCA\n",
    "from sklearn.model_selection import train_test_split\n",
    "import matplotlib.pyplot as plt\n",
    "from sklearn.linear_model import SGDClassifier\n",
    "from sklearn.model_selection import cross_val_score\n",
    "from sklearn.metrics import confusion_matrix\n",
    "from sklearn.model_selection import cross_val_predict\n",
    "from sklearn.ensemble import RandomForestClassifier\n",
    "import time\n",
    "from scipy.cluster.hierarchy import dendrogram, linkage\n",
    "from sklearn.cluster import AgglomerativeClustering\n",
    "import warnings\n",
    "warnings.filterwarnings(\"ignore\")\n",
    "from sklearn.metrics import roc_curve\n",
    "\n",
    "\n"
   ]
  },
  {
   "cell_type": "code",
   "execution_count": 2,
   "id": "db950d2f-14d8-474f-8571-18b86258e801",
   "metadata": {},
   "outputs": [
    {
     "data": {
      "text/html": [
       "<div>\n",
       "<style scoped>\n",
       "    .dataframe tbody tr th:only-of-type {\n",
       "        vertical-align: middle;\n",
       "    }\n",
       "\n",
       "    .dataframe tbody tr th {\n",
       "        vertical-align: top;\n",
       "    }\n",
       "\n",
       "    .dataframe thead th {\n",
       "        text-align: right;\n",
       "    }\n",
       "</style>\n",
       "<table border=\"1\" class=\"dataframe\">\n",
       "  <thead>\n",
       "    <tr style=\"text-align: right;\">\n",
       "      <th></th>\n",
       "      <th>HeartDisease</th>\n",
       "      <th>BMI</th>\n",
       "      <th>Smoking</th>\n",
       "      <th>AlcoholDrinking</th>\n",
       "      <th>Stroke</th>\n",
       "      <th>PhysicalHealth</th>\n",
       "      <th>MentalHealth</th>\n",
       "      <th>DiffWalking</th>\n",
       "      <th>Sex</th>\n",
       "      <th>AgeCategory</th>\n",
       "      <th>Race</th>\n",
       "      <th>Diabetic</th>\n",
       "      <th>PhysicalActivity</th>\n",
       "      <th>GenHealth</th>\n",
       "      <th>SleepTime</th>\n",
       "      <th>Asthma</th>\n",
       "      <th>KidneyDisease</th>\n",
       "      <th>SkinCancer</th>\n",
       "    </tr>\n",
       "  </thead>\n",
       "  <tbody>\n",
       "    <tr>\n",
       "      <th>0</th>\n",
       "      <td>No</td>\n",
       "      <td>16.60</td>\n",
       "      <td>Yes</td>\n",
       "      <td>No</td>\n",
       "      <td>No</td>\n",
       "      <td>3</td>\n",
       "      <td>30</td>\n",
       "      <td>No</td>\n",
       "      <td>Female</td>\n",
       "      <td>55-59</td>\n",
       "      <td>White</td>\n",
       "      <td>Yes</td>\n",
       "      <td>Yes</td>\n",
       "      <td>Very good</td>\n",
       "      <td>5</td>\n",
       "      <td>Yes</td>\n",
       "      <td>No</td>\n",
       "      <td>Yes</td>\n",
       "    </tr>\n",
       "    <tr>\n",
       "      <th>1</th>\n",
       "      <td>No</td>\n",
       "      <td>20.34</td>\n",
       "      <td>No</td>\n",
       "      <td>No</td>\n",
       "      <td>Yes</td>\n",
       "      <td>0</td>\n",
       "      <td>0</td>\n",
       "      <td>No</td>\n",
       "      <td>Female</td>\n",
       "      <td>80 or older</td>\n",
       "      <td>White</td>\n",
       "      <td>No</td>\n",
       "      <td>Yes</td>\n",
       "      <td>Very good</td>\n",
       "      <td>7</td>\n",
       "      <td>No</td>\n",
       "      <td>No</td>\n",
       "      <td>No</td>\n",
       "    </tr>\n",
       "    <tr>\n",
       "      <th>2</th>\n",
       "      <td>No</td>\n",
       "      <td>26.58</td>\n",
       "      <td>Yes</td>\n",
       "      <td>No</td>\n",
       "      <td>No</td>\n",
       "      <td>20</td>\n",
       "      <td>30</td>\n",
       "      <td>No</td>\n",
       "      <td>Male</td>\n",
       "      <td>65-69</td>\n",
       "      <td>White</td>\n",
       "      <td>Yes</td>\n",
       "      <td>Yes</td>\n",
       "      <td>Fair</td>\n",
       "      <td>8</td>\n",
       "      <td>Yes</td>\n",
       "      <td>No</td>\n",
       "      <td>No</td>\n",
       "    </tr>\n",
       "    <tr>\n",
       "      <th>3</th>\n",
       "      <td>No</td>\n",
       "      <td>24.21</td>\n",
       "      <td>No</td>\n",
       "      <td>No</td>\n",
       "      <td>No</td>\n",
       "      <td>0</td>\n",
       "      <td>0</td>\n",
       "      <td>No</td>\n",
       "      <td>Female</td>\n",
       "      <td>75-79</td>\n",
       "      <td>White</td>\n",
       "      <td>No</td>\n",
       "      <td>No</td>\n",
       "      <td>Good</td>\n",
       "      <td>6</td>\n",
       "      <td>No</td>\n",
       "      <td>No</td>\n",
       "      <td>Yes</td>\n",
       "    </tr>\n",
       "    <tr>\n",
       "      <th>4</th>\n",
       "      <td>No</td>\n",
       "      <td>23.71</td>\n",
       "      <td>No</td>\n",
       "      <td>No</td>\n",
       "      <td>No</td>\n",
       "      <td>28</td>\n",
       "      <td>0</td>\n",
       "      <td>Yes</td>\n",
       "      <td>Female</td>\n",
       "      <td>40-44</td>\n",
       "      <td>White</td>\n",
       "      <td>No</td>\n",
       "      <td>Yes</td>\n",
       "      <td>Very good</td>\n",
       "      <td>8</td>\n",
       "      <td>No</td>\n",
       "      <td>No</td>\n",
       "      <td>No</td>\n",
       "    </tr>\n",
       "  </tbody>\n",
       "</table>\n",
       "</div>"
      ],
      "text/plain": [
       "  HeartDisease    BMI Smoking AlcoholDrinking Stroke  PhysicalHealth  \\\n",
       "0           No  16.60     Yes              No     No               3   \n",
       "1           No  20.34      No              No    Yes               0   \n",
       "2           No  26.58     Yes              No     No              20   \n",
       "3           No  24.21      No              No     No               0   \n",
       "4           No  23.71      No              No     No              28   \n",
       "\n",
       "   MentalHealth DiffWalking     Sex  AgeCategory   Race Diabetic  \\\n",
       "0            30          No  Female        55-59  White      Yes   \n",
       "1             0          No  Female  80 or older  White       No   \n",
       "2            30          No    Male        65-69  White      Yes   \n",
       "3             0          No  Female        75-79  White       No   \n",
       "4             0         Yes  Female        40-44  White       No   \n",
       "\n",
       "  PhysicalActivity  GenHealth  SleepTime Asthma KidneyDisease SkinCancer  \n",
       "0              Yes  Very good          5    Yes            No        Yes  \n",
       "1              Yes  Very good          7     No            No         No  \n",
       "2              Yes       Fair          8    Yes            No         No  \n",
       "3               No       Good          6     No            No        Yes  \n",
       "4              Yes  Very good          8     No            No         No  "
      ]
     },
     "execution_count": 2,
     "metadata": {},
     "output_type": "execute_result"
    }
   ],
   "source": [
    "baseHD = pd.read_excel(r'C:\\Users\\jgjoa\\Documents\\heart_disease.xlsx',decimal=',')\n",
    "\n",
    "baseHD.head()"
   ]
  },
  {
   "cell_type": "code",
   "execution_count": 3,
   "id": "1f75242d-5906-490f-8ef6-9152eca0bf06",
   "metadata": {},
   "outputs": [
    {
     "data": {
      "text/html": [
       "<div>\n",
       "<style scoped>\n",
       "    .dataframe tbody tr th:only-of-type {\n",
       "        vertical-align: middle;\n",
       "    }\n",
       "\n",
       "    .dataframe tbody tr th {\n",
       "        vertical-align: top;\n",
       "    }\n",
       "\n",
       "    .dataframe thead th {\n",
       "        text-align: right;\n",
       "    }\n",
       "</style>\n",
       "<table border=\"1\" class=\"dataframe\">\n",
       "  <thead>\n",
       "    <tr style=\"text-align: right;\">\n",
       "      <th></th>\n",
       "      <th>HeartDisease</th>\n",
       "      <th>BMI</th>\n",
       "      <th>Smoking</th>\n",
       "      <th>AlcoholDrinking</th>\n",
       "      <th>Stroke</th>\n",
       "      <th>PhysicalHealth</th>\n",
       "      <th>MentalHealth</th>\n",
       "      <th>DiffWalking</th>\n",
       "      <th>Sex</th>\n",
       "      <th>AgeCategory</th>\n",
       "      <th>Race</th>\n",
       "      <th>Diabetic</th>\n",
       "      <th>PhysicalActivity</th>\n",
       "      <th>GenHealth</th>\n",
       "      <th>SleepTime</th>\n",
       "      <th>Asthma</th>\n",
       "      <th>KidneyDisease</th>\n",
       "      <th>SkinCancer</th>\n",
       "      <th>Agemod</th>\n",
       "    </tr>\n",
       "  </thead>\n",
       "  <tbody>\n",
       "    <tr>\n",
       "      <th>0</th>\n",
       "      <td>0</td>\n",
       "      <td>16.60</td>\n",
       "      <td>1</td>\n",
       "      <td>0</td>\n",
       "      <td>0</td>\n",
       "      <td>3</td>\n",
       "      <td>30</td>\n",
       "      <td>0</td>\n",
       "      <td>Female</td>\n",
       "      <td>55-59</td>\n",
       "      <td>White</td>\n",
       "      <td>1</td>\n",
       "      <td>1</td>\n",
       "      <td>Very good</td>\n",
       "      <td>5</td>\n",
       "      <td>1</td>\n",
       "      <td>0</td>\n",
       "      <td>1</td>\n",
       "      <td>8</td>\n",
       "    </tr>\n",
       "    <tr>\n",
       "      <th>1</th>\n",
       "      <td>0</td>\n",
       "      <td>20.34</td>\n",
       "      <td>0</td>\n",
       "      <td>0</td>\n",
       "      <td>1</td>\n",
       "      <td>0</td>\n",
       "      <td>0</td>\n",
       "      <td>0</td>\n",
       "      <td>Female</td>\n",
       "      <td>80 or older</td>\n",
       "      <td>White</td>\n",
       "      <td>0</td>\n",
       "      <td>1</td>\n",
       "      <td>Very good</td>\n",
       "      <td>7</td>\n",
       "      <td>0</td>\n",
       "      <td>0</td>\n",
       "      <td>0</td>\n",
       "      <td>13</td>\n",
       "    </tr>\n",
       "    <tr>\n",
       "      <th>2</th>\n",
       "      <td>0</td>\n",
       "      <td>26.58</td>\n",
       "      <td>1</td>\n",
       "      <td>0</td>\n",
       "      <td>0</td>\n",
       "      <td>20</td>\n",
       "      <td>30</td>\n",
       "      <td>0</td>\n",
       "      <td>Male</td>\n",
       "      <td>65-69</td>\n",
       "      <td>White</td>\n",
       "      <td>1</td>\n",
       "      <td>1</td>\n",
       "      <td>Fair</td>\n",
       "      <td>8</td>\n",
       "      <td>1</td>\n",
       "      <td>0</td>\n",
       "      <td>0</td>\n",
       "      <td>10</td>\n",
       "    </tr>\n",
       "    <tr>\n",
       "      <th>3</th>\n",
       "      <td>0</td>\n",
       "      <td>24.21</td>\n",
       "      <td>0</td>\n",
       "      <td>0</td>\n",
       "      <td>0</td>\n",
       "      <td>0</td>\n",
       "      <td>0</td>\n",
       "      <td>0</td>\n",
       "      <td>Female</td>\n",
       "      <td>75-79</td>\n",
       "      <td>White</td>\n",
       "      <td>0</td>\n",
       "      <td>0</td>\n",
       "      <td>Good</td>\n",
       "      <td>6</td>\n",
       "      <td>0</td>\n",
       "      <td>0</td>\n",
       "      <td>1</td>\n",
       "      <td>12</td>\n",
       "    </tr>\n",
       "    <tr>\n",
       "      <th>4</th>\n",
       "      <td>0</td>\n",
       "      <td>23.71</td>\n",
       "      <td>0</td>\n",
       "      <td>0</td>\n",
       "      <td>0</td>\n",
       "      <td>28</td>\n",
       "      <td>0</td>\n",
       "      <td>1</td>\n",
       "      <td>Female</td>\n",
       "      <td>40-44</td>\n",
       "      <td>White</td>\n",
       "      <td>0</td>\n",
       "      <td>1</td>\n",
       "      <td>Very good</td>\n",
       "      <td>8</td>\n",
       "      <td>0</td>\n",
       "      <td>0</td>\n",
       "      <td>0</td>\n",
       "      <td>5</td>\n",
       "    </tr>\n",
       "  </tbody>\n",
       "</table>\n",
       "</div>"
      ],
      "text/plain": [
       "   HeartDisease    BMI  Smoking  AlcoholDrinking  Stroke  PhysicalHealth  \\\n",
       "0             0  16.60        1                0       0               3   \n",
       "1             0  20.34        0                0       1               0   \n",
       "2             0  26.58        1                0       0              20   \n",
       "3             0  24.21        0                0       0               0   \n",
       "4             0  23.71        0                0       0              28   \n",
       "\n",
       "   MentalHealth  DiffWalking     Sex  AgeCategory   Race  Diabetic  \\\n",
       "0            30            0  Female        55-59  White         1   \n",
       "1             0            0  Female  80 or older  White         0   \n",
       "2            30            0    Male        65-69  White         1   \n",
       "3             0            0  Female        75-79  White         0   \n",
       "4             0            1  Female        40-44  White         0   \n",
       "\n",
       "   PhysicalActivity  GenHealth  SleepTime  Asthma  KidneyDisease  SkinCancer  \\\n",
       "0                 1  Very good          5       1              0           1   \n",
       "1                 1  Very good          7       0              0           0   \n",
       "2                 1       Fair          8       1              0           0   \n",
       "3                 0       Good          6       0              0           1   \n",
       "4                 1  Very good          8       0              0           0   \n",
       "\n",
       "   Agemod  \n",
       "0       8  \n",
       "1      13  \n",
       "2      10  \n",
       "3      12  \n",
       "4       5  "
      ]
     },
     "execution_count": 3,
     "metadata": {},
     "output_type": "execute_result"
    }
   ],
   "source": [
    "baseHD.replace('Yes',1, inplace = True)\n",
    "baseHD.replace('No',0, inplace = True)\n",
    "baseHD.replace('No, borderline diabetes',1, inplace = True)\n",
    "baseHD.replace('Yes (during pregnancy)',1, inplace = True)\n",
    "\n",
    "\n",
    "baseHD['Agemod'] = baseHD['AgeCategory']\n",
    "\n",
    "baseHD['Agemod'].replace('18-24',1,inplace = True)\n",
    "baseHD['Agemod'].replace('25-29',2,inplace = True)\n",
    "baseHD['Agemod'].replace('30-34',3,inplace = True)\n",
    "baseHD['Agemod'].replace('35-39',4,inplace = True)\n",
    "baseHD['Agemod'].replace('40-44',5,inplace = True)\n",
    "baseHD['Agemod'].replace('45-49',6,inplace = True)\n",
    "baseHD['Agemod'].replace('50-54',7,inplace = True)\n",
    "baseHD['Agemod'].replace('55-59',8,inplace = True)\n",
    "baseHD['Agemod'].replace('60-64',9,inplace = True)\n",
    "baseHD['Agemod'].replace('65-69',10,inplace = True)\n",
    "baseHD['Agemod'].replace('70-74',11,inplace = True)\n",
    "baseHD['Agemod'].replace('75-79',12,inplace = True)\n",
    "baseHD['Agemod'].replace('80 or older',13,inplace = True)\n",
    "\n",
    "\n",
    "baseHD.head()"
   ]
  },
  {
   "cell_type": "code",
   "execution_count": 4,
   "id": "7ed47a2a-b834-4456-8a9c-9dd778d9c8e7",
   "metadata": {},
   "outputs": [],
   "source": [
    "X = baseHD.drop(['HeartDisease','Sex','AgeCategory','GenHealth','Race'], axis=1)\n",
    "\n",
    "y = baseHD['HeartDisease']\n"
   ]
  },
  {
   "cell_type": "code",
   "execution_count": 5,
   "id": "7f7c6f09-a007-4c83-b1db-a9c66bd82e40",
   "metadata": {},
   "outputs": [],
   "source": [
    "pca = PCA(n_components=2)\n",
    "X2D = pca.fit_transform(X)\n",
    "\n"
   ]
  },
  {
   "cell_type": "code",
   "execution_count": 6,
   "id": "a8d3e9bd-9ebe-4192-820b-858d9a64e9da",
   "metadata": {},
   "outputs": [
    {
     "data": {
      "text/plain": [
       "array([[ 16.23788786, -21.23432515],\n",
       "       [ -6.32786815,  -0.4348397 ],\n",
       "       [ 29.55134527,  -7.5108176 ],\n",
       "       [ -5.72042076,   0.28843526],\n",
       "       [ 13.91109039,  17.44463303]])"
      ]
     },
     "execution_count": 6,
     "metadata": {},
     "output_type": "execute_result"
    }
   ],
   "source": [
    "X2D[:5]"
   ]
  },
  {
   "cell_type": "code",
   "execution_count": 7,
   "id": "cbdf9c1c-d58f-4ced-9ad8-872df5211a67",
   "metadata": {},
   "outputs": [
    {
     "data": {
      "text/plain": [
       "array([0.45141412, 0.25341696])"
      ]
     },
     "execution_count": 7,
     "metadata": {},
     "output_type": "execute_result"
    }
   ],
   "source": [
    "pca.explained_variance_ratio_\n"
   ]
  },
  {
   "cell_type": "code",
   "execution_count": 8,
   "id": "40dcf3ca-090c-4f48-a3d1-8deac7f86e69",
   "metadata": {},
   "outputs": [
    {
     "data": {
      "text/plain": [
       "0.7048310786443903"
      ]
     },
     "execution_count": 8,
     "metadata": {},
     "output_type": "execute_result"
    }
   ],
   "source": [
    "np.sum(pca.explained_variance_ratio_)"
   ]
  },
  {
   "cell_type": "code",
   "execution_count": 9,
   "id": "6e69ae15-7e69-4087-8597-d3c2cbdd7d03",
   "metadata": {},
   "outputs": [
    {
     "data": {
      "text/plain": [
       "0.2951689213556097"
      ]
     },
     "execution_count": 9,
     "metadata": {},
     "output_type": "execute_result"
    }
   ],
   "source": [
    "1 - pca.explained_variance_ratio_.sum()\n"
   ]
  },
  {
   "cell_type": "code",
   "execution_count": 10,
   "id": "05bc2b1f-5f3a-4121-950e-0f79bb25d82b",
   "metadata": {},
   "outputs": [],
   "source": [
    "X_train, X_test, y_train, y_test = train_test_split(X, y)\n",
    "\n",
    "pca = PCA()\n",
    "pca.fit(X_train)\n",
    "cumsum = np.cumsum(pca.explained_variance_ratio_)\n",
    "d = np.argmax(cumsum >= 0.85) +1"
   ]
  },
  {
   "cell_type": "code",
   "execution_count": 11,
   "id": "fe02bebb-e913-4eec-96a7-17feab1925dd",
   "metadata": {},
   "outputs": [
    {
     "data": {
      "text/plain": [
       "3"
      ]
     },
     "execution_count": 11,
     "metadata": {},
     "output_type": "execute_result"
    }
   ],
   "source": [
    "d"
   ]
  },
  {
   "cell_type": "code",
   "execution_count": 12,
   "id": "bde8d1eb-6efb-4270-a37e-4ec91b507b88",
   "metadata": {},
   "outputs": [
    {
     "data": {
      "image/png": "[encoded data removed]",
      "text/plain": [
       "<Figure size 720x360 with 1 Axes>"
      ]
     },
     "metadata": {
      "needs_background": "light"
     },
     "output_type": "display_data"
    }
   ],
   "source": [
    "plt.figure(figsize=(10,5))\n",
    "plt.plot(cumsum, linewidth=3)\n",
    "plt.axis([0, 6, 0, 1])\n",
    "plt.xlabel(\"Dimensions\")\n",
    "plt.ylabel(\"Explained Variance\")\n",
    "plt.plot([d, d], [0, 0.85], \"k:\")\n",
    "plt.plot([0, d], [0.85, 0.85], \"k:\")\n",
    "plt.plot(d, 0.85, \"ko\")\n",
    "plt.annotate(\"Elbow\", xy=(65, 0.85), xytext=(70, 0.7),\n",
    "             arrowprops=dict(arrowstyle=\"->\"), fontsize=16)\n",
    "plt.grid(True)\n",
    "#save_fig(\"explained_variance_plot\")\n",
    "plt.show()\n"
   ]
  },
  {
   "cell_type": "code",
   "execution_count": null,
   "id": "070f08f7-0884-474e-b151-741ccd3bddd2",
   "metadata": {},
   "outputs": [],
   "source": []
  },
  {
   "cell_type": "code",
   "execution_count": 13,
   "id": "2636454c-263a-4873-abf0-98daf6583f39",
   "metadata": {},
   "outputs": [],
   "source": [
    "pca2 = PCA(n_components=0.85)\n",
    "X_reduced = pca2.fit_transform(X_train)\n"
   ]
  },
  {
   "cell_type": "code",
   "execution_count": 14,
   "id": "7ab29d47-f7af-43da-9ad9-3715f560b844",
   "metadata": {},
   "outputs": [
    {
     "data": {
      "text/plain": [
       "3"
      ]
     },
     "execution_count": 14,
     "metadata": {},
     "output_type": "execute_result"
    }
   ],
   "source": [
    "pca2.n_components_\n"
   ]
  },
  {
   "cell_type": "code",
   "execution_count": 15,
   "id": "925215f4-8a24-46d5-9016-cbd68c25a3ba",
   "metadata": {},
   "outputs": [
    {
     "data": {
      "text/plain": [
       "0.9188373519740317"
      ]
     },
     "execution_count": 15,
     "metadata": {},
     "output_type": "execute_result"
    }
   ],
   "source": [
    "np.sum(pca2.explained_variance_ratio_)"
   ]
  },
  {
   "cell_type": "code",
   "execution_count": 16,
   "id": "418b2caa-08c6-47ab-bcb2-e8c5b66eef51",
   "metadata": {},
   "outputs": [
    {
     "data": {
      "text/plain": [
       "array([0.45009305, 0.25467803, 0.21406628])"
      ]
     },
     "execution_count": 16,
     "metadata": {},
     "output_type": "execute_result"
    }
   ],
   "source": [
    "pca2.explained_variance_ratio_\n"
   ]
  },
  {
   "cell_type": "code",
   "execution_count": 17,
   "id": "f8bd1974-df9a-46d7-af35-05c757d193d5",
   "metadata": {},
   "outputs": [],
   "source": [
    "pca3 = PCA(n_components=3)\n",
    "X_reduced = pca3.fit_transform(X_train)\n",
    "X_recovered = pca3.inverse_transform(X_reduced)"
   ]
  },
  {
   "cell_type": "code",
   "execution_count": 18,
   "id": "71225eb9-2613-4240-aa77-8c6fda57e3d3",
   "metadata": {},
   "outputs": [
    {
     "data": {
      "text/plain": [
       "3"
      ]
     },
     "execution_count": 18,
     "metadata": {},
     "output_type": "execute_result"
    }
   ],
   "source": [
    "pca3.n_components_\n"
   ]
  },
  {
   "cell_type": "code",
   "execution_count": 19,
   "id": "6db48279-a9ee-42d2-b529-3e6774dc56d1",
   "metadata": {},
   "outputs": [
    {
     "data": {
      "text/plain": [
       "0.9188373519740305"
      ]
     },
     "execution_count": 19,
     "metadata": {},
     "output_type": "execute_result"
    }
   ],
   "source": [
    "np.sum(pca3.explained_variance_ratio_)"
   ]
  },
  {
   "cell_type": "code",
   "execution_count": 20,
   "id": "d33ba6bc-46fc-4ca4-9c8c-a67e25fce25e",
   "metadata": {},
   "outputs": [
    {
     "data": {
      "text/plain": [
       "array([0.45009305, 0.25467803, 0.21406628])"
      ]
     },
     "execution_count": 20,
     "metadata": {},
     "output_type": "execute_result"
    }
   ],
   "source": [
    "pca3.explained_variance_ratio_"
   ]
  },
  {
   "cell_type": "code",
   "execution_count": 21,
   "id": "3737d9d4-4da5-44dd-97b1-1ab94b92e724",
   "metadata": {},
   "outputs": [],
   "source": [
    "X3D = pca3.fit_transform(X)"
   ]
  },
  {
   "cell_type": "markdown",
   "id": "2f9a34c1-048e-43df-bf31-e068c67f92dd",
   "metadata": {},
   "source": [
    "# Aplicando o PCA com SGD Classifier"
   ]
  },
  {
   "cell_type": "markdown",
   "id": "95952653-3922-48ad-b1c0-5360316468ae",
   "metadata": {
    "tags": []
   },
   "source": [
    "## PCA(3D)"
   ]
  },
  {
   "cell_type": "code",
   "execution_count": 22,
   "id": "21805e26-3093-48cf-a408-356d027fb6f6",
   "metadata": {},
   "outputs": [],
   "source": [
    "X3D_train, X3D_test, y_train, y_test = train_test_split(X3D, y)\n",
    "\n",
    "y_train_1 = (y_train == 1)\n",
    "y_test_1 = (y_test == 1)"
   ]
  },
  {
   "cell_type": "code",
   "execution_count": 23,
   "id": "2b9686b4-d4ba-4c47-9f27-6aa30f11eae9",
   "metadata": {},
   "outputs": [
    {
     "data": {
      "text/plain": [
       "SGDClassifier(random_state=42)"
      ]
     },
     "execution_count": 23,
     "metadata": {},
     "output_type": "execute_result"
    }
   ],
   "source": [
    "sgd_clf = SGDClassifier(max_iter=1000, tol=0.001, random_state=42)\n",
    "sgd_clf.fit(X3D_train, y_train)"
   ]
  },
  {
   "cell_type": "code",
   "execution_count": 24,
   "id": "f413d10b-4dfc-4e74-a59d-a1f47c245e01",
   "metadata": {},
   "outputs": [
    {
     "data": {
      "text/plain": [
       "array([0.91447047, 0.91447047, 0.91448191])"
      ]
     },
     "execution_count": 24,
     "metadata": {},
     "output_type": "execute_result"
    }
   ],
   "source": [
    "crossVal3D = cross_val_score(sgd_clf, X3D_train, y_train, cv=3, scoring=\"accuracy\")\n",
    "\n",
    "crossVal3D"
   ]
  },
  {
   "cell_type": "code",
   "execution_count": 25,
   "id": "97cfb499-f359-4acd-bbf0-dfb69e28c5dc",
   "metadata": {},
   "outputs": [
    {
     "name": "stdout",
     "output_type": "stream",
     "text": [
      "Training score:  0.88\n"
     ]
    }
   ],
   "source": [
    "score = sgd_clf.score(X3D_train, y_train_1)\n",
    "print(\"Training score: \", round(score,2)) \n"
   ]
  },
  {
   "cell_type": "code",
   "execution_count": 26,
   "id": "a596f746-3a3b-440a-9d67-118ddd039f65",
   "metadata": {},
   "outputs": [
    {
     "data": {
      "text/plain": [
       "array([[219333,      0],\n",
       "       [ 20513,      0]], dtype=int64)"
      ]
     },
     "execution_count": 26,
     "metadata": {},
     "output_type": "execute_result"
    }
   ],
   "source": [
    "y_train_pred = cross_val_predict(sgd_clf, X3D_train, y_train_1, cv=3)\n",
    "\n",
    "confusion_matrix(y_train_1, y_train_pred)"
   ]
  },
  {
   "cell_type": "markdown",
   "id": "36def80d-903e-4403-9fef-3211fd4b0a59",
   "metadata": {},
   "source": [
    "## PCA(2D)"
   ]
  },
  {
   "cell_type": "code",
   "execution_count": 27,
   "id": "d026ecb3-da5d-4e5d-8f0f-ba8add466131",
   "metadata": {},
   "outputs": [],
   "source": [
    "X2D_train, X2D_test, y_train, y_test = train_test_split(X2D, y)\n"
   ]
  },
  {
   "cell_type": "code",
   "execution_count": 28,
   "id": "23980a39-81af-4017-b57e-0254e5ae5ce2",
   "metadata": {},
   "outputs": [
    {
     "data": {
      "text/plain": [
       "SGDClassifier(random_state=42)"
      ]
     },
     "execution_count": 28,
     "metadata": {},
     "output_type": "execute_result"
    }
   ],
   "source": [
    "sgd_clf2 = SGDClassifier(max_iter=1000, tol=0.001, random_state=42)\n",
    "sgd_clf2.fit(X2D_train, y_train)"
   ]
  },
  {
   "cell_type": "code",
   "execution_count": 29,
   "id": "974ae4eb-82ff-4499-8df7-04b1bf76a0aa",
   "metadata": {},
   "outputs": [
    {
     "data": {
      "text/plain": [
       "array([0.91470813, 0.91470813, 0.90576375])"
      ]
     },
     "execution_count": 29,
     "metadata": {},
     "output_type": "execute_result"
    }
   ],
   "source": [
    "crossVal2D = cross_val_score(sgd_clf2, X2D_train, y_train, cv=3, scoring=\"accuracy\")\n",
    "\n",
    "crossVal2D"
   ]
  },
  {
   "cell_type": "code",
   "execution_count": 30,
   "id": "0e13601b-5634-4e26-9cc3-25b85afb4ad8",
   "metadata": {},
   "outputs": [
    {
     "name": "stdout",
     "output_type": "stream",
     "text": [
      "Training score:  0.91\n"
     ]
    }
   ],
   "source": [
    "score = sgd_clf2.score(X2D_train, y_train_1)\n",
    "print(\"Training score: \", round(score,2)) \n"
   ]
  },
  {
   "cell_type": "code",
   "execution_count": 31,
   "id": "d71f3d90-c019-4c21-8336-e1fdf9215147",
   "metadata": {},
   "outputs": [
    {
     "data": {
      "text/plain": [
       "array([[219333,      0],\n",
       "       [ 20513,      0]], dtype=int64)"
      ]
     },
     "execution_count": 31,
     "metadata": {},
     "output_type": "execute_result"
    }
   ],
   "source": [
    "y_train_pred = cross_val_predict(sgd_clf2, X2D_train, y_train_1, cv=3)\n",
    "\n",
    "confusion_matrix(y_train_1, y_train_pred)"
   ]
  },
  {
   "cell_type": "markdown",
   "id": "7a54f52b-659d-49cc-83ea-4366e8e684d0",
   "metadata": {},
   "source": [
    "## Aplicando PCA com Random Forest"
   ]
  },
  {
   "cell_type": "code",
   "execution_count": 32,
   "id": "913f90b3-fbf5-41de-9ee8-0cbef49add6d",
   "metadata": {},
   "outputs": [],
   "source": [
    "forest_clf = RandomForestClassifier(n_estimators=100, random_state=42)\n",
    "y_probas_forest = cross_val_predict(forest_clf, X3D_train, y_train_1, cv=3,\n",
    "                                    method=\"predict_proba\")"
   ]
  },
  {
   "cell_type": "code",
   "execution_count": 33,
   "id": "01983e8c-6f71-4f76-9a29-02655f555c37",
   "metadata": {},
   "outputs": [
    {
     "data": {
      "text/plain": [
       "array([0.90461419, 0.90592753, 0.90502577])"
      ]
     },
     "execution_count": 33,
     "metadata": {},
     "output_type": "execute_result"
    }
   ],
   "source": [
    "crossValforest = cross_val_score(forest_clf, X3D_train, y_train_1, cv=3, scoring=\"accuracy\")\n",
    "\n",
    "crossValforest\n"
   ]
  },
  {
   "cell_type": "code",
   "execution_count": 38,
   "id": "2b7b5734-71ca-43ab-8683-f44a69b3e146",
   "metadata": {},
   "outputs": [
    {
     "data": {
      "text/plain": [
       "array([[216577,   2756],\n",
       "       [ 20206,    307]], dtype=int64)"
      ]
     },
     "execution_count": 38,
     "metadata": {},
     "output_type": "execute_result"
    }
   ],
   "source": [
    "y_train_pred = cross_val_predict(forest_clf, X2D_train, y_train_1, cv=3)\n",
    "\n",
    "confusion_matrix(y_train_1, y_train_pred)"
   ]
  },
  {
   "cell_type": "code",
   "execution_count": null,
   "id": "7ef64fcc-8a15-4b51-b23a-37f52e5373e6",
   "metadata": {},
   "outputs": [],
   "source": []
  },
  {
   "cell_type": "markdown",
   "id": "d56b8cb8-8eb4-4798-ae84-e7b67debd65a",
   "metadata": {},
   "source": [
    "# PROJETO 2"
   ]
  },
  {
   "cell_type": "code",
   "execution_count": 172,
   "id": "30967d82-1b22-4d40-aee0-5b965e6aa9be",
   "metadata": {},
   "outputs": [
    {
     "data": {
      "text/html": [
       "<div>\n",
       "<style scoped>\n",
       "    .dataframe tbody tr th:only-of-type {\n",
       "        vertical-align: middle;\n",
       "    }\n",
       "\n",
       "    .dataframe tbody tr th {\n",
       "        vertical-align: top;\n",
       "    }\n",
       "\n",
       "    .dataframe thead th {\n",
       "        text-align: right;\n",
       "    }\n",
       "</style>\n",
       "<table border=\"1\" class=\"dataframe\">\n",
       "  <thead>\n",
       "    <tr style=\"text-align: right;\">\n",
       "      <th></th>\n",
       "      <th>Instituição financeira</th>\n",
       "      <th>Código</th>\n",
       "      <th>TCB</th>\n",
       "      <th>TD</th>\n",
       "      <th>TC</th>\n",
       "      <th>SR</th>\n",
       "      <th>Segmento</th>\n",
       "      <th>Cidade</th>\n",
       "      <th>UF</th>\n",
       "      <th>Data</th>\n",
       "      <th>...</th>\n",
       "      <th>Unnamed: 65</th>\n",
       "      <th>Unnamed: 66</th>\n",
       "      <th>Total Exterior Pessoa Física</th>\n",
       "      <th>EmpComFolha_perc</th>\n",
       "      <th>EmpSemFolha_perc</th>\n",
       "      <th>Veiculos_perc</th>\n",
       "      <th>Habitacao_perc</th>\n",
       "      <th>Cartao_perc</th>\n",
       "      <th>RuralAgro_perc</th>\n",
       "      <th>Outros_perc</th>\n",
       "    </tr>\n",
       "  </thead>\n",
       "  <tbody>\n",
       "    <tr>\n",
       "      <th>0</th>\n",
       "      <td>NaN</td>\n",
       "      <td>NaN</td>\n",
       "      <td>NaN</td>\n",
       "      <td>NaN</td>\n",
       "      <td>NaN</td>\n",
       "      <td>NaN</td>\n",
       "      <td>NaN</td>\n",
       "      <td>NaN</td>\n",
       "      <td>NaN</td>\n",
       "      <td>NaT</td>\n",
       "      <td>...</td>\n",
       "      <td>A vencer Acima de 5400 Dias</td>\n",
       "      <td>Total</td>\n",
       "      <td>NaN</td>\n",
       "      <td>NaN</td>\n",
       "      <td>NaN</td>\n",
       "      <td>NaN</td>\n",
       "      <td>NaN</td>\n",
       "      <td>NaN</td>\n",
       "      <td>NaN</td>\n",
       "      <td>NaN</td>\n",
       "    </tr>\n",
       "    <tr>\n",
       "      <th>1</th>\n",
       "      <td>CAIXA ECONÔMICA FEDERAL</td>\n",
       "      <td>51626.0</td>\n",
       "      <td>b1</td>\n",
       "      <td>C</td>\n",
       "      <td>1.0</td>\n",
       "      <td>S1</td>\n",
       "      <td>199.0</td>\n",
       "      <td>BRASILIA</td>\n",
       "      <td>DF</td>\n",
       "      <td>2022-06-01</td>\n",
       "      <td>...</td>\n",
       "      <td>13773</td>\n",
       "      <td>12038700</td>\n",
       "      <td>0</td>\n",
       "      <td>0.006829</td>\n",
       "      <td>0.013244</td>\n",
       "      <td>0.028510</td>\n",
       "      <td>0.002088</td>\n",
       "      <td>0.127422</td>\n",
       "      <td>0.006062</td>\n",
       "      <td>0.093555</td>\n",
       "    </tr>\n",
       "    <tr>\n",
       "      <th>2</th>\n",
       "      <td>BB</td>\n",
       "      <td>49906.0</td>\n",
       "      <td>b1</td>\n",
       "      <td>C</td>\n",
       "      <td>1.0</td>\n",
       "      <td>S1</td>\n",
       "      <td>199.0</td>\n",
       "      <td>BRASILIA</td>\n",
       "      <td>DF</td>\n",
       "      <td>2022-06-01</td>\n",
       "      <td>...</td>\n",
       "      <td>136238</td>\n",
       "      <td>11797514</td>\n",
       "      <td>3953116</td>\n",
       "      <td>0.002724</td>\n",
       "      <td>0.022412</td>\n",
       "      <td>0.008572</td>\n",
       "      <td>0.001124</td>\n",
       "      <td>0.094106</td>\n",
       "      <td>0.004523</td>\n",
       "      <td>0.057983</td>\n",
       "    </tr>\n",
       "    <tr>\n",
       "      <th>3</th>\n",
       "      <td>ITAU</td>\n",
       "      <td>10069.0</td>\n",
       "      <td>b1</td>\n",
       "      <td>C</td>\n",
       "      <td>2.0</td>\n",
       "      <td>S1</td>\n",
       "      <td>199.0</td>\n",
       "      <td>SAO PAULO</td>\n",
       "      <td>SP</td>\n",
       "      <td>2022-06-01</td>\n",
       "      <td>...</td>\n",
       "      <td>1641</td>\n",
       "      <td>29748830</td>\n",
       "      <td>83103136</td>\n",
       "      <td>0.007637</td>\n",
       "      <td>0.031341</td>\n",
       "      <td>0.016861</td>\n",
       "      <td>0.000593</td>\n",
       "      <td>0.081941</td>\n",
       "      <td>0.000569</td>\n",
       "      <td>0.088207</td>\n",
       "    </tr>\n",
       "    <tr>\n",
       "      <th>4</th>\n",
       "      <td>BRADESCO</td>\n",
       "      <td>10045.0</td>\n",
       "      <td>b1</td>\n",
       "      <td>C</td>\n",
       "      <td>2.0</td>\n",
       "      <td>S1</td>\n",
       "      <td>199.0</td>\n",
       "      <td>OSASCO</td>\n",
       "      <td>SP</td>\n",
       "      <td>2022-06-01</td>\n",
       "      <td>...</td>\n",
       "      <td>670</td>\n",
       "      <td>21548332</td>\n",
       "      <td>4701644</td>\n",
       "      <td>0.004964</td>\n",
       "      <td>0.039689</td>\n",
       "      <td>0.012786</td>\n",
       "      <td>0.000939</td>\n",
       "      <td>0.106399</td>\n",
       "      <td>0.005501</td>\n",
       "      <td>0.086420</td>\n",
       "    </tr>\n",
       "  </tbody>\n",
       "</table>\n",
       "<p>5 rows × 75 columns</p>\n",
       "</div>"
      ],
      "text/plain": [
       "    Instituição financeira   Código  TCB   TD   TC   SR  Segmento     Cidade  \\\n",
       "0                      NaN      NaN  NaN  NaN  NaN  NaN       NaN        NaN   \n",
       "1  CAIXA ECONÔMICA FEDERAL  51626.0   b1    C  1.0   S1     199.0   BRASILIA   \n",
       "2                       BB  49906.0   b1    C  1.0   S1     199.0   BRASILIA   \n",
       "3                     ITAU  10069.0   b1    C  2.0   S1     199.0  SAO PAULO   \n",
       "4                 BRADESCO  10045.0   b1    C  2.0   S1     199.0     OSASCO   \n",
       "\n",
       "    UF       Data  ...                  Unnamed: 65 Unnamed: 66  \\\n",
       "0  NaN        NaT  ...  A vencer Acima de 5400 Dias       Total   \n",
       "1   DF 2022-06-01  ...                        13773    12038700   \n",
       "2   DF 2022-06-01  ...                       136238    11797514   \n",
       "3   SP 2022-06-01  ...                         1641    29748830   \n",
       "4   SP 2022-06-01  ...                          670    21548332   \n",
       "\n",
       "  Total Exterior Pessoa Física EmpComFolha_perc EmpSemFolha_perc  \\\n",
       "0                          NaN              NaN              NaN   \n",
       "1                            0         0.006829         0.013244   \n",
       "2                      3953116         0.002724         0.022412   \n",
       "3                     83103136         0.007637         0.031341   \n",
       "4                      4701644         0.004964         0.039689   \n",
       "\n",
       "  Veiculos_perc Habitacao_perc Cartao_perc RuralAgro_perc Outros_perc  \n",
       "0           NaN            NaN         NaN            NaN         NaN  \n",
       "1      0.028510       0.002088    0.127422       0.006062    0.093555  \n",
       "2      0.008572       0.001124    0.094106       0.004523    0.057983  \n",
       "3      0.016861       0.000593    0.081941       0.000569    0.088207  \n",
       "4      0.012786       0.000939    0.106399       0.005501    0.086420  \n",
       "\n",
       "[5 rows x 75 columns]"
      ]
     },
     "execution_count": 172,
     "metadata": {},
     "output_type": "execute_result"
    }
   ],
   "source": [
    "#basebcb = pd.read_csv(r'C:\\Users\\jgjoa\\Documents\\dados2.CSV',delimiter=';',decimal=',')\n",
    "\n",
    "basebcb = pd.read_excel(r'C:\\Users\\jgjoa\\Documents\\dados.xlsx',decimal=',')\n",
    "\n",
    "basebcb.head()"
   ]
  },
  {
   "cell_type": "code",
   "execution_count": 173,
   "id": "26acdd3e-1049-42c5-bf49-754a8677c242",
   "metadata": {},
   "outputs": [
    {
     "data": {
      "text/plain": [
       "Index(['Instituição financeira', 'Código', 'TCB', 'TD', 'TC', 'SR', 'Segmento',\n",
       "       'Cidade', 'UF', 'Data', 'Total da Carteira de Pessoa Física',\n",
       "       'Empréstimo com Consignação em Folha', 'Unnamed: 12', 'Unnamed: 13',\n",
       "       'Unnamed: 14', 'Unnamed: 15', 'Unnamed: 16', 'Unnamed: 17',\n",
       "       'Unnamed: 18', 'Empréstimo sem Consignação em Folha', 'Unnamed: 20',\n",
       "       'Unnamed: 21', 'Unnamed: 22', 'Unnamed: 23', 'Unnamed: 24',\n",
       "       'Unnamed: 25', 'Unnamed: 26', 'Veículos', 'Unnamed: 28', 'Unnamed: 29',\n",
       "       'Unnamed: 30', 'Unnamed: 31', 'Unnamed: 32', 'Unnamed: 33',\n",
       "       'Unnamed: 34', 'Habitação', 'Unnamed: 36', 'Unnamed: 37', 'Unnamed: 38',\n",
       "       'Unnamed: 39', 'Unnamed: 40', 'Unnamed: 41', 'Unnamed: 42',\n",
       "       'Cartão de Crédito', 'Unnamed: 44', 'Unnamed: 45', 'Unnamed: 46',\n",
       "       'Unnamed: 47', 'Unnamed: 48', 'Unnamed: 49', 'Unnamed: 50',\n",
       "       'Rural e Agroindustrial', 'Unnamed: 52', 'Unnamed: 53', 'Unnamed: 54',\n",
       "       'Unnamed: 55', 'Unnamed: 56', 'Unnamed: 57', 'Unnamed: 58',\n",
       "       'Outros Créditos', 'Unnamed: 60', 'Unnamed: 61', 'Unnamed: 62',\n",
       "       'Unnamed: 63', 'Unnamed: 64', 'Unnamed: 65', 'Unnamed: 66',\n",
       "       'Total Exterior Pessoa Física', 'EmpComFolha_perc', 'EmpSemFolha_perc',\n",
       "       'Veiculos_perc', 'Habitacao_perc', 'Cartao_perc', 'RuralAgro_perc',\n",
       "       'Outros_perc'],\n",
       "      dtype='object')"
      ]
     },
     "execution_count": 173,
     "metadata": {},
     "output_type": "execute_result"
    }
   ],
   "source": [
    "basebcb.columns"
   ]
  },
  {
   "cell_type": "code",
   "execution_count": 174,
   "id": "51327807-758b-4f2c-8a66-26e88aa8e542",
   "metadata": {},
   "outputs": [],
   "source": [
    "basebcb = basebcb.rename(columns={\n",
    "'Empréstimo com Consignação em Folha': 'EmpComFolha_v15', \n",
    "'Unnamed: 12': 'EmpComFolha_v90',\n",
    "'Unnamed: 13': 'EmpComFolha_v91a360',\n",
    "'Unnamed: 14': 'EmpComFolha_v361a1080',\n",
    "'Unnamed: 15': 'EmpComFolha_v1081a1800',\n",
    "'Unnamed: 16': 'EmpComFolha_v1081a5400',\n",
    "'Unnamed: 17': 'EmpComFolha_v1081',\n",
    "'Unnamed: 18': 'EmpComFolha_Total',\n",
    "'Empréstimo sem Consignação em Folha': 'EmpSemFolha_v15',    \n",
    "'Unnamed: 20': 'EmpSemFolha_v90',\n",
    "'Unnamed: 21': 'EmpSemFolha_v91a360',\n",
    "'Unnamed: 22': 'EmpSemFolha_v361a1080',\n",
    "'Unnamed: 23': 'EmpSemFolha_v1081a1800',\n",
    "'Unnamed: 24': 'EmpSemFolha_v1081a5400',\n",
    "'Unnamed: 25': 'EmpSemFolha_v1081',\n",
    "'Unnamed: 26': 'EmpSemFolha_Total', \n",
    "'Veículos': 'Veiculos_v15',    \n",
    "'Unnamed: 28': 'Veiculos_v90',\n",
    "'Unnamed: 29': 'Veiculos_v91a360',\n",
    "'Unnamed: 30': 'Veiculos_v361a1080',\n",
    "'Unnamed: 31': 'Veiculos_v1081a1800',\n",
    "'Unnamed: 32': 'Veiculos_v1081a5400',\n",
    "'Unnamed: 33': 'Veiculos_v1081',\n",
    "'Unnamed: 34': 'Veiculos_Total',\n",
    "'Habitação': 'Habitacao_v15',    \n",
    "'Unnamed: 36': 'Habitacao_v90',\n",
    "'Unnamed: 37': 'Habitacao_v91a360',\n",
    "'Unnamed: 38': 'Habitacao_v361a1080',\n",
    "'Unnamed: 39': 'Habitacao_v1081a1800',\n",
    "'Unnamed: 40': 'Habitacao_v1081a5400',\n",
    "'Unnamed: 41': 'Habitacao_v1081',\n",
    "'Unnamed: 42': 'Habitacao_Total',\n",
    "'Cartão de Crédito': 'Cartao_v15',    \n",
    "'Unnamed: 44': 'Cartao_v90',\n",
    "'Unnamed: 45': 'Cartao_v91a360',\n",
    "'Unnamed: 46': 'Cartao_v361a1080',\n",
    "'Unnamed: 47': 'Cartao_v1081a1800',\n",
    "'Unnamed: 48': 'Cartao_v1081a5400',\n",
    "'Unnamed: 49': 'Cartao_v1081',\n",
    "'Unnamed: 50': 'Cartao_Total',\n",
    "'Rural e Agroindustrial': 'RuralAgro_v15',    \n",
    "'Unnamed: 52': 'RuralAgro_v90',\n",
    "'Unnamed: 53': 'RuralAgro_v91a360',\n",
    "'Unnamed: 54': 'RuralAgro_v361a1080',\n",
    "'Unnamed: 55': 'RuralAgro_v1081a1800',\n",
    "'Unnamed: 56': 'RuralAgro_v1081a5400',\n",
    "'Unnamed: 57': 'RuralAgro_v1081',\n",
    "'Unnamed: 58': 'RuralAgro_Total',\n",
    "'Outros Créditos': 'Outros_v15',    \n",
    "'Unnamed: 60': 'Outros_v90',\n",
    "'Unnamed: 61': 'Outros_v91a360',\n",
    "'Unnamed: 62': 'Outros_v361a1080',\n",
    "'Unnamed: 63': 'Outros_v1081a1800',\n",
    "'Unnamed: 64': 'Outros_v1081a5400',\n",
    "'Unnamed: 65': 'Outros_v1081',\n",
    "'Unnamed: 66': 'Outros_Total',\n",
    "})\n"
   ]
  },
  {
   "cell_type": "code",
   "execution_count": 175,
   "id": "8bdcc8eb-0f2a-44c3-be6a-3c7e4d09c6cd",
   "metadata": {},
   "outputs": [
    {
     "data": {
      "text/plain": [
       "0           Total\n",
       "1        12038700\n",
       "2        11797514\n",
       "3        29748830\n",
       "4        21548332\n",
       "          ...    \n",
       "1363          NaN\n",
       "1364    119781084\n",
       "1365       0.7241\n",
       "1366     45629366\n",
       "1367       0.2759\n",
       "Name: Outros_Total, Length: 1368, dtype: object"
      ]
     },
     "execution_count": 175,
     "metadata": {},
     "output_type": "execute_result"
    }
   ],
   "source": [
    "basebcb['Outros_Total']"
   ]
  },
  {
   "cell_type": "code",
   "execution_count": 176,
   "id": "d549a95d-2fe2-4057-860d-3a8837e0d59c",
   "metadata": {},
   "outputs": [],
   "source": [
    "basebcb.drop(labels=0, axis=0,inplace=True)"
   ]
  },
  {
   "cell_type": "code",
   "execution_count": 177,
   "id": "f6042677-49c7-4d33-aac6-3611b4c4bd5c",
   "metadata": {},
   "outputs": [],
   "source": [
    "basebcb.drop(labels=range(1339, 1368), axis=0,inplace=True)"
   ]
  },
  {
   "cell_type": "code",
   "execution_count": 178,
   "id": "56af2e31-3ec5-49d3-8117-c71916d6fbb4",
   "metadata": {},
   "outputs": [
    {
     "data": {
      "text/html": [
       "<div>\n",
       "<style scoped>\n",
       "    .dataframe tbody tr th:only-of-type {\n",
       "        vertical-align: middle;\n",
       "    }\n",
       "\n",
       "    .dataframe tbody tr th {\n",
       "        vertical-align: top;\n",
       "    }\n",
       "\n",
       "    .dataframe thead th {\n",
       "        text-align: right;\n",
       "    }\n",
       "</style>\n",
       "<table border=\"1\" class=\"dataframe\">\n",
       "  <thead>\n",
       "    <tr style=\"text-align: right;\">\n",
       "      <th></th>\n",
       "      <th>Instituição financeira</th>\n",
       "      <th>Código</th>\n",
       "      <th>TCB</th>\n",
       "      <th>TD</th>\n",
       "      <th>TC</th>\n",
       "      <th>SR</th>\n",
       "      <th>Segmento</th>\n",
       "      <th>Cidade</th>\n",
       "      <th>UF</th>\n",
       "      <th>Data</th>\n",
       "      <th>...</th>\n",
       "      <th>Outros_v1081</th>\n",
       "      <th>Outros_Total</th>\n",
       "      <th>Total Exterior Pessoa Física</th>\n",
       "      <th>EmpComFolha_perc</th>\n",
       "      <th>EmpSemFolha_perc</th>\n",
       "      <th>Veiculos_perc</th>\n",
       "      <th>Habitacao_perc</th>\n",
       "      <th>Cartao_perc</th>\n",
       "      <th>RuralAgro_perc</th>\n",
       "      <th>Outros_perc</th>\n",
       "    </tr>\n",
       "  </thead>\n",
       "  <tbody>\n",
       "    <tr>\n",
       "      <th>1334</th>\n",
       "      <td>FLAGSHIP INSTITUICAO DE PAGAMENTOS LTDA</td>\n",
       "      <td>23114447.0</td>\n",
       "      <td>n4</td>\n",
       "      <td>I</td>\n",
       "      <td>2.0</td>\n",
       "      <td>NaN</td>\n",
       "      <td>41.0</td>\n",
       "      <td>SAO PAULO</td>\n",
       "      <td>SP</td>\n",
       "      <td>2022-06-01</td>\n",
       "      <td>...</td>\n",
       "      <td>NI</td>\n",
       "      <td>NI</td>\n",
       "      <td>NI</td>\n",
       "      <td>0.0</td>\n",
       "      <td>0.0</td>\n",
       "      <td>0.0</td>\n",
       "      <td>0.0</td>\n",
       "      <td>0.0</td>\n",
       "      <td>0.0</td>\n",
       "      <td>0.0</td>\n",
       "    </tr>\n",
       "    <tr>\n",
       "      <th>1335</th>\n",
       "      <td>HINOVA PAY INSTITUICAO DE PAGAMENTO S.A.</td>\n",
       "      <td>27970567.0</td>\n",
       "      <td>n4</td>\n",
       "      <td>I</td>\n",
       "      <td>2.0</td>\n",
       "      <td>NaN</td>\n",
       "      <td>41.0</td>\n",
       "      <td>BELO HORIZONTE</td>\n",
       "      <td>MG</td>\n",
       "      <td>2022-06-01</td>\n",
       "      <td>...</td>\n",
       "      <td>NI</td>\n",
       "      <td>NI</td>\n",
       "      <td>NI</td>\n",
       "      <td>0.0</td>\n",
       "      <td>0.0</td>\n",
       "      <td>0.0</td>\n",
       "      <td>0.0</td>\n",
       "      <td>0.0</td>\n",
       "      <td>0.0</td>\n",
       "      <td>0.0</td>\n",
       "    </tr>\n",
       "    <tr>\n",
       "      <th>1336</th>\n",
       "      <td>BANQI INSTITUICAO DE PAGAMENTO LTDA.</td>\n",
       "      <td>30723871.0</td>\n",
       "      <td>n4</td>\n",
       "      <td>I</td>\n",
       "      <td>2.0</td>\n",
       "      <td>S5</td>\n",
       "      <td>41.0</td>\n",
       "      <td>SAO PAULO</td>\n",
       "      <td>SP</td>\n",
       "      <td>2022-06-01</td>\n",
       "      <td>...</td>\n",
       "      <td>NI</td>\n",
       "      <td>NI</td>\n",
       "      <td>NI</td>\n",
       "      <td>0.0</td>\n",
       "      <td>0.0</td>\n",
       "      <td>0.0</td>\n",
       "      <td>0.0</td>\n",
       "      <td>0.0</td>\n",
       "      <td>0.0</td>\n",
       "      <td>0.0</td>\n",
       "    </tr>\n",
       "    <tr>\n",
       "      <th>1337</th>\n",
       "      <td>SHPP BRASIL INSTITUIÇÃO DE PAGAMENTO E SERVIÇO...</td>\n",
       "      <td>38372267.0</td>\n",
       "      <td>n4</td>\n",
       "      <td>I</td>\n",
       "      <td>2.0</td>\n",
       "      <td>NaN</td>\n",
       "      <td>41.0</td>\n",
       "      <td>SAO PAULO</td>\n",
       "      <td>SP</td>\n",
       "      <td>2022-06-01</td>\n",
       "      <td>...</td>\n",
       "      <td>NI</td>\n",
       "      <td>NI</td>\n",
       "      <td>NI</td>\n",
       "      <td>0.0</td>\n",
       "      <td>0.0</td>\n",
       "      <td>0.0</td>\n",
       "      <td>0.0</td>\n",
       "      <td>0.0</td>\n",
       "      <td>0.0</td>\n",
       "      <td>0.0</td>\n",
       "    </tr>\n",
       "    <tr>\n",
       "      <th>1338</th>\n",
       "      <td>CRYSTAL BMC - INSTITUICAO DE PAGAMENTO LTDA.</td>\n",
       "      <td>43561343.0</td>\n",
       "      <td>n4</td>\n",
       "      <td>I</td>\n",
       "      <td>2.0</td>\n",
       "      <td>NaN</td>\n",
       "      <td>41.0</td>\n",
       "      <td>BARUERI</td>\n",
       "      <td>SP</td>\n",
       "      <td>2022-06-01</td>\n",
       "      <td>...</td>\n",
       "      <td>NI</td>\n",
       "      <td>NI</td>\n",
       "      <td>NI</td>\n",
       "      <td>0.0</td>\n",
       "      <td>0.0</td>\n",
       "      <td>0.0</td>\n",
       "      <td>0.0</td>\n",
       "      <td>0.0</td>\n",
       "      <td>0.0</td>\n",
       "      <td>0.0</td>\n",
       "    </tr>\n",
       "  </tbody>\n",
       "</table>\n",
       "<p>5 rows × 75 columns</p>\n",
       "</div>"
      ],
      "text/plain": [
       "                                 Instituição financeira      Código TCB TD  \\\n",
       "1334            FLAGSHIP INSTITUICAO DE PAGAMENTOS LTDA  23114447.0  n4  I   \n",
       "1335           HINOVA PAY INSTITUICAO DE PAGAMENTO S.A.  27970567.0  n4  I   \n",
       "1336               BANQI INSTITUICAO DE PAGAMENTO LTDA.  30723871.0  n4  I   \n",
       "1337  SHPP BRASIL INSTITUIÇÃO DE PAGAMENTO E SERVIÇO...  38372267.0  n4  I   \n",
       "1338       CRYSTAL BMC - INSTITUICAO DE PAGAMENTO LTDA.  43561343.0  n4  I   \n",
       "\n",
       "       TC   SR  Segmento          Cidade  UF       Data  ... Outros_v1081  \\\n",
       "1334  2.0  NaN      41.0       SAO PAULO  SP 2022-06-01  ...           NI   \n",
       "1335  2.0  NaN      41.0  BELO HORIZONTE  MG 2022-06-01  ...           NI   \n",
       "1336  2.0   S5      41.0       SAO PAULO  SP 2022-06-01  ...           NI   \n",
       "1337  2.0  NaN      41.0       SAO PAULO  SP 2022-06-01  ...           NI   \n",
       "1338  2.0  NaN      41.0         BARUERI  SP 2022-06-01  ...           NI   \n",
       "\n",
       "     Outros_Total Total Exterior Pessoa Física EmpComFolha_perc  \\\n",
       "1334           NI                           NI              0.0   \n",
       "1335           NI                           NI              0.0   \n",
       "1336           NI                           NI              0.0   \n",
       "1337           NI                           NI              0.0   \n",
       "1338           NI                           NI              0.0   \n",
       "\n",
       "     EmpSemFolha_perc Veiculos_perc Habitacao_perc Cartao_perc RuralAgro_perc  \\\n",
       "1334              0.0           0.0            0.0         0.0            0.0   \n",
       "1335              0.0           0.0            0.0         0.0            0.0   \n",
       "1336              0.0           0.0            0.0         0.0            0.0   \n",
       "1337              0.0           0.0            0.0         0.0            0.0   \n",
       "1338              0.0           0.0            0.0         0.0            0.0   \n",
       "\n",
       "     Outros_perc  \n",
       "1334         0.0  \n",
       "1335         0.0  \n",
       "1336         0.0  \n",
       "1337         0.0  \n",
       "1338         0.0  \n",
       "\n",
       "[5 rows x 75 columns]"
      ]
     },
     "execution_count": 178,
     "metadata": {},
     "output_type": "execute_result"
    }
   ],
   "source": [
    "basebcb.tail()"
   ]
  },
  {
   "cell_type": "code",
   "execution_count": 179,
   "id": "8a5319a3-6059-4dfc-bb38-7cf5743c27e6",
   "metadata": {},
   "outputs": [
    {
     "data": {
      "text/plain": [
       "Index(['Instituição financeira', 'Código', 'TCB', 'TD', 'TC', 'SR', 'Segmento',\n",
       "       'Cidade', 'UF', 'Data', 'Total da Carteira de Pessoa Física',\n",
       "       'EmpComFolha_v15', 'EmpComFolha_v90', 'EmpComFolha_v91a360',\n",
       "       'EmpComFolha_v361a1080', 'EmpComFolha_v1081a1800',\n",
       "       'EmpComFolha_v1081a5400', 'EmpComFolha_v1081', 'EmpComFolha_Total',\n",
       "       'EmpSemFolha_v15', 'EmpSemFolha_v90', 'EmpSemFolha_v91a360',\n",
       "       'EmpSemFolha_v361a1080', 'EmpSemFolha_v1081a1800',\n",
       "       'EmpSemFolha_v1081a5400', 'EmpSemFolha_v1081', 'EmpSemFolha_Total',\n",
       "       'Veiculos_v15', 'Veiculos_v90', 'Veiculos_v91a360',\n",
       "       'Veiculos_v361a1080', 'Veiculos_v1081a1800', 'Veiculos_v1081a5400',\n",
       "       'Veiculos_v1081', 'Veiculos_Total', 'Habitacao_v15', 'Habitacao_v90',\n",
       "       'Habitacao_v91a360', 'Habitacao_v361a1080', 'Habitacao_v1081a1800',\n",
       "       'Habitacao_v1081a5400', 'Habitacao_v1081', 'Habitacao_Total',\n",
       "       'Cartao_v15', 'Cartao_v90', 'Cartao_v91a360', 'Cartao_v361a1080',\n",
       "       'Cartao_v1081a1800', 'Cartao_v1081a5400', 'Cartao_v1081',\n",
       "       'Cartao_Total', 'RuralAgro_v15', 'RuralAgro_v90', 'RuralAgro_v91a360',\n",
       "       'RuralAgro_v361a1080', 'RuralAgro_v1081a1800', 'RuralAgro_v1081a5400',\n",
       "       'RuralAgro_v1081', 'RuralAgro_Total', 'Outros_v15', 'Outros_v90',\n",
       "       'Outros_v91a360', 'Outros_v361a1080', 'Outros_v1081a1800',\n",
       "       'Outros_v1081a5400', 'Outros_v1081', 'Outros_Total',\n",
       "       'Total Exterior Pessoa Física', 'EmpComFolha_perc', 'EmpSemFolha_perc',\n",
       "       'Veiculos_perc', 'Habitacao_perc', 'Cartao_perc', 'RuralAgro_perc',\n",
       "       'Outros_perc'],\n",
       "      dtype='object')"
      ]
     },
     "execution_count": 179,
     "metadata": {},
     "output_type": "execute_result"
    }
   ],
   "source": [
    "basebcb.columns"
   ]
  },
  {
   "cell_type": "code",
   "execution_count": 180,
   "id": "072aca9c-f878-462d-88ea-db4e85e5e20a",
   "metadata": {},
   "outputs": [
    {
     "data": {
      "text/html": [
       "<div>\n",
       "<style scoped>\n",
       "    .dataframe tbody tr th:only-of-type {\n",
       "        vertical-align: middle;\n",
       "    }\n",
       "\n",
       "    .dataframe tbody tr th {\n",
       "        vertical-align: top;\n",
       "    }\n",
       "\n",
       "    .dataframe thead th {\n",
       "        text-align: right;\n",
       "    }\n",
       "</style>\n",
       "<table border=\"1\" class=\"dataframe\">\n",
       "  <thead>\n",
       "    <tr style=\"text-align: right;\">\n",
       "      <th></th>\n",
       "      <th>Instituição financeira</th>\n",
       "      <th>Código</th>\n",
       "      <th>TCB</th>\n",
       "      <th>TD</th>\n",
       "      <th>TC</th>\n",
       "      <th>SR</th>\n",
       "      <th>Segmento</th>\n",
       "      <th>Cidade</th>\n",
       "      <th>UF</th>\n",
       "      <th>Data</th>\n",
       "      <th>...</th>\n",
       "      <th>Outros_v1081</th>\n",
       "      <th>Outros_Total</th>\n",
       "      <th>Total Exterior Pessoa Física</th>\n",
       "      <th>EmpComFolha_perc</th>\n",
       "      <th>EmpSemFolha_perc</th>\n",
       "      <th>Veiculos_perc</th>\n",
       "      <th>Habitacao_perc</th>\n",
       "      <th>Cartao_perc</th>\n",
       "      <th>RuralAgro_perc</th>\n",
       "      <th>Outros_perc</th>\n",
       "    </tr>\n",
       "  </thead>\n",
       "  <tbody>\n",
       "    <tr>\n",
       "      <th>1</th>\n",
       "      <td>CAIXA ECONÔMICA FEDERAL</td>\n",
       "      <td>51626.0</td>\n",
       "      <td>b1</td>\n",
       "      <td>C</td>\n",
       "      <td>1.0</td>\n",
       "      <td>S1</td>\n",
       "      <td>199.0</td>\n",
       "      <td>BRASILIA</td>\n",
       "      <td>DF</td>\n",
       "      <td>2022-06-01</td>\n",
       "      <td>...</td>\n",
       "      <td>13773</td>\n",
       "      <td>12038700</td>\n",
       "      <td>0</td>\n",
       "      <td>0.006829</td>\n",
       "      <td>0.013244</td>\n",
       "      <td>0.028510</td>\n",
       "      <td>0.002088</td>\n",
       "      <td>0.127422</td>\n",
       "      <td>0.006062</td>\n",
       "      <td>0.093555</td>\n",
       "    </tr>\n",
       "    <tr>\n",
       "      <th>2</th>\n",
       "      <td>BB</td>\n",
       "      <td>49906.0</td>\n",
       "      <td>b1</td>\n",
       "      <td>C</td>\n",
       "      <td>1.0</td>\n",
       "      <td>S1</td>\n",
       "      <td>199.0</td>\n",
       "      <td>BRASILIA</td>\n",
       "      <td>DF</td>\n",
       "      <td>2022-06-01</td>\n",
       "      <td>...</td>\n",
       "      <td>136238</td>\n",
       "      <td>11797514</td>\n",
       "      <td>3953116</td>\n",
       "      <td>0.002724</td>\n",
       "      <td>0.022412</td>\n",
       "      <td>0.008572</td>\n",
       "      <td>0.001124</td>\n",
       "      <td>0.094106</td>\n",
       "      <td>0.004523</td>\n",
       "      <td>0.057983</td>\n",
       "    </tr>\n",
       "    <tr>\n",
       "      <th>3</th>\n",
       "      <td>ITAU</td>\n",
       "      <td>10069.0</td>\n",
       "      <td>b1</td>\n",
       "      <td>C</td>\n",
       "      <td>2.0</td>\n",
       "      <td>S1</td>\n",
       "      <td>199.0</td>\n",
       "      <td>SAO PAULO</td>\n",
       "      <td>SP</td>\n",
       "      <td>2022-06-01</td>\n",
       "      <td>...</td>\n",
       "      <td>1641</td>\n",
       "      <td>29748830</td>\n",
       "      <td>83103136</td>\n",
       "      <td>0.007637</td>\n",
       "      <td>0.031341</td>\n",
       "      <td>0.016861</td>\n",
       "      <td>0.000593</td>\n",
       "      <td>0.081941</td>\n",
       "      <td>0.000569</td>\n",
       "      <td>0.088207</td>\n",
       "    </tr>\n",
       "    <tr>\n",
       "      <th>4</th>\n",
       "      <td>BRADESCO</td>\n",
       "      <td>10045.0</td>\n",
       "      <td>b1</td>\n",
       "      <td>C</td>\n",
       "      <td>2.0</td>\n",
       "      <td>S1</td>\n",
       "      <td>199.0</td>\n",
       "      <td>OSASCO</td>\n",
       "      <td>SP</td>\n",
       "      <td>2022-06-01</td>\n",
       "      <td>...</td>\n",
       "      <td>670</td>\n",
       "      <td>21548332</td>\n",
       "      <td>4701644</td>\n",
       "      <td>0.004964</td>\n",
       "      <td>0.039689</td>\n",
       "      <td>0.012786</td>\n",
       "      <td>0.000939</td>\n",
       "      <td>0.106399</td>\n",
       "      <td>0.005501</td>\n",
       "      <td>0.086420</td>\n",
       "    </tr>\n",
       "    <tr>\n",
       "      <th>5</th>\n",
       "      <td>SANTANDER</td>\n",
       "      <td>30379.0</td>\n",
       "      <td>b1</td>\n",
       "      <td>C</td>\n",
       "      <td>3.0</td>\n",
       "      <td>S1</td>\n",
       "      <td>199.0</td>\n",
       "      <td>SAO PAULO</td>\n",
       "      <td>SP</td>\n",
       "      <td>2022-06-01</td>\n",
       "      <td>...</td>\n",
       "      <td>151958</td>\n",
       "      <td>32140829</td>\n",
       "      <td>3515239</td>\n",
       "      <td>0.019424</td>\n",
       "      <td>0.079816</td>\n",
       "      <td>0.016462</td>\n",
       "      <td>0.001393</td>\n",
       "      <td>0.061081</td>\n",
       "      <td>0.003144</td>\n",
       "      <td>0.083495</td>\n",
       "    </tr>\n",
       "  </tbody>\n",
       "</table>\n",
       "<p>5 rows × 75 columns</p>\n",
       "</div>"
      ],
      "text/plain": [
       "    Instituição financeira   Código TCB TD   TC  SR  Segmento     Cidade  UF  \\\n",
       "1  CAIXA ECONÔMICA FEDERAL  51626.0  b1  C  1.0  S1     199.0   BRASILIA  DF   \n",
       "2                       BB  49906.0  b1  C  1.0  S1     199.0   BRASILIA  DF   \n",
       "3                     ITAU  10069.0  b1  C  2.0  S1     199.0  SAO PAULO  SP   \n",
       "4                 BRADESCO  10045.0  b1  C  2.0  S1     199.0     OSASCO  SP   \n",
       "5                SANTANDER  30379.0  b1  C  3.0  S1     199.0  SAO PAULO  SP   \n",
       "\n",
       "        Data  ... Outros_v1081 Outros_Total Total Exterior Pessoa Física  \\\n",
       "1 2022-06-01  ...        13773     12038700                            0   \n",
       "2 2022-06-01  ...       136238     11797514                      3953116   \n",
       "3 2022-06-01  ...         1641     29748830                     83103136   \n",
       "4 2022-06-01  ...          670     21548332                      4701644   \n",
       "5 2022-06-01  ...       151958     32140829                      3515239   \n",
       "\n",
       "  EmpComFolha_perc EmpSemFolha_perc Veiculos_perc Habitacao_perc Cartao_perc  \\\n",
       "1         0.006829         0.013244      0.028510       0.002088    0.127422   \n",
       "2         0.002724         0.022412      0.008572       0.001124    0.094106   \n",
       "3         0.007637         0.031341      0.016861       0.000593    0.081941   \n",
       "4         0.004964         0.039689      0.012786       0.000939    0.106399   \n",
       "5         0.019424         0.079816      0.016462       0.001393    0.061081   \n",
       "\n",
       "  RuralAgro_perc Outros_perc  \n",
       "1       0.006062    0.093555  \n",
       "2       0.004523    0.057983  \n",
       "3       0.000569    0.088207  \n",
       "4       0.005501    0.086420  \n",
       "5       0.003144    0.083495  \n",
       "\n",
       "[5 rows x 75 columns]"
      ]
     },
     "execution_count": 180,
     "metadata": {},
     "output_type": "execute_result"
    }
   ],
   "source": [
    "basebcb.head()"
   ]
  },
  {
   "cell_type": "code",
   "execution_count": 181,
   "id": "845d5ece-84df-4e34-9e73-0b8481311dac",
   "metadata": {},
   "outputs": [],
   "source": [
    "basebcb = basebcb[basebcb.EmpComFolha_v15!=\"NI\"]\n",
    "basebcb = basebcb.dropna()"
   ]
  },
  {
   "cell_type": "code",
   "execution_count": 189,
   "id": "c21a561a-bb11-4f8e-9ca9-5115fc2fb74e",
   "metadata": {},
   "outputs": [
    {
     "data": {
      "text/html": [
       "<div>\n",
       "<style scoped>\n",
       "    .dataframe tbody tr th:only-of-type {\n",
       "        vertical-align: middle;\n",
       "    }\n",
       "\n",
       "    .dataframe tbody tr th {\n",
       "        vertical-align: top;\n",
       "    }\n",
       "\n",
       "    .dataframe thead th {\n",
       "        text-align: right;\n",
       "    }\n",
       "</style>\n",
       "<table border=\"1\" class=\"dataframe\">\n",
       "  <thead>\n",
       "    <tr style=\"text-align: right;\">\n",
       "      <th></th>\n",
       "      <th>Instituição financeira</th>\n",
       "      <th>Código</th>\n",
       "      <th>TCB</th>\n",
       "      <th>TD</th>\n",
       "      <th>TC</th>\n",
       "      <th>SR</th>\n",
       "      <th>Segmento</th>\n",
       "      <th>Cidade</th>\n",
       "      <th>UF</th>\n",
       "      <th>Data</th>\n",
       "      <th>...</th>\n",
       "      <th>Outros_v1081</th>\n",
       "      <th>Outros_Total</th>\n",
       "      <th>Total Exterior Pessoa Física</th>\n",
       "      <th>EmpComFolha_perc</th>\n",
       "      <th>EmpSemFolha_perc</th>\n",
       "      <th>Veiculos_perc</th>\n",
       "      <th>Habitacao_perc</th>\n",
       "      <th>Cartao_perc</th>\n",
       "      <th>RuralAgro_perc</th>\n",
       "      <th>Outros_perc</th>\n",
       "    </tr>\n",
       "  </thead>\n",
       "  <tbody>\n",
       "    <tr>\n",
       "      <th>1307</th>\n",
       "      <td>COOPERATIVA CENTRAL DE ECONOMIA E CRÉDITO MÚTU...</td>\n",
       "      <td>86774775.0</td>\n",
       "      <td>b3C</td>\n",
       "      <td>I</td>\n",
       "      <td>2.0</td>\n",
       "      <td>S4</td>\n",
       "      <td>9.0</td>\n",
       "      <td>RIO DE JANEIRO</td>\n",
       "      <td>RJ</td>\n",
       "      <td>2022-06-01</td>\n",
       "      <td>...</td>\n",
       "      <td>0</td>\n",
       "      <td>0</td>\n",
       "      <td>0</td>\n",
       "      <td>0.0</td>\n",
       "      <td>0.0</td>\n",
       "      <td>0.0</td>\n",
       "      <td>0.0</td>\n",
       "      <td>0.0</td>\n",
       "      <td>0.0</td>\n",
       "      <td>0.0</td>\n",
       "    </tr>\n",
       "    <tr>\n",
       "      <th>1308</th>\n",
       "      <td>CPCI - COMPANHIA DE CRÉDITO IMOBILIÁRIO S/A</td>\n",
       "      <td>87091716.0</td>\n",
       "      <td>n1</td>\n",
       "      <td>I</td>\n",
       "      <td>2.0</td>\n",
       "      <td>S5</td>\n",
       "      <td>31.0</td>\n",
       "      <td>PORTO ALEGRE</td>\n",
       "      <td>RS</td>\n",
       "      <td>2022-06-01</td>\n",
       "      <td>...</td>\n",
       "      <td>0</td>\n",
       "      <td>0</td>\n",
       "      <td>0</td>\n",
       "      <td>0.0</td>\n",
       "      <td>0.0</td>\n",
       "      <td>0.0</td>\n",
       "      <td>0.0</td>\n",
       "      <td>0.0</td>\n",
       "      <td>0.0</td>\n",
       "      <td>0.0</td>\n",
       "    </tr>\n",
       "    <tr>\n",
       "      <th>1313</th>\n",
       "      <td>FINANSINOS S.A. CREDITO, FINANCIAMENTO E INVES...</td>\n",
       "      <td>91669747.0</td>\n",
       "      <td>n1</td>\n",
       "      <td>I</td>\n",
       "      <td>2.0</td>\n",
       "      <td>S5</td>\n",
       "      <td>14.0</td>\n",
       "      <td>NOVO HAMBURGO</td>\n",
       "      <td>RS</td>\n",
       "      <td>2022-06-01</td>\n",
       "      <td>...</td>\n",
       "      <td>0</td>\n",
       "      <td>0</td>\n",
       "      <td>0</td>\n",
       "      <td>0.0</td>\n",
       "      <td>0.0</td>\n",
       "      <td>0.0</td>\n",
       "      <td>0.0</td>\n",
       "      <td>0.0</td>\n",
       "      <td>0.0</td>\n",
       "      <td>0.0</td>\n",
       "    </tr>\n",
       "    <tr>\n",
       "      <th>1318</th>\n",
       "      <td>SOLIDEZ - CORRETORA DE CÂMBIO, TÍTULOS E VALOR...</td>\n",
       "      <td>96477906.0</td>\n",
       "      <td>n2</td>\n",
       "      <td>I</td>\n",
       "      <td>2.0</td>\n",
       "      <td>S4</td>\n",
       "      <td>15.0</td>\n",
       "      <td>SAO PAULO</td>\n",
       "      <td>SP</td>\n",
       "      <td>2022-06-01</td>\n",
       "      <td>...</td>\n",
       "      <td>0</td>\n",
       "      <td>0</td>\n",
       "      <td>0</td>\n",
       "      <td>0.0</td>\n",
       "      <td>0.0</td>\n",
       "      <td>0.0</td>\n",
       "      <td>0.0</td>\n",
       "      <td>0.0</td>\n",
       "      <td>0.0</td>\n",
       "      <td>0.0</td>\n",
       "    </tr>\n",
       "    <tr>\n",
       "      <th>1319</th>\n",
       "      <td>HP FINANCIAL SERVICES ARRENDAMENTO MERCANTIL S.A.</td>\n",
       "      <td>97406706.0</td>\n",
       "      <td>n1</td>\n",
       "      <td>I</td>\n",
       "      <td>3.0</td>\n",
       "      <td>S4</td>\n",
       "      <td>19.0</td>\n",
       "      <td>BARUERI</td>\n",
       "      <td>SP</td>\n",
       "      <td>2022-06-01</td>\n",
       "      <td>...</td>\n",
       "      <td>0</td>\n",
       "      <td>0</td>\n",
       "      <td>0</td>\n",
       "      <td>0.0</td>\n",
       "      <td>0.0</td>\n",
       "      <td>0.0</td>\n",
       "      <td>0.0</td>\n",
       "      <td>0.0</td>\n",
       "      <td>0.0</td>\n",
       "      <td>0.0</td>\n",
       "    </tr>\n",
       "  </tbody>\n",
       "</table>\n",
       "<p>5 rows × 75 columns</p>\n",
       "</div>"
      ],
      "text/plain": [
       "                                 Instituição financeira      Código  TCB TD  \\\n",
       "1307  COOPERATIVA CENTRAL DE ECONOMIA E CRÉDITO MÚTU...  86774775.0  b3C  I   \n",
       "1308        CPCI - COMPANHIA DE CRÉDITO IMOBILIÁRIO S/A  87091716.0   n1  I   \n",
       "1313  FINANSINOS S.A. CREDITO, FINANCIAMENTO E INVES...  91669747.0   n1  I   \n",
       "1318  SOLIDEZ - CORRETORA DE CÂMBIO, TÍTULOS E VALOR...  96477906.0   n2  I   \n",
       "1319  HP FINANCIAL SERVICES ARRENDAMENTO MERCANTIL S.A.  97406706.0   n1  I   \n",
       "\n",
       "       TC  SR  Segmento          Cidade  UF       Data  ... Outros_v1081  \\\n",
       "1307  2.0  S4       9.0  RIO DE JANEIRO  RJ 2022-06-01  ...            0   \n",
       "1308  2.0  S5      31.0    PORTO ALEGRE  RS 2022-06-01  ...            0   \n",
       "1313  2.0  S5      14.0   NOVO HAMBURGO  RS 2022-06-01  ...            0   \n",
       "1318  2.0  S4      15.0       SAO PAULO  SP 2022-06-01  ...            0   \n",
       "1319  3.0  S4      19.0         BARUERI  SP 2022-06-01  ...            0   \n",
       "\n",
       "     Outros_Total Total Exterior Pessoa Física EmpComFolha_perc  \\\n",
       "1307            0                            0              0.0   \n",
       "1308            0                            0              0.0   \n",
       "1313            0                            0              0.0   \n",
       "1318            0                            0              0.0   \n",
       "1319            0                            0              0.0   \n",
       "\n",
       "     EmpSemFolha_perc Veiculos_perc Habitacao_perc Cartao_perc RuralAgro_perc  \\\n",
       "1307              0.0           0.0            0.0         0.0            0.0   \n",
       "1308              0.0           0.0            0.0         0.0            0.0   \n",
       "1313              0.0           0.0            0.0         0.0            0.0   \n",
       "1318              0.0           0.0            0.0         0.0            0.0   \n",
       "1319              0.0           0.0            0.0         0.0            0.0   \n",
       "\n",
       "     Outros_perc  \n",
       "1307         0.0  \n",
       "1308         0.0  \n",
       "1313         0.0  \n",
       "1318         0.0  \n",
       "1319         0.0  \n",
       "\n",
       "[5 rows x 75 columns]"
      ]
     },
     "execution_count": 189,
     "metadata": {},
     "output_type": "execute_result"
    }
   ],
   "source": [
    "basebcb.tail()"
   ]
  },
  {
   "cell_type": "code",
   "execution_count": 182,
   "id": "93d04eec-5e43-45a3-b345-c1dc82f652aa",
   "metadata": {},
   "outputs": [
    {
     "data": {
      "text/html": [
       "<div>\n",
       "<style scoped>\n",
       "    .dataframe tbody tr th:only-of-type {\n",
       "        vertical-align: middle;\n",
       "    }\n",
       "\n",
       "    .dataframe tbody tr th {\n",
       "        vertical-align: top;\n",
       "    }\n",
       "\n",
       "    .dataframe thead th {\n",
       "        text-align: right;\n",
       "    }\n",
       "</style>\n",
       "<table border=\"1\" class=\"dataframe\">\n",
       "  <thead>\n",
       "    <tr style=\"text-align: right;\">\n",
       "      <th></th>\n",
       "      <th></th>\n",
       "      <th></th>\n",
       "      <th>Código</th>\n",
       "      <th>TC</th>\n",
       "      <th>Segmento</th>\n",
       "      <th>EmpComFolha_perc</th>\n",
       "      <th>EmpSemFolha_perc</th>\n",
       "      <th>Veiculos_perc</th>\n",
       "      <th>Habitacao_perc</th>\n",
       "      <th>Cartao_perc</th>\n",
       "      <th>RuralAgro_perc</th>\n",
       "      <th>Outros_perc</th>\n",
       "    </tr>\n",
       "    <tr>\n",
       "      <th>Instituição financeira</th>\n",
       "      <th>Total da Carteira de Pessoa Física</th>\n",
       "      <th>EmpComFolha_Total</th>\n",
       "      <th></th>\n",
       "      <th></th>\n",
       "      <th></th>\n",
       "      <th></th>\n",
       "      <th></th>\n",
       "      <th></th>\n",
       "      <th></th>\n",
       "      <th></th>\n",
       "      <th></th>\n",
       "      <th></th>\n",
       "    </tr>\n",
       "  </thead>\n",
       "  <tbody>\n",
       "    <tr>\n",
       "      <th>CAIXA ECONÔMICA FEDERAL</th>\n",
       "      <th>723569731</th>\n",
       "      <th>90206639</th>\n",
       "      <td>51626.0</td>\n",
       "      <td>1.0</td>\n",
       "      <td>199.0</td>\n",
       "      <td>0.006829</td>\n",
       "      <td>0.013244</td>\n",
       "      <td>0.028510</td>\n",
       "      <td>0.002088</td>\n",
       "      <td>0.127422</td>\n",
       "      <td>0.006062</td>\n",
       "      <td>0.093555</td>\n",
       "    </tr>\n",
       "    <tr>\n",
       "      <th>BB</th>\n",
       "      <th>499579279</th>\n",
       "      <th>110683072</th>\n",
       "      <td>49906.0</td>\n",
       "      <td>1.0</td>\n",
       "      <td>199.0</td>\n",
       "      <td>0.002724</td>\n",
       "      <td>0.022412</td>\n",
       "      <td>0.008572</td>\n",
       "      <td>0.001124</td>\n",
       "      <td>0.094106</td>\n",
       "      <td>0.004523</td>\n",
       "      <td>0.057983</td>\n",
       "    </tr>\n",
       "    <tr>\n",
       "      <th>ITAU</th>\n",
       "      <th>460756358</th>\n",
       "      <th>70557258</th>\n",
       "      <td>10069.0</td>\n",
       "      <td>2.0</td>\n",
       "      <td>199.0</td>\n",
       "      <td>0.007637</td>\n",
       "      <td>0.031341</td>\n",
       "      <td>0.016861</td>\n",
       "      <td>0.000593</td>\n",
       "      <td>0.081941</td>\n",
       "      <td>0.000569</td>\n",
       "      <td>0.088207</td>\n",
       "    </tr>\n",
       "    <tr>\n",
       "      <th>BRADESCO</th>\n",
       "      <th>337705889</th>\n",
       "      <th>86078132</th>\n",
       "      <td>10045.0</td>\n",
       "      <td>2.0</td>\n",
       "      <td>199.0</td>\n",
       "      <td>0.004964</td>\n",
       "      <td>0.039689</td>\n",
       "      <td>0.012786</td>\n",
       "      <td>0.000939</td>\n",
       "      <td>0.106399</td>\n",
       "      <td>0.005501</td>\n",
       "      <td>0.086420</td>\n",
       "    </tr>\n",
       "    <tr>\n",
       "      <th>SANTANDER</th>\n",
       "      <th>272575252</th>\n",
       "      <th>54449495</th>\n",
       "      <td>30379.0</td>\n",
       "      <td>3.0</td>\n",
       "      <td>199.0</td>\n",
       "      <td>0.019424</td>\n",
       "      <td>0.079816</td>\n",
       "      <td>0.016462</td>\n",
       "      <td>0.001393</td>\n",
       "      <td>0.061081</td>\n",
       "      <td>0.003144</td>\n",
       "      <td>0.083495</td>\n",
       "    </tr>\n",
       "    <tr>\n",
       "      <th>...</th>\n",
       "      <th>...</th>\n",
       "      <th>...</th>\n",
       "      <td>...</td>\n",
       "      <td>...</td>\n",
       "      <td>...</td>\n",
       "      <td>...</td>\n",
       "      <td>...</td>\n",
       "      <td>...</td>\n",
       "      <td>...</td>\n",
       "      <td>...</td>\n",
       "      <td>...</td>\n",
       "      <td>...</td>\n",
       "    </tr>\n",
       "    <tr>\n",
       "      <th>COOPERATIVA CENTRAL DE CRÉDITO DE GOIÁS LTDA</th>\n",
       "      <th>0</th>\n",
       "      <th>0</th>\n",
       "      <td>33416108.0</td>\n",
       "      <td>2.0</td>\n",
       "      <td>9.0</td>\n",
       "      <td>0.000000</td>\n",
       "      <td>0.000000</td>\n",
       "      <td>0.000000</td>\n",
       "      <td>0.000000</td>\n",
       "      <td>0.000000</td>\n",
       "      <td>0.000000</td>\n",
       "      <td>0.000000</td>\n",
       "    </tr>\n",
       "    <tr>\n",
       "      <th>COOPERATIVA CENTRAL DE CRÉDITO DA BAHIA LTDA - SICOOB CENTRAL BA</th>\n",
       "      <th>0</th>\n",
       "      <th>0</th>\n",
       "      <td>34148882.0</td>\n",
       "      <td>2.0</td>\n",
       "      <td>9.0</td>\n",
       "      <td>0.000000</td>\n",
       "      <td>0.000000</td>\n",
       "      <td>0.000000</td>\n",
       "      <td>0.000000</td>\n",
       "      <td>0.000000</td>\n",
       "      <td>0.000000</td>\n",
       "      <td>0.000000</td>\n",
       "    </tr>\n",
       "    <tr>\n",
       "      <th>ATICCA - SOCIEDADE DE CRÉDITO DIRETO S.A.</th>\n",
       "      <th>0</th>\n",
       "      <th>0</th>\n",
       "      <td>44478623.0</td>\n",
       "      <td>2.0</td>\n",
       "      <td>43.0</td>\n",
       "      <td>0.000000</td>\n",
       "      <td>0.000000</td>\n",
       "      <td>0.000000</td>\n",
       "      <td>0.000000</td>\n",
       "      <td>0.000000</td>\n",
       "      <td>0.000000</td>\n",
       "      <td>0.000000</td>\n",
       "    </tr>\n",
       "    <tr>\n",
       "      <th>COOPERATIVA CENTRAL DE CRÉDITO DA AGRICULTURA FAMILIAR E ECONOMIA SOLIDÁRIA - ASCOOB CENTRAL</th>\n",
       "      <th>0</th>\n",
       "      <th>0</th>\n",
       "      <td>10013534.0</td>\n",
       "      <td>2.0</td>\n",
       "      <td>9.0</td>\n",
       "      <td>0.000000</td>\n",
       "      <td>0.000000</td>\n",
       "      <td>0.000000</td>\n",
       "      <td>0.000000</td>\n",
       "      <td>0.000000</td>\n",
       "      <td>0.000000</td>\n",
       "      <td>0.000000</td>\n",
       "    </tr>\n",
       "    <tr>\n",
       "      <th>FINANSINOS S.A. CREDITO, FINANCIAMENTO E INVESTIMENTO</th>\n",
       "      <th>0</th>\n",
       "      <th>0</th>\n",
       "      <td>91669747.0</td>\n",
       "      <td>2.0</td>\n",
       "      <td>14.0</td>\n",
       "      <td>0.000000</td>\n",
       "      <td>0.000000</td>\n",
       "      <td>0.000000</td>\n",
       "      <td>0.000000</td>\n",
       "      <td>0.000000</td>\n",
       "      <td>0.000000</td>\n",
       "      <td>0.000000</td>\n",
       "    </tr>\n",
       "  </tbody>\n",
       "</table>\n",
       "<p>1114 rows × 10 columns</p>\n",
       "</div>"
      ],
      "text/plain": [
       "                                                                                                             Código  \\\n",
       "Instituição financeira                             Total da Carteira de Pessoa Física EmpComFolha_Total               \n",
       "CAIXA ECONÔMICA FEDERAL                            723569731                          90206639              51626.0   \n",
       "BB                                                 499579279                          110683072             49906.0   \n",
       "ITAU                                               460756358                          70557258              10069.0   \n",
       "BRADESCO                                           337705889                          86078132              10045.0   \n",
       "SANTANDER                                          272575252                          54449495              30379.0   \n",
       "...                                                                                                             ...   \n",
       "COOPERATIVA CENTRAL DE CRÉDITO DE GOIÁS LTDA       0                                  0                  33416108.0   \n",
       "COOPERATIVA CENTRAL DE CRÉDITO DA BAHIA LTDA - ... 0                                  0                  34148882.0   \n",
       "ATICCA - SOCIEDADE DE CRÉDITO DIRETO S.A.          0                                  0                  44478623.0   \n",
       "COOPERATIVA CENTRAL DE CRÉDITO DA AGRICULTURA F... 0                                  0                  10013534.0   \n",
       "FINANSINOS S.A. CREDITO, FINANCIAMENTO E INVEST... 0                                  0                  91669747.0   \n",
       "\n",
       "                                                                                                          TC  \\\n",
       "Instituição financeira                             Total da Carteira de Pessoa Física EmpComFolha_Total        \n",
       "CAIXA ECONÔMICA FEDERAL                            723569731                          90206639           1.0   \n",
       "BB                                                 499579279                          110683072          1.0   \n",
       "ITAU                                               460756358                          70557258           2.0   \n",
       "BRADESCO                                           337705889                          86078132           2.0   \n",
       "SANTANDER                                          272575252                          54449495           3.0   \n",
       "...                                                                                                      ...   \n",
       "COOPERATIVA CENTRAL DE CRÉDITO DE GOIÁS LTDA       0                                  0                  2.0   \n",
       "COOPERATIVA CENTRAL DE CRÉDITO DA BAHIA LTDA - ... 0                                  0                  2.0   \n",
       "ATICCA - SOCIEDADE DE CRÉDITO DIRETO S.A.          0                                  0                  2.0   \n",
       "COOPERATIVA CENTRAL DE CRÉDITO DA AGRICULTURA F... 0                                  0                  2.0   \n",
       "FINANSINOS S.A. CREDITO, FINANCIAMENTO E INVEST... 0                                  0                  2.0   \n",
       "\n",
       "                                                                                                         Segmento  \\\n",
       "Instituição financeira                             Total da Carteira de Pessoa Física EmpComFolha_Total             \n",
       "CAIXA ECONÔMICA FEDERAL                            723569731                          90206639              199.0   \n",
       "BB                                                 499579279                          110683072             199.0   \n",
       "ITAU                                               460756358                          70557258              199.0   \n",
       "BRADESCO                                           337705889                          86078132              199.0   \n",
       "SANTANDER                                          272575252                          54449495              199.0   \n",
       "...                                                                                                           ...   \n",
       "COOPERATIVA CENTRAL DE CRÉDITO DE GOIÁS LTDA       0                                  0                       9.0   \n",
       "COOPERATIVA CENTRAL DE CRÉDITO DA BAHIA LTDA - ... 0                                  0                       9.0   \n",
       "ATICCA - SOCIEDADE DE CRÉDITO DIRETO S.A.          0                                  0                      43.0   \n",
       "COOPERATIVA CENTRAL DE CRÉDITO DA AGRICULTURA F... 0                                  0                       9.0   \n",
       "FINANSINOS S.A. CREDITO, FINANCIAMENTO E INVEST... 0                                  0                      14.0   \n",
       "\n",
       "                                                                                                         EmpComFolha_perc  \\\n",
       "Instituição financeira                             Total da Carteira de Pessoa Física EmpComFolha_Total                     \n",
       "CAIXA ECONÔMICA FEDERAL                            723569731                          90206639                   0.006829   \n",
       "BB                                                 499579279                          110683072                  0.002724   \n",
       "ITAU                                               460756358                          70557258                   0.007637   \n",
       "BRADESCO                                           337705889                          86078132                   0.004964   \n",
       "SANTANDER                                          272575252                          54449495                   0.019424   \n",
       "...                                                                                                                   ...   \n",
       "COOPERATIVA CENTRAL DE CRÉDITO DE GOIÁS LTDA       0                                  0                          0.000000   \n",
       "COOPERATIVA CENTRAL DE CRÉDITO DA BAHIA LTDA - ... 0                                  0                          0.000000   \n",
       "ATICCA - SOCIEDADE DE CRÉDITO DIRETO S.A.          0                                  0                          0.000000   \n",
       "COOPERATIVA CENTRAL DE CRÉDITO DA AGRICULTURA F... 0                                  0                          0.000000   \n",
       "FINANSINOS S.A. CREDITO, FINANCIAMENTO E INVEST... 0                                  0                          0.000000   \n",
       "\n",
       "                                                                                                         EmpSemFolha_perc  \\\n",
       "Instituição financeira                             Total da Carteira de Pessoa Física EmpComFolha_Total                     \n",
       "CAIXA ECONÔMICA FEDERAL                            723569731                          90206639                   0.013244   \n",
       "BB                                                 499579279                          110683072                  0.022412   \n",
       "ITAU                                               460756358                          70557258                   0.031341   \n",
       "BRADESCO                                           337705889                          86078132                   0.039689   \n",
       "SANTANDER                                          272575252                          54449495                   0.079816   \n",
       "...                                                                                                                   ...   \n",
       "COOPERATIVA CENTRAL DE CRÉDITO DE GOIÁS LTDA       0                                  0                          0.000000   \n",
       "COOPERATIVA CENTRAL DE CRÉDITO DA BAHIA LTDA - ... 0                                  0                          0.000000   \n",
       "ATICCA - SOCIEDADE DE CRÉDITO DIRETO S.A.          0                                  0                          0.000000   \n",
       "COOPERATIVA CENTRAL DE CRÉDITO DA AGRICULTURA F... 0                                  0                          0.000000   \n",
       "FINANSINOS S.A. CREDITO, FINANCIAMENTO E INVEST... 0                                  0                          0.000000   \n",
       "\n",
       "                                                                                                         Veiculos_perc  \\\n",
       "Instituição financeira                             Total da Carteira de Pessoa Física EmpComFolha_Total                  \n",
       "CAIXA ECONÔMICA FEDERAL                            723569731                          90206639                0.028510   \n",
       "BB                                                 499579279                          110683072               0.008572   \n",
       "ITAU                                               460756358                          70557258                0.016861   \n",
       "BRADESCO                                           337705889                          86078132                0.012786   \n",
       "SANTANDER                                          272575252                          54449495                0.016462   \n",
       "...                                                                                                                ...   \n",
       "COOPERATIVA CENTRAL DE CRÉDITO DE GOIÁS LTDA       0                                  0                       0.000000   \n",
       "COOPERATIVA CENTRAL DE CRÉDITO DA BAHIA LTDA - ... 0                                  0                       0.000000   \n",
       "ATICCA - SOCIEDADE DE CRÉDITO DIRETO S.A.          0                                  0                       0.000000   \n",
       "COOPERATIVA CENTRAL DE CRÉDITO DA AGRICULTURA F... 0                                  0                       0.000000   \n",
       "FINANSINOS S.A. CREDITO, FINANCIAMENTO E INVEST... 0                                  0                       0.000000   \n",
       "\n",
       "                                                                                                         Habitacao_perc  \\\n",
       "Instituição financeira                             Total da Carteira de Pessoa Física EmpComFolha_Total                   \n",
       "CAIXA ECONÔMICA FEDERAL                            723569731                          90206639                 0.002088   \n",
       "BB                                                 499579279                          110683072                0.001124   \n",
       "ITAU                                               460756358                          70557258                 0.000593   \n",
       "BRADESCO                                           337705889                          86078132                 0.000939   \n",
       "SANTANDER                                          272575252                          54449495                 0.001393   \n",
       "...                                                                                                                 ...   \n",
       "COOPERATIVA CENTRAL DE CRÉDITO DE GOIÁS LTDA       0                                  0                        0.000000   \n",
       "COOPERATIVA CENTRAL DE CRÉDITO DA BAHIA LTDA - ... 0                                  0                        0.000000   \n",
       "ATICCA - SOCIEDADE DE CRÉDITO DIRETO S.A.          0                                  0                        0.000000   \n",
       "COOPERATIVA CENTRAL DE CRÉDITO DA AGRICULTURA F... 0                                  0                        0.000000   \n",
       "FINANSINOS S.A. CREDITO, FINANCIAMENTO E INVEST... 0                                  0                        0.000000   \n",
       "\n",
       "                                                                                                         Cartao_perc  \\\n",
       "Instituição financeira                             Total da Carteira de Pessoa Física EmpComFolha_Total                \n",
       "CAIXA ECONÔMICA FEDERAL                            723569731                          90206639              0.127422   \n",
       "BB                                                 499579279                          110683072             0.094106   \n",
       "ITAU                                               460756358                          70557258              0.081941   \n",
       "BRADESCO                                           337705889                          86078132              0.106399   \n",
       "SANTANDER                                          272575252                          54449495              0.061081   \n",
       "...                                                                                                              ...   \n",
       "COOPERATIVA CENTRAL DE CRÉDITO DE GOIÁS LTDA       0                                  0                     0.000000   \n",
       "COOPERATIVA CENTRAL DE CRÉDITO DA BAHIA LTDA - ... 0                                  0                     0.000000   \n",
       "ATICCA - SOCIEDADE DE CRÉDITO DIRETO S.A.          0                                  0                     0.000000   \n",
       "COOPERATIVA CENTRAL DE CRÉDITO DA AGRICULTURA F... 0                                  0                     0.000000   \n",
       "FINANSINOS S.A. CREDITO, FINANCIAMENTO E INVEST... 0                                  0                     0.000000   \n",
       "\n",
       "                                                                                                         RuralAgro_perc  \\\n",
       "Instituição financeira                             Total da Carteira de Pessoa Física EmpComFolha_Total                   \n",
       "CAIXA ECONÔMICA FEDERAL                            723569731                          90206639                 0.006062   \n",
       "BB                                                 499579279                          110683072                0.004523   \n",
       "ITAU                                               460756358                          70557258                 0.000569   \n",
       "BRADESCO                                           337705889                          86078132                 0.005501   \n",
       "SANTANDER                                          272575252                          54449495                 0.003144   \n",
       "...                                                                                                                 ...   \n",
       "COOPERATIVA CENTRAL DE CRÉDITO DE GOIÁS LTDA       0                                  0                        0.000000   \n",
       "COOPERATIVA CENTRAL DE CRÉDITO DA BAHIA LTDA - ... 0                                  0                        0.000000   \n",
       "ATICCA - SOCIEDADE DE CRÉDITO DIRETO S.A.          0                                  0                        0.000000   \n",
       "COOPERATIVA CENTRAL DE CRÉDITO DA AGRICULTURA F... 0                                  0                        0.000000   \n",
       "FINANSINOS S.A. CREDITO, FINANCIAMENTO E INVEST... 0                                  0                        0.000000   \n",
       "\n",
       "                                                                                                         Outros_perc  \n",
       "Instituição financeira                             Total da Carteira de Pessoa Física EmpComFolha_Total               \n",
       "CAIXA ECONÔMICA FEDERAL                            723569731                          90206639              0.093555  \n",
       "BB                                                 499579279                          110683072             0.057983  \n",
       "ITAU                                               460756358                          70557258              0.088207  \n",
       "BRADESCO                                           337705889                          86078132              0.086420  \n",
       "SANTANDER                                          272575252                          54449495              0.083495  \n",
       "...                                                                                                              ...  \n",
       "COOPERATIVA CENTRAL DE CRÉDITO DE GOIÁS LTDA       0                                  0                     0.000000  \n",
       "COOPERATIVA CENTRAL DE CRÉDITO DA BAHIA LTDA - ... 0                                  0                     0.000000  \n",
       "ATICCA - SOCIEDADE DE CRÉDITO DIRETO S.A.          0                                  0                     0.000000  \n",
       "COOPERATIVA CENTRAL DE CRÉDITO DA AGRICULTURA F... 0                                  0                     0.000000  \n",
       "FINANSINOS S.A. CREDITO, FINANCIAMENTO E INVEST... 0                                  0                     0.000000  \n",
       "\n",
       "[1114 rows x 10 columns]"
      ]
     },
     "execution_count": 182,
     "metadata": {},
     "output_type": "execute_result"
    }
   ],
   "source": [
    "#basebcb.sort_values(['Instituição financeira','Total da Carteira de Pessoa Física'],ascending=False).groupby('Instituição financeira').sum()\n",
    "\n",
    "\n",
    "basebcb.groupby(['Instituição financeira','Total da Carteira de Pessoa Física','EmpComFolha_Total']).sum().sort_values('Total da Carteira de Pessoa Física',ascending=False)\n",
    "\n"
   ]
  },
  {
   "cell_type": "code",
   "execution_count": 183,
   "id": "9be42ec5-539a-4248-8307-ab93a60aef2e",
   "metadata": {},
   "outputs": [
    {
     "data": {
      "text/plain": [
       "<AxesSubplot:>"
      ]
     },
     "execution_count": 183,
     "metadata": {},
     "output_type": "execute_result"
    },
    {
     "data": {
      "image/png": "[encoded data removed]",
      "text/plain": [
       "<Figure size 1080x720 with 1 Axes>"
      ]
     },
     "metadata": {
      "needs_background": "light"
     },
     "output_type": "display_data"
    }
   ],
   "source": [
    "basebcb['Total da Carteira de Pessoa Física'].hist(figsize=(15,10),bins=50)"
   ]
  },
  {
   "cell_type": "code",
   "execution_count": 184,
   "id": "e75a143e-1a46-4bbc-9bba-835cdf6e2e67",
   "metadata": {},
   "outputs": [
    {
     "data": {
      "text/plain": [
       "<AxesSubplot:>"
      ]
     },
     "execution_count": 184,
     "metadata": {},
     "output_type": "execute_result"
    },
    {
     "data": {
      "image/png": "[encoded data removed]",
      "text/plain": [
       "<Figure size 1080x720 with 1 Axes>"
      ]
     },
     "metadata": {
      "needs_background": "light"
     },
     "output_type": "display_data"
    }
   ],
   "source": [
    "basebcb['SR'].hist(figsize=(15,10),bins=50)"
   ]
  },
  {
   "cell_type": "code",
   "execution_count": 53,
   "id": "2d4b636c-20f0-48ac-8f4d-563da2ae5f70",
   "metadata": {},
   "outputs": [
    {
     "data": {
      "text/plain": [
       "<bound method NDFrame._add_numeric_operations.<locals>.sum of 1        90206639\n",
       "2       110683072\n",
       "3        70557258\n",
       "4        86078132\n",
       "5        54449495\n",
       "          ...    \n",
       "1307            0\n",
       "1308            0\n",
       "1313            0\n",
       "1318            0\n",
       "1319            0\n",
       "Name: EmpComFolha_Total, Length: 1114, dtype: object>"
      ]
     },
     "execution_count": 53,
     "metadata": {},
     "output_type": "execute_result"
    }
   ],
   "source": [
    "basebcb['EmpComFolha_Total'].sum"
   ]
  },
  {
   "cell_type": "code",
   "execution_count": null,
   "id": "0644f1b4-0cc6-48c1-b5ea-658ede9740b3",
   "metadata": {},
   "outputs": [],
   "source": []
  },
  {
   "cell_type": "markdown",
   "id": "29251fba-d3e4-4668-986a-438b9802c5a1",
   "metadata": {},
   "source": [
    "# Cluesterização a partir dos totais por produto"
   ]
  },
  {
   "cell_type": "code",
   "execution_count": 353,
   "id": "76d4006c-17ae-4223-aacf-7bb43ec1a031",
   "metadata": {},
   "outputs": [],
   "source": [
    "basebcb= basebcb[basebcb['Total da Carteira de Pessoa Física']>0]\n"
   ]
  },
  {
   "cell_type": "code",
   "execution_count": 354,
   "id": "8bcff18a-4a62-49d3-935a-dec518a0ade5",
   "metadata": {},
   "outputs": [],
   "source": [
    "X = basebcb[['EmpComFolha_Total','EmpSemFolha_Total','Veiculos_Total','Habitacao_Total','Cartao_Total','RuralAgro_Total','Outros_Total']]\n",
    "kmeans = KMeans(n_clusters=5, random_state=42)\n",
    "y_pred = kmeans.fit_predict(X)"
   ]
  },
  {
   "cell_type": "code",
   "execution_count": 355,
   "id": "ab1f7d2e-cdeb-43ef-82a2-15f8f8454855",
   "metadata": {},
   "outputs": [],
   "source": [
    "X = X.reset_index()"
   ]
  },
  {
   "cell_type": "code",
   "execution_count": 356,
   "id": "50c7319b-3184-4338-842c-da3f132026ab",
   "metadata": {},
   "outputs": [],
   "source": [
    "model = AgglomerativeClustering(affinity = \"euclidean\", linkage = \"ward\", n_clusters = 5)\n",
    "clusters = model.fit_predict(X)"
   ]
  },
  {
   "cell_type": "code",
   "execution_count": 357,
   "id": "714ba54a-43c6-431f-8410-bbc39b17d349",
   "metadata": {},
   "outputs": [
    {
     "data": {
      "text/plain": [
       "0    1042\n",
       "2       2\n",
       "3       1\n",
       "4       1\n",
       "1       1\n",
       "Name: cluster, dtype: int64"
      ]
     },
     "execution_count": 357,
     "metadata": {},
     "output_type": "execute_result"
    }
   ],
   "source": [
    "Clust = pd.DataFrame(clusters)\n",
    "X['cluster'] = Clust\n",
    "X['cluster'].value_counts()"
   ]
  },
  {
   "cell_type": "code",
   "execution_count": null,
   "id": "0e4ee725-ea40-4942-a0fe-9e4b2bbdfc40",
   "metadata": {},
   "outputs": [],
   "source": []
  },
  {
   "cell_type": "code",
   "execution_count": 358,
   "id": "0626a2d9-7b15-475c-9c3d-53c634607907",
   "metadata": {},
   "outputs": [
    {
     "data": {
      "text/plain": [
       "array([1, 2, 4, ..., 0, 0, 0])"
      ]
     },
     "execution_count": 358,
     "metadata": {},
     "output_type": "execute_result"
    }
   ],
   "source": [
    "y_pred"
   ]
  },
  {
   "cell_type": "code",
   "execution_count": 359,
   "id": "ab5b4956-4eac-427a-9a97-e4263eda9a73",
   "metadata": {},
   "outputs": [
    {
     "data": {
      "text/plain": [
       "True"
      ]
     },
     "execution_count": 359,
     "metadata": {},
     "output_type": "execute_result"
    }
   ],
   "source": [
    "y_pred is kmeans.labels_\n"
   ]
  },
  {
   "cell_type": "code",
   "execution_count": 360,
   "id": "4c85c2b0-f6cd-4464-9115-dfa5c1938e64",
   "metadata": {},
   "outputs": [
    {
     "data": {
      "text/plain": [
       "array([[1.32500862e+05, 1.19986611e+05, 1.16186336e+05, 2.22546555e+04,\n",
       "        1.38474562e+05, 1.14970205e+05, 5.54417284e+04],\n",
       "       [9.02066390e+07, 1.39461560e+07, 9.24600000e+04, 5.76343778e+08,\n",
       "        1.13771100e+07, 1.95648890e+07, 1.20387000e+07],\n",
       "       [1.10683072e+08, 4.12652980e+07, 4.17382900e+06, 4.60543300e+07,\n",
       "        5.20310660e+07, 2.29621052e+08, 1.17975140e+07],\n",
       "       [7.02638135e+07, 2.58458035e+07, 4.61337055e+07, 6.56983200e+07,\n",
       "        5.36715905e+07, 1.25743160e+07, 2.68445805e+07],\n",
       "       [7.05572580e+07, 2.09077260e+07, 3.19578970e+07, 9.51012390e+07,\n",
       "        1.26350025e+08, 3.03024700e+06, 2.97488300e+07]])"
      ]
     },
     "execution_count": 360,
     "metadata": {},
     "output_type": "execute_result"
    }
   ],
   "source": [
    "Centers0 = kmeans.cluster_centers_\n",
    "Centers0"
   ]
  },
  {
   "cell_type": "code",
   "execution_count": 361,
   "id": "cce8ea13-ff95-4642-b06c-77ec4968c675",
   "metadata": {},
   "outputs": [
    {
     "data": {
      "text/plain": [
       "array([1, 2, 4, ..., 0, 0, 0])"
      ]
     },
     "execution_count": 361,
     "metadata": {},
     "output_type": "execute_result"
    }
   ],
   "source": [
    "kmeans.labels_\n"
   ]
  },
  {
   "cell_type": "code",
   "execution_count": null,
   "id": "05548b20-01e7-439f-8323-9c8007ea2392",
   "metadata": {},
   "outputs": [],
   "source": []
  },
  {
   "cell_type": "code",
   "execution_count": 362,
   "id": "87abee29-8971-49bd-ac41-5bc373178009",
   "metadata": {},
   "outputs": [],
   "source": [
    "# Clusterização por emprestimo com folha"
   ]
  },
  {
   "cell_type": "code",
   "execution_count": 363,
   "id": "c31556b1-d5a6-4f96-80a1-119426220063",
   "metadata": {},
   "outputs": [],
   "source": [
    "X = basebcb[['EmpComFolha_Total','Total da Carteira de Pessoa Física']]\n",
    "\n",
    "kmeans = KMeans(n_clusters=5, random_state=42)\n",
    "y_pred = kmeans.fit_predict(X)"
   ]
  },
  {
   "cell_type": "code",
   "execution_count": 364,
   "id": "14f667ad-3466-4871-b2e3-c5d86f90b426",
   "metadata": {},
   "outputs": [],
   "source": [
    "model = AgglomerativeClustering(affinity = \"euclidean\", linkage = \"ward\", n_clusters = 6)\n",
    "clusters = model.fit_predict(X)"
   ]
  },
  {
   "cell_type": "code",
   "execution_count": 365,
   "id": "1027d2ce-cad8-4ed3-850e-519a8c332cfd",
   "metadata": {},
   "outputs": [
    {
     "data": {
      "text/plain": [
       "2.0    995\n",
       "3.0     37\n",
       "4.0      5\n",
       "1.0      2\n",
       "0.0      2\n",
       "Name: cluster, dtype: int64"
      ]
     },
     "execution_count": 365,
     "metadata": {},
     "output_type": "execute_result"
    }
   ],
   "source": [
    "Clust = pd.DataFrame(clusters)\n",
    "X['cluster'] = Clust\n",
    "X['cluster'].value_counts()"
   ]
  },
  {
   "cell_type": "code",
   "execution_count": 366,
   "id": "91114d85-0aa2-48d3-8a31-4dfe20c0c657",
   "metadata": {},
   "outputs": [],
   "source": [
    "#X[0:2, 1]"
   ]
  },
  {
   "cell_type": "code",
   "execution_count": 367,
   "id": "e68d35de-ab72-41ac-ae18-b4a413cbf00d",
   "metadata": {},
   "outputs": [
    {
     "data": {
      "text/plain": [
       "array([1, 3, 3, ..., 0, 0, 0])"
      ]
     },
     "execution_count": 367,
     "metadata": {},
     "output_type": "execute_result"
    }
   ],
   "source": [
    "y_pred"
   ]
  },
  {
   "cell_type": "code",
   "execution_count": 368,
   "id": "167363bb-ec3a-445c-801f-fc4730c0ef6a",
   "metadata": {},
   "outputs": [
    {
     "data": {
      "text/plain": [
       "True"
      ]
     },
     "execution_count": 368,
     "metadata": {},
     "output_type": "execute_result"
    }
   ],
   "source": [
    "y_pred is kmeans.labels_\n"
   ]
  },
  {
   "cell_type": "code",
   "execution_count": 369,
   "id": "c2fb392d-c554-475b-b660-8f44d5b697ce",
   "metadata": {},
   "outputs": [
    {
     "data": {
      "text/plain": [
       "array([[6.07942654e+04, 3.53662884e+05],\n",
       "       [9.02066390e+07, 7.23569731e+08],\n",
       "       [7.02638135e+07, 3.05140570e+08],\n",
       "       [9.06201650e+07, 4.80167818e+08],\n",
       "       [4.45598682e+06, 2.16948929e+07]])"
      ]
     },
     "execution_count": 369,
     "metadata": {},
     "output_type": "execute_result"
    }
   ],
   "source": [
    "Centers = kmeans.cluster_centers_\n",
    "Centers"
   ]
  },
  {
   "cell_type": "code",
   "execution_count": 370,
   "id": "1fa514e2-a72d-47e3-b9cc-3c052d3383a2",
   "metadata": {},
   "outputs": [
    {
     "data": {
      "text/plain": [
       "array([6.07942654e+04, 9.02066390e+07, 7.02638135e+07, 9.06201650e+07,\n",
       "       4.45598682e+06])"
      ]
     },
     "execution_count": 370,
     "metadata": {},
     "output_type": "execute_result"
    }
   ],
   "source": [
    "Centers[:,0]"
   ]
  },
  {
   "cell_type": "code",
   "execution_count": 371,
   "id": "75ad252a-0328-4f34-b06e-58c224e3b418",
   "metadata": {},
   "outputs": [
    {
     "data": {
      "text/plain": [
       "array([1, 3, 3, ..., 0, 0, 0])"
      ]
     },
     "execution_count": 371,
     "metadata": {},
     "output_type": "execute_result"
    }
   ],
   "source": [
    "kmeans.labels_\n"
   ]
  },
  {
   "cell_type": "code",
   "execution_count": 372,
   "id": "fddac1a9-ebac-4832-a7eb-52dcded5b424",
   "metadata": {},
   "outputs": [],
   "source": [
    "def plot_clusters(X, y=None):\n",
    "    plt.scatter(X[:,0], X[:,1], c=y, s=1)\n",
    "    plt.xlabel(\"$x_1$\", fontsize=14)\n",
    "    plt.ylabel(\"$x_2$\", fontsize=14, rotation=0)"
   ]
  },
  {
   "cell_type": "code",
   "execution_count": 373,
   "id": "469f6ec6-cfc3-4095-ac5e-f71713397c75",
   "metadata": {},
   "outputs": [],
   "source": [
    "#plt.figure(figsize=(8, 4))\n",
    "#plot_clusters(X)\n",
    "#plt.show()"
   ]
  },
  {
   "cell_type": "code",
   "execution_count": 374,
   "id": "d162a38f-1c57-441e-8841-ee3cb36c50e2",
   "metadata": {},
   "outputs": [
    {
     "data": {
      "image/png": "[encoded data removed]",
      "text/plain": [
       "<Figure size 432x288 with 1 Axes>"
      ]
     },
     "metadata": {
      "needs_background": "light"
     },
     "output_type": "display_data"
    },
    {
     "data": {
      "text/plain": [
       "<Figure size 72x72 with 0 Axes>"
      ]
     },
     "metadata": {},
     "output_type": "display_data"
    }
   ],
   "source": [
    "    plt.scatter(basebcb['EmpComFolha_Total'],basebcb['Total da Carteira de Pessoa Física'],s=5)\n",
    "    plt.xlabel(\"$x_1$\", fontsize=14)\n",
    "    plt.ylabel(\"$x_2$\", fontsize=14, rotation=0)\n",
    "    plt.plot(Centers[:,0],Centers[:,1], 'r+')\n",
    "    plt.figure(figsize=(1, 1))\n",
    "    plt.show()"
   ]
  },
  {
   "cell_type": "code",
   "execution_count": 402,
   "id": "14f94622-606c-4a85-a273-02bcd6e8236c",
   "metadata": {},
   "outputs": [
    {
     "data": {
      "text/plain": [
       "{'icoord': [[15.0, 15.0, 25.0, 25.0],\n",
       "  [35.0, 35.0, 45.0, 45.0],\n",
       "  [20.0, 20.0, 40.0, 40.0],\n",
       "  [55.0, 55.0, 65.0, 65.0],\n",
       "  [75.0, 75.0, 85.0, 85.0],\n",
       "  [60.0, 60.0, 80.0, 80.0],\n",
       "  [30.0, 30.0, 70.0, 70.0],\n",
       "  [5.0, 5.0, 50.0, 50.0]],\n",
       " 'dcoord': [[0.0, 6748328.809347764, 6748328.809347764, 0.0],\n",
       "  [0.0, 9493796.177810065, 9493796.177810065, 0.0],\n",
       "  [6748328.809347764, 9648692.94787071, 9648692.94787071, 9493796.177810065],\n",
       "  [0.0, 43836627.75245634, 43836627.75245634, 0.0],\n",
       "  [0.0, 67766812.13161334, 67766812.13161334, 0.0],\n",
       "  [43836627.75245634, 123878229.4235518, 123878229.4235518, 67766812.13161334],\n",
       "  [9648692.94787071,\n",
       "   225007153.36579084,\n",
       "   225007153.36579084,\n",
       "   123878229.4235518],\n",
       "  [0.0, 225650300.48014665, 225650300.48014665, 225007153.36579084]],\n",
       " 'ivl': ['0', '(2)', '(1035)', '5', '(4)', '1', '2', '3', '4'],\n",
       " 'leaves': [0, 2081, 2082, 5, 2084, 1, 2, 3, 4],\n",
       " 'color_list': ['C1', 'C1', 'C1', 'C2', 'C2', 'C2', 'C0', 'C0'],\n",
       " 'leaves_color_list': ['C0', 'C1', 'C1', 'C1', 'C1', 'C2', 'C2', 'C2', 'C2']}"
      ]
     },
     "execution_count": 402,
     "metadata": {},
     "output_type": "execute_result"
    },
    {
     "data": {
      "image/png": "[encoded data removed]",
      "text/plain": [
       "<Figure size 432x288 with 1 Axes>"
      ]
     },
     "metadata": {
      "needs_background": "light"
     },
     "output_type": "display_data"
    }
   ],
   "source": [
    "dendrogram(linkage(X), truncate_mode = 'level', p = 3)\n"
   ]
  },
  {
   "cell_type": "code",
   "execution_count": 378,
   "id": "38eb47a8-db19-4470-a88d-b63be9ec1f08",
   "metadata": {},
   "outputs": [],
   "source": [
    "# Clusterização por emprestimo sem folha"
   ]
  },
  {
   "cell_type": "code",
   "execution_count": 379,
   "id": "207226cd-dffb-4b11-a9b1-31ae93180314",
   "metadata": {},
   "outputs": [],
   "source": [
    "X = basebcb[['EmpSemFolha_Total','Total da Carteira de Pessoa Física']]\n",
    "\n",
    "kmeans = KMeans(n_clusters=5, random_state=42)\n",
    "y_pred = kmeans.fit_predict(X)"
   ]
  },
  {
   "cell_type": "code",
   "execution_count": 409,
   "id": "f451742a-7369-4885-ac28-bfb679f3262b",
   "metadata": {},
   "outputs": [],
   "source": [
    "model = AgglomerativeClustering(affinity = \"euclidean\", linkage = \"ward\", n_clusters = 5)\n",
    "clusters = model.fit_predict(X)"
   ]
  },
  {
   "cell_type": "code",
   "execution_count": 410,
   "id": "07e353e9-a236-4189-a51d-181e58cade41",
   "metadata": {},
   "outputs": [
    {
     "data": {
      "text/plain": [
       "4.0    1032\n",
       "0.0      35\n",
       "3.0       2\n",
       "1.0       2\n",
       "Name: cluster, dtype: int64"
      ]
     },
     "execution_count": 410,
     "metadata": {},
     "output_type": "execute_result"
    }
   ],
   "source": [
    "Clust = pd.DataFrame(clusters)\n",
    "X['cluster'] = Clust\n",
    "X['cluster'].value_counts()"
   ]
  },
  {
   "cell_type": "code",
   "execution_count": 119,
   "id": "b0a8d5ee-a3f3-4e85-bec3-fabb32fbe7d3",
   "metadata": {},
   "outputs": [
    {
     "data": {
      "text/plain": [
       "array([2, 1, 1, ..., 0, 0, 0])"
      ]
     },
     "execution_count": 119,
     "metadata": {},
     "output_type": "execute_result"
    }
   ],
   "source": [
    "y_pred"
   ]
  },
  {
   "cell_type": "code",
   "execution_count": 120,
   "id": "6b42301a-476a-45d0-ad96-2ef7d6233554",
   "metadata": {},
   "outputs": [
    {
     "data": {
      "text/plain": [
       "True"
      ]
     },
     "execution_count": 120,
     "metadata": {},
     "output_type": "execute_result"
    }
   ],
   "source": [
    "y_pred is kmeans.labels_\n"
   ]
  },
  {
   "cell_type": "code",
   "execution_count": 121,
   "id": "f167e965-d3af-4120-b104-16fda1c2c6bd",
   "metadata": {},
   "outputs": [
    {
     "data": {
      "text/plain": [
       "array([[6.40240568e+04, 3.22032242e+05],\n",
       "       [3.10865120e+07, 4.80167818e+08],\n",
       "       [1.39461560e+07, 7.23569731e+08],\n",
       "       [2.58458035e+07, 3.05140570e+08],\n",
       "       [3.06532239e+06, 2.11100255e+07]])"
      ]
     },
     "execution_count": 121,
     "metadata": {},
     "output_type": "execute_result"
    }
   ],
   "source": [
    "Centers2 = kmeans.cluster_centers_\n",
    "Centers2"
   ]
  },
  {
   "cell_type": "code",
   "execution_count": 122,
   "id": "21b7bb0c-c04e-4cd3-a082-54576e9506d6",
   "metadata": {},
   "outputs": [
    {
     "data": {
      "text/plain": [
       "array([2, 1, 1, ..., 0, 0, 0])"
      ]
     },
     "execution_count": 122,
     "metadata": {},
     "output_type": "execute_result"
    }
   ],
   "source": [
    "kmeans.labels_\n"
   ]
  },
  {
   "cell_type": "code",
   "execution_count": 123,
   "id": "d10af26d-85f6-4f40-9d5d-79197f256765",
   "metadata": {},
   "outputs": [
    {
     "data": {
      "image/png": "[encoded data removed]",
      "text/plain": [
       "<Figure size 432x288 with 1 Axes>"
      ]
     },
     "metadata": {
      "needs_background": "light"
     },
     "output_type": "display_data"
    },
    {
     "data": {
      "text/plain": [
       "<Figure size 72x72 with 0 Axes>"
      ]
     },
     "metadata": {},
     "output_type": "display_data"
    }
   ],
   "source": [
    "    plt.scatter(basebcb['EmpSemFolha_Total'],basebcb['Total da Carteira de Pessoa Física'],s=5)\n",
    "    plt.xlabel(\"$x_1$\", fontsize=14)\n",
    "    plt.ylabel(\"$x_2$\", fontsize=14, rotation=0)\n",
    "    plt.plot(Centers2[:,0],Centers2[:,1], 'r+')\n",
    "    plt.figure(figsize=(1, 1))\n",
    "    plt.show()"
   ]
  },
  {
   "cell_type": "code",
   "execution_count": null,
   "id": "625084ae-8061-4db8-a887-60f9082f903d",
   "metadata": {},
   "outputs": [],
   "source": []
  },
  {
   "cell_type": "code",
   "execution_count": 124,
   "id": "8cb2eb36-a863-40a1-bd52-46acdbe301b5",
   "metadata": {},
   "outputs": [],
   "source": [
    "# Clusterização por Veiculos_Total"
   ]
  },
  {
   "cell_type": "code",
   "execution_count": 125,
   "id": "4311e2a1-8a13-4e93-ba5b-585df2c2b742",
   "metadata": {},
   "outputs": [],
   "source": [
    "X = basebcb[['Veiculos_Total','Total da Carteira de Pessoa Física']]\n",
    "\n",
    "kmeans = KMeans(n_clusters=5, random_state=42)\n",
    "y_pred = kmeans.fit_predict(X)"
   ]
  },
  {
   "cell_type": "code",
   "execution_count": 126,
   "id": "93cae915-6eab-4afd-b072-07884b211892",
   "metadata": {},
   "outputs": [
    {
     "data": {
      "text/plain": [
       "array([1, 3, 3, ..., 0, 0, 0])"
      ]
     },
     "execution_count": 126,
     "metadata": {},
     "output_type": "execute_result"
    }
   ],
   "source": [
    "y_pred"
   ]
  },
  {
   "cell_type": "code",
   "execution_count": 127,
   "id": "506a75a5-ea25-4abe-8698-9b37b00add72",
   "metadata": {},
   "outputs": [
    {
     "data": {
      "text/plain": [
       "True"
      ]
     },
     "execution_count": 127,
     "metadata": {},
     "output_type": "execute_result"
    }
   ],
   "source": [
    "y_pred is kmeans.labels_\n"
   ]
  },
  {
   "cell_type": "code",
   "execution_count": 128,
   "id": "809248fd-7f9f-414e-a128-cca5ad68eb8c",
   "metadata": {},
   "outputs": [
    {
     "data": {
      "text/plain": [
       "array([[4.39725357e+04, 3.31963788e+05],\n",
       "       [9.24600000e+04, 7.23569731e+08],\n",
       "       [4.61337055e+07, 3.05140570e+08],\n",
       "       [1.80658630e+07, 4.80167818e+08],\n",
       "       [4.29695018e+06, 2.16948929e+07]])"
      ]
     },
     "execution_count": 128,
     "metadata": {},
     "output_type": "execute_result"
    }
   ],
   "source": [
    "Centers3 = kmeans.cluster_centers_\n",
    "Centers3"
   ]
  },
  {
   "cell_type": "code",
   "execution_count": 129,
   "id": "955a1c9d-be3d-49e6-bfc5-ce36ddde81c2",
   "metadata": {},
   "outputs": [
    {
     "data": {
      "text/plain": [
       "array([1, 3, 3, ..., 0, 0, 0])"
      ]
     },
     "execution_count": 129,
     "metadata": {},
     "output_type": "execute_result"
    }
   ],
   "source": [
    "kmeans.labels_"
   ]
  },
  {
   "cell_type": "code",
   "execution_count": 130,
   "id": "107da3b2-6e80-4a5a-9576-e1f5add3e84a",
   "metadata": {},
   "outputs": [
    {
     "data": {
      "image/png": "[encoded data removed]",
      "text/plain": [
       "<Figure size 432x288 with 1 Axes>"
      ]
     },
     "metadata": {
      "needs_background": "light"
     },
     "output_type": "display_data"
    },
    {
     "data": {
      "text/plain": [
       "<Figure size 72x72 with 0 Axes>"
      ]
     },
     "metadata": {},
     "output_type": "display_data"
    }
   ],
   "source": [
    "    plt.scatter(basebcb['Veiculos_Total'],basebcb['Total da Carteira de Pessoa Física'],s=5)\n",
    "    plt.xlabel(\"$x_1$\", fontsize=14)\n",
    "    plt.ylabel(\"$x_2$\", fontsize=14, rotation=0)\n",
    "    plt.plot(Centers3[:,0],Centers3[:,1], 'r+')\n",
    "    plt.figure(figsize=(1, 1))\n",
    "    plt.show()"
   ]
  },
  {
   "cell_type": "code",
   "execution_count": 131,
   "id": "4d0af427-f78d-4a7a-ada1-58887d58d5cf",
   "metadata": {},
   "outputs": [],
   "source": [
    "X = basebcb[['Habitacao_Total','Total da Carteira de Pessoa Física']]\n",
    "\n",
    "kmeans = KMeans(n_clusters=5, random_state=42)\n",
    "y_pred = kmeans.fit_predict(X)"
   ]
  },
  {
   "cell_type": "code",
   "execution_count": 132,
   "id": "c07f9e92-f002-4b69-a95f-cb223d8e8a58",
   "metadata": {},
   "outputs": [
    {
     "data": {
      "text/plain": [
       "array([2, 1, 1, ..., 0, 0, 0])"
      ]
     },
     "execution_count": 132,
     "metadata": {},
     "output_type": "execute_result"
    }
   ],
   "source": [
    "y_pred"
   ]
  },
  {
   "cell_type": "code",
   "execution_count": 133,
   "id": "39f525f0-1bec-49e1-8aa0-b50d11bd2beb",
   "metadata": {},
   "outputs": [
    {
     "data": {
      "text/plain": [
       "True"
      ]
     },
     "execution_count": 133,
     "metadata": {},
     "output_type": "execute_result"
    }
   ],
   "source": [
    "y_pred is kmeans.labels_\n"
   ]
  },
  {
   "cell_type": "code",
   "execution_count": 134,
   "id": "4c6d361b-8773-4fee-8f88-8ffddb110a6c",
   "metadata": {},
   "outputs": [
    {
     "data": {
      "text/plain": [
       "array([[6.47544546e+03, 3.22032242e+05],\n",
       "       [7.05777845e+07, 4.80167818e+08],\n",
       "       [5.76343778e+08, 7.23569731e+08],\n",
       "       [6.56983200e+07, 3.05140570e+08],\n",
       "       [8.95813333e+05, 2.11100255e+07]])"
      ]
     },
     "execution_count": 134,
     "metadata": {},
     "output_type": "execute_result"
    }
   ],
   "source": [
    "Centers4 = kmeans.cluster_centers_\n",
    "Centers4"
   ]
  },
  {
   "cell_type": "code",
   "execution_count": 135,
   "id": "06138051-86c9-4355-987d-199edef65fbf",
   "metadata": {},
   "outputs": [
    {
     "data": {
      "text/plain": [
       "array([2, 1, 1, ..., 0, 0, 0])"
      ]
     },
     "execution_count": 135,
     "metadata": {},
     "output_type": "execute_result"
    }
   ],
   "source": [
    "kmeans.labels_"
   ]
  },
  {
   "cell_type": "code",
   "execution_count": 136,
   "id": "40b1666b-b791-457d-b07d-5cd900b4aaa5",
   "metadata": {},
   "outputs": [
    {
     "data": {
      "image/png": "[encoded data removed]",
      "text/plain": [
       "<Figure size 432x288 with 1 Axes>"
      ]
     },
     "metadata": {
      "needs_background": "light"
     },
     "output_type": "display_data"
    },
    {
     "data": {
      "text/plain": [
       "<Figure size 72x72 with 0 Axes>"
      ]
     },
     "metadata": {},
     "output_type": "display_data"
    }
   ],
   "source": [
    "    plt.scatter(basebcb['Veiculos_Total'],basebcb['Total da Carteira de Pessoa Física'],s=5)\n",
    "    plt.xlabel(\"$x_1$\", fontsize=14)\n",
    "    plt.ylabel(\"$x_2$\", fontsize=14, rotation=0)\n",
    "    plt.plot(Centers4[:,0],Centers3[:,1], 'r+')\n",
    "    plt.figure(figsize=(1, 1))\n",
    "    plt.show()"
   ]
  },
  {
   "cell_type": "code",
   "execution_count": 137,
   "id": "00d43acd-5056-4190-a390-05ae082d452c",
   "metadata": {},
   "outputs": [],
   "source": [
    "X = basebcb[['Total da Carteira de Pessoa Física','Cartao_Total']]\n",
    "\n",
    "kmeans = KMeans(n_clusters=5, random_state=42)\n",
    "y_pred = kmeans.fit_predict(X)"
   ]
  },
  {
   "cell_type": "code",
   "execution_count": 138,
   "id": "308417a8-7574-4344-ae1c-fce47230bfaa",
   "metadata": {},
   "outputs": [
    {
     "data": {
      "text/plain": [
       "array([3, 1, 1, ..., 0, 0, 0])"
      ]
     },
     "execution_count": 138,
     "metadata": {},
     "output_type": "execute_result"
    }
   ],
   "source": [
    "y_pred"
   ]
  },
  {
   "cell_type": "code",
   "execution_count": 139,
   "id": "dfc61cc6-167c-4cb9-bd13-717b30cff043",
   "metadata": {},
   "outputs": [
    {
     "data": {
      "text/plain": [
       "True"
      ]
     },
     "execution_count": 139,
     "metadata": {},
     "output_type": "execute_result"
    }
   ],
   "source": [
    "y_pred is kmeans.labels_\n"
   ]
  },
  {
   "cell_type": "code",
   "execution_count": 140,
   "id": "43ea6a41-1f63-484c-9752-2fade1beddc3",
   "metadata": {},
   "outputs": [
    {
     "data": {
      "text/plain": [
       "array([[3.22032242e+05, 3.23092511e+04],\n",
       "       [4.80167818e+08, 8.91905455e+07],\n",
       "       [3.05140570e+08, 5.36715905e+07],\n",
       "       [7.23569731e+08, 1.13771100e+07],\n",
       "       [2.11100255e+07, 6.05783894e+06]])"
      ]
     },
     "execution_count": 140,
     "metadata": {},
     "output_type": "execute_result"
    }
   ],
   "source": [
    "Centers5 = kmeans.cluster_centers_\n",
    "Centers5"
   ]
  },
  {
   "cell_type": "code",
   "execution_count": 141,
   "id": "5bc99b51-eac1-4fa2-be53-75ecb54fe5a4",
   "metadata": {},
   "outputs": [
    {
     "data": {
      "text/plain": [
       "array([3, 1, 1, ..., 0, 0, 0])"
      ]
     },
     "execution_count": 141,
     "metadata": {},
     "output_type": "execute_result"
    }
   ],
   "source": [
    "kmeans.labels_"
   ]
  },
  {
   "cell_type": "code",
   "execution_count": 142,
   "id": "40eb8db3-c289-4b21-bf46-01cf4b5ab6c2",
   "metadata": {},
   "outputs": [
    {
     "data": {
      "image/png": "[encoded data removed]",
      "text/plain": [
       "<Figure size 432x288 with 1 Axes>"
      ]
     },
     "metadata": {
      "needs_background": "light"
     },
     "output_type": "display_data"
    },
    {
     "data": {
      "text/plain": [
       "<Figure size 72x72 with 0 Axes>"
      ]
     },
     "metadata": {},
     "output_type": "display_data"
    }
   ],
   "source": [
    "    plt.scatter(basebcb['Cartao_Total'],basebcb['Total da Carteira de Pessoa Física'],s=5)\n",
    "    plt.xlabel(\"$x_1$\", fontsize=14)\n",
    "    plt.ylabel(\"$x_2$\", fontsize=14, rotation=0)\n",
    "    plt.plot(Centers4[:,0],Centers3[:,1], 'r+')\n",
    "    plt.figure(figsize=(1, 1))\n",
    "    plt.show()"
   ]
  },
  {
   "cell_type": "code",
   "execution_count": 143,
   "id": "c9482366-d160-449d-98a8-652bde00e4c3",
   "metadata": {},
   "outputs": [],
   "source": [
    "X = basebcb[['Total da Carteira de Pessoa Física','RuralAgro_Total']]\n",
    "\n",
    "kmeans = KMeans(n_clusters=5, random_state=42)\n",
    "y_pred = kmeans.fit_predict(X)"
   ]
  },
  {
   "cell_type": "code",
   "execution_count": 144,
   "id": "d18f2937-8aa6-450c-8ac5-569a9eae1124",
   "metadata": {},
   "outputs": [
    {
     "data": {
      "text/plain": [
       "array([2, 3, 1, ..., 0, 0, 0])"
      ]
     },
     "execution_count": 144,
     "metadata": {},
     "output_type": "execute_result"
    }
   ],
   "source": [
    "y_pred"
   ]
  },
  {
   "cell_type": "code",
   "execution_count": 145,
   "id": "dc175138-dd4f-4165-b3fe-621b56aea8db",
   "metadata": {},
   "outputs": [
    {
     "data": {
      "text/plain": [
       "True"
      ]
     },
     "execution_count": 145,
     "metadata": {},
     "output_type": "execute_result"
    }
   ],
   "source": [
    "y_pred is kmeans.labels_\n"
   ]
  },
  {
   "cell_type": "code",
   "execution_count": 146,
   "id": "918aa910-9127-477f-bfdf-f7c71bcb4c26",
   "metadata": {},
   "outputs": [
    {
     "data": {
      "text/plain": [
       "array([[6.59438805e+05, 1.08024305e+05],\n",
       "       [4.60756358e+08, 3.03024700e+06],\n",
       "       [7.23569731e+08, 1.95648890e+07],\n",
       "       [4.99579279e+08, 2.29621052e+08],\n",
       "       [3.05140570e+08, 1.25743160e+07]])"
      ]
     },
     "execution_count": 146,
     "metadata": {},
     "output_type": "execute_result"
    }
   ],
   "source": [
    "Centers6 = kmeans.cluster_centers_\n",
    "Centers6"
   ]
  },
  {
   "cell_type": "code",
   "execution_count": 147,
   "id": "2f694748-ddc4-4ecf-aaf1-8f6b3fe03a86",
   "metadata": {},
   "outputs": [
    {
     "data": {
      "image/png": "[encoded data removed]",
      "text/plain": [
       "<Figure size 432x288 with 1 Axes>"
      ]
     },
     "metadata": {
      "needs_background": "light"
     },
     "output_type": "display_data"
    },
    {
     "data": {
      "text/plain": [
       "<Figure size 72x72 with 0 Axes>"
      ]
     },
     "metadata": {},
     "output_type": "display_data"
    }
   ],
   "source": [
    "    plt.scatter(basebcb['RuralAgro_Total'],basebcb['Total da Carteira de Pessoa Física'],s=5)\n",
    "    plt.xlabel(\"$x_1$\", fontsize=14)\n",
    "    plt.ylabel(\"$x_2$\", fontsize=14, rotation=0)\n",
    "    plt.plot(Centers4[:,0],Centers3[:,1], 'r+')\n",
    "    plt.figure(figsize=(1, 1))\n",
    "    plt.show()"
   ]
  },
  {
   "cell_type": "markdown",
   "id": "516efef9-b02b-41b4-b3bf-2acf5f0ba2c1",
   "metadata": {},
   "source": [
    "# Clusterização V15 vs Total por categoria:"
   ]
  },
  {
   "cell_type": "code",
   "execution_count": 221,
   "id": "aaa43c8d-7235-42af-aeef-571c718f9c0f",
   "metadata": {},
   "outputs": [],
   "source": [
    "X = basebcb[['EmpComFolha_v15','EmpSemFolha_v15','Veiculos_v15','Habitacao_v15','Cartao_v15','RuralAgro_v15','Outros_v15']]\n",
    "kmeans = KMeans(n_clusters=5, random_state=42)\n",
    "y_pred = kmeans.fit_predict(X)"
   ]
  },
  {
   "cell_type": "code",
   "execution_count": 222,
   "id": "624294d5-d85a-4b21-9610-b86dadbcea11",
   "metadata": {},
   "outputs": [],
   "source": [
    "X = X.reset_index()\n"
   ]
  },
  {
   "cell_type": "code",
   "execution_count": 223,
   "id": "d99e28ac-1148-428f-a386-3b2d8e476081",
   "metadata": {},
   "outputs": [
    {
     "data": {
      "text/plain": [
       "index              False\n",
       "EmpComFolha_v15    False\n",
       "EmpSemFolha_v15    False\n",
       "Veiculos_v15       False\n",
       "Habitacao_v15      False\n",
       "Cartao_v15         False\n",
       "RuralAgro_v15      False\n",
       "Outros_v15         False\n",
       "dtype: bool"
      ]
     },
     "execution_count": 223,
     "metadata": {},
     "output_type": "execute_result"
    }
   ],
   "source": [
    "np.isnan(X.any()) "
   ]
  },
  {
   "cell_type": "code",
   "execution_count": 224,
   "id": "73f75348-07fa-4dbe-be1d-fca34b975536",
   "metadata": {},
   "outputs": [
    {
     "data": {
      "text/plain": [
       "index              True\n",
       "EmpComFolha_v15    True\n",
       "EmpSemFolha_v15    True\n",
       "Veiculos_v15       True\n",
       "Habitacao_v15      True\n",
       "Cartao_v15         True\n",
       "RuralAgro_v15      True\n",
       "Outros_v15         True\n",
       "dtype: bool"
      ]
     },
     "execution_count": 224,
     "metadata": {},
     "output_type": "execute_result"
    }
   ],
   "source": [
    "np.isfinite(X.all())"
   ]
  },
  {
   "cell_type": "code",
   "execution_count": 225,
   "id": "8c19b9ce-a40e-4771-831f-8b797dd1ef93",
   "metadata": {},
   "outputs": [
    {
     "data": {
      "text/plain": [
       "array([3, 1, 4, ..., 0, 0, 0])"
      ]
     },
     "execution_count": 225,
     "metadata": {},
     "output_type": "execute_result"
    }
   ],
   "source": [
    "y_pred"
   ]
  },
  {
   "cell_type": "code",
   "execution_count": 226,
   "id": "2b2dfe20-df73-45b2-81ea-3cb9b2a7318e",
   "metadata": {},
   "outputs": [
    {
     "data": {
      "text/plain": [
       "True"
      ]
     },
     "execution_count": 226,
     "metadata": {},
     "output_type": "execute_result"
    }
   ],
   "source": [
    "y_pred is kmeans.labels_"
   ]
  },
  {
   "cell_type": "code",
   "execution_count": 227,
   "id": "7b2d8e34-b3b2-4d3a-bcdb-329929bfb207",
   "metadata": {},
   "outputs": [
    {
     "data": {
      "text/plain": [
       "array([[5.30967213e+02, 2.79505100e+03, 7.88184882e+02, 1.41812386e+01,\n",
       "        3.56376594e+03, 3.51551002e+02, 1.37075865e+03],\n",
       "       [3.64356500e+05, 1.16104250e+06, 2.42502500e+05, 6.20830000e+04,\n",
       "        5.73745600e+06, 5.63732500e+05, 1.27313700e+06],\n",
       "       [1.05762300e+06, 1.31594200e+06, 9.40508000e+05, 7.57070000e+04,\n",
       "        2.78008300e+06, 2.82850000e+04, 2.68359100e+06],\n",
       "       [6.45178333e+04, 1.41242667e+05, 1.02733333e+05, 1.01054083e+05,\n",
       "        1.17374067e+06, 9.97816667e+03, 1.34236917e+05],\n",
       "       [5.38820000e+05, 6.55264000e+05, 5.38836000e+05, 5.63780000e+04,\n",
       "        1.03532640e+07, 1.72400000e+03, 2.62406800e+06]])"
      ]
     },
     "execution_count": 227,
     "metadata": {},
     "output_type": "execute_result"
    }
   ],
   "source": [
    "Centers7a = kmeans.cluster_centers_\n",
    "Centers7a"
   ]
  },
  {
   "cell_type": "code",
   "execution_count": 228,
   "id": "4b7aea93-b3c4-43b2-9fe5-c00ca77b7865",
   "metadata": {},
   "outputs": [],
   "source": [
    "model = AgglomerativeClustering(affinity = \"euclidean\", linkage = \"ward\", n_clusters = 5)\n",
    "clusters = model.fit_predict(X)"
   ]
  },
  {
   "cell_type": "code",
   "execution_count": 229,
   "id": "19ffc423-53b3-41e2-8e11-70a6c16aaadb",
   "metadata": {},
   "outputs": [
    {
     "data": {
      "text/plain": [
       "3    1094\n",
       "0      16\n",
       "1       2\n",
       "2       1\n",
       "4       1\n",
       "Name: cluster, dtype: int64"
      ]
     },
     "execution_count": 229,
     "metadata": {},
     "output_type": "execute_result"
    }
   ],
   "source": [
    "Clust = pd.DataFrame(clusters)\n",
    "X['cluster'] = Clust\n",
    "X['cluster'].value_counts()"
   ]
  },
  {
   "cell_type": "code",
   "execution_count": 230,
   "id": "a8be1748-94e2-4f03-a830-551d2fcf160d",
   "metadata": {},
   "outputs": [],
   "source": [
    "kmeans_per_k = [KMeans(n_clusters=k, random_state=42).fit(X)\n",
    "                for k in range(1, 10)]\n",
    "inertias = [model.inertia_ for model in kmeans_per_k]"
   ]
  },
  {
   "cell_type": "code",
   "execution_count": 231,
   "id": "ef008596-dae0-45f3-893f-75a2e02b8bbe",
   "metadata": {},
   "outputs": [
    {
     "data": {
      "text/plain": [
       "[233577007978999.47,\n",
       " 61003042513571.4,\n",
       " 36538905924991.016,\n",
       " 19553447675084.6,\n",
       " 11544014902389.258,\n",
       " 8374489693958.302,\n",
       " 5609636531628.306,\n",
       " 3175998476171.3774,\n",
       " 2368760610996.807]"
      ]
     },
     "execution_count": 231,
     "metadata": {},
     "output_type": "execute_result"
    }
   ],
   "source": [
    "inertias"
   ]
  },
  {
   "cell_type": "code",
   "execution_count": 235,
   "id": "d17671a7-0ee5-452e-91d8-31eeeaff311f",
   "metadata": {},
   "outputs": [
    {
     "data": {
      "image/png": "[encoded data removed]",
      "text/plain": [
       "<Figure size 576x252 with 1 Axes>"
      ]
     },
     "metadata": {
      "needs_background": "light"
     },
     "output_type": "display_data"
    }
   ],
   "source": [
    "plt.figure(figsize=(8, 3.5))\n",
    "plt.plot(range(1, 10), inertias, \"bo-\")\n",
    "plt.xlabel(\"$k$\", fontsize=14)\n",
    "plt.ylabel(\"Inertia\", fontsize=14)\n",
    "plt.annotate('Elbow',\n",
    "             xy=(2, inertias[1]),\n",
    "             xytext=(0.55, 0.55),\n",
    "             textcoords='figure fraction',\n",
    "             fontsize=16,\n",
    "             arrowprops=dict(facecolor='black', shrink=0.1)\n",
    "            )\n",
    "plt.axis([1, 10, 0, 233577007978999.47])\n",
    "plt.show()"
   ]
  },
  {
   "cell_type": "code",
   "execution_count": 236,
   "id": "5f2449d1-0e2f-4956-96a3-308eaf406421",
   "metadata": {},
   "outputs": [],
   "source": [
    "kmeans = KMeans(n_clusters=2, random_state=42)\n",
    "y_pred = kmeans.fit_predict(X)"
   ]
  },
  {
   "cell_type": "code",
   "execution_count": 237,
   "id": "01db842d-a4b2-491c-a198-d99836117d0b",
   "metadata": {},
   "outputs": [
    {
     "data": {
      "text/plain": [
       "array([0, 1, 1, ..., 0, 0, 0])"
      ]
     },
     "execution_count": 237,
     "metadata": {},
     "output_type": "execute_result"
    }
   ],
   "source": [
    "y_pred"
   ]
  },
  {
   "cell_type": "code",
   "execution_count": 238,
   "id": "078b2f7a-90b8-4b3e-a31b-5314cf5d5daa",
   "metadata": {},
   "outputs": [
    {
     "data": {
      "text/plain": [
       "3    1094\n",
       "0      16\n",
       "1       2\n",
       "2       1\n",
       "4       1\n",
       "Name: cluster, dtype: int64"
      ]
     },
     "execution_count": 238,
     "metadata": {},
     "output_type": "execute_result"
    }
   ],
   "source": [
    "Clust = pd.DataFrame(clusters)\n",
    "X['cluster'] = Clust\n",
    "X['cluster'].value_counts()"
   ]
  },
  {
   "cell_type": "code",
   "execution_count": null,
   "id": "28bd2750-a7ae-49de-abcd-f4479245df4d",
   "metadata": {},
   "outputs": [],
   "source": [
    "# Clusterização a partir dos Percentuais vencidos sobre total do produto"
   ]
  },
  {
   "cell_type": "code",
   "execution_count": 398,
   "id": "89e6bec1-3775-444a-999a-bb115a183a06",
   "metadata": {},
   "outputs": [],
   "source": [
    "X2 = basebcb[['EmpComFolha_perc','EmpSemFolha_perc','Veiculos_perc','Habitacao_perc','Cartao_perc','RuralAgro_perc','Outros_perc']]"
   ]
  },
  {
   "cell_type": "code",
   "execution_count": 382,
   "id": "13e804ed-a87c-4a1d-9e38-7932675bfc4a",
   "metadata": {},
   "outputs": [],
   "source": [
    "kmeans = KMeans(n_clusters=5, random_state=42)\n",
    "y_pred = kmeans.fit_predict(X2)"
   ]
  },
  {
   "cell_type": "code",
   "execution_count": 383,
   "id": "8e563707-0709-48d6-bd38-080e7cbc88ad",
   "metadata": {},
   "outputs": [
    {
     "data": {
      "text/plain": [
       "array([1, 1, 1, ..., 1, 1, 1])"
      ]
     },
     "execution_count": 383,
     "metadata": {},
     "output_type": "execute_result"
    }
   ],
   "source": [
    "y_pred"
   ]
  },
  {
   "cell_type": "code",
   "execution_count": 384,
   "id": "fc1872a0-f3bf-4e82-ac4e-4dcb4cf7ba4f",
   "metadata": {},
   "outputs": [
    {
     "data": {
      "text/plain": [
       "array([[ 4.84057684e-03,  2.16644180e-02,  4.76157494e-03,\n",
       "         1.62630326e-19,  1.77077144e-03,  1.69752843e-03,\n",
       "         2.64261083e-01],\n",
       "       [ 5.78384818e-03,  1.57120674e-02,  3.93025081e-03,\n",
       "         2.41752931e-04,  1.51830157e-02,  2.78114650e-03,\n",
       "         3.12798745e-02],\n",
       "       [ 4.25819985e-02,  5.65393452e-02,  1.67201802e-03,\n",
       "        -2.71050543e-20,  4.81490559e-02,  4.33680869e-19,\n",
       "         8.85067888e-01],\n",
       "       [ 4.01897933e-03,  6.60912829e-02,  2.67969921e-02,\n",
       "         3.30741966e-04,  6.41219330e-01,  1.27267269e-04,\n",
       "         2.53523276e-02],\n",
       "       [ 5.98460058e-02,  3.59323759e-01,  2.55558455e-02,\n",
       "         7.04996753e-04,  3.55310344e-02,  2.45495164e-04,\n",
       "         6.66806532e-03]])"
      ]
     },
     "execution_count": 384,
     "metadata": {},
     "output_type": "execute_result"
    }
   ],
   "source": [
    "Centers7a = kmeans.cluster_centers_\n",
    "Centers7a"
   ]
  },
  {
   "cell_type": "code",
   "execution_count": 385,
   "id": "a9d2bb3b-499e-4193-b78e-ba85b65692c9",
   "metadata": {},
   "outputs": [],
   "source": [
    "kmeans_per_k = [KMeans(n_clusters=k, random_state=42).fit(X2)\n",
    "                for k in range(1, 10)]\n",
    "inertias = [model.inertia_ for model in kmeans_per_k]"
   ]
  },
  {
   "cell_type": "code",
   "execution_count": 386,
   "id": "90af6bdd-9357-4c08-b940-ce2c1c6f3d0b",
   "metadata": {},
   "outputs": [
    {
     "data": {
      "text/plain": [
       "[46.54908408015271,\n",
       " 26.562764776850244,\n",
       " 20.69534227139838,\n",
       " 15.206146703650004,\n",
       " 11.566401555890973,\n",
       " 9.670632154622016,\n",
       " 8.62324732224296,\n",
       " 7.627818125929372,\n",
       " 6.712248949917035]"
      ]
     },
     "execution_count": 386,
     "metadata": {},
     "output_type": "execute_result"
    }
   ],
   "source": [
    "inertias"
   ]
  },
  {
   "cell_type": "code",
   "execution_count": 388,
   "id": "abf1421e-9106-4dfc-98e8-2f68209260b0",
   "metadata": {},
   "outputs": [
    {
     "data": {
      "image/png": "[encoded data removed]",
      "text/plain": [
       "<Figure size 576x252 with 1 Axes>"
      ]
     },
     "metadata": {
      "needs_background": "light"
     },
     "output_type": "display_data"
    }
   ],
   "source": [
    "plt.figure(figsize=(8, 3.5))\n",
    "plt.plot(range(1, 10), inertias, \"bo-\")\n",
    "plt.xlabel(\"$k$\", fontsize=14)\n",
    "plt.ylabel(\"Inertia\", fontsize=14)\n",
    "plt.annotate('Elbow',\n",
    "             xy=(2, inertias[1]),\n",
    "             xytext=(0.55, 0.55),\n",
    "             textcoords='figure fraction',\n",
    "             fontsize=16,\n",
    "             arrowprops=dict(facecolor='black', shrink=0.1)\n",
    "            )\n",
    "plt.axis([1, 9, 0, 60])\n",
    "plt.show()"
   ]
  },
  {
   "cell_type": "code",
   "execution_count": 389,
   "id": "88ded888-dcf1-4cb2-b765-d7beac96ddcd",
   "metadata": {},
   "outputs": [
    {
     "data": {
      "text/plain": [
       "2.0    995\n",
       "3.0     37\n",
       "4.0      5\n",
       "1.0      2\n",
       "0.0      2\n",
       "Name: cluster, dtype: int64"
      ]
     },
     "execution_count": 389,
     "metadata": {},
     "output_type": "execute_result"
    }
   ],
   "source": [
    "Clust = pd.DataFrame(clusters)\n",
    "X2['cluster'] = Clust\n",
    "X2['cluster'].value_counts()"
   ]
  },
  {
   "cell_type": "code",
   "execution_count": 390,
   "id": "0e7e2536-a720-4e7b-aea2-afb2b56189bb",
   "metadata": {},
   "outputs": [],
   "source": [
    "X2 = X2.reset_index()\n"
   ]
  },
  {
   "cell_type": "code",
   "execution_count": 393,
   "id": "abca2587-90f1-4fdf-9bd8-0082cb84e611",
   "metadata": {},
   "outputs": [],
   "source": [
    "kmeans = KMeans(n_clusters=2, random_state=42)\n",
    "y_pred = kmeans.fit_predict(X2)"
   ]
  },
  {
   "cell_type": "code",
   "execution_count": 394,
   "id": "61ffefd6-c8a1-4793-80ae-e293c98705b1",
   "metadata": {},
   "outputs": [
    {
     "data": {
      "text/plain": [
       "array([0, 0, 0, ..., 0, 0, 0])"
      ]
     },
     "execution_count": 394,
     "metadata": {},
     "output_type": "execute_result"
    }
   ],
   "source": [
    "y_pred"
   ]
  },
  {
   "cell_type": "code",
   "execution_count": 399,
   "id": "00cc7c04-9942-4221-b5e7-e31984fba6ec",
   "metadata": {},
   "outputs": [],
   "source": [
    "model = AgglomerativeClustering(affinity = \"euclidean\", linkage = \"ward\", n_clusters = 2)\n",
    "clusters = model.fit_predict(X2)"
   ]
  },
  {
   "cell_type": "code",
   "execution_count": 400,
   "id": "01b34bad-b761-447d-86f6-f7dd050480e9",
   "metadata": {},
   "outputs": [
    {
     "data": {
      "text/plain": [
       "0.0    963\n",
       "1.0     78\n",
       "Name: cluster, dtype: int64"
      ]
     },
     "execution_count": 400,
     "metadata": {},
     "output_type": "execute_result"
    }
   ],
   "source": [
    "Clust = pd.DataFrame(clusters)\n",
    "X2['cluster'] = Clust\n",
    "X2['cluster'].value_counts()"
   ]
  },
  {
   "cell_type": "code",
   "execution_count": 299,
   "id": "48f9cd37-7b39-4030-935a-e514fc443ec0",
   "metadata": {},
   "outputs": [],
   "source": [
    "X = basebcb[['EmpComFolha_Total','EmpComFolha_v15']]\n",
    "\n",
    "kmeans = KMeans(n_clusters=5, random_state=42)\n",
    "y_pred = kmeans.fit_predict(X)"
   ]
  },
  {
   "cell_type": "code",
   "execution_count": 300,
   "id": "93a7cbbd-f7fb-4555-9102-bfc10028ff50",
   "metadata": {},
   "outputs": [
    {
     "data": {
      "text/plain": [
       "array([1, 3, 2, ..., 0, 0, 0])"
      ]
     },
     "execution_count": 300,
     "metadata": {},
     "output_type": "execute_result"
    }
   ],
   "source": [
    "y_pred"
   ]
  },
  {
   "cell_type": "code",
   "execution_count": 222,
   "id": "a8df60cb-2f30-41ef-8509-68efa5a5a609",
   "metadata": {},
   "outputs": [
    {
     "data": {
      "text/plain": [
       "array([[4.13148118e+05, 2.14636730e+05, 2.24137735e+05, 2.65715687e+05,\n",
       "        3.86356483e+05, 3.39262251e+05, 1.37471506e+05],\n",
       "       [9.02066390e+07, 1.39461560e+07, 9.24600000e+04, 5.76343778e+08,\n",
       "        1.13771100e+07, 1.95648890e+07, 1.20387000e+07]])"
      ]
     },
     "execution_count": 222,
     "metadata": {},
     "output_type": "execute_result"
    }
   ],
   "source": [
    "Centers7a = kmeans.cluster_centers_\n",
    "Centers7a"
   ]
  },
  {
   "cell_type": "code",
   "execution_count": 151,
   "id": "8a7dd459-2c0b-462c-93ce-ce459e82931b",
   "metadata": {},
   "outputs": [
    {
     "data": {
      "text/plain": [
       "True"
      ]
     },
     "execution_count": 151,
     "metadata": {},
     "output_type": "execute_result"
    }
   ],
   "source": [
    "y_pred is kmeans.labels_\n"
   ]
  },
  {
   "cell_type": "code",
   "execution_count": 152,
   "id": "5909f400-04eb-4c2f-ae1e-8a680ab061de",
   "metadata": {},
   "outputs": [
    {
     "data": {
      "text/plain": [
       "array([[3.60177475e+04, 2.41976299e+02],\n",
       "       [8.81423855e+07, 5.21641000e+05],\n",
       "       [6.25033765e+07, 7.98221500e+05],\n",
       "       [1.10683072e+08, 3.01449000e+05],\n",
       "       [8.21286908e+06, 3.96458333e+04]])"
      ]
     },
     "execution_count": 152,
     "metadata": {},
     "output_type": "execute_result"
    }
   ],
   "source": [
    "Centers7 = kmeans.cluster_centers_\n",
    "Centers7"
   ]
  },
  {
   "cell_type": "code",
   "execution_count": 153,
   "id": "7288e6ec-dc1e-4283-a5a9-9cc84da9eabb",
   "metadata": {},
   "outputs": [
    {
     "data": {
      "image/png": "[encoded data removed]",
      "text/plain": [
       "<Figure size 432x288 with 1 Axes>"
      ]
     },
     "metadata": {
      "needs_background": "light"
     },
     "output_type": "display_data"
    },
    {
     "data": {
      "text/plain": [
       "<Figure size 72x72 with 0 Axes>"
      ]
     },
     "metadata": {},
     "output_type": "display_data"
    }
   ],
   "source": [
    "    plt.scatter(basebcb['EmpComFolha_Total'],basebcb['EmpComFolha_v15'],s=5)\n",
    "    plt.xlabel(\"$x_1$\", fontsize=14)\n",
    "    plt.ylabel(\"$x_2$\", fontsize=14, rotation=0)\n",
    "    plt.plot(Centers7[:,0],Centers7[:,1], 'r+')\n",
    "    plt.figure(figsize=(1, 1))\n",
    "    plt.show()"
   ]
  },
  {
   "cell_type": "code",
   "execution_count": 154,
   "id": "fcd0f204-082f-43e8-9bd9-13eadcc03a84",
   "metadata": {},
   "outputs": [],
   "source": [
    "def plot_decision_boundaries(clusterer, X, resolution=1000, show_centroids=True,\n",
    "                             show_xlabels=True, show_ylabels=True):\n",
    "    mins = X.min(axis=0) - 0.1\n",
    "    maxs = X.max(axis=0) + 0.1\n",
    "    xx, yy = np.meshgrid(np.linspace(mins[0], maxs[0], resolution),\n",
    "                         np.linspace(mins[1], maxs[1], resolution))\n",
    "    Z = clusterer.predict(np.c_[xx.ravel(), yy.ravel()])\n",
    "    Z = Z.reshape(xx.shape)\n",
    "\n",
    "    plt.contourf(Z, extent=(mins[0], maxs[0], mins[1], maxs[1]),\n",
    "                cmap=\"Pastel2\")\n",
    "    plt.contour(Z, extent=(mins[0], maxs[0], mins[1], maxs[1]),\n",
    "                linewidths=1, colors='k')\n",
    "    plot_data(X)\n",
    "    if show_centroids:\n",
    "        plot_centroids(clusterer.cluster_centers_)\n",
    "\n",
    "    if show_xlabels:\n",
    "        plt.xlabel(\"$x_1$\", fontsize=14)\n",
    "    else:\n",
    "        plt.tick_params(labelbottom=False)\n",
    "    if show_ylabels:\n",
    "        plt.ylabel(\"$x_2$\", fontsize=14, rotation=0)\n",
    "    else:\n",
    "        plt.tick_params(labelleft=False)"
   ]
  },
  {
   "cell_type": "code",
   "execution_count": 155,
   "id": "3656ca08-dcb6-433c-9ec6-2cfa4be324ec",
   "metadata": {},
   "outputs": [],
   "source": [
    "def plot_clusterer_comparison(clusterer1, clusterer2, X, title1=None, title2=None):\n",
    "    clusterer1.fit(X)\n",
    "    clusterer2.fit(X)\n",
    "\n",
    "    plt.figure(figsize=(10, 3.2))\n",
    "\n",
    "    plt.subplot(121)\n",
    "    plot_decision_boundaries(clusterer1, X)\n",
    "    if title1:\n",
    "        plt.title(title1, fontsize=14)\n",
    "\n",
    "    plt.subplot(122)\n",
    "    plot_decision_boundaries(clusterer2, X, show_ylabels=False)\n",
    "    if title2:\n",
    "        plt.title(title2, fontsize=14)\n",
    "        \n",
    "def plot_data(X):\n",
    "    plt.plot(X[:, 0], X[:, 1], 'k.', markersize=2)"
   ]
  },
  {
   "cell_type": "code",
   "execution_count": 145,
   "id": "bf3f8491-28af-4b9d-a35f-e565e906aad3",
   "metadata": {},
   "outputs": [],
   "source": [
    "#kmeans_k3 = KMeans(n_clusters=1, random_state=42)\n",
    "#kmeans_k5 = KMeans(n_clusters=2, random_state=42)\n",
    "#plot_clusterer_comparison(kmeans_k3, kmeans_k5, [basebcb['EmpComFolha_Total'],basebcb['EmpComFolha_v15']], \"$k=3$\", \"$k=5$\")\n",
    "#plt.show()\n"
   ]
  },
  {
   "cell_type": "code",
   "execution_count": 157,
   "id": "e3b0a11d-34de-4255-ac2d-ed1bf9db434a",
   "metadata": {},
   "outputs": [],
   "source": [
    "X = basebcb[['Total da Carteira de Pessoa Física','RuralAgro_Total']]\n",
    "\n",
    "kmeans = KMeans(n_clusters=5, random_state=42)\n",
    "y_pred = kmeans.fit_predict(X)"
   ]
  },
  {
   "cell_type": "code",
   "execution_count": null,
   "id": "c4e330ac-2791-4700-aeb5-125e23b2c77a",
   "metadata": {},
   "outputs": [],
   "source": []
  },
  {
   "cell_type": "code",
   "execution_count": 158,
   "id": "c70230a3-c6c6-4983-bc88-88a9ab88babd",
   "metadata": {},
   "outputs": [],
   "source": [
    "kmeans_per_k = [KMeans(n_clusters=k, random_state=42).fit(X)\n",
    "                for k in range(1, 10)]\n",
    "inertias = [model.inertia_ for model in kmeans_per_k]"
   ]
  },
  {
   "cell_type": "code",
   "execution_count": 159,
   "id": "0e1f3c23-8bec-4c2a-822c-24e35e915fcf",
   "metadata": {},
   "outputs": [
    {
     "data": {
      "text/plain": [
       "[1.2305296517504973e+18,\n",
       " 1.7034839577799405e+17,\n",
       " 7.666096731160021e+16,\n",
       " 2.951331021087676e+16,\n",
       " 1.3308401829328806e+16,\n",
       " 5625750782037812.0,\n",
       " 3479139147359579.5,\n",
       " 1378954235390294.2,\n",
       " 872424684954328.8]"
      ]
     },
     "execution_count": 159,
     "metadata": {},
     "output_type": "execute_result"
    }
   ],
   "source": [
    "inertias"
   ]
  },
  {
   "cell_type": "code",
   "execution_count": 160,
   "id": "ffbdc814-01ee-48a8-8257-3813bd8a1a07",
   "metadata": {},
   "outputs": [
    {
     "data": {
      "image/png": "[encoded data removed]",
      "text/plain": [
       "<Figure size 576x252 with 1 Axes>"
      ]
     },
     "metadata": {
      "needs_background": "light"
     },
     "output_type": "display_data"
    }
   ],
   "source": [
    "plt.figure(figsize=(8, 3.5))\n",
    "plt.plot(range(1, 10), inertias, \"bo-\")\n",
    "plt.xlabel(\"$k$\", fontsize=14)\n",
    "plt.ylabel(\"Inertia\", fontsize=14)\n",
    "plt.annotate('Elbow',\n",
    "             xy=(2, inertias[1]),\n",
    "             xytext=(0.55, 0.55),\n",
    "             textcoords='figure fraction',\n",
    "             fontsize=16,\n",
    "             arrowprops=dict(facecolor='black', shrink=0.1)\n",
    "            )\n",
    "plt.axis([1, 8.5, 0, 1.2305296517504973e+18])\n",
    "plt.show()"
   ]
  },
  {
   "cell_type": "code",
   "execution_count": 403,
   "id": "b1d83561-4efa-448d-ad27-e0ab450cc582",
   "metadata": {},
   "outputs": [
    {
     "ename": "NameError",
     "evalue": "name 'plot_decision_boundaries' is not defined",
     "output_type": "error",
     "traceback": [
      "\u001b[1;31m---------------------------------------------------------------------------\u001b[0m",
      "\u001b[1;31mNameError\u001b[0m                                 Traceback (most recent call last)",
      "Input \u001b[1;32mIn [403]\u001b[0m, in \u001b[0;36m<cell line: 1>\u001b[1;34m()\u001b[0m\n\u001b[1;32m----> 1\u001b[0m \u001b[43mplot_decision_boundaries\u001b[49m(kmeans_per_k[\u001b[38;5;241m2\u001b[39m\u001b[38;5;241m-\u001b[39m\u001b[38;5;241m1\u001b[39m], X)\n\u001b[0;32m      2\u001b[0m plt\u001b[38;5;241m.\u001b[39mscatter(basebcb[\u001b[38;5;124m'\u001b[39m\u001b[38;5;124mEmpComFolha_Total\u001b[39m\u001b[38;5;124m'\u001b[39m],basebcb[\u001b[38;5;124m'\u001b[39m\u001b[38;5;124mEmpComFolha_v15\u001b[39m\u001b[38;5;124m'\u001b[39m],s\u001b[38;5;241m=\u001b[39m\u001b[38;5;241m5\u001b[39m)\n\u001b[0;32m      3\u001b[0m plt\u001b[38;5;241m.\u001b[39mshow()\n",
      "\u001b[1;31mNameError\u001b[0m: name 'plot_decision_boundaries' is not defined"
     ]
    }
   ],
   "source": [
    "plot_decision_boundaries(kmeans_per_k[2-1], X)\n",
    "plt.scatter(basebcb['EmpComFolha_Total'],basebcb['EmpComFolha_v15'],s=5)\n",
    "plt.show()"
   ]
  },
  {
   "cell_type": "code",
   "execution_count": 162,
   "id": "c78fad3e-7975-4012-901d-470cf80ba0ab",
   "metadata": {},
   "outputs": [],
   "source": [
    "kmeans = KMeans(n_clusters=2, random_state=42)\n",
    "y_pred = kmeans.fit_predict(X)"
   ]
  },
  {
   "cell_type": "code",
   "execution_count": 163,
   "id": "b7e3ce7c-dcf2-4d5e-9d89-56b05f2e3444",
   "metadata": {},
   "outputs": [
    {
     "data": {
      "text/plain": [
       "array([[6.59438805e+05, 1.08024305e+05],\n",
       "       [4.58837302e+08, 5.54729640e+07]])"
      ]
     },
     "execution_count": 163,
     "metadata": {},
     "output_type": "execute_result"
    }
   ],
   "source": [
    "Centers8 = kmeans.cluster_centers_\n",
    "Centers8"
   ]
  },
  {
   "cell_type": "code",
   "execution_count": 164,
   "id": "a92ac670-1f88-4ba6-b37d-0155b4d8f6fc",
   "metadata": {},
   "outputs": [
    {
     "data": {
      "image/png": "[encoded data removed]",
      "text/plain": [
       "<Figure size 432x288 with 1 Axes>"
      ]
     },
     "metadata": {
      "needs_background": "light"
     },
     "output_type": "display_data"
    },
    {
     "data": {
      "text/plain": [
       "<Figure size 72x72 with 0 Axes>"
      ]
     },
     "metadata": {},
     "output_type": "display_data"
    }
   ],
   "source": [
    "    plt.scatter(basebcb['EmpComFolha_Total'],basebcb['EmpComFolha_v15'],s=5)\n",
    "    plt.xlabel(\"$x_1$\", fontsize=14)\n",
    "    plt.ylabel(\"$x_2$\", fontsize=14, rotation=0)\n",
    "    plt.plot(Centers8[:,0],Centers8[:,1], 'r+')\n",
    "    plt.figure(figsize=(1, 1))\n",
    "    plt.show()"
   ]
  },
  {
   "cell_type": "code",
   "execution_count": 165,
   "id": "931d8e5b-4440-4f95-89d1-22c46fca5774",
   "metadata": {},
   "outputs": [
    {
     "data": {
      "image/png": "[encoded data removed]",
      "text/plain": [
       "<Figure size 432x288 with 1 Axes>"
      ]
     },
     "metadata": {
      "needs_background": "light"
     },
     "output_type": "display_data"
    }
   ],
   "source": [
    "plt.scatter(basebcb['EmpComFolha_Total'],basebcb['EmpComFolha_v15'],s=5)\n",
    "plt.plot(Centers8[:,0],Centers8[:,1], 'r+')\n",
    "plt.show()"
   ]
  },
  {
   "cell_type": "markdown",
   "id": "322ec71a-620e-4fa1-93fd-77f22b60318b",
   "metadata": {},
   "source": [
    "# Base Risco da Operação"
   ]
  },
  {
   "cell_type": "code",
   "execution_count": 254,
   "id": "5d4d6dcc-3a3a-480d-94f8-4bd07e491c5b",
   "metadata": {},
   "outputs": [
    {
     "data": {
      "text/html": [
       "<div>\n",
       "<style scoped>\n",
       "    .dataframe tbody tr th:only-of-type {\n",
       "        vertical-align: middle;\n",
       "    }\n",
       "\n",
       "    .dataframe tbody tr th {\n",
       "        vertical-align: top;\n",
       "    }\n",
       "\n",
       "    .dataframe thead th {\n",
       "        text-align: right;\n",
       "    }\n",
       "</style>\n",
       "<table border=\"1\" class=\"dataframe\">\n",
       "  <thead>\n",
       "    <tr style=\"text-align: right;\">\n",
       "      <th></th>\n",
       "      <th>Instituição financeira</th>\n",
       "      <th>Código</th>\n",
       "      <th>TCB</th>\n",
       "      <th>TD</th>\n",
       "      <th>TC</th>\n",
       "      <th>SR</th>\n",
       "      <th>Segmento</th>\n",
       "      <th>Cidade</th>\n",
       "      <th>UF</th>\n",
       "      <th>Data</th>\n",
       "      <th>...</th>\n",
       "      <th>AA</th>\n",
       "      <th>A</th>\n",
       "      <th>B</th>\n",
       "      <th>C</th>\n",
       "      <th>D</th>\n",
       "      <th>E</th>\n",
       "      <th>F</th>\n",
       "      <th>G</th>\n",
       "      <th>H</th>\n",
       "      <th>Total Exterior</th>\n",
       "    </tr>\n",
       "  </thead>\n",
       "  <tbody>\n",
       "    <tr>\n",
       "      <th>0</th>\n",
       "      <td>ITAU</td>\n",
       "      <td>10069.0</td>\n",
       "      <td>b1</td>\n",
       "      <td>C</td>\n",
       "      <td>2.0</td>\n",
       "      <td>S1</td>\n",
       "      <td>199.0</td>\n",
       "      <td>SAO PAULO</td>\n",
       "      <td>SP</td>\n",
       "      <td>2022-06-01</td>\n",
       "      <td>...</td>\n",
       "      <td>271245582</td>\n",
       "      <td>221846904</td>\n",
       "      <td>47998021</td>\n",
       "      <td>18233893</td>\n",
       "      <td>8216128</td>\n",
       "      <td>5578006</td>\n",
       "      <td>6482991</td>\n",
       "      <td>7147330</td>\n",
       "      <td>15069213</td>\n",
       "      <td>326658682</td>\n",
       "    </tr>\n",
       "    <tr>\n",
       "      <th>1</th>\n",
       "      <td>CAIXA ECONÔMICA FEDERAL</td>\n",
       "      <td>51626.0</td>\n",
       "      <td>b1</td>\n",
       "      <td>C</td>\n",
       "      <td>1.0</td>\n",
       "      <td>S1</td>\n",
       "      <td>199.0</td>\n",
       "      <td>BRASILIA</td>\n",
       "      <td>DF</td>\n",
       "      <td>2022-06-01</td>\n",
       "      <td>...</td>\n",
       "      <td>449928655</td>\n",
       "      <td>162852098</td>\n",
       "      <td>135735087</td>\n",
       "      <td>100183474</td>\n",
       "      <td>29901793</td>\n",
       "      <td>9206608</td>\n",
       "      <td>5479025</td>\n",
       "      <td>14136051</td>\n",
       "      <td>14438645</td>\n",
       "      <td>0</td>\n",
       "    </tr>\n",
       "    <tr>\n",
       "      <th>2</th>\n",
       "      <td>BB</td>\n",
       "      <td>49906.0</td>\n",
       "      <td>b1</td>\n",
       "      <td>C</td>\n",
       "      <td>1.0</td>\n",
       "      <td>S1</td>\n",
       "      <td>199.0</td>\n",
       "      <td>BRASILIA</td>\n",
       "      <td>DF</td>\n",
       "      <td>2022-06-01</td>\n",
       "      <td>...</td>\n",
       "      <td>341406134</td>\n",
       "      <td>102861009</td>\n",
       "      <td>172594062</td>\n",
       "      <td>83805088</td>\n",
       "      <td>19496521</td>\n",
       "      <td>8498232</td>\n",
       "      <td>3956582</td>\n",
       "      <td>4095016</td>\n",
       "      <td>25725291</td>\n",
       "      <td>33253620</td>\n",
       "    </tr>\n",
       "    <tr>\n",
       "      <th>3</th>\n",
       "      <td>BRADESCO</td>\n",
       "      <td>10045.0</td>\n",
       "      <td>b1</td>\n",
       "      <td>C</td>\n",
       "      <td>2.0</td>\n",
       "      <td>S1</td>\n",
       "      <td>199.0</td>\n",
       "      <td>OSASCO</td>\n",
       "      <td>SP</td>\n",
       "      <td>2022-06-01</td>\n",
       "      <td>...</td>\n",
       "      <td>177809402</td>\n",
       "      <td>128109897</td>\n",
       "      <td>134221437</td>\n",
       "      <td>81142652</td>\n",
       "      <td>19610709</td>\n",
       "      <td>15347345</td>\n",
       "      <td>6505674</td>\n",
       "      <td>5149699</td>\n",
       "      <td>20238652</td>\n",
       "      <td>81912836</td>\n",
       "    </tr>\n",
       "    <tr>\n",
       "      <th>4</th>\n",
       "      <td>SANTANDER</td>\n",
       "      <td>30379.0</td>\n",
       "      <td>b1</td>\n",
       "      <td>C</td>\n",
       "      <td>3.0</td>\n",
       "      <td>S1</td>\n",
       "      <td>199.0</td>\n",
       "      <td>SAO PAULO</td>\n",
       "      <td>SP</td>\n",
       "      <td>2022-06-01</td>\n",
       "      <td>...</td>\n",
       "      <td>143456534</td>\n",
       "      <td>127141848</td>\n",
       "      <td>45023031</td>\n",
       "      <td>35423280</td>\n",
       "      <td>18493511</td>\n",
       "      <td>6886872</td>\n",
       "      <td>5329129</td>\n",
       "      <td>4882323</td>\n",
       "      <td>14633719</td>\n",
       "      <td>66547572</td>\n",
       "    </tr>\n",
       "  </tbody>\n",
       "</table>\n",
       "<p>5 rows × 21 columns</p>\n",
       "</div>"
      ],
      "text/plain": [
       "    Instituição financeira   Código TCB TD   TC  SR  Segmento     Cidade  UF  \\\n",
       "0                     ITAU  10069.0  b1  C  2.0  S1     199.0  SAO PAULO  SP   \n",
       "1  CAIXA ECONÔMICA FEDERAL  51626.0  b1  C  1.0  S1     199.0   BRASILIA  DF   \n",
       "2                       BB  49906.0  b1  C  1.0  S1     199.0   BRASILIA  DF   \n",
       "3                 BRADESCO  10045.0  b1  C  2.0  S1     199.0     OSASCO  SP   \n",
       "4                SANTANDER  30379.0  b1  C  3.0  S1     199.0  SAO PAULO  SP   \n",
       "\n",
       "        Data  ...         AA          A          B          C         D  \\\n",
       "0 2022-06-01  ...  271245582  221846904   47998021   18233893   8216128   \n",
       "1 2022-06-01  ...  449928655  162852098  135735087  100183474  29901793   \n",
       "2 2022-06-01  ...  341406134  102861009  172594062   83805088  19496521   \n",
       "3 2022-06-01  ...  177809402  128109897  134221437   81142652  19610709   \n",
       "4 2022-06-01  ...  143456534  127141848   45023031   35423280  18493511   \n",
       "\n",
       "          E        F         G         H Total Exterior  \n",
       "0   5578006  6482991   7147330  15069213      326658682  \n",
       "1   9206608  5479025  14136051  14438645              0  \n",
       "2   8498232  3956582   4095016  25725291       33253620  \n",
       "3  15347345  6505674   5149699  20238652       81912836  \n",
       "4   6886872  5329129   4882323  14633719       66547572  \n",
       "\n",
       "[5 rows x 21 columns]"
      ]
     },
     "execution_count": 254,
     "metadata": {},
     "output_type": "execute_result"
    }
   ],
   "source": [
    "baserisco = pd.read_excel(r'C:\\Users\\jgjoa\\Documents\\dados(2aBase).xlsx',decimal=',')\n",
    "\n",
    "baserisco.head()"
   ]
  },
  {
   "cell_type": "code",
   "execution_count": 255,
   "id": "f40a3658-7591-45f1-8fff-08be0135ae33",
   "metadata": {},
   "outputs": [],
   "source": [
    "baserisco.drop(labels=range(1338, 1367), axis=0,inplace=True)\n"
   ]
  },
  {
   "cell_type": "code",
   "execution_count": 256,
   "id": "a275fed8-8fd1-49cc-a329-55be73be0870",
   "metadata": {},
   "outputs": [
    {
     "data": {
      "text/html": [
       "<div>\n",
       "<style scoped>\n",
       "    .dataframe tbody tr th:only-of-type {\n",
       "        vertical-align: middle;\n",
       "    }\n",
       "\n",
       "    .dataframe tbody tr th {\n",
       "        vertical-align: top;\n",
       "    }\n",
       "\n",
       "    .dataframe thead th {\n",
       "        text-align: right;\n",
       "    }\n",
       "</style>\n",
       "<table border=\"1\" class=\"dataframe\">\n",
       "  <thead>\n",
       "    <tr style=\"text-align: right;\">\n",
       "      <th></th>\n",
       "      <th>Instituição financeira</th>\n",
       "      <th>Código</th>\n",
       "      <th>TCB</th>\n",
       "      <th>TD</th>\n",
       "      <th>TC</th>\n",
       "      <th>SR</th>\n",
       "      <th>Segmento</th>\n",
       "      <th>Cidade</th>\n",
       "      <th>UF</th>\n",
       "      <th>Data</th>\n",
       "      <th>...</th>\n",
       "      <th>AA</th>\n",
       "      <th>A</th>\n",
       "      <th>B</th>\n",
       "      <th>C</th>\n",
       "      <th>D</th>\n",
       "      <th>E</th>\n",
       "      <th>F</th>\n",
       "      <th>G</th>\n",
       "      <th>H</th>\n",
       "      <th>Total Exterior</th>\n",
       "    </tr>\n",
       "  </thead>\n",
       "  <tbody>\n",
       "    <tr>\n",
       "      <th>1333</th>\n",
       "      <td>FLAGSHIP INSTITUICAO DE PAGAMENTOS LTDA</td>\n",
       "      <td>23114447.0</td>\n",
       "      <td>n4</td>\n",
       "      <td>I</td>\n",
       "      <td>2.0</td>\n",
       "      <td>NaN</td>\n",
       "      <td>41.0</td>\n",
       "      <td>SAO PAULO</td>\n",
       "      <td>SP</td>\n",
       "      <td>2022-06-01</td>\n",
       "      <td>...</td>\n",
       "      <td>NI</td>\n",
       "      <td>NI</td>\n",
       "      <td>NI</td>\n",
       "      <td>NI</td>\n",
       "      <td>NI</td>\n",
       "      <td>NI</td>\n",
       "      <td>NI</td>\n",
       "      <td>NI</td>\n",
       "      <td>NI</td>\n",
       "      <td>NI</td>\n",
       "    </tr>\n",
       "    <tr>\n",
       "      <th>1334</th>\n",
       "      <td>HINOVA PAY INSTITUICAO DE PAGAMENTO S.A.</td>\n",
       "      <td>27970567.0</td>\n",
       "      <td>n4</td>\n",
       "      <td>I</td>\n",
       "      <td>2.0</td>\n",
       "      <td>NaN</td>\n",
       "      <td>41.0</td>\n",
       "      <td>BELO HORIZONTE</td>\n",
       "      <td>MG</td>\n",
       "      <td>2022-06-01</td>\n",
       "      <td>...</td>\n",
       "      <td>NI</td>\n",
       "      <td>NI</td>\n",
       "      <td>NI</td>\n",
       "      <td>NI</td>\n",
       "      <td>NI</td>\n",
       "      <td>NI</td>\n",
       "      <td>NI</td>\n",
       "      <td>NI</td>\n",
       "      <td>NI</td>\n",
       "      <td>NI</td>\n",
       "    </tr>\n",
       "    <tr>\n",
       "      <th>1335</th>\n",
       "      <td>BANQI INSTITUICAO DE PAGAMENTO LTDA.</td>\n",
       "      <td>30723871.0</td>\n",
       "      <td>n4</td>\n",
       "      <td>I</td>\n",
       "      <td>2.0</td>\n",
       "      <td>S5</td>\n",
       "      <td>41.0</td>\n",
       "      <td>SAO PAULO</td>\n",
       "      <td>SP</td>\n",
       "      <td>2022-06-01</td>\n",
       "      <td>...</td>\n",
       "      <td>NI</td>\n",
       "      <td>NI</td>\n",
       "      <td>NI</td>\n",
       "      <td>NI</td>\n",
       "      <td>NI</td>\n",
       "      <td>NI</td>\n",
       "      <td>NI</td>\n",
       "      <td>NI</td>\n",
       "      <td>NI</td>\n",
       "      <td>NI</td>\n",
       "    </tr>\n",
       "    <tr>\n",
       "      <th>1336</th>\n",
       "      <td>SHPP BRASIL INSTITUIÇÃO DE PAGAMENTO E SERVIÇO...</td>\n",
       "      <td>38372267.0</td>\n",
       "      <td>n4</td>\n",
       "      <td>I</td>\n",
       "      <td>2.0</td>\n",
       "      <td>NaN</td>\n",
       "      <td>41.0</td>\n",
       "      <td>SAO PAULO</td>\n",
       "      <td>SP</td>\n",
       "      <td>2022-06-01</td>\n",
       "      <td>...</td>\n",
       "      <td>NI</td>\n",
       "      <td>NI</td>\n",
       "      <td>NI</td>\n",
       "      <td>NI</td>\n",
       "      <td>NI</td>\n",
       "      <td>NI</td>\n",
       "      <td>NI</td>\n",
       "      <td>NI</td>\n",
       "      <td>NI</td>\n",
       "      <td>NI</td>\n",
       "    </tr>\n",
       "    <tr>\n",
       "      <th>1337</th>\n",
       "      <td>CRYSTAL BMC - INSTITUICAO DE PAGAMENTO LTDA.</td>\n",
       "      <td>43561343.0</td>\n",
       "      <td>n4</td>\n",
       "      <td>I</td>\n",
       "      <td>2.0</td>\n",
       "      <td>NaN</td>\n",
       "      <td>41.0</td>\n",
       "      <td>BARUERI</td>\n",
       "      <td>SP</td>\n",
       "      <td>2022-06-01</td>\n",
       "      <td>...</td>\n",
       "      <td>NI</td>\n",
       "      <td>NI</td>\n",
       "      <td>NI</td>\n",
       "      <td>NI</td>\n",
       "      <td>NI</td>\n",
       "      <td>NI</td>\n",
       "      <td>NI</td>\n",
       "      <td>NI</td>\n",
       "      <td>NI</td>\n",
       "      <td>NI</td>\n",
       "    </tr>\n",
       "  </tbody>\n",
       "</table>\n",
       "<p>5 rows × 21 columns</p>\n",
       "</div>"
      ],
      "text/plain": [
       "                                 Instituição financeira      Código TCB TD  \\\n",
       "1333            FLAGSHIP INSTITUICAO DE PAGAMENTOS LTDA  23114447.0  n4  I   \n",
       "1334           HINOVA PAY INSTITUICAO DE PAGAMENTO S.A.  27970567.0  n4  I   \n",
       "1335               BANQI INSTITUICAO DE PAGAMENTO LTDA.  30723871.0  n4  I   \n",
       "1336  SHPP BRASIL INSTITUIÇÃO DE PAGAMENTO E SERVIÇO...  38372267.0  n4  I   \n",
       "1337       CRYSTAL BMC - INSTITUICAO DE PAGAMENTO LTDA.  43561343.0  n4  I   \n",
       "\n",
       "       TC   SR  Segmento          Cidade  UF       Data  ...  AA   A   B   C  \\\n",
       "1333  2.0  NaN      41.0       SAO PAULO  SP 2022-06-01  ...  NI  NI  NI  NI   \n",
       "1334  2.0  NaN      41.0  BELO HORIZONTE  MG 2022-06-01  ...  NI  NI  NI  NI   \n",
       "1335  2.0   S5      41.0       SAO PAULO  SP 2022-06-01  ...  NI  NI  NI  NI   \n",
       "1336  2.0  NaN      41.0       SAO PAULO  SP 2022-06-01  ...  NI  NI  NI  NI   \n",
       "1337  2.0  NaN      41.0         BARUERI  SP 2022-06-01  ...  NI  NI  NI  NI   \n",
       "\n",
       "       D   E   F   G   H Total Exterior  \n",
       "1333  NI  NI  NI  NI  NI             NI  \n",
       "1334  NI  NI  NI  NI  NI             NI  \n",
       "1335  NI  NI  NI  NI  NI             NI  \n",
       "1336  NI  NI  NI  NI  NI             NI  \n",
       "1337  NI  NI  NI  NI  NI             NI  \n",
       "\n",
       "[5 rows x 21 columns]"
      ]
     },
     "execution_count": 256,
     "metadata": {},
     "output_type": "execute_result"
    }
   ],
   "source": [
    "baserisco.tail()"
   ]
  },
  {
   "cell_type": "code",
   "execution_count": 257,
   "id": "1d899046-0d32-478c-9fa0-403f2eded1db",
   "metadata": {},
   "outputs": [
    {
     "data": {
      "text/plain": [
       "Index(['Instituição financeira', 'Código', 'TCB', 'TD', 'TC', 'SR', 'Segmento',\n",
       "       'Cidade', 'UF', 'Data', 'Total Geral', 'AA', 'A', 'B', 'C', 'D', 'E',\n",
       "       'F', 'G', 'H', 'Total Exterior'],\n",
       "      dtype='object')"
      ]
     },
     "execution_count": 257,
     "metadata": {},
     "output_type": "execute_result"
    }
   ],
   "source": [
    "baserisco.columns"
   ]
  },
  {
   "cell_type": "code",
   "execution_count": 258,
   "id": "cfb7fe67-3867-47ec-80aa-e402e41836b2",
   "metadata": {},
   "outputs": [],
   "source": [
    "baserisco = baserisco.rename(columns={\n",
    "'Total Geral': 'Total_Geral',})"
   ]
  },
  {
   "cell_type": "code",
   "execution_count": 259,
   "id": "4e6f93da-f63c-4193-b915-d42bdf260688",
   "metadata": {},
   "outputs": [],
   "source": [
    "baserisco = baserisco[baserisco.Total_Geral!=\"NI\"]\n",
    "baserisco = baserisco[baserisco.Total_Geral!=0]\n",
    "baserisco = baserisco.dropna()"
   ]
  },
  {
   "cell_type": "code",
   "execution_count": 260,
   "id": "7d0cdcc3-0b1b-46d2-a5d9-3b7b2fe08b55",
   "metadata": {},
   "outputs": [
    {
     "data": {
      "text/html": [
       "<div>\n",
       "<style scoped>\n",
       "    .dataframe tbody tr th:only-of-type {\n",
       "        vertical-align: middle;\n",
       "    }\n",
       "\n",
       "    .dataframe tbody tr th {\n",
       "        vertical-align: top;\n",
       "    }\n",
       "\n",
       "    .dataframe thead th {\n",
       "        text-align: right;\n",
       "    }\n",
       "</style>\n",
       "<table border=\"1\" class=\"dataframe\">\n",
       "  <thead>\n",
       "    <tr style=\"text-align: right;\">\n",
       "      <th></th>\n",
       "      <th>Instituição financeira</th>\n",
       "      <th>Código</th>\n",
       "      <th>TCB</th>\n",
       "      <th>TD</th>\n",
       "      <th>TC</th>\n",
       "      <th>SR</th>\n",
       "      <th>Segmento</th>\n",
       "      <th>Cidade</th>\n",
       "      <th>UF</th>\n",
       "      <th>Data</th>\n",
       "      <th>...</th>\n",
       "      <th>AA</th>\n",
       "      <th>A</th>\n",
       "      <th>B</th>\n",
       "      <th>C</th>\n",
       "      <th>D</th>\n",
       "      <th>E</th>\n",
       "      <th>F</th>\n",
       "      <th>G</th>\n",
       "      <th>H</th>\n",
       "      <th>Total Exterior</th>\n",
       "    </tr>\n",
       "  </thead>\n",
       "  <tbody>\n",
       "    <tr>\n",
       "      <th>1108</th>\n",
       "      <td>COOPERATIVA DE ECONOMIA E CREDITO MUTUO DOS EM...</td>\n",
       "      <td>27140946.0</td>\n",
       "      <td>b3S</td>\n",
       "      <td>I</td>\n",
       "      <td>2.0</td>\n",
       "      <td>S5</td>\n",
       "      <td>9.0</td>\n",
       "      <td>ITAPEMIRIM</td>\n",
       "      <td>ES</td>\n",
       "      <td>2022-06-01</td>\n",
       "      <td>...</td>\n",
       "      <td>0</td>\n",
       "      <td>27</td>\n",
       "      <td>3</td>\n",
       "      <td>0</td>\n",
       "      <td>0</td>\n",
       "      <td>1</td>\n",
       "      <td>0</td>\n",
       "      <td>0</td>\n",
       "      <td>0</td>\n",
       "      <td>0</td>\n",
       "    </tr>\n",
       "    <tr>\n",
       "      <th>1109</th>\n",
       "      <td>PÓLOCRED   SOCIEDADE DE CRÉDITO AO MICROEMPREE...</td>\n",
       "      <td>7945233.0</td>\n",
       "      <td>n1</td>\n",
       "      <td>I</td>\n",
       "      <td>2.0</td>\n",
       "      <td>S5</td>\n",
       "      <td>10.0</td>\n",
       "      <td>FLORIANOPOLIS</td>\n",
       "      <td>SC</td>\n",
       "      <td>2022-06-01</td>\n",
       "      <td>...</td>\n",
       "      <td>0</td>\n",
       "      <td>0</td>\n",
       "      <td>23</td>\n",
       "      <td>0</td>\n",
       "      <td>0</td>\n",
       "      <td>0</td>\n",
       "      <td>0</td>\n",
       "      <td>0</td>\n",
       "      <td>0</td>\n",
       "      <td>0</td>\n",
       "    </tr>\n",
       "    <tr>\n",
       "      <th>1110</th>\n",
       "      <td>CREDBRASIL - SOCIEDADE DE CRÉDITO AO MICROEMPR...</td>\n",
       "      <td>3635061.0</td>\n",
       "      <td>n1</td>\n",
       "      <td>I</td>\n",
       "      <td>2.0</td>\n",
       "      <td>S5</td>\n",
       "      <td>10.0</td>\n",
       "      <td>PAULINIA</td>\n",
       "      <td>SP</td>\n",
       "      <td>2022-06-01</td>\n",
       "      <td>...</td>\n",
       "      <td>0</td>\n",
       "      <td>0</td>\n",
       "      <td>4</td>\n",
       "      <td>0</td>\n",
       "      <td>0</td>\n",
       "      <td>0</td>\n",
       "      <td>0</td>\n",
       "      <td>5</td>\n",
       "      <td>5</td>\n",
       "      <td>0</td>\n",
       "    </tr>\n",
       "    <tr>\n",
       "      <th>1111</th>\n",
       "      <td>COOPERATIVA DE CRÉDITO RURAL DOS AGROPECUARIST...</td>\n",
       "      <td>50334234.0</td>\n",
       "      <td>b3S</td>\n",
       "      <td>I</td>\n",
       "      <td>2.0</td>\n",
       "      <td>S5</td>\n",
       "      <td>9.0</td>\n",
       "      <td>PORTO FELIZ</td>\n",
       "      <td>SP</td>\n",
       "      <td>2022-06-01</td>\n",
       "      <td>...</td>\n",
       "      <td>0</td>\n",
       "      <td>0</td>\n",
       "      <td>0</td>\n",
       "      <td>0</td>\n",
       "      <td>0</td>\n",
       "      <td>0</td>\n",
       "      <td>0</td>\n",
       "      <td>0</td>\n",
       "      <td>2</td>\n",
       "      <td>0</td>\n",
       "    </tr>\n",
       "    <tr>\n",
       "      <th>1113</th>\n",
       "      <td>DMCARD SOCIEDADE DE CRÉDITO DIRETO S.A.</td>\n",
       "      <td>37555231.0</td>\n",
       "      <td>n1</td>\n",
       "      <td>I</td>\n",
       "      <td>2.0</td>\n",
       "      <td>S5</td>\n",
       "      <td>43.0</td>\n",
       "      <td>SAO JOSE DOS CAMPOS</td>\n",
       "      <td>SP</td>\n",
       "      <td>2022-06-01</td>\n",
       "      <td>...</td>\n",
       "      <td>0</td>\n",
       "      <td>2</td>\n",
       "      <td>0</td>\n",
       "      <td>0</td>\n",
       "      <td>0</td>\n",
       "      <td>0</td>\n",
       "      <td>0</td>\n",
       "      <td>0</td>\n",
       "      <td>0</td>\n",
       "      <td>0</td>\n",
       "    </tr>\n",
       "  </tbody>\n",
       "</table>\n",
       "<p>5 rows × 21 columns</p>\n",
       "</div>"
      ],
      "text/plain": [
       "                                 Instituição financeira      Código  TCB TD  \\\n",
       "1108  COOPERATIVA DE ECONOMIA E CREDITO MUTUO DOS EM...  27140946.0  b3S  I   \n",
       "1109  PÓLOCRED   SOCIEDADE DE CRÉDITO AO MICROEMPREE...   7945233.0   n1  I   \n",
       "1110  CREDBRASIL - SOCIEDADE DE CRÉDITO AO MICROEMPR...   3635061.0   n1  I   \n",
       "1111  COOPERATIVA DE CRÉDITO RURAL DOS AGROPECUARIST...  50334234.0  b3S  I   \n",
       "1113            DMCARD SOCIEDADE DE CRÉDITO DIRETO S.A.  37555231.0   n1  I   \n",
       "\n",
       "       TC  SR  Segmento               Cidade  UF       Data  ... AA   A   B  \\\n",
       "1108  2.0  S5       9.0           ITAPEMIRIM  ES 2022-06-01  ...  0  27   3   \n",
       "1109  2.0  S5      10.0        FLORIANOPOLIS  SC 2022-06-01  ...  0   0  23   \n",
       "1110  2.0  S5      10.0             PAULINIA  SP 2022-06-01  ...  0   0   4   \n",
       "1111  2.0  S5       9.0          PORTO FELIZ  SP 2022-06-01  ...  0   0   0   \n",
       "1113  2.0  S5      43.0  SAO JOSE DOS CAMPOS  SP 2022-06-01  ...  0   2   0   \n",
       "\n",
       "      C  D  E  F  G  H Total Exterior  \n",
       "1108  0  0  1  0  0  0              0  \n",
       "1109  0  0  0  0  0  0              0  \n",
       "1110  0  0  0  0  5  5              0  \n",
       "1111  0  0  0  0  0  2              0  \n",
       "1113  0  0  0  0  0  0              0  \n",
       "\n",
       "[5 rows x 21 columns]"
      ]
     },
     "execution_count": 260,
     "metadata": {},
     "output_type": "execute_result"
    }
   ],
   "source": [
    "baserisco.tail()"
   ]
  },
  {
   "cell_type": "code",
   "execution_count": 261,
   "id": "02121243-e09d-4162-a7aa-7f5784536083",
   "metadata": {},
   "outputs": [],
   "source": [
    "BaseConsolidada = basebcb"
   ]
  },
  {
   "cell_type": "code",
   "execution_count": 262,
   "id": "3ca8a5d4-f3ca-4d49-b624-fabdaa3290de",
   "metadata": {},
   "outputs": [],
   "source": [
    "BaseConsolidada = BaseConsolidada.merge(baserisco, left_on='Instituição financeira', right_on='Instituição financeira')"
   ]
  },
  {
   "cell_type": "code",
   "execution_count": 263,
   "id": "d1171590-b78b-4cdf-878f-102b087bbf54",
   "metadata": {},
   "outputs": [
    {
     "data": {
      "text/plain": [
       "Index(['Instituição financeira', 'Código_x', 'TCB_x', 'TD_x', 'TC_x', 'SR_x',\n",
       "       'Segmento_x', 'Cidade_x', 'UF_x', 'Data_x',\n",
       "       'Total da Carteira de Pessoa Física', 'EmpComFolha_v15',\n",
       "       'EmpComFolha_v90', 'EmpComFolha_v91a360', 'EmpComFolha_v361a1080',\n",
       "       'EmpComFolha_v1081a1800', 'EmpComFolha_v1081a5400', 'EmpComFolha_v1081',\n",
       "       'EmpComFolha_Total', 'EmpSemFolha_v15', 'EmpSemFolha_v90',\n",
       "       'EmpSemFolha_v91a360', 'EmpSemFolha_v361a1080',\n",
       "       'EmpSemFolha_v1081a1800', 'EmpSemFolha_v1081a5400', 'EmpSemFolha_v1081',\n",
       "       'EmpSemFolha_Total', 'Veiculos_v15', 'Veiculos_v90', 'Veiculos_v91a360',\n",
       "       'Veiculos_v361a1080', 'Veiculos_v1081a1800', 'Veiculos_v1081a5400',\n",
       "       'Veiculos_v1081', 'Veiculos_Total', 'Habitacao_v15', 'Habitacao_v90',\n",
       "       'Habitacao_v91a360', 'Habitacao_v361a1080', 'Habitacao_v1081a1800',\n",
       "       'Habitacao_v1081a5400', 'Habitacao_v1081', 'Habitacao_Total',\n",
       "       'Cartao_v15', 'Cartao_v90', 'Cartao_v91a360', 'Cartao_v361a1080',\n",
       "       'Cartao_v1081a1800', 'Cartao_v1081a5400', 'Cartao_v1081',\n",
       "       'Cartao_Total', 'RuralAgro_v15', 'RuralAgro_v90', 'RuralAgro_v91a360',\n",
       "       'RuralAgro_v361a1080', 'RuralAgro_v1081a1800', 'RuralAgro_v1081a5400',\n",
       "       'RuralAgro_v1081', 'RuralAgro_Total', 'Outros_v15', 'Outros_v90',\n",
       "       'Outros_v91a360', 'Outros_v361a1080', 'Outros_v1081a1800',\n",
       "       'Outros_v1081a5400', 'Outros_v1081', 'Outros_Total',\n",
       "       'Total Exterior Pessoa Física', 'EmpComFolha_perc', 'EmpSemFolha_perc',\n",
       "       'Veiculos_perc', 'Habitacao_perc', 'Cartao_perc', 'RuralAgro_perc',\n",
       "       'Outros_perc', 'Código_y', 'TCB_y', 'TD_y', 'TC_y', 'SR_y',\n",
       "       'Segmento_y', 'Cidade_y', 'UF_y', 'Data_y', 'Total_Geral', 'AA', 'A',\n",
       "       'B', 'C', 'D', 'E', 'F', 'G', 'H', 'Total Exterior'],\n",
       "      dtype='object')"
      ]
     },
     "execution_count": 263,
     "metadata": {},
     "output_type": "execute_result"
    }
   ],
   "source": [
    "BaseConsolidada.columns"
   ]
  },
  {
   "cell_type": "code",
   "execution_count": 316,
   "id": "a9ccc5f8-16b2-44a5-9773-def469ba9f2d",
   "metadata": {},
   "outputs": [],
   "source": [
    "BaseConsolidada= BaseConsolidada[BaseConsolidada['Total da Carteira de Pessoa Física']>0]\n",
    "\n"
   ]
  },
  {
   "cell_type": "code",
   "execution_count": 320,
   "id": "9c6e4b6d-fff6-43f7-8140-8ebd3c523548",
   "metadata": {},
   "outputs": [],
   "source": [
    "BaseConsolidada['perc_EmpComFolha_v15'] = BaseConsolidada['EmpComFolha_v15']/BaseConsolidada['Total da Carteira de Pessoa Física']\n",
    "BaseConsolidada['perc_EmpSemFolha_v15'] = BaseConsolidada['EmpSemFolha_v15']/BaseConsolidada['Total da Carteira de Pessoa Física']\n",
    "BaseConsolidada['perc_Veiculos_v15'] = BaseConsolidada['Veiculos_v15']/BaseConsolidada['Total da Carteira de Pessoa Física']\n",
    "BaseConsolidada['perc_Habitacao_v15'] = BaseConsolidada['Habitacao_v15']/BaseConsolidada['Total da Carteira de Pessoa Física']\n",
    "BaseConsolidada['perc_Cartao_v15'] = BaseConsolidada['Cartao_v15']/BaseConsolidada['Total da Carteira de Pessoa Física']\n",
    "BaseConsolidada['perc_RuralAgro_v15'] = BaseConsolidada['RuralAgro_v15']/BaseConsolidada['Total da Carteira de Pessoa Física']\n",
    "BaseConsolidada['perc_Outros_v15'] = BaseConsolidada['Outros_v15']/BaseConsolidada['Total da Carteira de Pessoa Física']\n",
    "\n",
    "\n",
    "\n",
    "\n"
   ]
  },
  {
   "cell_type": "code",
   "execution_count": 317,
   "id": "8d79582b-3bfa-4240-9b06-9b01bf331b52",
   "metadata": {},
   "outputs": [
    {
     "data": {
      "text/plain": [
       "<bound method NDFrame.describe of                                  Instituição financeira    Código_x TCB_x  \\\n",
       "0                               CAIXA ECONÔMICA FEDERAL     51626.0    b1   \n",
       "1                                                    BB     49906.0    b1   \n",
       "2                                                  ITAU     10069.0    b1   \n",
       "3                                              BRADESCO     10045.0    b1   \n",
       "4                                             SANTANDER     30379.0    b1   \n",
       "...                                                 ...         ...   ...   \n",
       "1042  CREDBRASIL - SOCIEDADE DE CRÉDITO AO MICROEMPR...   3635061.0    n1   \n",
       "1043         MONETARIE SOCIEDADE DE CRÉDITO DIRETO S.A.  46026562.0    n1   \n",
       "1044  COOPERATIVA DE CRÉDITO RURAL DOS AGROPECUARIST...  50334234.0   b3S   \n",
       "1045            DMCARD SOCIEDADE DE CRÉDITO DIRETO S.A.  37555231.0    n1   \n",
       "1046  BOM CRÉDITO   SOCIEDADE DE CRÉDITO AO MICROEMP...   5669150.0    n1   \n",
       "\n",
       "     TD_x  TC_x SR_x  Segmento_x             Cidade_x UF_x     Data_x  ...  \\\n",
       "0       C   1.0   S1       199.0             BRASILIA   DF 2022-06-01  ...   \n",
       "1       C   1.0   S1       199.0             BRASILIA   DF 2022-06-01  ...   \n",
       "2       C   2.0   S1       199.0            SAO PAULO   SP 2022-06-01  ...   \n",
       "3       C   2.0   S1       199.0               OSASCO   SP 2022-06-01  ...   \n",
       "4       C   3.0   S1       199.0            SAO PAULO   SP 2022-06-01  ...   \n",
       "...   ...   ...  ...         ...                  ...  ...        ...  ...   \n",
       "1042    I   2.0   S5        10.0             PAULINIA   SP 2022-06-01  ...   \n",
       "1043    I   2.0   S5        43.0         PORTO ALEGRE   RS 2022-06-01  ...   \n",
       "1044    I   2.0   S5         9.0          PORTO FELIZ   SP 2022-06-01  ...   \n",
       "1045    I   2.0   S5        43.0  SAO JOSE DOS CAMPOS   SP 2022-06-01  ...   \n",
       "1046    I   2.0   S5        10.0        VOLTA REDONDA   RJ 2022-06-01  ...   \n",
       "\n",
       "             AA          A          B          C         D         E        F  \\\n",
       "0     449928655  162852098  135735087  100183474  29901793   9206608  5479025   \n",
       "1     341406134  102861009  172594062   83805088  19496521   8498232  3956582   \n",
       "2     271245582  221846904   47998021   18233893   8216128   5578006  6482991   \n",
       "3     177809402  128109897  134221437   81142652  19610709  15347345  6505674   \n",
       "4     143456534  127141848   45023031   35423280  18493511   6886872  5329129   \n",
       "...         ...        ...        ...        ...       ...       ...      ...   \n",
       "1042          0          0          4          0         0         0        0   \n",
       "1043          0       1155          0          0         0         0        0   \n",
       "1044          0          0          0          0         0         0        0   \n",
       "1045          0          2          0          0         0         0        0   \n",
       "1046          0        112        132         46         0         0        0   \n",
       "\n",
       "             G         H Total Exterior  \n",
       "0     14136051  14438645              0  \n",
       "1      4095016  25725291       33253620  \n",
       "2      7147330  15069213      326658682  \n",
       "3      5149699  20238652       81912836  \n",
       "4      4882323  14633719       66547572  \n",
       "...        ...       ...            ...  \n",
       "1042         5         5              0  \n",
       "1043         0         0              0  \n",
       "1044         0         2              0  \n",
       "1045         0         0              0  \n",
       "1046         0        25              0  \n",
       "\n",
       "[1047 rows x 95 columns]>"
      ]
     },
     "execution_count": 317,
     "metadata": {},
     "output_type": "execute_result"
    }
   ],
   "source": [
    "BaseConsolidada.describe"
   ]
  },
  {
   "cell_type": "code",
   "execution_count": 321,
   "id": "68237fa4-dd54-4158-bb8d-3ac230a6089e",
   "metadata": {},
   "outputs": [],
   "source": [
    "X3 = BaseConsolidada[['A','B','C','D', 'E','F','G','H','perc_EmpComFolha_v15','perc_EmpSemFolha_v15','perc_Veiculos_v15','perc_Habitacao_v15','perc_Cartao_v15','perc_RuralAgro_v15','perc_Outros_v15']]\n",
    "\n",
    "#X3 = BaseConsolidada[['AA','A','B','C','D', 'E','F','G','H']]\n",
    "\n",
    "Vencidos = BaseConsolidada['EmpComFolha_v15'] +BaseConsolidada['EmpSemFolha_v15']+BaseConsolidada['Veiculos_v15']+BaseConsolidada['Habitacao_v15']+BaseConsolidada['Cartao_v15']+BaseConsolidada['RuralAgro_v15']+BaseConsolidada['Outros_v15'] \n",
    "y = BaseConsolidada['EmpComFolha_v15'] +BaseConsolidada['EmpSemFolha_v15']+BaseConsolidada['Veiculos_v15']+BaseConsolidada['Habitacao_v15']+BaseConsolidada['Cartao_v15']+BaseConsolidada['RuralAgro_v15']+BaseConsolidada['Outros_v15']"
   ]
  },
  {
   "cell_type": "code",
   "execution_count": 322,
   "id": "75c97f7f-df03-4357-a28b-32dca7e1e9ec",
   "metadata": {},
   "outputs": [],
   "source": [
    "y=y.astype('float')"
   ]
  },
  {
   "cell_type": "code",
   "execution_count": 323,
   "id": "0137cad6-342e-4ac2-953d-8a701faccd75",
   "metadata": {},
   "outputs": [],
   "source": [
    "X3_train, X3_test, y_train, y_test = train_test_split(X3, y, test_size = 0.3)"
   ]
  },
  {
   "cell_type": "code",
   "execution_count": 324,
   "id": "7eb6d474-e06e-4c9a-ab12-385e8ccc58c7",
   "metadata": {},
   "outputs": [],
   "source": []
  },
  {
   "cell_type": "code",
   "execution_count": null,
   "id": "588f8524-d739-4875-9cf5-911a2d68426b",
   "metadata": {},
   "outputs": [],
   "source": []
  },
  {
   "cell_type": "code",
   "execution_count": 325,
   "id": "f4955e9d-da67-434c-85b4-da19311cb3ba",
   "metadata": {},
   "outputs": [
    {
     "data": {
      "text/plain": [
       "LinearRegression()"
      ]
     },
     "execution_count": 325,
     "metadata": {},
     "output_type": "execute_result"
    }
   ],
   "source": [
    "from sklearn.linear_model import LinearRegression\n",
    "\n",
    "lin_reg = LinearRegression()\n",
    "lin_reg.fit(X3_train,y_train)"
   ]
  },
  {
   "cell_type": "code",
   "execution_count": 326,
   "id": "a5db8671-c067-4303-a265-53411b556499",
   "metadata": {},
   "outputs": [
    {
     "data": {
      "text/plain": [
       "64871.3438451485"
      ]
     },
     "execution_count": 326,
     "metadata": {},
     "output_type": "execute_result"
    }
   ],
   "source": [
    "from sklearn.metrics import mean_squared_error\n",
    "\n",
    "Vencpredictions = lin_reg.predict(X3_train)\n",
    "lin_mse = mean_squared_error(y_train, Vencpredictions)\n",
    "lin_rmse = np.sqrt(lin_mse)\n",
    "lin_rmse"
   ]
  },
  {
   "cell_type": "code",
   "execution_count": 327,
   "id": "7566ff04-bdea-42dc-a055-a142734117b7",
   "metadata": {},
   "outputs": [
    {
     "name": "stdout",
     "output_type": "stream",
     "text": [
      "Training score:  0.98\n"
     ]
    }
   ],
   "source": [
    "score = lin_reg.score(X3_train, y_train)\n",
    "print(\"Training score: \", round(score,2)) \n"
   ]
  },
  {
   "cell_type": "code",
   "execution_count": 328,
   "id": "5f09f026-f4ec-48c1-99a7-84b708d835bf",
   "metadata": {},
   "outputs": [
    {
     "data": {
      "text/plain": [
       "array([-4.53136058e-03, -6.19861456e-02, -6.65781042e-02, -9.48354890e-02,\n",
       "        1.78200661e-01,  1.59705602e+00,  4.49157981e-01,  5.74193642e-01,\n",
       "       -1.13466611e+05, -3.07803718e+04,  1.48971974e+06, -7.23732745e+04,\n",
       "        4.65442816e+05,  1.82705208e+05, -1.65198604e+04])"
      ]
     },
     "execution_count": 328,
     "metadata": {},
     "output_type": "execute_result"
    }
   ],
   "source": [
    "lin_reg.coef_"
   ]
  },
  {
   "cell_type": "code",
   "execution_count": 329,
   "id": "2e8c8d20-c399-46dc-9e70-690ea4c1f51b",
   "metadata": {},
   "outputs": [
    {
     "data": {
      "text/plain": [
       "6803.935365801975"
      ]
     },
     "execution_count": 329,
     "metadata": {},
     "output_type": "execute_result"
    }
   ],
   "source": [
    "lin_reg.intercept_"
   ]
  },
  {
   "cell_type": "code",
   "execution_count": null,
   "id": "c3bd1bec-a995-4af0-a81b-a5b62b670be5",
   "metadata": {},
   "outputs": [],
   "source": []
  }
 ],
 "metadata": {
  "kernelspec": {
   "display_name": "Python 3 (ipykernel)",
   "language": "python",
   "name": "python3"
  },
  "language_info": {
   "codemirror_mode": {
    "name": "ipython",
    "version": 3
   },
   "file_extension": ".py",
   "mimetype": "text/x-python",
   "name": "python",
   "nbconvert_exporter": "python",
   "pygments_lexer": "ipython3",
   "version": "3.9.12"
  }
 },
 "nbformat": 4,
 "nbformat_minor": 5
}
